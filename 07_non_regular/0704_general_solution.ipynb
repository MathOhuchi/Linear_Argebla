{
 "cells": [
  {
   "cell_type": "markdown",
   "metadata": {},
   "source": [
    "# 一般の行列の一般解\n",
    "\n",
    "一般的な連立方程式の例題，\n",
    "\n",
    "$$\\left\\{\\begin{array}{l}\n",
    "  x + 2y + 3z + 2u - v = -1 \\\\\n",
    " 2x + 4y + 6z + 2u     =  0 \\\\\n",
    "  x +  y + 2z      + v =  2 \\\\\n",
    "-3x - 4y - 7z - 3u     = -2 \\\\\n",
    "\\end{array} \\right.$$\n",
    "\n",
    "の拡大係数行列をLU分解することが出来ました．"
   ]
  },
  {
   "cell_type": "markdown",
   "metadata": {},
   "source": [
    "拡大階段行列$\\tilde{\\bf U}$は，\n",
    "\n",
    "$${\\bf U} =\n",
    "\\left(\\begin{array}{ccccc:c}\n",
    " 1 &  2 &  3 &  2 & -1 & -1 \\\\\n",
    " 0 & -1 & -1 & -2 &  2 &  3 \\\\\n",
    " 0 &  0 &  0 & -2 &  2 &  2 \\\\\n",
    " 0 &  0 &  0 &  0 &  0 &  0 \\\\\n",
    "\\end{array}\\right) $$\n",
    "\n",
    "となりました．\n",
    "\n",
    "Gaussの消去法では，この後に後退代入のプロセスを実施します．\n",
    "そのために，拡大階段行列を連立方程式に戻します．"
   ]
  },
  {
   "cell_type": "markdown",
   "metadata": {},
   "source": [
    "$$\\left\\{\\begin{array}{rl} \n",
    "x + 2y + 3z + 2u -  v = -1 & \\cdots (1)  \\\\\n",
    "- y - z - 2u + 2v =  3 & \\cdots (2)  \\\\\n",
    "- 2u + 2v =  2 & \\cdots (3)  \\\\\n",
    "0 =  0 & \\cdots (4)  \\\\\n",
    "\\end{array} \\right.$$"
   ]
  },
  {
   "cell_type": "markdown",
   "metadata": {},
   "source": [
    "ここでピボットに注目します．\n",
    "ピボットを係数に持つ変数とピボットを係数に持たない変数を区別します．\n",
    "\n",
    "| 変数 | ピボット | ピボット位置 |\n",
    "| :---: | :---:| :---: |\n",
    "| x |   1  | (1,1) |\n",
    "| y |  -1  | (2,2) |\n",
    "| z | なし |   -   |\n",
    "| u |  -2  | (3,4) |\n",
    "| v | なし |   -   |\n"
   ]
  },
  {
   "cell_type": "markdown",
   "metadata": {},
   "source": [
    "階段行列と変数を対応させると下記のようになります．\n",
    "ピボットは各括弧 $[ \\  ]$ で囲っています．\n",
    "\n",
    "$$\n",
    "\\left( \\begin{array}{c}\n",
    "x & y & z & u & v  \\\\ \\hline\n",
    "{\\bf [1]} &  2 &  3 &  2 & -1 \\\\\n",
    " 0 & {\\bf [-1]} & -1 & -2 &  2 \\\\\n",
    " 0 &  0 &  0 & {\\bf [-2]} &  2 \\\\\n",
    " 0 &  0 &  0 &  0 &  0  \\\\\n",
    "\\end{array} \\right) \n",
    "$$"
   ]
  },
  {
   "cell_type": "markdown",
   "metadata": {},
   "source": [
    "この<font color=blue>ピボットを係数に持たない変数を自由変数</font>と言います．\n",
    "ここでの自由変数は，$z$と$v$の2つです．\n",
    "自由変数は，任意の値をとることができます．\n",
    "そこで，$s,t \\in \\mathbb{R}$として，\n",
    "\n",
    "> $z = s$\n",
    "\n",
    "> $v = t$\n",
    "\n",
    "と置きます．"
   ]
  },
  {
   "cell_type": "markdown",
   "metadata": {},
   "source": [
    "式(3)に$v=t$を代入すると，\n",
    "\n",
    "> $u = t-1$\n",
    "\n",
    "が得られます．"
   ]
  },
  {
   "cell_type": "markdown",
   "metadata": {},
   "source": [
    "次に式(2)に，$z=s, v=t, u=t-1$を代入すると，\n",
    "\n",
    "> $y = -s-1$\n",
    "\n",
    "が得られます．"
   ]
  },
  {
   "cell_type": "markdown",
   "metadata": {},
   "source": [
    "ここまで求まった$z=s, v=t, u=t-1,y=-s-1$を式(1)に代入すると，\n",
    "\n",
    "> $x = -s-t+3$\n",
    "\n",
    "が得られます．"
   ]
  },
  {
   "cell_type": "markdown",
   "metadata": {},
   "source": [
    "これをまとめると，\n",
    "\n",
    "> $ {\\bf x} =\n",
    "\\left(\\begin{array}{c}\n",
    "x \\\\ y \\\\ z \\\\ u \\\\ v \\\\\n",
    "\\end{array}\\right)\n",
    "$\n",
    "$=\n",
    "\\left(\\begin{array}{c}\n",
    "-s-t+3 \\\\ -s-1 \\\\ s \\\\ t-1 \\\\ t \\\\\n",
    "\\end{array}\\right)\n",
    "$\n",
    "$=\n",
    "s\\left(\\begin{array}{c}\n",
    "-1 \\\\ -1 \\\\ 1 \\\\ 0 \\\\ 0 \\\\\n",
    "\\end{array}\\right)\n",
    "+\n",
    "t\\left(\\begin{array}{c}\n",
    "-1 \\\\ 0 \\\\ 0 \\\\ 1 \\\\ 1 \\\\\n",
    "\\end{array}\\right)\n",
    "+\n",
    "\\left(\\begin{array}{c}\n",
    "3 \\\\ -1 \\\\ 0 \\\\ -1 \\\\ 0 \\\\\n",
    "\\end{array}\\right)\n",
    "$"
   ]
  },
  {
   "cell_type": "markdown",
   "metadata": {},
   "source": [
    "したがって，連立方程式の完全な解は，実数ベクトル空間$\\mathbb{R}^5$の中で，パラメーター$s,t \\in \\mathbb{R}$を用いて定義される2次元平面になります．\n",
    "\n",
    "この方法が，無限個の解を持つ場合の解を求める解法となります．"
   ]
  },
  {
   "cell_type": "markdown",
   "metadata": {},
   "source": [
    "*****\n",
    "## 斉次方程式の解\n",
    "\n",
    "ここまでは連立方程式の定数項$\\bf b$が零ベクトルでない場合の解を求めましたが，定数項が零ベクトルの場合，すなわち，${\\bf Ax}={\\bf 0}$の解について調べてみましょう．\n",
    "方程式を行列で表現すると次のようになります．\n",
    "\n",
    "$ {\\bf Ax} =\n",
    "\\left(\\begin{array}{c}\n",
    " 1 &  2 &  3 &  2 & -1 \\\\\n",
    " 2 &  4 &  6 &  2 &  0 \\\\\n",
    " 1 &  1 &  2 &  0 &  1 \\\\\n",
    "-3 & -4 & -7 & -3 &  0 \\\\\n",
    "\\end{array}\\right) \n",
    "\\left(\\begin{array}{c}\n",
    "x \\\\ y \\\\ z \\\\ u \\\\ v \\\\\n",
    "\\end{array}\\right)\n",
    "$\n",
    "$=\n",
    "\\left(\\begin{array}{c}\n",
    "0 \\\\ 0 \\\\ 0 \\\\ 0 \\\\ 0 \\\\\n",
    "\\end{array}\\right)\n",
    "$\n",
    "$= {\\bf 0}\n",
    "$"
   ]
  },
  {
   "cell_type": "markdown",
   "metadata": {},
   "source": [
    "解の求め方は，${\\bf Ax}={\\bf b}$の場合と全く同じプロセスで求まりますので，結果だけを示します．\n",
    "\n",
    "> $ {\\bf x} =\n",
    "\\left(\\begin{array}{c}\n",
    "x \\\\ y \\\\ z \\\\ u \\\\ v \\\\\n",
    "\\end{array}\\right)\n",
    "$\n",
    "$=\n",
    "s\\left(\\begin{array}{c}\n",
    "-1 \\\\ -1 \\\\ 1 \\\\ 0 \\\\ 0 \\\\\n",
    "\\end{array}\\right)\n",
    "+\n",
    "t\\left(\\begin{array}{c}\n",
    "-1 \\\\ 0 \\\\ 0 \\\\ 1 \\\\ 1 \\\\\n",
    "\\end{array}\\right)\n",
    "$\n"
   ]
  },
  {
   "cell_type": "markdown",
   "metadata": {},
   "source": [
    "ここで，解に現れるベクトルを\n",
    "$ {\\bf w}_1 =\n",
    "\\left(\\begin{array}{c}\n",
    "-1 \\\\ -1 \\\\ 1 \\\\ 0 \\\\ 0 \\\\\n",
    "\\end{array}\\right) $\n",
    ", \n",
    "$ {\\bf w}_2 =\n",
    "\\left(\\begin{array}{c}\n",
    "-1 \\\\ 0 \\\\ 0 \\\\ 1 \\\\ 1 \\\\\n",
    "\\end{array}\\right) $\n",
    "とします．"
   ]
  },
  {
   "cell_type": "markdown",
   "metadata": {},
   "source": [
    "${\\bf Ax}={\\bf 0}$の解全体の集合を$\\bf W$とすると，次のように定義されます．\n",
    "\n",
    "> ${\\bf W} = \\{ {\\bf w} \\mid {\\bf w} = s{\\bf w}_1+t{\\bf w}_2, \\text{ where } s,t \\in \\mathbb{R}  \\}$\n",
    "\n",
    "そして，$\\bf W$は実数ベクトル空間$\\mathbb{R}_5$の2次元の線形部分空間となります．"
   ]
  },
  {
   "cell_type": "markdown",
   "metadata": {},
   "source": [
    "#### 線形部分空間になることの確認\n",
    "\n",
    "$\\bf W$に含まれる任意のベクトルを${\\bf p}, {\\bf q} \\in {\\bf W}$とします．\n",
    "すると，$s_1,t_1,s_2,t_2 \\in \\mathbb{R}$が存在して，\n",
    "\n",
    "${\\bf p} = s_1{\\bf w}_1 + t_1{\\bf w}_2$, <br>\n",
    "${\\bf q} = s_2{\\bf w}_1 + t_2{\\bf w}_2$\n",
    "\n",
    "と表せます．\n",
    "$a,b \\in \\mathbb{R}$として，$\\bf p$と$\\bf q$の線形結合を作ると，\n",
    "\n",
    "$a{\\bf p}+b{\\bf q} \n",
    "= a(s_1{\\bf w}_1 + t_1{\\bf w}_2) + b(s_2{\\bf w}_1 + t_2{\\bf w}_2) \n",
    "= (as_1+bs_2){\\bf w}_1 + (at_1+br_2){\\bf w}_2$\n",
    "\n",
    "となり，$a{\\bf p}+b{\\bf q} \\in {\\bf W}$であることが分かります．\n",
    "したがって，$\\bf W$は線形部分空間になっています．"
   ]
  },
  {
   "cell_type": "markdown",
   "metadata": {},
   "source": [
    "#### $\\bf W$が2次元であることの確認\n",
    "\n",
    "$\\bf W$が2次元であることを確認するには，${\\bf w}_1$と${\\bf w}_2$が線形独立であることを示せばよいので，\n",
    "$a{\\bf w}_1+b{\\bf w}_2={\\bf 0}$としたときに，$a=0$かつ$b=0$であることを確認します．\n",
    "$a{\\bf w}_1+b{\\bf w}_2={\\bf 0}$の要素で表すと次のようになります．\n",
    "\n",
    "$a\\left(\\begin{array}{c}\n",
    "-1 \\\\ -1 \\\\ 1 \\\\ 0 \\\\ 0 \\\\\n",
    "\\end{array}\\right)\n",
    "+\n",
    "b\\left(\\begin{array}{c}\n",
    "-1 \\\\ 0 \\\\ 0 \\\\ 1 \\\\ 1 \\\\\n",
    "\\end{array}\\right)\n",
    "$\n",
    "$=\n",
    "\\left(\\begin{array}{c}\n",
    "-a-b \\\\ -a \\\\ a \\\\ b \\\\ b \\\\\n",
    "\\end{array}\\right)\n",
    "$\n",
    "$=\n",
    "\\left(\\begin{array}{c}\n",
    "0 \\\\ 0 \\\\ 0 \\\\ 0 \\\\ 0 \\\\\n",
    "\\end{array}\\right)\n",
    "$"
   ]
  },
  {
   "cell_type": "markdown",
   "metadata": {},
   "source": [
    "この式を満たすためには，$a=0$かつ$b=0$しかありません．\n",
    "よって，${\\bf w}_1$と${\\bf w}_2$は線形独立なので，このベクトル空間は2次元となります．"
   ]
  },
  {
   "cell_type": "markdown",
   "metadata": {},
   "source": [
    "### 斉次方程式の解と線形写像の核\n",
    "\n",
    "さて，斉次方程式${\\bf Ax}={\\bf 0}$の解を線形写像の理論で解釈してみます．\n",
    "この係数行$\\bf A$は，$\\mathbb{R}^5$から$\\mathbb{R}^4$への線形写像となっています．\n",
    "斉次方程式の解である線形部分空間は，線形写像の定義により$\\bf A$の核$\\text{Ker}({\\bf A})$そのものです．\n",
    "\n",
    "非斉次方程式の解を見ると，ある定数ベクトルと核を足したものになっています．このときの定数ベクトルを特殊解と言います．\n",
    "\n",
    "${\\bf Ax}={\\bf b}$の例では特殊解は，\n",
    "$\\left(\\begin{array}{c}\n",
    "3 \\\\ -1 \\\\ 0 \\\\ -1 \\\\ 0 \\\\\n",
    "\\end{array}\\right)$\n",
    "となっています．\n",
    "\n",
    "斉次方程式の解は線形部分空間になっていましたが，非斉次方程式の解は線形部分空間ではないことに注意してください．"
   ]
  },
  {
   "cell_type": "markdown",
   "metadata": {},
   "source": [
    "*****\n",
    "以上で，連立方程式の解が無限個存在する場合の理論を習得しました．"
   ]
  }
 ],
 "metadata": {
  "kernelspec": {
   "display_name": "Python 3",
   "language": "python",
   "name": "python3"
  },
  "language_info": {
   "codemirror_mode": {
    "name": "ipython",
    "version": 3
   },
   "file_extension": ".py",
   "mimetype": "text/x-python",
   "name": "python",
   "nbconvert_exporter": "python",
   "pygments_lexer": "ipython3",
   "version": "3.6.1"
  }
 },
 "nbformat": 4,
 "nbformat_minor": 2
}
