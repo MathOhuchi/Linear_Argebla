{
 "cells": [
  {
   "cell_type": "markdown",
   "metadata": {},
   "source": [
    "# 一般行列のLDU分解\n",
    "\n",
    "長方形の行列\n",
    "$ {\\bf A} =\n",
    "\\left(\\begin{array}{c}\n",
    " 1 &  2 &  3 &  2 & -1 \\\\\n",
    " 2 &  4 &  6 &  2 &  0 \\\\\n",
    " 1 &  1 &  2 &  0 &  1 \\\\\n",
    "-3 & -4 & -7 & -3 &  0 \\\\\n",
    "\\end{array}\\right) $\n",
    "について，${\\bf PA}={\\bf LU}$分解を行いましたが，\n",
    "正方行列の例では更にLDU分解まで求めることが出来ました．\n",
    "\n",
    "長方形の行列においてもLDU分解を試みましょう．"
   ]
  },
  {
   "cell_type": "markdown",
   "metadata": {},
   "source": [
    "ここでは，LU分解の階段行列を$\\hat{\\bf U}$と置き換えて，求める上三角行列を$\\bf U$とします．\n",
    "${\\bf PA}={\\bf L}\\hat{\\bf U}$分解を再掲します．\n",
    "\n",
    "> \n",
    "$ {\\bf PA} =\n",
    "\\left(\\begin{array}{c}\n",
    " 1 & 0 & 0 & 0 \\\\\n",
    " 0 & 0 & 1 & 0 \\\\\n",
    " 0 & 1 & 0 & 0 \\\\\n",
    " 0 & 0 & 0 & 1 \\\\\n",
    "\\end{array}\\right)\n",
    "\\left(\\begin{array}{c}\n",
    " 1 &  2 &  3 &  2 & -1 \\\\\n",
    " 2 &  4 &  6 &  2 &  0 \\\\\n",
    " 1 &  1 &  2 &  0 &  1 \\\\\n",
    "-3 & -4 & -7 & -3 &  0 \\\\\n",
    "\\end{array}\\right)\n",
    "=\n",
    "\\left(\\begin{array}{c}\n",
    " 1 &  0 & 0 & 0 \\\\\n",
    " 1 &  1 & 0 & 0 \\\\\n",
    " 2 &  0 & 1 & 0 \\\\\n",
    "-3 & -2 & \\frac{1}{2} & 1 \\\\\n",
    "\\end{array}\\right)\n",
    "\\left(\\begin{array}{ccccc}\n",
    " 1 &  2 &  3 &  2 & -1 \\\\\n",
    " 0 & -1 & -1 & -2 &  2 \\\\\n",
    " 0 &  0 &  0 & -2 &  2 \\\\\n",
    " 0 &  0 &  0 &  0 &  0 \\\\\n",
    "\\end{array}\\right)\n",
    "= {\\bf L}\\hat{\\bf U}\n",
    "$"
   ]
  },
  {
   "cell_type": "markdown",
   "metadata": {},
   "source": [
    "ここで，\n",
    "${\\bf D}=\n",
    "\\left(\\begin{array}{ccccc}\n",
    " 1 &  0 & 0 &  0 & 0 \\\\\n",
    " 0 & -1 & 0 &  0 & 0 \\\\\n",
    " 0 &  0 & 0 & -2 & 0 \\\\\n",
    " 0 &  0 & 0 &  0 & 0 \\\\\n",
    "\\end{array}\\right) $\n",
    ", \n",
    "${\\bf U} =\n",
    "\\left(\\begin{array}{ccccc}\n",
    " 1 &  2 &  3 &  2 & -1 \\\\\n",
    " 0 &  1 &  1 &  2 & -2 \\\\\n",
    " 0 &  0 &  1 &  0 &  0 \\\\\n",
    " 0 &  0 &  0 &  1 & -1 \\\\\n",
    " 0 &  0 &  0 &  0 &  1 \\\\\n",
    "\\end{array}\\right) $\n",
    "とします．\n",
    "\n",
    "すると，${\\bf DU}=\\hat{\\bf U}$となります．"
   ]
  },
  {
   "cell_type": "markdown",
   "metadata": {},
   "source": [
    "したがって，${\\bf PA}={\\bf LDU}$分解は次のようになります．\n",
    "\n",
    "> \n",
    "$ {\\bf PA} =\n",
    "\\left(\\begin{array}{c}\n",
    " 1 & 0 & 0 & 0 \\\\\n",
    " 0 & 0 & 1 & 0 \\\\\n",
    " 0 & 1 & 0 & 0 \\\\\n",
    " 0 & 0 & 0 & 1 \\\\\n",
    "\\end{array}\\right)\n",
    "\\left(\\begin{array}{c}\n",
    " 1 &  2 &  3 &  2 & -1 \\\\\n",
    " 2 &  4 &  6 &  2 &  0 \\\\\n",
    " 1 &  1 &  2 &  0 &  1 \\\\\n",
    "-3 & -4 & -7 & -3 &  0 \\\\\n",
    "\\end{array}\\right) $<br>\n",
    "$ =\n",
    "\\left(\\begin{array}{c}\n",
    " 1 &  0 & 0 & 0 \\\\\n",
    " 1 &  1 & 0 & 0 \\\\\n",
    " 2 &  0 & 1 & 0 \\\\\n",
    "-3 & -2 & \\frac{1}{2} & 1 \\\\\n",
    "\\end{array}\\right)\n",
    "\\left(\\begin{array}{ccccc}\n",
    " 1 &  0 & 0 &  0 & 0 \\\\\n",
    " 0 & -1 & 0 &  0 & 0 \\\\\n",
    " 0 &  0 & 0 & -2 & 0 \\\\\n",
    " 0 &  0 & 0 &  0 & 0 \\\\\n",
    "\\end{array}\\right) \n",
    "\\left(\\begin{array}{ccccc}\n",
    " 1 &  2 &  3 &  2 & -1 \\\\\n",
    " 0 &  1 &  1 &  2 & -2 \\\\\n",
    " 0 &  0 &  1 &  0 &  0 \\\\\n",
    " 0 &  0 &  0 &  1 & -1 \\\\\n",
    " 0 &  0 &  0 &  0 &  1 \\\\\n",
    "\\end{array}\\right)\n",
    "= {\\bf L}{\\bf D}{\\bf U}\n",
    "$"
   ]
  },
  {
   "cell_type": "markdown",
   "metadata": {},
   "source": [
    "一般に，係数行列$\\bf A$が$m$行$n$列の行列とすると，LDU分解の各行列の特徴は次のようになります．\n",
    "\n",
    "- 下三角行列$\\bf L$：$m$次正方行列，対角成分は1，右上は全てゼロ\n",
    "- 対角階段行列$\\bf D$：$m$行$n$列の行列，ピボット以外は全てゼロ\n",
    "- 上三角行列$\\bf U$：$n$次正方行列，対角成分は1，左下は全てゼロ"
   ]
  },
  {
   "cell_type": "markdown",
   "metadata": {},
   "source": [
    "この分解における${\\bf DU}=\\hat{\\bf U}$をPythonで確認しておきましょう．"
   ]
  },
  {
   "cell_type": "code",
   "execution_count": 1,
   "metadata": {
    "collapsed": true
   },
   "outputs": [],
   "source": [
    "import numpy as np"
   ]
  },
  {
   "cell_type": "code",
   "execution_count": 2,
   "metadata": {},
   "outputs": [
    {
     "data": {
      "text/plain": [
       "array([[ 1,  0,  0,  0,  0],\n",
       "       [ 0, -1,  0,  0,  0],\n",
       "       [ 0,  0,  0, -2,  0],\n",
       "       [ 0,  0,  0,  0,  0]])"
      ]
     },
     "execution_count": 2,
     "metadata": {},
     "output_type": "execute_result"
    }
   ],
   "source": [
    "D = np.array([[1,0,0,0,0,],[0,-1,0,0,0],[0,0,0,-2,0],[0,0,0,0,0]])\n",
    "D"
   ]
  },
  {
   "cell_type": "code",
   "execution_count": 3,
   "metadata": {},
   "outputs": [
    {
     "data": {
      "text/plain": [
       "array([[ 1,  2,  3,  2, -1],\n",
       "       [ 0,  1,  1,  2, -2],\n",
       "       [ 0,  0,  1,  0,  0],\n",
       "       [ 0,  0,  0,  1, -1],\n",
       "       [ 0,  0,  0,  0,  1]])"
      ]
     },
     "execution_count": 3,
     "metadata": {},
     "output_type": "execute_result"
    }
   ],
   "source": [
    "U = np.array([[1,2,3,2,-1,],[0,1,1,2,-2],[0,0,1,0,0],[0,0,0,1,-1],[0,0,0,0,1]])\n",
    "U"
   ]
  },
  {
   "cell_type": "code",
   "execution_count": 4,
   "metadata": {},
   "outputs": [
    {
     "data": {
      "text/plain": [
       "array([[ 1,  2,  3,  2, -1],\n",
       "       [ 0, -1, -1, -2,  2],\n",
       "       [ 0,  0,  0, -2,  2],\n",
       "       [ 0,  0,  0,  0,  0]])"
      ]
     },
     "execution_count": 4,
     "metadata": {},
     "output_type": "execute_result"
    }
   ],
   "source": [
    "D.dot(U)"
   ]
  },
  {
   "cell_type": "markdown",
   "metadata": {},
   "source": [
    "以上で${\\bf LU}=\\hat{\\bf U}$が確認できました．\n",
    "*****"
   ]
  }
 ],
 "metadata": {
  "kernelspec": {
   "display_name": "Python 3",
   "language": "python",
   "name": "python3"
  },
  "language_info": {
   "codemirror_mode": {
    "name": "ipython",
    "version": 3
   },
   "file_extension": ".py",
   "mimetype": "text/x-python",
   "name": "python",
   "nbconvert_exporter": "python",
   "pygments_lexer": "ipython3",
   "version": "3.6.1"
  }
 },
 "nbformat": 4,
 "nbformat_minor": 2
}
