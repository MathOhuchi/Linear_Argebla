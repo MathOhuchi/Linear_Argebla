{
 "cells": [
  {
   "cell_type": "markdown",
   "metadata": {},
   "source": [
    "# 一般行列のLU分解\n",
    "\n",
    "5個の変数からなる4つの一次方程式からなる次の連立方程式について考えます．\n",
    "\n",
    "$\\left\\{\\begin{array}{l}\n",
    "  x + 2y + 3z + 2u - v = -1 \\\\\n",
    " 2x + 4y + 6z + 2u     =  0 \\\\\n",
    "  x +  y + 2z      + v =  2 \\\\\n",
    "-3x - 4y - 7z - 3u     = -2 \\\\\n",
    "\\end{array} \\right.$\n",
    "\n",
    "基本的には，これまでと同様に方程式から拡大係数を求めて，Gaussの消去法を適用していきます．\n"
   ]
  },
  {
   "cell_type": "markdown",
   "metadata": {},
   "source": [
    "係数行列$\\bf A$と拡大係数行列$\\tilde{\\bf A}$は次のようになります．\n",
    "\n",
    "$ {\\bf A} =\n",
    "\\left(\\begin{array}{c}\n",
    " 1 &  2 &  3 &  2 & -1 \\\\\n",
    " 2 &  4 &  6 &  2 &  0 \\\\\n",
    " 1 &  1 &  2 &  0 &  1 \\\\\n",
    "-3 & -4 & -7 & -3 &  0 \\\\\n",
    "\\end{array}\\right) $\n",
    ", \n",
    "$ \\tilde{\\bf A} =\n",
    "\\left(\\begin{array}{ccccc:c}\n",
    " 1 &  2 &  3 &  2 & -1 & -1 \\\\\n",
    " 2 &  4 &  6 &  2 &  0 &  0 \\\\\n",
    " 1 &  1 &  2 &  0 &  1 &  2 \\\\\n",
    "-3 & -4 & -7 & -3 &  0 & -2 \\\\\n",
    "\\end{array}\\right) $"
   ]
  },
  {
   "cell_type": "markdown",
   "metadata": {},
   "source": [
    "## Gaussの消去法によるLU分解\n",
    "\n",
    "拡大係数行列$\\tilde{\\bf A}$に対して，LU分解を適用します．\n",
    "\n",
    "まず，1列目の前進消去を行うために\n",
    "${\\bf R}_4(4,1;3){\\bf R}_4(3,1;-1){\\bf R}_4(2,1;-2)\n",
    "$\n",
    "$=\n",
    "\\left(\\begin{array}{c}\n",
    " 1 & 0 & 0 & 0 \\\\\n",
    "-2 & 1 & 0 & 0 \\\\\n",
    "-1 & 0 & 1 & 0 \\\\\n",
    " 3 & 0 & 0 & 1 \\\\\n",
    "\\end{array}\\right) $\n",
    "を$\\tilde{\\bf A}$の左から掛けます．"
   ]
  },
  {
   "cell_type": "markdown",
   "metadata": {},
   "source": [
    "${\\bf R}_4(4,1;3){\\bf R}_4(3,1;-1){\\bf R}_4(2,1;-2)\\tilde{\\bf A}\n",
    "$\n",
    "$=\n",
    "\\left(\\begin{array}{c}\n",
    " 1 & 0 & 0 & 0 \\\\\n",
    "-2 & 1 & 0 & 0 \\\\\n",
    "-1 & 0 & 1 & 0 \\\\\n",
    " 3 & 0 & 0 & 1 \\\\\n",
    "\\end{array}\\right)\n",
    "\\left(\\begin{array}{ccccc:c}\n",
    " 1 &  2 &  3 &  2 & -1 & -1 \\\\\n",
    " 2 &  4 &  6 &  2 &  0 &  0 \\\\\n",
    " 1 &  1 &  2 &  0 &  1 &  2 \\\\\n",
    "-3 & -4 & -7 & -3 &  0 & -2 \\\\\n",
    "\\end{array}\\right) \n",
    "$\n",
    "$=\n",
    "\\left(\\begin{array}{ccccc:c}\n",
    " 1 &  2 &  3 &  2 & -1 & -1 \\\\\n",
    " 0 &  0 &  0 & -2 &  2 &  2 \\\\\n",
    " 0 & -1 & -1 & -2 &  2 &  3 \\\\\n",
    " 0 &  2 &  2 &  3 & -3 & -5 \\\\\n",
    "\\end{array}\\right) $\n",
    "\n",
    "この結果の1行1列目が最初のピボットとなります．"
   ]
  },
  {
   "cell_type": "markdown",
   "metadata": {},
   "source": [
    "次に2列目の前進消去を行いたいのですが，2行2列目の値がゼロになっています．\n",
    "そこで，2行目と3行目の入替えを行います．\n",
    "上記の結果に，${\\bf P}_4(2,3)$を掛けると2行目と3行目が入れ替わります．\n",
    "さらに，この行の入替えをGaussの消去法の最初に行うように式変形を行います．\n",
    "\n",
    "$ {\\bf P}_4(2,3){\\bf R}_4(4,1;3){\\bf R}_4(3,1;-1){\\bf R}_4(2,1;-2)\\tilde{\\bf A}\n",
    "$\n",
    "$=\n",
    "{\\bf R}_4(4,1;3){\\bf R}_4(2,1;-1){\\bf R}_4(3,1;-2){\\bf P}_4(2,3)\\tilde{\\bf A} $"
   ]
  },
  {
   "cell_type": "markdown",
   "metadata": {},
   "source": [
    "これにより，\n",
    "\n",
    "$ {\\bf R}_4(4,1;3){\\bf R}_4(2,1;-1){\\bf R}_4(3,1;-2){\\bf P}_4(2,3)\\tilde{\\bf A}\n",
    "$\n",
    "$=\n",
    "\\left(\\begin{array}{ccccc:c}\n",
    " 1 &  2 &  3 &  2 & -1 & -1 \\\\\n",
    " 0 & -1 & -1 & -2 &  2 &  3 \\\\\n",
    " 0 &  0 &  0 & -2 &  2 &  2 \\\\\n",
    " 0 &  2 &  2 &  3 & -3 & -5 \\\\\n",
    "\\end{array}\\right) $\n",
    "\n",
    "となります．"
   ]
  },
  {
   "cell_type": "markdown",
   "metadata": {},
   "source": [
    "2列目の前進消去を行うために${\\bf R}_4(4,2;2)$を左から掛けます．\n",
    "\n",
    "$ {\\bf R}_4(4,2;2){\\bf R}_4(4,1;3){\\bf R}_4(2,1;-1){\\bf R}_4(3,1;-2){\\bf P}_4(2,3)\\tilde{\\bf A}\n",
    "$\n",
    "$=\n",
    "\\left(\\begin{array}{c}\n",
    " 1 & 0 & 0 & 0 \\\\\n",
    " 0 & 1 & 0 & 0 \\\\\n",
    " 0 & 0 & 1 & 0 \\\\\n",
    " 0 & 2 & 0 & 1 \\\\\n",
    "\\end{array}\\right)\n",
    "\\left(\\begin{array}{ccccc:c}\n",
    " 1 &  2 &  3 &  2 & -1 & -1 \\\\\n",
    " 0 & -1 & -1 & -2 &  2 &  3 \\\\\n",
    " 0 &  0 &  0 & -2 &  2 &  2 \\\\\n",
    " 0 &  2 &  2 &  3 & -3 & -5 \\\\\n",
    "\\end{array}\\right) \n",
    "$\n",
    "$=\n",
    "\\left(\\begin{array}{ccccc:c}\n",
    " 1 &  2 &  3 &  2 & -1 & -1 \\\\\n",
    " 0 & -1 & -1 & -2 &  2 &  3 \\\\\n",
    " 0 &  0 &  0 & -2 &  2 &  2 \\\\\n",
    " 0 &  0 &  0 & -1 &  1 &  1 \\\\\n",
    "\\end{array}\\right)  \n",
    "$\n",
    "\n",
    "2列目と同時に3列目も前進消去されました．"
   ]
  },
  {
   "cell_type": "markdown",
   "metadata": {},
   "source": [
    "4行4列目の前進消去を行うために${\\bf R}_4(4,3;-\\frac{1}{2})$を左から掛けます．\n",
    "\n",
    "$ {\\bf R}_4(4,3;-\\frac{1}{2}){\\bf R}_4(4,2;2){\\bf R}_4(4,1;3){\\bf R}_4(2,1;-1){\\bf R}_4(3,1;-2){\\bf P}_4(2,3)\\tilde{\\bf A}\n",
    "$\n",
    "$=\n",
    "\\left(\\begin{array}{c}\n",
    " 1 & 0 & 0 & 0 \\\\\n",
    " 0 & 1 & 0 & 0 \\\\\n",
    " 0 & 0 & 1 & 0 \\\\\n",
    " 0 & 0 & -\\frac{1}{2} & 1 \\\\\n",
    "\\end{array}\\right)\n",
    "\\left(\\begin{array}{ccccc:c}\n",
    " 1 &  2 &  3 &  2 & -1 & -1 \\\\\n",
    " 0 & -1 & -1 & -2 &  2 &  3 \\\\\n",
    " 0 &  0 &  0 & -2 &  2 &  2 \\\\\n",
    " 0 &  0 &  0 & -1 &  1 &  1 \\\\\n",
    "\\end{array}\\right) \n",
    "$\n",
    "$=\n",
    "\\left(\\begin{array}{ccccc:c}\n",
    " 1 &  2 &  3 &  2 & -1 & -1 \\\\\n",
    " 0 & -1 & -1 & -2 &  2 &  3 \\\\\n",
    " 0 &  0 &  0 & -2 &  2 &  2 \\\\\n",
    " 0 &  0 &  0 &  0 &  0 &  0 \\\\\n",
    "\\end{array}\\right) $\n",
    "\n",
    "これで，階段行列$\\bf U$が求まりました．"
   ]
  },
  {
   "cell_type": "markdown",
   "metadata": {},
   "source": [
    "下三角行列$\\bf L$も求めてみましょう．\n",
    "\n",
    "$ \\{ {\\bf R}_4(4,3;-\\frac{1}{2}){\\bf R}_4(4,2;2){\\bf R}_4(4,1;3){\\bf R}_4(2,1;-1){\\bf R}_4(3,1;-2) \\}^{-1} $ <br>\n",
    "$ =\n",
    "\\{ {\\bf R}_4(3,1;-2) \\}^{-1}\n",
    "\\{ {\\bf R}_4(2,1;-1) \\}^{-1}\n",
    "\\{ {\\bf R}_4(4,1;3) \\}^{-1}\n",
    "\\{ {\\bf R}_4(4,2;2) \\}^{-1}\n",
    "\\{ {\\bf R}_4(4,3;-\\frac{1}{2}) \\}^{-1} $ <br>\n",
    "$ =\n",
    "{\\bf R}_4(3,1;2) \n",
    "{\\bf R}_4(2,1;1) \n",
    "{\\bf R}_4(4,1;-3) \n",
    "{\\bf R}_4(4,2;-2) \n",
    "{\\bf R}_4(4,3;\\frac{1}{2}) $ <br>\n",
    "$ =\n",
    "\\left(\\begin{array}{c}\n",
    " 1 &  0 & 0 & 0 \\\\\n",
    " 1 &  1 & 0 & 0 \\\\\n",
    " 2 &  0 & 1 & 0 \\\\\n",
    "-3 & -2 & \\frac{1}{2} & 1 \\\\\n",
    "\\end{array}\\right)\n",
    "$"
   ]
  },
  {
   "cell_type": "markdown",
   "metadata": {},
   "source": [
    "以上で一般的な$n$変数の$m$個の一次方程式による連立方程式に関連する係数行列について，${\\bf PA}={\\bf LU}$分解を求めることが出来ました．\n",
    "\n",
    "> \n",
    "$ {\\bf PA} \n",
    "$\n",
    "$=\n",
    "\\left(\\begin{array}{c}\n",
    " 1 & 0 & 0 & 0 \\\\\n",
    " 0 & 0 & 1 & 0 \\\\\n",
    " 0 & 1 & 0 & 0 \\\\\n",
    " 0 & 0 & 0 & 1 \\\\\n",
    "\\end{array}\\right)\n",
    "\\left(\\begin{array}{c}\n",
    " 1 &  2 &  3 &  2 & -1 \\\\\n",
    " 2 &  4 &  6 &  2 &  0 \\\\\n",
    " 1 &  1 &  2 &  0 &  1 \\\\\n",
    "-3 & -4 & -7 & -3 &  0 \\\\\n",
    "\\end{array}\\right)\n",
    "$\n",
    "$=\n",
    "\\left(\\begin{array}{c}\n",
    " 1 &  0 & 0 & 0 \\\\\n",
    " 1 &  1 & 0 & 0 \\\\\n",
    " 2 &  0 & 1 & 0 \\\\\n",
    "-3 & -2 & \\frac{1}{2} & 1 \\\\\n",
    "\\end{array}\\right)\n",
    "\\left(\\begin{array}{ccccc}\n",
    " 1 &  2 &  3 &  2 & -1 \\\\\n",
    " 0 & -1 & -1 & -2 &  2 \\\\\n",
    " 0 &  0 &  0 & -2 &  2 \\\\\n",
    " 0 &  0 &  0 &  0 &  0 \\\\\n",
    "\\end{array}\\right)\n",
    "$\n",
    "$= {\\bf LU}\n",
    "$"
   ]
  },
  {
   "cell_type": "markdown",
   "metadata": {},
   "source": [
    "*****\n",
    "### Pythonによる計算\n",
    "\n",
    "上記の事を，Pythonで検証してみます．\n",
    "まず，NumPyライブラリーをインポートします．"
   ]
  },
  {
   "cell_type": "code",
   "execution_count": 1,
   "metadata": {
    "collapsed": true
   },
   "outputs": [],
   "source": [
    "import numpy as np"
   ]
  },
  {
   "cell_type": "markdown",
   "metadata": {},
   "source": [
    "変数名に$\\tilde{\\bf A}$は使えないので，拡大係数行列を変数AAとして定義します．\n",
    "\n",
    "$ {\\bf AA} =\n",
    "\\left(\\begin{array}{cccccc}\n",
    " 1 &  2 &  3 &  2 & -1 & -1 \\\\\n",
    " 2 &  4 &  6 &  2 &  0 &  0 \\\\\n",
    " 1 &  1 &  2 &  0 &  1 &  2 \\\\\n",
    "-3 & -4 & -7 & -3 &  0 & -2 \\\\\n",
    "\\end{array}\\right) $"
   ]
  },
  {
   "cell_type": "code",
   "execution_count": 2,
   "metadata": {
    "scrolled": true
   },
   "outputs": [
    {
     "data": {
      "text/plain": [
       "array([[ 1,  2,  3,  2, -1, -1],\n",
       "       [ 2,  4,  6,  2,  0,  0],\n",
       "       [ 1,  1,  2,  0,  1,  2],\n",
       "       [-3, -4, -7, -3,  0, -2]])"
      ]
     },
     "execution_count": 2,
     "metadata": {},
     "output_type": "execute_result"
    }
   ],
   "source": [
    "AA = np.array([[1,2,3,2,-1,-1],[2,4,6,2,0,0],[1,1,2,0,1,2],[-3,-4,-7,-3,0,-2]])\n",
    "AA"
   ]
  },
  {
   "cell_type": "markdown",
   "metadata": {},
   "source": [
    "1列目の前進消去を行うために基本行列の積で構成された行列を定義します．\n",
    "\n",
    "${\\bf R}1\n",
    "$\n",
    "$=\n",
    "\\left(\\begin{array}{c}\n",
    " 1 & 0 & 0 & 0 \\\\\n",
    "-2 & 1 & 0 & 0 \\\\\n",
    "-1 & 0 & 1 & 0 \\\\\n",
    " 3 & 0 & 0 & 1 \\\\\n",
    "\\end{array}\\right)\n",
    "$"
   ]
  },
  {
   "cell_type": "code",
   "execution_count": 3,
   "metadata": {},
   "outputs": [
    {
     "data": {
      "text/plain": [
       "array([[ 1,  0,  0,  0],\n",
       "       [-2,  1,  0,  0],\n",
       "       [-1,  0,  1,  0],\n",
       "       [ 3,  0,  0,  1]])"
      ]
     },
     "execution_count": 3,
     "metadata": {},
     "output_type": "execute_result"
    }
   ],
   "source": [
    "R1 = np.array([[1,0,0,0],[-2,1,0,0,],[-1,0,1,0],[3,0,0,1]])\n",
    "R1"
   ]
  },
  {
   "cell_type": "markdown",
   "metadata": {},
   "source": [
    "行列R1とAAとの積は，dot()メソッドを使用します．\n",
    "\n",
    "> R1.dot(AA)"
   ]
  },
  {
   "cell_type": "code",
   "execution_count": 4,
   "metadata": {},
   "outputs": [
    {
     "data": {
      "text/plain": [
       "array([[ 1,  2,  3,  2, -1, -1],\n",
       "       [ 0,  0,  0, -2,  2,  2],\n",
       "       [ 0, -1, -1, -2,  2,  3],\n",
       "       [ 0,  2,  2,  3, -3, -5]])"
      ]
     },
     "execution_count": 4,
     "metadata": {},
     "output_type": "execute_result"
    }
   ],
   "source": [
    "R1.dot(AA)"
   ]
  },
  {
   "cell_type": "markdown",
   "metadata": {},
   "source": [
    "確かに1列目の前進消去が完了しました．\n",
    "最初のピボットは1行1列目で値が1となっています．\n",
    "\n",
    "次に2列目の前進消去ですが，2行2列目がゼロなので，2行目と3行目を入替える行列を定義します．\n",
    "\n",
    "$ {\\bf P} =\n",
    "\\left(\\begin{array}{c}\n",
    " 1 & 0 & 0 & 0 \\\\\n",
    " 0 & 0 & 1 & 0 \\\\\n",
    " 0 & 1 & 0 & 0 \\\\\n",
    " 0 & 0 & 0 & 1 \\\\\n",
    "\\end{array}\\right) $"
   ]
  },
  {
   "cell_type": "code",
   "execution_count": 5,
   "metadata": {},
   "outputs": [
    {
     "data": {
      "text/plain": [
       "array([[1, 0, 0, 0],\n",
       "       [0, 0, 1, 0],\n",
       "       [0, 1, 0, 0],\n",
       "       [0, 0, 0, 1]])"
      ]
     },
     "execution_count": 5,
     "metadata": {},
     "output_type": "execute_result"
    }
   ],
   "source": [
    "P = np.array([[1,0,0,0],[0,0,1,0],[0,1,0,0],[0,0,0,1]])\n",
    "P"
   ]
  },
  {
   "cell_type": "markdown",
   "metadata": {},
   "source": [
    "この行列によって，2行目と3行目を入替えるには，やはりdot()メソッドを使用します．"
   ]
  },
  {
   "cell_type": "code",
   "execution_count": 6,
   "metadata": {},
   "outputs": [
    {
     "data": {
      "text/plain": [
       "array([[ 1,  2,  3,  2, -1, -1],\n",
       "       [ 0, -1, -1, -2,  2,  3],\n",
       "       [ 0,  0,  0, -2,  2,  2],\n",
       "       [ 0,  2,  2,  3, -3, -5]])"
      ]
     },
     "execution_count": 6,
     "metadata": {},
     "output_type": "execute_result"
    }
   ],
   "source": [
    "P.dot(R1.dot(AA))"
   ]
  },
  {
   "cell_type": "markdown",
   "metadata": {},
   "source": [
    "行を入替えを拡大係数行列に最初に適用します．\n",
    "その影響を受ける1列目の前進消去用の行列を求めます．  \n",
    "その方法は，行列RR1を行列Pで両側から挟むことによって得られます．\n",
    "この結果の行列をRR1とします．\n",
    "\n",
    "> RR1 = P.dot(R1.dot(P))"
   ]
  },
  {
   "cell_type": "code",
   "execution_count": 7,
   "metadata": {},
   "outputs": [
    {
     "data": {
      "text/plain": [
       "array([[ 1,  0,  0,  0],\n",
       "       [-1,  1,  0,  0],\n",
       "       [-2,  0,  1,  0],\n",
       "       [ 3,  0,  0,  1]])"
      ]
     },
     "execution_count": 7,
     "metadata": {},
     "output_type": "execute_result"
    }
   ],
   "source": [
    "RR1 = P.dot(R1.dot(P))\n",
    "RR1"
   ]
  },
  {
   "cell_type": "markdown",
   "metadata": {},
   "source": [
    "2行目と3行目を入替えた拡大係数行列の1列目を前進消去した結果が，これまで計算した結果と等しいことを確認します．\n",
    "\n",
    "$ \\left(\\begin{array}{cccccc}\n",
    " 1 &  2 &  3 &  2 & -1 & -1 \\\\\n",
    " 0 & -1 & -1 & -2 &  2 &  3 \\\\\n",
    " 0 &  0 &  0 & -2 &  2 &  2 \\\\\n",
    " 0 &  2 &  2 &  3 & -3 & -5 \\\\\n",
    "\\end{array}\\right)  $"
   ]
  },
  {
   "cell_type": "code",
   "execution_count": 8,
   "metadata": {},
   "outputs": [
    {
     "data": {
      "text/plain": [
       "array([[ 1,  2,  3,  2, -1, -1],\n",
       "       [ 0, -1, -1, -2,  2,  3],\n",
       "       [ 0,  0,  0, -2,  2,  2],\n",
       "       [ 0,  2,  2,  3, -3, -5]])"
      ]
     },
     "execution_count": 8,
     "metadata": {},
     "output_type": "execute_result"
    }
   ],
   "source": [
    "RR1.dot(P.dot(AA))"
   ]
  },
  {
   "cell_type": "markdown",
   "metadata": {},
   "source": [
    "2行2列目の値がゼロでないので，この値をピボットにして，2列目の前進消去を行います．\n",
    "\n",
    "$ {\\bf R}2 =\n",
    "\\left(\\begin{array}{c}\n",
    " 1 & 0 & 0 & 0 \\\\\n",
    " 0 & 1 & 0 & 0 \\\\\n",
    " 0 & 0 & 1 & 0 \\\\\n",
    " 0 & 2 & 0 & 1 \\\\\n",
    "\\end{array}\\right) $"
   ]
  },
  {
   "cell_type": "code",
   "execution_count": 9,
   "metadata": {},
   "outputs": [
    {
     "data": {
      "text/plain": [
       "array([[1, 0, 0, 0],\n",
       "       [0, 1, 0, 0],\n",
       "       [0, 0, 1, 0],\n",
       "       [0, 2, 0, 1]])"
      ]
     },
     "execution_count": 9,
     "metadata": {},
     "output_type": "execute_result"
    }
   ],
   "source": [
    "R2 = np.array([[1,0,0,0],[0,1,0,0],[0,0,1,0],[0,2,0,1]])\n",
    "R2"
   ]
  },
  {
   "cell_type": "markdown",
   "metadata": {},
   "source": [
    "2列目を前進消去した結果を確認します．\n",
    "\n",
    "$ \\left(\\begin{array}{cccccc}\n",
    " 1 &  2 &  3 &  2 & -1 & -1 \\\\\n",
    " 0 & -1 & -1 & -2 &  2 &  3 \\\\\n",
    " 0 &  0 &  0 & -2 &  2 &  2 \\\\\n",
    " 0 &  0 &  0 & -1 &  1 &  1 \\\\\n",
    "\\end{array}\\right)  $"
   ]
  },
  {
   "cell_type": "code",
   "execution_count": 10,
   "metadata": {},
   "outputs": [
    {
     "data": {
      "text/plain": [
       "array([[ 1,  2,  3,  2, -1, -1],\n",
       "       [ 0, -1, -1, -2,  2,  3],\n",
       "       [ 0,  0,  0, -2,  2,  2],\n",
       "       [ 0,  0,  0, -1,  1,  1]])"
      ]
     },
     "execution_count": 10,
     "metadata": {},
     "output_type": "execute_result"
    }
   ],
   "source": [
    "R2.dot(RR1.dot(P.dot(AA)))"
   ]
  },
  {
   "cell_type": "markdown",
   "metadata": {},
   "source": [
    "この結果では，2列目だけでなく，3列目の前進消去も済んでしまいました．\n",
    "\n",
    "次は，4列目の前進消去を実施します．\n",
    "そのための基本行列です．\n",
    "\n",
    "$ {\\bf R}3 =\n",
    "\\left(\\begin{array}{c}\n",
    " 1 & 0 & 0 & 0 \\\\\n",
    " 0 & 1 & 0 & 0 \\\\\n",
    " 0 & 0 & 1 & 0 \\\\\n",
    " 0 & 0 & -\\frac{1}{2} & 1 \\\\\n",
    "\\end{array}\\right) $"
   ]
  },
  {
   "cell_type": "code",
   "execution_count": 11,
   "metadata": {},
   "outputs": [
    {
     "data": {
      "text/plain": [
       "array([[ 1. ,  0. ,  0. ,  0. ],\n",
       "       [ 0. ,  1. ,  0. ,  0. ],\n",
       "       [ 0. ,  0. ,  1. ,  0. ],\n",
       "       [ 0. ,  0. , -0.5,  1. ]])"
      ]
     },
     "execution_count": 11,
     "metadata": {},
     "output_type": "execute_result"
    }
   ],
   "source": [
    "R3 = np.array([[1,0,0,0],[0,1,0,0],[0,0,1,0],[0,0,-1/2,1]])\n",
    "R3"
   ]
  },
  {
   "cell_type": "markdown",
   "metadata": {},
   "source": [
    "最終的に求まった階段行列を確認します．\n",
    "\n",
    "$ {\\bf U} =\n",
    "\\left(\\begin{array}{cccccc}\n",
    " 1 &  2 &  3 &  2 & -1 & -1 \\\\\n",
    " 0 & -1 & -1 & -2 &  2 &  3 \\\\\n",
    " 0 &  0 &  0 & -2 &  2 &  2 \\\\\n",
    " 0 &  0 &  0 &  0 &  0 &  0 \\\\\n",
    "\\end{array}\\right) $"
   ]
  },
  {
   "cell_type": "code",
   "execution_count": 12,
   "metadata": {},
   "outputs": [
    {
     "data": {
      "text/plain": [
       "array([[ 1.,  2.,  3.,  2., -1., -1.],\n",
       "       [ 0., -1., -1., -2.,  2.,  3.],\n",
       "       [ 0.,  0.,  0., -2.,  2.,  2.],\n",
       "       [ 0.,  0.,  0.,  0.,  0.,  0.]])"
      ]
     },
     "execution_count": 12,
     "metadata": {},
     "output_type": "execute_result"
    }
   ],
   "source": [
    "U = R3.dot(R2.dot(RR1.dot(P.dot(AA))))\n",
    "U"
   ]
  },
  {
   "cell_type": "markdown",
   "metadata": {},
   "source": [
    "この結果として，前進消去が完了しました．\n",
    "これで階段行列$\\bf U$が求まりました．\n",
    "\n",
    "この後，LU分解のもう片方の下三角行列を，前進消去に使用した行列の逆行列を計算することによって求めます．\n",
    "それらの行列は，\n",
    "${\\bf R}_4(i,j;r)^{-1}={\\bf R}_4(i,j;-r)$\n",
    "によって簡単に求まりますが，ここでは\n",
    "$({\\bf R}3{\\cdot}{\\bf R}2{\\cdot}{\\bf RR}1)^{-1} = ({\\bf RR}1)^{-1}({\\bf R}2)^{-1}({\\bf R}3)^{-1} $\n",
    "と式変形してから，NumPyの逆行列を求める<font color=green>numpy.linalg.inv()</font>関数を使用してみましょう．\n",
    "\n",
    "```Python\n",
    "L = np.linalg.inv(RR1).dot(np.linalg.inv(R2)).dot(np.linalg.inv(R3))\n",
    "```"
   ]
  },
  {
   "cell_type": "code",
   "execution_count": 13,
   "metadata": {},
   "outputs": [
    {
     "data": {
      "text/plain": [
       "array([[ 1. ,  0. ,  0. ,  0. ],\n",
       "       [ 1. ,  1. ,  0. ,  0. ],\n",
       "       [ 2. ,  0. ,  1. ,  0. ],\n",
       "       [-3. , -2. ,  0.5,  1. ]])"
      ]
     },
     "execution_count": 13,
     "metadata": {},
     "output_type": "execute_result"
    }
   ],
   "source": [
    "L = np.linalg.inv(RR1).dot(np.linalg.inv(R2)).dot(np.linalg.inv(R3))\n",
    "L"
   ]
  },
  {
   "cell_type": "markdown",
   "metadata": {},
   "source": [
    "このように求まった下三角行列$\\bf L$と階段行列$\\bf U$の積が行列${\\bf P}\\tilde{\\bf A}$に等しくなることを確認します．\n",
    "\n",
    "${\\bf P}\\tilde{\\bf A} =\n",
    "\\left(\\begin{array}{cccccc}\n",
    " 1 &  2 &  3 &  2 & -1 & -1 \\\\\n",
    " 1 &  1 &  2 &  0 &  1 &  2 \\\\\n",
    " 2 &  4 &  6 &  2 &  0 &  0 \\\\\n",
    "-3 & -4 & -7 & -3 &  0 & -2 \\\\\n",
    "\\end{array}\\right) $"
   ]
  },
  {
   "cell_type": "code",
   "execution_count": 14,
   "metadata": {},
   "outputs": [
    {
     "data": {
      "text/plain": [
       "array([[ 1.,  2.,  3.,  2., -1., -1.],\n",
       "       [ 1.,  1.,  2.,  0.,  1.,  2.],\n",
       "       [ 2.,  4.,  6.,  2.,  0.,  0.],\n",
       "       [-3., -4., -7., -3.,  0., -2.]])"
      ]
     },
     "execution_count": 14,
     "metadata": {},
     "output_type": "execute_result"
    }
   ],
   "source": [
    "L.dot(U)"
   ]
  },
  {
   "cell_type": "markdown",
   "metadata": {},
   "source": [
    "*****\n",
    "ここまで，一般の$n$変数についての$m$個の一次方程式による連立方程式について，行列に変換して${\\bf PA}={\\bf LU}$分解を行いましたが，これをPythonでも確認しました．"
   ]
  }
 ],
 "metadata": {
  "kernelspec": {
   "display_name": "Python 3",
   "language": "python",
   "name": "python3"
  },
  "language_info": {
   "codemirror_mode": {
    "name": "ipython",
    "version": 3
   },
   "file_extension": ".py",
   "mimetype": "text/x-python",
   "name": "python",
   "nbconvert_exporter": "python",
   "pygments_lexer": "ipython3",
   "version": "3.6.1"
  }
 },
 "nbformat": 4,
 "nbformat_minor": 2
}
