{
 "cells": [
  {
   "cell_type": "markdown",
   "metadata": {},
   "source": [
    "# 答えが単純でない連立方程式\n",
    "\n",
    "これまで解いてきた連立方程式では未知数の個数と方程式の個数が同じ場合を扱ってきました．\n",
    "さらに，必ず解が一つ存在する場合について扱ってきました．\n",
    "ところが，連立方程式への導入時の議論で，連立方程式には「**一意的に解けるもの**」，「**解が無限個存在するもの**」，「**解けないもの**」があることが分かっています．"
   ]
  },
  {
   "cell_type": "markdown",
   "metadata": {},
   "source": [
    "ここでは，それらの違いを行列の理論で明らかにします．\n",
    "最初に取扱った3種類の連立方程式を再度掲載します．\n",
    "\n",
    "#### (a) 一意的な解が存在するケース\n",
    "\n",
    "$\\left\\{\\begin{array}{lc}\n",
    " x + 3y = 5  & \\cdots (a1) \\\\ \n",
    "2x - 3y = 1  & \\cdots (a2) \\\\ \n",
    "\\end{array} \\right.$\n",
    "\n",
    "#### (b) 解が無限個存在するケース\n",
    "\n",
    "$\\left\\{\\begin{array}{lc}\n",
    " x + 3y = 5  & \\cdots (b1) \\\\ \n",
    "2x + 6y = 10 & \\cdots (b2) \\\\ \n",
    "\\end{array} \\right.$\n",
    "\n",
    "#### (c) 解が存在しないケース\n",
    "\n",
    "$\\left\\{\\begin{array}{lc}\n",
    " x + 3y = 5  & \\cdots (c1) \\\\ \n",
    "2x + 6y = 5  & \\cdots (c2) \\\\ \n",
    "\\end{array} \\right.$\n"
   ]
  },
  {
   "cell_type": "markdown",
   "metadata": {},
   "source": [
    "(a), (b), (c) のそれぞれについての係数行列を${\\bf A}$, ${\\bf B}$, ${\\bf C}$とします．\n",
    "明らかに，${\\bf B}={\\bf C}$となっています．\n",
    "\n",
    "${\\bf A} =\n",
    "\\left(\\begin{array}{cc}\n",
    "1 & 3 \\\\\n",
    "2 & -3 \\\\\n",
    "\\end{array}\\right) $, \n",
    "${\\bf B} =\n",
    "\\left(\\begin{array}{cc}\n",
    "1 & 3 \\\\\n",
    "2 & 6 \\\\\n",
    "\\end{array}\\right) $, \n",
    "${\\bf C} =\n",
    "\\left(\\begin{array}{cc}\n",
    "1 & 3 \\\\\n",
    "2 & 6 \\\\\n",
    "\\end{array}\\right) $"
   ]
  },
  {
   "cell_type": "markdown",
   "metadata": {},
   "source": [
    "拡大係数行列を$\\tilde{\\bf A}$, $\\tilde{\\bf B}$, $\\tilde{\\bf C}$とします．\n",
    "\n",
    "$\\tilde{\\bf A} =\n",
    "\\left(\\begin{array}{cc:c}\n",
    "1 & 3 & 5 \\\\\n",
    "2 & -3 & 1 \\\\\n",
    "\\end{array}\\right) $, \n",
    "$\\tilde{\\bf B} =\n",
    "\\left(\\begin{array}{cc:c}\n",
    "1 & 3 & 5 \\\\\n",
    "2 & 6 & 10 \\\\\n",
    "\\end{array}\\right) $, \n",
    "$\\tilde{\\bf C} =\n",
    "\\left(\\begin{array}{cc:c}\n",
    "1 & 3 & 5 \\\\\n",
    "2 & 6 & 5 \\\\\n",
    "\\end{array}\\right) $"
   ]
  },
  {
   "cell_type": "markdown",
   "metadata": {},
   "source": [
    "*****\n",
    "#### (a) 一意的な解が存在するケースについて，Gaussの消去法を適用します．\n",
    "\n",
    "${\\bf R}_2(2,1;-2)\\tilde{\\bf A} \n",
    "=$\n",
    "$\n",
    "\\left(\\begin{array}{cc}\n",
    "1 & 0  \\\\\n",
    "-2 & 1 \\\\\n",
    "\\end{array}\\right)\n",
    "\\left(\\begin{array}{cc:c}\n",
    "1 & 3 & 5 \\\\\n",
    "2 & -3 & 1 \\\\\n",
    "\\end{array}\\right)\n",
    "=$\n",
    "$\n",
    "\\left(\\begin{array}{cc:c}\n",
    "1 & 3 & 5 \\\\\n",
    "0 & -9 & -9 \\\\\n",
    "\\end{array}\\right) $\n",
    "\n",
    "上三角行列が求まりましたので，この後は後退代入を行えば解が求まります．"
   ]
  },
  {
   "cell_type": "markdown",
   "metadata": {},
   "source": [
    "ここで求まった上三角行列\n",
    "$ {\\bf U}_A =\n",
    "\\left(\\begin{array}{cc}\n",
    "1 & 3 \\\\\n",
    "0 & -9 \\\\\n",
    "\\end{array}\\right) $\n",
    "のランクを求めてみましょう．\n",
    "行列の**ランク**とは，その行列の値域の次元でした．\n",
    "\n",
    "<font color=blue>三角行列のランクは各行について，その成分が全てゼロでない行の行数</font>になります．\n",
    "この上三角行列${\\bf U}_A$は，1行目も2行目もゼロ行ベクトルではないので，そのランクは2となっています．\n",
    "また，基本行列による操作でランクは不変です．\n",
    "したがって，元の係数行列$\\bf A$のランクも$\\text{Rank}{\\bf A}=2$となります．"
   ]
  },
  {
   "cell_type": "markdown",
   "metadata": {},
   "source": [
    "この意味を考えてみます．\n",
    "行列$\\bf A$は2次元実数ベクトル空間上の線形変換でした．\n",
    "\n",
    "> ${\\bf A}:\\mathbb{R}^2 \\rightarrow \\mathbb{R}^2$\n",
    "\n",
    "$\\text{Rank}{\\bf A}=2$ということは，線形写像の値域が2次元であるということです．\n",
    "2次元実数ベクトル空間$\\mathbb{R}^2$の2次元線形部分空間は$\\mathbb{R}^2$自身です．\n",
    "すなわち，この線形写像は全射となります．よって，どんな${\\bf b} \\in \\mathbb{R}^2$であっても${\\bf Ax}={\\bf b}$となる${\\bf x} \\in \\mathbb{R}^2$が存在します．"
   ]
  },
  {
   "cell_type": "markdown",
   "metadata": {},
   "source": [
    "さら行列${\\bf U}_A$は正則なので，任意の${\\bf b} \\in \\mathbb{R}^2$に対して\n",
    "${\\bf x}={\\bf U}_A^{-1}{\\bf R}_2(2,1;-2){\\bf b}$\n",
    "と表せられるので，解は一意的です．\n",
    "\n",
    "以上が，線形代数理論による解釈です．"
   ]
  },
  {
   "cell_type": "markdown",
   "metadata": {},
   "source": [
    "*****\n",
    "#### (b) 解が無限個存在するケースについて，Gaussの消去法を適用します．\n",
    "\n",
    "${\\bf R}_2(2,1;-2)\\tilde{\\bf B} \n",
    "=$\n",
    "$\n",
    "\\left(\\begin{array}{cc}\n",
    "1 & 0  \\\\\n",
    "-2 & 1 \\\\\n",
    "\\end{array}\\right)\n",
    "\\left(\\begin{array}{cc:c}\n",
    "1 & 3 & 5 \\\\\n",
    "2 & 6 & 10 \\\\\n",
    "\\end{array}\\right)\n",
    "=$\n",
    "$\n",
    "\\left(\\begin{array}{cc:c}\n",
    "1 & 3 & 5 \\\\\n",
    "0 & 0 & 0 \\\\\n",
    "\\end{array}\\right) $\n",
    "\n",
    "このように上三角行列の対角成分にゼロが現れてしまいました．\n",
    "この後，後退代入を行おうと思っても，$0y=0$であるために$y$の値が定まりません．"
   ]
  },
  {
   "cell_type": "markdown",
   "metadata": {},
   "source": [
    "ここでGaussの消去法が行き詰ったように思えますが，頭を柔軟にして考え方ます．\n",
    "\n",
    "$y$の値が定まらないのであるから，任意の$t \\in \\mathbb{R}$によって$y=t$と表しても構わないはずです．\n",
    "そして，\n",
    "$\\left(\\begin{array}{cc:c}\n",
    "1 & 3 & 5 \\\\\n",
    "0 & 0 & 0 \\\\\n",
    "\\end{array}\\right)$\n",
    "の1行目から，$x+3y=5$なので，この式に$y=t$を代入すれば，$x=-3t+5$が得られます．"
   ]
  },
  {
   "cell_type": "markdown",
   "metadata": {},
   "source": [
    "これをまとめると，この連立方程式の解は，\n",
    "\n",
    "$\n",
    "\\left(\\begin{array}{c} x \\\\ y \\\\ \\end{array}\\right) \n",
    "=$\n",
    "$\n",
    "\\left(\\begin{array}{c} -3t+5 \\\\ t \\\\ \\end{array}\\right) \n",
    "=$\n",
    "$\n",
    "\\left(\\begin{array}{c} 5 \\\\ 0 \\\\ \\end{array}\\right) +\n",
    "t\\left(\\begin{array}{c} -3 \\\\ 1 \\\\ \\end{array}\\right) \n",
    "$\n",
    "\n",
    "となります．"
   ]
  },
  {
   "cell_type": "markdown",
   "metadata": {},
   "source": [
    "ここで，${\\bf B}{\\bf x}={\\bf 0}$という方程式を考えます．この定数項が零ベクトルになっている方程式を斉次方程式と言います．\n",
    "これに対して，${\\bf B}{\\bf x}={\\bf b}$で$\\bf b$が非零ベクトルの方程式を非斉次方程式と言います．\n",
    "\n",
    "上記の解の可変部分である $t\\left(\\begin{array}{c} -3 \\\\ 1 \\\\ \\end{array}\\right)$は，斉次方程式の解になっています．解のこの部分を斉次解と言います．\n",
    "\n",
    "上記の解の定数部分である$\\left(\\begin{array}{c} 5 \\\\ 0 \\\\ \\end{array}\\right)$を非斉次方程式の1つの特殊解と言います．\n",
    "\n",
    "非斉次方程式の一般解は，斉次解と特殊解の和で表されます．"
   ]
  },
  {
   "cell_type": "markdown",
   "metadata": {},
   "source": [
    "ちなみに，特殊解は1つではありません．\n",
    "例えば，下記も非斉次方程式の解として正解になります．\n",
    "\n",
    "$\n",
    "\\left(\\begin{array}{c} x \\\\ y \\\\ \\end{array}\\right) \n",
    "=$\n",
    "$\n",
    "\\left(\\begin{array}{c} 2 \\\\ 1 \\\\ \\end{array}\\right) +\n",
    "s\\left(\\begin{array}{c} -3 \\\\ 1 \\\\ \\end{array}\\right) \n",
    "$\n",
    "\n",
    "この式において$s=t-1$を代入すると，先に求めた解に一致します．"
   ]
  },
  {
   "cell_type": "markdown",
   "metadata": {},
   "source": [
    "係数行列$\\bf B$に対する上三角行列\n",
    "${\\bf U}_B =\n",
    "\\left(\\begin{array}{cc}\n",
    "1 & 3 \\\\\n",
    "0 & 0 \\\\\n",
    "\\end{array}\\right) $\n",
    "は，1行目だけが非ゼロ行ベクトルなので，そのランクは$\\text{Rank}{\\bf U}_B=1$となります．\n",
    "すなわち，係数行列$\\bf B$の値域は1次元の実数ベクトル空間となります．"
   ]
  },
  {
   "cell_type": "markdown",
   "metadata": {},
   "source": [
    "*****\n",
    "#### (c) 解が存在しないケースについて，Gaussの消去法を適用します．\n",
    "\n",
    "${\\bf R}_2(2,1;-2)\\tilde{\\bf B} \n",
    "=$\n",
    "$\n",
    "\\left(\\begin{array}{cc}\n",
    "1 & 0  \\\\\n",
    "-2 & 1 \\\\\n",
    "\\end{array}\\right)\n",
    "\\left(\\begin{array}{cc:c}\n",
    "1 & 3 & 5 \\\\\n",
    "2 & 6 & 5 \\\\\n",
    "\\end{array}\\right)\n",
    "=$\n",
    "$\n",
    "\\left(\\begin{array}{cc:c}\n",
    "1 & 3 & 5 \\\\\n",
    "0 & 0 & -5 \\\\\n",
    "\\end{array}\\right) $\n",
    "\n",
    "最後の行列の2行目を一次方程式に戻すと$0y=-5$となり，明らかに矛盾します．"
   ]
  },
  {
   "cell_type": "markdown",
   "metadata": {},
   "source": [
    "この連立方程式の斉次方程式の解は(b)のケースと同じ $t\\left(\\begin{array}{c} -3 \\\\ 1 \\\\ \\end{array}\\right)$となります．\n",
    "しかし，非斉次方程式の解が求まりません．\n",
    "よって，この連立方程式は**解無し**となります．\n",
    "後々，この解が存在しない連立方程式について，異なった解釈をして解を求めていきますが，現段階では「解無し」に留めておきます．"
   ]
  },
  {
   "cell_type": "markdown",
   "metadata": {},
   "source": [
    "*****\n",
    "この後，解が無限個存在するケースを深堀していきます．"
   ]
  }
 ],
 "metadata": {
  "kernelspec": {
   "display_name": "Python 3",
   "language": "python",
   "name": "python3"
  },
  "language_info": {
   "codemirror_mode": {
    "name": "ipython",
    "version": 3
   },
   "file_extension": ".py",
   "mimetype": "text/x-python",
   "name": "python",
   "nbconvert_exporter": "python",
   "pygments_lexer": "ipython3",
   "version": "3.6.1"
  }
 },
 "nbformat": 4,
 "nbformat_minor": 2
}
