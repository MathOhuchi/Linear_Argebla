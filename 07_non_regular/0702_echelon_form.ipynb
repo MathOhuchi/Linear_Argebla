{
 "cells": [
  {
   "cell_type": "markdown",
   "metadata": {},
   "source": [
    "# 一般の連立方程式\n",
    "\n",
    "これまでは係数行列が正方行列になるような連立方程式を扱ってきましたが，ここからは汎用化して$n$個の変数に対して$m$個の一次方程式で構成される連立方程式を扱います．\n"
   ]
  },
  {
   "cell_type": "markdown",
   "metadata": {},
   "source": [
    "$\\left\\{\\begin{array}{c}\n",
    "a_{11}x_{1}+a_{12}x_{2}+\\cdots+a_{1n}x_{n} = b_{1} \\\\\n",
    "a_{21}x_{1}+a_{22}x_{2}+\\cdots+a_{2n}x_{n} = b_{2} \\\\\n",
    "\\vdots \\\\\n",
    "a_{m1}x_{1}+a_{m2}x_{2}+\\cdots+a_{mn}x_{n} = b_{m} \\\\\n",
    "\\end{array} \\right.$\n",
    "\n",
    "ここで，$a_{ij},b_i \\in \\mathbb{R}$とします．"
   ]
  },
  {
   "cell_type": "markdown",
   "metadata": {},
   "source": [
    "この連立方程式に対応する行列方程式を${\\bf Ax}={\\bf b}$としたとき，<font color=blue>係数行列</font>は，\n",
    "\n",
    "> \n",
    "$ {\\bf A} =\n",
    "\\left(\\begin{array}{c}\n",
    "a_{11} & a_{12} & \\cdots & a_{1n} \\\\\n",
    "a_{21} & a_{22} & \\cdots & a_{2n} \\\\\n",
    "\\vdots & \\vdots & \\ddots & \\vdots \\\\\n",
    "a_{m1} & a_{m2} & \\cdots & a_{mn} \\\\\n",
    "\\end{array}\\right) $\n",
    "\n",
    "となります．"
   ]
  },
  {
   "cell_type": "markdown",
   "metadata": {},
   "source": [
    "また<font color=blue>拡大係数行列</font>は，\n",
    "\n",
    "> \n",
    "$ {\\bf A} =\n",
    "\\left(\\begin{array}{cccc:c}\n",
    "a_{11} & a_{12} & \\cdots & a_{1n} & b_1 \\\\\n",
    "a_{21} & a_{22} & \\cdots & a_{2n} & b_2 \\\\\n",
    "\\vdots & \\vdots & \\ddots & \\vdots & \\vdots \\\\\n",
    "a_{m1} & a_{m2} & \\cdots & a_{mn} & b_m \\\\\n",
    "\\end{array}\\right) $\n",
    "\n",
    "となります．"
   ]
  },
  {
   "cell_type": "markdown",
   "metadata": {},
   "source": [
    "## 線形空間における線形写像としての係数行列\n",
    "\n",
    "係数行列$\\bf A$は，n次元実数ベクトル空間$\\mathbb{R}^n$からm次元実数ベクトル空間$\\mathbb{R}^m$への線形写像を規定します．\n",
    "この線形写像を$T_A$と書くことにします．\n",
    "\n",
    "> $T_A:\\mathbb{R}^n \\rightarrow \\mathbb{R}^m$\n",
    "\n",
    "変数は\n",
    "${\\bf x} =\n",
    "\\left(\\begin{array}{c}\n",
    "x_1 \\\\ x_2 \\\\ \\vdots \\\\ x_n \\\\\n",
    "\\end{array}\\right) $\n",
    "と表され，${\\bf x} \\in \\mathbb{R}^n$です．\n",
    "\n",
    "また，非斉次項は\n",
    "${\\bf b} =\n",
    "\\left(\\begin{array}{c}\n",
    "b_1 \\\\ b_2 \\\\ \\vdots \\\\ b_m \\\\\n",
    "\\end{array}\\right) $\n",
    "なので，${\\bf b} \\in \\mathbb{R}^m$です．"
   ]
  },
  {
   "cell_type": "markdown",
   "metadata": {},
   "source": [
    "## 係数行列$\\bf A$のランク\n",
    "\n",
    "係数行列$\\bf A$のランクは線形写像を$T_A$の値域の次元です．\n",
    "この始域は$\\mathbb{R}^n$なので$n$次元です．よって，$\\text{Rank}({\\bf A}) \\le n$です．\n",
    "\n",
    "もし$\\text{Rank}({\\bf A})<m$ならば，値域が$\\mathbb{R}^m$を覆いつくすことはありません．\n",
    "したがって，値域に含まれないベクトル${\\bf b} \\in \\mathbb{R}^m$について方程式${\\bf Ax}={\\bf b}$の解が存在しないことになります．\n",
    "\n",
    "もし$\\text{Rank}({\\bf A})<n$ならば，始域の次元に対して値域の次元が$n-\\text{Rank}({\\bf A})$だけ小さくなっています．\n",
    "この$n-\\text{Rank}({\\bf A})$を退化次数と言います．\n",
    "退化次数は，線形写像$T_A$の核$\\text{Ker}(T_A)$の次元になります．\n",
    "$\\text{Ker}(T_A)$ですが，方程式の観点では斉次方程式${\\bf Ax}={\\bf 0}$の解全体と一致します．\n",
    "\n",
    "このようにランクは連立方程式の可解性を判定するための重要な情報となります．"
   ]
  },
  {
   "cell_type": "markdown",
   "metadata": {},
   "source": [
    "*****\n",
    "## 一般の連立方程式に対する戦略\n",
    "\n",
    "これまで見てきた連立方程式は，その係数行列が正方行列でした．\n",
    "そして，係数行列をLU分解しました．\n",
    "例えば，係数行列$\\bf A$が$n$次正方行列ならば，$\\bf L$は$n$次の下三角行列となり，$\\bf U$は$n$次の上三角行列となりました．\n",
    "\n",
    "これから扱う一般の連立方程式に対応する係数行列は，正方行列ではなく長方形になります．\n",
    "しかし，私達は長方形の係数行列にたいしてもLU分解を試みます．\n",
    "この戦略は正方行列の場合から一貫して変わりません．\n",
    "ただし，LU分解の行列$\\bf U$は上三角行列にはなりません．\n"
   ]
  },
  {
   "cell_type": "markdown",
   "metadata": {},
   "source": [
    "長方形の係数行列に対するLU分解のイメージを見て見ましょう．\n",
    "例として4行6列の係数行列$\\bf A$をLU分解したとします．\n",
    "ここではイメージだけですので，行列の具体的数値は伏せておきます．\n",
    "\n",
    "$ {\\bf A} =\n",
    "\\left(\\begin{array}{c}\n",
    "* & * & * & * & * & * \\\\\n",
    "* & * & * & * & * & * \\\\\n",
    "* & * & * & * & * & * \\\\\n",
    "* & * & * & * & * & * \\\\\n",
    "\\end{array}\\right) \n",
    "=\n",
    "\\left(\\begin{array}{c}\n",
    "1 & 0 & 0 & 0 \\\\\n",
    "* & 1 & 0 & 0 \\\\\n",
    "* & * & 1 & 0 \\\\\n",
    "* & * & * & 1 \\\\\n",
    "\\end{array}\\right) \n",
    "\\left(\\begin{array}{c}\n",
    "\\star & * & * & * & * & * \\\\\n",
    "0 & 0 & \\star & * & * & * \\\\\n",
    "0 & 0 & 0 & 0 & \\star & * \\\\\n",
    "0 & 0 & 0 & 0 & 0 & 0 \\\\\n",
    "\\end{array}\\right) \n",
    "=\n",
    "{\\bf LU}$"
   ]
  },
  {
   "cell_type": "markdown",
   "metadata": {},
   "source": [
    "ここで$*$は任意の数値が入ります．\n",
    "行列$\\bf L$は対角成分が全て1となる下三角行列となっています．\n",
    "行列$\\bf U$は係数行列$\\bf A$と同じ4行6列の長方形の行列となります．\n",
    "行列$\\bf U$は左下側がゼロで埋められているので上三角行列とよく似た形になります．\n",
    "ただし，どこまでがゼロになるかは与えられた係数行列によって異なります．\n",
    "\n",
    "この行列$\\bf U$を<font color=blue>階段行列</font>と言います．\n",
    "また，階段行列の中で$\\star$はゼロでない数値です．この要素のことを<font color=blue>ピボット</font>と言います．\n",
    "\n",
    "係数行列$\\bf A$のランクは階段行列$\\bf U$のランクと等しく，\n",
    "そして，ランクは階段行列内にあるピボットの個数となります．\n",
    "上記の例では，ピボットは3個なので，$\\text{Rank}({\\bf A})=3$となります．"
   ]
  },
  {
   "cell_type": "markdown",
   "metadata": {},
   "source": [
    "*****"
   ]
  }
 ],
 "metadata": {
  "kernelspec": {
   "display_name": "Python 3",
   "language": "python",
   "name": "python3"
  },
  "language_info": {
   "codemirror_mode": {
    "name": "ipython",
    "version": 3
   },
   "file_extension": ".py",
   "mimetype": "text/x-python",
   "name": "python",
   "nbconvert_exporter": "python",
   "pygments_lexer": "ipython3",
   "version": "3.6.1"
  }
 },
 "nbformat": 4,
 "nbformat_minor": 2
}
