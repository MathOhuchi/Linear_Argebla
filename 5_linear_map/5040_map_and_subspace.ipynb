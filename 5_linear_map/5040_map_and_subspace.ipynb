{
 "cells": [
  {
   "cell_type": "markdown",
   "metadata": {},
   "source": [
    "# 線形写像と線形部分空間\n",
    "\n",
    "線形写像が定義されると，それに伴って様々な部分空間が派生します．\n",
    "それらの部分空間を調べることによって，線形写像に関わる課題を解決することができます．\n",
    "\n",
    "- $\\bf V$：n次元の数ベクトル空間\n",
    "- $\\bf W$：m次元の数ベクトル空間\n",
    "- $T$：$\\bf V$から$\\bf W$への線形写像\n",
    "\n",
    "線形写像$T$の表現行列$\\bf A$を次のように表すことにします．\n",
    "\n",
    "${\\bf A}=\n",
    "\\left(\\begin{array}{cccc}\n",
    "a_{11} & a_{12} & \\cdots & a_{1n} \\\\ \n",
    "a_{21} & a_{22} & \\cdots & a_{2n} \\\\ \n",
    "\\vdots & \\vdots & \\ddots & \\vdots \\\\\n",
    "a_{m1} & a_{m2} & \\cdots & a_{mn} \\\\\n",
    "\\end{array} \\right) $"
   ]
  },
  {
   "cell_type": "markdown",
   "metadata": {
    "collapsed": true
   },
   "source": [
    "*****\n",
    "## 行列の列空間\n",
    "\n",
    "行列$\\bf A$を列に分解してみましょう．\n",
    "n個の列ベクトルを次のように定義します．\n",
    "\n",
    "${\\bf v}_1 = \\left(\\begin{array}{c} a_{11} \\\\ a_{21} \\\\ \\vdots \\\\ a_{m1} \\end{array}\\right) $, \n",
    "${\\bf v}_2 = \\left(\\begin{array}{c} a_{12} \\\\ a_{22} \\\\ \\vdots \\\\ a_{m2} \\end{array}\\right) $, \n",
    "$\\cdots$, \n",
    "${\\bf v}_n = \\left(\\begin{array}{c} a_{1n} \\\\ a_{2n} \\\\ \\vdots \\\\ a_{mn} \\end{array}\\right) $\n",
    "\n",
    "すると，行列$\\bf A$は次のように表すことができます．\n",
    "\n",
    "${\\bf A} = \\left(\\begin{array}{c} {\\bf v}_1 & {\\bf v}_2 & \\cdots & {\\bf v}_n \\end{array}\\right)$\n",
    "\n",
    "列ベクトル ${\\bf v}_1, {\\bf v}_2, \\cdots, {\\bf v}_n$ の線形結合でベクトル空間を生成します．\n",
    "この空間を行列$\\bf A$の<font color=blue>列ベクトル空間</font>と言います．"
   ]
  },
  {
   "cell_type": "markdown",
   "metadata": {},
   "source": [
    "列ベクトルの線形結合の係数となるスカラーを$x_1, x_2, \\cdots, x_n$と置くと，列ベクトルの線形結合によるベクトルは，\n",
    "\n",
    "$\n",
    "{\\bf v}_1x_1 + {\\bf v}_2x_2 + \\cdots + {\\bf v}_nx_n \n",
    "=\n",
    "\\left(\\begin{array}{c} {\\bf v}_1 & {\\bf v}_2 & \\cdots & {\\bf v}_n \\end{array}\\right)\n",
    "\\left(\\begin{array}{c} x_1 \\\\ x_2 \\\\ \\vdots \\\\ x_n \\end{array}\\right) \n",
    "=\n",
    "\\left(\\begin{array}{cccc}\n",
    "a_{11} & a_{12} & \\cdots & a_{1n} \\\\ \n",
    "a_{21} & a_{22} & \\cdots & a_{2n} \\\\ \n",
    "\\vdots & \\vdots & \\ddots & \\vdots \\\\\n",
    "a_{m1} & a_{m2} & \\cdots & a_{mn} \\\\\n",
    "\\end{array} \\right)\n",
    "\\left(\\begin{array}{c} x_1 \\\\ x_2 \\\\ \\vdots \\\\ x_n \\end{array}\\right) \n",
    "$\n",
    "\n",
    "と表されます．\n",
    "\n",
    "ここで，\n",
    "${\\bf x} = \\left(\\begin{array}{c} x_1 \\\\ x_2 \\\\ \\vdots \\\\ x_n \\end{array}\\right)$\n",
    "と置くと，${\\bf x}$が構成するベクトル空間はベクトル空間$\\bf V$と同型なので，\n",
    "列ベクトルによって生成されるベクトル空間は，行列$\\bf A$によって表現される線形写像$T$の像$T({\\bf V})$，すなわち，$\\text{Range}({\\bf A})$と一致します．\n",
    "この空間はベクトル空間$\\bf W$の線形部分空間となります．\n",
    "\n",
    "ここに至って次の3つは同じベクトル空間を表現しています．\n",
    "\n",
    "- 行列$\\bf A$の列ベクトル空間\n",
    "- 行列$\\bf A$の値域：$\\text{Range}({\\bf A})$\n",
    "- 行列$\\bf A$の像：${\\bf A}{\\bf V}$"
   ]
  },
  {
   "cell_type": "markdown",
   "metadata": {},
   "source": [
    "### 行列の階数（ランク）\n",
    "\n",
    "ベクトル空間上の線形写像$T$について，その像$\\text{Range}(T)$の次元を階数（ランク）と定義しました．\n",
    "有限次元のベクトル空間上の線形写像が行列で表現できるので，線形写像$T$の表現行列$\\bf A$の像$\\text{Range}({\\bf A})$の次元を<font color=blue>行列$\\bf A$の階数あるいはランク（Rank）</font>と言います．"
   ]
  },
  {
   "cell_type": "markdown",
   "metadata": {},
   "source": [
    "### 連立一次方程式と列ベクトル空間\n",
    "\n",
    "さて，n個の変数$x_1,x_2,\\cdots,x_n$についてのm個の連立1次方程式を見ていきましょう．\n",
    "連立方程式は，次式で表されます．\n",
    "\n",
    "$\\left\\{\\begin{array}{c}\n",
    "a_{11}x_1 + a_{12}x_2 + \\cdots + a_{1n}x_n = b_1 \\\\ \n",
    "a_{21}x_1 + a_{22}x_2 + \\cdots + a_{2n}x_n = b_2 \\\\\n",
    "\\vdots \\\\\n",
    "a_{m1}x_1 + a_{m2}x_2 + \\cdots + a_{mn}x_n = b_m \\\\\n",
    "\\end{array} \\right.$\n",
    "\n",
    "この式を行列にすると，\n",
    "\n",
    "$\n",
    "\\left(\\begin{array}{cccc}\n",
    "a_{11} & a_{12} & \\cdots & a_{1n} \\\\\n",
    "a_{21} & a_{22} & \\cdots & a_{2n} \\\\\n",
    "\\vdots & \\vdots & \\ddots & \\vdots \\\\\n",
    "a_{m1} & a_{m2} & \\cdots & a_{mn} \\\\\n",
    "\\end{array} \\right)\n",
    "\\left(\\begin{array}{cccc}\n",
    "x_1 \\\\ x_2 \\\\ \\vdots \\\\ x_n\n",
    "\\end{array} \\right)\n",
    "=\n",
    "\\left(\\begin{array}{cccc}\n",
    "b_1 \\\\ b_2 \\\\ \\vdots \\\\ b_m\n",
    "\\end{array} \\right)\n",
    "$\n",
    "\n",
    "となります．\n",
    "ここで，\n",
    "$ {\\bf A} =\n",
    "\\left(\\begin{array}{cccc}\n",
    "a_{11} & a_{12} & \\cdots & a_{1n} \\\\\n",
    "a_{21} & a_{22} & \\cdots & a_{2n} \\\\\n",
    "\\vdots & \\vdots & \\ddots & \\vdots \\\\\n",
    "a_{m1} & a_{m2} & \\cdots & a_{mn} \\\\\n",
    "\\end{array} \\right)$, \n",
    "$ {\\bf x} =\n",
    "\\left(\\begin{array}{cccc}\n",
    "x_1 \\\\ x_2 \\\\ \\vdots \\\\ x_n\n",
    "\\end{array} \\right)$, \n",
    "$ {\\bf b} =\n",
    "\\left(\\begin{array}{cccc}\n",
    "b_1 \\\\ b_2 \\\\ \\vdots \\\\ b_m\n",
    "\\end{array} \\right)$\n",
    "と置くと，\n",
    "${\\bf x} \\in {\\bf V}$, ${\\bf b} \\in {\\bf W}$であり，\n",
    "\n",
    "> ${\\bf A}: {\\bf V} \\rightarrow \\text{Range}({\\bf A}) \\subset {\\bf W}$\n",
    "\n",
    "となっています．\n",
    "もし，$\\bf A$のランクがベクトル空間$\\bf W$の次元と等しければ，$\\text{Range}({\\bf A}) = {\\bf W}$となります．\n",
    "すなわち，任意の${\\bf b} \\in {\\bf W}$に対して，\n",
    "${\\bf A}{\\bf x} = {\\bf b}$\n",
    "を満たす${\\bf x} \\in {\\bf V}$が存在します．\n",
    "よって，次の定理を得ることができます．"
   ]
  },
  {
   "cell_type": "markdown",
   "metadata": {},
   "source": [
    "### （定理）連立一次方程式の解の存在\n",
    "\n",
    "有限次元の数ベクトル空間$\\bf V$, $\\bf W$に対して，線形写像$T:{\\bf V} \\rightarrow {\\bf W}$の表現行列を$\\bf A$とする．\n",
    "このとき，\n",
    "\n",
    "1. \n",
    "ベクトル${\\bf b} \\in {\\bf W}$が$\\bf A$の列ベクトル空間に含まれる場合，つまり，${\\bf b} \\in \\text{Range}({\\bf A})$ならば，\n",
    "${\\bf A}{\\bf x} = {\\bf b}$となるベクトル${\\bf x} \\in {\\bf V}$が存在する．\n",
    "\n",
    "2.  \n",
    "行列$\\bf A$の階数（ランク）が$\\bf W$の次元と等しい場合，$\\text{Range}({\\bf A}) = {\\bf W}$となるので，\n",
    "任意の${\\bf b} \\in {\\bf W}$に対して${\\bf A}{\\bf x} = {\\bf b}$となるベクトル${\\bf x} \\in {\\bf V}$が存在する．\n",
    "\n",
    "この定理は，${\\bf A}{\\bf x} = {\\bf b}$で表現される連立一次方程式の解が存在する条件を示しています．"
   ]
  },
  {
   "cell_type": "markdown",
   "metadata": {},
   "source": [
    "*****\n",
    "## 行列の核（カーネル）\n",
    "\n",
    "線形写像$T:{\\bf V}\\rightarrow{\\bf W}$の表現行列$\\bf A$について，\n",
    "${\\bf A}{\\bf x}={\\bf 0}$を満たすベクトル${\\bf x} \\in {\\bf V}$の全体は，\n",
    "ベクトル空間$\\bf V$の線形部分空間になります．\n",
    "この線形部分空間を<font color=blue>行列$\\bf A$の核あるいはカーネル（Kernel）</font>と言い，<font color=blue>$\\text{Ker}({\\bf A})$</font>と表します．\n",
    "また別の言い方として，行列$\\bf A$の零空間と言うこともあります．\n",
    "\n",
    "$\\text{Ker}({\\bf A})$の次元を行列$\\bf A$の<font color=blue>退化次数</font>と言います．"
   ]
  },
  {
   "cell_type": "markdown",
   "metadata": {},
   "source": [
    "#### 核が線形部分空間であることの確認\n",
    "\n",
    "${\\bf x}, {\\bf y} \\in \\text{Ker}(A)$とします．\n",
    "定義より${\\bf A}{\\bf x}={\\bf 0}$および${\\bf A}{\\bf y}={\\bf 0}$が成り立っているので任意の$a,b \\in K$に対して，\n",
    "\n",
    "${\\bf A}(a{\\bf x}+b{\\bf y}) = \n",
    "a{\\bf A}({\\bf x})+b{\\bf A}({\\bf y}) =\n",
    "a{\\bf 0}+b{\\bf 0} = {\\bf 0}$\n",
    "\n",
    "となり，$\\text{Ker}({\\bf A})$が線形部分空間であることが分かります．"
   ]
  },
  {
   "cell_type": "markdown",
   "metadata": {},
   "source": [
    "### 連立方程式と核\n",
    "\n",
    "連立方程式${\\bf A}{\\bf x}={\\bf b}$の解が存在すると仮定して，その一つの解を${\\bf x}_0$とします．\n",
    "すると，任意の${\\bf y} \\in \\text{Ker}({\\bf A})$をとって，${\\bf x}' = {\\bf x}_0+{\\bf y}$とすると，\n",
    "${\\bf x}'$も連立方程式${\\bf A}{\\bf x}={\\bf b}$の解になります．\n",
    "なぜならば，\n",
    "\n",
    "${\\bf A}{\\bf x}' =\n",
    "{\\bf A}({\\bf x}_0+{\\bf y}) =\n",
    "{\\bf A}{\\bf x}_0+{\\bf A}{\\bf y} =\n",
    "{\\bf b}+{\\bf 0} =\n",
    "{\\bf b} $\n",
    "\n",
    "となることより分かります．"
   ]
  },
  {
   "cell_type": "markdown",
   "metadata": {},
   "source": [
    "### （定理）連立方程式の解の一意性\n",
    "\n",
    "行列$\\bf A$の核が零ベクトル空間のとき，すなわち，$\\text{Ker}({\\bf A})=\\{{\\bf 0}\\}$としたとき，\n",
    "連立方程式${\\bf A}{\\bf x}={\\bf b}$の解が存在すれば，それは1つに限る．\n",
    "このことを解の一意性と言います．\n",
    "\n",
    "#### 証明\n",
    "なぜならば，${\\bf x}_1,{\\bf x}_2 \\in {\\bf V}$連立方程式${\\bf A}{\\bf x}={\\bf b}$の異なる解とすると，\n",
    "\n",
    "${\\bf A}({\\bf x}_1-{\\bf x}_2) =\n",
    "{\\bf A}{\\bf x}_1-{\\bf A}{\\bf x}_2 =\n",
    "{\\bf b}-{\\bf b} = {\\bf 0}$\n",
    "\n",
    "となり，${\\bf x}_1-{\\bf x}_2 \\in \\text{Ker}({\\bf A})$となります．\n",
    "今$\\text{Ker}({\\bf A})=\\{{\\bf 0}\\}$を仮定しているので，\n",
    "\n",
    "${\\bf x}_1-{\\bf x}_2={\\bf 0}$\n",
    "\n",
    "となり，${\\bf x}_1={\\bf x}_2$が得られ，解の一意性が証明されました．"
   ]
  },
  {
   "cell_type": "markdown",
   "metadata": {},
   "source": [
    "*****\n",
    "## 線形写像に伴う部分空間のイメージ\n",
    "\n",
    "まず，線形写像$F:{\\bf V} \\rightarrow {\\bf W}$の一般的なイメージを図化します．\n",
    "\n",
    "![一般的な写像](./images/mapsubspace001.jpg)\n",
    "\n",
    "まず，$\\bf V$の全ての要素${\\bf x} \\in {\\bf V}$に対して，$F({\\bf x}) \\in {\\bf W}$が定義されています．\n",
    "\n",
    "また，線形写像$F$による$\\bf V$の像$\\text{Range}(F)=F({\\bf V})$は必ずしも$\\bf W$全体とは限りません．\n",
    "したがって，もし$F({\\bf V}) \\neq {\\bf W}$ならば，${\\bf b} \\in {\\bf W}{\\backslash}F({\\bf V})$に対して，\n",
    "$F({\\bf x})={\\bf b}$の解は存在しません．"
   ]
  },
  {
   "cell_type": "markdown",
   "metadata": {
    "collapsed": true
   },
   "source": [
    "次に，列ベクトル空間がベクトル空間$\\bf W$と一致する場合のイメージです．\n",
    "\n",
    "![全射の線形写像](./images/mapsubspace002.jpg)\n",
    "\n",
    "この場合，線形写像$F$による$\\bf V$の像$\\text{Range}(F)=F({\\bf V})$が$\\bf W$と一致します．\n",
    "したがって，任意の${\\bf b} \\in {\\bf W}$に対して，\n",
    "$F({\\bf x})={\\bf b}$の解は必ず存在します．"
   ]
  },
  {
   "cell_type": "markdown",
   "metadata": {},
   "source": [
    "最後に線形写像$F$の核についてのイメージを掲載します．\n",
    "\n",
    "![写像の核](./images/mapsubspace003.jpg)\n",
    "\n",
    "線形写像$F$の核$\\text{Ker}(F)$は，$F({\\bf x})={\\bf 0}$となる${\\bf x}$の集合で$\\bf V$の線形部分空間です．\n",
    "$\\text{Ker}(F) = \\{ {\\bf 0} \\}$ならば，$F({\\bf x})={\\bf b}$の解が存在すれば一意的です．"
   ]
  },
  {
   "cell_type": "markdown",
   "metadata": {},
   "source": [
    "*****"
   ]
  }
 ],
 "metadata": {
  "kernelspec": {
   "display_name": "Python 3",
   "language": "python",
   "name": "python3"
  },
  "language_info": {
   "codemirror_mode": {
    "name": "ipython",
    "version": 3
   },
   "file_extension": ".py",
   "mimetype": "text/x-python",
   "name": "python",
   "nbconvert_exporter": "python",
   "pygments_lexer": "ipython3",
   "version": "3.6.1"
  }
 },
 "nbformat": 4,
 "nbformat_minor": 2
}
