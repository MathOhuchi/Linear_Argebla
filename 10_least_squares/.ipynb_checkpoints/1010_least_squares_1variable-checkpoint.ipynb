{
 "cells": [
  {
   "cell_type": "markdown",
   "metadata": {},
   "source": [
    "# 解けない連立方程式\n",
    "\n",
    "これまで解ける連立方程式の理論を学んできましたが，現実的には解けない連立方程式に遭遇する状況が多くあります．\n",
    "それらの問題を「解無し」と済ましてしまうと，役に立たない線形代数になってしまいます．\n",
    "\n",
    "線形代数の理論においては，解けない連立方程式に対して最適な近似解を求める理論を提供しています．"
   ]
  },
  {
   "cell_type": "markdown",
   "metadata": {},
   "source": [
    "## 変数が1つの連立方程式\n",
    "\n",
    "非常にシンプルな例題を提示します．\n",
    "\n",
    "あるレアメタル発掘場において，その土壌にはほぼ均等にレアメタルが含まれているとのことです．\n",
    "掘り出した土石の量と，そこに含まれるレアメタルの含有量を計測しました．\n",
    "\n",
    "| 発掘ケース | 土石量 | レアメタル含有量 |\n",
    "| :---: | :---: | :---:|\n",
    "| 1 | $a_1$ | $b_1$ | \n",
    "| 2 | $a_2$ | $b_2$ |\n",
    "| 3 | $a_3$ | $b_3$ |\n",
    "| 4 | $a_4$ | $b_4$ |\n",
    "\n",
    "この結果から，土石量に対するレアメタルの含有量の比率を求めます．"
   ]
  },
  {
   "cell_type": "markdown",
   "metadata": {},
   "source": [
    "この測定結果を連立方程式にすると次のようになります．\n",
    "\n",
    "$ \\left\\{ \\begin{array}{c}\n",
    "a_1x = b_1 \\\\\n",
    "a_2x = b_2 \\\\\n",
    "a_3x = b_3 \\\\\n",
    "a_4x = b_4 \\\\\n",
    "\\end{array} \\right. $"
   ]
  },
  {
   "cell_type": "markdown",
   "metadata": {},
   "source": [
    "この方程式に現れるベクトルを\n",
    "${\\bf a} =\n",
    "\\left(\\begin{array}{c}\n",
    "a_1 \\\\ a_2 \\\\ a_3 \\\\ a_4 \\\\\n",
    "\\end{array}\\right)$，\n",
    "${\\bf b} =\n",
    "\\left(\\begin{array}{c}\n",
    "b_1 \\\\ b_2 \\\\ b_3 \\\\ b_4 \\\\\n",
    "\\end{array}\\right)$ \n",
    "としたとき，この連立方程式が解を持つためには，ある定数$k$があって${\\bf b} = k{\\bf a}$ が成立することです．\n",
    "すなわち，ベクトル$\\bf a$と$\\bf b$が線形従属である必要があります．\n",
    "しかし，本質的に2つの変量の間に線形関係があったとしても，現実的には様々な誤差の影響で線形従属は成立しません．"
   ]
  },
  {
   "cell_type": "markdown",
   "metadata": {},
   "source": [
    "## 近似解のアプローチ\n",
    "\n",
    "現実的な方法は，連立方程式の近似解を求めることです．\n",
    "\n",
    "最適な近似解を$\\tilde{\\bf x}$としたとき，望まれることは，誤差が最小になることです．\n",
    "誤差の評価方法は，連立方程式の左辺に近似解を代入したときの値を$\\tilde{\\bf b}$とし，$\\tilde{\\bf b}$と$\\bf b$との差を誤差として評価します．\n",
    "\n",
    "$ \\left\\{ \\begin{array}{c}\n",
    "a_1\\tilde{x} = \\tilde{b}_1 \\\\\n",
    "a_2\\tilde{x} = \\tilde{b}_2 \\\\\n",
    "a_3\\tilde{x} = \\tilde{b}_3 \\\\\n",
    "a_4\\tilde{x} = \\tilde{b}_4 \\\\\n",
    "\\end{array} \\right. $"
   ]
  },
  {
   "cell_type": "markdown",
   "metadata": {},
   "source": [
    "私達は既に内積によるノルムと距離を導入しているので，$\\tilde{\\bf b}$と$\\bf b$との誤差を$\\|\\tilde{\\bf b}-{\\bf b}\\|$として評価することができます．\n",
    "この誤差を$E$とします．\n",
    "ノルムの性質により$E \\geq 0$であるため，$E$を最小にすることは$E^2$を最小にすることと同値になります．\n",
    "よって，変数$x$の関数である，\n",
    "\n",
    "> $E^2 = {\\|x{\\bf a}-{\\bf b}\\|}^2$\n",
    "\n",
    "が最小値となる$x$の値を求める問題となります．\n",
    "この問題の解法は，<font color=blue>最小二乗法</font>と呼ばれています．"
   ]
  },
  {
   "cell_type": "markdown",
   "metadata": {},
   "source": [
    "まず，誤差の二乗の式を詳細に記述します．\n",
    "\n",
    "$E^2 = (a_1x-b_1)^2 + (a_2x-b_2)^2 + (a_3x-b_3)^2 + (a_4x-b_4)^2$\n",
    "\n",
    "この式は変数$x$の2次関数になっていて，$x^2$の係数は正の数になっています．\n",
    "なぜならば，$x^2$の係数は ${a_1}^2+{a_2}^2+{a_3}^2+{a_4}^2$ であり，暗黙の了解として$a_i \\neq a_j$であるためです．\n",
    "したがって，この関数は下に凸となります．\n",
    "\n",
    "下に凸の関数の最小値は，その微分がゼロになるところです．\n",
    "$\\frac{dE^2}{dx}$は次式となります．\n",
    "\n",
    "$\\displaystyle \\frac{dE^2}{dx} = 2a_1(a_1x-b_1)+2a_2(a_2x-b_2)+2a_3(a_3x-b_3)+2a_4(a_4x-b_4) $"
   ]
  },
  {
   "cell_type": "markdown",
   "metadata": {},
   "source": [
    "$\\frac{dE^2}{dx}=0$ の式変形を行います．\n",
    "\n",
    "$\\begin{eqnarray}\n",
    "2a_1(a_1x-b_1)+2a_2(a_2x-b_2)+2a_3(a_3x-b_3)+2a_4(a_4x-b_4) &=& 0 \\\\\n",
    "{a_1}^2x-a_1b_1+{a_2}^2x-a_2b_2+{a_3}^2x-a_3b_3+{a_4}^2x-a_4b_4 &=& 0 \\\\\n",
    "{a_1}^2x+{a_2}^2x+{a_3}^2x+{a_4}^2x &=& a_1b_1+a_2b_2+a_3b_3+a_4b_4 \\\\\n",
    "x &=& \\frac{a_1b_1+a_2b_2+a_3b_3+a_4b_4 }{{a_1}^2+{a_2}^2+{a_3}^2+{a_4}^2} \\\\\n",
    "x &=& \\frac{{\\bf a}^\\mathsf{T}{\\bf b}}{{\\bf a}^\\mathsf{T}{\\bf a}} \\\\\n",
    "x &=& \\frac{\\left<{\\bf a},{\\bf b}\\right>}{{\\|{\\bf a}\\|}^2}\n",
    "\\end{eqnarray}$"
   ]
  },
  {
   "cell_type": "markdown",
   "metadata": {},
   "source": [
    "したがって，$\\tilde{x} = \\frac{\\left<{\\bf a},{\\bf b}\\right>}{{\\|{\\bf a}\\|}^2}$が得られました．\n",
    "\n",
    "この結果で注目すべき点は，$\\tilde{x}$がベクトル$\\bf b$をベクトル$\\bf a$で構成される1次元の線形部分空間への射影の係数になっていることです．\n",
    "すなわち，最小二乗法で解を求めることは，定数項ベクトルを係数行列の像の成す線形部分空間への射影を求めることに他なりません．"
   ]
  },
  {
   "cell_type": "markdown",
   "metadata": {},
   "source": [
    "## 最小二乗法と射影\n",
    "\n",
    "ここで重要な結果を得ることが出来ました．\n",
    "それは，最小二乗法の論理展開においては微分や最適化の知識が必要でしたが，結果的にはベクトルの射影に帰結することが分かりました．\n",
    "\n",
    "> <font color=blue>最小二乗法はベクトルの射影</font>"
   ]
  },
  {
   "cell_type": "markdown",
   "metadata": {},
   "source": [
    "*****\n",
    "## Pythonによる解法\n",
    "\n",
    "ベクトル${\\bf a},{\\bf b}$が具体的に与えられている問題をPythonによって解いてみます．\n",
    "計算が分かりやすいように簡単な例として，次の連立方程式を扱います．\n",
    "\n",
    "$ \\left\\{ \\begin{array}{c}\n",
    " x = 5 \\\\\n",
    "2x = 5 \\\\\n",
    "3x = 6 \\\\\n",
    "4x = 7 \\\\\n",
    "\\end{array} \\right. $"
   ]
  },
  {
   "cell_type": "markdown",
   "metadata": {},
   "source": [
    "それでは，Pythonで行列計算を行うためにNumPyライブラリーをインポートします．"
   ]
  },
  {
   "cell_type": "code",
   "execution_count": 1,
   "metadata": {
    "collapsed": true
   },
   "outputs": [],
   "source": [
    "import numpy as np"
   ]
  },
  {
   "cell_type": "markdown",
   "metadata": {},
   "source": [
    "この問題では，\n",
    "${\\bf a} =\n",
    "\\left(\\begin{array}{c}\n",
    "1 \\\\ 2 \\\\ 3 \\\\ 4 \\\\\n",
    "\\end{array}\\right)$, \n",
    "${\\bf b} =\n",
    "\\left(\\begin{array}{c}\n",
    "5 \\\\ 5 \\\\ 6 \\\\ 7 \\\\\n",
    "\\end{array}\\right)$\n",
    "となっていますので，これらの変数を生成します．"
   ]
  },
  {
   "cell_type": "code",
   "execution_count": 2,
   "metadata": {},
   "outputs": [
    {
     "data": {
      "text/plain": [
       "array([1, 2, 3, 4])"
      ]
     },
     "execution_count": 2,
     "metadata": {},
     "output_type": "execute_result"
    }
   ],
   "source": [
    "a = np.array([1,2,3,4])\n",
    "a"
   ]
  },
  {
   "cell_type": "code",
   "execution_count": 3,
   "metadata": {
    "collapsed": true
   },
   "outputs": [],
   "source": [
    "b = np.array([5,5,6,7])"
   ]
  },
  {
   "cell_type": "markdown",
   "metadata": {},
   "source": [
    "求める解は，$x = \\frac{\\left<{\\bf a},{\\bf b}\\right>}{{\\|{\\bf a}\\|}^2}$です．\n",
    "ベクトルの内積はドット積で求めることができます．\n",
    "例えば$\\left<{\\bf a},{\\bf b}\\right>$は，\n",
    "\n",
    "> a.dot(b)\n",
    "\n",
    "と記載することができます．"
   ]
  },
  {
   "cell_type": "code",
   "execution_count": 4,
   "metadata": {},
   "outputs": [
    {
     "data": {
      "text/plain": [
       "61"
      ]
     },
     "execution_count": 4,
     "metadata": {},
     "output_type": "execute_result"
    }
   ],
   "source": [
    "a.dot(b)"
   ]
  },
  {
   "cell_type": "markdown",
   "metadata": {},
   "source": [
    "また，${\\|{\\bf a}\\|}^2 = \\left<{\\bf a},{\\bf a}\\right>$であったので，\n",
    "\n",
    "> a.dot(a)\n",
    "\n",
    "によってベクトル$\\bf a$のノルムの2乗を得ることができます．\n",
    "あるいは，numpy.linalg.norm()関数によってノルムを求めることもできます．"
   ]
  },
  {
   "cell_type": "code",
   "execution_count": 5,
   "metadata": {},
   "outputs": [
    {
     "data": {
      "text/plain": [
       "30"
      ]
     },
     "execution_count": 5,
     "metadata": {},
     "output_type": "execute_result"
    }
   ],
   "source": [
    "a.dot(a)"
   ]
  },
  {
   "cell_type": "code",
   "execution_count": 6,
   "metadata": {},
   "outputs": [
    {
     "data": {
      "text/plain": [
       "30.0"
      ]
     },
     "execution_count": 6,
     "metadata": {},
     "output_type": "execute_result"
    }
   ],
   "source": [
    "np.linalg.norm(a) ** 2"
   ]
  },
  {
   "cell_type": "markdown",
   "metadata": {},
   "source": [
    "ここではドット積を使用することにします．\n",
    "すると，最小二乗法による近似解は，\n",
    "\n",
    "> a.dot(b) / a.dot(a)\n",
    "\n",
    "によって計算されます．"
   ]
  },
  {
   "cell_type": "code",
   "execution_count": 7,
   "metadata": {},
   "outputs": [
    {
     "data": {
      "text/plain": [
       "2.0333333333333332"
      ]
     },
     "execution_count": 7,
     "metadata": {},
     "output_type": "execute_result"
    }
   ],
   "source": [
    "a.dot(b)/a.dot(a)"
   ]
  },
  {
   "cell_type": "markdown",
   "metadata": {},
   "source": [
    "以上のように，Pythonのドット積だけで最小二乗問題を解くことができました．\n",
    "このPythonによる計算について，線形代数の理論を理解していないとプログラムの意味が分かりません．\n",
    "**ツールに使われない**ためにも，線形代数の理論を身に付けましょう．\n",
    "*****"
   ]
  }
 ],
 "metadata": {
  "kernelspec": {
   "display_name": "Python 3",
   "language": "python",
   "name": "python3"
  },
  "language_info": {
   "codemirror_mode": {
    "name": "ipython",
    "version": 3
   },
   "file_extension": ".py",
   "mimetype": "text/x-python",
   "name": "python",
   "nbconvert_exporter": "python",
   "pygments_lexer": "ipython3",
   "version": "3.6.1"
  }
 },
 "nbformat": 4,
 "nbformat_minor": 2
}
