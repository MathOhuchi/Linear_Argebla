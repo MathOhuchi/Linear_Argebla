{
 "cells": [
  {
   "cell_type": "markdown",
   "metadata": {},
   "source": [
    "# 回帰分析\n",
    "\n",
    "解けない連立方程式の近似解法を用いて重回帰分析の問題を解いてみましょう．\n",
    "\n",
    "ある企業の10支店について，売上高と従業員数及びエリア人口を調査しました．\n",
    "\n",
    "| 売上（百万円） | 従業員数（名） | エリア人口（千名） |\n",
    "| :---:| :---:| :---:|\n",
    "| 2087 | 288 | 2199 |\n",
    "| 1899 | 236 | 2844 |\n",
    "| 1449 | 198 | 1579 |\n",
    "| 1287 | 210 |  248 |\n",
    "| 1112 | 101 |  576 |\n",
    "| 1011 | 123 |  330 |\n",
    "|  721 |  51 |   95 |\n",
    "|  456 |  56 |  201 |\n",
    "|  430 |  49 |   93 |\n",
    "|  347 |  78 |   90 |\n",
    "\n",
    "このデータに基づいて従業員数とエリア人口を説明変数として，売上を目的変数とする予測する重回帰式を求める問題です．"
   ]
  },
  {
   "cell_type": "markdown",
   "metadata": {},
   "source": [
    "### 回帰式モデル\n",
    "\n",
    "求める回帰式は次式になります．\n",
    "\n",
    "> $ \\text{[売上]} = a{\\times}\\text{[従業員数]} + b{\\times}\\text{[エリア人口]} + c $"
   ]
  },
  {
   "cell_type": "markdown",
   "metadata": {},
   "source": [
    "### 連立方程式の構成\n",
    "\n",
    "回帰式モデルに合わせて連立方程式を作成すると，次のようになります．\n",
    "\n",
    "$$\\left\\{\\begin{array}{l}\n",
    "288a + 2199b + c = 2087 \\\\\n",
    "236a + 2844b + c = 1899 \\\\\n",
    "198a + 1579b + c = 1449 \\\\\n",
    "210a + 248b + c = 1287 \\\\\n",
    "101a + 576b + c = 1112 \\\\\n",
    "123a + 330b + c = 1011 \\\\\n",
    "51a + 95b + c = 721 \\\\\n",
    "56a + 201b + c = 456 \\\\\n",
    "49a + 93b + c = 430 \\\\\n",
    "78a + 90b + c = 347 \\\\\n",
    "\\end{array}\\right.$$"
   ]
  },
  {
   "cell_type": "markdown",
   "metadata": {},
   "source": [
    "この連立方程式を行列で表現すると次のようになります．\n",
    "\n",
    "$${\\bf Ax} =\n",
    "\\left(\\begin{array}{c}\n",
    "288 & 2199 & 1 \\\\\n",
    "236 & 2844 & 1 \\\\\n",
    "198 & 1579 & 1 \\\\\n",
    "210 &  248 & 1 \\\\\n",
    "101 &  576 & 1 \\\\\n",
    "123 &  330 & 1 \\\\\n",
    " 51 &   95 & 1 \\\\\n",
    " 56 &  201 & 1 \\\\\n",
    " 49 &   93 & 1 \\\\\n",
    " 78 &   90 & 1 \\\\\n",
    "\\end{array}\\right)\n",
    "\\left(\\begin{array}{c} a \\\\ b \\\\ c \\\\ \\end{array}\\right)\n",
    "=\n",
    "\\left(\\begin{array}{c}\n",
    "2087 \\\\\n",
    "1899 \\\\\n",
    "1449 \\\\\n",
    "1287 \\\\\n",
    "1112 \\\\\n",
    "1011 \\\\\n",
    " 721 \\\\\n",
    " 456 \\\\\n",
    " 430 \\\\\n",
    " 347 \\\\\n",
    "\\end{array}\\right) \n",
    "=\n",
    "{\\bf b}$$"
   ]
  },
  {
   "cell_type": "markdown",
   "metadata": {},
   "source": [
    "### ベクトルの射影による近似解\n",
    "\n",
    "ベクトルの射影による近似解$\\bf x$は次の式で得られました．\n",
    "\n",
    "> ${\\bf x} = ({\\bf A}^\\mathsf{T}{\\bf A})^{-1}{\\bf A}^\\mathsf{T}{\\bf b}$\n",
    "\n",
    "この式をPythonで計算して，近似解を求めます．"
   ]
  },
  {
   "cell_type": "markdown",
   "metadata": {},
   "source": [
    "*****\n",
    "## Pythonの射影による近似解法\n",
    "\n",
    "まず，NumPyライブラリーをインポートします．\n",
    "\n",
    "```Python\n",
    "import numpy as np\n",
    "```"
   ]
  },
  {
   "cell_type": "code",
   "execution_count": null,
   "metadata": {
    "collapsed": true
   },
   "outputs": [],
   "source": []
  },
  {
   "cell_type": "markdown",
   "metadata": {},
   "source": [
    "行列$\\bf A$を変数として定義します．\n",
    "\n",
    "```Python\n",
    "A = np.array([\n",
    "    [288, 2199, 1],\n",
    "    [236, 2844, 1],\n",
    "    [198, 1579, 1],\n",
    "    [210,  248, 1],\n",
    "    [101,  576, 1],\n",
    "    [123,  330, 1],\n",
    "    [ 51,   95, 1],\n",
    "    [ 56,  201, 1],\n",
    "    [ 49,   93, 1],\n",
    "    [ 78,   90, 1]])\n",
    "A\n",
    "```"
   ]
  },
  {
   "cell_type": "code",
   "execution_count": null,
   "metadata": {
    "collapsed": true
   },
   "outputs": [],
   "source": []
  },
  {
   "cell_type": "markdown",
   "metadata": {},
   "source": [
    "定数ベクトル$\\bf b$を変数として定義します．\n",
    "\n",
    "```Python\n",
    "b = np.array([2087, 1899, 1449, 1287, 1112, 1011, 721, 456, 430, 347])\n",
    "b\n",
    "```"
   ]
  },
  {
   "cell_type": "code",
   "execution_count": null,
   "metadata": {
    "collapsed": true
   },
   "outputs": [],
   "source": []
  },
  {
   "cell_type": "markdown",
   "metadata": {},
   "source": [
    "行列$\\bf A$のランクを調べます．\n",
    "\n",
    "```Python\n",
    "np.linalg.matrix_rank(A)\n",
    "```"
   ]
  },
  {
   "cell_type": "code",
   "execution_count": null,
   "metadata": {
    "collapsed": true
   },
   "outputs": [],
   "source": []
  },
  {
   "cell_type": "markdown",
   "metadata": {},
   "source": [
    "$\\text{Rank}{\\bf A} = 3$ならば，行列$\\bf A$の列ベクトルは線形独立です．\n",
    "\n",
    "それでは近似解を求める行列\n",
    "$({\\bf A}^{\\mathsf T}{\\bf A})^{-1}{\\bf A}^{\\mathsf T}$\n",
    "を一気に生成します．\n",
    "\n",
    "```Python\n",
    "Solve = np.linalg.inv(A.T.dot(A)).dot(A.T)\n",
    "Solve\n",
    "```"
   ]
  },
  {
   "cell_type": "code",
   "execution_count": null,
   "metadata": {
    "collapsed": true
   },
   "outputs": [],
   "source": []
  },
  {
   "cell_type": "markdown",
   "metadata": {},
   "source": [
    "この行列を定数ベクトル$\\bf b$に作用させて，行列方程式${\\bf Ax}={\\bf b}$の最小近似解を求めます．\n",
    "\n",
    "```Python\n",
    "x = Solve.dot(b)\n",
    "x\n",
    "```"
   ]
  },
  {
   "cell_type": "code",
   "execution_count": null,
   "metadata": {
    "collapsed": true
   },
   "outputs": [],
   "source": []
  },
  {
   "cell_type": "markdown",
   "metadata": {},
   "source": [
    "この値を回帰式モデルに代入して，回帰式が求まりました．\n",
    "\n",
    "> $ \\text{[売上]} = 4.76{\\times}\\text{[従業員数]} + 0.197{\\times}\\text{[エリア人口]} + 256 $\n",
    "\n",
    "また，回帰式を用いた予測値は次にようになります．\n",
    "\n",
    "```Python\n",
    "A.dot(x)\n",
    "```"
   ]
  },
  {
   "cell_type": "code",
   "execution_count": null,
   "metadata": {
    "collapsed": true
   },
   "outputs": [],
   "source": []
  },
  {
   "cell_type": "markdown",
   "metadata": {},
   "source": [
    "このように，重回帰分析の回帰式は線形代数の行列演算だけで求めることが出来ました．\n",
    "\n",
    "これにより，回帰分析の原理を理解できました．"
   ]
  },
  {
   "cell_type": "markdown",
   "metadata": {},
   "source": [
    "*****\n",
    "## scikit-learnによる回帰式\n",
    "\n",
    "scikit-learnによる回帰式の係数を求める方法を紹介します．\n",
    "ただし，scikit-learnは線形代数の範囲を越えていますので，単なる参考に留めておきます．"
   ]
  },
  {
   "cell_type": "markdown",
   "metadata": {},
   "source": [
    "私たちがレクチャーで学習してきた回帰分析とは，正確には**線形回帰分析**です．\n",
    "Pythonの機械学習ライブラリーである<font color=blue>scikit-learn</font>には，\n",
    "線形回帰分析用に <font color=green>linear_model</font> というモジュールがあります．\n",
    "このモジュールをインポートして，線形回帰分析用のオブジェクトを生成します．\n",
    "\n",
    "> \n",
    "<font color=green>from</font> sklearn <font color=green>import</font> linear_model  \n",
    "reg = linear_model.LinearRegression()  \n",
    "reg.fit (*explanatory_variables*,*objective_variable*)\n"
   ]
  },
  {
   "cell_type": "markdown",
   "metadata": {},
   "source": [
    "ここで説明変数 (explanatory_variables) は既に定義してある変数 $\\bf A$ から3列目を除いた行列になります．\n",
    "これは，A[:,:2] と記述することによって得られます．\n",
    "\n",
    "また，目的変数 (objective_variable) は，変数 $\\bf b$ そのものとなります．\n",
    "よって，実際のプログラムは次の通りとなります．\n",
    "\n",
    "```Python\n",
    "from sklearn import linear_model\n",
    "reg = linear_model.LinearRegression()\n",
    "reg.fit (A[:,:2],b)\n",
    "```"
   ]
  },
  {
   "cell_type": "code",
   "execution_count": null,
   "metadata": {
    "collapsed": true
   },
   "outputs": [],
   "source": []
  },
  {
   "cell_type": "markdown",
   "metadata": {},
   "source": [
    "これにより，線形回帰モデルが構築されました．\n",
    "この線形回帰モデルの係数は reg.coef\\_ という変数に保管されています．\n",
    "\n",
    "```Python\n",
    "reg.coef_\n",
    "```"
   ]
  },
  {
   "cell_type": "code",
   "execution_count": null,
   "metadata": {
    "collapsed": true
   },
   "outputs": [],
   "source": []
  },
  {
   "cell_type": "markdown",
   "metadata": {},
   "source": [
    "また，回帰直線の y切片は reg.intercept\\_ という変数に保管されています．\n",
    "\n",
    "```Python\n",
    "reg.intercept_\n",
    "```"
   ]
  },
  {
   "cell_type": "code",
   "execution_count": null,
   "metadata": {
    "collapsed": true
   },
   "outputs": [],
   "source": []
  },
  {
   "cell_type": "markdown",
   "metadata": {},
   "source": [
    "これらの係数とy切片が，射影ベクトルによる解法と同じ結果になっていることを確認してください．\n",
    "\n",
    "生成された線形回帰モデルを用いて予測を行う場合は，reg.predict()メソッドを利用します．  \n",
    "ここでは，元のデータの説明変数を引数として予測を行ってみます．\n",
    "\n",
    "```Python\n",
    "reg.predict(A[:,:2])\n",
    "```"
   ]
  },
  {
   "cell_type": "code",
   "execution_count": null,
   "metadata": {
    "collapsed": true
   },
   "outputs": [],
   "source": []
  },
  {
   "cell_type": "markdown",
   "metadata": {},
   "source": [
    "この結果が元の目的変数の値の近似値になっていることを確認してくっださい．\n",
    "また，引数に説明変数の新たな値を与えれば，その目的変数の値が予測値として計算されます． "
   ]
  },
  {
   "cell_type": "markdown",
   "metadata": {},
   "source": [
    "scikit-learnのモジュールを利用すると，線形回帰モデルの生成がこれだけで済んでしまいます． \n",
    "scikit-learnは，パッケージ化されているので簡単に使用することができます．  \n",
    "ただし，使用方法だけを覚えると，ツールに使われるだけの人になってしまうので注意しましょう．\n",
    "\n",
    "*****"
   ]
  }
 ],
 "metadata": {
  "kernelspec": {
   "display_name": "Python 3",
   "language": "python",
   "name": "python3"
  },
  "language_info": {
   "codemirror_mode": {
    "name": "ipython",
    "version": 3
   },
   "file_extension": ".py",
   "mimetype": "text/x-python",
   "name": "python",
   "nbconvert_exporter": "python",
   "pygments_lexer": "ipython3",
   "version": "3.6.1"
  }
 },
 "nbformat": 4,
 "nbformat_minor": 2
}
