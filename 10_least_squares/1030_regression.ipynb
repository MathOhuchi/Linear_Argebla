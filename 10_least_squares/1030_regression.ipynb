{
 "cells": [
  {
   "cell_type": "markdown",
   "metadata": {},
   "source": [
    "# 回帰分析\n",
    "\n",
    "解けない連立方程式の近似解法を用いて重回帰分析の問題を解いてみましょう．\n",
    "\n",
    "ある企業の10支店について，売上高と従業員数及びエリア人口を調査しました．\n",
    "\n",
    "| 売上（百万円） | 従業員数（名） | エリア人口（千名） |\n",
    "| :---:| :---:| :---:|\n",
    "| 2087 | 288 | 2199 |\n",
    "| 1899 | 236 | 2844 |\n",
    "| 1449 | 198 | 1579 |\n",
    "| 1287 | 210 |  248 |\n",
    "| 1112 | 101 |  576 |\n",
    "| 1011 | 123 |  330 |\n",
    "|  721 |  51 |   95 |\n",
    "|  456 |  56 |  201 |\n",
    "|  430 |  49 |   93 |\n",
    "|  347 |  78 |   90 |\n",
    "\n",
    "このデータに基づいて従業員数とエリア人口を説明変数として，売上を目的変数とする予測する重回帰式を求める問題です．"
   ]
  },
  {
   "cell_type": "markdown",
   "metadata": {},
   "source": [
    "### 回帰式モデル\n",
    "\n",
    "求める回帰式は次式になります．\n",
    "\n",
    "> $ \\text{[売上]} = a{\\times}\\text{[従業員数]} + b{\\times}\\text{[エリア人口]} + c $"
   ]
  },
  {
   "cell_type": "markdown",
   "metadata": {},
   "source": [
    "### 連立方程式の構成\n",
    "\n",
    "回帰式モデルに合わせて連立方程式を作成すると，次のようになります．\n",
    "\n",
    "$\\left\\{\\begin{array}{l}\n",
    "288a + 2199b + c = 2087 \\\\\n",
    "236a + 2844b + c = 1899 \\\\\n",
    "198a + 1579b + c = 1449 \\\\\n",
    "210a + 248b + c = 1287 \\\\\n",
    "101a + 576b + c = 1112 \\\\\n",
    "123a + 330b + c = 1011 \\\\\n",
    "51a + 95b + c = 721 \\\\\n",
    "56a + 201b + c = 456 \\\\\n",
    "49a + 93b + c = 430 \\\\\n",
    "78a + 90b + c = 347 \\\\\n",
    "\\end{array}\\right.$"
   ]
  },
  {
   "cell_type": "markdown",
   "metadata": {},
   "source": [
    "この連立方程式を行列で表現すると次のようになります．\n",
    "\n",
    "${\\bf Ax} =\n",
    "\\left(\\begin{array}{c}\n",
    "288 & 2199 & 1 \\\\\n",
    "236 & 2844 & 1 \\\\\n",
    "198 & 1579 & 1 \\\\\n",
    "210 &  248 & 1 \\\\\n",
    "101 &  576 & 1 \\\\\n",
    "123 &  330 & 1 \\\\\n",
    " 51 &   95 & 1 \\\\\n",
    " 56 &  201 & 1 \\\\\n",
    " 49 &   93 & 1 \\\\\n",
    " 78 &   90 & 1 \\\\\n",
    "\\end{array}\\right)\n",
    "\\left(\\begin{array}{c} a \\\\ b \\\\ c \\\\ \\end{array}\\right)\n",
    "=\n",
    "\\left(\\begin{array}{c}\n",
    "2087 \\\\\n",
    "1899 \\\\\n",
    "1449 \\\\\n",
    "1287 \\\\\n",
    "1112 \\\\\n",
    "1011 \\\\\n",
    " 721 \\\\\n",
    " 456 \\\\\n",
    " 430 \\\\\n",
    " 347 \\\\\n",
    "\\end{array}\\right) \n",
    "=\n",
    "{\\bf b}$"
   ]
  },
  {
   "cell_type": "markdown",
   "metadata": {},
   "source": [
    "### Pythonの射影による近似解法\n",
    "\n",
    "まず，NumPyライブラリーをインポートします．"
   ]
  },
  {
   "cell_type": "code",
   "execution_count": 1,
   "metadata": {
    "collapsed": true
   },
   "outputs": [],
   "source": [
    "import numpy as np"
   ]
  },
  {
   "cell_type": "markdown",
   "metadata": {},
   "source": [
    "行列$\\bf A$および定数ベクトル$\\bf b$を変数として定義します．"
   ]
  },
  {
   "cell_type": "code",
   "execution_count": 2,
   "metadata": {},
   "outputs": [
    {
     "data": {
      "text/plain": [
       "array([[ 288, 2199,    1],\n",
       "       [ 236, 2844,    1],\n",
       "       [ 198, 1579,    1],\n",
       "       [ 210,  248,    1],\n",
       "       [ 101,  576,    1],\n",
       "       [ 123,  330,    1],\n",
       "       [  51,   95,    1],\n",
       "       [  56,  201,    1],\n",
       "       [  49,   93,    1],\n",
       "       [  78,   90,    1]])"
      ]
     },
     "execution_count": 2,
     "metadata": {},
     "output_type": "execute_result"
    }
   ],
   "source": [
    "A = np.array([\n",
    "    [288, 2199, 1],\n",
    "    [236, 2844, 1],\n",
    "    [198, 1579, 1],\n",
    "    [210,  248, 1],\n",
    "    [101,  576, 1],\n",
    "    [123,  330, 1],\n",
    "    [ 51,   95, 1],\n",
    "    [ 56,  201, 1],\n",
    "    [ 49,   93, 1],\n",
    "    [ 78,   90, 1]])\n",
    "A"
   ]
  },
  {
   "cell_type": "code",
   "execution_count": 4,
   "metadata": {},
   "outputs": [
    {
     "data": {
      "text/plain": [
       "array([2087, 1899, 1449, 1287, 1112, 1011,  721,  456,  430,  347])"
      ]
     },
     "execution_count": 4,
     "metadata": {},
     "output_type": "execute_result"
    }
   ],
   "source": [
    "b = np.array([2087, 1899, 1449, 1287, 1112, 1011, 721, 456, 430, 347])\n",
    "b"
   ]
  },
  {
   "cell_type": "markdown",
   "metadata": {},
   "source": [
    "行列$\\bf A$のランクを調べます．"
   ]
  },
  {
   "cell_type": "code",
   "execution_count": 5,
   "metadata": {},
   "outputs": [
    {
     "data": {
      "text/plain": [
       "3"
      ]
     },
     "execution_count": 5,
     "metadata": {},
     "output_type": "execute_result"
    }
   ],
   "source": [
    "np.linalg.matrix_rank(A)"
   ]
  },
  {
   "cell_type": "markdown",
   "metadata": {},
   "source": [
    "$\\text{Rank}{\\bf A} = 3$なので，行列$\\bf A$の列ベクトルは線形独立です．\n",
    "\n",
    "それでは一気に近似解を求める行列を生成します．\n",
    "\n",
    "> Solve = np.linalg.inv(A.T.dot(A)).dot(A.T)"
   ]
  },
  {
   "cell_type": "code",
   "execution_count": 6,
   "metadata": {},
   "outputs": [
    {
     "data": {
      "text/plain": [
       "array([[  2.31068466e-03,  -2.03251667e-03,   2.55543627e-04,\n",
       "          4.97646373e-03,  -9.06347811e-04,   8.46590841e-04,\n",
       "         -1.61853677e-03,  -1.72945104e-03,  -1.70125535e-03,\n",
       "         -4.01175212e-04],\n",
       "       [ -1.35562821e-05,   3.63755399e-04,   6.40988247e-05,\n",
       "         -4.14711127e-04,   3.68562790e-05,  -1.13866656e-04,\n",
       "          3.47467006e-05,   5.41443588e-05,   4.03752486e-05,\n",
       "         -5.18427463e-05],\n",
       "       [ -2.09994456e-01,   8.22397357e-02,   1.15658560e-02,\n",
       "         -2.49384424e-01,   1.95557487e-01,   7.63207977e-02,\n",
       "          2.96293210e-01,   2.95697527e-01,   3.03144725e-01,\n",
       "          1.98559542e-01]])"
      ]
     },
     "execution_count": 6,
     "metadata": {},
     "output_type": "execute_result"
    }
   ],
   "source": [
    "Solve = np.linalg.inv(A.T.dot(A)).dot(A.T)\n",
    "Solve"
   ]
  },
  {
   "cell_type": "markdown",
   "metadata": {},
   "source": [
    "この行列を定数ベクトル$\\bf b$に作用させて，行列方程式${\\bf Ax}={\\bf b}$の最小近似解を求めます．\n",
    "\n",
    "> x = Solve.dot(b)"
   ]
  },
  {
   "cell_type": "code",
   "execution_count": 7,
   "metadata": {},
   "outputs": [
    {
     "data": {
      "text/plain": [
       "array([  4.75934354e+00,   1.96604635e-01,   2.56054121e+02])"
      ]
     },
     "execution_count": 7,
     "metadata": {},
     "output_type": "execute_result"
    }
   ],
   "source": [
    "x = Solve.dot(b)\n",
    "x"
   ]
  },
  {
   "cell_type": "markdown",
   "metadata": {},
   "source": [
    "この値を回帰式モデルに代入して，回帰式が求まりました．\n",
    "\n",
    "> $ \\text{[売上]} = 4.76{\\times}\\text{[従業員数]} + 0.197{\\times}\\text{[エリア人口]} + 256 $\n",
    "\n",
    "また，回帰式を用いた予測値は次にようになります．"
   ]
  },
  {
   "cell_type": "code",
   "execution_count": 8,
   "metadata": {},
   "outputs": [
    {
     "data": {
      "text/plain": [
       "array([ 2059.07865436,  1938.40278007,  1508.84286171,  1304.27421446,\n",
       "         849.9920889 ,   906.33290649,   517.45808222,   562.09489128,\n",
       "         507.54618586,   644.97733465])"
      ]
     },
     "execution_count": 8,
     "metadata": {},
     "output_type": "execute_result"
    }
   ],
   "source": [
    "A.dot(x)"
   ]
  },
  {
   "cell_type": "markdown",
   "metadata": {},
   "source": [
    "このように，重回帰分析の回帰式は線形代数の行列演算だけで求めることが出来ました．\n",
    "\n",
    "これにより，回帰分析の原理を理解できました．"
   ]
  },
  {
   "cell_type": "markdown",
   "metadata": {},
   "source": [
    "*****\n",
    "## 線形代数による近似解法と統計による回帰分析との違い\n",
    "\n",
    "線形代数の本質的な議論から重回帰分析の回帰式を求めることができました．\n",
    "一般的に回帰分析は，統計の一分野として位置付けれれています．\n",
    "それでは，統計としての回帰分析と線形代数における解法との違いについて説明します．\n",
    "\n",
    "回帰分析の全体像は下図のようになります．\n",
    "\n",
    "![回帰分析の全体像](./images/regression_theory.jpg)\n",
    "\n",
    "私達が線形代数で学んだ回帰式を求める方法は，理論的本質を説明しています．\n",
    "したがって，線形代数の射影は回帰分析の理論的骨格となります．\n",
    "しかし，そこには求めた回帰式による予測値がどのくらい的を得ているのか不明です．\n",
    "\n",
    "そこで推測統計の方法によって，解の妥当性を評価判定する覆いを被せたものが回帰分析と言われています．\n",
    "たとえば，上の例題の場合にある別の支点の売り上げ予想が1億円としたとき，1億円±0.1億円以内になる確率はどれくらいかを判定します．"
   ]
  },
  {
   "cell_type": "markdown",
   "metadata": {},
   "source": [
    "長い歴史がある回帰分析ですが，機械学習のフレームでも利用されるようになっています．\n",
    "Pythonでは，<font color=blue>scikit-learn</font>のlinear_model.LinearRegression()が利用されることが多いようです．\n",
    "多変量解析におけるモデル精度は確率分布の適用によって行いますが，\n",
    "機械学習におけるモデル精度の概念はテストデータによる検証によって行われます．\n"
   ]
  },
  {
   "cell_type": "markdown",
   "metadata": {},
   "source": [
    "*****\n",
    "### scikit-learnによる回帰式\n",
    "\n",
    "参考までに，scikit-learnによる回帰式の係数を求める方法を紹介します．\n",
    "ただし，scikit-learnは線形代数の範囲を越えていますので，単なる参照にとどめておきます．"
   ]
  },
  {
   "cell_type": "code",
   "execution_count": 9,
   "metadata": {},
   "outputs": [
    {
     "data": {
      "text/plain": [
       "LinearRegression(copy_X=True, fit_intercept=True, n_jobs=1, normalize=False)"
      ]
     },
     "execution_count": 9,
     "metadata": {},
     "output_type": "execute_result"
    }
   ],
   "source": [
    "from sklearn import linear_model\n",
    "reg = linear_model.LinearRegression()\n",
    "reg.fit (A[:,:2],b)"
   ]
  },
  {
   "cell_type": "code",
   "execution_count": 10,
   "metadata": {},
   "outputs": [
    {
     "data": {
      "text/plain": [
       "array([ 4.75934354,  0.19660464])"
      ]
     },
     "execution_count": 10,
     "metadata": {},
     "output_type": "execute_result"
    }
   ],
   "source": [
    "reg.coef_"
   ]
  },
  {
   "cell_type": "code",
   "execution_count": 11,
   "metadata": {},
   "outputs": [
    {
     "data": {
      "text/plain": [
       "256.05412125826695"
      ]
     },
     "execution_count": 11,
     "metadata": {},
     "output_type": "execute_result"
    }
   ],
   "source": [
    "reg.intercept_"
   ]
  },
  {
   "cell_type": "markdown",
   "metadata": {},
   "source": [
    "射影ベクトルの解法と同じ結果を得ることができました．\n",
    "こちらは，パッケージ化されているので簡単に使用することができます．\n",
    "ただし，使用方法だけを覚えると，ツールに使われる人になってしまうので注意しましょう．\n",
    "\n",
    "なお，射影ベクトルの解法においいて，行列$\\bf A$の3列目に全ての値が1の列を設定しましたが，sklearn.linear_model.LinearRegression()においては不要となります．\n",
    "そのため，その列を削除したものがA[:,:2]です．\n",
    "*****"
   ]
  }
 ],
 "metadata": {
  "kernelspec": {
   "display_name": "Python 3",
   "language": "python",
   "name": "python3"
  },
  "language_info": {
   "codemirror_mode": {
    "name": "ipython",
    "version": 3
   },
   "file_extension": ".py",
   "mimetype": "text/x-python",
   "name": "python",
   "nbconvert_exporter": "python",
   "pygments_lexer": "ipython3",
   "version": "3.6.1"
  }
 },
 "nbformat": 4,
 "nbformat_minor": 2
}
