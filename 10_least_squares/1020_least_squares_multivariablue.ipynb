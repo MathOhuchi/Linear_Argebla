{
 "cells": [
  {
   "cell_type": "markdown",
   "metadata": {},
   "source": [
    "# 多変数の最小二乗近似問題\n",
    "\n",
    "変数が複数ある解の無い連立方程式の近似解を求める問題を解いていきます．\n",
    "\n"
   ]
  },
  {
   "cell_type": "markdown",
   "metadata": {},
   "source": [
    "*****\n",
    "## Pythonによる例題の解法\n",
    "\n",
    "次に3変数の5つの一次方程式からなる連立方程式の問題に対応します．\n",
    "\n",
    "$ \\left\\{ \\begin{array}{c}\n",
    " x_1 - 3x_2 + 2x_3 = 1 \\\\\n",
    "2x_1 + 3x_2 - 2x_3 = 3 \\\\\n",
    " x_1 - 2x_2 + 2x_3 = 5 \\\\\n",
    "     -  x_2 + 2x_3 = 7 \\\\\n",
    " x_1 -  x_2 + 2x_3 = 9 \\\\\n",
    "\\end{array} \\right. $"
   ]
  },
  {
   "cell_type": "markdown",
   "metadata": {},
   "source": [
    "この連立方程式を行列で${\\bf Ax}={\\bf b}$の形で表現すると次のようになります．\n",
    "\n",
    "$ \\left(\\begin{array}{c}\n",
    "1 & -3 &  2  \\\\\n",
    "2 &  3 & -2  \\\\\n",
    "1 & -2 &  2  \\\\\n",
    "0 & -1 &  2  \\\\\n",
    "1 & -1 &  2  \\\\\n",
    "\\end{array}\\right)\n",
    "\\left(\\begin{array}{c}\n",
    "x_1 \\\\ x_2 \\\\ x_3  \\\\\n",
    "\\end{array}\\right)\n",
    "=\n",
    "\\left(\\begin{array}{c}\n",
    "1 \\\\ 3 \\\\ 5 \\\\ 7 \\\\ 9 \\\\\n",
    "\\end{array}\\right) $\n",
    "\n",
    "この行列方程式をPythonで解いていくためにNumPyライブラリーをインポートします．"
   ]
  },
  {
   "cell_type": "code",
   "execution_count": 1,
   "metadata": {
    "collapsed": true
   },
   "outputs": [],
   "source": [
    "import numpy as np"
   ]
  },
  {
   "cell_type": "markdown",
   "metadata": {},
   "source": [
    "係数行列を配列オブジェクトとして定義して，変数名をAとします．"
   ]
  },
  {
   "cell_type": "code",
   "execution_count": 2,
   "metadata": {
    "collapsed": true
   },
   "outputs": [],
   "source": [
    "A = np.array([[1,-3,2],\n",
    "              [2,3,-2],\n",
    "              [1,-2,2],\n",
    "              [0,-1,2],\n",
    "              [1,-1,2]])"
   ]
  },
  {
   "cell_type": "markdown",
   "metadata": {},
   "source": [
    "定数ベクトルも配列オブジェクトとして定義して，変数名をbとします．"
   ]
  },
  {
   "cell_type": "code",
   "execution_count": 3,
   "metadata": {
    "collapsed": true
   },
   "outputs": [],
   "source": [
    "b = np.array([1,3,5,7,9])"
   ]
  },
  {
   "cell_type": "markdown",
   "metadata": {},
   "source": [
    "この係数行列のランクを調べます．"
   ]
  },
  {
   "cell_type": "code",
   "execution_count": 4,
   "metadata": {},
   "outputs": [
    {
     "data": {
      "text/plain": [
       "3"
      ]
     },
     "execution_count": 4,
     "metadata": {},
     "output_type": "execute_result"
    }
   ],
   "source": [
    "np.linalg.matrix_rank(A)"
   ]
  },
  {
   "cell_type": "markdown",
   "metadata": {},
   "source": [
    "最小二乗法による解は，係数行列$\\bf A$の列ベクトル空間へのベクトル$\\bf b$の射影を求める過程で次の行列計算で求めることができます．\n",
    "\n",
    "> ${\\bf x} = ({\\bf A}^\\mathsf{T}{\\bf A})^{-1}{\\bf A}^\\mathsf{T}{\\bf b}$\n",
    "\n",
    "この計算は一つの式で実施できますが，ここでは細かく分解して，それぞれの計算を可視化します．"
   ]
  },
  {
   "cell_type": "markdown",
   "metadata": {},
   "source": [
    "$\\bf A$の転置行列${\\bf A}^\\mathsf{T}$を求めます．\n",
    "numpy.array配列の転置行列は，オブジェクトのT属性で求めることができます．\n",
    "\n",
    "> A.T"
   ]
  },
  {
   "cell_type": "code",
   "execution_count": 5,
   "metadata": {
    "scrolled": true
   },
   "outputs": [
    {
     "data": {
      "text/plain": [
       "array([[ 1,  2,  1,  0,  1],\n",
       "       [-3,  3, -2, -1, -1],\n",
       "       [ 2, -2,  2,  2,  2]])"
      ]
     },
     "execution_count": 5,
     "metadata": {},
     "output_type": "execute_result"
    }
   ],
   "source": [
    "A.T"
   ]
  },
  {
   "cell_type": "markdown",
   "metadata": {},
   "source": [
    "対称行列${\\bf A}^\\mathsf{T}{\\bf A}$を求めます．\n",
    "numpyではドット積によって求められます．\n",
    "\n",
    "> A.T.dot(A)"
   ]
  },
  {
   "cell_type": "code",
   "execution_count": 6,
   "metadata": {},
   "outputs": [
    {
     "data": {
      "text/plain": [
       "array([[  7,   0,   2],\n",
       "       [  0,  24, -20],\n",
       "       [  2, -20,  20]])"
      ]
     },
     "execution_count": 6,
     "metadata": {},
     "output_type": "execute_result"
    }
   ],
   "source": [
    "A.T.dot(A)"
   ]
  },
  {
   "cell_type": "markdown",
   "metadata": {},
   "source": [
    "行列${\\bf A}^\\mathsf{T}{\\bf A}$のランクは$\\bf A$のランクに等しいので，この行列は正則な行列になっています．  \n",
    "さらにその逆行列$({\\bf A}^\\mathsf{T}{\\bf A})^{-1}$について，numpy.linalg.inv()関数で求めます．\n",
    "\n",
    ">np.linalg.inv(A.T.dot(A))"
   ]
  },
  {
   "cell_type": "code",
   "execution_count": 7,
   "metadata": {},
   "outputs": [
    {
     "data": {
      "text/plain": [
       "array([[ 0.17241379, -0.0862069 , -0.10344828],\n",
       "       [-0.0862069 ,  0.29310345,  0.30172414],\n",
       "       [-0.10344828,  0.30172414,  0.36206897]])"
      ]
     },
     "execution_count": 7,
     "metadata": {},
     "output_type": "execute_result"
    }
   ],
   "source": [
    "np.linalg.inv(A.T.dot(A))"
   ]
  },
  {
   "cell_type": "markdown",
   "metadata": {},
   "source": [
    "行列方程式${\\bf Ax}={\\bf b}$の最小近似解$\\bf x$を求めるための行列は，${\\bf Solve}=({\\bf A}^\\mathsf{T}{\\bf A})^{-1}{\\bf A}^\\mathsf{T}$でした．\n",
    "これをnumpyの関数やドット積を組み合わせることによって求めます．\n",
    "\n",
    "> Solve = np.linalg.inv(A.T.dot(A)).dot(A.T)"
   ]
  },
  {
   "cell_type": "code",
   "execution_count": 8,
   "metadata": {},
   "outputs": [
    {
     "data": {
      "text/plain": [
       "array([[ 0.22413793,  0.29310345,  0.13793103, -0.12068966,  0.05172414],\n",
       "       [-0.36206897,  0.10344828, -0.06896552,  0.31034483,  0.22413793],\n",
       "       [-0.28448276, -0.02586207,  0.01724138,  0.42241379,  0.31896552]])"
      ]
     },
     "execution_count": 8,
     "metadata": {},
     "output_type": "execute_result"
    }
   ],
   "source": [
    "Solve = np.linalg.inv(A.T.dot(A)).dot(A.T)\n",
    "Solve"
   ]
  },
  {
   "cell_type": "markdown",
   "metadata": {},
   "source": [
    "この行列を定数ベクトル$\\bf b$に作用させると，行列方程式${\\bf Ax}={\\bf b}$の最小近似解が求まります．\n",
    "\n",
    "> x = Solve.dot(b)"
   ]
  },
  {
   "cell_type": "code",
   "execution_count": 9,
   "metadata": {},
   "outputs": [
    {
     "data": {
      "text/plain": [
       "array([ 1.4137931 ,  3.79310345,  5.55172414])"
      ]
     },
     "execution_count": 9,
     "metadata": {},
     "output_type": "execute_result"
    }
   ],
   "source": [
    "x = Solve.dot(b)\n",
    "x"
   ]
  },
  {
   "cell_type": "markdown",
   "metadata": {},
   "source": [
    "この近似解に行列$\\bf A$を作用されると，ベクトル$\\bf b$の行列$\\bf A$の列ベクトル空間への射影が求まります．"
   ]
  },
  {
   "cell_type": "code",
   "execution_count": 10,
   "metadata": {},
   "outputs": [
    {
     "data": {
      "text/plain": [
       "array([ 1.13793103,  3.10344828,  4.93103448,  7.31034483,  8.72413793])"
      ]
     },
     "execution_count": 10,
     "metadata": {},
     "output_type": "execute_result"
    }
   ],
   "source": [
    "A.dot(x)"
   ]
  },
  {
   "cell_type": "markdown",
   "metadata": {},
   "source": [
    "この射影ベクトルは，定数ベクトル\n",
    "${\\bf b}=\n",
    "\\left(\\begin{array}{c}\n",
    "1 \\\\ 3 \\\\ 5 \\\\ 7 \\\\ 9 \\\\\n",
    "\\end{array}\\right)$\n",
    "に近い値になっていることが分かります．\n",
    "\n",
    "また，射影行列は次のようになります．"
   ]
  },
  {
   "cell_type": "code",
   "execution_count": 12,
   "metadata": {},
   "outputs": [
    {
     "data": {
      "text/plain": [
       "array([[ 0.74137931, -0.06896552,  0.37931034, -0.20689655,  0.01724138],\n",
       "       [-0.06896552,  0.94827586,  0.03448276, -0.15517241,  0.13793103],\n",
       "       [ 0.37931034,  0.03448276,  0.31034483,  0.10344828,  0.24137931],\n",
       "       [-0.20689655, -0.15517241,  0.10344828,  0.53448276,  0.4137931 ],\n",
       "       [ 0.01724138,  0.13793103,  0.24137931,  0.4137931 ,  0.46551724]])"
      ]
     },
     "execution_count": 12,
     "metadata": {},
     "output_type": "execute_result"
    }
   ],
   "source": [
    "P = A.dot(Solve)\n",
    "P"
   ]
  },
  {
   "cell_type": "markdown",
   "metadata": {},
   "source": [
    "*****\n",
    "このように，多変数の連立方程式で解が存在しない場合に最小二乗法による近似解を求めることを，行列の列空間への射影ベクトルを計算する方法により実現することができました．"
   ]
  }
 ],
 "metadata": {
  "kernelspec": {
   "display_name": "Python 3",
   "language": "python",
   "name": "python3"
  },
  "language_info": {
   "codemirror_mode": {
    "name": "ipython",
    "version": 3
   },
   "file_extension": ".py",
   "mimetype": "text/x-python",
   "name": "python",
   "nbconvert_exporter": "python",
   "pygments_lexer": "ipython3",
   "version": "3.6.1"
  }
 },
 "nbformat": 4,
 "nbformat_minor": 2
}
