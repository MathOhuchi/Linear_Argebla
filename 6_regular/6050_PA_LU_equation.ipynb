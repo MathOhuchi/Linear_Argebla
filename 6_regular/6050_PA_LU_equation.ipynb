{
 "cells": [
  {
   "cell_type": "markdown",
   "metadata": {},
   "source": [
    "# 行の入替えが発生する状況\n",
    "\n",
    "これまで見てきた例は，行の入れ替えをせずともLU分解ができたケースです．\n",
    "言い方を変えると，行の並び順が事前に適切な順番になっていました．\n",
    "\n",
    "ここでは，行の入替えが必要な状況について解説します．"
   ]
  },
  {
   "cell_type": "markdown",
   "metadata": {},
   "source": [
    "## 行の入替えが発生する連立方程式\n",
    "\n",
    "ここでは，未知数が$x,y,z,w$の4個ある4つの連立方程式の問題を解いていきます．\n",
    "\n",
    "$\\left\\{\\begin{array}{rl}\n",
    " x - 2y + 3z - 4w = -2 & \\cdots (1) \\\\ \n",
    "2x - 4y +  z - 3w =  1 & \\cdots (2) \\\\ \n",
    " x -  y - 2z + 3w =  9 & \\cdots (3) \\\\ \n",
    "-x - 2y - 3z +  w = -2 & \\cdots (4) \\\\ \n",
    "\\end{array} \\right.$\n",
    "\n",
    "この連立方程式にGaussの消去法を適用します．\n",
    "まず，前進消去を実施します．"
   ]
  },
  {
   "cell_type": "markdown",
   "metadata": {},
   "source": [
    "始めに式(1)の変数$x$を残して，式(2),(3),(4)から変数$x$を消去します．\n",
    "\n",
    "$\\left\\{\\begin{array}{rl}\n",
    " x - 2y + 3z - 4w = -2 & \\cdots (1) \\\\ \n",
    "        - 5z + 5w =  5 & \\cdots (2')=(2)-2{\\times}(1) \\\\ \n",
    "      y - 5z + 7w = 11 & \\cdots (3')=(3)-(1) \\\\ \n",
    "- 4y \\,\\,\\,\\,- 3w = -4 & \\cdots (4')=(4)+(1) \\\\ \n",
    "\\end{array} \\right.$"
   ]
  },
  {
   "cell_type": "markdown",
   "metadata": {},
   "source": [
    "次のステップとして，式(2')に変数$y$を残して，式(3'),(4')から変数$y$を消去したいのですが，式(2')に変数$y$がありません．\n",
    "この状況が，今回のテーマとなります．\n",
    "そこで，変数$y$のある<font color=blue>式(3')と式(2')を交換</font>します．\n",
    "この操作は，前回は発生しませんでした．\n",
    "\n",
    "$\\left\\{\\begin{array}{rl}\n",
    " x - 2y + 3z - 4w = -2 & \\cdots (1) \\\\ \n",
    "      y - 5z + 7w = 11 & \\cdots (3') \\\\ \n",
    "        - 5z + 5w =  5 & \\cdots (2') \\\\ \n",
    "- 4y \\,\\,\\,\\,- 3w = -4 & \\cdots (4') \\\\ \n",
    "\\end{array} \\right.$\n",
    "\n",
    "この操作では計算は何も行っていません．方程式の並び順を変えただけです．"
   ]
  },
  {
   "cell_type": "markdown",
   "metadata": {},
   "source": [
    "今度は2番目の式(3')に変数$y$があるので，この式を使って，その下の式(4')から変数$y$を消去します．\n",
    "\n",
    "$\\left\\{\\begin{array}{rl}\n",
    " x - 2y + 3z - 4w = -2 & \\cdots (1) \\\\ \n",
    "      y - 5z + 7w = 11 & \\cdots (3') \\\\ \n",
    "        - 5z + 5w =  5 & \\cdots (2') \\\\ \n",
    "        -20z +25w = 40 & \\cdots (4'')=(4')+4{\\times}(3') \\\\ \n",
    "\\end{array} \\right.$"
   ]
  },
  {
   "cell_type": "markdown",
   "metadata": {},
   "source": [
    "そして，式(2')を利用して式(4'')から変数$z$を消去します．\n",
    "\n",
    "$\\left\\{\\begin{array}{rl}\n",
    " x - 2y + 3z - 4w = -2 & \\cdots (1) \\\\ \n",
    "      y - 5z + 7w = 11 & \\cdots (3') \\\\ \n",
    "        - 5z + 5w =  5 & \\cdots (2') \\\\ \n",
    "               5w = 20 & \\cdots (4''')=(4'')-4{\\times}(2') \\\\ \n",
    "\\end{array} \\right.$"
   ]
  },
  {
   "cell_type": "markdown",
   "metadata": {},
   "source": [
    "これで前進消去が完了します．\n",
    "\n",
    "次に後退代入を実施します．"
   ]
  },
  {
   "cell_type": "markdown",
   "metadata": {},
   "source": [
    "式(4''')から変数$w$の値が得られます．\n",
    "\n",
    "$w = 4$\n",
    "\n",
    "式(2')から，$z = w-1$なので，$w=4$を代入して，\n",
    "\n",
    "$z = 3$\n",
    "\n",
    "式(3')から，$y=5z-7w+11$なので，この式に$z=3,w=4$を代入して，\n",
    "\n",
    "$y = -2$\n",
    "\n",
    "式(1)から，$x=2y-3z+4w-2$なので，この式に$z=3,w=4,y=-2$を代入して，\n",
    "\n",
    "$x = 1$\n",
    "\n",
    "が得られます．\n",
    "以上で，後退代入が完了し，結果として$(x,y,z,w)=(1,-2,3,4)$が求まりました．"
   ]
  },
  {
   "cell_type": "markdown",
   "metadata": {},
   "source": [
    "*****\n",
    "この連立方程式についても忘れてはならないことは，解ける問題であるということです．\n",
    "そこに行の配置換えが発生しているだけです．\n",
    "\n",
    "それでは，この課題が行列ではどうなるか見ていきましょう．"
   ]
  }
 ],
 "metadata": {
  "kernelspec": {
   "display_name": "Python 3",
   "language": "python",
   "name": "python3"
  },
  "language_info": {
   "codemirror_mode": {
    "name": "ipython",
    "version": 3
   },
   "file_extension": ".py",
   "mimetype": "text/x-python",
   "name": "python",
   "nbconvert_exporter": "python",
   "pygments_lexer": "ipython3",
   "version": "3.6.1"
  }
 },
 "nbformat": 4,
 "nbformat_minor": 2
}
