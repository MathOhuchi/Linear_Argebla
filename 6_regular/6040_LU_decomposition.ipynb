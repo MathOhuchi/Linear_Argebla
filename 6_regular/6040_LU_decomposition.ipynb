{
 "cells": [
  {
   "cell_type": "markdown",
   "metadata": {},
   "source": [
    "# 正方行列のLU分解\n",
    "\n",
    "変数が3個の連立方程式の問題から，行列での表現を使って係数行列のLU分解を導きましたが，一般的な記述を行っておきます．\n",
    "直前に見た例は問題なくLU分解できましたが，その理由は，困った状況にならないような問題を選んでいたに過ぎません．\n",
    "\n",
    "現実には，様々な障害に直面することになります．\n",
    "初めから複雑な問題を取り上げてしまうと，理論の本質を掴めず学習ロスを起こしてしまう危険性があります．\n",
    "そのため，まずは簡単な問題から始めて，その段階が理解したら新たな課題を組み込んで理論を展開していきます．\n",
    "\n",
    "そこで，現段階での前提条件を提示しておきます．"
   ]
  },
  {
   "cell_type": "markdown",
   "metadata": {},
   "source": [
    "## 前提条件\n",
    "\n",
    "n次正方行列$\\bf A$のLU分解を考える上で，次の条件を与えます．\n",
    "\n",
    "- $\\bf A$は正則行列，すなわち逆行列${\\bf A}^{-1}$が存在する．\n",
    "- Gaussの消去法の前進消去ステップで行の入替えを必要としない．\n",
    "\n",
    "この条件の下で，行列$\\bf A$のLU分解を問題なく実行することができます．"
   ]
  },
  {
   "cell_type": "markdown",
   "metadata": {},
   "source": [
    "## LU分解\n",
    "\n",
    "n次正則行列\n",
    "${\\bf A}=\\left(\\begin{array}{cccc}\n",
    "a_{11} & a_{12} & \\cdots & a_{1n} \\\\ \n",
    "a_{21} & a_{22} & \\cdots & a_{2n} \\\\ \n",
    "\\vdots & \\vdots & \\ddots & \\vdots \\\\\n",
    "a_{n1} & a_{n2} & \\cdots & a_{nn} \\\\\n",
    "\\end{array} \\right)$\n",
    "は，基本行列による上三角行列への変換の途中で行の交換が不要であると仮定します．"
   ]
  },
  {
   "cell_type": "markdown",
   "metadata": {},
   "source": [
    "すると，下三角行列\n",
    "${\\bf L}=\\left(\\begin{array}{cccc}\n",
    "1 & 0 & \\cdots & 0 \\\\ \n",
    "l_{21} & 1 & \\cdots & 0 \\\\ \n",
    "\\vdots & \\vdots & \\ddots & \\vdots \\\\\n",
    "l_{n1} & l_{n2} & \\cdots & 1 \\\\\n",
    "\\end{array} \\right)$\n",
    "および，上三角行列\n",
    "${\\bf U}=\\left(\\begin{array}{cccc}\n",
    "u_{11} & u_{12} & \\cdots & u_{1n} \\\\ \n",
    "0 & u_{22} & \\cdots & u_{2n} \\\\ \n",
    "\\vdots & \\vdots & \\ddots & \\vdots \\\\\n",
    "0 & 0 & \\cdots & u_{nn} \\\\\n",
    "\\end{array} \\right)$\n",
    "が存在し，\n",
    "\n",
    "> ${\\bf A}={\\bf L}{\\bf U}$\n",
    "\n",
    "と分解できます．\n",
    "\n",
    "この分解を行列$\\bf A$のLU分解と言います．\n"
   ]
  },
  {
   "cell_type": "markdown",
   "metadata": {},
   "source": [
    "## LDU分解\n",
    "\n",
    "このLU分解において，上三角行列を対角行列と対角成分が1となる上三角行列に分解することによって，\n",
    "\n",
    "> ${\\bf A}={\\bf L}{\\bf D}{\\bf U}$\n",
    "\n",
    "と分解できます．\n",
    "\n",
    "ここで，\n",
    "${\\bf L}=\\left(\\begin{array}{cccc}\n",
    "1 & 0 & \\cdots & 0 \\\\ \n",
    "l_{21} & 1 & \\cdots & 0 \\\\ \n",
    "\\vdots & \\vdots & \\ddots & \\vdots \\\\\n",
    "l_{n1} & l_{n2} & \\cdots & 1 \\\\\n",
    "\\end{array} \\right)$\n",
    ", \n",
    "${\\bf D}=\\left(\\begin{array}{cccc}\n",
    "d_{11} & 0 & \\cdots & 0 \\\\ \n",
    "0 & d_{22} & \\cdots & 0 \\\\ \n",
    "\\vdots & \\vdots & \\ddots & \\vdots \\\\\n",
    "0 & 0 & \\cdots & d_{nn} \\\\\n",
    "\\end{array} \\right)$\n",
    ", \n",
    "${\\bf U}=\\left(\\begin{array}{cccc}\n",
    "1 & u_{12} & \\cdots & u_{1n} \\\\ \n",
    "0 & 1 & \\cdots & u_{2n} \\\\ \n",
    "\\vdots & \\vdots & \\ddots & \\vdots \\\\\n",
    "0 & 0 & \\cdots & 1 \\\\\n",
    "\\end{array} \\right)$\n",
    "という形になっています．\n"
   ]
  },
  {
   "cell_type": "markdown",
   "metadata": {},
   "source": [
    "*****\n",
    "## Gaussの消去法とLU分解の関係\n",
    "\n",
    "私達はGaussの消去法の前進消去アルゴリズムを係数行列に適用しました．\n",
    "このとき，各ステップでの数式計算は基本行列に置き換えられました．\n",
    "これにより，連立方程式の解法が行列による線形代数の理論として整備されました．\n",
    "これらをまとめておきます．\n",
    "\n",
    "- Gauss消去法の前進消去は，行列のLU分解である．\n",
    "- 数式変形は，基本行列の積である．\n",
    "- 数式の順番を適切に決めておくと，基本行列は下三角形行列になる．\n",
    "- 基本行列の逆行列は簡単に求まる．\n",
    "- 下三角行列の逆行列も下三角行列になる．\n",
    "- 基本行列の逆行列を掛け合わせたものがLU分解の下三角行列$\\bf L$となる．\n",
    "- LU分解から対角成分を抽出すれば，LDU分解になる．\n",
    "- LDU分解は一意的である．\n",
    "\n",
    "このように伝統的なGaussの消去法が現代的な理論へと生まれ変わりました．"
   ]
  },
  {
   "cell_type": "markdown",
   "metadata": {},
   "source": [
    "*****\n",
    "## Gaussの消去法における数学的帰納法\n",
    "\n",
    "Gaussの消去法のアルゴリズムは数学的帰納法に基づいています．\n",
    "ここでは，その仕組みについて説明します．\n",
    "\n",
    "まず，n次正方行列である係数行列を${\\bf A}_n$と表すことにします．\n",
    "もちろん${\\bf A}_n$は，正則行列であり，計算途中で行を入替える必要のないことが前提となっています．\n",
    "この先は，拡大係数行列$\\tilde{\\bf A}_n$を使って進めていきます．\n",
    "この後のプロセスを分かりやすくするために，この拡大係数行列$\\tilde{\\bf A}_n$の要素を多めに記載します．\n",
    "\n",
    "$\\tilde{\\bf A}_n =\n",
    "\\left(\\begin{array}{ccccc:c}\n",
    "a^n_{11} & a^n_{12} & a^n_{13} & \\cdots & a^n_{1n} & b^n_1 \\\\ \n",
    "a^n_{21} & a^n_{22} & a^n_{23} & \\cdots & a^n_{2n} & b^n_2 \\\\ \n",
    "a^n_{31} & a^n_{32} & a^n_{33} & \\cdots & a^n_{3n} & b^n_3 \\\\ \n",
    "\\vdots   & \\vdots   & \\vdots   & \\ddots & \\vdots   & \\vdots \\\\\n",
    "a^n_{n1} & a^n_{n2} & a^n_{n3} & \\cdots & a^n_{nn} & b^n_n \\\\\n",
    "\\end{array} \\right) $\n",
    "\n",
    "ここで<font color=red>右肩にある$n$は，n乗の意味ではなく，行列$\\tilde{\\bf A}_n$の要素であることを示す添え字</font>です．"
   ]
  },
  {
   "cell_type": "markdown",
   "metadata": {},
   "source": [
    "Gaussの消去法では最初に1列目の$a^n_{11}$だけを残して1列目の他の要素の値をゼロとします．すなわち，$a^{n-1}_{i1}=0 \\,(i>1)$とします．\n",
    "このプロセスで掛けた基本行列の積を${\\bf L}_n$とすると，\n",
    "\n",
    "${\\bf L}_n\\tilde{\\bf A}_n =\n",
    "\\left(\\begin{array}{c|cccc:c}\n",
    "a^n_{11} & a^n_{12} & a^n_{13} & \\cdots & a^n_{1n} & b^n_1 \\\\ \\hline\n",
    "0 & a^{n-1}_{22} & a^{n-1}_{23} & \\cdots & a^{n-1}_{2n} & b^{n-1}_2 \\\\ \n",
    "0 & a^{n-1}_{32} & a^{n-1}_{33} & \\cdots & a^{n-1}_{3n} & b^{n-1}_3 \\\\ \n",
    "\\vdots & \\vdots & \\vdots & \\ddots & \\vdots & \\vdots \\\\\n",
    "0 & a^{n-1}_{n2} & a^{n-1}_{n3} & \\cdots & a^{n-1}_{nn} & b^{n-1}_n \\\\\n",
    "\\end{array} \\right) $\n",
    "\n",
    "となります．"
   ]
  },
  {
   "cell_type": "markdown",
   "metadata": {},
   "source": [
    "この行列を直線で分割しています．\n",
    "ここで，右下の行列を\n",
    "\n",
    "$\\tilde{\\bf A}_{n-1} =\n",
    "\\left(\\begin{array}{cccc:c}\n",
    "a^{n-1}_{22} & a^{n-1}_{23} & \\cdots & a^{n-1}_{2n} & b^{n-1}_2 \\\\ \n",
    "a^{n-1}_{32} & a^{n-1}_{33} & \\cdots & a^{n-1}_{3n} & b^{n-1}_3 \\\\ \n",
    "\\vdots   & \\vdots   & \\ddots & \\vdots   & \\vdots \\\\\n",
    "a^{n-1}_{n2} & a^{n-1}_{n3} & \\cdots & a^{n-1}_{nn} & b^{n-1}_n \\\\\n",
    "\\end{array} \\right) $\n",
    "\n",
    "とします．\n",
    "この$\\tilde{\\bf A}_{n-1}$は，要素の値ではなく行列の構造だけを考慮すると，$\\tilde{\\bf A}_n$と同じで，次数だけが1つ減っています．"
   ]
  },
  {
   "cell_type": "markdown",
   "metadata": {},
   "source": [
    "ここで，\n",
    "${\\bf A}_{n-1} =\n",
    "\\left(\\begin{array}{cccc}\n",
    "a^{n-1}_{22} & a^{n-1}_{23} & \\cdots & a^{n-1}_{2n} \\\\ \n",
    "a^{n-1}_{32} & a^{n-1}_{33} & \\cdots & a^{n-1}_{3n}\\\\ \n",
    "\\vdots   & \\vdots   & \\ddots & \\vdots \\\\\n",
    "a^{n-1}_{n2} & a^{n-1}_{n3} & \\cdots & a^{n-1}_{nn}\\\\\n",
    "\\end{array} \\right) $\n",
    "とし，\n",
    "${\\bf b}_{n-1} =\n",
    "\\left(\\begin{array}{c}\n",
    "b^{n-1}_1 \\\\ b^{n-1}_2 \\\\ \\vdots \\\\ b^{n-1}_n \\\\\n",
    "\\end{array}\\right) $\n",
    "とします．"
   ]
  },
  {
   "cell_type": "markdown",
   "metadata": {},
   "source": [
    "もし，${\\bf A}_{n-1}{\\bf x}={\\bf b}_{n-1}$の解が求まったとします．\n",
    "この解を\n",
    "${\\bf x}_{n-1}= \\left(\\begin{array}{c} x_2 \\\\ x_3 \\\\ \\vdots \\\\ x_n \\end{array}\\right)$\n",
    "とすると，\n",
    "この解は同時に${\\bf A}_n{\\bf x}={\\bf b}_n$も満たしています．"
   ]
  },
  {
   "cell_type": "markdown",
   "metadata": {},
   "source": [
    "ただし，最初の変数$x_1$の値は求まっていません．\n",
    "しかし，$x_2,x_3,\\cdots,x_n$が求まっているので，拡大係数行列$\\tilde{\\bf A}_n$の1行目から，次の式で$x_1$を求めることができます．\n",
    "\n",
    "$x_1 = \\frac{1}{a^n_{11}}\\{b^n_1-a^n_{11}x_2-a^3_{12}x_3-\\cdots-a^n_{1n}x_n \\}$\n",
    "\n",
    "すなわち，<font color=blue>\n",
    "${\\bf A}_{n-1}{\\bf x}={\\bf b}_{n-1}$によって表現される連立方程式が解ければ，\n",
    "${\\bf A}_n{\\bf x}={\\bf b}_n$によって表現される連立方程式も簡単に解ける</font>と言えます．\n",
    "そして，次数を1つ下げた連立方程式の問題に辿り着きます．"
   ]
  },
  {
   "cell_type": "markdown",
   "metadata": {},
   "source": [
    "そしてまた拡大係数行列$\\tilde{\\bf A}_{n-1}$について同様の処理を行います．この処理を繰返すと次のようになります．\n",
    "\n",
    "> \n",
    "$\\begin{array}{lcl}\n",
    "{\\bf A}_{n-1}{\\bf x}={\\bf b}_{n-1}  & \\Rightarrow & {\\bf A}_{n}{\\bf x}={\\bf b}_{n}  \\\\\n",
    "{\\bf A}_{n-2}{\\bf x}={\\bf b}_{n-2}  & \\Rightarrow & {\\bf A}_{n-1}{\\bf x}={\\bf b}_{n-1}  \\\\\n",
    "& \\vdots & \\\\\n",
    "{\\bf A}_{1}{\\bf x}={\\bf b}_{1}  & \\Rightarrow & {\\bf A}_{2}{\\bf x}={\\bf b}_{2}  \\\\\n",
    "\\end{array} $\n",
    "\n",
    "この論理構造が，数学的帰納法で言う\n",
    "\n",
    "> ある整数$n$で命題$P(n)$を満たすとき，$n+1$についても命題$P(n+1)$が成立する．\n",
    "\n",
    "に対応します．"
   ]
  },
  {
   "cell_type": "markdown",
   "metadata": {},
   "source": [
    "そして最後に現れる式${\\bf A}_1{\\bf x}={\\bf b}_1$ですが，要素による表現にすると，\n",
    "\n",
    "$a^1_{nn}x_n=b^1_n$\n",
    "\n",
    "となり，簡単に$x_n$を求めることができます．\n",
    "このことは，数学的帰納法における\n",
    "\n",
    "> $n=1$のとき，命題$P(1)$が成立する．\n",
    "\n",
    "に対応します．"
   ]
  },
  {
   "cell_type": "markdown",
   "metadata": {},
   "source": [
    "このように，Gaussの消去法には数学的帰納法の考え方が盛り込まれています．\n",
    "*****"
   ]
  }
 ],
 "metadata": {
  "kernelspec": {
   "display_name": "Python 3",
   "language": "python",
   "name": "python3"
  },
  "language_info": {
   "codemirror_mode": {
    "name": "ipython",
    "version": 3
   },
   "file_extension": ".py",
   "mimetype": "text/x-python",
   "name": "python",
   "nbconvert_exporter": "python",
   "pygments_lexer": "ipython3",
   "version": "3.6.1"
  }
 },
 "nbformat": 4,
 "nbformat_minor": 2
}
