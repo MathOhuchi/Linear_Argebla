{
 "cells": [
  {
   "cell_type": "markdown",
   "metadata": {},
   "source": [
    "# 数学的帰納法について\n",
    "\n",
    "帰納法と言う言葉は一般的な議論でも使うことがありますが，数学的帰納法とは一般的な帰納法とは別物と考えてください．\n",
    "私たちが数学を行うとき，無意識のうちに数学的帰納法，あるいは数学的帰納法の考え方を利用しています．\n",
    "\n",
    "数学的帰納法の前に，普通の帰納法について確認します．"
   ]
  },
  {
   "cell_type": "markdown",
   "metadata": {},
   "source": [
    "## 普通の帰納法\n",
    "\n",
    "帰納法とは，幾つかの事例で成立したことを見て，同様な状況では常にその状況が成立すると考えることです．\n",
    "数学においては，予想を立てるときに利用します．\n",
    "その例を見て見ましょう．"
   ]
  },
  {
   "cell_type": "markdown",
   "metadata": {},
   "source": [
    "### メルセンヌ（Mersennu）数の素数予想\n",
    "\n",
    "自然数$n \\in \\mathbb{N}$に対して，$\\mathscr{M}(n)=2^n-1$をメルセンヌ数と言います．\n",
    "ここで，$n$に素数$p$を入れた数$\\mathscr{M}(p)=2^p-1$を考えてみます．\n",
    "\n",
    "$\\mathscr{M}(2) = 2^2-1 = 3$ <br>\n",
    "$\\mathscr{M}(3) = 2^3-1 = 7$ <br>\n",
    "$\\mathscr{M}(5) = 2^5-1 = 31$\n",
    "\n",
    "となり，素数であることが分かります．\n",
    "この事例から，一般化して「素数$p$について$\\mathscr{M}(p)=2^p-1$は素数である」と予想します．\n",
    "この考え方が<font color=blue>帰納法</font>です．"
   ]
  },
  {
   "cell_type": "markdown",
   "metadata": {},
   "source": [
    "それでは，この予想が正しいか否かを確認してみましょう．\n",
    "- 数学的に正しいことを確認するには<font color=blue>証明</font>する必要があります．\n",
    "- 間違っていることを確認する場合は<font color=blue>反例</font>を上げます．\n",
    "\n",
    "ここでは，反例を示して，この予想を否定します．\n",
    "\n",
    "$\\mathscr{M}(11) = 2^{11}-1 = 2047 = 23 \\times 89$\n",
    "\n",
    "これは素数でないので，予想が間違いであることが分かります．"
   ]
  },
  {
   "cell_type": "markdown",
   "metadata": {},
   "source": [
    "*****\n",
    "## 数学的帰納法の原理\n",
    "\n",
    "自然数$n \\in \\mathbb{N}$を変数に持つ命題$P(n)$があるとき，\n",
    "\n",
    "- $P(1)$が成り立つ．\n",
    "- 任意の$k \\in \\mathbb{N}$について$P(k)$が成立てば$P(k+1)$も成り立つ．\n",
    "\n",
    "この条件が証明できれば，任意の$n \\in \\mathbb{N}$について$P(n)$が成り立ちます．\n",
    "\n",
    "この手法を<font color=blue>数学的帰納法</font>と言います．"
   ]
  },
  {
   "cell_type": "markdown",
   "metadata": {},
   "source": [
    "### 数学的帰納法の例\n",
    "\n",
    "簡単な例として，次の計算問題を取り上げます．\n",
    "\n",
    "> $\\displaystyle S_n = 1+2+\\cdots+n = \\frac{n(n+1)}{2}$\n",
    "\n",
    "この初等的な解法は，数字の1から足す式と$n$から足す式の2つの式を並べて足す方法です．\n",
    "\n",
    "$ \\begin{array}{ccccc}\n",
    " & S_n &=& 1 & + & 2 & + & \\cdots & + & n \\\\\n",
    "+)& S_n &=& n & + & (n-1) & + & \\cdots & + & 1 \\\\\n",
    "\\hline\n",
    " & 2S_n &=& (n+1) & + & (n+1) & + & \\cdots & + & (n+1) \\\\\n",
    "\\end{array} $\n",
    "\n",
    "$(n+1)$が$n$個並んでいるので，\n",
    "$2S_n=n(n+1)$\n",
    "となり，答えが求まります．"
   ]
  },
  {
   "cell_type": "markdown",
   "metadata": {},
   "source": [
    "### 数学的記方法による解法\n",
    "\n",
    "まず，$n=1$の場合について確認します．\n",
    "\n",
    "$\\displaystyle S_1 = 1 = \\frac{1(1+1)}{2}$\n",
    "\n",
    "なので$S=1$の場合は成立します．\n",
    "\n",
    "次に，$n=k$のときに$S_k=\\frac{k(k+1)}{2}$が成り立つと仮定します．\n",
    "その前提の下で$S_{k+1}$を計算します．\n",
    "\n",
    "$\\displaystyle S_{k+1} = S_k + (k+1) =\n",
    "\\frac{k(k+1)}{2} + (k+1) =\n",
    "\\frac{k(k+1)+2(k+1)}{2} =\n",
    "\\frac{(k+1)(k+2)}{2} $\n",
    "\n",
    "よって，$n=k+1$のときも$S_{k+1}=\\frac{(k+1)((k+1)+1)}{2}$が成り立ちます．\n",
    "\n",
    "以上により数学的帰納法の前提が成立するので，任意の自然数$n \\in \\mathbb{N}$について$S_n=\\frac{n(n+1)}{2}$が成立することが証明されました．"
   ]
  },
  {
   "cell_type": "markdown",
   "metadata": {},
   "source": [
    "*****\n",
    "数学的帰納法は利用価値が高いので，ぜひ身に付けてください．"
   ]
  }
 ],
 "metadata": {
  "kernelspec": {
   "display_name": "Python 3",
   "language": "python",
   "name": "python3"
  },
  "language_info": {
   "codemirror_mode": {
    "name": "ipython",
    "version": 3
   },
   "file_extension": ".py",
   "mimetype": "text/x-python",
   "name": "python",
   "nbconvert_exporter": "python",
   "pygments_lexer": "ipython3",
   "version": "3.6.1"
  }
 },
 "nbformat": 4,
 "nbformat_minor": 2
}
