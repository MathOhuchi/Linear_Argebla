{
 "cells": [
  {
   "cell_type": "markdown",
   "metadata": {},
   "source": [
    "# 積集合上の写像\n",
    "\n",
    "ここでは，ある集合$X$の積集合$X{\\times}Y$から集合$Z$への写像 $f$について説明します．\n",
    "\n",
    "> $f: (X{\\times}Y) \\rightarrow Z$\n",
    "\n",
    "ただし，ここでは主に$X=Y$の場合について扱います．\n",
    "\n",
    "> $f: (X{\\times}X) \\rightarrow Z$\n",
    "\n",
    "この写像の終域$Z$が$X$と一致する場合，二項演算と言います．\n",
    "\n",
    "> <font color=blue>$二項演算 : X{\\times}X \\rightarrow X$</font>\n",
    "\n",
    "また，写像の終域$Z$が2つの値しかとらない真偽値 $\\{\\text{True},\\text{False}\\}$の場合，二項関係と言います．\n",
    "\n",
    "> <font color=blue>$二項関係 : X{\\times}X \\rightarrow \\{\\text{True},\\text{False}\\} $</font>\n"
   ]
  },
  {
   "cell_type": "markdown",
   "metadata": {},
   "source": [
    "*****\n",
    "## 二項演算\n",
    "\n",
    "ある集合を$X$としたときに，$X$と$X$の積集合$X{\\times}X$から$X$への写像を二項演算といいます．\n",
    "一般に$x,y \\in X$としたとき二項演算の写像は関数表現 $f(x,y)$を使わず，ある二項演算子を定めて，例えば二項演算子を$\\odot$として，$x{\\odot}y$と表現します．\n",
    "\n",
    "> $\\odot : X{\\times}X \\rightarrow X$\n",
    "\n",
    "これを要素で表現すると次のようになります．\n",
    "\n",
    "> $\\odot : (x,y) \\mapsto x{\\odot}y $\n",
    "\n",
    "また，集合と要素の両方を合わせて次のように記載することもあります．\n",
    "\n",
    "> $\\odot : X{\\times}X \\rightarrow X \\,;\\, (x,y) \\mapsto x{\\odot}y $"
   ]
  },
  {
   "cell_type": "markdown",
   "metadata": {},
   "source": [
    "### 二項演算の例\n",
    "\n",
    "実数$\\mathbb{R}$上の四則演算は二項演算の定義に合致しています．\n",
    "例として，足し算について確認しましょう．\n",
    "\n",
    "> $+ : \\mathbb{R}{\\times}\\mathbb{R} \\rightarrow \\mathbb{R}$ <br>\n",
    "> $+ : (x,y) \\mapsto x+y$\n",
    "\n",
    "引き算や掛け算も同様に$\\mathbb{R}{\\times}\\mathbb{R}$上の二項演算になっています．\n",
    "\n",
    "> $- : \\mathbb{R}{\\times}\\mathbb{R} \\rightarrow \\mathbb{R} \\,;\\, (x,y) \\mapsto x-y $\n",
    "\n",
    "> $\\times : \\mathbb{R}{\\times}\\mathbb{R} \\rightarrow \\mathbb{R} \\,;\\, (x,y) \\mapsto x{\\times}y $\n",
    "\n",
    "しかし割り算に関してはゼロで割ることが出来ないので，$\\mathbb{R}^{\\pm}=\\{x \\mid x \\in \\mathbb{R} , x \\ne 0 \\}$として，\n",
    "$\\mathbb{R}{\\times}\\mathbb{R}^{\\pm}$上の二項演算となっています．\n",
    "\n",
    "> $\\div : \\mathbb{R}{\\times}\\mathbb{R}^{\\pm} \\rightarrow \\mathbb{R} \\,;\\, (x,y) \\mapsto x{\\div}y $\n",
    "\n",
    "四則演算において割り算は特殊であることが分かります．"
   ]
  },
  {
   "cell_type": "markdown",
   "metadata": {},
   "source": [
    "*****\n",
    "## 二項関係\n",
    "\n",
    "ある集合を$X$としたときに，$X$と$X$の積集合$X{\\times}X$から真偽値$\\{\\text{Treu},\\text{False}\\}$への写像を二項関係といいます．\n",
    "一般に$x,y \\in X$としたとき二項関係の写像は関数表現 $f(x,y)$を使わず，ある二項関係子を定めて，例えば二項関係子を$\\sim$として，$x{\\sim}y$と表現します．\n",
    "\n",
    "> $\\sim : X{\\times}X \\rightarrow \\{\\text{True},\\text{False}\\}$\n",
    "\n",
    "また，真偽値を導出する写像の関数表現を$b(x,y)$としたとき，要素による表現は次のようになります．\n",
    "\n",
    "> $\\sim : (x,y) \\mapsto b(x,y)$\n",
    "\n",
    "二項関係を集合論的に定義すると，積集合$X{\\times}X$上に部分集合が定義されていることを言います．\n",
    "すなわち，\n",
    "\n",
    "> $\\{(x,y) \\mid (x,y) \\in X{\\times}X ,\\, b(x,y)=\\text{True} \\}$\n",
    "\n",
    "を二項関係の部分集合とすれば，上記の写像による定義と等しくなります．"
   ]
  },
  {
   "cell_type": "markdown",
   "metadata": {},
   "source": [
    "### 二項関係の例\n",
    "\n",
    "二項関係の代表的な例として，同値関係と順序関係があります．\n",
    "これらの関係の中で，実数による分かりやすい例を示します．\n",
    "\n",
    "まず，実数上の同値関係です．\n",
    "\n",
    "> $= : \\mathbb{R}{\\times}\\mathbb{R} \\rightarrow \\{\\text{True},\\text{False}\\} $ <br>\n",
    "> $= : (x,y) \\mapsto \\{ x=y\\text{ ならばTrue},\\, x{\\neq}y\\text{ ならばFalse} \\} $\n",
    "\n",
    "次は，実数上の順序関係です．\n",
    "\n",
    "> $< : \\mathbb{R}{\\times}\\mathbb{R} \\rightarrow \\{\\text{True},\\text{False}\\} $ <br>\n",
    "> $< : (x,y) \\mapsto \\{ x<y\\text{ ならばTrue},\\, x{\\geq}y\\text{ ならばFalse} \\} $\n",
    "\n",
    "実数において等号記号（$=$）や不等号記号（$<$）が事前に定義されているので，上記の表現は当たり前のことを記述しているだけにすぎません．\n"
   ]
  },
  {
   "cell_type": "markdown",
   "metadata": {},
   "source": [
    "*****\n",
    "## 同値関係\n",
    "\n",
    "集合$X$上の二項関係$\\sim$が次の3つの条件を満たすとき，集合$X$における同値関係と言います．\n",
    "\n",
    "任意の$a,b,c \\in X$について，\n",
    "\n",
    "(1) <font color=blue> 反射律：$a{\\sim}a$ </font>\n",
    "\n",
    "> 自分は自分と等しい．\n",
    "\n",
    "(2) <font color=blue> 対称律：$a{\\sim}b \\Rightarrow b{\\sim}a$ </font>\n",
    "\n",
    "> $a$が$b$に等しければ，$b$は$a$に等しい．\n",
    "\n",
    "(3) <font color=blue> 推移律：$a{\\sim}b \\land b{\\sim}c \\Rightarrow a{\\sim}c$ </font>\n",
    "\n",
    "> $a$が$b$に等しく，$b$が$c$に等しければ，$a$は$c$に等しい．\n"
   ]
  },
  {
   "cell_type": "markdown",
   "metadata": {},
   "source": [
    "### 同値類と商集合\n",
    "\n",
    "同値関係$\\sim$が定義されている集合$X$において，ある要素$a \\in X$と等しい要素を全て集めると$X$の部分集合となります．この部分集合を$a$の<font color=blue>同値類</font>と言います．\n",
    "$a$の同値類を$[a]$と表します．\n",
    "\n",
    "任意の$b \\in X$は同値類$[a]$に含まれるか，あるいは含まれないかのどちらかになります．\n",
    "仮に$b \\notin [a]$だったとすると，$b$の同値類$[b]$と$a$の同値類$[a]$の共通部分は空集合となり排他的な関係となります．\n",
    "\n",
    "次に，もし$[a]{\\cup}[b] \\neq X$とすると，$c \\in X$があって$c \\notin [a]{\\cup}[b]$となります．\n",
    "これにより，$c$の同値類$[c]$を特定することができます．同値類$[c]$は，$[a]$とも$[b]$とも交わることはありません．\n",
    "\n",
    "このように，集合$X$の同値類を作っていくと，集合$X$は同値類によって埋め尽くすことができます．\n",
    "今，このようにして求めた同値類を要素と見做した集合を考えます．\n",
    "この集合$\\{[a],[b],\\cdots \\}$を<font color=blue>商集合</font>と言います．"
   ]
  },
  {
   "cell_type": "markdown",
   "metadata": {},
   "source": [
    "#### 同値類と商集合の例\n",
    "\n",
    "非負の整数を$\\mathbb{Z}_{\\ge0}$と書くものとする．\n",
    "要素を並べて記載すると，$\\mathbb{Z}_{\\ge0} = \\{0,1,2,3,\\cdots \\}$となります．\n",
    "また，任意の$a \\in \\mathbb{Z}_{\\ge0}$を自然数$n$で割った余りを求める計算を$a \\,\\text{mod}\\, n$と書きます．\n",
    "例えば，$7 \\,\\text{mod}\\, 5 = 2$となります．\n",
    "\n",
    "さて，$\\mathbb{Z}_{\\ge0}$の要素を$5$で割った余りが等しいことを同値関係と定義します．\n",
    "すなわち，$a,b \\in \\mathbb{Z}_{\\ge0}$としたとき\n",
    "\n",
    "> $a{\\sim}b : a \\,\\text{mod}\\, 5 = b \\,\\text{mod}\\, 5$のときに$\\text{True}$，その他のときは$\\text{False}$\n",
    "\n",
    "とします．\n",
    "すると，$\\{0,5,10,15,\\cdots \\}$は$5$で割った余りが$0$となるので，$0$の同値類$[0]$となります．\n",
    "同じように計算していくと全ての非負整数は，次のように整理できます．\n",
    "\n",
    "> $[0] = \\{0,5,10,15,\\cdots \\}$ <br>\n",
    "\n",
    "> $[1] = \\{1,6,11,16,\\cdots \\}$ <br>\n",
    "\n",
    "> $[2] = \\{2,7,12,17,\\cdots \\}$ <br>\n",
    "\n",
    "> $[3] = \\{3,8,13,18,\\cdots \\}$ <br>\n",
    "\n",
    "> $[4] = \\{4,9,14,19,\\cdots \\}$\n",
    "\n",
    "そして，この同値類による商集合は，$\\{[0],[1],[2],[3],[4] \\}$となります．\n",
    "\n",
    "同値類や商集合の概念により，数学の構造が階層化され，より抽象的な理論が展開されていきますので，これらの概念を理解することは大きな進歩となります．"
   ]
  },
  {
   "cell_type": "markdown",
   "metadata": {
    "collapsed": true
   },
   "source": [
    "*****\n",
    "二項演算も二項関係も写像として定義されます．\n",
    "さらに，写像は始域と終域との積集合の部分集合として定義することができ，現代数学では，その定義を使用します．"
   ]
  }
 ],
 "metadata": {
  "kernelspec": {
   "display_name": "Python 3",
   "language": "python",
   "name": "python3"
  },
  "language_info": {
   "codemirror_mode": {
    "name": "ipython",
    "version": 3
   },
   "file_extension": ".py",
   "mimetype": "text/x-python",
   "name": "python",
   "nbconvert_exporter": "python",
   "pygments_lexer": "ipython3",
   "version": "3.6.1"
  }
 },
 "nbformat": 4,
 "nbformat_minor": 2
}
