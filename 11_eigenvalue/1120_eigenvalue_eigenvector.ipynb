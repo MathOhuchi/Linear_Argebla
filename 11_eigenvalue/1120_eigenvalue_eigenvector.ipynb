{
 "cells": [
  {
   "cell_type": "markdown",
   "metadata": {},
   "source": [
    "# 固有値と固有ベクトル\n",
    "\n",
    "線形代数において中心的な役割を果たす固有値と固有ベクトルについて学習します．\n",
    "\n",
    "固有値と固有ベクトルは様々な分野において活用されていますが，それらの分野での課題を解決するために固有値問題を始めて知ったという方も多いかと思われます．\n"
   ]
  },
  {
   "cell_type": "markdown",
   "metadata": {},
   "source": [
    "## 定義\n",
    "\n",
    "n次元のベクトル空間上の線形変換の表現行列を$\\bf A$としたとき，\n",
    "\n",
    "> <font color=blue>${\\bf Ap}={\\lambda}{\\bf p}$</font>\n",
    "\n",
    "が成立するスカラー$\\lambda$と零ベクトルでないベクトル$\\bf p$が存在すれば，\n",
    "スカラー$\\lambda$を<font color=blue>固有値</font>と言い，ベクトル$\\bf p$を<font color=blue>固有ベクトル</font>と言います．"
   ]
  },
  {
   "cell_type": "markdown",
   "metadata": {},
   "source": [
    "固有値と固有ベクトルについて，<font color=blue>固有方程式</font>と呼ばれる次の式が成立します．\n",
    "\n",
    "> <font color=blue>$\\text{det}({\\bf A}-{\\lambda}{\\bf I}) = 0$</font>\n",
    "\n",
    "なぜならば${\\lambda}{\\bf p}={\\lambda}{\\bf Ip}$なので，固有値の定義により，\n",
    "\n",
    "$\\begin{eqnarray}\n",
    "{\\bf Ap} &=& {\\lambda}{\\bf p} \\\\\n",
    "{\\bf Ap} &=& {\\lambda}{\\bf Ip} \\\\\n",
    "{\\bf Ap}-{\\lambda}{\\bf Ip} &=& {\\bf 0} \\\\\n",
    "({\\bf Ap}-{\\lambda}{\\bf I}){\\bf p} &=& {\\bf 0} \\\\\n",
    "\\end{eqnarray}$\n",
    "\n",
    "となり，最後の式の行列式をとると，\n",
    "\n",
    "$\\text{det}({\\bf Ap}-{\\lambda}{\\bf I})\\text{det}({\\bf p}) = 0 $\n",
    "\n",
    "${\\bf p} \\neq {\\bf 0}$なので，$\\text{det}(p) \\neq 0$であるため，\n",
    "$\\text{det}({\\bf A}-{\\lambda}{\\bf I}) = 0$\n",
    "が得られます．\n",
    "\n",
    "固有方程式の左辺部分を<font color=blue>固有多項式</font>と言います．"
   ]
  },
  {
   "cell_type": "markdown",
   "metadata": {},
   "source": [
    "### 固有空間\n",
    "\n",
    "固有値$\\lambda$の固有ベクトルは線形部分空間になっています．\n",
    "\n",
    "なぜならば，${\\bf p}_1$と${\\bf p}_2$を固有値$\\lambda$に対する固有ベクトルとし，$k_1,k_2$を任意のスカラーとすると，\n",
    "\n",
    "$\\begin{eqnarray}\n",
    "{\\bf A}(k_1{\\bf p}_1+k_2{\\bf p}_2) &=& \n",
    "k_1{\\bf A}{\\bf p}_2+k_2{\\bf A}{\\bf p}_2 \\\\\n",
    "&=&\n",
    "k_1{\\lambda}{\\bf p}_1+k_2{\\lambda}{\\bf p}_2 \\\\\n",
    "&=&\n",
    "{\\lambda}(k_1{\\bf p}_1+k_2{\\bf p}_2)\n",
    "\\end{eqnarray}$\n",
    "\n",
    "となるので，線形部分空間となります．\n",
    "この線形部分空間を固有値$\\lambda$の<font color=blue>固有空間</font>と言います．"
   ]
  },
  {
   "cell_type": "markdown",
   "metadata": {},
   "source": [
    "このように，1つの固有値に対する固有ベクトルは1つではありません．\n",
    "考え方としては，1つの固有値に1つの固有空間があり，それぞれの固有空間の次元も1次元とは限りません．\n",
    "したがって，同じ固有値問題を複数の人や複数のソフトで解いたとき，異なる固有ベクトルが得られても間違いではありません．\n",
    "\n",
    "固有空間の特徴は，<font color=blue>固有ベクトルに行列$\\bf A$を作用させると方向は維持して大きさだけを固有値倍したベクトルになる</font>ことです．\n",
    "\n",
    "固有値問題を解く具体的な方法は，固有方程式$\\text{det}({\\bf A}-{\\lambda}{\\bf I}) = 0$を解くことになります．\n",
    "この方程式の次数は，行列$\\bf A$の次数に依存しています．\n",
    "行列$\\bf A$がn次ならば，固有方程式はn次方程式となります．\n",
    "\n",
    "それでは具体的な例を見ていきます．"
   ]
  },
  {
   "cell_type": "markdown",
   "metadata": {},
   "source": [
    "*****\n",
    "## 固有値問題の例\n",
    "\n",
    "2次正方行列$\\bf A$を\n",
    "\n",
    "${\\bf A} =\n",
    "\\left(\\begin{array}{c}\n",
    "1.8 & 0.6 \\\\\n",
    "0.6 & 1.8 \\\\\n",
    "\\end{array}\\right)$\n",
    "\n",
    "としたときの固有値と固有ベクトルを求めます．"
   ]
  },
  {
   "cell_type": "markdown",
   "metadata": {},
   "source": [
    "まずは固有方程式を具体的に求めます．\n",
    "\n",
    "$\\begin{eqnarray}\n",
    "\\text{det}({\\bf A}-\\lambda{\\bf I}) &=&\n",
    "\\text{det}\\left(\n",
    "\\left(\\begin{array}{c}\n",
    "1.8 & 0.6 \\\\\n",
    "0.6 & 1.8 \\\\\n",
    "\\end{array}\\right)\n",
    "- \\lambda\n",
    "\\left(\\begin{array}{c}\n",
    "1 & 0 \\\\\n",
    "0 & 1 \\\\\n",
    "\\end{array}\\right)\n",
    "\\right) \\\\\n",
    "&=&\n",
    "\\left|\\begin{array}{c}\n",
    "1.8 -\\lambda & 0.6 \\\\\n",
    "0.6 & 1.8 -\\lambda \\\\\n",
    "\\end{array}\\right| \\\\\n",
    "&=&\n",
    "(1.8-\\lambda)(1.8-\\lambda)-{0.6}^2 \\\\\n",
    "&=&\n",
    "{\\lambda}^2-3.6\\lambda+2.88 \\\\\n",
    "&=&\n",
    "(\\lambda-1.2)(\\lambda-2.4) \\\\\n",
    "&=& 0 \\\\\n",
    "\\end{eqnarray}$\n",
    "\n",
    "したがって固有値は，$1.2$と$2.4$になります．"
   ]
  },
  {
   "cell_type": "markdown",
   "metadata": {},
   "source": [
    "固有ベクトルを求めるには，$({\\bf A}-\\lambda{\\bf I}){\\bf p}={\\bf 0}$に固有値を代入して，行列方程式を解いていきます．"
   ]
  },
  {
   "cell_type": "markdown",
   "metadata": {},
   "source": [
    "まず，$\\lambda=1.2$の場合，\n",
    "\n",
    "$\\begin{eqnarray}\n",
    "({\\bf A}-\\lambda{\\bf I}){\\bf p} &=& {\\bf 0} \\\\\n",
    "\\left(\n",
    "\\left(\\begin{array}{c}\n",
    "1.8 & 0.6 \\\\\n",
    "0.6 & 1.8 \\\\\n",
    "\\end{array}\\right)\n",
    "- 1.2\n",
    "\\left(\\begin{array}{c}\n",
    "1 & 0 \\\\\n",
    "0 & 1 \\\\\n",
    "\\end{array}\\right)\n",
    "\\right)\n",
    "{\\bf p}&=& {\\bf 0} \\\\\n",
    "\\left(\\begin{array}{c}\n",
    "0.6 & 0.6 \\\\\n",
    "0.6 & 0.6 \\\\\n",
    "\\end{array}\\right)\n",
    "{\\bf p} &=& {\\bf 0} \\\\\n",
    "\\left(\\begin{array}{c}\n",
    "1 & 1 \\\\\n",
    "1 & 1 \\\\\n",
    "\\end{array}\\right)\n",
    "{\\bf p} &=& {\\bf 0} \\\\\n",
    "\\end{eqnarray}$"
   ]
  },
  {
   "cell_type": "markdown",
   "metadata": {},
   "source": [
    "ここで，\n",
    "${\\bf p} =\n",
    "\\left(\\begin{array}{c} x \\\\ y \\\\ \\end{array}\\right) $\n",
    "と置くと\n",
    "$\\left(\\begin{array}{c}\n",
    "1 & 1 \\\\\n",
    "1 & 1 \\\\\n",
    "\\end{array}\\right)\n",
    "\\left(\\begin{array}{c} x \\\\ y \\\\ \\end{array}\\right) = \n",
    "\\left(\\begin{array}{c} 0 \\\\ 0 \\\\ \\end{array}\\right) $\n",
    "ですので，$x+y=0$が得られます．\n",
    "\n",
    "よって，$c_1$を任意の実数として，$x=c_1$と置けば，$y=-c_1$となり，\n",
    "\n",
    "${\\bf p}_1 = c_1 \\left(\\begin{array}{c} 1 \\\\ -1 \\\\ \\end{array}\\right)$\n",
    "\n",
    "が固有値$1.2$に対応する固有ベクトルとして求まります．"
   ]
  },
  {
   "cell_type": "markdown",
   "metadata": {},
   "source": [
    "次に，$\\lambda=2.4$の場合，\n",
    "\n",
    "$\\begin{eqnarray}\n",
    "({\\bf A}-\\lambda{\\bf I}){\\bf p} &=& {\\bf 0} \\\\\n",
    "\\left(\n",
    "\\left(\\begin{array}{c}\n",
    "1.8 & 0.6 \\\\\n",
    "0.6 & 1.8 \\\\\n",
    "\\end{array}\\right)\n",
    "- 2.4\n",
    "\\left(\\begin{array}{c}\n",
    "1 & 0 \\\\\n",
    "0 & 1 \\\\\n",
    "\\end{array}\\right)\n",
    "\\right)\n",
    "{\\bf p}&=& {\\bf 0} \\\\\n",
    "\\left(\\begin{array}{c}\n",
    "-0.6 & 0.6 \\\\\n",
    "0.6 & -0.6 \\\\\n",
    "\\end{array}\\right)\n",
    "{\\bf p} &=& {\\bf 0} \\\\\n",
    "\\left(\\begin{array}{c}\n",
    "-1 & 1 \\\\\n",
    "1 & -1 \\\\\n",
    "\\end{array}\\right)\n",
    "{\\bf p} &=& {\\bf 0} \\\\\n",
    "\\end{eqnarray}$"
   ]
  },
  {
   "cell_type": "markdown",
   "metadata": {},
   "source": [
    "ここでも，\n",
    "${\\bf p} =\n",
    "\\left(\\begin{array}{c} x \\\\ y \\\\ \\end{array}\\right) $\n",
    "と置くと\n",
    "$\\left(\\begin{array}{c}\n",
    "-1 & 1 \\\\\n",
    "1 & -1 \\\\\n",
    "\\end{array}\\right)\n",
    "\\left(\\begin{array}{c} x \\\\ y \\\\ \\end{array}\\right) = \n",
    "\\left(\\begin{array}{c} 0 \\\\ 0 \\\\ \\end{array}\\right) $\n",
    "ですので，$x-y=0$が得られます．\n",
    "\n",
    "よって，$c_2$を任意の実数として，$x=c_2$と置けば，$y=c_2$となり，\n",
    "\n",
    "${\\bf p}_2 = c_2 \\left(\\begin{array}{c} 1 \\\\ 1 \\\\ \\end{array}\\right)$\n",
    "\n",
    "が固有値$2.4$に対応する固有ベクトルとして求まります．"
   ]
  },
  {
   "cell_type": "markdown",
   "metadata": {},
   "source": [
    "固有値と固有ベクトルの特徴をベクトル場のグラフで確認しましょう．\n",
    "\n",
    "![延びる変換](./images/vecfield01.jpg)\n",
    "\n",
    "左上から右下へかかる赤い線が固有値$1.2$に対応する固有空間で，\n",
    "左下から右上へかかる赤い線が固有値$2.4$に対応する固有空間となっています．"
   ]
  },
  {
   "cell_type": "markdown",
   "metadata": {},
   "source": [
    "*****\n",
    "## Pythonによる解法\n",
    "\n",
    "それでは，この固有値問題をPythonで解いてみましょう．\n",
    "\n",
    "まず，NumPyライブラリーをインポートします．"
   ]
  },
  {
   "cell_type": "code",
   "execution_count": 1,
   "metadata": {
    "collapsed": true
   },
   "outputs": [],
   "source": [
    "import numpy as np"
   ]
  },
  {
   "cell_type": "markdown",
   "metadata": {},
   "source": [
    "行列${\\bf A} =\n",
    "\\left(\\begin{array}{c}\n",
    "1.8 & 0.6 \\\\\n",
    "0.6 & 1.8 \\\\\n",
    "\\end{array}\\right)$\n",
    "を配列オブジェクトとして定義します．"
   ]
  },
  {
   "cell_type": "code",
   "execution_count": 2,
   "metadata": {},
   "outputs": [
    {
     "data": {
      "text/plain": [
       "array([[ 1.8,  0.6],\n",
       "       [ 0.6,  1.8]])"
      ]
     },
     "execution_count": 2,
     "metadata": {},
     "output_type": "execute_result"
    }
   ],
   "source": [
    "A = np.array([[1.8,0.6],[0.6,1.8]])\n",
    "A"
   ]
  },
  {
   "cell_type": "markdown",
   "metadata": {},
   "source": [
    "固有値および固有ベクトルを求めるには<font color=green>numpy.linalg.eig()</font>関数を用います．\n",
    "\n",
    "> eigen_values,eigen_vectors = np.linalg.eig(A)\n",
    "\n",
    "結果は，固有値と固有ベクトルが配列に格納されて返されます．"
   ]
  },
  {
   "cell_type": "code",
   "execution_count": 3,
   "metadata": {
    "collapsed": true
   },
   "outputs": [],
   "source": [
    "eigen_values,eigen_vectors = np.linalg.eig(A)"
   ]
  },
  {
   "cell_type": "markdown",
   "metadata": {},
   "source": [
    "固有値を確認します．"
   ]
  },
  {
   "cell_type": "code",
   "execution_count": 4,
   "metadata": {},
   "outputs": [
    {
     "data": {
      "text/plain": [
       "array([ 2.4,  1.2])"
      ]
     },
     "execution_count": 4,
     "metadata": {},
     "output_type": "execute_result"
    }
   ],
   "source": [
    "eigen_values"
   ]
  },
  {
   "cell_type": "markdown",
   "metadata": {},
   "source": [
    "Python配列のインデックスは0はじまりなので，eigen_values[0]の値が2.4です．\n",
    "そして，eigen_values[1]の値が1.2です．\n",
    "\n",
    "固有ベクトルは縦に並んでいて，固有値eigen_values[i]に対応する固有ベクトルはeigen_vectors[:,i]となります．\n",
    "固有ベクトルの取り出し方に注意してください．\n",
    "固有値eigen_balues[0]=2.4に対応する固有ベクトルはeigen_vectors[:,0]です．"
   ]
  },
  {
   "cell_type": "code",
   "execution_count": 5,
   "metadata": {},
   "outputs": [
    {
     "data": {
      "text/plain": [
       "array([ 0.70710678,  0.70710678])"
      ]
     },
     "execution_count": 5,
     "metadata": {},
     "output_type": "execute_result"
    }
   ],
   "source": [
    "eigen_vectors[:,0]"
   ]
  },
  {
   "cell_type": "markdown",
   "metadata": {},
   "source": [
    "この固有ベクトルが切りの悪い数字になっていますが，これは，ベクトルの大きさを1に揃えているからです．\n",
    "このようにベクトルの大きさを1に揃えることを正規化と言います．\n",
    "Pythonでは，自動的に正規化された固有ベクトルが提供されます．\n",
    "逆に，このベクトルを0.70710678で割ると，固有ベクトルとして\n",
    "$\\left(\\begin{array}{c}\n",
    "1 \\\\ 1 \\\\\n",
    "\\end{array}\\right)$\n",
    "が得られます．\n",
    "\n",
    "固有値eigen_balues[1]=1.2に対応する固有ベクトルはeigen_vectors[:,1]です．"
   ]
  },
  {
   "cell_type": "code",
   "execution_count": 6,
   "metadata": {},
   "outputs": [
    {
     "data": {
      "text/plain": [
       "array([-0.70710678,  0.70710678])"
      ]
     },
     "execution_count": 6,
     "metadata": {},
     "output_type": "execute_result"
    }
   ],
   "source": [
    "eigen_vectors[:,1]"
   ]
  },
  {
   "cell_type": "markdown",
   "metadata": {},
   "source": [
    "このベクトルを-0.70710678で割ると，固有ベクトルとして\n",
    "$\\left(\\begin{array}{c}\n",
    "1 \\\\ -1 \\\\\n",
    "\\end{array}\\right)$\n",
    "が得られます．"
   ]
  },
  {
   "cell_type": "markdown",
   "metadata": {},
   "source": [
    "Pythonで固有値問題を解くには，これだけで済みます．\n",
    "しかし，理論を理解していないと，単にツールのオペレータになってしまいます．\n",
    "ツールに使われないためにも，理論を理解しましょう．\n",
    "*****"
   ]
  }
 ],
 "metadata": {
  "kernelspec": {
   "display_name": "Python 3",
   "language": "python",
   "name": "python3"
  },
  "language_info": {
   "codemirror_mode": {
    "name": "ipython",
    "version": 3
   },
   "file_extension": ".py",
   "mimetype": "text/x-python",
   "name": "python",
   "nbconvert_exporter": "python",
   "pygments_lexer": "ipython3",
   "version": "3.6.1"
  }
 },
 "nbformat": 4,
 "nbformat_minor": 2
}
