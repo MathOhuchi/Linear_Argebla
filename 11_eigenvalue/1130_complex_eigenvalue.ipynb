{
 "cells": [
  {
   "cell_type": "markdown",
   "metadata": {},
   "source": [
    "# 固有値が複素数の場合\n",
    "\n",
    "ここまで行列$\\bf A$の固有値$\\lambda$と固有ベクトル$\\bf p$を求める方法を学習しました．  \n",
    "固有値は，固有方程式$\\text{det}({\\bf A}-\\lambda{\\bf I})=0$を解くことによって求まります．\n",
    "この固有方程式は，行列の次数と同じ次数の代数方程式です．\n",
    "例えば，行列$\\bf A$を2次正方行列とすると，固有方程式は2次方程式になります．\n",
    "\n",
    "これまで幾何学的な意味と一致させるために，スカラーを実数としてきました．\n",
    "固有値問題の例では，固有値が実数となる行列で解説してきました．\n",
    "しかし，固有方程式の解が複素数になることもあります．\n",
    "ここでは，そのようなケースについて説明します．"
   ]
  },
  {
   "cell_type": "markdown",
   "metadata": {},
   "source": [
    "## 線形変換としての回転\n",
    "\n",
    "ここでは，次の行列を扱います．\n",
    "これは，反時計回りに30度回転させる線形変換です．\n",
    "\n",
    "> ${\\bf A} =\n",
    "\\left(\\begin{array}{c}\n",
    "\\cos{\\frac{\\pi}{6}} & -\\sin{\\frac{\\pi}{6}} \\\\\n",
    "\\sin{\\frac{\\pi}{6}} &  \\cos{\\frac{\\pi}{6}} \\\\\n",
    "\\end{array}\\right)$\n",
    "$=\n",
    "\\left(\\begin{array}{c}\n",
    "\\frac{\\sqrt{3}}{2} & -\\frac{1}{2} \\\\\n",
    "\\frac{1}{2} &  \\frac{\\sqrt{3}}{2} \\\\\n",
    "\\end{array}\\right)$\n",
    "\n",
    "この行列について，固有値を求めていきます．"
   ]
  },
  {
   "cell_type": "markdown",
   "metadata": {},
   "source": [
    "#### 固有値\n",
    "\n",
    "まず，固有多項式を計算します．\n",
    "\n",
    "$$\\begin{eqnarray}\n",
    "\\text{det}({\\bf A}-\\lambda{\\bf I}) &=&\n",
    "\\text{det}\\left\\{\n",
    "\\left(\\begin{array}{c}\n",
    "\\frac{\\sqrt{3}}{2} & -\\frac{1}{2} \\\\\n",
    "\\frac{1}{2} & \\frac{\\sqrt{3}}{2} \\\\\n",
    "\\end{array}\\right)\n",
    "-\n",
    "\\left(\\begin{array}{c}\n",
    "\\lambda & 0 \\\\\n",
    "0 & \\lambda \\\\\n",
    "\\end{array}\\right)\n",
    "\\right\\} \\\\\n",
    "&=&\n",
    "\\left|\\begin{array}{c}\n",
    "\\frac{\\sqrt{3}}{2}-\\lambda & -\\frac{1}{2} \\\\\n",
    "\\frac{1}{2} & \\frac{\\sqrt{3}}{2}-\\lambda \\\\\n",
    "\\end{array}\\right| \\\\\n",
    "&=&\n",
    "\\left(\\frac{\\sqrt{3}}{2}-\\lambda\\right)^2 +\\left(\\frac{1}{2}\\right)^2 \\\\\n",
    "&=&\n",
    "\\frac{3}{4}-\\sqrt{3}\\lambda+{\\lambda}^2+\\frac{1}{4} \\\\\n",
    "&=&\n",
    "{\\lambda}^2-\\sqrt{3}\\lambda+1 \\\\\n",
    "\\end{eqnarray}$$"
   ]
  },
  {
   "cell_type": "markdown",
   "metadata": {},
   "source": [
    "よって，固有方程式\n",
    "${\\lambda}^2-\\sqrt{3}\\lambda+1=0$\n",
    "を解くと，\n",
    "\n",
    "> $\\displaystyle \\lambda = \\frac{\\sqrt{3}}{2} \\pm \\frac{1}{2}i$\n",
    "\n",
    "となります．\n",
    "この行列の固有値は複素数です．"
   ]
  },
  {
   "cell_type": "markdown",
   "metadata": {},
   "source": [
    "#### 固有ベクトル\n",
    "\n",
    "固有値$\\lambda_1 = \\frac{\\sqrt{3}}{2}+\\frac{1}{2}i$ に対する固有ベクトルを計算します．\n",
    "\n",
    "$${\\bf A}-\\lambda_1{\\bf I}\n",
    "=\n",
    "\\left(\\begin{array}{c}\n",
    "\\frac{\\sqrt{3}}{2}-\\lambda_1 & -\\frac{1}{2} \\\\\n",
    "\\frac{1}{2} & \\frac{\\sqrt{3}}{2}-\\lambda_1 \\\\\n",
    "\\end{array}\\right) \n",
    "=\n",
    "\\left(\\begin{array}{c}\n",
    "-\\frac{1}{2}i & -\\frac{1}{2} \\\\\n",
    "\\frac{1}{2} & -\\frac{1}{2}i \\\\\n",
    "\\end{array}\\right) $$\n",
    "\n",
    "となるので，\n",
    "$({\\bf A}-\\lambda_1{\\bf I}){\\bf p}={\\bf 0}$\n",
    "の中身を連立方程式で書くと，\n",
    "\n",
    "$$\\left\\{ \\begin{eqnarray} \n",
    "ix + y &=& 0 \\\\\n",
    "x - iy &=& 0 \\\\\n",
    "\\end{eqnarray} \\right. $$\n",
    "\n",
    "となります．\n",
    "ここで，$x=c_1$と置くと，$y=-ic_1$となるので固有ベクトルは，\n",
    "\n",
    "> ${\\bf p}_1 = c_1 \\left(\\begin{array}{c} 1 \\\\ -i \\\\ \\end{array}\\right)$\n",
    "\n",
    "となります．"
   ]
  },
  {
   "cell_type": "markdown",
   "metadata": {},
   "source": [
    "固有値$\\lambda_2 = \\frac{\\sqrt{3}}{2}-\\frac{1}{2}i$ に対する固有ベクトルも同様に計算します．\n",
    "\n",
    "$${\\bf A}-\\lambda_2{\\bf I}\n",
    "=\n",
    "\\left(\\begin{array}{c}\n",
    "\\frac{\\sqrt{3}}{2}-\\lambda_2 & -\\frac{1}{2} \\\\\n",
    "\\frac{1}{2} & \\frac{\\sqrt{3}}{2}-\\lambda_2 \\\\\n",
    "\\end{array}\\right) \n",
    "=\n",
    "\\left(\\begin{array}{c}\n",
    "\\frac{1}{2}i & -\\frac{1}{2} \\\\\n",
    "\\frac{1}{2} & \\frac{1}{2}i \\\\\n",
    "\\end{array}\\right) $$\n",
    "\n",
    "となるので，\n",
    "$({\\bf A}-\\lambda_2{\\bf I}){\\bf p}={\\bf 0}$\n",
    "の中身を連立方程式で書くと，\n",
    "\n",
    "$$\\left\\{ \\begin{eqnarray} \n",
    "ix - y &=& 0 \\\\\n",
    "x + iy &=& 0 \\\\\n",
    "\\end{eqnarray} \\right. $$\n",
    "\n",
    "となります．\n",
    "ここで，$x=c_2$と置くと，$y=ic_2$となるので固有ベクトルは，\n",
    "\n",
    "> ${\\bf p}_2 = c_2 \\left(\\begin{array}{c} 1 \\\\ i \\\\ \\end{array}\\right)$\n",
    "\n",
    "となります．"
   ]
  },
  {
   "cell_type": "markdown",
   "metadata": {},
   "source": [
    "## 幾何学的解釈\n",
    "\n",
    "さて，行列$\\bf A$の固有値と固有ベクトルが求まりましたので，その幾何学的解釈を与えます．\n",
    "元々の空間が2次元ユークリッド空間，つまり2次元実数ベクトル空間でした．\n",
    "しかし，求まった固有ベクトルは複素数ベクトルになってしまいました．\n",
    "\n",
    "これまで見てきた実数の固有値と固有ベクトルの場合，行列$\\bf A$によって引き起こされる線形変換を固有ベクトルに作用させると，\n",
    "ベクトルの方向を維持して大きさが固有値倍になりました．\n",
    "固有値が負の実数の場合は，ベクトルの向きが逆になります．"
   ]
  },
  {
   "cell_type": "markdown",
   "metadata": {},
   "source": [
    "しかし，固有値が複素数になると，この説明はナンセンスなものとなっています．\n",
    "そこで，行列$\\bf A$によるベクトル場の画像を確認してみましょう．\n",
    "\n",
    "![回転の線形写像](./images/vecfield_rotation.jpg)\n",
    "\n",
    "このように想定通り反時計方向に30度の回転になっています．"
   ]
  },
  {
   "cell_type": "markdown",
   "metadata": {},
   "source": [
    "まず，固有値ですが，\n",
    "\n",
    "> $\\displaystyle \\lambda_1 = \\frac{\\sqrt{3}}{2}+\\frac{1}{2}i$\n",
    "\n",
    "> $\\displaystyle \\lambda_2 = \\frac{\\sqrt{3}}{2}-\\frac{1}{2}i$\n",
    "\n",
    "これらは，お互いに複素共役になっています．\n",
    "つまり，$\\overline{\\lambda_1} = \\lambda_2$となっています．\n",
    "\n",
    "ここで固有値の大きさである絶対値を計算します．\n",
    "ただし，複素数の絶対値はその数とその複素共役を掛けた値になります．\n",
    "\n",
    "$$ \\begin{eqnarray}\n",
    "{|{\\lambda_1}|}^2 &=&\n",
    "\\overline{\\lambda_1}{\\cdot}\\lambda_1 \\\\\n",
    "&=&\n",
    "\\lambda_2{\\cdot}\\lambda_1 \\\\\n",
    "&=&\n",
    "\\left(\\frac{\\sqrt{3}}{2}-\\frac{1}{2}i\\right)\\left(\\frac{\\sqrt{3}}{2}+\\frac{1}{2}i\\right) \\\\\n",
    "&=&\n",
    "\\frac{\\sqrt{3}}{2}{\\cdot}\\frac{\\sqrt{3}}{2} + \\frac{\\sqrt{3}}{2}{\\cdot}\\frac{1}{2}i - \\frac{\\sqrt{3}}{2}{\\cdot}\\frac{1}{2}i - \\frac{1}{2}i{\\cdot}\\frac{1}{2}i \\\\\n",
    "&=&\n",
    "\\frac{3}{4}+\\frac{1}{4} \\\\\n",
    "&=& 1 \\\\\n",
    "\\end{eqnarray}$$\n",
    "\n",
    "これが意味することは，ベクトルの変換前と変換後の大きさが変わらないということです．\n",
    "確かに，単純な回転ですので，ベクトルの大きさは変わっておりません．\n",
    "\n",
    "もし，固有値が複素数で，かつ，ベクトルの大きさが1より大きい場合は，回転しながら伸長しています．\n",
    "また，複素数である固有値の大きさが1より小さければ，回転しながら縮小します．"
   ]
  },
  {
   "cell_type": "markdown",
   "metadata": {},
   "source": [
    "*****\n",
    "## Pythonによる確認\n",
    "\n",
    "それでは，この固有値問題についてもPythonで確認しましょう．\n",
    "\n",
    "まずはNumPyライブラリーをインポートします．"
   ]
  },
  {
   "cell_type": "code",
   "execution_count": 1,
   "metadata": {
    "collapsed": true
   },
   "outputs": [],
   "source": [
    "import numpy as np"
   ]
  },
  {
   "cell_type": "markdown",
   "metadata": {},
   "source": [
    "行列${\\bf A} =\n",
    "\\left(\\begin{array}{c}\n",
    "\\frac{\\sqrt{3}}{2} & -\\frac{1}{2} \\\\\n",
    "\\frac{1}{2} &  \\frac{\\sqrt{3}}{2} \\\\\n",
    "\\end{array}\\right)$\n",
    "を配列オブジェクトとして定義します．"
   ]
  },
  {
   "cell_type": "code",
   "execution_count": 2,
   "metadata": {},
   "outputs": [
    {
     "data": {
      "text/plain": [
       "array([[ 0.8660254, -0.5      ],\n",
       "       [ 0.5      ,  0.8660254]])"
      ]
     },
     "execution_count": 2,
     "metadata": {},
     "output_type": "execute_result"
    }
   ],
   "source": [
    "A = np.array([[np.sqrt(3)/2,-1/2],[1/2,np.sqrt(3)/2]])\n",
    "A"
   ]
  },
  {
   "cell_type": "markdown",
   "metadata": {},
   "source": [
    "<font color=green>numpy.linalg.eig()</font>関数によって，固有値と固有ベクトルを求めます．\n",
    "\n",
    "> eigen_values,eigen_vectors = np.linalg.eig(A)\n",
    "\n",
    "結果は，固有値と固有ベクトルが配列に格納されて返されます．"
   ]
  },
  {
   "cell_type": "code",
   "execution_count": 3,
   "metadata": {
    "collapsed": true
   },
   "outputs": [],
   "source": [
    "eigen_values,eigen_vectors = np.linalg.eig(A)"
   ]
  },
  {
   "cell_type": "markdown",
   "metadata": {},
   "source": [
    "固有値を確認します．"
   ]
  },
  {
   "cell_type": "code",
   "execution_count": 4,
   "metadata": {},
   "outputs": [
    {
     "data": {
      "text/plain": [
       "array([ 0.8660254+0.5j,  0.8660254-0.5j])"
      ]
     },
     "execution_count": 4,
     "metadata": {},
     "output_type": "execute_result"
    }
   ],
   "source": [
    "eigen_values"
   ]
  },
  {
   "cell_type": "markdown",
   "metadata": {},
   "source": [
    "Pythonでは虚数単位をアルファベットの **j** で表します．\n",
    "$\\frac{\\sqrt{3}}{2} \\approx 0.8660254$なので，固有値として，\n",
    "\n",
    "> $\\displaystyle \\lambda_1 = \\frac{\\sqrt{3}}{2}+\\frac{1}{2}i$\n",
    "\n",
    "> $\\displaystyle \\lambda_2 = \\frac{\\sqrt{3}}{2}-\\frac{1}{2}i$\n",
    "\n",
    "が求まりました．\n",
    "\n",
    "$\\lambda_1$に対応する固有ベクトルである eigen_vectors[:,0] を確認します．"
   ]
  },
  {
   "cell_type": "code",
   "execution_count": 5,
   "metadata": {},
   "outputs": [
    {
     "data": {
      "text/plain": [
       "array([ 0.00000000-0.70710678j, -0.70710678+0.j        ])"
      ]
     },
     "execution_count": 5,
     "metadata": {},
     "output_type": "execute_result"
    }
   ],
   "source": [
    "eigen_vectors[:,0]"
   ]
  },
  {
   "cell_type": "markdown",
   "metadata": {},
   "source": [
    "$\\frac{\\sqrt{2}}{2} \\approx 0.70710678$なので，この正規化された固有ベクトルは，\n",
    "\n",
    "> ${\\bf p}_1 = \\left(\\begin{array}{c} -\\frac{\\sqrt{2}}{2}i \\\\ -\\frac{\\sqrt{2}}{2} \\\\ \\end{array}\\right) $\n",
    "$\\propto \\left(\\begin{array}{c} 1 \\\\ -i \\\\ \\end{array}\\right)$\n",
    "\n",
    "となっていっます．\n",
    "\n",
    "また，$\\lambda_2$に対応する固有ベクトルである eigen_vectors[:,1] を確認します．"
   ]
  },
  {
   "cell_type": "code",
   "execution_count": 6,
   "metadata": {},
   "outputs": [
    {
     "data": {
      "text/plain": [
       "array([ 0.00000000+0.70710678j, -0.70710678-0.j        ])"
      ]
     },
     "execution_count": 6,
     "metadata": {},
     "output_type": "execute_result"
    }
   ],
   "source": [
    "eigen_vectors[:,1]"
   ]
  },
  {
   "cell_type": "markdown",
   "metadata": {},
   "source": [
    "この正規化された固有ベクトルは，\n",
    "\n",
    "> ${\\bf p}_2 = \\left(\\begin{array}{c} \\frac{\\sqrt{2}}{2}i \\\\ -\\frac{\\sqrt{2}}{2} \\\\ \\end{array}\\right) $\n",
    "$\\propto \\left(\\begin{array}{c} 1 \\\\ i \\\\ \\end{array}\\right)$\n",
    "\n",
    "です．\n",
    "\n",
    "${\\bf p}_1$，${\\bf p}_2$の両方とも手計算で求めた固有ベクトルと同じ固有空間を代表するベクトルになっています．"
   ]
  },
  {
   "cell_type": "markdown",
   "metadata": {},
   "source": [
    "*****\n",
    "以上のように，固有値が複素数の場合も実数値の場合と同様に解けることが分かりました．"
   ]
  }
 ],
 "metadata": {
  "kernelspec": {
   "display_name": "Python 3",
   "language": "python",
   "name": "python3"
  },
  "language_info": {
   "codemirror_mode": {
    "name": "ipython",
    "version": 3
   },
   "file_extension": ".py",
   "mimetype": "text/x-python",
   "name": "python",
   "nbconvert_exporter": "python",
   "pygments_lexer": "ipython3",
   "version": "3.6.1"
  }
 },
 "nbformat": 4,
 "nbformat_minor": 2
}
