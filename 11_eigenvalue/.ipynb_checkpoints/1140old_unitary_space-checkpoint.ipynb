{
 "cells": [
  {
   "cell_type": "markdown",
   "metadata": {},
   "source": [
    "# 複素数ベクトル空間\n",
    "\n",
    "固有値問題を扱ったときに，固有方程式の解が複素数になり固有ベクトルも複素数ベクトルを扱わなければなりませんでした．\n",
    "これまでは，実数ベクトル空間をベースにして内積の理論を展開してきましたが，それらを複素数ベクトル空間に拡張します．\n",
    "\n",
    "実数ベクトルの場合と比較しながら解説します．"
   ]
  },
  {
   "cell_type": "markdown",
   "metadata": {},
   "source": [
    "## 複素共役\n",
    "\n",
    "実数から複素数へ拡張したときに重要な概念が，<font color=blue>複素共役</font>です．\n",
    "任意の複素数を$z=x+yi$とします．ここで$x,y \\in \\mathbb{R}$です．\n",
    "この複素共役を$\\overline{z}$と書き，$\\overline{z}=x-yi$で定義します．\n",
    "つまり，複素数の虚数部分の符号を反転させた数です．\n",
    "\n",
    "> $z=x+yi \\xrightarrow{\\text{複素共役}} \\bar{z}=x-yi$\n",
    "\n",
    "この定義により複素共役の複素共役は元の複素数となります．すなわち，\n",
    "\n",
    "> $\\bar{\\bar{z}}=z$\n",
    "\n",
    "です．\n",
    "実数ベクトル空間の概念を複素数に拡張するとき，必ずと言っていいほど複素共役が出てきます．\n",
    "\n",
    "さらに，複素数の絶対値は複素共役を使って，\n",
    "\n",
    "> $|z| = (x+yi)(x-yi) = x^2+y^2$\n",
    "\n",
    "と表されます．"
   ]
  },
  {
   "cell_type": "markdown",
   "metadata": {},
   "source": [
    "## 複素ベクトルの内積\n",
    "\n",
    "複素数ベクトル${\\bf x},{\\bf y} \\in {\\bf V}$に対する内積は，次の条件を満たす複素数$\\left<{\\bf x},{\\bf y}\\right>$を対応させる写像でした．\n",
    "\n",
    "> $\\left<\\cdot,\\cdot\\right> : {\\bf V}{\\times}{\\bf V} \\rightarrow \\mathbb{C}$\n",
    "\n",
    "- エルミート対称性：$\\left<{\\bf x},{\\bf y}\\right> = \\overline{\\left<{\\bf y},{\\bf x}\\right>}$\n",
    "- 線形性：\n",
    "$\\left\\{\\begin{array}{c} \n",
    "\\left<a_1{\\bf x}_1+a_2{\\bf x}_2,{\\bf y}\\right> = \\overline{a_1}\\left<{\\bf x}_1,{\\bf y}\\right> + \\overline{a_2}\\left<{\\bf x}_2,{\\bf y}\\right>  \\\\\n",
    "\\left<{\\bf x},b_1{\\bf y}_1+b_2{\\bf y}_2\\right> = b_1\\left<{\\bf x},{\\bf y}_1\\right> + b_2\\left<{\\bf x},{\\bf y}_2\\right>  \\\\\n",
    "\\end{array}\\right.$\n",
    "- 正定値性：$\\left<{\\bf x},{\\bf x}\\right> \\geq 0$\n",
    "- 非退化性：$\\left<{\\bf x},{\\bf x}\\right> = 0 \\Rightarrow {\\bf x}={\\bf 0}$\n",
    "\n",
    "ここで，$\\lambda \\in \\mathbb{C}$に対して$\\overline{\\lambda}$は，$\\lambda$の複素共役を表しています．"
   ]
  },
  {
   "cell_type": "markdown",
   "metadata": {},
   "source": [
    "ここでは，具体的にn次元の複素数ベクトル空間の内積について確認します．\n",
    "${\\bf x},{\\bf y} \\in \\mathbb{C}^n$としたとき内積$\\left<{\\bf x},{\\bf y}\\right>$を，\n",
    "\n",
    "> $\n",
    "\\left<{\\bf x},{\\bf y}\\right> \n",
    "= \n",
    "\\bar{\\bf x}^{\\mathsf{T}}{\\bf y} \n",
    "=\n",
    "\\left(\\begin{array}{c}\n",
    "\\bar{x}_1 & \\bar{x}_2 & \\cdots & \\bar{x}_n \\\\\n",
    "\\end{array}\\right)\n",
    "\\left(\\begin{array}{c}\n",
    "y_1 \\\\ y_2 \\\\ \\vdots \\\\ y_n \\\\\n",
    "\\end{array}\\right) \n",
    "=\n",
    "\\bar{x}_1{y}_1+\\bar{x}_2{y}_2+\\cdots+\\bar{x}_n{y}_n $\n",
    "\n",
    "で定義します．"
   ]
  },
  {
   "cell_type": "markdown",
   "metadata": {},
   "source": [
    "### 直交性\n",
    "\n",
    "実数ベクトル空間の場合と同様に複素数ベクトル空間においても，2つのベクトルの内積がゼロの場合，その2つのベクトルは直交していると定義します．\n",
    "\n",
    "> ${\\bf x}{\\perp}{\\bf y} \\Leftrightarrow \\left<{\\bf x},{\\bf y}\\right>=0$"
   ]
  },
  {
   "cell_type": "markdown",
   "metadata": {},
   "source": [
    "## 複素数ベクトルのノルム\n",
    "\n",
    "ベクトル空間のノルム$\\|{\\cdot}\\|$は内積$\\left<\\cdot,\\cdot\\right>$によって定義されました．\n",
    "\n",
    "> $\\|{\\bf x}\\| = \\sqrt{\\left<{\\bf x},{\\bf x}\\right>}\n",
    "=\n",
    "\\sqrt{\\bar{x}_1{x}_1+\\bar{x}_2{x}_2+\\cdots+\\bar{x}_n{x}_n}\n",
    "=\n",
    "\\sqrt{|x_1|^2+|x_2|^2+\\cdots+|x_n|^2}\n",
    "$\n",
    "\n",
    "これで定義された写像$\\|{\\bf x}\\|$は，ノルムの定義を満たします．\n",
    "\n",
    "- 正定値性：$\\|{\\bf x}\\| \\geq 0$\n",
    "- 独立性：$\\|{\\bf x}\\| = 0 \\Leftrightarrow {\\bf x}={\\bf 0}$\n",
    "- 斉次性：$\\|a{\\bf x}\\| = |a|\\|{\\bf x}\\|$\n",
    "- 劣加法性：$\\|{\\bf x}+{\\bf y}\\| \\leq \\|{\\bf x}\\|+\\|{\\bf y}\\|$\n"
   ]
  },
  {
   "cell_type": "markdown",
   "metadata": {},
   "source": [
    "## ユニタリ空間\n",
    "\n",
    "n次元の複素数ベクトル空間に内積を導入した空間を<font color=blue>ユニタリ空間</font>と言いい，複素数ベクトル空間の記号$\\mathbb{C}^n$をそのまま使用します．"
   ]
  },
  {
   "cell_type": "markdown",
   "metadata": {},
   "source": [
    "### 1次元ユニタリ空間と2次元ユークリッド空間の対比\n",
    "\n",
    "1次元ユニタリ空間$\\mathbb{C}$の要素は$z=x+yi$と表せるので，\n",
    "2次元ユークリッド空間のベクトル\n",
    "$\\left(\\begin{array}{c} x \\\\ y \\end{array}\\right)$\n",
    "と対応させることができます．\n",
    "この複素数に2次平面を対応させた平面を<font color=blue>複素平面</font>と言います．\n",
    "\n",
    "![複素平面](./images/complex_plane.jpg)"
   ]
  },
  {
   "cell_type": "markdown",
   "metadata": {},
   "source": [
    "このように1次元ユニタリ空間すなわち複素数と2次元ユークリッド空間は幾何が的には同一視できます．\n",
    "しかし，線形空間としてはスカラーの種類が異なり，さらに内積による構造が違うので，同一視はできません．\n",
    "*****"
   ]
  }
 ],
 "metadata": {
  "kernelspec": {
   "display_name": "Python 3",
   "language": "python",
   "name": "python3"
  },
  "language_info": {
   "codemirror_mode": {
    "name": "ipython",
    "version": 3
   },
   "file_extension": ".py",
   "mimetype": "text/x-python",
   "name": "python",
   "nbconvert_exporter": "python",
   "pygments_lexer": "ipython3",
   "version": "3.6.1"
  }
 },
 "nbformat": 4,
 "nbformat_minor": 2
}
