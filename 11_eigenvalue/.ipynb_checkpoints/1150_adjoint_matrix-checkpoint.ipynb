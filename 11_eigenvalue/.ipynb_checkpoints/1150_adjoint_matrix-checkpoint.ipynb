{
 "cells": [
  {
   "cell_type": "markdown",
   "metadata": {},
   "source": [
    "# 随伴行列の関連する行列の特性\n",
    "\n",
    "ここでは，随伴行列および関連する行列の計算についての特徴を説明します．"
   ]
  },
  {
   "cell_type": "markdown",
   "metadata": {},
   "source": [
    "*****\n",
    "## 複素共役と転置の法則\n",
    "\n",
    "$\\bf A$を任意の行列としたとき，複素共役をとる操作と転置する操作の順番は交換できます．\n",
    "\n",
    "> <font color=blue>$\\overline{{\\bf A}^\\mathsf{T}} = {\\overline{\\bf A}}^\\mathsf{T}$</font>"
   ]
  },
  {
   "cell_type": "markdown",
   "metadata": {},
   "source": [
    "### 証明\n",
    "\n",
    "行列\n",
    "${\\bf A}=\n",
    "\\left(\\begin{array}{c}\n",
    "a_{11} & a_{12} & \\cdots & a_{1m} \\\\\n",
    "a_{21} & a_{22} & \\cdots & a_{2m} \\\\\n",
    "\\vdots & \\vdots & \\ddots & \\vdots \\\\\n",
    "a_{l1} & a_{l2} & \\cdots & a_{lm} \\\\\n",
    "\\end{array}\\right)$\n",
    "について，具体的に計算します．"
   ]
  },
  {
   "cell_type": "markdown",
   "metadata": {},
   "source": [
    "$\\overline{{\\bf A}^\\mathsf{T}}$は，行列$\\bf A$の転置行列を作って，その行列の複素共役を作ります．\n",
    "\n",
    "${\\bf A}=\n",
    "\\left(\\begin{array}{c}\n",
    "a_{11} & a_{12} & \\cdots & a_{1m} \\\\\n",
    "a_{21} & a_{22} & \\cdots & a_{2m} \\\\\n",
    "\\vdots & \\vdots & \\ddots & \\vdots \\\\\n",
    "a_{l1} & a_{l2} & \\cdots & a_{lm} \\\\\n",
    "\\end{array}\\right)$\n",
    " $\\Longrightarrow$ \n",
    "${\\bf A}^\\mathsf{T}=\n",
    "\\left(\\begin{array}{c}\n",
    "a_{11} & a_{21} & \\cdots & a_{l1} \\\\\n",
    "a_{12} & a_{22} & \\cdots & a_{l2} \\\\\n",
    "\\vdots & \\vdots & \\ddots & \\vdots \\\\\n",
    "a_{1m} & a_{2m} & \\cdots & a_{lm} \\\\\n",
    "\\end{array}\\right)$\n",
    " $\\Longrightarrow$ \n",
    "$\\overline{{\\bf A}^\\mathsf{T}}=\n",
    "\\left(\\begin{array}{c}\n",
    "\\overline{a}_{11} & \\overline{a}_{21} & \\cdots & \\overline{a}_{l1} \\\\\n",
    "\\overline{a}_{12} & \\overline{a}_{22} & \\cdots & \\overline{a}_{l2} \\\\\n",
    "\\vdots & \\vdots & \\ddots & \\vdots \\\\\n",
    "\\overline{a}_{1m} & \\overline{a}_{2m} & \\cdots & \\overline{a}_{lm} \\\\\n",
    "\\end{array}\\right)$"
   ]
  },
  {
   "cell_type": "markdown",
   "metadata": {},
   "source": [
    "$\\overline{\\bf A}^\\mathsf{T}$は，行列$\\bf A$の複素共役を作って，その行列の転置行列を作ります．\n",
    "\n",
    "${\\bf A}=\n",
    "\\left(\\begin{array}{c}\n",
    "a_{11} & a_{12} & \\cdots & a_{1m} \\\\\n",
    "a_{21} & a_{22} & \\cdots & a_{2m} \\\\\n",
    "\\vdots & \\vdots & \\ddots & \\vdots \\\\\n",
    "a_{l1} & a_{l2} & \\cdots & a_{lm} \\\\\n",
    "\\end{array}\\right)$\n",
    " $\\Longrightarrow$ \n",
    "$\\overline{\\bf A}=\n",
    "\\left(\\begin{array}{c}\n",
    "\\overline{a}_{11} & \\overline{a}_{12} & \\cdots & \\overline{a}_{1m} \\\\\n",
    "\\overline{a}_{21} & \\overline{a}_{22} & \\cdots & \\overline{a}_{2m} \\\\\n",
    "\\vdots & \\vdots & \\ddots & \\vdots \\\\\n",
    "\\overline{a}_{l1} & \\overline{a}_{l2} & \\cdots & \\overline{a}_{lm} \\\\\n",
    "\\end{array}\\right)$\n",
    " $\\Longrightarrow$ \n",
    "$\\overline{\\bf A}^\\mathsf{T}=\n",
    "\\left(\\begin{array}{c}\n",
    "\\overline{a}_{11} & \\overline{a}_{21} & \\cdots & \\overline{a}_{l1} \\\\\n",
    "\\overline{a}_{12} & \\overline{a}_{22} & \\cdots & \\overline{a}_{l2} \\\\\n",
    "\\vdots & \\vdots & \\ddots & \\vdots \\\\\n",
    "\\overline{a}_{1m} & \\overline{a}_{2m} & \\cdots & \\overline{a}_{lm} \\\\\n",
    "\\end{array}\\right)$"
   ]
  },
  {
   "cell_type": "markdown",
   "metadata": {},
   "source": [
    "したがって，$\\overline{{\\bf A}^\\mathsf{T}} = {\\overline{\\bf A}}^\\mathsf{T}$が求まりました．"
   ]
  },
  {
   "cell_type": "markdown",
   "metadata": {},
   "source": [
    "*****\n",
    "## 複素共役と積の法則\n",
    "\n",
    "$\\bf A$を$l$行$m$列，$\\bf B$を$m$行$n$列の複素行列とすると，\n",
    "\n",
    "> <font color=blue>$\\overline{({\\bf AB})}=\\overline{\\bf A}{\\cdot}\\overline{\\bf B}$</font>\n",
    "\n",
    "が成り立ちます．"
   ]
  },
  {
   "cell_type": "markdown",
   "metadata": {},
   "source": [
    "### 証明\n",
    "\n",
    "まず，2つの複素数$z_1=a+bi$，$z_2=c+di$について，\n",
    "\n",
    "> $\\overline{z_1{\\cdot}z_2}=\\overline{z_1}{\\cdot}\\overline{z_2}$\n",
    "\n",
    "が成り立ちます．\n",
    "なぜならば，\n",
    "\n",
    "$\\overline{z_1{\\cdot}z_2} =\n",
    "\\overline{(a+bi)(c+di)} =\n",
    "\\overline{(ac-bd)+(ad+bc)i} =\n",
    "(ac-bd)-(ad+bc)i $\n",
    "\n",
    "$\\overline{z_1}{\\cdot}\\overline{z_2} =\n",
    "\\overline{(a+bi)}{\\cdot}\\overline{(c+di)} =\n",
    "(a-bi){\\cdot}(c-di) =\n",
    "(ac-bd)-(ad+bc)i $\n",
    "\n",
    "となり，$\\overline{z_1{\\cdot}z_2}=\\overline{z_1}{\\cdot}\\overline{z_2}$が成立します．"
   ]
  },
  {
   "cell_type": "markdown",
   "metadata": {},
   "source": [
    "${\\bf A}=\n",
    "\\left(\\begin{array}{c}\n",
    "a_{11} & a_{12} & \\cdots & a_{1m} \\\\\n",
    "a_{21} & a_{22} & \\cdots & a_{2m} \\\\\n",
    "\\vdots & \\vdots & \\ddots & \\vdots \\\\\n",
    "a_{l1} & a_{l2} & \\cdots & a_{lm} \\\\\n",
    "\\end{array}\\right)$\n",
    ", \n",
    "${\\bf B}=\n",
    "\\left(\\begin{array}{c}\n",
    "b_{11} & b_{12} & \\cdots & b_{1n} \\\\\n",
    "b_{21} & b_{22} & \\cdots & b_{2n} \\\\\n",
    "\\vdots & \\vdots & \\ddots & \\vdots \\\\\n",
    "b_{m1} & b_{m2} & \\cdots & b_{mn} \\\\\n",
    "\\end{array}\\right)$\n",
    "\n",
    "とすると，"
   ]
  },
  {
   "cell_type": "markdown",
   "metadata": {},
   "source": [
    "${\\bf A}{\\bf B}=\n",
    "\\left(\\begin{array}{c}\n",
    "a_{11} & a_{12} & \\cdots & a_{1m} \\\\ \n",
    "a_{21} & a_{22} & \\cdots & a_{2m} \\\\ \n",
    "\\vdots & \\vdots & \\ddots & \\vdots \\\\\n",
    "a_{l1} & a_{l2} & \\cdots & a_{lm} \\\\\n",
    "\\end{array} \\right)\n",
    "\\left(\\begin{array}{c}\n",
    "b_{11} & b_{12} & \\cdots & b_{1n} \\\\ \n",
    "b_{21} & b_{22} & \\cdots & b_{2n} \\\\ \n",
    "\\vdots & \\vdots & \\ddots & \\vdots \\\\\n",
    "b_{m1} & b_{m2} & \\cdots & b_{mn} \\\\\n",
    "\\end{array} \\right) =\n",
    "\\left(\\begin{array}{c}\n",
    "\\sum_{k=1}^{m} a_{1k}b_{k1} & \\sum_{k=1}^{m} a_{1k}b_{k2} & \\cdots & \\sum_{k=1}^{m} a_{1k}b_{kn} \\\\ \n",
    "\\sum_{k=1}^{m} a_{2k}b_{k1} & \\sum_{k=1}^{m} a_{2k}b_{k2} & \\cdots & \\sum_{k=1}^{m} a_{2k}b_{kn} \\\\ \n",
    "\\vdots & \\vdots & \\ddots & \\vdots \\\\\n",
    "\\sum_{k=1}^{m} a_{lk}b_{k1} & \\sum_{k=1}^{m} a_{lk}b_{k2} & \\cdots & \\sum_{k=1}^{m} a_{lk}b_{kn} \\\\\n",
    "\\end{array} \\right) $\n",
    "\n",
    "なので，"
   ]
  },
  {
   "cell_type": "markdown",
   "metadata": {},
   "source": [
    "$\\overline{({\\bf A}{\\bf B})}=\n",
    "\\left(\\begin{array}{c}\n",
    "\\sum_{k=1}^{m} \\overline{a_{1k}b_{k1}} & \\sum_{k=1}^{m} \\overline{a_{1k}b_{k2}} & \\cdots & \\sum_{k=1}^{m} \\overline{a_{1k}b_{kn}} \\\\ \n",
    "\\sum_{k=1}^{m} \\overline{a_{2k}b_{k1}} & \\sum_{k=1}^{m} \\overline{a_{2k}b_{k2}} & \\cdots & \\sum_{k=1}^{m} \\overline{a_{2k}b_{kn}} \\\\ \n",
    "\\vdots & \\vdots & \\ddots & \\vdots \\\\\n",
    "\\sum_{k=1}^{m} \\overline{a_{lk}b_{k1}} & \\sum_{k=1}^{m} \\overline{a_{lk}b_{k2}} & \\cdots & \\sum_{k=1}^{m} \\overline{a_{lk}b_{kn}} \\\\\n",
    "\\end{array} \\right) $\n",
    "\n",
    "となります．\n",
    "\n",
    "また，"
   ]
  },
  {
   "cell_type": "markdown",
   "metadata": {},
   "source": [
    "$\\overline{\\bf A}=\n",
    "\\left(\\begin{array}{c}\n",
    "\\overline{a}_{11} & \\overline{a}_{12} & \\cdots & \\overline{a}_{1m} \\\\\n",
    "\\overline{a}_{21} & \\overline{a}_{22} & \\cdots & \\overline{a}_{2m} \\\\\n",
    "\\vdots & \\vdots & \\ddots & \\vdots \\\\\n",
    "\\overline{a}_{l1} & \\overline{a}_{l2} & \\cdots & \\overline{a}_{lm} \\\\\n",
    "\\end{array}\\right)$\n",
    ", \n",
    "$\\overline{\\bf B}=\n",
    "\\left(\\begin{array}{c}\n",
    "\\overline{b}_{11} & \\overline{b}_{12} & \\cdots & \\overline{b}_{1n} \\\\\n",
    "\\overline{b}_{21} & \\overline{b}_{22} & \\cdots & \\overline{b}_{2n} \\\\\n",
    "\\vdots & \\vdots & \\ddots & \\vdots \\\\\n",
    "\\overline{b}_{m1} & \\overline{b}_{m2} & \\cdots & \\overline{b}_{mn} \\\\\n",
    "\\end{array}\\right)$\n",
    "\n",
    "なので，"
   ]
  },
  {
   "cell_type": "markdown",
   "metadata": {},
   "source": [
    "$\\overline{\\bf A}{\\cdot}\\overline{\\bf B}=\n",
    "\\left(\\begin{array}{c}\n",
    "\\sum_{k=1}^{m} \\overline{a}_{1k}{\\cdot}\\overline{b}_{k1} & \\sum_{k=1}^{m} \\overline{a}_{1k}{\\cdot}\\overline{b}_{k2} & \\cdots & \\sum_{k=1}^{m} \\overline{a}_{1k}{\\cdot}\\overline{b}_{kn} \\\\ \n",
    "\\sum_{k=1}^{m} \\overline{a}_{2k}{\\cdot}\\overline{b}_{k1} & \\sum_{k=1}^{m} \\overline{a}_{2k}{\\cdot}\\overline{b}_{k2} & \\cdots & \\sum_{k=1}^{m} \\overline{a}_{2k}{\\cdot}\\overline{b}_{kn} \\\\ \n",
    "\\vdots & \\vdots & \\ddots & \\vdots \\\\\n",
    "\\sum_{k=1}^{m} \\overline{a}_{lk}{\\cdot}\\overline{b}_{k1} & \\sum_{k=1}^{m} \\overline{a}_{lk}{\\cdot}\\overline{b}_{k2} & \\cdots & \\sum_{k=1}^{m} \\overline{a}_{lk}{\\cdot}\\overline{b}_{kn} \\\\\n",
    "\\end{array} \\right) $\n",
    "\n",
    "となります．"
   ]
  },
  {
   "cell_type": "markdown",
   "metadata": {},
   "source": [
    "複素数についての法則$\\overline{z_1{\\cdot}z_2}=\\overline{z_1}{\\cdot}\\overline{z_2}$を適用することにより，\n",
    "$\\overline{({\\bf AB})}=\\overline{\\bf A}{\\cdot}\\overline{\\bf B}$が成立します．"
   ]
  },
  {
   "cell_type": "markdown",
   "metadata": {},
   "source": [
    "*****\n",
    "## 転置行列の積の法則\n",
    "\n",
    "$\\bf A$を$l$行$m$列，$\\bf B$を$m$行$n$列の行列とすると，\n",
    "\n",
    "> <font color=blue>$({\\bf AB})^\\mathsf{T}={\\bf B}^\\mathsf{T}{\\bf A}^\\mathsf{T}$</font>\n",
    "\n",
    "が成り立ちます．\n",
    "左右が入れ替わることに注意してください．"
   ]
  },
  {
   "cell_type": "markdown",
   "metadata": {},
   "source": [
    "### 証明\n",
    "\n",
    "地道に各成分を計算することによって証明します．\n",
    "\n",
    "${\\bf A}=\n",
    "\\left(\\begin{array}{c}\n",
    "a_{11} & a_{12} & \\cdots & a_{1m} \\\\\n",
    "a_{21} & a_{22} & \\cdots & a_{2m} \\\\\n",
    "\\vdots & \\vdots & \\ddots & \\vdots \\\\\n",
    "a_{l1} & a_{l2} & \\cdots & a_{lm} \\\\\n",
    "\\end{array}\\right)$\n",
    ", \n",
    "${\\bf B}=\n",
    "\\left(\\begin{array}{c}\n",
    "b_{11} & b_{12} & \\cdots & b_{1n} \\\\\n",
    "b_{21} & b_{22} & \\cdots & b_{2n} \\\\\n",
    "\\vdots & \\vdots & \\ddots & \\vdots \\\\\n",
    "b_{m1} & b_{m2} & \\cdots & b_{mn} \\\\\n",
    "\\end{array}\\right)$\n",
    "\n",
    "と置きます．"
   ]
  },
  {
   "cell_type": "markdown",
   "metadata": {},
   "source": [
    "積の定義により，$\\bf AB$を求めます．\n",
    "\n",
    "${\\bf A}{\\bf B}=\n",
    "\\left(\\begin{array}{c}\n",
    "a_{11} & a_{12} & \\cdots & a_{1m} \\\\ \n",
    "a_{21} & a_{22} & \\cdots & a_{2m} \\\\ \n",
    "\\vdots & \\vdots & \\ddots & \\vdots \\\\\n",
    "a_{l1} & a_{l2} & \\cdots & a_{lm} \\\\\n",
    "\\end{array} \\right)\n",
    "\\left(\\begin{array}{c}\n",
    "b_{11} & b_{12} & \\cdots & b_{1n} \\\\ \n",
    "b_{21} & b_{22} & \\cdots & b_{2n} \\\\ \n",
    "\\vdots & \\vdots & \\ddots & \\vdots \\\\\n",
    "b_{m1} & b_{m2} & \\cdots & b_{mn} \\\\\n",
    "\\end{array} \\right) =\n",
    "\\left(\\begin{array}{c}\n",
    "\\sum_{k=1}^{m} a_{1k}b_{k1} & \\sum_{k=1}^{m} a_{1k}b_{k2} & \\cdots & \\sum_{k=1}^{m} a_{1k}b_{kn} \\\\ \n",
    "\\sum_{k=1}^{m} a_{2k}b_{k1} & \\sum_{k=1}^{m} a_{2k}b_{k2} & \\cdots & \\sum_{k=1}^{m} a_{2k}b_{kn} \\\\ \n",
    "\\vdots & \\vdots & \\ddots & \\vdots \\\\\n",
    "\\sum_{k=1}^{m} a_{lk}b_{k1} & \\sum_{k=1}^{m} a_{lk}b_{k2} & \\cdots & \\sum_{k=1}^{m} a_{lk}b_{kn} \\\\\n",
    "\\end{array} \\right) $\n",
    "\n",
    "となります．"
   ]
  },
  {
   "cell_type": "markdown",
   "metadata": {},
   "source": [
    "この行列の転置行列は，行と列を入替えます．\n",
    "\n",
    "$({\\bf AB})^\\mathsf{T}=\n",
    "\\left(\\begin{array}{c}\n",
    "\\sum_{k=1}^{m} a_{1k}b_{k1} & \\sum_{k=1}^{m} a_{2k}b_{k1} & \\cdots & \\sum_{k=1}^{m} a_{lk}b_{k1} \\\\ \n",
    "\\sum_{k=1}^{m} a_{1k}b_{k2} & \\sum_{k=1}^{m} a_{2k}b_{k2} & \\cdots & \\sum_{k=1}^{m} a_{lk}b_{k2} \\\\ \n",
    "\\vdots & \\vdots & \\ddots & \\vdots \\\\\n",
    "\\sum_{k=1}^{m} a_{1k}b_{kn} & \\sum_{k=1}^{m} a_{2k}b_{kn} & \\cdots & \\sum_{k=1}^{m} a_{lk}b_{kn} \\\\\n",
    "\\end{array} \\right)\n",
    "$"
   ]
  },
  {
   "cell_type": "markdown",
   "metadata": {},
   "source": [
    "${\\bf B}^\\mathsf{T}$および${\\bf A}^\\mathsf{T}$は，次のようになります．\n",
    "\n",
    "${\\bf B}^\\mathsf{T}=\n",
    "\\left(\\begin{array}{c}\n",
    "b_{11} & b_{21} & \\cdots & b_{m1} \\\\\n",
    "b_{12} & b_{22} & \\cdots & b_{m2} \\\\\n",
    "\\vdots & \\vdots & \\ddots & \\vdots \\\\\n",
    "b_{1n} & b_{2n} & \\cdots & b_{mn} \\\\\n",
    "\\end{array}\\right)$\n",
    ", \n",
    "${\\bf A}^\\mathsf{T}=\n",
    "\\left(\\begin{array}{c}\n",
    "a_{11} & a_{21} & \\cdots & a_{l1} \\\\\n",
    "a_{12} & a_{22} & \\cdots & a_{l2} \\\\\n",
    "\\vdots & \\vdots & \\ddots & \\vdots \\\\\n",
    "a_{1m} & a_{2m} & \\cdots & a_{lm} \\\\\n",
    "\\end{array}\\right)$"
   ]
  },
  {
   "cell_type": "markdown",
   "metadata": {},
   "source": [
    "この積を計算して${\\bf B}^\\mathsf{T}{\\bf A}^\\mathsf{T}$を求めます．\n",
    "\n",
    "${\\bf B}^\\mathsf{T}{\\bf A}^\\mathsf{T}=\n",
    "\\left(\\begin{array}{c}\n",
    "b_{11} & b_{21} & \\cdots & b_{m1} \\\\\n",
    "b_{12} & b_{22} & \\cdots & b_{m2} \\\\\n",
    "\\vdots & \\vdots & \\ddots & \\vdots \\\\\n",
    "b_{1n} & b_{2n} & \\cdots & b_{mn} \\\\\n",
    "\\end{array}\\right)\n",
    "\\left(\\begin{array}{c}\n",
    "a_{11} & a_{21} & \\cdots & a_{l1} \\\\\n",
    "a_{12} & a_{22} & \\cdots & a_{l2} \\\\\n",
    "\\vdots & \\vdots & \\ddots & \\vdots \\\\\n",
    "a_{1m} & a_{2m} & \\cdots & a_{lm} \\\\\n",
    "\\end{array}\\right)\n",
    "=\n",
    "\\left(\\begin{array}{c}\n",
    "\\sum_{k=1}^{m} b_{k1}a_{1k} & \\sum_{k=1}^{m} b_{k1}a_{2k} & \\cdots & \\sum_{k=1}^{m} b_{k1}a_{lk} \\\\ \n",
    "\\sum_{k=1}^{m} b_{k2}a_{1k} & \\sum_{k=1}^{m} b_{k2}a_{2k} & \\cdots & \\sum_{k=1}^{m} b_{k2}a_{lk} \\\\ \n",
    "\\vdots & \\vdots & \\ddots & \\vdots \\\\\n",
    "\\sum_{k=1}^{m} b_{kn}a_{1k} & \\sum_{k=1}^{m} b_{kn}a_{2k} & \\cdots & \\sum_{k=1}^{m} b_{kn}b_{lk} \\\\\n",
    "\\end{array} \\right)\n",
    "$"
   ]
  },
  {
   "cell_type": "markdown",
   "metadata": {},
   "source": [
    "各成分の$\\Sigma$和の中ですが，数字の掛け算なので左右を交換できるので，\n",
    "${\\bf AB}^\\mathsf{T}$の成分と一致しています．\n",
    "\n",
    "よって，$({\\bf AB})^\\mathsf{T}={\\bf B}^\\mathsf{T}{\\bf A}^\\mathsf{T}$が証明されました．"
   ]
  },
  {
   "cell_type": "markdown",
   "metadata": {},
   "source": [
    "*****\n",
    "## 随伴行列の積の法則\n",
    "\n",
    "$\\bf A$を$l$行$m$列，$\\bf B$を$m$行$n$列の複素行列とすると，\n",
    "\n",
    "> <font color=blue>$({\\bf AB})^*={\\bf B}^*{\\bf A}^*$</font>\n",
    "\n",
    "が成り立ちます．"
   ]
  },
  {
   "cell_type": "markdown",
   "metadata": {},
   "source": [
    "### 証明\n",
    "\n",
    "転置行列の積の法則$({\\bf AB})^\\mathsf{T}={\\bf B}^\\mathsf{T}{\\bf A}^\\mathsf{T}$は，\n",
    "行列$\\bf A$および$\\bf B$の成分が複素数であっても成立しています．\n",
    "\n",
    "$({\\bf AB})^\\mathsf{T}={\\bf B}^\\mathsf{T}{\\bf A}^\\mathsf{T}$\n",
    "\n",
    "この式に複素共役と積の法則を適用します．\n",
    "\n",
    "$\\overline{({\\bf AB})^\\mathsf{T}} = \\overline{{\\bf B}^\\mathsf{T}}{\\,}\\overline{{\\bf A}^\\mathsf{T}}$\n",
    "\n",
    "この式で複素共役と転置の順番を交換する法則を適用します．\n",
    "\n",
    "$(\\overline{\\bf AB})^\\mathsf{T} = \\overline{\\bf B}^\\mathsf{T}\\overline{\\bf A}^\\mathsf{T}$\n",
    "\n",
    "この式は，随伴行列の定義より求める式そのものです．"
   ]
  },
  {
   "cell_type": "markdown",
   "metadata": {},
   "source": [
    "*****"
   ]
  }
 ],
 "metadata": {
  "kernelspec": {
   "display_name": "Python 3",
   "language": "python",
   "name": "python3"
  },
  "language_info": {
   "codemirror_mode": {
    "name": "ipython",
    "version": 3
   },
   "file_extension": ".py",
   "mimetype": "text/x-python",
   "name": "python",
   "nbconvert_exporter": "python",
   "pygments_lexer": "ipython3",
   "version": "3.6.1"
  }
 },
 "nbformat": 4,
 "nbformat_minor": 2
}
