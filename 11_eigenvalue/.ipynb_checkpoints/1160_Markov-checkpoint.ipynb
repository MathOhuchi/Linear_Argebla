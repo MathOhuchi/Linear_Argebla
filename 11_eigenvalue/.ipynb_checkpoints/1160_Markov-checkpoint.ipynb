{
 "cells": [
  {
   "cell_type": "markdown",
   "metadata": {},
   "source": [
    "# マルコフ過程\n",
    "\n",
    "確率的に状態が遷移していく形態をマルコフ過程と言います．\n",
    "ここでは，簡単なマルコフ過程を固有値を用いて解いて行きます．"
   ]
  },
  {
   "cell_type": "markdown",
   "metadata": {},
   "source": [
    "## ゼロサムゲームにおけるシェア変動\n",
    "\n",
    "ある業態においてプレーヤーであるA社，B社，C社の3社で全体を占めていて，次の条件が成り立っていると仮定します．\n",
    "\n",
    "- 現行シェアがA社:B社:C社=0.6:0.3:0.1です．\n",
    "- 1期間中にA社からB社，C社への流出率が12%，8%です．\n",
    "- 1期間中にB社からA社，C社への流出率が5%，10%です．\n",
    "- 1期間中にC社からA社，B社への流出率が5%，5%です．\n",
    "- 流出率は，期が進んでも変化しません．\n",
    "\n",
    "#### 遷移マトリックス\n",
    "\n",
    "| 企業 | 現行シェア | → | A社 | B社 | C社 |\n",
    "|:---:|:---:|:---:|:---:|:---:|:---:|\n",
    "| A社 | 60% | → | 80% | 12% |  8% |\n",
    "| B社 | 30% | → |  5% | 85% | 10% |\n",
    "| C社 | 10% | → |  5% |  5% | 90% |\n",
    "\n",
    "このとき，最終的に3社のシェアが最終的にどのようになるか求めてください．"
   ]
  },
  {
   "cell_type": "markdown",
   "metadata": {},
   "source": [
    "## 解法の戦略\n",
    "\n",
    "現行シェアを\n",
    "${\\bf s}_0 =\n",
    "\\left(\\begin{array}{c}\n",
    "0.6 \\\\ 0.3 \\\\ 0.1 \\\\\n",
    "\\end{array}\\right)$\n",
    "として，$n$期目のシェアを${\\bf s}_n$として，\n",
    "${\\bf s}_0,{\\bf s}_1,{\\bf s}_2,\\cdots,{\\bf s}_n,\\cdots$\n",
    "を調べます．\n",
    "\n",
    "この遷移行列は次のようになります．\n",
    "\n",
    "> ${\\bf T} =\n",
    "\\left(\\begin{array}{c}\n",
    "0.8  & 0.05 & 0.05 \\\\\n",
    "0.12 & 0.85 & 0.05 \\\\\n",
    "0.08 & 0.1  & 0.9  \\\\\n",
    "\\end{array}\\right)$"
   ]
  },
  {
   "cell_type": "markdown",
   "metadata": {},
   "source": [
    "次期シェア${\\bf S}_1$を求めるには，遷移行列$\\bf T$を掛ければ求まります．\n",
    "\n",
    "${\\bf s}_1 = {\\bf Ts}_0 =\n",
    "\\left(\\begin{array}{c}\n",
    "0.8  & 0.05 & 0.05 \\\\\n",
    "0.12 & 0.85 & 0.05 \\\\\n",
    "0.08 & 0.1  & 0.9  \\\\\n",
    "\\end{array}\\right)\\left(\\begin{array}{c}\n",
    "0.6 \\\\ 0.3 \\\\ 0.1 \\\\\n",
    "\\end{array}\\right)\n",
    "=\n",
    "\\left(\\begin{array}{c}\n",
    "0.5 \\\\ 0.332 \\\\ 0.168 \\\\\n",
    "\\end{array}\\right)\n",
    "$"
   ]
  },
  {
   "cell_type": "markdown",
   "metadata": {},
   "source": [
    "同様に100期目のシェアを求めるには，${\\bf s}_{100}={\\bf T}^{100}s_0$とすれば計算できますが，\n",
    "私達は計算効率の良い次の計算方法を用います．\n",
    "\n",
    "> ${\\bf s}_{100} = {\\bf P}{\\bf \\Lambda}^{100}{\\bf P}^{-1}{\\bf s}_0$\n",
    "\n",
    "ここで，$\\Lambda$は固有値による対角行列で，$\\bf P$は固有ベクトルを列として並べた行列です．"
   ]
  },
  {
   "cell_type": "markdown",
   "metadata": {},
   "source": [
    "### Pythonによる解法\n",
    "\n",
    "まず，NumPyライブラリーをインポートします．"
   ]
  },
  {
   "cell_type": "code",
   "execution_count": 1,
   "metadata": {
    "collapsed": true
   },
   "outputs": [],
   "source": [
    "import numpy as np"
   ]
  },
  {
   "cell_type": "markdown",
   "metadata": {},
   "source": [
    "初期シャアを配列s0として定義します．"
   ]
  },
  {
   "cell_type": "code",
   "execution_count": 2,
   "metadata": {},
   "outputs": [
    {
     "data": {
      "text/plain": [
       "array([ 0.6,  0.3,  0.1])"
      ]
     },
     "execution_count": 2,
     "metadata": {},
     "output_type": "execute_result"
    }
   ],
   "source": [
    "s0 = np.array([0.6,0.3,0.1])\n",
    "s0"
   ]
  },
  {
   "cell_type": "markdown",
   "metadata": {},
   "source": [
    "遷移行列を2次元配列Tとして定義します．"
   ]
  },
  {
   "cell_type": "code",
   "execution_count": 3,
   "metadata": {},
   "outputs": [
    {
     "data": {
      "text/plain": [
       "array([[ 0.8 ,  0.05,  0.05],\n",
       "       [ 0.12,  0.85,  0.05],\n",
       "       [ 0.08,  0.1 ,  0.9 ]])"
      ]
     },
     "execution_count": 3,
     "metadata": {},
     "output_type": "execute_result"
    }
   ],
   "source": [
    "T = np.array([[0.8 ,0.05,0.05 ],\n",
    "              [0.12,0.85,0.05],\n",
    "              [0.08,0.1 ,0.9 ]])\n",
    "T"
   ]
  },
  {
   "cell_type": "markdown",
   "metadata": {},
   "source": [
    "遷移行列の固有値と固有ベクトルを<font color=green>numpy.linalg.eig()</font>関数によって求めます．"
   ]
  },
  {
   "cell_type": "code",
   "execution_count": 4,
   "metadata": {},
   "outputs": [],
   "source": [
    "eigen_values,eigen_vectors = np.linalg.eig(T)"
   ]
  },
  {
   "cell_type": "code",
   "execution_count": 5,
   "metadata": {},
   "outputs": [
    {
     "data": {
      "text/plain": [
       "array([ 1.  ,  0.75,  0.8 ])"
      ]
     },
     "execution_count": 5,
     "metadata": {},
     "output_type": "execute_result"
    }
   ],
   "source": [
    "eigen_values"
   ]
  },
  {
   "cell_type": "code",
   "execution_count": 6,
   "metadata": {},
   "outputs": [
    {
     "data": {
      "text/plain": [
       "array([[ -3.27560891e-01,  -5.66138517e-01,  -6.56007413e-16],\n",
       "       [ -5.24097426e-01,   7.92593924e-01,  -7.07106781e-01],\n",
       "       [ -7.86146138e-01,  -2.26455407e-01,   7.07106781e-01]])"
      ]
     },
     "execution_count": 6,
     "metadata": {},
     "output_type": "execute_result"
    }
   ],
   "source": [
    "eigen_vectors"
   ]
  },
  {
   "cell_type": "markdown",
   "metadata": {},
   "source": [
    "固有値を対角成分に持つ固有値行列$\\bf \\Lambda$は，<font color=green>numpy.diag()</font>関数によって作成することができます．\n",
    "さらに，${\\bf \\Lambda}^n$については，次式のように定義します．\n",
    "\n",
    "> <font font-family=monospace>\n",
    "numpy.diag(eigen_values**<font color=red>n<font color=black>)</font>\n",
    "\n",
    "試しに${\\bf \\Lambda}^{2}$を求めてみます．"
   ]
  },
  {
   "cell_type": "code",
   "execution_count": 7,
   "metadata": {},
   "outputs": [
    {
     "data": {
      "text/plain": [
       "array([[ 1.    ,  0.    ,  0.    ],\n",
       "       [ 0.    ,  0.5625,  0.    ],\n",
       "       [ 0.    ,  0.    ,  0.64  ]])"
      ]
     },
     "execution_count": 7,
     "metadata": {},
     "output_type": "execute_result"
    }
   ],
   "source": [
    "np.diag(eigen_values**2)"
   ]
  },
  {
   "cell_type": "markdown",
   "metadata": {},
   "source": [
    "n期目のシェアを求める式${\\bf s}_{n} = {\\bf P}{\\bf \\Lambda}^{n}{\\bf P}^{-1}{\\bf s}_0$を求めるために幾つかの計算要素について確認します．\n",
    "\n",
    "- 固有ベクトル行列$\\bf P$は，eigen_vectorsそのものです．\n",
    "- 固有値対角行列のn乗${\\bf \\Lambda}^n$は，numpy.diag(eigen_values\\*\\*n)で求まります．\n",
    "- 固有ベクトル行列の逆行列${\\bf P}^{-1}$は，numpy.linalg.inv(eigen_vectors)で求まります．\n",
    "- それらの積はdot()メソッドを使用します．\n",
    "\n",
    "これらを合わせると，次の式になります．\n",
    "\n",
    "> <font font-family=monospace color=green>\n",
    "eigen_vectors.dot(np.diag(eigen_values**<font color=red>n<font color=green>)).dot(np.linalg.inv(eigen_vectors)).dot(s0)</font>\n",
    "\n",
    "この式を用いて，1期目，10期目，100期目，200期目のシェアを計算します．"
   ]
  },
  {
   "cell_type": "code",
   "execution_count": 8,
   "metadata": {},
   "outputs": [
    {
     "data": {
      "text/plain": [
       "array([ 0.5  ,  0.332,  0.168])"
      ]
     },
     "execution_count": 8,
     "metadata": {},
     "output_type": "execute_result"
    }
   ],
   "source": [
    "eigen_vectors.dot(np.diag(eigen_values**1)).dot(np.linalg.inv(eigen_vectors)).dot(s0)"
   ]
  },
  {
   "cell_type": "code",
   "execution_count": 9,
   "metadata": {},
   "outputs": [
    {
     "data": {
      "text/plain": [
       "array([ 0.22252541,  0.34644649,  0.4310281 ])"
      ]
     },
     "execution_count": 9,
     "metadata": {},
     "output_type": "execute_result"
    }
   ],
   "source": [
    "eigen_vectors.dot(np.diag(eigen_values**10)).dot(np.linalg.inv(eigen_vectors)).dot(s0)"
   ]
  },
  {
   "cell_type": "code",
   "execution_count": 10,
   "metadata": {},
   "outputs": [
    {
     "data": {
      "text/plain": [
       "array([ 0.2 ,  0.32,  0.48])"
      ]
     },
     "execution_count": 10,
     "metadata": {},
     "output_type": "execute_result"
    }
   ],
   "source": [
    "eigen_vectors.dot(np.diag(eigen_values**100)).dot(np.linalg.inv(eigen_vectors)).dot(s0)"
   ]
  },
  {
   "cell_type": "code",
   "execution_count": 11,
   "metadata": {},
   "outputs": [
    {
     "data": {
      "text/plain": [
       "array([ 0.2 ,  0.32,  0.48])"
      ]
     },
     "execution_count": 11,
     "metadata": {},
     "output_type": "execute_result"
    }
   ],
   "source": [
    "eigen_vectors.dot(np.diag(eigen_values**200)).dot(np.linalg.inv(eigen_vectors)).dot(s0)"
   ]
  },
  {
   "cell_type": "markdown",
   "metadata": {},
   "source": [
    "以上の計算から3社の最終的なシェアは，\n",
    "\n",
    "- A社：20%\n",
    "- B社：32%\n",
    "- C社：48%\n",
    "\n",
    "となります．\n",
    "*****"
   ]
  }
 ],
 "metadata": {
  "kernelspec": {
   "display_name": "Python 3",
   "language": "python",
   "name": "python3"
  },
  "language_info": {
   "codemirror_mode": {
    "name": "ipython",
    "version": 3
   },
   "file_extension": ".py",
   "mimetype": "text/x-python",
   "name": "python",
   "nbconvert_exporter": "python",
   "pygments_lexer": "ipython3",
   "version": "3.6.1"
  }
 },
 "nbformat": 4,
 "nbformat_minor": 2
}
