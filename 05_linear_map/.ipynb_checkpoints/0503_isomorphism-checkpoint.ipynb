{
 "cells": [
  {
   "cell_type": "markdown",
   "metadata": {},
   "source": [
    "# 線形写像の値域\n",
    "\n",
    "一般的な写像に関する事実は，ベクトル空間における線形写像にも当てはまります．  \n",
    "$\\bf V$および$\\bf W$をベクトル空間とし，線形写像 $F:\\bf{V} \\rightarrow \\bf{W}$が与えられているものとします．\n",
    "<font color=blue>線形写像$F$による像$F({\\bf V})$は$\\bf W$の線形部分空間</font>になります．\n",
    "$F({\\bf V})$のことを，$\\text{Range}({\\bf F})$とも表します．\n",
    "\n",
    "なぜならば，任意の${\\bf y}_1, {\\bf y}_2 \\in F({\\bf V})$に対して\n",
    "${\\bf y}_i = F({\\bf x}_i)$となる${\\bf x}_1, {\\bf x}_2 \\in {\\bf V}$が存在します．\n",
    "\n",
    "$a_1, a_2 \\in K$に対して，$a_1{\\bf x}_1 + a_2{\\bf x}_2 \\in V$なので，\n",
    "$F(a_1{\\bf x}_1 + a_2{\\bf x}_2) \\in F({\\bf V})$です．\n",
    "\n",
    "$F$は線形写像なので，\n",
    "$F(a_1{\\bf x}_1 + a_2{\\bf x}_2) = a_1F({\\bf x}_1) + a_2F({\\bf x}_2) = a_1{\\bf y}_1 + a_2{\\bf y}_2$\n",
    "となり，$F({\\bf V})$がベクトル空間になっていることが分かります．\n",
    "\n",
    "また，$F({\\bf V}) \\subset {\\bf W}$であるので，$F({\\bf V})$は${\\bf W}$の線形部分空間となります．\n"
   ]
  },
  {
   "cell_type": "markdown",
   "metadata": {},
   "source": [
    "## 階数（ランク）\n",
    "\n",
    "$\\bf V$と$\\bf W$を任意の有限次元のベクトル空間とし，$F:{\\bf V} \\rightarrow {\\bf W}$を線形写像とします．\n",
    "\n",
    "このとき，<font color=blue>$F({\\bf V})$の次元を線形写像$F$の階数またはランク（Rank）</font>と言います．"
   ]
  },
  {
   "cell_type": "markdown",
   "metadata": {},
   "source": [
    "## ベクトル空間における同型写像\n",
    "\n",
    "$\\bf V$および$\\bf W$をベクトル空間とします．\n",
    "写像 $f:\\bf{V} \\rightarrow \\bf{W}$について，\n",
    "\n",
    "- <font color=blue>全射</font>：$f({\\bf V})={\\bf W}$\n",
    "- <font color=blue>単射</font>：$f({\\bf v}_1)=f({\\bf v}_2)$ ならば ${\\bf v}_1={\\bf v}_2$\n",
    "- <font color=blue>全単射</font>：全射かつ単射\n",
    "\n",
    "線形写像$F:{\\bf V} \\rightarrow {\\bf W}$が全単射であるとき，$F$を<font color=blue>同型写像</font>と言います．\n",
    "\n",
    "$F$が同型写像ならば，$F^{-1}$も$\\bf W$から$\\bf V$への同型写像になっています．\n"
   ]
  },
  {
   "cell_type": "markdown",
   "metadata": {},
   "source": [
    "### ベクトル空間の同型\n",
    "\n",
    "2つのベクトル空間$\\bf V$と$\\bf W$の間に同型写像が存在するとき，$\\bf V$と$\\bf W$を<font color=blue>同型</font>であると言い，${\\bf V} \\cong {\\bf W}$と表します．\n",
    "\n",
    "この同型は，同値関係の公理を満たします．\n",
    "すなわち，\n",
    "\n",
    "- ${\\bf V} \\cong {\\bf V}$\n",
    "- ${\\bf V} \\cong {\\bf W} \\Longrightarrow {\\bf W} \\cong {\\bf V}$\n",
    "- ${\\bf U} \\cong {\\bf V}, {\\bf V} \\cong {\\bf W} \\Longrightarrow {\\bf U} \\cong {\\bf W}$\n",
    "\n",
    "同型なベクトル空間は同じ特性を持ちますので，解析しやすいベクトル空間で得られた結果を同型写像を通して同型なベクトル空間の特徴として把握することができます．"
   ]
  },
  {
   "cell_type": "markdown",
   "metadata": {},
   "source": [
    "### 実数ベクトル空間の同型定理\n",
    "\n",
    "$\\bf V$を$m$次元実数ベクトル空間$\\mathbb{R}^m$の部分空間とし，その次元を$n$次元とする．\n",
    "このとき，$\\bf V$は$\\mathbb{R}^n$と同型になります．\n",
    "\n",
    "> ${\\bf V} \\cong \\mathbb{R}^n$\n",
    "\n",
    "#### 解説\n",
    "$\\bf V$は$n$次元なので基底${\\bf b}_1,\\cdots,{\\bf b}_n$があり，任意の要素${\\bf v} \\in {\\bf V}$は，\n",
    "\n",
    "${\\bf v} = a_1{\\bf b}_1 + \\cdots + a_n{\\bf b}_n$\n",
    "\n",
    "と表すことができます．\n",
    "そこで，線形写像$F:{\\bf V} \\rightarrow \\mathbb{R}^n$を\n",
    "\n",
    "$F:{\\bf v} \\in {\\bf V} \\mapsto \\left(\\begin{array}{c} a_1 \\\\ \\vdots \\\\ a_n \\end{array}\\right) $\n",
    "\n",
    "とすると，$F$は同型写像となります．\n",
    "\n",
    "したがって，$\\mathbb{R}^n$を調べれば$n$次元実数ベクトル空間を理解することができます．"
   ]
  },
  {
   "cell_type": "markdown",
   "metadata": {},
   "source": [
    "この議論は複素数ベクトル空間でも全く同様に議論することができます．\n",
    "\n",
    "### 複素数ベクトル空間の同型定理\n",
    "\n",
    "$\\bf V$を$m$次元複素数ベクトル空間$\\mathbb{C}^m$の部分空間とし，その次元を$n$次元とする．\n",
    "このとき，$\\bf V$は$\\mathbb{C}^n$と同型になります．\n",
    "\n",
    "> ${\\bf V} \\cong \\mathbb{C}^n$\n"
   ]
  },
  {
   "cell_type": "markdown",
   "metadata": {},
   "source": [
    "この確認は，実数ベクトル空間の説明において，$\\mathbb{R}$を$\\mathbb{C}$に置き換えれば求まります．\n",
    "\n",
    "*****"
   ]
  }
 ],
 "metadata": {
  "kernelspec": {
   "display_name": "Python 3",
   "language": "python",
   "name": "python3"
  },
  "language_info": {
   "codemirror_mode": {
    "name": "ipython",
    "version": 3
   },
   "file_extension": ".py",
   "mimetype": "text/x-python",
   "name": "python",
   "nbconvert_exporter": "python",
   "pygments_lexer": "ipython3",
   "version": "3.6.1"
  }
 },
 "nbformat": 4,
 "nbformat_minor": 2
}
