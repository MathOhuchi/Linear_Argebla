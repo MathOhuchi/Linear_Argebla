{
 "cells": [
  {
   "cell_type": "markdown",
   "metadata": {},
   "source": [
    "# 行列演算の演習問題\n",
    "\n",
    "ここでは，行列計算の演習問題を実施します．\n",
    "これらの問題は，最初に紙に書いて手計算でおこなってください．次に検証も兼ねてPythonによる計算を実施してください．\n",
    "このように手計算を実施することは，理論についての理解を深めます．また，その後でPythonで計算することは，現実の問題に立ち向かうときのITノウハウを養ってくれます．\n",
    "着実に身に付けるように学習してください．\n",
    "\n",
    "- 最初に手書きで解いてください．\n",
    "- 次にPythonで解いてください．"
   ]
  },
  {
   "cell_type": "markdown",
   "metadata": {},
   "source": [
    "*****\n",
    "### 問題‐1\n",
    "\n",
    "$\n",
    "\\left(\\begin{array}{cc}\n",
    "2 & 1 \\\\ \n",
    "-3 & 7 \\\\ \n",
    "\\end{array} \\right)\n",
    "\\left(\\begin{array}{cc}\n",
    "3 & -5 \\\\ \n",
    "-4 & 1 \\\\\n",
    "\\end{array} \\right) \n",
    "$\n",
    "\n",
    "2次正方行列どうしの積です．"
   ]
  },
  {
   "cell_type": "markdown",
   "metadata": {},
   "source": [
    "*****\n",
    "### 問題‐2\n",
    "\n",
    "$\n",
    "\\left(\\begin{array}{ccc}\n",
    "1 & 0 & 0 \\\\ \n",
    "0 & 1 & 0 \\\\\n",
    "0 & 0 & 1 \\\\\n",
    "\\end{array} \\right)\n",
    "\\left(\\begin{array}{ccc}\n",
    "11 & 12 & 13 \\\\ \n",
    "21 & 22 & 23 \\\\\n",
    "31 & 32 & 33 \\\\\n",
    "\\end{array} \\right) \n",
    "$\n",
    "\n",
    "単位行列の積です．"
   ]
  },
  {
   "cell_type": "markdown",
   "metadata": {},
   "source": [
    "*****\n",
    "## 問題‐3\n",
    "\n",
    "$\n",
    "\\left(\\begin{array}{ccc}\n",
    "1 & 0 & 0 \\\\ \n",
    "0 & 0 & 1 \\\\\n",
    "0 & 1 & 0 \\\\\n",
    "\\end{array} \\right)\n",
    "\\left(\\begin{array}{ccc}\n",
    "11 & 12 & 13 \\\\ \n",
    "21 & 22 & 23 \\\\\n",
    "31 & 32 & 33 \\\\\n",
    "\\end{array} \\right) \n",
    "$\n",
    "\n",
    "行を入替える行う行列の積です．"
   ]
  },
  {
   "cell_type": "markdown",
   "metadata": {},
   "source": [
    "*****\n",
    "### 問題‐4\n",
    "\n",
    "$\n",
    "\\left(\\begin{array}{cccc}\n",
    "1 & 2 & 3 \\\\ \n",
    "4 & 5 & 6 \\\\\n",
    "\\end{array} \\right)\n",
    "\\left(\\begin{array}{ccc}\n",
    "1 & 2 \\\\ \n",
    "3 & 4 \\\\ \n",
    "5 & 6 \\\\ \n",
    "\\end{array} \\right) \n",
    "$\n",
    "\n",
    "2行3列の行列と3行2列の行列の積です．"
   ]
  },
  {
   "cell_type": "markdown",
   "metadata": {},
   "source": [
    "*****\n",
    "### 問題‐5\n",
    "\n",
    "$\n",
    "\\left(\\begin{array}{ccc}\n",
    "1 & 2 \\\\ \n",
    "3 & 4 \\\\ \n",
    "5 & 6 \\\\ \n",
    "\\end{array} \\right) \n",
    "\\left(\\begin{array}{cccc}\n",
    "1 & 2 & 3 \\\\ \n",
    "4 & 5 & 6 \\\\\n",
    "\\end{array} \\right)\n",
    "$\n",
    "\n",
    "3行2列の行列と2行3列の行列の積です．前問と比較して，行列の積についての理解を深めてください．"
   ]
  },
  {
   "cell_type": "markdown",
   "metadata": {},
   "source": [
    "*****\n",
    "### 問題‐6\n",
    "\n",
    "$\n",
    "\\left(\\begin{array}{ccc}\n",
    "3 & 4 & 5 \\\\ \n",
    "\\end{array} \\right)\n",
    "\\left(\\begin{array}{c}\n",
    "3 \\\\ \n",
    "4 \\\\ \n",
    "5 \\\\ \n",
    "\\end{array} \\right) \n",
    "$\n",
    "\n",
    "1行3列の行列と3行1列の行列の積です．"
   ]
  },
  {
   "cell_type": "markdown",
   "metadata": {},
   "source": [
    "*****\n",
    "### 問題‐7\n",
    "\n",
    "$\n",
    "\\left(\\begin{array}{c}\n",
    "3 \\\\ \n",
    "4 \\\\ \n",
    "5 \\\\ \n",
    "\\end{array} \\right) \n",
    "\\left(\\begin{array}{ccc}\n",
    "3 & 4 & 5 \\\\ \n",
    "\\end{array} \\right)\n",
    "$\n",
    "\n",
    "3行1列の行列と1行3列の行列の積です．"
   ]
  },
  {
   "cell_type": "markdown",
   "metadata": {},
   "source": [
    "*****\n",
    "### 問題‐8\n",
    "\n",
    "$\n",
    "\\left(\\begin{array}{cc}\n",
    "1+i & 2i \\\\ \n",
    "-i & -1 \\\\ \n",
    "\\end{array} \\right)\n",
    "\\left(\\begin{array}{cc}\n",
    "1-i & i \\\\ \n",
    "i & -1 \\\\\n",
    "\\end{array} \\right) \n",
    "$\n",
    "\n",
    "複素数を成分とする2次正方行列どうしの積です．"
   ]
  },
  {
   "cell_type": "markdown",
   "metadata": {},
   "source": [
    "*****"
   ]
  }
 ],
 "metadata": {
  "kernelspec": {
   "display_name": "Python 3",
   "language": "python",
   "name": "python3"
  },
  "language_info": {
   "codemirror_mode": {
    "name": "ipython",
    "version": 3
   },
   "file_extension": ".py",
   "mimetype": "text/x-python",
   "name": "python",
   "nbconvert_exporter": "python",
   "pygments_lexer": "ipython3",
   "version": "3.6.1"
  }
 },
 "nbformat": 4,
 "nbformat_minor": 2
}
