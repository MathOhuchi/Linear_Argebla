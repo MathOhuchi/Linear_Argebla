{
 "cells": [
  {
   "cell_type": "markdown",
   "metadata": {},
   "source": [
    "# 行列演算の演習問題\n",
    "\n",
    "ここでは，ベクトルの演算についての演習を行います．\n",
    "これらの問題について，最初に紙に書いて手計算で解いてください．その後でPythonを使って解いてください． 最初からPythonで解いてしまうと考え方が頭の中で定着しませんので，手間はかかりますがまずは手計算を実施してください．"
   ]
  },
  {
   "cell_type": "markdown",
   "metadata": {},
   "source": [
    "### 問題1\n",
    "\n",
    "ベクトルに関する次の計算を実施せよ．\n",
    "\n",
    "$4\\left(\\begin{array}{c} 8 \\\\ 5 \\end{array} \\right) =$\n",
    "\n",
    "$\\left(\\begin{array}{c} -48 \\\\ 30 \\end{array} \\right)\\div 3 =$\n",
    "\n",
    "$\\left(\\begin{array}{c} 10 \\\\ 20 \\end{array} \\right) + \\left(\\begin{array}{c} 1 \\\\ 2 \\end{array} \\right)=$\n",
    "\n",
    "$\\left(\\begin{array}{c} -7 \\\\ 12 \\end{array} \\right) - \\left(\\begin{array}{c} -10 \\\\ 9 \\end{array} \\right)=$\n",
    "\n",
    "$\\frac{1}{3}\\left(\\begin{array}{c} 9 \\\\ 18 \\\\ 27 \\end{array} \\right) + 2\\left(\\begin{array}{c} \\frac{1}{2} \\\\ 4 \\\\ -3 \\end{array} \\right)=$\n",
    "\n",
    "$2\\left(\\begin{array}{c} 1 \\\\ i \\end{array} \\right) - 2i\\left(\\begin{array}{c} -i \\\\ 1 \\end{array} \\right)=$\n",
    "\n",
    "ここで$i$は虚数単位です．"
   ]
  },
  {
   "cell_type": "markdown",
   "metadata": {},
   "source": [
    "### 問題2\n",
    "スカラー$a=\\frac{2}{3}$およびベクトル${\\bf b}=\\left(\\begin{array}{c} 18 \\\\ -4 \\end{array} \\right)$としたとき，$a{\\bf x}-{\\bf b}={\\bf 0}$となる2次元ベクトル${\\bf x}$を求めよ．\n",
    "ここで，${\\bf 0}=\\left(\\begin{array}{c} 0 \\\\ 0 \\end{array}\\right)$である．"
   ]
  },
  {
   "cell_type": "markdown",
   "metadata": {},
   "source": [
    "*****"
   ]
  }
 ],
 "metadata": {
  "kernelspec": {
   "display_name": "Python 3",
   "language": "python",
   "name": "python3"
  },
  "language_info": {
   "codemirror_mode": {
    "name": "ipython",
    "version": 3
   },
   "file_extension": ".py",
   "mimetype": "text/x-python",
   "name": "python",
   "nbconvert_exporter": "python",
   "pygments_lexer": "ipython3",
   "version": "3.6.1"
  }
 },
 "nbformat": 4,
 "nbformat_minor": 2
}
