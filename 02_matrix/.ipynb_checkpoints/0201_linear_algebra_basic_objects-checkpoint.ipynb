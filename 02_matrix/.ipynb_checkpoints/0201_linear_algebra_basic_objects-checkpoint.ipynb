{
 "cells": [
  {
   "cell_type": "markdown",
   "metadata": {},
   "source": [
    "# 線形代数で扱う実体\n",
    "\n",
    "線形代数は，ベクトル空間とベクトル空間上の線形写像を体系的理論として完成させたものです．\n",
    "そこで取扱う主な数学的実体として，次のようなものがあります．\n",
    "\n",
    "- ベクトル空間\n",
    "- ベクトル空間の点\n",
    "- ベクトル空間上の線形写像\n",
    "- ベクトル空間の部分空間\n",
    "\n",
    "ベクトル空間が何であるかの説明はしばらく保留します．\n",
    "とりあえず，ここでは私達が普通に思っている空間と考えてください．\n",
    "\n",
    "これらの実体を実現するオブジェクトについて2段階で説明します．\n",
    "まず，数学的表現を説明し，そのあとPythonによる表現を説明します．"
   ]
  },
  {
   "cell_type": "markdown",
   "metadata": {},
   "source": [
    "## 線形代数のオブジェクト\n",
    "\n",
    "線形代数では，次の3種類の数学的対象を扱います．\n",
    "\n",
    "- スカラー（Scalar）\n",
    "- ベクトル（Vector）\n",
    "- 行列（Matrix）\n",
    "\n",
    "これらについて簡単に説明します．"
   ]
  },
  {
   "cell_type": "markdown",
   "metadata": {},
   "source": [
    "### スカラー\n",
    "\n",
    "<font color=blue>スカラーとは，実数または複素数のどちらかを言います．</font>一般的に数学の理論体系はできる限り広い範囲で構築すます．\n",
    "線形代数についても例にもれず複素数を前提として展開します．しかし，現実的な問題への適合性を考えて実数に制限することもよくあります．\n",
    "また，その幾何学的な構造を考えた場合，スカラーを実数で扱ったほうが明確になります．\n",
    "この講座では，状況によってスカラーとして実数と複素数を使い分けます．\n",
    "\n",
    "集合として<font color=blue>実数は$\\mathbb{R}$</font>と表し，<font color=blue>複素数は$\\mathbb{C}$</font>と表します．\n",
    "そしてスカラーを<font color=blue>実数か複素数か特定しない場合は$\\mathbb{K}$</font>と記載することとします．"
   ]
  },
  {
   "cell_type": "markdown",
   "metadata": {},
   "source": [
    "#### Pythonにおけるスカラーの扱い\n",
    "\n",
    "Pythonにおいて実数は，float型ないしはint型の数値として扱われます．\n",
    "Pythonでは変数のデータ型を明示的に指定しませんが，変数に数値を代入することによって適切なデータ型になります．\n",
    "\n",
    "オブジェクトのデータ型は，type()関数の引数に対象となるオブジェクトを渡すことによって確認できます．\n",
    "type()関数の構文は次の通りです．\n",
    "\n",
    "> <font color=green>type(<font color=blue>*object*</font>)</font>\n",
    "\n",
    "幾つかのデータについて，そのデータ型を確認します．\n",
    "```Python\n",
    "type(123)\n",
    "type(12.3)\n",
    "thpe(1+1j)\n",
    "```"
   ]
  },
  {
   "cell_type": "code",
   "execution_count": 1,
   "metadata": {},
   "outputs": [
    {
     "data": {
      "text/plain": [
       "int"
      ]
     },
     "execution_count": 1,
     "metadata": {},
     "output_type": "execute_result"
    }
   ],
   "source": [
    "type(123)"
   ]
  },
  {
   "cell_type": "code",
   "execution_count": 2,
   "metadata": {},
   "outputs": [
    {
     "data": {
      "text/plain": [
       "float"
      ]
     },
     "execution_count": 2,
     "metadata": {},
     "output_type": "execute_result"
    }
   ],
   "source": [
    "type(12.3)"
   ]
  },
  {
   "cell_type": "code",
   "execution_count": 3,
   "metadata": {},
   "outputs": [
    {
     "data": {
      "text/plain": [
       "complex"
      ]
     },
     "execution_count": 3,
     "metadata": {},
     "output_type": "execute_result"
    }
   ],
   "source": [
    "type(1+1j)"
   ]
  },
  {
   "cell_type": "markdown",
   "metadata": {},
   "source": [
    "複素数の表現で分かるように<font color=blue>Pythonでは虚数単位を $i$ ではなく $j$ </font>を用いている点に気を付けてください．\n",
    "また，$1+j$ と記載すると $j$ を変数と認識してしまうので，$j$ の前には必ず数値を明記することにも注意してください．\n",
    "\n",
    "数値のデータ型について意識する必要は殆どありませんが，非常に小さな数値による割り算でオーバーフローの危険を回避するためにデータ型を指定することもあります．"
   ]
  },
  {
   "cell_type": "markdown",
   "metadata": {},
   "source": [
    "### ベクトル\n",
    "\n",
    "ベクトルとは，複数個のスカラーの順序のついた組み合わせによって表現されるものです．\n",
    "ベクトルを構成するそれぞれのスカラーを成分と言います．\n",
    "ベクトルを扱う場合，その前提としてベクトル成分の個数を固定します．\n",
    "ベクトル成分の個数が$n$個の場合は$n$次元と呼びます．\n",
    "線形代数においてはベクトル成分の個数は有限個の範囲で論理展開します．"
   ]
  },
  {
   "cell_type": "markdown",
   "metadata": {},
   "source": [
    "#### ベクトルの表現\n",
    "\n",
    "$n$次元のベクトルは，$n$個のスカラーの組を括弧で囲って表しますが，その並べ方として縦に並べる列ベクトルと横に並べる行ベクトルがあります．\n",
    "列ベクトルは縦ベクトルとも言います．また，行ベクトルは横ベクトルとも言います．\n",
    "\n",
    "##### 列ベクトルの表記法\n",
    "$n$次元の列ベクトルは次にように表記します．ここで $x_i$ 各はスカラーです．\n",
    "\n",
    "$ {\\bf x} = \\left(\\begin{array}{cc} x_1 \\\\ x_2 \\\\ \\vdots \\\\ x_n \\end{array} \\right)$\n",
    "\n",
    "##### 行ベクトルの表記法\n",
    "$n$次元の行ベクトルは次にように表記します．\n",
    "\n",
    "$ {\\bf x} = ( x_1 \\, x_2 \\, \\cdots \\, x_n )$\n",
    "\n",
    "ただし数値を横に並べたときに各成分の区別がつくように間にカンマを入れて$ {\\bf x} = ( x_1, x_2, \\cdots, x_n )$と表記することもあります．\n",
    "\n",
    "線形代数では，ベクトルと言えば列ベクトルのことを言います．従いまして，単にベクトルと記載した場合は列ベクトルを示します．\n",
    "また，文中に列ベクトルを展開して記載する場合に省スペースのために$(x_1 \\, x_2 \\, \\cdots \\, x_n)^\\mathsf{T}$という記載を行うことがあります．\n",
    "これは転置行列の記載方法を利用して行ベクトルを横長に記載する表現です．"
   ]
  },
  {
   "cell_type": "markdown",
   "metadata": {},
   "source": [
    "### Pythonにおけるベクトルの扱い\n",
    "\n",
    "$n$個の数字の順序がある組はリスト配列によって表現することができます．しかし，ベクトルをリスト配列で保持すると線形代数の演算に対応することが出来ません．Pythonで線形代数の演算を行うには高機能配列演算を有する<font color=green>NumPyライブラリー</font>を利用します．\n",
    "\n",
    "NumPyライブラリーはPythonの科学技術計算には欠かせないものとなっています．\n",
    "Pythonの導入において<font color=green>Anacondaディストリビューション</font>を採用した場合，NumPyは同梱されています．\n",
    "したがって，単にNumPyをimport文で搬入するだけて利用可能となります．\n",
    "\n",
    "NumPyを搬入するimport文は次にようになります．\n",
    "\n",
    "> <font color=green>import</font> numpy <font color=green>as</font> np\n",
    "\n",
    "ここで別名にnpを指定していますが，Pythonの利用者の間では慣用的に使われている別名ですので，私たちもこの別名を使うことにします．"
   ]
  },
  {
   "cell_type": "code",
   "execution_count": 4,
   "metadata": {
    "collapsed": true
   },
   "outputs": [],
   "source": [
    "import numpy as np"
   ]
  },
  {
   "cell_type": "markdown",
   "metadata": {},
   "source": [
    "さて，Pythonにおいてベクトルはndarrayオブジェクトとして保有します．\n",
    "例として3次元のベクトル$(1,2,3)$を持つndarrayオブジェクトの変数myArrayを生成します．"
   ]
  },
  {
   "cell_type": "code",
   "execution_count": 5,
   "metadata": {},
   "outputs": [
    {
     "data": {
      "text/plain": [
       "array([1, 2, 3])"
      ]
     },
     "execution_count": 5,
     "metadata": {},
     "output_type": "execute_result"
    }
   ],
   "source": [
    "myArray = np.array([1,2,3])\n",
    "myArray"
   ]
  },
  {
   "cell_type": "markdown",
   "metadata": {},
   "source": [
    "このように，myArrayという変数ができましたが，この変数のオブジェクト型をtype()関数で確認します．"
   ]
  },
  {
   "cell_type": "code",
   "execution_count": 6,
   "metadata": {},
   "outputs": [
    {
     "data": {
      "text/plain": [
       "numpy.ndarray"
      ]
     },
     "execution_count": 6,
     "metadata": {},
     "output_type": "execute_result"
    }
   ],
   "source": [
    "type(myArray)"
   ]
  },
  {
   "cell_type": "markdown",
   "metadata": {},
   "source": [
    "myArrayは，numpy.ndarrayオブジェクトであることが確認できました．\n",
    "線形代数の多くの書籍ではベクトルの例として2次元か3次元しか扱っていません．\n",
    "しかし，数学とITを同時に学習することによって，もっと大きな次元についても取り扱うことが可能になります．\n",
    "その例として10次元のベクトルを作成してみましょう．"
   ]
  },
  {
   "cell_type": "code",
   "execution_count": 7,
   "metadata": {},
   "outputs": [
    {
     "data": {
      "text/plain": [
       "array([ 1,  2,  3,  4,  5,  6,  7,  8,  9, 10])"
      ]
     },
     "execution_count": 7,
     "metadata": {},
     "output_type": "execute_result"
    }
   ],
   "source": [
    "np.array(range(1,11))"
   ]
  },
  {
   "cell_type": "markdown",
   "metadata": {},
   "source": [
    "ベクトルの特徴や演算などについては，後々学習していきます．\n",
    "Pythonによる実践としてはNumPyのndarrayオブジェクトで対応すると理解してください．"
   ]
  },
  {
   "cell_type": "markdown",
   "metadata": {
    "collapsed": true
   },
   "source": [
    "### 行列\n",
    "\n",
    "行列とは，縦と横に複数のスカラーが並んだものです．縦を行といい，横を列といいます．\n",
    "行の個数を$m$とし，列の個数を$n$とした行列を$m$行$n$列の行列，あるいは$(m,n)$型行列と言います．\n",
    "${\\bf A}$を$m$行$n$列の行列とし，その$i$行$j$列目の成分の値を$a_{ij}$としたとき，この行列を次にように表現します．\n",
    "\n",
    "${\\bf A}=\\left(\\begin{array}{cc}\n",
    "a_{11} & a_{12} & \\cdots & a_{1n} \\\\ \n",
    "a_{21} & a_{22} & \\cdots & a_{2n} \\\\ \n",
    "\\vdots & \\vdots & \\ddots & \\vdots \\\\\n",
    "a_{m1} & a_{m2} & \\cdots & a_{mn} \\\\\n",
    "\\end{array} \\right)$\n",
    "\n",
    "ちなみに，$m$行$1$列の行列は列ベクトルです．$1$行$n$列の行列は行ベクトルです．"
   ]
  },
  {
   "cell_type": "markdown",
   "metadata": {},
   "source": [
    "行列を記載すると多くの場所を占めてしまいますので，行列を簡略に表記する省略記法があります．\n",
    "\n",
    "${\\bf A} = (a_{ij})_{mn} = (a_{ij})$\n",
    "\n",
    "$m$行$n$列であることがはっきりしていれば，$(a_{ij})$と記載します．"
   ]
  },
  {
   "cell_type": "markdown",
   "metadata": {},
   "source": [
    "#### 行列の例\n",
    "\n",
    "例として3行4列の行列について見て見ましょう．\n",
    "\n",
    "${\\bf A}=\\left(\\begin{array}{cc}\n",
    "a_{11} & a_{12} & a_{13} & a_{14} \\\\ \n",
    "a_{21} & a_{22} & a_{23} & a_{24} \\\\ \n",
    "a_{31} & a_{32} & a_{33} & a_{34} \\\\\n",
    "\\end{array} \\right) =\n",
    "\\left(\\begin{array}{cc}\n",
    "1 & 2 & 3 & 4 \\\\ \n",
    "5 & 6 & 7 & 8 \\\\ \n",
    "9 & 10 & 11 & 12 \\\\\n",
    "\\end{array} \\right)$\n",
    "\n",
    "この行列で2行3列目の値は$a_{23}=7$となっています．\n",
    "ちなみに，この行列を行列要素をインデックスによる計算値で表すと，$a_{ij}=4i+j-4$となります．"
   ]
  },
  {
   "cell_type": "markdown",
   "metadata": {},
   "source": [
    "### Pythonにおける行列の扱い\n",
    "\n",
    "Pythonでは行列をベクトルと同様にNumPyのndarrayオブジェクトとして保有します．\n",
    "それでは，上記の例に示した行列をmyMatrixというオブジェクトとして表現してみましょう．\n",
    "\n",
    "ndarrayオブジェクトにおいて行列は二重配列で表現します．"
   ]
  },
  {
   "cell_type": "code",
   "execution_count": 8,
   "metadata": {},
   "outputs": [
    {
     "data": {
      "text/plain": [
       "array([[ 1,  2,  3,  4],\n",
       "       [ 5,  6,  7,  8],\n",
       "       [ 9, 10, 11, 12]])"
      ]
     },
     "execution_count": 8,
     "metadata": {},
     "output_type": "execute_result"
    }
   ],
   "source": [
    "myMatrix = np.array([[1,2,3,4],[5,6,7,8],[9,10,11,12]])\n",
    "myMatrix"
   ]
  },
  {
   "cell_type": "markdown",
   "metadata": {},
   "source": [
    "2行3列目の要素にアクセスしてみましょう．ただし，Pythonのインデックスは0から始まるので，<font color=blue>行と列のインデックスの値をそれぞれ-1して指定する</font>必要があります．"
   ]
  },
  {
   "cell_type": "code",
   "execution_count": 9,
   "metadata": {},
   "outputs": [
    {
     "data": {
      "text/plain": [
       "7"
      ]
     },
     "execution_count": 9,
     "metadata": {},
     "output_type": "execute_result"
    }
   ],
   "source": [
    "myMatrix[1,2]"
   ]
  },
  {
   "cell_type": "markdown",
   "metadata": {
    "collapsed": true
   },
   "source": [
    "行列やベクトルについて，幾つかの演算が定義されています．\n",
    "この後，それらの演算について学習します．\n",
    "*****"
   ]
  }
 ],
 "metadata": {
  "kernelspec": {
   "display_name": "Python 3",
   "language": "python",
   "name": "python3"
  },
  "language_info": {
   "codemirror_mode": {
    "name": "ipython",
    "version": 3
   },
   "file_extension": ".py",
   "mimetype": "text/x-python",
   "name": "python",
   "nbconvert_exporter": "python",
   "pygments_lexer": "ipython3",
   "version": "3.6.1"
  }
 },
 "nbformat": 4,
 "nbformat_minor": 2
}
