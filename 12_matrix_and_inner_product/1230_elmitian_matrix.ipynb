{
 "cells": [
  {
   "cell_type": "markdown",
   "metadata": {},
   "source": [
    "# エルミート行列の特徴\n",
    "\n",
    "ここでは，エルミート行列の特徴について説明します．\n",
    "エルミート行列は，ユニタリ空間，すなわち，内積の定義されている複素ベクトル空間において，次式を満たす線形変換の表現行列$\\bf H$でした．\n",
    "\n",
    "> $\\left<{\\bf Hx},{\\bf y}\\right> = \\left<{\\bf x},{\\bf Hy}\\right>$\n",
    "\n",
    "ベクトル空間の内積は次式で定義されていました．\n",
    "\n",
    "> $\\left<{\\bf x},{\\bf y}\\right> = \\overline{\\bf x}^\\mathsf{T}{\\bf y} =\n",
    "\\overline{x}_1y_1+\\overline{x}_2y_2+\\cdots+\\overline{x}_ny_y$\n",
    "\n",
    "この内積の定義により，どんな$n$次正方行列$\\bf A$でも，\n",
    "$\\left<{\\bf Ax},{\\bf y}\\right> = \\left<{\\bf x},\\overline{\\bf A}^\\mathsf{T}{\\bf y}\\right>$\n",
    "が成り立ちます．\n",
    "そこで，${\\bf A}^* = \\overline{\\bf A}^\\mathsf{T}$と定義して，\n",
    "\n",
    "> ${\\bf H}^* = {\\bf H}$\n",
    "\n",
    "となる行列をエルミート行列としました．"
   ]
  },
  {
   "cell_type": "markdown",
   "metadata": {},
   "source": [
    "*****\n",
    "## エルミート行列の特徴1\n",
    "\n",
    "行列$\\bf H$がエルミート行列のとき，すなわち${\\bf H}^*={\\bf H}$が成り立つとき，\n",
    "任意の複素ベクトル$\\bf x$に対して，内積$\\left<{\\bf x},{\\bf H}{\\bf x}\\right>$は実数になります．\n",
    "\n",
    "> $\\left<{\\bf x},{\\bf H}{\\bf x}\\right> \\in \\mathbb{R}$"
   ]
  },
  {
   "cell_type": "markdown",
   "metadata": {},
   "source": [
    "### 証明\n",
    "\n",
    "ある複素数$r$について，その複素共役が元の数に等しい場合，すなわち$\\bar{r}=r$が成立するとき，\n",
    "$r=a+bi, \\bar{r}=a-bi$より，$b=0$となり，$r$は実数になります．\n",
    "この特徴を利用して証明します．\n",
    "\n",
    "$$\\begin{eqnarray}\n",
    "{\\left<{\\bf x},{\\bf Hx}\\right>} \n",
    "&=& \\overline{\\left<{\\bf Hx},{\\bf x}\\right>}  & \\text{・・・内積の左右の入替え}  \\\\\n",
    "&=& \\overline{\\left<{\\bf x},{\\bf H}^*{\\bf x}\\right>}  & \\text{・・・随伴行列}  \\\\\n",
    "&=& \\overline{\\left<{\\bf x},{\\bf Hx}\\right>}  & \\text{・・・エルミート行列}  \\\\\n",
    "\\end{eqnarray}$$\n",
    "\n",
    "よって，${\\left<{\\bf x},{\\bf Hx}\\right>}$とその複素共役が一致したので，この値は実数になっています．"
   ]
  },
  {
   "cell_type": "markdown",
   "metadata": {},
   "source": [
    "*****\n",
    "## エルミート行列の特徴2\n",
    "\n",
    "エルミート行列$\\bf H$の全ての固有値は実数です．\n",
    "\n",
    "> ${\\bf Hu}=\\lambda{\\bf u} \\Longrightarrow \\lambda \\in \\mathbb{R}$"
   ]
  },
  {
   "cell_type": "markdown",
   "metadata": {},
   "source": [
    "### 証明\n",
    "\n",
    "固有ベクトル$\\bf u$と固有値の式${\\bf Hu}=\\lambda{\\bf u}$との内積を作ります．\n",
    "\n",
    "$$\\begin{eqnarray}\n",
    "\\left<{\\bf u},{\\bf H}{\\bf u}\\right> \n",
    "&=& \\left<{\\bf u},\\lambda{\\bf u}\\right> \\\\\n",
    "&=& \\lambda\\left<{\\bf u},{\\bf u}\\right> \\\\\n",
    "&=& \\lambda {\\|{\\bf u}\\|}^2\n",
    "\\end{eqnarray}$$\n",
    "\n",
    "ここで左辺は実数であり，ベクトル$\\bf v$のノルム$\\|{\\bf u}\\|$も正の実数なので，$\\lambda$も実数となります．"
   ]
  },
  {
   "cell_type": "markdown",
   "metadata": {},
   "source": [
    "*****\n",
    "## エルミート行列の特徴3\n",
    "\n",
    "エルミート行列$\\bf H$の固有値を${\\lambda}_i$とし，固有ベクトルを${\\bf u}_i$としたとき，\n",
    "${\\lambda}_i \\neq {\\lambda}_j$ならば${\\bf u}_i$と${\\bf u}_j$は直交します．\n",
    "\n",
    "> ${\\lambda}_i \\neq {\\lambda}_j \\Longrightarrow \\left<{\\bf u}_i,{\\bf u}_j\\right>=0$"
   ]
  },
  {
   "cell_type": "markdown",
   "metadata": {},
   "source": [
    "### 証明\n",
    "\n",
    "固有値の定義から，${\\bf Hu}_i={\\lambda}_i{\\bf u}_i$ですが，この式を随伴行列に変換すると，\n",
    "\n",
    "$${{\\bf u}_i}^*{\\bf H}^* = \\overline{\\lambda_i}{{\\bf u}_i}^*$$\n",
    "\n",
    "となります．行列$\\bf H$はエルミート行列なので${\\bf H}^*={\\bf H}$を代入し，固有値$\\lambda_i$は実数なので$\\overline{\\lambda_i}=\\lambda_i$を代入します．\n",
    "\n",
    "$${{\\bf u}_i}^*{\\bf H} = {\\lambda_i}{{\\bf u}_i}^*$$\n",
    "\n",
    "この式に右側から${\\bf u}_j$を掛けると，\n",
    "\n",
    "$${{\\bf u}_i}^*{\\bf H}{\\bf u}_j = {\\lambda_i}{{\\bf u}_i}^*{\\bf u}_j$$\n",
    "\n",
    "となり，${\\bf H}{\\bf u}_j={\\lambda_j}{\\bf u}_j$を左辺に代入すれば，\n",
    "\n",
    "$${\\lambda_j}{{\\bf u}_i}^*{\\bf u}_j = {\\lambda_i}{{\\bf u}_i}^*{\\bf u}_j$$\n",
    "\n",
    "が得られ，$\\lambda_i \\neq \\lambda_j$なので，${{\\bf u}_i}^*{\\bf u}_j =0$が得られます．これは内積そのものです．"
   ]
  },
  {
   "cell_type": "markdown",
   "metadata": {},
   "source": [
    "*****"
   ]
  }
 ],
 "metadata": {
  "kernelspec": {
   "display_name": "Python 3",
   "language": "python",
   "name": "python3"
  },
  "language_info": {
   "codemirror_mode": {
    "name": "ipython",
    "version": 3
   },
   "file_extension": ".py",
   "mimetype": "text/x-python",
   "name": "python",
   "nbconvert_exporter": "python",
   "pygments_lexer": "ipython3",
   "version": "3.6.1"
  }
 },
 "nbformat": 4,
 "nbformat_minor": 2
}
