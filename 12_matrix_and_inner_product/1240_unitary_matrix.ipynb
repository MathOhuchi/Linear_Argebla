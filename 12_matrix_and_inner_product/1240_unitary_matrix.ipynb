{
 "cells": [
  {
   "cell_type": "markdown",
   "metadata": {},
   "source": [
    "# ユニタリ行列の特徴\n",
    "\n",
    "ここでは，ユニタリ行列の特徴について説明します．\n",
    "ユニタリ行列は，ユニタリ空間において，次の式を満たす行列$\\bf U$です．\n",
    "\n",
    "> ${\\bf U}^*{\\bf U} = {\\bf U}{\\bf U}^* = {\\bf I}$\n",
    "\n",
    "すなわち，${\\bf U}^* = {\\bf U}^{-1}$となる行列です．\n",
    "この定義により，ユニタリ行列は正則行列です．"
   ]
  },
  {
   "cell_type": "markdown",
   "metadata": {},
   "source": [
    "*****\n",
    "## ユニタリ行列の由来\n",
    "\n",
    "このように，正方行列について随伴行列が逆行列と一致する行列をユニタリ行列としましたが，元々は行列の対角化のために用いられる固有ベクトルからなる行列の特徴として考えられました．\n",
    "\n",
    "$n$次元ユニタリ空間において，正規直交基底を ${\\bf u}_1, {\\bf u}_2, {\\cdots} {\\bf u}_n$ とします．\n",
    "このとき，$i \\neq j$ ならば$\\left< {\\bf u}_i , {\\bf u}_j \\right> = 0$ が成り立ちます．\n",
    "また，正規直交基底なので，$\\left< {\\bf u}_i , {\\bf u}_i \\right> = 1$ が成り立ちます．\n",
    "\n",
    "このベクトル ${\\bf u}_i$ は$n$次元の列ベクトルなので，これらの列ベクトルを横に並べて$n$次正方行列を作ります．\n",
    "\n",
    "$${\\bf U} = \n",
    "\\left( \\begin{array}{c}\n",
    "{\\bf u}_1 & {\\bf u}_2 & {\\cdots} & {\\bf u}_n\n",
    "\\end{array} \\right) $$\n",
    "\n",
    "この行列の随伴は次のようになります．\n",
    "\n",
    "$${\\bf U}^* = \n",
    "\\left( \\begin{array}{c}\n",
    "{\\bf u}_1^* \\\\ {\\bf u}_2^* \\\\ {\\vdots} \\\\ {\\bf u}_n^*\n",
    "\\end{array} \\right) $$\n",
    "\n",
    "したがって，行列の積 ${\\bf U}^*{\\bf U}$を計算すると，\n",
    "対角線成分は ${\\bf u}_i^*{\\bf u}_i=1$ となり，その他の成分は ${\\bf u}_i^*{\\bf u}_j=0$となるので，\n",
    "結果として単位行列となります．"
   ]
  },
  {
   "cell_type": "markdown",
   "metadata": {},
   "source": [
    "*****\n",
    "## ユニタリ行列の特徴1\n",
    "\n",
    "ユニタリ行列による線形変換は等長変換になります．\n",
    "すなわち，\n",
    "\n",
    "> $ \\|{\\bf Ux}\\| = \\|{\\bf x}\\| $\n",
    "\n",
    "が成り立ちます．"
   ]
  },
  {
   "cell_type": "markdown",
   "metadata": {},
   "source": [
    "### 証明\n",
    "\n",
    "$$ \\begin{eqnarray}\n",
    "{\\|{\\bf Ux}\\|}^2\n",
    "&=& \\left< {\\bf Ux},{\\bf Ux} \\right> \\\\\n",
    "&=& \\left< {\\bf x},{\\bf U}^*{\\bf Ux} \\right> \\\\\n",
    "&=& \\left< {\\bf x},{\\bf U}^{-1}{\\bf Ux} \\right> \\\\\n",
    "&=& \\left< {\\bf x},{\\bf I}{\\bf x} \\right> \\\\\n",
    "&=& \\left< {\\bf x},{\\bf x} \\right> \\\\\n",
    "&=& {\\|{\\bf x}\\|}^2\n",
    "\\end{eqnarray} $$"
   ]
  },
  {
   "cell_type": "markdown",
   "metadata": {},
   "source": [
    "*****\n",
    "## ユニタリ行列の特徴2\n",
    "\n",
    "ユニタリ行列の全ての固有値の絶対値は 1 になります．\n",
    "すなわち，${\\bf Ux}={\\lambda}{\\bf x}$ に対して\n",
    "\n",
    "> $|{\\lambda}| = 1$\n",
    "\n",
    "が成り立ちます．"
   ]
  },
  {
   "cell_type": "markdown",
   "metadata": {},
   "source": [
    "### 証明\n",
    "\n",
    "固有値と固有ベクトルの式 ${\\bf Ux}={\\lambda}{\\bf x}$の両辺のノルムを計算します．\n",
    "\n",
    "$$ \\|{\\bf Ux}\\| = \\|{\\lambda}{\\bf x}\\| $$\n",
    "\n",
    "この式の左辺はユニタリ行列の等長性により，$ \\|{\\bf Ux}\\| = \\|{\\bf x}\\| $ となります．\n",
    "また右辺は，$ \\|{\\lambda}{\\bf x}\\| = |{\\lambda}| \\|{\\bf x}\\| $ となります．  \n",
    "\n",
    "固有ベクトルは零ベクトルではないので，両辺を $\\|{\\bf x}\\|$ で割れば ${\\lambda}=1$ が得られます．"
   ]
  },
  {
   "cell_type": "markdown",
   "metadata": {},
   "source": [
    "*****\n",
    "## ユニタリ行列の特徴3\n",
    "\n",
    "異なる固有値に対する固有ベクトルは直交します．\n",
    "すなわち，\n",
    "\n",
    "> ${\\lambda}_i \\neq {\\lambda}_j \\Rightarrow \\left<{\\bf x}_i,{\\bf x}_j\\right>=0$\n"
   ]
  },
  {
   "cell_type": "markdown",
   "metadata": {},
   "source": [
    "### 証明\n",
    "\n",
    "固有値と固有ベクトルの式 ${\\bf U}{\\bf x}_i={\\lambda}_i{\\bf x}_i$ および ${\\bf U}{\\bf x}_j={\\lambda}_j{\\bf x}_j$ の内積をとります．\n",
    "\n",
    "$$ \\begin{eqnarray}\n",
    "\\left< {\\bf U}{\\bf x}_i,{\\bf U}{\\bf x}_j \\right> &=& \\left< {\\lambda}_i{\\bf x}_i,{\\lambda}_j{\\bf x}_j \\right> \\\\\n",
    "\\left< {\\bf x}_i,{\\bf U}^*{\\bf U}{\\bf x}_j \\right> &=& \\overline{\\lambda}_i{\\lambda}_j\\left< {\\bf x}_i,{\\bf x}_j \\right> \\\\\n",
    "\\left< {\\bf x}_i,{\\bf x}_j \\right> &=& \\overline{\\lambda}_i{\\lambda}_j\\left< {\\bf x}_i,{\\bf x}_j \\right>\n",
    "\\end{eqnarray} $$\n",
    "\n",
    "ここで，${\\lambda}_i \\neq {\\lambda}_j$ なので，$\\overline{\\lambda}_i{\\lambda}_j \\neq 1$ となり，\n",
    "$\\left< {\\bf x}_i,{\\bf x}_j \\right> = 0$ でなければなりません．"
   ]
  },
  {
   "cell_type": "markdown",
   "metadata": {},
   "source": [
    "*****"
   ]
  }
 ],
 "metadata": {
  "kernelspec": {
   "display_name": "Python 3",
   "language": "python",
   "name": "python3"
  },
  "language_info": {
   "codemirror_mode": {
    "name": "ipython",
    "version": 3
   },
   "file_extension": ".py",
   "mimetype": "text/x-python",
   "name": "python",
   "nbconvert_exporter": "python",
   "pygments_lexer": "ipython3",
   "version": "3.6.1"
  }
 },
 "nbformat": 4,
 "nbformat_minor": 2
}
