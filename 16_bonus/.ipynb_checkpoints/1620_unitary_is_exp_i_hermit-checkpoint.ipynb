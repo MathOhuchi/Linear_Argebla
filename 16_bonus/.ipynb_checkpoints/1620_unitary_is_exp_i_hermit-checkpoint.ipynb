{
 "cells": [
  {
   "cell_type": "markdown",
   "metadata": {},
   "source": [
    "# ユニタリ行列をエルミート行列の指数関数で表す\n",
    "\n",
    "任意のユニタリ行列$\\bf U$に対して，エルミート行列$\\bf H$が存在して，\n",
    "\n",
    "> $ {\\bf U}=e^{i{\\bf H}} $\n",
    "\n",
    "と表すことができます．  \n",
    "この公式については，証明無しで紹介していました．\n",
    "ここで，この公式を証明します．"
   ]
  },
  {
   "cell_type": "markdown",
   "metadata": {},
   "source": [
    "*****\n",
    "## 証明\n",
    "\n",
    "行列$\\bf U$をユニタリ行列とすると，\n",
    "ユニタリ行列の対角化定理により，ユニタリ行列$\\bf V$と対角行列$\\bf \\Lambda$が存在して，\n",
    "\n",
    "$$ {\\bf V}^{-1}{\\bf U}{\\bf V} = {\\bf \\Lambda} $$\n",
    "\n",
    "が成立します．\n",
    "ここで，行列$\\bf U$の固有値を$\\lambda_1, \\lambda_2, \\cdots, \\lambda_n$とすると，\n",
    "\n",
    "$$\n",
    "{\\bf \\Lambda} =\n",
    "\\left( \\begin{array}{c}\n",
    "\\lambda_1 & 0         & \\cdots & 0         \\\\\n",
    "0         & \\lambda_2 & \\ddots & \\vdots    \\\\\n",
    "\\vdots    & \\ddots    & \\ddots & 0         \\\\\n",
    "0         & \\cdots    & 0      & \\lambda_n \\\\\n",
    "\\end{array} \\right)\n",
    "$$\n",
    "\n",
    "となります．"
   ]
  },
  {
   "cell_type": "markdown",
   "metadata": {},
   "source": [
    "ユニタリ行列の性質として，その固有値は絶対値が $1$ の複素数でした．\n",
    "\n",
    "$$ | \\lambda_j | = 1 $$\n",
    "\n",
    "そこで，各固有値 $\\lambda_j$ に対して，$\\theta_j \\in \\mathbb{R}$ が存在して，\n",
    "\n",
    "$$ \\lambda_j = e^{i\\theta_j}$$\n",
    "\n",
    "が成り立ちます．\n",
    "これにより，対角行列$\\bf \\Lambda$は次のように表せます．\n",
    "\n",
    "$$\n",
    "{\\bf \\Lambda} =\n",
    "\\left( \\begin{array}{c}\n",
    "e^{i\\theta_1} & 0             & \\cdots & 0             \\\\\n",
    "0             & e^{i\\theta_2} & \\ddots & \\vdots        \\\\\n",
    "\\vdots        & \\ddots        & \\ddots & 0             \\\\\n",
    "0             & \\cdots        & 0      & e^{i\\theta_n} \\\\\n",
    "\\end{array} \\right)\n",
    "$$"
   ]
  },
  {
   "cell_type": "markdown",
   "metadata": {},
   "source": [
    "$e^{i\\theta_j}$をTayler展開すると，\n",
    "\n",
    "$$\n",
    "e^{i\\theta_j} =\n",
    "\\sum_{k=0}^{\\infty}{\\frac{1}{k!}(i\\theta_j)^k}\n",
    "$$\n",
    "\n",
    "となります．  \n",
    "この式を行列$\\bf \\Lambda$に代入します．"
   ]
  },
  {
   "cell_type": "markdown",
   "metadata": {},
   "source": [
    "$$\n",
    "{\\bf \\Lambda} \n",
    "=\n",
    "\\left( \\begin{array}{c}\n",
    "\\sum_{k=0}^{\\infty}{\\frac{1}{k!}(i\\theta_j)^k} & 0             & \\cdots & 0             \\\\\n",
    "0             & \\sum_{k=0}^{\\infty}{\\frac{1}{k!}(i\\theta_j)^k} & \\ddots & \\vdots        \\\\\n",
    "\\vdots        & \\ddots        & \\ddots & 0             \\\\\n",
    "0             & \\cdots        & 0      & \\sum_{k=0}^{\\infty}{\\frac{1}{k!}(i\\theta_j)^k} \\\\\n",
    "\\end{array} \\right)\n",
    "=\n",
    "\\sum_{k=0}^{\\infty}\\frac{i^k}{k!}\n",
    "\\left( \\begin{array}{c}\n",
    "{\\theta_1}^k & 0            & \\cdots & 0            \\\\\n",
    "0            & {\\theta_2}^k & \\ddots & \\vdots       \\\\\n",
    "\\vdots       & \\ddots       & \\ddots & 0            \\\\\n",
    "0            & \\cdots       & 0      & {\\theta_n}^k \\\\\n",
    "\\end{array} \\right)\n",
    "$$"
   ]
  },
  {
   "cell_type": "markdown",
   "metadata": {},
   "source": [
    "ここで新たに行列$\\Theta$を\n",
    "\n",
    "$$\n",
    "\\Theta =\n",
    "\\left( \\begin{array}{c}\n",
    "{\\theta_1} & 0          & \\cdots & 0          \\\\\n",
    "0          & {\\theta_2} & \\ddots & \\vdots     \\\\\n",
    "\\vdots     & \\ddots     & \\ddots & 0          \\\\\n",
    "0          & \\cdots     & 0      & {\\theta_n} \\\\\n",
    "\\end{array} \\right)\n",
    "$$\n",
    "\n",
    "と定義すると，\n",
    "\n",
    "$$\n",
    "\\left( \\begin{array}{c}\n",
    "{\\theta_1}^k & 0            & \\cdots & 0            \\\\\n",
    "0            & {\\theta_2}^k & \\ddots & \\vdots       \\\\\n",
    "\\vdots       & \\ddots       & \\ddots & 0            \\\\\n",
    "0            & \\cdots       & 0      & {\\theta_n}^k \\\\\n",
    "\\end{array} \\right)\n",
    "=\n",
    "{\\Theta}^k\n",
    "$$\n",
    "\n",
    "となります．\n",
    "よって，"
   ]
  },
  {
   "cell_type": "markdown",
   "metadata": {},
   "source": [
    "$$\n",
    "{\\bf \\Lambda} =\n",
    "\\sum_{k=0}^{\\infty}\\frac{i^k}{k!}{\\Theta}^k\n",
    "$$\n",
    "\n",
    "となります．  \n",
    "この式を，${\\bf U}={\\bf V}{\\bf \\Lambda}{\\bf V}^{-1}$に代入します．"
   ]
  },
  {
   "cell_type": "markdown",
   "metadata": {},
   "source": [
    "$$\n",
    "{\\bf U}\n",
    "=\n",
    "{\\bf V}\n",
    "\\left\\{\n",
    "\\sum_{k=0}^{\\infty}\\frac{i^k}{k!}{\\Theta}^k\n",
    "\\right\\}\n",
    "{\\bf V}^{-1}\n",
    "=\n",
    "\\sum_{k=0}^{\\infty}\\frac{i^k}{k!}{\\bf V}{\\Theta}^k{\\bf V}^{-1}\n",
    "$$"
   ]
  },
  {
   "cell_type": "markdown",
   "metadata": {},
   "source": [
    "ここで，\n",
    "\n",
    "$$\n",
    "{\\bf V}{\\Theta}^k{\\bf V}^{-1}\n",
    "=\n",
    "({\\bf V}{\\Theta}{\\bf V}^{-1})({\\bf V}{\\Theta}{\\bf V}^{-1}){\\cdots}({\\bf V}{\\Theta}{\\bf V}^{-1})\n",
    "$$\n",
    "\n",
    "となることを利用すると，"
   ]
  },
  {
   "cell_type": "markdown",
   "metadata": {},
   "source": [
    "$$\n",
    "{\\bf U}\n",
    "=\n",
    "\\sum_{k=0}^{\\infty}\\frac{i^k}{k!}({\\bf V}{\\Theta}{\\bf V}^{-1})^k\n",
    "$$\n",
    "\n",
    "となります．"
   ]
  },
  {
   "cell_type": "markdown",
   "metadata": {},
   "source": [
    "ここで，${\\bf H}= {\\bf V}{\\Theta}{\\bf V}^{-1}$と置くと，\n",
    "\n",
    "$$\n",
    "{\\bf U}\n",
    "=\n",
    "\\sum_{k=0}^{\\infty}\\frac{i^k}{k!}{\\bf H}^k\n",
    "=\n",
    "e^{i{\\bf H}}\n",
    "$$\n",
    "\n",
    "となります．"
   ]
  },
  {
   "cell_type": "markdown",
   "metadata": {},
   "source": [
    "この行列$\\bf H$がエルミート行列であることを示します．\n",
    "\n",
    "$$\n",
    "\\begin{eqnarray}\n",
    "{\\bf H}^* \n",
    "&=& ({\\bf V}\\Theta{\\bf V}^{-1})^* \\\\\n",
    "&=& ({\\bf V}\\Theta{\\bf V}^*)^* \\\\\n",
    "&=& ({\\bf V}^*)^*(\\Theta^*)({\\bf V}^*) \\\\\n",
    "&=& {\\bf V}\\Theta{\\bf V}^* \\\\\n",
    "&=& {\\bf V}\\Theta{\\bf V}^{-1} \\\\\n",
    "&=& {\\bf H}\n",
    "\\end{eqnarray}\n",
    "$$"
   ]
  },
  {
   "cell_type": "markdown",
   "metadata": {},
   "source": [
    "以上により，任意のユニタリ行列$\\bf U$に対して，エルミート行列$\\bf H$が存在して，\n",
    "\n",
    "$$ {\\bf U} = e^{i{\\bf H}} $$\n",
    "\n",
    "が成立することが証明されました．"
   ]
  },
  {
   "cell_type": "markdown",
   "metadata": {},
   "source": [
    "*****"
   ]
  }
 ],
 "metadata": {
  "kernelspec": {
   "display_name": "Python 3",
   "language": "python",
   "name": "python3"
  },
  "language_info": {
   "codemirror_mode": {
    "name": "ipython",
    "version": 3
   },
   "file_extension": ".py",
   "mimetype": "text/x-python",
   "name": "python",
   "nbconvert_exporter": "python",
   "pygments_lexer": "ipython3",
   "version": "3.6.1"
  }
 },
 "nbformat": 4,
 "nbformat_minor": 2
}
