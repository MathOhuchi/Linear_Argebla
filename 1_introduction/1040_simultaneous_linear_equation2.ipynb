{
 "cells": [
  {
   "cell_type": "markdown",
   "metadata": {},
   "source": [
    "## 連立方程式の構造問題\n",
    "\n",
    "さてGauss-Jordanの消去法によって，連立方程式を初等的に解くことは問題なくできたかと思います．\n",
    "実は例題で提示された連立方程式は解ける問題として作られています．\n",
    "これらの問題も少し変更して解けない問題にすることもできます．\n",
    "これから，解ける問題と解けない問題の違いは何なのかを探っていきましょう．"
   ]
  },
  {
   "cell_type": "markdown",
   "metadata": {},
   "source": [
    "### 変数の個数と式の個数\n",
    "\n",
    "これまでの例題では変数の個数と式の個数が一致しています．\n",
    "このことを例題3で確認します．例題3の連立方程式を再掲します．\n",
    "\n",
    "$\\left\\{\\begin{array}{lc}\n",
    " 2x - 2y - 4z = -6 & ・・・(1) \\\\ \n",
    " 3x -  y - 4z = -7 & ・・・(2) \\\\ \n",
    "-2x -  y + 2z = 6  & ・・・(3) \\\\\n",
    "\\end{array} \\right.$\n",
    "\n",
    "このように，式の個数は3個あり，変数も$x,y,z$の3個あります．\n",
    "つまり，3個の変数の値を3個の式で定義付けているとも言えます．\n",
    "\n",
    "それでは式の個数が変数の個数より少なかったら，問題は解けるでしょうか．\n",
    "例えば，例題3で式(3)が無いと仮定します．すなわち\n",
    "\n",
    "$\\left\\{\\begin{array}{lc}\n",
    "2x - 2y - 4z = -6 & ・・・(1) \\\\ \n",
    "3x -  y - 4z = -7 & ・・・(2) \\\\ \n",
    "\\end{array} \\right.$\n",
    "\n",
    "とします．掃き出し法を適用すると，その結果として次式が得られます．\n",
    "\n",
    "$\\left\\{\\begin{array}{ll}\n",
    "x \\ \\ \\ - z = -2 &  \\\\ \n",
    "\\ \\ \\ y +  z =  1 & \\\\ \n",
    "\\end{array} \\right.$\n",
    "\n",
    "この式をこれ以上簡単に変形することはできません．\n",
    "ここで任意の実数$s$をパラメータとして，$z=s$としてみます．\n",
    "すると，$x=s-2$および$y=1-s$となります．\n",
    "\n",
    "$\\left\\{\\begin{array}{l}\n",
    "x = s-2   \\\\ \n",
    "y = 1-s \\\\ \n",
    "z = s \\\\\n",
    "\\end{array} \\right.$\n",
    "\n",
    "すなわち，$(x,y,z)=(s-2,1-s,s)$が連立方程式の解となります．\n",
    "実数$s$を適当に固定した値を作ってみると，それが連立方程式の解になっていることが分かります．\n",
    "たとえば，$s=0$とすると$(x,y,z)=(-2,1,0)$は連立方程式を満たしますし，$s=3$とすると$(x,y,z)=(1,-2,3)$が解の一つであることが分かります．\n",
    "\n",
    "このように式の個数が変数の個数より少ない場合は，解は存在するが一意的でない状況が発生します．\n",
    "私たちは後々，式の個数と変数の個数が異なる場合についての考察も行いますが，先ずは式の個数と変数の個数が同じ場合について調べていきます．"
   ]
  },
  {
   "cell_type": "markdown",
   "metadata": {},
   "source": [
    "*****\n",
    "## 式の個数と変数の個数が同じ場合について\n",
    "\n",
    "次に式の個数と変数の個数が同じ連立一次方程式についての3種類の問題を解いてみます．\n",
    "この問題を通して，連立方程式に現れる構造について考えてみます．\n"
   ]
  },
  {
   "cell_type": "markdown",
   "metadata": {},
   "source": [
    "### 【例題4】\n",
    "\n",
    "次の3種類の連立方程式の解を求めることによって，連立方程式の特徴を調べよ．\n",
    "\n",
    "#### (a)\n",
    "\n",
    "$\\left\\{\\begin{array}{lc}\n",
    " x + 3y = 5  & ・・・(a1) \\\\ \n",
    "2x - 3y = 1  & ・・・(a2) \\\\ \n",
    "\\end{array} \\right.$\n",
    "\n",
    "#### (b)\n",
    "\n",
    "$\\left\\{\\begin{array}{lc}\n",
    " x + 3y = 5  & ・・・(b1) \\\\ \n",
    "2x + 6y = 10 & ・・・(b2) \\\\ \n",
    "\\end{array} \\right.$\n",
    "\n",
    "#### (c)\n",
    "\n",
    "$\\left\\{\\begin{array}{lc}\n",
    " x + 3y = 5  & ・・・(c1) \\\\ \n",
    "2x + 6y = 5  & ・・・(c2) \\\\ \n",
    "\\end{array} \\right.$\n",
    "\n",
    "これらの問題は，2個の変数と2つの式によって構成されています．\n",
    "それぞれの問題において最初の式は同じものです．\n",
    "これらの問題において最初の式と2番目の式との関係によって解の構造がどのように異なるのかを調べます．"
   ]
  },
  {
   "cell_type": "markdown",
   "metadata": {},
   "source": [
    "### 解答\n",
    "\n",
    "#### (a)\n",
    "まずは(a)の連立方程式から解いていきます．<br>\n",
    "式(a2)から式(a1)の2倍を引きます．\n",
    "\n",
    "> $(2x - 3y) -2(x + 3y) = 1 - 2\\times5$<br>\n",
    "> $2x - 3y - 2x - 6y = 1 - 10$<br>\n",
    "> $(2-2)x - (3+6)y = -9$<br>\n",
    "> $y = 1$\n",
    "\n",
    "これにより，変数$y$の値が求まりました．\n",
    "この値を式(a1)に代入します．\n",
    "\n",
    "> $x + 3\\times1 = 5$<br>\n",
    "> $x = 5 - 3$<br>\n",
    "> $x = 2$\n",
    "\n",
    "よって変数$x$の値も求まりました．\n",
    "この連立方程式(a)は，解が一意的に存在する問題であることが分かりました．\n",
    "したがって<font color=blue>解は，$(x,y)=(2,1)$</font>となります．\n",
    "\n",
    "#### (b)\n",
    "次に(b)の連立方程式について解いてみます．<br>\n",
    "式(b2)から式(b1)の2倍を引いてみます．\n",
    "> $(2x + 6y) -2(x + 3y) = 10 - 2\\times5$<br>\n",
    "> $(2-2)x + (6-6)y = 10 - 10$<br>\n",
    "> $0 = 0$\n",
    "\n",
    "この結果，変数$x$と同時に変数$y$も消えてしまいました．\n",
    "この式の演算は変数を一つしか含まない式を生成することでした．\n",
    "しかし，どのような計算をしても，そのような式を作ることはできません．\n",
    "この計算でも分かるように式(b2)は式(b1)の両辺を2倍したものであり，実質的には同じ式です．\n",
    "つまり，見かけ上は2個の式があるようにみえますが，実際には一つの式だということです．\n",
    "\n",
    "それでは，この場合の解はどうなるかと言うと<font color=blue>$s$を任意の実数値をとるパラメータとして，$(x,y)=(5-3s,s)$と置けば，連立方程式を満たす解</font>になっています．\n",
    "\n",
    "#### (c)\n",
    "最後に(c)の連立方程式を解いてみましょう．<br>\n",
    "(b)と同様に式(c2)から式(c1)の2倍を引いてみます．\n",
    "> $(2x + 6y) -2(x + 3y) = 5 - 2\\times5$<br>\n",
    "> $(2-2)x + (6-6)y = 5 - 10$<br>\n",
    "> $0 = -5$\n",
    "\n",
    "このように$0 = -5$と矛盾する式が得られました．これは連立方程式に戻って考察すると2つの式が両立しないということを意味しています．\n",
    "この<font color=blue>連立方程式の答えは解なし</font>となります．\n",
    "このことについて幾何学的に解釈してみましょう．\n",
    "$x-y$平面上で2つの直線$x + 3y = 5$と$2x + 6y = 5$は平行線であることが分かります．つまり交差する点がないので，両方の直線に乗る点は存在しないということで，解なしとなります．"
   ]
  },
  {
   "cell_type": "markdown",
   "metadata": {},
   "source": [
    "### 連立方程式の幾何学的解釈\n",
    "\n",
    "例題4の連立方程式を幾何学の観点から見て見ましょう．\n",
    "$x$と$y$の2つの変数があるので2次元の平面上に方程式を描画することができます．\n",
    "\n",
    "連立方程式の2つの直線をX-Y平面に描画します．\n",
    "作図にはPythonで標準的に使われるmatplotlibライブラリーを利用します．\n",
    "そのためには最初に<font color=green>import</font>文によってモジュールを取り込みます．\n",
    "また，Jupyter notebook上にグラフを表示するためのコマンド「%matplotlib inline」も発行する必要があります．"
   ]
  },
  {
   "cell_type": "code",
   "execution_count": 1,
   "metadata": {
    "collapsed": true
   },
   "outputs": [],
   "source": [
    "import matplotlib.pyplot as plt\n",
    "%matplotlib inline"
   ]
  },
  {
   "cell_type": "markdown",
   "metadata": {},
   "source": [
    "まず(a)の連立方程式について描画してみましょう．\n",
    "1次方程式は直線を表しています．それぞれの方程式を直線を表す式として見慣れた$y = ax + b$の形に変形します．\n",
    "\n",
    "$\\left\\{\\begin{array}{lc}\n",
    "y = -\\frac{1}{3}x + \\frac{5}{3} & ・・・(a1') \\\\ \n",
    "y = \\frac{2}{3}x - \\frac{1}{3} & ・・・(a2') \\\\ \n",
    "\\end{array} \\right.$\n",
    "\n",
    "この2つの直線をmatplotlibの折れ線グラフ機能によって表示します．"
   ]
  },
  {
   "cell_type": "code",
   "execution_count": 2,
   "metadata": {},
   "outputs": [
    {
     "data": {
      "image/png": "[encoded data removed]",
      "text/plain": [
       "<matplotlib.figure.Figure at 0x1a46ef3c2b0>"
      ]
     },
     "metadata": {},
     "output_type": "display_data"
    }
   ],
   "source": [
    "left = [0,6]\n",
    "equation1 = [5/3,-1/3]\n",
    "equation2 = [-1/3,11/3]\n",
    "plt.plot(left,equation1,color='blue',label='x+3y=5')\n",
    "plt.plot(left,equation2,color='red',label='2x-3y=1')\n",
    "plt.xlabel('X-axis')\n",
    "plt.ylabel('Y-axis')\n",
    "plt.legend()\n",
    "plt.show()"
   ]
  },
  {
   "cell_type": "markdown",
   "metadata": {},
   "source": [
    "このように2つの直線が$((x,y)=(2,1)$の点で交わっていることが分かります．連立方程式の解は2つの1次式の両方が成り立っている点と言うことで，この交点が解であることが分かります．"
   ]
  },
  {
   "cell_type": "markdown",
   "metadata": {},
   "source": [
    "次に(b)の連立方程式について描画してみましょう．\n",
    "(a)と同様に，それぞれの方程式を直線を表す式として$y = ax + b$の形に変形します．\n",
    "\n",
    "$\\left\\{\\begin{array}{lc}\n",
    "y = -\\frac{1}{3}x + \\frac{5}{3} & ・・・(b1') \\\\\n",
    "y = -\\frac{1}{3}x + \\frac{5}{3} & ・・・(b2') \\\\\n",
    "\\end{array} \\right.$\n",
    "\n",
    "このように両方の式が全く同じ式になってしまいます．\n",
    "この2つの直線をmatplotlibの折れ線グラフ機能によって表示します．\n",
    "当たり前のことですが，2つの直線は全く重なっています．ここでは2つの直線が引いてあることを明確にするために，線の種類に変化を付けています．"
   ]
  },
  {
   "cell_type": "code",
   "execution_count": 3,
   "metadata": {},
   "outputs": [
    {
     "data": {
      "image/png": "[encoded data removed]",
      "text/plain": [
       "<matplotlib.figure.Figure at 0x1a46f35cd30>"
      ]
     },
     "metadata": {},
     "output_type": "display_data"
    }
   ],
   "source": [
    "left = [0,6]\n",
    "equation1 = [5/3,-1/3]\n",
    "equation2 = [5/3,-1/3]\n",
    "plt.plot(left,equation1,color='blue',label='x+3y=5')\n",
    "plt.plot(left,equation2,color='red',linestyle='dotted',linewidth=3,label='2x+6=10')\n",
    "plt.xlabel('X-axis')\n",
    "plt.ylabel('Y-axis')\n",
    "plt.legend()\n",
    "plt.show()"
   ]
  },
  {
   "cell_type": "markdown",
   "metadata": {},
   "source": [
    "2つの直線は全く一致しているので，この直線上の全ての点が連立方程式の解となっていることが理解できます．"
   ]
  },
  {
   "cell_type": "markdown",
   "metadata": {},
   "source": [
    "最後に(c)の連立方程式について描画してみましょう．\n",
    "それぞれの方程式を直線を表す式として$y = ax + b$の形に変形します．\n",
    "\n",
    "$\\left\\{\\begin{array}{lc}\n",
    "y = -\\frac{1}{3}x + \\frac{5}{3} & ・・・(c1') \\\\\n",
    "y = -\\frac{1}{3}x + \\frac{5}{6} & ・・・(c2') \\\\\n",
    "\\end{array} \\right.$\n",
    "\n",
    "この2つの直線をmatplotlibの折れ線グラフ機能によって表示します．"
   ]
  },
  {
   "cell_type": "code",
   "execution_count": 4,
   "metadata": {},
   "outputs": [
    {
     "data": {
      "image/png": "[encoded data removed]",
      "text/plain": [
       "<matplotlib.figure.Figure at 0x1a46f2e2320>"
      ]
     },
     "metadata": {},
     "output_type": "display_data"
    }
   ],
   "source": [
    "left = [0,6]\n",
    "equation1 = [5/3,-1/3]\n",
    "equation2 = [5/6,-7/6]\n",
    "plt.plot(left,equation1,color='blue',label='x+3y=5')\n",
    "plt.plot(left,equation2,color='red',label='2x+6y=5')\n",
    "plt.xlabel('X-axis')\n",
    "plt.ylabel('Y-axis')\n",
    "plt.legend()\n",
    "plt.show()"
   ]
  },
  {
   "cell_type": "markdown",
   "metadata": {},
   "source": [
    "このように2つの直線は平行線であることが分かります．したがって両方の方程式を満たす点が存在しないので，解が無いということになります．"
   ]
  },
  {
   "cell_type": "markdown",
   "metadata": {},
   "source": [
    "2変数の連立方程式について幾何学的な観点で見てきましたが，連立方程式は平面上の2直線の位置関係を表していることが分かります．\n",
    "\n",
    "それでは3変数の場合はどうでしょうか．3変数の場合は3次元空間の中で，それぞれの方程式は平面を表します．したがって，連立方程式の解はは3つの平面が重なる点を示しています．3変数で解はあるが不確定の状況は，3つの平面の重なった部分が直線になっているか，あるいは全ての平面が重なった状況となります．3変数の連立方程式で解が無い状況は，少なくとも2つの平面が平行になって重ならない状況になります．\n",
    "\n",
    "連立方程式の解の状況と幾何的状況についてまとめると下表となります．\n",
    "\n",
    "| 連立方程式の解 | 幾何的状況（2次元の場合） |\n",
    "| :---: | :---: |\n",
    "| 解が存在して，一意的である | 2つの方程式が表す直線の交点 |\n",
    "| 解は存在するが，不確定である | 2つの方程式の直線が重なり合う |\n",
    "| 解が存在しない | 2つの方程式の直線が平行線となる |\n"
   ]
  },
  {
   "cell_type": "markdown",
   "metadata": {},
   "source": [
    "このような連立方程式の解の構造をさらに明確にするために行列の理論へと進みます．\n",
    "*****"
   ]
  }
 ],
 "metadata": {
  "kernelspec": {
   "display_name": "Python 3",
   "language": "python",
   "name": "python3"
  },
  "language_info": {
   "codemirror_mode": {
    "name": "ipython",
    "version": 3
   },
   "file_extension": ".py",
   "mimetype": "text/x-python",
   "name": "python",
   "nbconvert_exporter": "python",
   "pygments_lexer": "ipython3",
   "version": "3.6.1"
  }
 },
 "nbformat": 4,
 "nbformat_minor": 2
}
