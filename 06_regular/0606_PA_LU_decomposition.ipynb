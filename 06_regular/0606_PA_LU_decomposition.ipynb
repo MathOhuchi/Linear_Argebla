{
 "cells": [
  {
   "cell_type": "markdown",
   "metadata": {},
   "source": [
    "# 行の入替えが発生するLU分解\n",
    "\n",
    "行の入替えが発生する連立方程式を見てきましたが，これを行列に置き換えてみましょう．\n",
    "まず，元となる連立方程式です．\n",
    "\n",
    "$\\left\\{\\begin{array}{rl}\n",
    " x - 2y + 3z - 4w = -2 & \\cdots (1) \\\\ \n",
    "2x - 4y +  z - 3w =  1 & \\cdots (2) \\\\ \n",
    " x -  y - 2z + 3w =  9 & \\cdots (3) \\\\ \n",
    "-x - 2y - 3z +  w = -2 & \\cdots (4) \\\\ \n",
    "\\end{array} \\right.$\n"
   ]
  },
  {
   "cell_type": "markdown",
   "metadata": {},
   "source": [
    "この方程式を行列方程式${\\bf A}{\\bf x}={\\bf b}$にすると次のようになります．\n",
    "\n",
    "$ \\left(\\begin{array}{cccc}\n",
    " 1 & -2 &  3 & -4 \\\\\n",
    " 2 & -4 &  1 & -3 \\\\\n",
    " 1 & -1 & -2 &  3 \\\\\n",
    "-1 & -2 & -3 &  1 \\\\\n",
    "\\end{array}\\right) \n",
    "\\left(\\begin{array}{c} x \\\\ y \\\\ z \\\\ w \\end{array}\\right) =\n",
    "\\left(\\begin{array}{c} -2 \\\\ 1 \\\\ 9 \\\\ -2 \\end{array}\\right)\n",
    "$"
   ]
  },
  {
   "cell_type": "markdown",
   "metadata": {},
   "source": [
    "この行列方程式に対応する拡大係数行列$\\tilde{\\bf A}$を定義します．\n",
    "\n",
    "$ \\tilde{\\bf A} =\n",
    "\\left(\\begin{array}{cccc:c}\n",
    " 1 & -2 &  3 & -4 & -2 \\\\\n",
    " 2 & -4 &  1 & -3 &  1 \\\\\n",
    " 1 & -1 & -2 &  3 &  9 \\\\\n",
    "-1 & -2 & -3 &  1 & -2 \\\\\n",
    "\\end{array}\\right) $"
   ]
  },
  {
   "cell_type": "markdown",
   "metadata": {},
   "source": [
    "## Gauss消去法の適用\n",
    "\n",
    "それでは，この拡大係数行列に対して，前進消去を実施することによりLU分解を求めてみましょう．"
   ]
  },
  {
   "cell_type": "markdown",
   "metadata": {},
   "source": [
    "1列目について，1行1列目のみを残し，他の列をゼロにします．\n",
    "\n",
    "2行1列目の値をゼロにするために${\\bf R}_4(2,1;-2)$と${\\bf R}_4(3,1;-1)$と${\\bf R}_4(4,1;1)$を左から掛けます．\n",
    "この3つの行列の積を${\\bf R}_{\\alpha}$とすると，\n",
    "\n",
    "${\\bf R}_{\\alpha}= {\\bf R}_4(2,1;-2){\\bf R}_4(3,1;-1){\\bf R}_4(4,1;1)\n",
    "=\n",
    "\\left(\\begin{array}{cccc}\n",
    " 1 & 0 &  0 & 0 \\\\\n",
    "-2 & 1 &  0 & 0 \\\\\n",
    " 0 & 0 &  1 & 0 \\\\\n",
    " 0 & 0 &  0 & 1 \\\\\n",
    "\\end{array}\\right) \n",
    "\\left(\\begin{array}{cccc}\n",
    " 1 & 0 &  0 & 0 \\\\\n",
    " 0 & 1 &  0 & 0 \\\\\n",
    "-1 & 0 &  1 & 0 \\\\\n",
    " 0 & 0 &  0 & 1 \\\\\n",
    "\\end{array}\\right) \n",
    "\\left(\\begin{array}{cccc}\n",
    " 1 & 0 &  0 & 0 \\\\\n",
    " 0 & 1 &  0 & 0 \\\\\n",
    " 0 & 0 &  1 & 0 \\\\\n",
    " 1 & 0 &  0 & 1 \\\\\n",
    "\\end{array}\\right) \n",
    "=\n",
    "\\left(\\begin{array}{cccc}\n",
    " 1 & 0 &  0 & 0 \\\\\n",
    "-2 & 1 &  0 & 0 \\\\\n",
    "-1 & 0 &  1 & 0 \\\\\n",
    " 1 & 0 &  0 & 1 \\\\\n",
    "\\end{array}\\right) \n",
    "$\n",
    "\n",
    "となるので，"
   ]
  },
  {
   "cell_type": "markdown",
   "metadata": {},
   "source": [
    "\n",
    "$ {\\bf R}_{\\alpha}\\tilde{\\bf A}\n",
    "=\n",
    "\\left(\\begin{array}{cccc}\n",
    " 1 & 0 &  0 & 0 \\\\\n",
    "-2 & 1 &  0 & 0 \\\\\n",
    "-1 & 0 &  1 & 0 \\\\\n",
    " 1 & 0 &  0 & 1 \\\\\n",
    "\\end{array}\\right) \n",
    "\\left(\\begin{array}{cccc:c}\n",
    " 1 & -2 &  3 & -4 & -2 \\\\\n",
    " 2 & -4 &  1 & -3 &  1 \\\\\n",
    " 1 & -1 & -2 &  3 &  9 \\\\\n",
    "-1 & -2 & -3 &  1 & -2 \\\\\n",
    "\\end{array}\\right)\n",
    "=\n",
    "\\left(\\begin{array}{cccc:c}\n",
    " 1 & -2 &  3 & -4 & -2 \\\\\n",
    " 0 &  0 & -5 &  5 &  5 \\\\\n",
    " 0 &  1 & -5 &  7 & 11 \\\\\n",
    " 0 & -4 &  0 & -3 & -4 \\\\\n",
    "\\end{array}\\right)\n",
    "$\n",
    "\n",
    "となります．"
   ]
  },
  {
   "cell_type": "markdown",
   "metadata": {},
   "source": [
    "次に2列目の掃き出しを行いたいのですが，2行2列目がゼロなので実施できません．\n",
    "そこで，2行目と3行目の入替えを行います．\n",
    "この入替えは行列${\\bf P}_4(2,3)$を左から掛けます．\n",
    "\n",
    "$ {\\bf P}_4(2,3){\\bf R}_{\\alpha}\\tilde{\\bf A}\n",
    "=\n",
    "\\left(\\begin{array}{cccc}\n",
    " 1 & 0 &  0 & 0 \\\\\n",
    " 0 & 0 &  1 & 0 \\\\\n",
    " 0 & 1 &  0 & 0 \\\\\n",
    " 0 & 0 &  0 & 1 \\\\\n",
    "\\end{array}\\right) \n",
    "\\left(\\begin{array}{cccc:c}\n",
    " 1 & -2 &  3 & -4 & -2 \\\\\n",
    " 0 &  0 & -5 &  5 &  5 \\\\\n",
    " 0 &  1 & -5 &  7 & 11 \\\\\n",
    " 0 & -4 &  0 & -3 & -4 \\\\\n",
    "\\end{array}\\right)\n",
    "=\n",
    "\\left(\\begin{array}{cccc:c}\n",
    " 1 & -2 &  3 & -4 & -2 \\\\\n",
    " 0 &  1 & -5 &  7 & 11 \\\\\n",
    " 0 &  0 & -5 &  5 &  5 \\\\\n",
    " 0 & -4 &  0 & -3 & -4 \\\\\n",
    "\\end{array}\\right)\n",
    "$\n",
    "\n",
    "これで，2列目の掃き出しを行える状況になりました．"
   ]
  },
  {
   "cell_type": "markdown",
   "metadata": {},
   "source": [
    "4行2列目の値をゼロにするために行列${\\bf R}_4(4,2;4)$を左から掛けます．\n",
    "さらに，4行3列目の値をゼロにするために行列${\\bf R}_4(4,3;-4)$を左から掛けます．\n",
    "この2つの行列の積を${\\bf R}_{\\beta}$とすると，\n",
    "\n",
    "${\\bf R}_{\\beta}={\\bf R}_4(4,2;4){\\bf R}_4(4,3;-4)\n",
    "=\n",
    "\\left(\\begin{array}{cccc}\n",
    " 1 & 0 &  0 & 0 \\\\\n",
    " 0 & 1 &  0 & 0 \\\\\n",
    " 0 & 0 &  1 & 0 \\\\\n",
    " 0 & 4 &  0 & 1 \\\\\n",
    "\\end{array}\\right) \n",
    "\\left(\\begin{array}{cccc}\n",
    " 1 & 0 &  0 & 0 \\\\\n",
    " 0 & 1 &  0 & 0 \\\\\n",
    " 0 & 0 &  1 & 0 \\\\\n",
    " 0 & 0 & -4 & 1 \\\\\n",
    "\\end{array}\\right) \n",
    "=\n",
    "\\left(\\begin{array}{cccc}\n",
    " 1 & 0 &  0 & 0 \\\\\n",
    " 0 & 1 &  0 & 0 \\\\\n",
    " 0 & 0 &  1 & 0 \\\\\n",
    " 0 & 4 & -4 & 1 \\\\\n",
    "\\end{array}\\right) \n",
    "$\n",
    "\n",
    "となるので，"
   ]
  },
  {
   "cell_type": "markdown",
   "metadata": {},
   "source": [
    "$ {\\bf R}_{\\beta}{\\bf P}_4(2,3){\\bf R}_{\\alpha}\\tilde{\\bf A}\n",
    "=\n",
    "\\left(\\begin{array}{cccc}\n",
    " 1 & 0 &  0 & 0 \\\\\n",
    " 0 & 1 &  0 & 0 \\\\\n",
    " 0 & 0 &  1 & 0 \\\\\n",
    " 0 & 4 & -4 & 1 \\\\\n",
    "\\end{array}\\right) \n",
    "\\left(\\begin{array}{cccc:c}\n",
    " 1 & -2 &  3 & -4 & -2 \\\\\n",
    " 0 &  1 & -5 &  7 & 11 \\\\\n",
    " 0 &  0 & -5 &  5 &  5 \\\\\n",
    " 0 & -4 &  0 & -3 & -4 \\\\\n",
    "\\end{array}\\right)\n",
    "=\n",
    "\\left(\\begin{array}{cccc:c}\n",
    " 1 & -2 &  3 & -4 & -2 \\\\\n",
    " 0 &  1 & -5 &  7 & 11 \\\\\n",
    " 0 &  0 & -5 &  5 &  5 \\\\\n",
    " 0 &  0 &  0 &  5 & 20 \\\\\n",
    "\\end{array}\\right)\n",
    "$\n",
    "\n",
    "以上で，上三角行列が求まりました．"
   ]
  },
  {
   "cell_type": "markdown",
   "metadata": {},
   "source": [
    "### LU分解できない\n",
    "\n",
    "係数行列$\\bf A$に戻って，そのLU分解を考えてみます．\n",
    "実は，この行列はLU分解ができません．\n",
    "\n",
    "まず，上三角行列を求めた式により，\n",
    "\n",
    "${\\bf R}_{\\beta}{\\bf P}_4(2,3){\\bf R}_{\\alpha}{\\bf A} \n",
    "=\n",
    "\\left(\\begin{array}{cccc}\n",
    " 1 & -2 &  3 & -4 \\\\\n",
    " 0 &  1 & -5 &  7 \\\\\n",
    " 0 &  0 & -5 &  5 \\\\\n",
    " 0 &  0 &  0 &  5 \\\\\n",
    "\\end{array}\\right)\n",
    "= {\\bf U}$"
   ]
  },
  {
   "cell_type": "markdown",
   "metadata": {},
   "source": [
    "よって，\n",
    "\n",
    "${\\bf A} = {\\bf R}_{\\alpha}^{-1}{\\bf P}_4(2,3)^{-1}{\\bf R}_{\\beta}^{-1}{\\bf U} $\n",
    "\n",
    "となります．\n",
    "実際に${\\bf R}_{\\alpha}^{-1}{\\bf P}_4(2,3)^{-1}{\\bf R}_{\\beta}^{-1}$を計算しますが，この結果が下三角行列になればLU分解ができたことになります．\n",
    "\n",
    "${\\bf R}_{\\alpha}^{-1}{\\bf P}_4(2,3)^{-1}{\\bf R}_{\\beta}^{-1}\n",
    "=\n",
    "\\left(\\begin{array}{cccc}\n",
    " 1 & 0 &  0 & 0 \\\\\n",
    " 2 & 1 &  0 & 0 \\\\\n",
    " 1 & 0 &  1 & 0 \\\\\n",
    "-1 & 0 &  0 & 1 \\\\\n",
    "\\end{array}\\right) \n",
    "\\left(\\begin{array}{cccc}\n",
    " 1 & 0 &  0 & 0 \\\\\n",
    " 0 & 0 &  1 & 0 \\\\\n",
    " 0 & 1 &  0 & 0 \\\\\n",
    " 0 & 0 &  0 & 1 \\\\\n",
    "\\end{array}\\right) \n",
    "\\left(\\begin{array}{cccc}\n",
    " 1 & 0 &  0 & 0 \\\\\n",
    " 0 & 1 &  0 & 0 \\\\\n",
    " 0 & 0 &  1 & 0 \\\\\n",
    " 0 & -4 & 4 & 1 \\\\\n",
    "\\end{array}\\right)\n",
    "=\n",
    "\\left(\\begin{array}{cccc}\n",
    " 1 &  0 & 0 & 0 \\\\\n",
    " 2 &  0 & 1 & 0 \\\\\n",
    " 1 &  1 & 0 & 0 \\\\\n",
    "-1 & -4 & 4 & 1 \\\\\n",
    "\\end{array}\\right) \n",
    "$\n",
    "\n",
    "このように結果は下三角行列になっていません．\n",
    "原因は，積の間にある${\\bf P}_4(3,2)$が下三角行列ではないからです．"
   ]
  },
  {
   "cell_type": "markdown",
   "metadata": {},
   "source": [
    "### LU分解のための改善\n",
    "\n",
    "それではどうすればLU分解できるかというと行列$\\bf A$に最初に行の入替えを行っておけば，LU分解が可能となります．"
   ]
  },
  {
   "cell_type": "markdown",
   "metadata": {},
   "source": [
    "*****\n",
    "## PA行列のLU分解\n",
    "\n"
   ]
  },
  {
   "cell_type": "markdown",
   "metadata": {},
   "source": [
    "行の入替えが必要な行列についてのLU分解を行うには，最初に行の入替えを行うことです．\n",
    "行列$\\bf A$に対して必要な行の入替えを全て実施する行列を$\\bf P$とすると，$\\bf PA$はLU分解が可能となります．\n",
    "\n",
    "> ${\\bf PA}={\\bf LU}$\n",
    "\n",
    "この行列$\\bf A$では，2行目と3行目の入れ替えしかないので${\\bf P}={\\bf P}_4(2,3)$となりますが，一般的には複数の行入替え行列の積となります．"
   ]
  },
  {
   "cell_type": "markdown",
   "metadata": {},
   "source": [
    "拡大係数行列$\\tilde{\\bf A}$に戻って，${\\bf P}\\tilde{\\bf A}$は次のものです．\n",
    "\n",
    "$ {\\bf P}_4(2,3)\\tilde{\\bf A} =\n",
    "\\left(\\begin{array}{cccc:c}\n",
    " 1 & -2 &  3 & -4 & -2 \\\\\n",
    " 1 & -1 & -2 &  3 &  9 \\\\\n",
    " 2 & -4 &  1 & -3 &  1 \\\\\n",
    "-1 & -2 & -3 &  1 & -2 \\\\\n",
    "\\end{array}\\right) $\n",
    "\n",
    "この行列に対してGaussの消去法の前進消去プロセスを適用すればLU分解が求まります．"
   ]
  },
  {
   "cell_type": "markdown",
   "metadata": {},
   "source": [
    "1列目の2行目以降の要素をゼロにするには，${\\bf R}_a={\\bf R}_4(2,1;-1){\\bf R}_4(3,1;-2){\\bf R}_4(4,1;1)$を掛けます．\n",
    "\n",
    "${\\bf R}_a\\tilde{\\bf A} \n",
    "=\n",
    "\\left(\\begin{array}{cccc}\n",
    " 1 & 0 &  0 & 0 \\\\\n",
    "-1 & 1 &  0 & 0 \\\\\n",
    "-2 & 0 &  1 & 0 \\\\\n",
    " 1 & 0 &  0 & 1 \\\\\n",
    "\\end{array}\\right) \n",
    "\\left(\\begin{array}{cccc:c}\n",
    " 1 & -2 &  3 & -4 & -2 \\\\\n",
    " 1 & -1 & -2 &  3 &  9 \\\\\n",
    " 2 & -4 &  1 & -3 &  1 \\\\\n",
    "-1 & -2 & -3 &  1 & -2 \\\\\n",
    "\\end{array}\\right) \n",
    "=\n",
    "\\left(\\begin{array}{cccc:c}\n",
    " 1 & -2 &  3 & -4 & -2 \\\\\n",
    " 0 &  1 & -5 &  7 & 11 \\\\\n",
    " 0 &  0 & -5 &  5 &  5 \\\\\n",
    " 0 & -4 &  0 & -3 & -4 \\\\\n",
    "\\end{array}\\right)\n",
    "$"
   ]
  },
  {
   "cell_type": "markdown",
   "metadata": {},
   "source": [
    "2列目の4行目の値をゼロにするために，${\\bf R}_b={\\bf R}_4(4,2;4)$を掛けます．\n",
    "\n",
    "$ {\\bf R}_b{\\bf R}_a\\tilde{\\bf A}\n",
    "=\n",
    "\\left(\\begin{array}{cccc}\n",
    " 1 & 0 &  0 & 0 \\\\\n",
    " 0 & 1 &  0 & 0 \\\\\n",
    " 0 & 0 &  1 & 0 \\\\\n",
    " 0 & 4 &  0 & 1 \\\\\n",
    "\\end{array}\\right) \n",
    "\\left(\\begin{array}{cccc:c}\n",
    " 1 & -2 &  3 & -4 & -2 \\\\\n",
    " 0 &  1 & -5 &  7 & 11 \\\\\n",
    " 0 &  0 & -5 &  5 &  5 \\\\\n",
    " 0 & -4 &  0 & -3 & -4 \\\\\n",
    "\\end{array}\\right)\n",
    "=\n",
    "\\left(\\begin{array}{cccc:c}\n",
    " 1 & -2 &  3 & -4 & -2 \\\\\n",
    " 0 &  1 & -5 &  7 & 11 \\\\\n",
    " 0 &  0 & -5 &  5 &  5 \\\\\n",
    " 0 &  0 &-20 & 25 & 40 \\\\\n",
    "\\end{array}\\right)\n",
    "$"
   ]
  },
  {
   "cell_type": "markdown",
   "metadata": {},
   "source": [
    "3列目の4行目の値をゼロにするために，${\\bf R}_c={\\bf R}_4(4,3;-4)$を掛けます．\n",
    "\n",
    "$ {\\bf R}_c{\\bf R}_b{\\bf R}_a\\tilde{\\bf A}\n",
    "=\n",
    "\\left(\\begin{array}{cccc}\n",
    " 1 & 0 &  0 & 0 \\\\\n",
    " 0 & 1 &  0 & 0 \\\\\n",
    " 0 & 0 &  1 & 0 \\\\\n",
    " 0 & 0 & -4 & 1 \\\\\n",
    "\\end{array}\\right) \n",
    "\\left(\\begin{array}{cccc:c}\n",
    " 1 & -2 &  3 & -4 & -2 \\\\\n",
    " 0 &  1 & -5 &  7 & 11 \\\\\n",
    " 0 &  0 & -5 &  5 &  5 \\\\\n",
    " 0 &  0 &-20 & 25 & 40 \\\\\n",
    "\\end{array}\\right)\n",
    "=\n",
    "\\left(\\begin{array}{cccc:c}\n",
    " 1 & -2 &  3 & -4 & -2 \\\\\n",
    " 0 &  1 & -5 &  7 & 11 \\\\\n",
    " 0 &  0 & -5 &  5 &  5 \\\\\n",
    " 0 &  0 &  0 &  5 & 20 \\\\\n",
    "\\end{array}\\right)\n",
    "$"
   ]
  },
  {
   "cell_type": "markdown",
   "metadata": {},
   "source": [
    "係数行列$\\bf A$の逆行列を求めるには，${\\bf R}_c{\\bf R}_b{\\bf R}_a{\\bf A}={\\bf U}$であるから，\n",
    "${{\\bf A}=\\bf R}_a^{-1}{\\bf R}_b^{-1}{\\bf R}_c^{-1}{\\bf U}$\n",
    "となるので，それぞれの逆行列を求めます．"
   ]
  },
  {
   "cell_type": "markdown",
   "metadata": {},
   "source": [
    "${\\bf R}_a =\n",
    "\\left(\\begin{array}{cccc}\n",
    " 1 & 0 &  0 & 0 \\\\\n",
    "-1 & 1 &  0 & 0 \\\\\n",
    "-2 & 0 &  1 & 0 \\\\\n",
    " 1 & 0 &  0 & 1 \\\\\n",
    "\\end{array}\\right) $\n",
    "$\\,\\Longrightarrow\\,$\n",
    "${\\bf R}_a^{-1} =\n",
    "\\left(\\begin{array}{cccc}\n",
    " 1 & 0 &  0 & 0 \\\\\n",
    " 1 & 1 &  0 & 0 \\\\\n",
    " 2 & 0 &  1 & 0 \\\\\n",
    "-1 & 0 &  0 & 1 \\\\\n",
    "\\end{array}\\right) $"
   ]
  },
  {
   "cell_type": "markdown",
   "metadata": {},
   "source": [
    "$ {\\bf R}_b =\n",
    "\\left(\\begin{array}{cccc}\n",
    " 1 & 0 &  0 & 0 \\\\\n",
    " 0 & 1 &  0 & 0 \\\\\n",
    " 0 & 0 &  1 & 0 \\\\\n",
    " 0 & 4 &  0 & 1 \\\\\n",
    "\\end{array}\\right) $\n",
    "$\\,\\Longrightarrow\\,$\n",
    "$ {\\bf R}_b^{-1} =\n",
    "\\left(\\begin{array}{cccc}\n",
    " 1 & 0 &  0 & 0 \\\\\n",
    " 0 & 1 &  0 & 0 \\\\\n",
    " 0 & 0 &  1 & 0 \\\\\n",
    " 0 & -4 &  0 & 1 \\\\\n",
    "\\end{array}\\right) $"
   ]
  },
  {
   "cell_type": "markdown",
   "metadata": {},
   "source": [
    "$ {\\bf R}_c =\n",
    "\\left(\\begin{array}{cccc}\n",
    " 1 & 0 &  0 & 0 \\\\\n",
    " 0 & 1 &  0 & 0 \\\\\n",
    " 0 & 0 &  1 & 0 \\\\\n",
    " 0 & 0 & -4 & 1 \\\\\n",
    "\\end{array}\\right) $\n",
    "$\\,\\Longrightarrow\\,$\n",
    "$ {\\bf R}_c^{-1} =\n",
    "\\left(\\begin{array}{cccc}\n",
    " 1 & 0 &  0 & 0 \\\\\n",
    " 0 & 1 &  0 & 0 \\\\\n",
    " 0 & 0 &  1 & 0 \\\\\n",
    " 0 & 0 &  4 & 1 \\\\\n",
    "\\end{array}\\right) $"
   ]
  },
  {
   "cell_type": "markdown",
   "metadata": {},
   "source": [
    "これにより下三角行列$\\bf L$は，\n",
    "\n",
    "${{\\bf L}=\\bf R}_a^{-1}{\\bf R}_b^{-1}{\\bf R}_c^{-1}\n",
    "=\n",
    "\\left(\\begin{array}{cccc}\n",
    " 1 & 0 &  0 & 0 \\\\\n",
    " 1 & 1 &  0 & 0 \\\\\n",
    " 2 & 0 &  1 & 0 \\\\\n",
    "-1 & 0 &  0 & 1 \\\\\n",
    "\\end{array}\\right)\n",
    "\\left(\\begin{array}{cccc}\n",
    " 1 & 0 &  0 & 0 \\\\\n",
    " 0 & 1 &  0 & 0 \\\\\n",
    " 0 & 0 &  1 & 0 \\\\\n",
    " 0 & -4 & 0 & 1 \\\\\n",
    "\\end{array}\\right)\n",
    "\\left(\\begin{array}{cccc}\n",
    " 1 & 0 &  0 & 0 \\\\\n",
    " 0 & 1 &  0 & 0 \\\\\n",
    " 0 & 0 &  1 & 0 \\\\\n",
    " 0 & 0 &  4 & 1 \\\\\n",
    "\\end{array}\\right)\n",
    "=\n",
    "\\left(\\begin{array}{cccc}\n",
    " 1 & 0 &  0 & 0 \\\\\n",
    " 1 & 1 &  0 & 0 \\\\\n",
    " 2 & 0 &  1 & 0 \\\\\n",
    "-1 & -4 & 4 & 1 \\\\\n",
    "\\end{array}\\right)\n",
    "$"
   ]
  },
  {
   "cell_type": "markdown",
   "metadata": {},
   "source": [
    "したがって，<font color=blue>${\\bf PA}={\\bf LU}$</font>が成立します．\n",
    "\n",
    "> \n",
    "$ {\\bf P}{\\bf A}\n",
    "=\n",
    "\\left(\\begin{array}{cccc}\n",
    " 1 & 0 &  0 & 0 \\\\\n",
    " 0 & 0 &  1 & 0 \\\\\n",
    " 0 & 1 &  0 & 0 \\\\\n",
    " 0 & 0 &  0 & 1 \\\\\n",
    "\\end{array}\\right) \n",
    "\\left(\\begin{array}{cccc}\n",
    " 1 & -2 &  3 & -4 \\\\\n",
    " 2 & -4 &  1 & -3 \\\\\n",
    " 1 & -1 & -2 &  3 \\\\\n",
    "-1 & -2 & -3 &  1 \\\\\n",
    "\\end{array}\\right)\n",
    "=\n",
    "\\left(\\begin{array}{cccc}\n",
    " 1 & 0 &  0 & 0 \\\\\n",
    " 1 & 1 &  0 & 0 \\\\\n",
    " 2 & 0 &  1 & 0 \\\\\n",
    "-1 & -4 & 4 & 1 \\\\\n",
    "\\end{array}\\right)\n",
    "\\left(\\begin{array}{cccc}\n",
    " 1 & -2 &  3 & -4 \\\\\n",
    " 0 &  1 & -5 &  7 \\\\\n",
    " 0 &  0 & -5 &  5 \\\\\n",
    " 0 &  0 &  0 &  5 \\\\\n",
    "\\end{array}\\right)\n",
    "= {\\bf L}{\\bf U}$\n",
    "\n"
   ]
  },
  {
   "cell_type": "markdown",
   "metadata": {},
   "source": [
    "*****\n",
    "## Pythonによる検証\n",
    "\n",
    "実際に，この式が成立することをPythonで確認してみましょう．\n",
    "\n",
    "まず，ライブラリーNumPyをインポートします．\n",
    "${\\bf PA}={\\bf LU}$の夫々の行列をnumpyの配列として定義して次の計算結果を比較します．\n",
    "\n",
    "> \n",
    "P.dot(A) <br>\n",
    "L.dot(U)"
   ]
  },
  {
   "cell_type": "code",
   "execution_count": 1,
   "metadata": {
    "collapsed": true
   },
   "outputs": [],
   "source": [
    "import numpy as np"
   ]
  },
  {
   "cell_type": "code",
   "execution_count": 2,
   "metadata": {},
   "outputs": [
    {
     "data": {
      "text/plain": [
       "array([[1, 0, 0, 0],\n",
       "       [0, 0, 1, 0],\n",
       "       [0, 1, 0, 0],\n",
       "       [0, 0, 0, 1]])"
      ]
     },
     "execution_count": 2,
     "metadata": {},
     "output_type": "execute_result"
    }
   ],
   "source": [
    "P = np.array([[1,0,0,0],[0,0,1,0],[0,1,0,0],[0,0,0,1]])\n",
    "P"
   ]
  },
  {
   "cell_type": "code",
   "execution_count": 3,
   "metadata": {},
   "outputs": [
    {
     "data": {
      "text/plain": [
       "array([[ 1, -2,  3, -4],\n",
       "       [ 2, -4,  1, -3],\n",
       "       [ 1, -1, -2,  3],\n",
       "       [-1, -2, -3,  1]])"
      ]
     },
     "execution_count": 3,
     "metadata": {},
     "output_type": "execute_result"
    }
   ],
   "source": [
    "A = np.array([[1,-2,3,-4],[2,-4,1,-3],[1,-1,-2,3],[-1,-2,-3,1]])\n",
    "A"
   ]
  },
  {
   "cell_type": "code",
   "execution_count": 4,
   "metadata": {},
   "outputs": [
    {
     "data": {
      "text/plain": [
       "array([[ 1,  0,  0,  0],\n",
       "       [ 1,  1,  0,  0],\n",
       "       [ 2,  0,  1,  0],\n",
       "       [-1, -4,  4,  1]])"
      ]
     },
     "execution_count": 4,
     "metadata": {},
     "output_type": "execute_result"
    }
   ],
   "source": [
    "L = np.array([[1,0,0,0],[1,1,0,0],[2,0,1,0],[-1,-4,4,1]])\n",
    "L"
   ]
  },
  {
   "cell_type": "code",
   "execution_count": 5,
   "metadata": {},
   "outputs": [
    {
     "data": {
      "text/plain": [
       "array([[ 1, -2,  3, -4],\n",
       "       [ 0,  1, -5,  7],\n",
       "       [ 0,  0, -5,  5],\n",
       "       [ 0,  0,  0,  5]])"
      ]
     },
     "execution_count": 5,
     "metadata": {},
     "output_type": "execute_result"
    }
   ],
   "source": [
    "U = np.array([[1,-2,3,-4],[0,1,-5,7],[0,0,-5,5],[0,0,0,5]])\n",
    "U"
   ]
  },
  {
   "cell_type": "code",
   "execution_count": 6,
   "metadata": {},
   "outputs": [
    {
     "data": {
      "text/plain": [
       "array([[ 1, -2,  3, -4],\n",
       "       [ 1, -1, -2,  3],\n",
       "       [ 2, -4,  1, -3],\n",
       "       [-1, -2, -3,  1]])"
      ]
     },
     "execution_count": 6,
     "metadata": {},
     "output_type": "execute_result"
    }
   ],
   "source": [
    "P.dot(A)"
   ]
  },
  {
   "cell_type": "code",
   "execution_count": 7,
   "metadata": {},
   "outputs": [
    {
     "data": {
      "text/plain": [
       "array([[ 1, -2,  3, -4],\n",
       "       [ 1, -1, -2,  3],\n",
       "       [ 2, -4,  1, -3],\n",
       "       [-1, -2, -3,  1]])"
      ]
     },
     "execution_count": 7,
     "metadata": {},
     "output_type": "execute_result"
    }
   ],
   "source": [
    "L.dot(U)"
   ]
  },
  {
   "cell_type": "code",
   "execution_count": 8,
   "metadata": {},
   "outputs": [
    {
     "data": {
      "text/plain": [
       "array([[ True,  True,  True,  True],\n",
       "       [ True,  True,  True,  True],\n",
       "       [ True,  True,  True,  True],\n",
       "       [ True,  True,  True,  True]], dtype=bool)"
      ]
     },
     "execution_count": 8,
     "metadata": {},
     "output_type": "execute_result"
    }
   ],
   "source": [
    "P.dot(A) == L.dot(U)"
   ]
  },
  {
   "cell_type": "markdown",
   "metadata": {},
   "source": [
    "ちなみに2つの行列が完全一致するかを判定するにはnumpy.allclose()関数を用います．\n",
    "\n",
    "> np.<font color=green>allclose</font>(x,y)\n",
    "\n",
    "ただし，計算が小数点数となる場合，計算誤差により一致しない場合があることに注意してください．"
   ]
  },
  {
   "cell_type": "code",
   "execution_count": 9,
   "metadata": {},
   "outputs": [
    {
     "data": {
      "text/plain": [
       "True"
      ]
     },
     "execution_count": 9,
     "metadata": {},
     "output_type": "execute_result"
    }
   ],
   "source": [
    "np.allclose(P.dot(A),L.dot(U))"
   ]
  },
  {
   "cell_type": "markdown",
   "metadata": {},
   "source": [
    "以上で，行を入替えた正則行列のLU分解が確認できました．\n",
    "*****"
   ]
  }
 ],
 "metadata": {
  "kernelspec": {
   "display_name": "Python 3",
   "language": "python",
   "name": "python3"
  },
  "language_info": {
   "codemirror_mode": {
    "name": "ipython",
    "version": 3
   },
   "file_extension": ".py",
   "mimetype": "text/x-python",
   "name": "python",
   "nbconvert_exporter": "python",
   "pygments_lexer": "ipython3",
   "version": "3.6.1"
  }
 },
 "nbformat": 4,
 "nbformat_minor": 2
}
