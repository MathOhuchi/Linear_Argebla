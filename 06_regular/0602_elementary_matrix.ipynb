{
 "cells": [
  {
   "cell_type": "markdown",
   "metadata": {},
   "source": [
    "# 行列の基本変形\n",
    "\n",
    "Gaussの消去法を行列で行う前提として，連立方程式の前進消去のアルゴリズムで使用した基本変形を行列で表現します．\n"
   ]
  },
  {
   "cell_type": "markdown",
   "metadata": {},
   "source": [
    "### 連立方程式の基本変形\n",
    "\n",
    "Gaussの消去法の前進消去アルゴリズムで用いられる<font color=blue>基本変形</font>は下記の操作です．\n",
    "\n",
    "- 基本変形1：<font color=green>2つの式の入替える</font>\n",
    "- 基本変形2：<font color=green>1つの式にある定数を掛ける</font>\n",
    "- 基本変形3：<font color=green>1つの式に別の式のある定数倍した式を足す</font>\n"
   ]
  },
  {
   "cell_type": "markdown",
   "metadata": {},
   "source": [
    "### 行列の基本変形\n",
    "\n",
    "連立方程式の基本変形を行列の言葉に替えると次のようになります．\n",
    "\n",
    "- 基本変形1：<font color=green>行列の2つの行を入替える</font>\n",
    "- 基本変形2：<font color=green>1つの行にある定数を掛ける</font>\n",
    "- 基本変形3：<font color=green>1つの行に別の行のある定数倍した値を足す</font>\n",
    "\n",
    "この基本変形を実現する行列を基本行列と言います．\n",
    "この後，基本行列について見ていきます．"
   ]
  },
  {
   "cell_type": "markdown",
   "metadata": {},
   "source": [
    "*****\n",
    "## 基本行列\n",
    "行列に対して，次の6種類の変形を基本変形と言います．\n",
    "\n",
    "1. 2つの行を入替える．\n",
    "- ある行に0でない数を掛ける．\n",
    "- ある行に他のある行の定数倍を加える．\n",
    "- 2つの列を入替える．\n",
    "- ある列に0でない数を掛ける．\n",
    "- ある列に他のある列の定数倍を加える．\n",
    "\n",
    "これらの基本変形は，以下に定義する3つの基本行列を左あるいは右から掛けることによって実現します．\n",
    "行の変形については基本行列を左から掛けます．列の変形については基本行列を右から掛けます．"
   ]
  },
  {
   "cell_type": "markdown",
   "metadata": {},
   "source": [
    "#### （入替え）\n",
    "\n",
    "${\\bf P}_n(i,j)=\\left(\\begin{array}{ccccccc}\n",
    "1 &        &   &        &   &        &   \\\\\n",
    "  & \\ddots &   &        &   &        &   \\\\\n",
    "  &        & 0 &        & 1 &        &   \\\\\n",
    "  &        &   & \\ddots &   &        &   \\\\\n",
    "  &        & 1 &        & 0 &        &   \\\\\n",
    "  &        &   &        &   & \\ddots &   \\\\\n",
    "  &        &   &        &   &        & 1 \\\\\n",
    "\\end{array} \\right), (1 \\leq i \\neq j \\leq n)$\n"
   ]
  },
  {
   "cell_type": "markdown",
   "metadata": {},
   "source": [
    "#### （定数倍）\n",
    "\n",
    "${\\bf Q}_n(i;c)=\\left(\\begin{array}{cccc}\n",
    "1 &        &   &   &   &        &   \\\\\n",
    "  & \\ddots &   &   &   &        &   \\\\\n",
    "  &        & 1 &   &   &        &   \\\\\n",
    "  &        &   & c &   &        &   \\\\\n",
    "  &        &   &   & 1 &        &   \\\\\n",
    "  &        &   &   &   & \\ddots &   \\\\\n",
    "  &        &   &   &   &        & 1 \\\\\n",
    "\\end{array} \\right), (1 \\leq i \\leq n, c \\neq 0)$\n"
   ]
  },
  {
   "cell_type": "markdown",
   "metadata": {},
   "source": [
    "#### （加算）\n",
    "\n",
    "${\\bf R}_n(i,j;c)=\\left(\\begin{array}{cccc}\n",
    "1 &        &   &        &   &        &   \\\\\n",
    "  & \\ddots &   &        &   &        &   \\\\\n",
    "  &        & 1 &        & c &        &   \\\\\n",
    "  &        &   & \\ddots &   &        &   \\\\\n",
    "  &        &   &        & 1 &        &   \\\\\n",
    "  &        &   &        &   & \\ddots &   \\\\\n",
    "  &        &   &        &   &        & 1 \\\\\n",
    "\\end{array} \\right), (1 \\leq i \\neq j \\leq n, c \\neq 0)$\n",
    "\n",
    "連立1次方程式の解き方のひとつに掃き出し法（ガウスの消去法）があるが，それは基本変換を用いて行列を対角化していくアルゴリズムです．"
   ]
  },
  {
   "cell_type": "markdown",
   "metadata": {},
   "source": [
    "*****\n",
    "## 基本行列の作用についての例\n",
    "\n",
    "任意の行列に基本行列を掛けた結果が想定通りになることを例によって確認します．\n",
    "分かりやすさを優先して3行3列の行列で確認します．\n",
    "作用させる対象の行列は次の行列とします．\n",
    "\n",
    "$ {\\bf M} =\n",
    "\\left(\\begin{array}{c}\n",
    "a & b & c \\\\\n",
    "d & e & f \\\\\n",
    "g & h & i \\\\\n",
    "\\end{array}\\right) $\n",
    "\n",
    "ここで$i$は単なる変数です．虚数単位ではありません．"
   ]
  },
  {
   "cell_type": "markdown",
   "metadata": {},
   "source": [
    "#### 行の入替え\n",
    "\n",
    "1行目と2行目を入替える行列は，次のものになります．\n",
    "\n",
    "$ {\\bf P}_3(1,2) =\n",
    "\\left(\\begin{array}{c}\n",
    "0 & 1 & 0 \\\\\n",
    "1 & 0 & 0 \\\\\n",
    "0 & 0 & 1 \\\\\n",
    "\\end{array}\\right) $\n",
    "\n",
    "実際に計算してみます．"
   ]
  },
  {
   "cell_type": "markdown",
   "metadata": {},
   "source": [
    "$ {\\bf P}_3(1,2){\\bf M} =\n",
    "\\left(\\begin{array}{c}\n",
    "0 & 1 & 0 \\\\\n",
    "1 & 0 & 0 \\\\\n",
    "0 & 0 & 1 \\\\\n",
    "\\end{array}\\right)\n",
    "\\left(\\begin{array}{c}\n",
    "a & b & c \\\\\n",
    "d & e & f \\\\\n",
    "g & h & i \\\\\n",
    "\\end{array}\\right)\n",
    "$\n",
    "$=\n",
    "\\left(\\begin{array}{c}\n",
    "0{\\cdot}a+1{\\cdot}d+0{\\cdot}g & 0{\\cdot}b+1{\\cdot}e+0{\\cdot}h & 0{\\cdot}c+1{\\cdot}f+0{\\cdot}i \\\\\n",
    "1{\\cdot}a+0{\\cdot}d+0{\\cdot}g & 1{\\cdot}b+0{\\cdot}e+0{\\cdot}h & 1{\\cdot}c+0{\\cdot}f+0{\\cdot}i \\\\\n",
    "0{\\cdot}a+0{\\cdot}d+1{\\cdot}g & 0{\\cdot}b+0{\\cdot}e+1{\\cdot}h & 0{\\cdot}c+0{\\cdot}f+1{\\cdot}i \\\\\n",
    "\\end{array}\\right)\n",
    "$\n",
    "$=\n",
    "\\left(\\begin{array}{c}\n",
    "d & e & f \\\\\n",
    "a & b & c \\\\\n",
    "g & h & i \\\\\n",
    "\\end{array}\\right) $\n",
    "\n",
    "となり行列$\\bf M$の1行目と2行目が交換されました．"
   ]
  },
  {
   "cell_type": "markdown",
   "metadata": {},
   "source": [
    "#### ある行の定数倍\n",
    "\n",
    "行列$\\bf M$の2行目を5倍にします．そのための行列は次のものになります．\n",
    "\n",
    "$ {\\bf Q}_3(2;5) = \n",
    "\\left(\\begin{array}{c}\n",
    "1 & 0 & 0 \\\\\n",
    "0 & 5 & 0 \\\\\n",
    "0 & 0 & 1 \\\\\n",
    "\\end{array}\\right) $\n",
    "\n",
    "実際に計算してみます．"
   ]
  },
  {
   "cell_type": "markdown",
   "metadata": {},
   "source": [
    "$ {\\bf Q}_3(2;5){\\bf M} =\n",
    "\\left(\\begin{array}{c}\n",
    "1 & 0 & 0 \\\\\n",
    "0 & 5 & 0 \\\\\n",
    "0 & 0 & 1 \\\\\n",
    "\\end{array}\\right)\n",
    "\\left(\\begin{array}{c}\n",
    "a & b & c \\\\\n",
    "d & e & f \\\\\n",
    "g & h & i \\\\\n",
    "\\end{array}\\right)\n",
    "$\n",
    "$=\n",
    "\\left(\\begin{array}{c}\n",
    "1{\\cdot}a+0{\\cdot}d+0{\\cdot}g & 1{\\cdot}b+0{\\cdot}e+0{\\cdot}h & 1{\\cdot}c+0{\\cdot}f+0{\\cdot}i \\\\\n",
    "0{\\cdot}a+5{\\cdot}d+0{\\cdot}g & 0{\\cdot}b+5{\\cdot}e+0{\\cdot}h & 0{\\cdot}c+5{\\cdot}f+0{\\cdot}i \\\\\n",
    "0{\\cdot}a+0{\\cdot}d+1{\\cdot}g & 0{\\cdot}b+0{\\cdot}e+1{\\cdot}h & 0{\\cdot}c+0{\\cdot}f+1{\\cdot}i \\\\\n",
    "\\end{array}\\right)\n",
    "$\n",
    "$=\n",
    "\\left(\\begin{array}{c}\n",
    "a & b & c \\\\\n",
    "5d & 5e & 5f \\\\\n",
    "g & h & i \\\\\n",
    "\\end{array}\\right) $\n",
    "\n",
    "このように，2行目が5倍になりました．"
   ]
  },
  {
   "cell_type": "markdown",
   "metadata": {},
   "source": [
    "#### ある行に他の行の定数倍を加算\n",
    "\n",
    "行列$\\bf M$の3行目から1行目の2倍を引きます．．そのための行列は次のものになります．\n",
    "\n",
    "$ {\\bf R}_3(3,1;-2) = \n",
    "\\left(\\begin{array}{c}\n",
    "1 & 0 & 0 \\\\\n",
    "0 & 1 & 0 \\\\\n",
    "-2 & 0 & 1 \\\\\n",
    "\\end{array}\\right) $\n",
    "\n",
    "実際に計算してみます．"
   ]
  },
  {
   "cell_type": "markdown",
   "metadata": {},
   "source": [
    "$ {\\bf R}_3(3,1;-2){\\bf M} =\n",
    "\\left(\\begin{array}{c}\n",
    "1 & 0 & 0 \\\\\n",
    "0 & 1 & 0 \\\\\n",
    "-2 & 0 & 1 \\\\\n",
    "\\end{array}\\right)\n",
    "\\left(\\begin{array}{c}\n",
    "a & b & c \\\\\n",
    "d & e & f \\\\\n",
    "g & h & i \\\\\n",
    "\\end{array}\\right)\n",
    "$\n",
    "$=\n",
    "\\left(\\begin{array}{c}\n",
    "1{\\cdot}a+0{\\cdot}d+0{\\cdot}g & 1{\\cdot}b+0{\\cdot}e+0{\\cdot}h & 1{\\cdot}c+0{\\cdot}f+0{\\cdot}i \\\\\n",
    "0{\\cdot}a+1{\\cdot}d+0{\\cdot}g & 0{\\cdot}b+1{\\cdot}e+0{\\cdot}h & 0{\\cdot}c+1{\\cdot}f+0{\\cdot}i \\\\\n",
    "-2{\\cdot}a+0{\\cdot}d+1{\\cdot}g & -2{\\cdot}b+0{\\cdot}e+1{\\cdot}h & -2{\\cdot}c+0{\\cdot}f+1{\\cdot}i \\\\\n",
    "\\end{array}\\right)\n",
    "$\n",
    "$=\n",
    "\\left(\\begin{array}{c}\n",
    "a & b & c \\\\\n",
    "d & e & f \\\\\n",
    "g-2a & h-2b & i-2c \\\\\n",
    "\\end{array}\\right) $\n",
    "\n",
    "このように，3行目が元の値から1行目の2倍の値が引かれています．"
   ]
  },
  {
   "cell_type": "markdown",
   "metadata": {},
   "source": [
    "## 基本行列の逆行列\n",
    " \n",
    " ここで基本行列の逆行列について触れておきます．\n",
    " 基本行列として定義した${\\bf P}_n(i,j),{\\bf Q}_n(i;c),{\\bf R}_n(i,j;c)$の逆行列を掲示します．\n",
    " \n",
    " 基本行列の逆行列は基本行列となります．\n",
    " しかも，計算せずに求めることができます．"
   ]
  },
  {
   "cell_type": "markdown",
   "metadata": {},
   "source": [
    "#### （入替え）の逆行列\n",
    "\n",
    "${\\bf P}_n(i,j)^{-1}=\n",
    "\\left(\\begin{array}{ccccccc}\n",
    "1 &        &   &        &   &        &   \\\\\n",
    "  & \\ddots &   &        &   &        &   \\\\\n",
    "  &        & 0 &        & 1 &        &   \\\\\n",
    "  &        &   & \\ddots &   &        &   \\\\\n",
    "  &        & 1 &        & 0 &        &   \\\\\n",
    "  &        &   &        &   & \\ddots &   \\\\\n",
    "  &        &   &        &   &        & 1 \\\\\n",
    "\\end{array} \\right), (1 \\leq i \\neq j \\leq n) =\n",
    "{\\bf P}_n(i,j)$\n",
    "\n",
    "この場合，自分自身が逆行列になります．"
   ]
  },
  {
   "cell_type": "markdown",
   "metadata": {},
   "source": [
    "#### （定数倍）の逆行列\n",
    "\n",
    "${\\bf Q}_n(i;c)^{-1}=\n",
    "\\left(\\begin{array}{cccc}\n",
    "1 &        &   &             &   &        &   \\\\\n",
    "  & \\ddots &   &             &   &        &   \\\\\n",
    "  &        & 1 &             &   &        &   \\\\\n",
    "  &        &   & \\frac{1}{c} &   &        &   \\\\\n",
    "  &        &   &             & 1 &        &   \\\\\n",
    "  &        &   &             &   & \\ddots &   \\\\\n",
    "  &        &   &             &   &        & 1 \\\\\n",
    "\\end{array} \\right), (1 \\leq i \\leq n, c \\neq 0) =\n",
    "{\\bf Q}_n(i;\\frac{1}{c})$\n",
    "\n",
    "逆行列は，定数倍の値を逆数にすれば求まります．"
   ]
  },
  {
   "cell_type": "markdown",
   "metadata": {},
   "source": [
    "#### （加算）の逆行列\n",
    "\n",
    "${\\bf R}_n(i,j;c)^{-1}=\n",
    "\\left(\\begin{array}{cccc}\n",
    "1 &        &   &        &    &        &   \\\\\n",
    "  & \\ddots &   &        &    &        &   \\\\\n",
    "  &        & 1 &        & -c &        &   \\\\\n",
    "  &        &   & \\ddots &    &        &   \\\\\n",
    "  &        &   &        &  1 &        &   \\\\\n",
    "  &        &   &        &    & \\ddots &   \\\\\n",
    "  &        &   &        &    &        & 1 \\\\\n",
    "\\end{array} \\right), (1 \\leq i \\neq j \\leq n, c \\neq 0) =\n",
    "{\\bf R}_n(i,j;-c)$\n",
    "\n",
    "逆行列は加算する位置の値に$(-1)$を掛ければ求まります．"
   ]
  },
  {
   "cell_type": "markdown",
   "metadata": {},
   "source": [
    "*****"
   ]
  }
 ],
 "metadata": {
  "kernelspec": {
   "display_name": "Python 3",
   "language": "python",
   "name": "python3"
  },
  "language_info": {
   "codemirror_mode": {
    "name": "ipython",
    "version": 3
   },
   "file_extension": ".py",
   "mimetype": "text/x-python",
   "name": "python",
   "nbconvert_exporter": "python",
   "pygments_lexer": "ipython3",
   "version": "3.6.1"
  }
 },
 "nbformat": 4,
 "nbformat_minor": 2
}
