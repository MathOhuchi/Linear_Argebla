{
 "cells": [
  {
   "cell_type": "markdown",
   "metadata": {},
   "source": [
    "# Pythonによる検証\n",
    "\n",
    "これまで求めた<font color=blue>${\\bf PA}={\\bf LU}$</font>をPythonで確認します．"
   ]
  },
  {
   "cell_type": "markdown",
   "metadata": {},
   "source": [
    "$ {\\bf P}{\\bf A}\n",
    "=$\n",
    "$\n",
    "\\left(\\begin{array}{cccc}\n",
    " 1 & 0 &  0 & 0 \\\\\n",
    " 0 & 0 &  1 & 0 \\\\\n",
    " 0 & 1 &  0 & 0 \\\\\n",
    " 0 & 0 &  0 & 1 \\\\\n",
    "\\end{array}\\right) \n",
    "\\left(\\begin{array}{cccc}\n",
    " 1 & -2 &  3 & -4 \\\\\n",
    " 2 & -4 &  1 & -3 \\\\\n",
    " 1 & -1 & -2 &  3 \\\\\n",
    "-1 & -2 & -3 &  1 \\\\\n",
    "\\end{array}\\right)\n",
    "=$\n",
    "$\n",
    "\\left(\\begin{array}{cccc}\n",
    " 1 & 0 &  0 & 0 \\\\\n",
    " 1 & 1 &  0 & 0 \\\\\n",
    " 2 & 0 &  1 & 0 \\\\\n",
    "-1 & -4 & 4 & 1 \\\\\n",
    "\\end{array}\\right)\n",
    "\\left(\\begin{array}{cccc}\n",
    " 1 & -2 &  3 & -4 \\\\\n",
    " 0 &  1 & -5 &  7 \\\\\n",
    " 0 &  0 & -5 &  5 \\\\\n",
    " 0 &  0 &  0 &  5 \\\\\n",
    "\\end{array}\\right)\n",
    "=$\n",
    "$ {\\bf L}{\\bf U}$"
   ]
  },
  {
   "cell_type": "markdown",
   "metadata": {},
   "source": [
    "確認手順は，それぞれの行列${\\bf P}, {\\bf A}, {\\bf L}, {\\bf U}$を具体的に定義して，\n",
    "行列の積$\\bf PA$と$\\bf LU$が等しいことを検査します．"
   ]
  },
  {
   "cell_type": "markdown",
   "metadata": {},
   "source": [
    "まず，ライブラリーNumPyをインポートします．\n",
    "別名として np を指定します．\n",
    "\n",
    "```Python\n",
    "import numpy as np\n",
    "```"
   ]
  },
  {
   "cell_type": "code",
   "execution_count": null,
   "metadata": {
    "collapsed": true
   },
   "outputs": [],
   "source": []
  },
  {
   "cell_type": "markdown",
   "metadata": {},
   "source": [
    "行の入替え行列${\\bf P}={\\bf P}_4(2,3)$を定義します．\n",
    "\n",
    "```Python\n",
    "P = np.array([[1,0,0,0],[0,0,1,0],[0,1,0,0],[0,0,0,1]])\n",
    "P\n",
    "```"
   ]
  },
  {
   "cell_type": "code",
   "execution_count": null,
   "metadata": {},
   "outputs": [],
   "source": []
  },
  {
   "cell_type": "markdown",
   "metadata": {},
   "source": [
    "係数行列$\\bf A$を定義します．\n",
    "\n",
    "```Python\n",
    "A = np.array([[1,-2,3,-4],[2,-4,1,-3],[1,-1,-2,3],[-1,-2,-3,1]])\n",
    "A\n",
    "```"
   ]
  },
  {
   "cell_type": "code",
   "execution_count": null,
   "metadata": {},
   "outputs": [],
   "source": []
  },
  {
   "cell_type": "markdown",
   "metadata": {},
   "source": [
    "下三角行列$\\bf L$を定義します．\n",
    "\n",
    "```Python\n",
    "L = np.array([[1,0,0,0],[1,1,0,0],[2,0,1,0],[-1,-4,4,1]])\n",
    "L\n",
    "```"
   ]
  },
  {
   "cell_type": "code",
   "execution_count": null,
   "metadata": {},
   "outputs": [],
   "source": []
  },
  {
   "cell_type": "markdown",
   "metadata": {},
   "source": [
    "上三角行列$\\bf U$を定義します．\n",
    "\n",
    "```Python\n",
    "U = np.array([[1,-2,3,-4],[0,1,-5,7],[0,0,-5,5],[0,0,0,5]])\n",
    "U\n",
    "```"
   ]
  },
  {
   "cell_type": "code",
   "execution_count": null,
   "metadata": {},
   "outputs": [],
   "source": []
  },
  {
   "cell_type": "markdown",
   "metadata": {},
   "source": [
    "係数行列に行入替え行列を掛けた行列$\\bf PA$を求めます．\n",
    "\n",
    "```Python\n",
    "P.dot(A)\n",
    "```"
   ]
  },
  {
   "cell_type": "code",
   "execution_count": null,
   "metadata": {},
   "outputs": [],
   "source": []
  },
  {
   "cell_type": "markdown",
   "metadata": {},
   "source": [
    "下三角行列と上三角行列の積$\\bf LU$を求めます．\n",
    "\n",
    "```Python\n",
    "L.dot(U)\n",
    "```"
   ]
  },
  {
   "cell_type": "code",
   "execution_count": null,
   "metadata": {},
   "outputs": [],
   "source": []
  },
  {
   "cell_type": "markdown",
   "metadata": {},
   "source": [
    "$\\bf PA$と$\\bf LU$が等しいことを比較演算子で確認します．\n",
    "\n",
    "> X == Y\n",
    "\n",
    "とすると，成分ごとの比較になります．\n",
    "\n",
    "```Python\n",
    "P.dot(A) == L.dot(U)\n",
    "```"
   ]
  },
  {
   "cell_type": "code",
   "execution_count": null,
   "metadata": {},
   "outputs": [],
   "source": []
  },
  {
   "cell_type": "markdown",
   "metadata": {},
   "source": [
    "ちなみに，2つの行列が完全一致するかを判定するにはnumpy.allclose()関数を用います．\n",
    "\n",
    "> np.<font color=green>allclose</font>(X,Y)\n",
    "\n",
    "ただし，計算が小数点数となる場合，計算誤差により一致しない場合があることに注意してください．\n",
    "\n",
    "```Python\n",
    "np.allclose(P.dot(A),L.dot(U))\n",
    "```"
   ]
  },
  {
   "cell_type": "code",
   "execution_count": null,
   "metadata": {},
   "outputs": [],
   "source": []
  },
  {
   "cell_type": "markdown",
   "metadata": {},
   "source": [
    "以上で，行を入替えた正則行列のLU分解が確認できました．\n",
    "*****"
   ]
  }
 ],
 "metadata": {
  "kernelspec": {
   "display_name": "Python 3",
   "language": "python",
   "name": "python3"
  },
  "language_info": {
   "codemirror_mode": {
    "name": "ipython",
    "version": 3
   },
   "file_extension": ".py",
   "mimetype": "text/x-python",
   "name": "python",
   "nbconvert_exporter": "python",
   "pygments_lexer": "ipython3",
   "version": "3.6.1"
  }
 },
 "nbformat": 4,
 "nbformat_minor": 2
}
