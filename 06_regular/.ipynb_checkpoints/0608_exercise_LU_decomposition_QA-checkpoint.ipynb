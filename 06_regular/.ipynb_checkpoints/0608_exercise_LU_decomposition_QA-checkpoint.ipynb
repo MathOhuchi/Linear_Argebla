{
 "cells": [
  {
   "cell_type": "markdown",
   "metadata": {},
   "source": [
    "# 演習問題\n",
    "\n",
    "次の行列のLU分解を求めよ．\n",
    "\n",
    "${\\bf A} =\n",
    "\\left(\\begin{array}{c}\n",
    "1 & 2 & -1 \\\\\n",
    "2 & 6 & -2 \\\\\n",
    "3 & 4 &  1 \\\\\n",
    "\\end{array}\\right)$\n",
    "\n",
    "最初に手計算で求めてください．\n",
    "\n",
    "次に，その結果が正しいことをPythonで検証してください．"
   ]
  },
  {
   "cell_type": "markdown",
   "metadata": {},
   "source": [
    "*****\n",
    "## 解答\n",
    "\n",
    "方針は，Gaussの消去法のおける前進消去を行います．\n",
    "そのために，行列$\\bf A$にピボット以外をゼロにするような基本行列を次々と掛けていきます．"
   ]
  },
  {
   "cell_type": "markdown",
   "metadata": {},
   "source": [
    "最初は1列目の前進消去です．\n",
    "2行3列目と3行2列目の値をゼロにするような行列${\\bf T}_1$を考えます．\n",
    "\n",
    "${\\bf T}_1 = {\\bf R}_3(3,1;-3){\\bf R}_3(2,1;-2)\n",
    "\\left(\\begin{array}{c}\n",
    " 1 & 0 & \\\\\n",
    " 0 & 1 & 0 \\\\\n",
    "-3 & 0 & 1 \\\\\n",
    "\\end{array}\\right)\n",
    "\\left(\\begin{array}{c}\n",
    " 1 & 0 & \\\\\n",
    "-2 & 1 & 0 \\\\\n",
    " 0 & 0 & 1 \\\\\n",
    "\\end{array}\\right)\n",
    "=\n",
    "\\left(\\begin{array}{c}\n",
    " 1 & 0 & \\\\\n",
    "-2 & 1 & 0 \\\\\n",
    "-3 & 0 & 1 \\\\\n",
    "\\end{array}\\right) $"
   ]
  },
  {
   "cell_type": "markdown",
   "metadata": {},
   "source": [
    "この行列を$\\bf A$に掛けると次のようになります．\n",
    "\n",
    "${\\bf T}_1{\\bf A} =\n",
    "\\left(\\begin{array}{c}\n",
    " 1 & 0 & 0 \\\\\n",
    "-2 & 1 & 0 \\\\\n",
    "-3 & 0 & 1 \\\\\n",
    "\\end{array}\\right)\n",
    "\\left(\\begin{array}{c}\n",
    "1 & 2 & -1 \\\\\n",
    "2 & 6 & -2 \\\\\n",
    "3 & 4 &  1 \\\\\n",
    "\\end{array}\\right)\n",
    "=\n",
    "\\left(\\begin{array}{c}\n",
    "1 &  2 & -1 \\\\\n",
    "0 &  2 &  0 \\\\\n",
    "0 & -2 &  4 \\\\\n",
    "\\end{array}\\right) $"
   ]
  },
  {
   "cell_type": "markdown",
   "metadata": {},
   "source": [
    "次に2列目の前進消去を行います．\n",
    "3行2列目の値をゼロにする行列は，${\\bf T}_2={\\bf R}_3(3,2;1)$です．\n",
    "これを${\\bf T}_1{\\bf A}$に掛けます．\n",
    "\n",
    "${\\bf T}_2{\\bf T}_1{\\bf A} =\n",
    "\\left(\\begin{array}{c}\n",
    "1 & 0 & 0 \\\\\n",
    "0 & 1 & 0 \\\\\n",
    "0 & 1 & 1 \\\\\n",
    "\\end{array}\\right)\n",
    "\\left(\\begin{array}{c}\n",
    "1 & 2 & -1 \\\\\n",
    "0 & 6 &  0 \\\\\n",
    "0 & 4 &  4 \\\\\n",
    "\\end{array}\\right)\n",
    "=\n",
    "\\left(\\begin{array}{c}\n",
    "1 & 2 & -1 \\\\\n",
    "0 & 2 &  0 \\\\\n",
    "0 & 0 &  4 \\\\\n",
    "\\end{array}\\right) $\n",
    "\n",
    "この結果は，上三角行列になりましたので，この行列を$\\bf U$とします．"
   ]
  },
  {
   "cell_type": "markdown",
   "metadata": {},
   "source": [
    "次に下三角行列を求めます．\n",
    "\n",
    "$\\begin{eqnarray}\n",
    "{\\bf L} &=& ({\\bf R}_3(3,2;1){\\bf R}_3(3,1;-3){\\bf R}_3(2,1;-2))^{-1}  \\\\\n",
    "&=& ({\\bf R}_3(2,1;-2))^{-1}({\\bf R}_3(3,1;-3))^{-1}({\\bf R}_3(3,2;1))^{-1} \\\\\n",
    "&=& ({\\bf R}_3(2,1;2){\\bf R}_3(3,1;3){\\bf R}_3(3,2;-1) \\\\\n",
    "&=& \n",
    "\\left(\\begin{array}{c}\n",
    "1 &  0 & 0 \\\\\n",
    "2 &  1 & 0 \\\\\n",
    "3 & -1 & 1 \\\\\n",
    "\\end{array}\\right)\n",
    "\\end{eqnarray}$"
   ]
  },
  {
   "cell_type": "markdown",
   "metadata": {},
   "source": [
    "次にPythonで，この結果を検証します．\n",
    "\n",
    "まずはPythonの配列計算ライブラリーであるNumPyをインポートします．"
   ]
  },
  {
   "cell_type": "code",
   "execution_count": 1,
   "metadata": {
    "collapsed": true
   },
   "outputs": [],
   "source": [
    "import numpy as np"
   ]
  },
  {
   "cell_type": "code",
   "execution_count": 2,
   "metadata": {},
   "outputs": [
    {
     "data": {
      "text/plain": [
       "array([[ 1,  2, -1],\n",
       "       [ 2,  6, -2],\n",
       "       [ 3,  4,  1]])"
      ]
     },
     "execution_count": 2,
     "metadata": {},
     "output_type": "execute_result"
    }
   ],
   "source": [
    "A =np.array([[1,2,-1],\n",
    "             [2,6,-2],\n",
    "             [3,4, 1]])\n",
    "A"
   ]
  },
  {
   "cell_type": "code",
   "execution_count": 3,
   "metadata": {},
   "outputs": [
    {
     "data": {
      "text/plain": [
       "array([[ 1,  2, -1],\n",
       "       [ 0,  2,  0],\n",
       "       [ 0, -2,  4]])"
      ]
     },
     "execution_count": 3,
     "metadata": {},
     "output_type": "execute_result"
    }
   ],
   "source": [
    "T1 = np.array([[ 1,0,0],\n",
    "               [-2,1,0],\n",
    "               [-3,0,1]])\n",
    "T1.dot(A)"
   ]
  },
  {
   "cell_type": "code",
   "execution_count": 4,
   "metadata": {},
   "outputs": [
    {
     "data": {
      "text/plain": [
       "array([[ 1,  2, -1],\n",
       "       [ 0,  2,  0],\n",
       "       [ 0,  0,  4]])"
      ]
     },
     "execution_count": 4,
     "metadata": {},
     "output_type": "execute_result"
    }
   ],
   "source": [
    "T2 = np.array([[1,0,0],\n",
    "               [0,1,0],\n",
    "               [0,1,1]])\n",
    "U = T2.dot(T1).dot(A)\n",
    "U"
   ]
  },
  {
   "cell_type": "markdown",
   "metadata": {},
   "source": [
    "よって，上三角行列が確認できました．\n",
    "\n",
    "下三角行列は，${\\bf L}=({\\bf T}_2{\\bf T}_1)^{-1}$によって確認します．"
   ]
  },
  {
   "cell_type": "code",
   "execution_count": 5,
   "metadata": {},
   "outputs": [
    {
     "data": {
      "text/plain": [
       "array([[ 1.,  0.,  0.],\n",
       "       [ 2.,  1.,  0.],\n",
       "       [ 3., -1.,  1.]])"
      ]
     },
     "execution_count": 5,
     "metadata": {},
     "output_type": "execute_result"
    }
   ],
   "source": [
    "np.linalg.inv(T2.dot(T1))"
   ]
  },
  {
   "cell_type": "markdown",
   "metadata": {},
   "source": [
    "結果として，下三角行列についても確認できました．\n",
    "*****"
   ]
  }
 ],
 "metadata": {
  "kernelspec": {
   "display_name": "Python 3",
   "language": "python",
   "name": "python3"
  },
  "language_info": {
   "codemirror_mode": {
    "name": "ipython",
    "version": 3
   },
   "file_extension": ".py",
   "mimetype": "text/x-python",
   "name": "python",
   "nbconvert_exporter": "python",
   "pygments_lexer": "ipython3",
   "version": "3.6.1"
  }
 },
 "nbformat": 4,
 "nbformat_minor": 2
}
