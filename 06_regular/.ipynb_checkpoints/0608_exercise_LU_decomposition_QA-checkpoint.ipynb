{
 "cells": [
  {
   "cell_type": "markdown",
   "metadata": {},
   "source": [
    "# 演習問題\n",
    "\n",
    "次の行列のLU分解を求めよ．\n",
    "\n",
    "${\\bf A} =\n",
    "\\left(\\begin{array}{c}\n",
    "1 & 2 & -1 \\\\\n",
    "2 & 6 & -2 \\\\\n",
    "3 & 4 &  1 \\\\\n",
    "\\end{array}\\right)$\n",
    "\n",
    "### ヒント\n",
    "Gaussの消去法の前進消去を行うために，ある行に別の行の定数倍を加算する基本行列${\\bf R}_3(i,j;c)$を活用します．\n",
    "\n",
    "必ず手計算で求めてください．\n",
    "次に，その結果が正しいことをPythonで検証してください．\n",
    "\n",
    "ある行列$\\bf X$の逆行列を求めるためにNumPyには次の関数が用意されています．\n",
    "下三角行列を求めるときに利用してください．\n",
    "\n",
    "```Python\n",
    "numpy.linalg.inv(X)\n",
    "```\n",
    "\n",
    "ただし，この関数を使用したときに起こる副作用についても考えてください．"
   ]
  },
  {
   "cell_type": "markdown",
   "metadata": {},
   "source": [
    "*****\n",
    "## 解答\n",
    "\n",
    "方針は，Gaussの消去法のおける前進消去を行います．\n",
    "そのために，行列$\\bf A$に左下の成分をゼロにするような基本行列を次々と掛けていきます．\n",
    "\n",
    "${\\bf A} =\n",
    "\\left(\\begin{array}{c}\n",
    "1 & 2 & -1 \\\\\n",
    "2 & 6 & -2 \\\\\n",
    "3 & 4 &  1 \\\\\n",
    "\\end{array}\\right)$"
   ]
  },
  {
   "cell_type": "markdown",
   "metadata": {},
   "source": [
    "#### 前進消去（その１）\n",
    "2行1列目の成分をゼロにするために，基本行列の${\\bf R}_3(2,1;-2)$を掛けます．\n",
    "\n",
    "${\\bf R}_3(2,1;-2)$\n",
    "${\\bf A} =$\n",
    "$\n",
    "\\left(\\begin{array}{c}\n",
    " 1 & 0 & 0 \\\\\n",
    "-2 & 1 & 0 \\\\\n",
    " 0 & 0 & 1 \\\\\n",
    "\\end{array}\\right)\n",
    "$\n",
    "$\n",
    "\\left(\\begin{array}{c}\n",
    "1 & 2 & -1 \\\\\n",
    "2 & 6 & -2 \\\\\n",
    "3 & 4 &  1 \\\\\n",
    "\\end{array}\\right) =$\n",
    "$\n",
    "\\left(\\begin{array}{c}\n",
    "1 & 2 & -1 \\\\\n",
    "0 & 2 &  0 \\\\\n",
    "3 & 4 &  1 \\\\\n",
    "\\end{array}\\right)\n",
    "$"
   ]
  },
  {
   "cell_type": "markdown",
   "metadata": {},
   "source": [
    "#### 前進消去（その２）\n",
    "3行1列目の成分をゼロにするために，基本行列${\\bf R}_3(3,1;-3)$を掛けます．\n",
    "\n",
    "${\\bf R}_3(3,1;-3){\\bf R}_3(2,1;-2){\\bf A}=$\n",
    "$\n",
    "\\left(\\begin{array}{c}\n",
    " 1 & 0 & 0 \\\\\n",
    " 0 & 1 & 0 \\\\\n",
    "-3 & 0 & 1 \\\\\n",
    "\\end{array}\\right)\n",
    "\\left(\\begin{array}{c}\n",
    " 1 & 2 & -1 \\\\\n",
    " 0 & 2 &  0 \\\\\n",
    " 3 & 4 &  1 \\\\\n",
    "\\end{array}\\right)\n",
    "=$\n",
    "$\n",
    "\\left(\\begin{array}{c}\n",
    "1 &  2 & -1 \\\\\n",
    "0 &  2 &  0 \\\\\n",
    "0 & -2 &  4 \\\\\n",
    "\\end{array}\\right) $"
   ]
  },
  {
   "cell_type": "markdown",
   "metadata": {},
   "source": [
    "#### 前進消去（その３）\n",
    "\n",
    "3行2列目の値をゼロにするために，行列${\\bf R}_3(3,2;1)$を掛けます．\n",
    "\n",
    "${\\bf R}_3(3,2;1){\\bf R}_3(3,1;-3){\\bf R}_3(2,1;-2){\\bf A} =$\n",
    "$\n",
    "\\left(\\begin{array}{c}\n",
    "1 & 0 & 0 \\\\\n",
    "0 & 1 & 0 \\\\\n",
    "0 & 1 & 1 \\\\\n",
    "\\end{array}\\right)\n",
    "\\left(\\begin{array}{c}\n",
    "1 &  2 & -1 \\\\\n",
    "0 &  2 &  0 \\\\\n",
    "0 & -2 &  4 \\\\\n",
    "\\end{array}\\right) =$\n",
    "$\n",
    "\\left(\\begin{array}{c}\n",
    "1 & 2 & -1 \\\\\n",
    "0 & 2 &  0 \\\\\n",
    "0 & 0 &  4 \\\\\n",
    "\\end{array}\\right) $\n",
    "\n",
    "この結果は，上三角行列になりましたので，この行列を$\\bf U$とします．"
   ]
  },
  {
   "cell_type": "markdown",
   "metadata": {},
   "source": [
    "#### 下三角行列\n",
    "\n",
    "${\\bf L}=\\{ {\\bf R}_3(3,2;1){\\bf R}_3(3,1,-3){\\bf R}_3(2,1,-2) \\}^{-1}$によって求まります．\n",
    "\n",
    "$\\begin{eqnarray}\n",
    "{\\bf L} &=& \\{{\\bf R}_3(3,2;1){\\bf R}_3(3,1;-3){\\bf R}_3(2,1;-2)\\}^{-1}  \\\\\n",
    "&=& ({\\bf R}_3(2,1;-2))^{-1}({\\bf R}_3(3,1;-3))^{-1}({\\bf R}_3(3,2;1))^{-1} \\\\\n",
    "&=& ({\\bf R}_3(2,1;2){\\bf R}_3(3,1;3){\\bf R}_3(3,2;-1) \\\\\n",
    "&=& \n",
    "\\left(\\begin{array}{c}\n",
    "1 &  0 & 0 \\\\\n",
    "2 &  1 & 0 \\\\\n",
    "3 & -1 & 1 \\\\\n",
    "\\end{array}\\right)\n",
    "\\end{eqnarray}$"
   ]
  },
  {
   "cell_type": "markdown",
   "metadata": {},
   "source": [
    "*****\n",
    "## Pythonによる検証\n",
    "\n",
    "まずはPythonの配列計算ライブラリーであるNumPyをインポートします．"
   ]
  },
  {
   "cell_type": "code",
   "execution_count": null,
   "metadata": {
    "collapsed": true
   },
   "outputs": [],
   "source": [
    "import numpy as np"
   ]
  },
  {
   "cell_type": "markdown",
   "metadata": {},
   "source": [
    "行列$\\bf A$を定義します．"
   ]
  },
  {
   "cell_type": "code",
   "execution_count": null,
   "metadata": {},
   "outputs": [],
   "source": [
    "A = np.array([[1,2,-1],\n",
    "             [2,6,-2],\n",
    "             [3,4, 1]])\n",
    "A"
   ]
  },
  {
   "cell_type": "markdown",
   "metadata": {},
   "source": [
    "前進消去によって2行1列目の成分をゼロにするための行列${\\bf R}_3(2,1;-2)$を定義して，行列$\\bf A$に掛けます．"
   ]
  },
  {
   "cell_type": "code",
   "execution_count": null,
   "metadata": {},
   "outputs": [],
   "source": [
    "R1 = np.array([[ 1,0,0],\n",
    "               [-2,1,0],\n",
    "               [ 0,0,1]])\n",
    "R1.dot(A)"
   ]
  },
  {
   "cell_type": "markdown",
   "metadata": {},
   "source": [
    "前進消去によって3行1列目の成分をぜろにするための行列${\\bf R}_3(3,1;-3)$を定義して，上記の結果に掛けます．"
   ]
  },
  {
   "cell_type": "code",
   "execution_count": null,
   "metadata": {},
   "outputs": [],
   "source": [
    "R2 = np.array([[ 1,0,0],\n",
    "               [ 0,1,0],\n",
    "               [-3,0,1]])\n",
    "R2.dot(R1.dot(A))"
   ]
  },
  {
   "cell_type": "markdown",
   "metadata": {},
   "source": [
    "前進消去によって3行2列目の値をゼロにするための行列を${\\bf R}_3(3,2;1)$を定義して，上記の結果に掛けます．"
   ]
  },
  {
   "cell_type": "code",
   "execution_count": null,
   "metadata": {},
   "outputs": [],
   "source": [
    "R3 = np.array([[1,0,0],\n",
    "               [0,1,0],\n",
    "               [0,1,1]])\n",
    "U = R3.dot(R2.dot(R1.dot(A)))\n",
    "U"
   ]
  },
  {
   "cell_type": "markdown",
   "metadata": {},
   "source": [
    "よって，上三角行列が確認できました．\n",
    "\n",
    "下三角行列は，${\\bf L}=\\{ {\\bf R}_3(3,2;1){\\bf R}_3(3,1,-3){\\bf R}_3(2,1,-2) \\}^{-1}$によって確認します．\n",
    "\n",
    "逆行列を求めるに，numpy.linalg.inv()関数を利用します．\n",
    "\n",
    "```Python\n",
    "np.linalg.inv(R3.dot(R2.dot(R1)))\n",
    "```"
   ]
  },
  {
   "cell_type": "code",
   "execution_count": null,
   "metadata": {},
   "outputs": [],
   "source": [
    "np.linalg.inv(R3.dot(R2.dot(R1)))"
   ]
  },
  {
   "cell_type": "markdown",
   "metadata": {},
   "source": [
    "手計算の結果と一致しました．\n",
    "ただし，このnumpy.linalg.inv()関数を用いたときのデメリットとして計算誤差が生じます．\n",
    "\n",
    "そこで利用する下三角行列としては，論理的結果に基づいて定義したオブジェクトを使用します．"
   ]
  },
  {
   "cell_type": "code",
   "execution_count": null,
   "metadata": {},
   "outputs": [],
   "source": [
    "L = np.array([[1, 0, 0],\n",
    "              [2, 1, 0],\n",
    "              [3,-1, 1]])\n",
    "L"
   ]
  },
  {
   "cell_type": "markdown",
   "metadata": {},
   "source": [
    "下三角行列と上三角行列の積が行列$\\bf A$に等しいことも確認します．"
   ]
  },
  {
   "cell_type": "code",
   "execution_count": null,
   "metadata": {},
   "outputs": [],
   "source": [
    "L.dot(U) == A"
   ]
  },
  {
   "cell_type": "code",
   "execution_count": null,
   "metadata": {},
   "outputs": [],
   "source": [
    "np.allclose(L.dot(U),A)"
   ]
  },
  {
   "cell_type": "markdown",
   "metadata": {},
   "source": [
    "これで，Pythonによる検証も完了です．\n",
    "*****"
   ]
  }
 ],
 "metadata": {
  "kernelspec": {
   "display_name": "Python 3",
   "language": "python",
   "name": "python3"
  },
  "language_info": {
   "codemirror_mode": {
    "name": "ipython",
    "version": 3
   },
   "file_extension": ".py",
   "mimetype": "text/x-python",
   "name": "python",
   "nbconvert_exporter": "python",
   "pygments_lexer": "ipython3",
   "version": "3.6.1"
  }
 },
 "nbformat": 4,
 "nbformat_minor": 2
}
