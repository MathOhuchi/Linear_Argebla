{
 "cells": [
  {
   "cell_type": "markdown",
   "metadata": {},
   "source": [
    "# Gaussの消去法\n",
    "\n",
    "私達は，連立方程式の解法としてGauss-Jordanの消去法を学びましたが，現実にはGauss-Jordan消去法よりも計算効率の良いアルゴリズムであるGaussの消去法が用いられます．\n",
    "\n",
    "Gauss-Jordanの消去法では，1つの方程式に1つの変数が残るように方程式の加減算を行うアルゴリズムです．\n",
    "Gaussの消去法は，部分的に変数を消去しますが，完全に1つの変数を残す訳ではありません．\n",
    "Gaussの消去法は，2つのステップで解を求めるアルゴリズムです．\n",
    "\n",
    "- 前進消去\n",
    "- 後退代入\n",
    "\n",
    "Gauss-Jordanの消去法で扱った例題と同じ問題をGaussの消去法で問いてみましょう．"
   ]
  },
  {
   "cell_type": "markdown",
   "metadata": {},
   "source": [
    "#### 基本変形（再掲）\n",
    "\n",
    "Gaussの消去法においても<font color=blue>基本変形</font>と言われる3種類の操作を連立方程式に適用します．\n",
    "\n",
    "- 基本変形1：<font color=green>2つの式の入替える</font>\n",
    "- 基本変形2：<font color=green>1つの式にある定数を掛ける</font>\n",
    "- 基本変形3：<font color=green>1つの式に別の式のある定数倍した式を足す</font>\n",
    "\n",
    "この基本変形は，前進消去のアルゴリズムで使用されています．"
   ]
  },
  {
   "cell_type": "markdown",
   "metadata": {},
   "source": [
    "### 【Gauss-Jordanの消去法で扱った例題】\n",
    "\n",
    "次の連立一次方程式の解となる$x, y, z$を求めよ．\n",
    "\n",
    "$\\left\\{\\begin{array}{lc}\n",
    " 2x - 2y - 4z = -6 & \\cdots (1) \\\\ \n",
    " 3x -  y - 4z = -7 & \\cdots (2) \\\\ \n",
    "-2x -  y + 2z = 6  & \\cdots (3) \\\\\n",
    "\\end{array} \\right.$\n",
    "\n",
    "ただし，$x,y,z \\in \\mathbb{R}$とする．"
   ]
  },
  {
   "cell_type": "markdown",
   "metadata": {},
   "source": [
    "### 【Gauss-の消去法による解答】\n",
    "\n",
    "最初は<font color=blue>前進消去のアルゴリズム</font>を実施します．\n",
    "\n",
    "に式(2)および式(3)から変数$x$を消去します．すなわち，式(2)から式(1)を$\\frac{3}{2}$倍した式を引き，また式(3)に式(1)を足します．\n",
    "\n",
    "$\\left\\{\\begin{array}{rl}\n",
    "2x - 2y - 4z = -6 & \\cdots (1) \\\\\n",
    "     2y + 2z =  2 & \\cdots (2')=(2)-\\frac{3}{2}\\times(1) \\\\ \n",
    "    -3y - 2z =  0 & \\cdots (3')=(3)+2\\times(1) \\\\\n",
    "\\end{array} \\right.$\n"
   ]
  },
  {
   "cell_type": "markdown",
   "metadata": {},
   "source": [
    "これで，変数$x$は式(1)だけになりました．\n",
    "今度は変数$y$について同様の処理を行います．\n",
    "戦略としては，式(1')と式(2')のみに変数$y$を残して，他の式から変数$y$を消去します．\n",
    "\n",
    "(3')変数$y$を消去するために，式(3')に式(2'')を$\\frac{3}{2}$倍にした式を足します．\n",
    "\n",
    "$\\left\\{\\begin{array}{rl}\n",
    "2x - 2y - 4z = -6 & \\cdots (1) \\\\\n",
    "     2y + 2z =  2 & \\cdots (2') \\\\ \n",
    "           z =  3 & \\cdots (3'')=(3')+\\frac{3}{2}\\times(2') \\\\\n",
    "\\end{array} \\right.$\n",
    "\n",
    "このステップで<font color=blue>式(1)から変数$y$を消去しない</font>ことに注目してください．\n",
    "Gauss-Jordanの消去法では式(1)からも変数$y$を消去していました．"
   ]
  },
  {
   "cell_type": "markdown",
   "metadata": {},
   "source": [
    "次は式(3'')ですが，この式は変数が$z$だけになっているので，計算の必要はありません．\n",
    "この段階で変数$z$について，$z=3$と具体的に値が求まっています．\n",
    "ここまでが，前進消去のアルゴリズムです．<br>\n",
    "ポイントは，<font color=blue>残す変数の下側の式だけ該当の変数を消去し，上側はそのまま放置する</font>ことです．"
   ]
  },
  {
   "cell_type": "markdown",
   "metadata": {},
   "source": [
    "次に<font color=blue>後退代入のアルゴリズム</font>を実施します．\n",
    "\n",
    "式(2')の変数$z$に式(3'')を代入します．\n",
    "$2y +  2{\\times}3 =  2$より，$y=-2$なので，\n",
    "\n",
    "$\\left\\{\\begin{array}{rl}\n",
    "2x - 2y - 4z = -6 & \\cdots (1) \\\\\n",
    "      y      = -2 & \\cdots (2'') \\\\ \n",
    "           z =  3 & \\cdots (3'') \\\\\n",
    "\\end{array} \\right.$\n",
    "\n",
    "となります．"
   ]
  },
  {
   "cell_type": "markdown",
   "metadata": {},
   "source": [
    "最後に，式(1')の変数$y$に式(2'')を代入し，変数$z$に式(3'')を代入します．\n",
    "$2x - 2\\times(-2) -4{\\times}3 = -6$により，$x=1$となるので，最終的に次の式に落ち着きます．\n",
    "\n",
    "$\\left\\{\\begin{array}{cccccl}\n",
    "x &   &   & = & 1  & \\cdots (1'') \\\\ \n",
    "  & y &   & = & -2 & \\cdots (2'') \\\\ \n",
    "  &   & z & = &  3 & \\cdots (3'') \\\\\n",
    "\\end{array} \\right.$\n",
    "\n",
    "以上でGaussの消去法による例題の解法が完了しました．"
   ]
  },
  {
   "cell_type": "markdown",
   "metadata": {},
   "source": [
    "*****\n",
    "この後，Gaussの消去法を行列によるモダンな表現に焼き直します．"
   ]
  },
  {
   "cell_type": "markdown",
   "metadata": {},
   "source": [
    "### Gaussの消去法とGauss-Jordanの消去法の比較\n",
    "\n",
    "Gausseの消去法はGauss-Jordanの消去法に比べると極力省力化しています．\n",
    "当然のことですが，どちらのアルゴリズムでも同じ結果を得られます．\n",
    "\n",
    "Gauss-Jordanの消去法は完全主義のイメージがあります．最初から最後まで一つのルールに則って解いていきます．\n",
    "アルゴリズムとしてもシンプルなので覚えやすいです．\n",
    "\n",
    "それに対してGaussの消去法では，途中でアルゴリズムを変更しています．\n",
    "その理由は，計算階数を極力少なくするためです．\n",
    "\n",
    "連立方程式の解法を学習するときは変数の個数が2個から4個ぐらいです．それ以上の個数を増やしても新しい知見が得られる訳でもなく労力が増えるだけです．したがって，計算効率はどうでもよいことです．\n",
    "\n",
    "しかし，現実の課題に取り組むときに扱う微分方程式や多変量解析さらに機械学習などのプログラムにおいては内部的に巨大な連立方程式を解いています．\n",
    "そのため，計算効率は現実には重要な課題となっています．\n",
    "\n",
    "ただし，私達は連立方程式を解くために最適なアルゴリズムのプログラムを作成する必要はありません．\n",
    "それは，既に提供されているライブラリーやパッケージに組み込まれているので，心配はいりません．"
   ]
  }
 ],
 "metadata": {
  "kernelspec": {
   "display_name": "Python 3",
   "language": "python",
   "name": "python3"
  },
  "language_info": {
   "codemirror_mode": {
    "name": "ipython",
    "version": 3
   },
   "file_extension": ".py",
   "mimetype": "text/x-python",
   "name": "python",
   "nbconvert_exporter": "python",
   "pygments_lexer": "ipython3",
   "version": "3.6.1"
  }
 },
 "nbformat": 4,
 "nbformat_minor": 2
}
