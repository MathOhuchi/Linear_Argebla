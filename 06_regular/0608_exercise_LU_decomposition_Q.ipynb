{
 "cells": [
  {
   "cell_type": "markdown",
   "metadata": {},
   "source": [
    "# 演習問題\n",
    "\n",
    "次の行列のLU分解を求めよ．\n",
    "\n",
    "${\\bf A} =\n",
    "\\left(\\begin{array}{c}\n",
    "1 & 2 & -1 \\\\\n",
    "2 & 6 & -2 \\\\\n",
    "3 & 4 &  1 \\\\\n",
    "\\end{array}\\right)$\n",
    "\n",
    "最初に手計算で求めてください．\n",
    "\n",
    "次に，その結果が正しいことをPythonで検証してください．"
   ]
  },
  {
   "cell_type": "markdown",
   "metadata": {},
   "source": [
    "*****\n"
   ]
  }
 ],
 "metadata": {
  "kernelspec": {
   "display_name": "Python 3",
   "language": "python",
   "name": "python3"
  },
  "language_info": {
   "codemirror_mode": {
    "name": "ipython",
    "version": 3
   },
   "file_extension": ".py",
   "mimetype": "text/x-python",
   "name": "python",
   "nbconvert_exporter": "python",
   "pygments_lexer": "ipython3",
   "version": "3.6.1"
  }
 },
 "nbformat": 4,
 "nbformat_minor": 2
}
