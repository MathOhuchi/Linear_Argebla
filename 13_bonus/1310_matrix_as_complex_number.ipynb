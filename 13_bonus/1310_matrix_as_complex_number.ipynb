{
 "cells": [
  {
   "cell_type": "markdown",
   "metadata": {},
   "source": [
    "# 複素数の行列表現\n",
    "\n",
    "数学の歴史において虚数の発見は大きな画期的な出来事で，それまでの数学理論を飛躍的に発展させる原動力となりました．\n",
    "その一方で，虚数に違和感を覚える方も多くいます．\n",
    "複素数は，使うと便利ですが，意味を考えると行き詰ってしまいます．\n",
    "\n",
    "ここでは，複素数を行列として定義する方法について紹介します．"
   ]
  },
  {
   "cell_type": "markdown",
   "metadata": {},
   "source": [
    "## 数の本質\n",
    "\n",
    "数の概念を学習するときに自然数から始めて，整数，有理数，実数と拡張され，その次に複素数を学びました．\n",
    "複素数について考える前に，実数の特徴について考えてみましょう．\n",
    "実数は，次にあげる構造を有しています．\n",
    "\n",
    "- 代数構造としての体\n",
    "- 順序構造としての大小関係\n",
    "\n",
    "その他にも位相構造がありますが，ここでは位相構造には触れません．"
   ]
  },
  {
   "cell_type": "markdown",
   "metadata": {},
   "source": [
    "### 体\n",
    "\n",
    "体とは，ある集合$G$とその要素に対する二項演算の加法 $a+b$ と乗法 $ab$ が定義されている数学の対象です．\n",
    "\n",
    "加法 $a+b$ について可換群：\n",
    "- 加法の結合則：$(a+b)+c=a+(b+c)$\n",
    "- 加法の単位元：$a+0=0+a=a$\n",
    "- 加法の逆元：$a+(-a)=(-a)+a=0$\n",
    "- 加法の交換則：$a+b=b+a$\n",
    "\n",
    "乗法 $a{\\times}b$ について，$0$を除く集合において可換群： \n",
    "- 乗法の結合則：$(ab)c=a(bc)$\n",
    "- 乗法の単位元：$a1=1a=a$\n",
    "- 乗法の逆元：$aa^{-1}=a^{-1}a=1$\n",
    "- 乗法の交換則：$ab=ba$\n",
    "\n",
    "分配則：\n",
    "- $a(b+c)=ab+ac$\n",
    "- $(a+b)c=ac+bc$"
   ]
  },
  {
   "cell_type": "markdown",
   "metadata": {},
   "source": [
    "### 実数の拡張としての複素数\n",
    "\n",
    "数の概念の拡張において，それまでの数学的構造を維持して，整合性を保つことが前提となります．\n",
    "実数から複素数への拡張においても「体」構造は維持されています．\n",
    "しかし，複素数において順序関係は成り立ちません．\n",
    "順序関係は，複素数への拡張の代償として捨ててしまった部分です．"
   ]
  },
  {
   "cell_type": "markdown",
   "metadata": {},
   "source": [
    "### 複素数の演算規則\n",
    "\n",
    "2つの複素数 $z_1=a+b{\\bf i}$ と $z_2=c+d{\\bf i}$ の加法および乗法は次の式で定義されます．\n",
    "\n",
    "> $z_1+z_2=(a+b{\\bf i})+(c+d{\\bf i})=(a+c)+(b+d){\\bf i}$\n",
    "\n",
    "> $z_1z_2=(a+b{\\bf i})(c+d{\\bf i})=(ab-cd)+(ad+bc){\\bf i}$\n"
   ]
  },
  {
   "cell_type": "markdown",
   "metadata": {},
   "source": [
    "*****\n",
    "## 行列による複素数の定義\n",
    "\n",
    "複素数 $a+b{\\bf i}$ を2次正方行列を使って，次のように定義します．\n",
    "\n",
    "> $a+b{\\bf i} \\simeq\n",
    "\\left(\\begin{array}{c}\n",
    "a & -b \\\\\n",
    "b &  a \\\\\n",
    "\\end{array}\\right)$\n",
    "\n",
    "ここで，記号$\\alpha \\simeq \\beta$は，$\\alpha$と$\\beta$を同じものと見なすということです．\n",
    "厳密には，両者は異なる数学的対象なので，同じものではなく，両者の間に数学的構造を維持する1対1対応があるということです．"
   ]
  },
  {
   "cell_type": "markdown",
   "metadata": {},
   "source": [
    "加法と乗法は，通常の行列演算の加法と乗法を使用します．すると，\n",
    "\n",
    "> $z_1+z_2 \\simeq\n",
    "\\left(\\begin{array}{c}\n",
    "a+c & -(b+d) \\\\\n",
    "b+d &  a+c \\\\\n",
    "\\end{array}\\right) $\n",
    "\n",
    "> $z_1z_2 \\simeq\n",
    "\\left(\\begin{array}{c}\n",
    "ab-cd & -(ad+bc) \\\\\n",
    "ad+bc &  ab-cd \\\\\n",
    "\\end{array}\\right) $\n",
    "\n",
    "となり，普通の複素数と同じ計算則となります．"
   ]
  },
  {
   "cell_type": "markdown",
   "metadata": {},
   "source": [
    "この行列を複素数と呼ぶことにすると，複素数の様々な値は，次のように表されます．\n",
    "\n",
    "> 実数：\n",
    "$\\left(\\begin{array}{c}\n",
    "a & 0 \\\\\n",
    "0 & a \\\\\n",
    "\\end{array}\\right)$\n",
    "\n",
    "> 加法の単位元：\n",
    "$ 0 \\simeq\n",
    "\\left(\\begin{array}{c}\n",
    "0 & 0 \\\\\n",
    "0 & 0 \\\\\n",
    "\\end{array}\\right)$\n",
    "\n",
    "> 乗法の単位元：\n",
    "$ 1 \\simeq\n",
    "\\left(\\begin{array}{c}\n",
    "1 & 0 \\\\\n",
    "0 & 1 \\\\\n",
    "\\end{array}\\right)$\n",
    "\n",
    "> 虚数単位：\n",
    "$ {\\bf i} \\simeq\n",
    "\\left(\\begin{array}{c}\n",
    "0 & -1 \\\\\n",
    "1 & 0 \\\\\n",
    "\\end{array}\\right)$\n"
   ]
  },
  {
   "cell_type": "markdown",
   "metadata": {},
   "source": [
    "*****\n",
    "## 回転と指数関数\n",
    "\n",
    "2次元ユークリッド平面での回転は，\n",
    "$R_{\\theta} = \\left(\\begin{array}{c} \\cos\\theta & -\\sin\\theta \\\\ \\sin\\theta & \\cos\\theta \\end{array}\\right)$\n",
    "で表されました．\n",
    "\n",
    "この行列の成分を見ると，$a=\\cos\\theta, b=\\sin\\theta$とすれば，複素数の行列表現と一致しています．\n",
    "すなわち，\n",
    "\n",
    "$\\cos\\theta + {\\bf i}\\sin\\theta \\simeq\n",
    "\\left(\\begin{array}{c} \\cos\\theta & -\\sin\\theta \\\\ \\sin\\theta & \\cos\\theta \\end{array}\\right)$\n",
    "\n",
    "となりますが，この左辺はオイラーの公式と一致するので，\n",
    "\n",
    "$\\mathrm{e}^{{\\bf i}\\theta} \\simeq\n",
    "\\left(\\begin{array}{c} \\cos\\theta & -\\sin\\theta \\\\ \\sin\\theta & \\cos\\theta \\end{array}\\right)$\n",
    "\n",
    "となり，虚数の指数関数は，複素平面上の回転であることが分かります．"
   ]
  },
  {
   "cell_type": "markdown",
   "metadata": {},
   "source": [
    "*****\n",
    "このように，線形代数は数学的構造を分かりやすく表現するための強力な道具になっています．\n",
    "その一つの例として，複素数を紹介しました．"
   ]
  }
 ],
 "metadata": {
  "kernelspec": {
   "display_name": "Python 3",
   "language": "python",
   "name": "python3"
  },
  "language_info": {
   "codemirror_mode": {
    "name": "ipython",
    "version": 3
   },
   "file_extension": ".py",
   "mimetype": "text/x-python",
   "name": "python",
   "nbconvert_exporter": "python",
   "pygments_lexer": "ipython3",
   "version": "3.6.1"
  }
 },
 "nbformat": 4,
 "nbformat_minor": 2
}
