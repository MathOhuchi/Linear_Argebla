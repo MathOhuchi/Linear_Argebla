{
 "cells": [
  {
   "cell_type": "markdown",
   "metadata": {},
   "source": [
    "# 総合演習問題 - 2\n",
    "\n",
    "次のデータは，ある果物の糖度に対する試薬の効果を測定したものです．\n",
    "各行はそれぞれの条件で育成した各グループごとの平均値です．\n",
    "\n",
    "このデータを元にして，日照時間，平均気温，試薬量を説明変数として糖度を目的変数とする回帰直線の式を求めよ．\n",
    "\n",
    "| 糖度 | 日照時間 | 平均気温 | 試薬量 |\n",
    "| :---:|:---:| :---:| :---:|\n",
    "| 19.0 | 199 | 28.1 | 1.44 |\n",
    "| 17.9 | 206 | 18.0 | 1.32 |\n",
    "| 19.6 | 196 | 24.8 | 1.24 |\n",
    "| 16.1 | 163 | 19.7 | 1.47 |\n",
    "| 12.7 | 146 | 24.9 | 1.39 |\n",
    "| 14.4 | 158 | 18.4 | 1.43 |\n",
    "| 16.0 | 140 | 21.2 | 1.49 |\n",
    "| 21.9 | 210 | 26.0 | 1.47 |\n",
    "| 13.8 | 165 | 25.8 | 1.22 |\n",
    "| 19.0 | 217 | 17.5 | 1.35 |\n",
    "\n",
    "ただし，糖度を（日照時間，平均温度，試薬量）より構成されるベクトル空間へ射影作用素を求めることを使って，Pythonで求めよ．  \n",
    "回帰直線の式は，\n",
    "\n",
    "> $[糖度] = 係数_1[日照時間] + 係数_2[平均温度] + 係数_3[試薬量] + 定数項$\n",
    "\n",
    "です．"
   ]
  },
  {
   "cell_type": "markdown",
   "metadata": {},
   "source": [
    "#### ヒント\n",
    "\n",
    "定数項も考慮して，回帰式の係数となる変数を $x_1$：日照時間，$x_2$：平均温度，$x_3$：試薬量，$x_4$：定数項，として，\n",
    "${\\bf x} =\n",
    "\\left(\\begin{array}{c}\n",
    "x_1 \\\\ x_2 \\\\ x_3 \\\\ x_4 \\\\\n",
    "\\end{array}\\right)$\n",
    "とします．  \n",
    "すると，これに対応する係数行列$\\bf A$および，目的変数を$\\bf b$として，行列方程式${\\bf Ax}={\\bf b}$を定義します．  \n",
    "このとき，ベクトル$\\bf b$を係数行列$\\bf A$の列ベクトル空間へ射影したときの係数は，\n",
    "\n",
    "> ${\\bf x} = ({\\bf A}^\\mathsf{T}{\\bf A})^{-1}{\\bf A}^\\mathsf{T}{\\bf b}$\n",
    "\n",
    "となります．"
   ]
  },
  {
   "cell_type": "markdown",
   "metadata": {},
   "source": [
    "Pythonでデータ入力が必要になりますので，下記の記述をコピーしてご使用ください．\n",
    "\n",
    "```Python\n",
    "A = np.array([\n",
    "    [ 199, 28.1, 1.44, 1 ],\n",
    "    [ 206, 18.0, 1.32, 1 ],\n",
    "    [ 196, 24.8, 1.24, 1 ],\n",
    "    [ 163, 19.7, 1.47, 1 ],\n",
    "    [ 146, 24.9, 1.39, 1 ],\n",
    "    [ 158, 18.4, 1.43, 1 ],\n",
    "    [ 140, 21.2, 1.49, 1 ],\n",
    "    [ 210, 26.0, 1.47, 1 ],\n",
    "    [ 165, 25.8, 1.22, 1 ],\n",
    "    [ 217, 17.5, 1.35, 1 ]])\n",
    "\n",
    "b = np.array([19.0,17.9,19.6,16.1,12.7,14.4,16.0,21.9,13.8,19.0])\n",
    "```"
   ]
  },
  {
   "cell_type": "markdown",
   "metadata": {},
   "source": [
    "*****\n",
    "## 解答\n",
    "\n",
    "まず最初にNumPyライブラリーをインポートします．"
   ]
  },
  {
   "cell_type": "code",
   "execution_count": 1,
   "metadata": {
    "collapsed": true
   },
   "outputs": [],
   "source": [
    "import numpy as np"
   ]
  },
  {
   "cell_type": "markdown",
   "metadata": {},
   "source": [
    "方程式${\\bf Ax}={\\bf b}$の係数行列$\\bf A$と定数ベクトル$\\bf b$を定義します．"
   ]
  },
  {
   "cell_type": "code",
   "execution_count": 2,
   "metadata": {},
   "outputs": [
    {
     "data": {
      "text/plain": [
       "array([[ 199.  ,   28.1 ,    1.44,    1.  ],\n",
       "       [ 206.  ,   18.  ,    1.32,    1.  ],\n",
       "       [ 196.  ,   24.8 ,    1.24,    1.  ],\n",
       "       [ 163.  ,   19.7 ,    1.47,    1.  ],\n",
       "       [ 146.  ,   24.9 ,    1.39,    1.  ],\n",
       "       [ 158.  ,   18.4 ,    1.43,    1.  ],\n",
       "       [ 140.  ,   21.2 ,    1.49,    1.  ],\n",
       "       [ 210.  ,   26.  ,    1.47,    1.  ],\n",
       "       [ 165.  ,   25.8 ,    1.22,    1.  ],\n",
       "       [ 217.  ,   17.5 ,    1.35,    1.  ]])"
      ]
     },
     "execution_count": 2,
     "metadata": {},
     "output_type": "execute_result"
    }
   ],
   "source": [
    "A = np.array([\n",
    "    [ 199, 28.1, 1.44, 1 ],\n",
    "    [ 206, 18.0, 1.32, 1 ],\n",
    "    [ 196, 24.8, 1.24, 1 ],\n",
    "    [ 163, 19.7, 1.47, 1 ],\n",
    "    [ 146, 24.9, 1.39, 1 ],\n",
    "    [ 158, 18.4, 1.43, 1 ],\n",
    "    [ 140, 21.2, 1.49, 1 ],\n",
    "    [ 210, 26.0, 1.47, 1 ],\n",
    "    [ 165, 25.8, 1.22, 1 ],\n",
    "    [ 217, 17.5, 1.35, 1 ]])\n",
    "A"
   ]
  },
  {
   "cell_type": "code",
   "execution_count": 3,
   "metadata": {},
   "outputs": [
    {
     "data": {
      "text/plain": [
       "array([ 19. ,  17.9,  19.6,  16.1,  12.7,  14.4,  16. ,  21.9,  13.8,  19. ])"
      ]
     },
     "execution_count": 3,
     "metadata": {},
     "output_type": "execute_result"
    }
   ],
   "source": [
    "b = np.array([19.0,17.9,19.6,16.1,12.7,14.4,16.0,21.9,13.8,19.0])\n",
    "b"
   ]
  },
  {
   "cell_type": "markdown",
   "metadata": {},
   "source": [
    "係数行列のランクを調べます．\n",
    "各列ベクトルが線形独立であれば，$\\text{Rank}({\\bf A})=4$ となります．"
   ]
  },
  {
   "cell_type": "code",
   "execution_count": 4,
   "metadata": {},
   "outputs": [
    {
     "data": {
      "text/plain": [
       "4"
      ]
     },
     "execution_count": 4,
     "metadata": {},
     "output_type": "execute_result"
    }
   ],
   "source": [
    "np.linalg.matrix_rank(A)"
   ]
  },
  {
   "cell_type": "markdown",
   "metadata": {},
   "source": [
    "これにより，${\\bf A}^\\mathsf{T}{\\bf A}$のランクも4となるので，この逆行列が存在します．\n",
    "したがって，行列$\\bf A$の列ベクトル空間への射影ベクトルの係数を求める作用素は，\n",
    "\n",
    "> $({\\bf A}^\\mathsf{T}{\\bf A})^{-1}{\\bf A}^\\mathsf{T}$\n",
    "\n",
    "となります．Pythonでは，次の命令になります．\n",
    "\n",
    "> numpy.linalg.inv(A.T.dot(A)).dot(A.T)"
   ]
  },
  {
   "cell_type": "code",
   "execution_count": 5,
   "metadata": {},
   "outputs": [
    {
     "data": {
      "text/plain": [
       "array([[  3.49660195e-03,   3.02934025e-03,   8.83115989e-04,\n",
       "         -1.60515223e-03,  -4.80404569e-03,  -2.78149469e-03,\n",
       "         -4.70501701e-03,   5.36518700e-03,  -3.81160311e-03,\n",
       "          4.93306754e-03],\n",
       "       [  4.40615243e-02,  -3.42035097e-02,   1.31336590e-02,\n",
       "         -1.77186863e-02,   1.76614648e-02,  -2.87222087e-02,\n",
       "         -6.50651715e-03,   2.97889940e-02,   1.91780493e-02,\n",
       "         -3.66727696e-02],\n",
       "       [  1.12533796e+00,  -6.63070183e-01,  -1.56867028e+00,\n",
       "          8.55941175e-01,  -1.75473024e-01,   2.49974509e-01,\n",
       "          9.18247285e-01,   1.55590632e+00,  -2.11783376e+00,\n",
       "         -1.80360004e-01],\n",
       "       [ -3.07334602e+00,   1.23860851e+00,   1.81422214e+00,\n",
       "         -3.96375981e-01,   8.10908673e-01,   8.99730635e-01,\n",
       "         -1.76108440e-01,  -3.68446121e+00,   3.28257938e+00,\n",
       "          2.84242317e-01]])"
      ]
     },
     "execution_count": 5,
     "metadata": {},
     "output_type": "execute_result"
    }
   ],
   "source": [
    "Solve = np.linalg.inv(A.T.dot(A)).dot(A.T)\n",
    "Solve"
   ]
  },
  {
   "cell_type": "markdown",
   "metadata": {},
   "source": [
    "この作用素を目的変数であるベクトル$\\bf b$に作用させれば，回帰式の係数$\\bf x$が求まります．"
   ]
  },
  {
   "cell_type": "code",
   "execution_count": 6,
   "metadata": {},
   "outputs": [
    {
     "data": {
      "text/plain": [
       "array([  0.09440733,   0.12392496,  10.03166493, -16.59795628])"
      ]
     },
     "execution_count": 6,
     "metadata": {},
     "output_type": "execute_result"
    }
   ],
   "source": [
    "x = Solve.dot(b)\n",
    "x"
   ]
  },
  {
   "cell_type": "markdown",
   "metadata": {},
   "source": [
    "さらに，目的変数$\\bf b$を行列$\\bf A$の列ベクトル空間に射影した値は次のようになります．"
   ]
  },
  {
   "cell_type": "code",
   "execution_count": 7,
   "metadata": {},
   "outputs": [
    {
     "data": {
      "text/plain": [
       "array([ 20.11699108,  18.32240054,  17.41848375,  15.97830753,\n",
       "        14.2152595 ,  14.94390184,  14.19345968,  21.19617925,\n",
       "        14.41514819,  19.59986864])"
      ]
     },
     "execution_count": 7,
     "metadata": {},
     "output_type": "execute_result"
    }
   ],
   "source": [
    "A.dot(x)"
   ]
  },
  {
   "cell_type": "markdown",
   "metadata": {},
   "source": [
    "以上で，線形代数の射影による回帰式が求まりました．\n",
    "*****"
   ]
  }
 ],
 "metadata": {
  "kernelspec": {
   "display_name": "Python 3",
   "language": "python",
   "name": "python3"
  },
  "language_info": {
   "codemirror_mode": {
    "name": "ipython",
    "version": 3
   },
   "file_extension": ".py",
   "mimetype": "text/x-python",
   "name": "python",
   "nbconvert_exporter": "python",
   "pygments_lexer": "ipython3",
   "version": "3.6.1"
  }
 },
 "nbformat": 4,
 "nbformat_minor": 2
}
