{
 "cells": [
  {
   "cell_type": "markdown",
   "metadata": {},
   "source": [
    "## 写像\n",
    "\n",
    "数学の理論を展開する上において写像の概念を使わずに済ますことは不可能です．\n",
    "線形代数においても写像の概念が中心的役割を果たします．実は，行列は写像そのものとして扱われます．\n",
    "\n",
    "ここでは，まず写像の定義を明確にします．"
   ]
  },
  {
   "cell_type": "markdown",
   "metadata": {},
   "source": [
    "### 写像の定義\n",
    "\n",
    "2つの集合$X$と$Y$があり，<font color=blue>$X$の任意の要素$x$に対して$Y$の要素$y$が一意的に対応する</font>とき，この対応関係を<font color=blue>**写像**</font>と言います．\n",
    "この対応関係を記号$f$を使って表す場合，$y=f(x)$と記述します．\n",
    "また，この写像を次のように表現します．\n",
    "\n",
    "> $f: X \\rightarrow Y$\n",
    "\n",
    "写像の定義において重要な点は，$Y$の要素$y$が**一意的**であることです．\n",
    "「一意的である」という言葉の意味は，$x$に対応する$Y$の要素がただ一つであることです．\n",
    "\n",
    "この写像$f$について$X$を**定義域**と言い，$Y$を**終域**と言います．\n",
    "\n",
    "また，$X$の全ての要素$x$に対応する$Y$の要素 $f(x)$全てを合わせた集合を**値域**と言い，$f(X)$と書きます．\n",
    "\n",
    "> $f(X) = \\{y \\mid y = f(x) ,\\, \\, \\forall x \\in X \\}$\n"
   ]
  },
  {
   "cell_type": "markdown",
   "metadata": {},
   "source": [
    "### 全射・単射・全単射\n",
    "\n",
    "写像$f$の値域 $f(X)$は集合$Y$の部分集合です．\n",
    "\n",
    "> $f(X) \\subset Y$\n",
    "\n",
    "しかし，値域 $f(X)$が集合$Y$と一致する保証はありません．\n",
    "\n",
    "また，ある$y \\in Y$に対応する$X$の要素が唯一つである保証もありません．"
   ]
  },
  {
   "cell_type": "markdown",
   "metadata": {},
   "source": [
    "#### 全射\n",
    "\n",
    "写像 $f$の値域が終域$Y$と一致するとき，すなわち $f(X)=Y$のとき，この写像 $f$を集合$X$から集合$Y$への<font color=blue>全射</font>（surjection）と言います．\n"
   ]
  },
  {
   "cell_type": "markdown",
   "metadata": {},
   "source": [
    "#### 単射\n",
    "\n",
    "任意の$y \\in f(X)$に対して $y = f(x)$となる$x \\in X$がただ一つに限るとき，この写像 $f$を集合$X$から集合$Y$への<font color=blue>単射</font>（injection）と言います．"
   ]
  },
  {
   "cell_type": "markdown",
   "metadata": {},
   "source": [
    "#### 全単射\n",
    "\n",
    "写像 $f$が集合$X$から集合$Y$への全射かつ単射であるとき，この写像を集合$X$から集合$Y$への<font color=blue>全単射</font>（bijection）と言います．"
   ]
  },
  {
   "cell_type": "markdown",
   "metadata": {},
   "source": [
    "### 逆写像\n",
    "\n",
    "$f$が集合$X$から集合$Y$への全単射であるとき，任意の$y \\in Y$に対して一意的に$x \\in X$が対応して$y=f(x)$となっています．\n",
    "これを集合$Y$から集合$X$への写像と見なすことができます．この写像を $f^{-1}$と記載して，写像 $f$の<font color=blue>逆写像</font>と言います．\n",
    "\n",
    "> $f^{-1}:Y \\rightarrow X$\n",
    "\n",
    "定義から $f^{-1}$の逆写像は元の写像となります．すなわち，$(f^{-1})^{-1} = f$となっています．"
   ]
  },
  {
   "cell_type": "markdown",
   "metadata": {},
   "source": [
    "### 合成写像\n",
    "\n",
    "$f$を集合$X$から集合$Y$への写像とし，$g$を集合$Y$から集合$Z$への写像とします．\n",
    "このとき写像 $f$と$g$を続けて行うことで，集合$X$から集合$Z$への写像が定義できます．\n",
    "これを<font color=blue>合成写像</font>と言い，$g \\circ f$と記載します．\n",
    "\n",
    "> $g\\circ f : X \\xrightarrow{f} Y \\xrightarrow{g} Z$\n",
    "\n",
    "合成写像が成立する条件として，写像 $f$の値域 $f(X)$が写像 $g$の定義域に含まれている必要があります．"
   ]
  },
  {
   "cell_type": "markdown",
   "metadata": {
    "collapsed": true
   },
   "source": [
    "#### 結合法則\n",
    "\n",
    "$f$を集合$A$から集合$B$への写像とし，$g$を集合$B$から集合$C$への写像とし，$h$を集合$C$から集合$D$への写像とします．\n",
    "このとき集合$A$から集合$D$への合成写像を構成することができますが，合成する順序に依存しません．\n",
    "\n",
    "> $h \\circ (g \\circ f) = (h \\circ g) \\circ f $\n",
    "\n",
    "すなわち，$f$と$g$を合成した写像に後から$h$を合成しても，$f$に対して$g$と$h$の合成写像を合成しても結果は変わりません．\n",
    "このことを<font color=blue>結合法則</font>と言います．\n",
    "したがって，3つの写像の合成は括弧を外して表現することができます．\n",
    "\n",
    "> $h \\circ g \\circ f : A \\xrightarrow{f} B \\xrightarrow{g} C \\xrightarrow{h} D$\n",
    "\n"
   ]
  },
  {
   "cell_type": "markdown",
   "metadata": {},
   "source": [
    "### 変換\n",
    "\n",
    "集合$X$から集合$X$自身への写像を<font color=blue>変換</font>と言います．\n",
    "写像 $f$が集合$X$上の変換であるとすると，\n",
    "\n",
    "> $f:X \\rightarrow X$\n",
    "\n",
    "となります．\n",
    "\n",
    "変換の場合，常に同じ集合に留まるので複数の変換を続けて合成することが可能となります．\n",
    "$f,g$を集合$X$上の変換として，$f$と$g$を連続して実施する変換を合成変換と言い，$g \\circ f$と書きます．これも集合$X$上の変換となります．\n",
    "\n",
    "> $g \\circ f : X \\rightarrow X$\n",
    "\n",
    "任意の$x \\in X$に対して同じ$x$を対応させる変換，すなわち，全く変化させない変換を恒等変換と言い，$Id$と記載します．\n",
    "\n",
    "> $Id : x \\in X \\mapsto x$"
   ]
  },
  {
   "cell_type": "markdown",
   "metadata": {
    "collapsed": true
   },
   "source": [
    "*****\n",
    "写像の概念と記載方法について慣れておきましょう．"
   ]
  }
 ],
 "metadata": {
  "kernelspec": {
   "display_name": "Python 3",
   "language": "python",
   "name": "python3"
  },
  "language_info": {
   "codemirror_mode": {
    "name": "ipython",
    "version": 3
   },
   "file_extension": ".py",
   "mimetype": "text/x-python",
   "name": "python",
   "nbconvert_exporter": "python",
   "pygments_lexer": "ipython3",
   "version": "3.6.1"
  }
 },
 "nbformat": 4,
 "nbformat_minor": 2
}
