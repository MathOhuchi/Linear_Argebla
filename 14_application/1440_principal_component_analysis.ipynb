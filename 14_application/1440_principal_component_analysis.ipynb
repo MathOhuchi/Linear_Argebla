{
 "cells": [
  {
   "cell_type": "markdown",
   "metadata": {},
   "source": [
    "# 主成分分析\n",
    "\n",
    "エルミート行列の対角化の応用である主成分分析について解説します．\n",
    "主成分分析とは，多変量解析の1つで，情報を縮約する手法です．\n",
    "一般に多変量解析とは，扱う変量の個数が多いのでそのままでは見通しが効かないようなデータについて，そのデータの特徴を代表するような新しい指標を作り，少ない変量によってデータ全体を取り扱うための手法です．\n"
   ]
  },
  {
   "cell_type": "markdown",
   "metadata": {},
   "source": [
    "まず，対象となるデータがあります．\n",
    "\n",
    "| Key | Variate_1 | Variate_2 | $\\cdots$ | Variate_n |\n",
    "|:---:|:---:|:---:|:---:|:---:|\n",
    "| $Id_1$ | $x_{11}$ | $x_{12}$ | $\\cdots$ | $x_{1n}$ |\n",
    "| $Id_2$ | $x_{21}$ | $x_{22}$ | $\\cdots$ | $x_{2n}$ |\n",
    "| $Id_3$ | $x_{31}$ | $x_{32}$ | $\\cdots$ | $x_{3n}$ |\n",
    "| $\\vdots$ | $\\vdots$ | $\\vdots$ | $\\cdots$ | $\\vdots$ |\n",
    "| $Id_m$ | $x_{m1}$ | $x_{m2}$ | $\\cdots$ | $x_{mn}$ |\n",
    "\n",
    "変量の説明：\n",
    "- Key：個々の対象を特定するための識別子\n",
    "- Variate_1～Variate_n：実数値を取る個別の変量\n",
    "\n",
    "このデータにおいて，個々の対象は$n$個の変量によって特徴付けられています．\n",
    "この変量の個数が多いと，対象を分析したり比較することが人間の目では難しくなります．\n",
    "そこで，$n$個の変量を特徴を持った少ない変量で表せると，人間による判断がしやすくなります．\n",
    "例えば，この$n$個の変量を2つの変量で表します．"
   ]
  },
  {
   "cell_type": "markdown",
   "metadata": {},
   "source": [
    "必要になるのは分散共分散行列ですが，その基礎となる統計量の計算式を記載します．\n",
    "\n",
    "平均値： $\\displaystyle \\overline{x}_i = \\frac{1}{m}{\\sum_{k=1}^{m}x_{ki}}$\n",
    "\n",
    "分散： $\\displaystyle \\sigma_i^2 = \\frac{1}{m}\\sum_{k=1}^{m}{(x_{ki}-\\overline{x}_i)}^2$\n",
    "\n",
    "共分散： $\\displaystyle \\sigma_{ij} = \\frac{1}{m}{\\sum_{k=1}^{m}{(x_{ki}-\\overline{x}_i)}{(x_{kj}-\\overline{x}_j)}}$\n",
    "\n",
    "定義より，${\\sigma_i^2}=\\sigma_{ii}$および，$\\sigma_{ij}=\\sigma_{ji}$ということが分かります．"
   ]
  },
  {
   "cell_type": "markdown",
   "metadata": {},
   "source": [
    "全ての変量の分散および共分散をまとめた行列を分散共分散行列と言い，ここでは$\\bf S$で表します．\n",
    "\n",
    "$${\\bf S}=\n",
    "\\left(\\begin{array}{c}\n",
    "\\sigma_1^2 & \\sigma_{12} & \\cdots & \\sigma_{1n} \\\\\n",
    "\\sigma_{21} & \\sigma_2^2 & \\ddots & \\sigma_{2n} \\\\\n",
    "\\vdots & \\ddots & \\ddots & \\vdots \\\\\n",
    "\\sigma_{n1} & \\sigma_{n2} & \\cdots & \\sigma_n^2 \\\\\n",
    "\\end{array}\\right)$$\n",
    "\n",
    "この分散共分散行列を求めるところまでは，基礎的な記述統計です．\n",
    "この次のステップは，この分散共分散行列を$n$次元ユークリッド空間上の変換とみなして対角化を行います．\n",
    "この部分が主成分分析の中核部分であり，線形代数が担っているところです．\n",
    "\n",
    "分散共分散行列の各成分は全て実数です．\n",
    "定義により$\\sigma_{ij}=\\sigma_{ji}$となっているので，対称行列になっています．\n",
    "したがって，対称行列の対角化定理を適用することができます．"
   ]
  },
  {
   "cell_type": "markdown",
   "metadata": {},
   "source": [
    "分散共分散行列$\\bf S$の固有値を $\\lambda_1,\\lambda_2,\\cdots,\\lambda_n$とし，対応する固有ベクトルを ${\\bf u}_1,{\\bf u}_2,\\cdots,{\\bf u}_n$とします．\n",
    "\n",
    "このインデックスの付け方は，固有値の降順\n",
    "$\\lambda_1 \\geq \\lambda_2 \\geq \\cdots \\geq \\lambda_n \\geq 0$\n",
    "とします．\n",
    "\n",
    "データ\n",
    "${\\bf x}_i = \n",
    "\\left(\\begin{array}{c}\n",
    "x_{i1} \\\\ x_{i2} \\\\ \\vdots \\\\ x_{in} \\\\\n",
    "\\end{array}\\right)$\n",
    "を固有ベクトルを基底として表現すると，次のようになります．\n",
    "\n",
    "> <font color=green>${\\bf x}_i =\n",
    "\\left<{\\bf u}_1,{\\bf x}_i\\right>{\\bf u}_1+\n",
    "\\left<{\\bf u}_2,{\\bf x}_i\\right>{\\bf u}_2+\n",
    "\\cdots+\n",
    "\\left<{\\bf u}_n,{\\bf x}_i\\right>{\\bf u}_n$ </font>\n"
   ]
  },
  {
   "cell_type": "markdown",
   "metadata": {},
   "source": [
    "固有値の総和に対するある固有値の比率を寄与率と言います．\n",
    "\n",
    "> $\\displaystyle \\text{主成分}{\\bf u}_i\\text{の寄与率} = \\frac{\\lambda_i}{\\lambda_1+\\lambda_2+\\cdots+\\lambda_n}$\n",
    "\n",
    "固有値が大きいということは，その固有ベクトル方向へのデータのバラツキが大きいということです．\n",
    "逆に固有値が小さい場合は，その固有ベクトル方向へのデータのバラツキが小さいので，その固有ベクトル成分を無視し近似することができます．\n",
    "例えば，データ${\\bf x}_i$を第2主成分までの近似にすると，次式のようになります．\n",
    "\n",
    "> <font color=green>${\\bf x}_i\\text{の第2主成分までの近似} \\approx \n",
    "\\left<{\\bf u}_1,{\\bf x}_i\\right>{\\bf u}_1 + \\left<{\\bf u}_2,{\\bf x}_i\\right>{\\bf u}_2$</font>\n",
    "\n",
    "以上が主成分分析についての線形代数からの説明です．"
   ]
  },
  {
   "cell_type": "markdown",
   "metadata": {},
   "source": [
    "*****\n",
    "主成分分析の具体的な問題について線形代数によって解くプロセスをPythonで実践します．"
   ]
  },
  {
   "cell_type": "markdown",
   "metadata": {},
   "source": [
    "### 問題設定\n",
    "\n",
    "学生20名について5科目のテスト結果があります．\n",
    "このテスト結果から累積寄与率75%以上の主成分を求めます．\n",
    "\n",
    "| Student | Algebra | Analysis | Calculus | Geometry | Logic |\n",
    ":---:|:---:|:---:|:---:|:---:|:---:|\n",
    "| s01 | 73 | 61 | 69 | 34 | 70 |\n",
    "| s02 | 68 | 67 | 54 | 73 | 73 |\n",
    "| s03 | 52 | 55 | 69 | 45 | 50 |\n",
    "| s04 | 53 | 55 | 50 | 80 | 52 |\n",
    "| s05 | 38 | 55 | 77 | 33 | 47 |\n",
    "| s06 | 58 | 44 | 33 | 49 | 48 |\n",
    "| s07 | 55 | 70 | 67 | 50 | 62 |\n",
    "| s08 | 46 | 48 | 31 | 42 | 44 |\n",
    "| s09 | 52 | 52 | 47 | 33 | 51 |\n",
    "| s10 | 70 | 49 | 44 | 44 | 56 |\n",
    "| s11 | 62 | 50 | 46 | 52 | 67 |\n",
    "| s12 | 50 | 52 | 42 | 48 | 53 |\n",
    "| s13 | 50 | 50 | 45 | 94 | 50 |\n",
    "| s14 | 91 | 50 | 49 | 89 | 75 |\n",
    "| s15 | 47 | 57 | 98 | 49 | 49 |\n",
    "| s16 | 48 | 50 | 28 | 39 | 48 |\n",
    "| s17 | 49 | 50 | 45 | 53 | 46 |\n",
    "| s18 | 49 | 50 | 50 | 48 | 47 |\n",
    "| s19 | 27 | 40 | 28 | 48 | 38 |\n",
    "| s20 | 51 | 55 | 61 | 53 | 47 |\n"
   ]
  },
  {
   "cell_type": "markdown",
   "metadata": {},
   "source": [
    "## Pythonによる解法\n",
    "\n",
    "Pythonを使って線形代数の手法によって，主成分分析を解いていきます．\n",
    "\n",
    "まずは，NumPyライブラリーをインポートします．"
   ]
  },
  {
   "cell_type": "code",
   "execution_count": 1,
   "metadata": {
    "collapsed": true
   },
   "outputs": [],
   "source": [
    "import numpy as np"
   ]
  },
  {
   "cell_type": "markdown",
   "metadata": {},
   "source": [
    "テスト結果のデータを変数として定義します．\n",
    "1種目のテスト結果を行データとして定義します．"
   ]
  },
  {
   "cell_type": "code",
   "execution_count": 2,
   "metadata": {
    "collapsed": true
   },
   "outputs": [],
   "source": [
    "testResults = np.array([\n",
    "[73,68,52,53,38,58,55,46,52,70,62,50,50,91,47,48,49,49,27,51],\n",
    "[61,67,55,55,55,44,70,48,52,49,50,52,50,50,57,50,50,50,40,55],\n",
    "[69,54,69,50,77,33,67,31,47,44,46,42,45,49,98,28,45,50,28,61],\n",
    "[34,73,45,80,33,49,50,42,33,44,52,48,94,89,49,39,53,48,48,53],\n",
    "[70,73,50,52,47,48,62,44,51,56,67,53,50,75,49,48,46,47,38,47]])"
   ]
  },
  {
   "cell_type": "markdown",
   "metadata": {},
   "source": [
    "分散共分散行列は，<font color=green>numpy.cov()</font>関数によって求めます．\n",
    "\n",
    "> np.cov(testResults,bias=True)\n",
    "\n",
    "分散共分散の計算式の分母になる数を全体のデータ数にするために，<font color=green>bias=True</font>を引き数で与える必要があります．\n",
    "biasのデフォルトはFalseで，その場合は分母が$n-1$となります．"
   ]
  },
  {
   "cell_type": "code",
   "execution_count": 3,
   "metadata": {},
   "outputs": [
    {
     "data": {
      "text/plain": [
       "array([[ 174.6475,   25.75  ,   15.4075,   82.34  ,  114.8575],\n",
       "       [  25.75  ,   46.4   ,   74.15  ,    5.25  ,   37.55  ],\n",
       "       [  15.4075,   74.15  ,  296.0275,  -29.87  ,   35.6775],\n",
       "       [  82.34  ,    5.25  ,  -29.87  ,  292.26  ,   57.38  ],\n",
       "       [ 114.8575,   37.55  ,   35.6775,   57.38  ,  100.1275]])"
      ]
     },
     "execution_count": 3,
     "metadata": {},
     "output_type": "execute_result"
    }
   ],
   "source": [
    "Cov = np.cov(testResults,bias=True)\n",
    "Cov"
   ]
  },
  {
   "cell_type": "markdown",
   "metadata": {},
   "source": [
    "分散共分散行列の固有値と固有ベクトルを<font color=green>numpy.linalg.eig()</font>関数によって求めます．\n",
    "\n",
    "> eigen_values,eigen_vectors = np.linalg.eig(Cov)"
   ]
  },
  {
   "cell_type": "code",
   "execution_count": 4,
   "metadata": {
    "collapsed": true
   },
   "outputs": [],
   "source": [
    "eigen_values,eigen_vectors = np.linalg.eig(Cov)"
   ]
  },
  {
   "cell_type": "markdown",
   "metadata": {},
   "source": [
    "固有値を確認します．"
   ]
  },
  {
   "cell_type": "code",
   "execution_count": 5,
   "metadata": {},
   "outputs": [
    {
     "data": {
      "text/plain": [
       "array([   7.81354792,   28.49112656,  159.08461596,  380.79879371,\n",
       "        333.27441584])"
      ]
     },
     "execution_count": 5,
     "metadata": {},
     "output_type": "execute_result"
    }
   ],
   "source": [
    "eigen_values"
   ]
  },
  {
   "cell_type": "markdown",
   "metadata": {},
   "source": [
    "固有値および寄与率，累積寄与率をまとめると次表になります．\n",
    "固有値の並び順を降順にしています．\n",
    "\n",
    "|  | 固有値 | 寄与率 | 累積寄与率 | 配列のインデックス |\n",
    "|:---:|:---:|:---:|:---:|:---:|\n",
    "| $\\lambda_1$ | 381 | 41.9 % | 41.9 % | 3 |\n",
    "| $\\lambda_2$ | 333 | 36.6 % | 78.5 % | 4 |\n",
    "| $\\lambda_3$ | 159 | 17.5 % | 96.0 % | 2 |\n",
    "| $\\lambda_4$ |  28 |  3.1 % | 99.1 % | 1 |\n",
    "| $\\lambda_5$ |   8 |  0.9 % | 100 %  | 0 |\n",
    "\n",
    "第2主成分までの累積寄与率が78.5%なので，テスト結果を第1主成分と第2主成分で近似します．\n",
    "\n",
    "固有ベクトルを確認しますが，ここで注意すべきことは eigen_values に格納されている固有値が降順になっていないことです．\n",
    "上表の配列のインデックスに注意して固有ベクトルを抽出します．"
   ]
  },
  {
   "cell_type": "code",
   "execution_count": 6,
   "metadata": {
    "scrolled": true
   },
   "outputs": [
    {
     "data": {
      "text/plain": [
       "array([[-0.40242074,  0.43135763, -0.60069424, -0.53580023,  0.06381759],\n",
       "       [-0.57500134, -0.76816117, -0.02943167, -0.12363395,  0.25129726],\n",
       "       [ 0.08110461,  0.2418918 ,  0.32089346, -0.11821135,  0.90441355],\n",
       "       [-0.00713542, -0.00351944,  0.61518511, -0.72425273, -0.31135506],\n",
       "       [ 0.70767375, -0.40661406, -0.39607433, -0.3988945 ,  0.1336831 ]])"
      ]
     },
     "execution_count": 6,
     "metadata": {},
     "output_type": "execute_result"
    }
   ],
   "source": [
    "eigen_vectors"
   ]
  },
  {
   "cell_type": "markdown",
   "metadata": {},
   "source": [
    "第1固有ベクトルは，eigen_vectors[:,3]となります．"
   ]
  },
  {
   "cell_type": "code",
   "execution_count": 7,
   "metadata": {},
   "outputs": [
    {
     "data": {
      "text/plain": [
       "array([-0.53580023, -0.12363395, -0.11821135, -0.72425273, -0.3988945 ])"
      ]
     },
     "execution_count": 7,
     "metadata": {},
     "output_type": "execute_result"
    }
   ],
   "source": [
    "eigen_vectors[:,3]"
   ]
  },
  {
   "cell_type": "markdown",
   "metadata": {},
   "source": [
    "第2固有ベクトルは，eigen_vectors[:,4]となります．"
   ]
  },
  {
   "cell_type": "code",
   "execution_count": 8,
   "metadata": {},
   "outputs": [
    {
     "data": {
      "text/plain": [
       "array([ 0.06381759,  0.25129726,  0.90441355, -0.31135506,  0.1336831 ])"
      ]
     },
     "execution_count": 8,
     "metadata": {},
     "output_type": "execute_result"
    }
   ],
   "source": [
    "eigen_vectors[:,4]"
   ]
  },
  {
   "cell_type": "markdown",
   "metadata": {},
   "source": [
    "さて，最初の学生s01の第1主成分と第2主成分を求めてみます．\n",
    "\n",
    "まず，学生s01のテストデータは，testResults[0:5,0]として取り出せます．"
   ]
  },
  {
   "cell_type": "code",
   "execution_count": 9,
   "metadata": {},
   "outputs": [
    {
     "data": {
      "text/plain": [
       "array([73, 61, 69, 34, 70])"
      ]
     },
     "execution_count": 9,
     "metadata": {},
     "output_type": "execute_result"
    }
   ],
   "source": [
    "testResults[0:5,0]"
   ]
  },
  {
   "cell_type": "markdown",
   "metadata": {},
   "source": [
    "第1主成分は第1固有ベクトルへの射影 $\\left<{\\bf u}_1,{\\bf x}_1\\right>$なので，次式で求めます．\n",
    "\n",
    "> eigen_vectors[:,3].dot(testResults[0:5,0])"
   ]
  },
  {
   "cell_type": "code",
   "execution_count": 10,
   "metadata": {},
   "outputs": [
    {
     "data": {
      "text/plain": [
       "-107.35887859672198"
      ]
     },
     "execution_count": 10,
     "metadata": {},
     "output_type": "execute_result"
    }
   ],
   "source": [
    "eigen_vectors[:,3].dot(testResults[0:5,0])"
   ]
  },
  {
   "cell_type": "markdown",
   "metadata": {},
   "source": [
    "第2主成分は第2固有値への射影 $\\left<{\\bf u}_2,{\\bf x}_1\\right>$なので，次式で求めます．\n",
    "\n",
    "> eigen_vectors[:,4].dot(testResults[0:5,0])"
   ]
  },
  {
   "cell_type": "code",
   "execution_count": 11,
   "metadata": {},
   "outputs": [
    {
     "data": {
      "text/plain": [
       "81.16409623381665"
      ]
     },
     "execution_count": 11,
     "metadata": {},
     "output_type": "execute_result"
    }
   ],
   "source": [
    "eigen_vectors[:,4].dot(testResults[0:5,0])"
   ]
  },
  {
   "cell_type": "markdown",
   "metadata": {},
   "source": [
    "学生s01のテストデータを第1主成分と第2主成分で近似するには，\n",
    "$\\left<{\\bf u}_1,{\\bf x}_1\\right>{\\bf u}_1 + \\left<{\\bf u}_2,{\\bf x}_1\\right>{\\bf u}_2$\n",
    "を計算します．"
   ]
  },
  {
   "cell_type": "code",
   "execution_count": 12,
   "metadata": {},
   "outputs": [
    {
     "data": {
      "text/plain": [
       "array([ 62.70260868,  33.66951665,  86.09694594,  52.48410894,  53.6751344 ])"
      ]
     },
     "execution_count": 12,
     "metadata": {},
     "output_type": "execute_result"
    }
   ],
   "source": [
    "eigen_vectors[:,3].dot(testResults[0:5,0])*eigen_vectors[:,3] + \\\n",
    "eigen_vectors[:,4].dot(testResults[0:5,0])*eigen_vectors[:,4]"
   ]
  },
  {
   "cell_type": "markdown",
   "metadata": {},
   "source": [
    "ちなみに，第5主成分まで全ての和をとると，元のデータに一致します．"
   ]
  },
  {
   "cell_type": "code",
   "execution_count": 13,
   "metadata": {},
   "outputs": [
    {
     "data": {
      "text/plain": [
       "array([ 73.,  61.,  69.,  34.,  70.])"
      ]
     },
     "execution_count": 13,
     "metadata": {},
     "output_type": "execute_result"
    }
   ],
   "source": [
    "eigen_vectors[:,0].dot(testResults[0:5,0])*eigen_vectors[:,0] + \\\n",
    "eigen_vectors[:,1].dot(testResults[0:5,0])*eigen_vectors[:,1] + \\\n",
    "eigen_vectors[:,2].dot(testResults[0:5,0])*eigen_vectors[:,2] + \\\n",
    "eigen_vectors[:,3].dot(testResults[0:5,0])*eigen_vectors[:,3] + \\\n",
    "eigen_vectors[:,4].dot(testResults[0:5,0])*eigen_vectors[:,4] "
   ]
  },
  {
   "cell_type": "markdown",
   "metadata": {},
   "source": [
    "全ての学生の第1主成分を求めるには，次の式を実行します．\n",
    "\n",
    "> eigen_vectors[:,3].dot(testResults[0:5,:])"
   ]
  },
  {
   "cell_type": "code",
   "execution_count": 14,
   "metadata": {},
   "outputs": [
    {
     "data": {
      "text/plain": [
       "array([-107.3588786 , -133.09105077,  -95.35416001, -119.79057907,\n",
       "        -78.91093134,  -95.05260132, -106.98764489,  -82.21576455,\n",
       "        -84.09047028, -102.97059104, -109.22610721,  -94.08939299,\n",
       "       -126.31570108, -155.10745485,  -98.84867226,  -82.6028187 ,\n",
       "        -94.48996102,  -91.85864863,  -72.6440039 ,  -98.4700073 ])"
      ]
     },
     "execution_count": 14,
     "metadata": {},
     "output_type": "execute_result"
    }
   ],
   "source": [
    "ev1 = eigen_vectors[:,3].dot(testResults[0:5,:])\n",
    "ev1"
   ]
  },
  {
   "cell_type": "markdown",
   "metadata": {},
   "source": [
    "全ての学生の第2主成分を求めるには，次の式を実行します．\n",
    "\n",
    "> eigen_vectors[:,4].dot(testResults[0:5,:])"
   ]
  },
  {
   "cell_type": "code",
   "execution_count": 15,
   "metadata": {},
   "outputs": [
    {
     "data": {
      "text/plain": [
       "array([ 81.16409623,  57.04479077,  72.21757579,  44.46747525,\n",
       "        81.8946493 ,  35.7645374 ,  74.4170822 ,  35.83984127,\n",
       "        55.43652975,  50.36162381,  50.89088108,  46.38386721,\n",
       "        33.8711315 ,  45.00415951,  97.2499719 ,  35.22562788,\n",
       "        46.03813879,  52.2506649 ,  27.23345949,  62.02656009])"
      ]
     },
     "execution_count": 15,
     "metadata": {},
     "output_type": "execute_result"
    }
   ],
   "source": [
    "ev2 = eigen_vectors[:,4].dot(testResults[0:5,:])\n",
    "ev2"
   ]
  },
  {
   "cell_type": "markdown",
   "metadata": {},
   "source": [
    "最後に，第1主成分と第2主成分の分布についてグラフ表示してみます．\n",
    "そのために，グラフ描画用ライブラリーである<font color=green>matplotlib.pyplot</font>をインポートします．\n",
    "\n",
    "> import matplotlib.pyplot as plt"
   ]
  },
  {
   "cell_type": "code",
   "execution_count": 16,
   "metadata": {
    "collapsed": true
   },
   "outputs": [],
   "source": [
    "import matplotlib.pyplot as plt"
   ]
  },
  {
   "cell_type": "markdown",
   "metadata": {},
   "source": [
    "散布図の作図は以下のプログラムになります．\n",
    "\n",
    "```Python\n",
    "plt.axis('scaled')                        # 表示上の縦横比を1対1にする\n",
    "plt.scatter(ev1,ev2)                      # 変数ev1とev2を2軸のデータとする\n",
    "plt.xlim([-160,-60])                      # X軸の範囲を-160から-60にする\n",
    "plt.ylim([20,100])                        # Y軸の範囲を20から100にする\n",
    "plt.xticks([-160,-140,-120,-100,-80,-60]) # X軸に付ける目盛を設定する\n",
    "plt.yticks([20,40,60,80,100])             # Y軸に付ける目盛を設定する\n",
    "plt.xlabel('Component-1')                 # X軸のラベルを設定する\n",
    "plt.ylabel('Component-2')                 # Y軸のラベルを設定する\n",
    "plt.show()                                # 図を表示する\n",
    "```"
   ]
  },
  {
   "cell_type": "code",
   "execution_count": 17,
   "metadata": {},
   "outputs": [
    {
     "data": {
      "image/png": "[encoded data removed]",
      "text/plain": [
       "<matplotlib.figure.Figure at 0x15a94ab52e8>"
      ]
     },
     "metadata": {},
     "output_type": "display_data"
    }
   ],
   "source": [
    "plt.axis('scaled')\n",
    "plt.scatter(ev1,ev2)\n",
    "plt.xlim([-160,-60])\n",
    "plt.ylim([20,100])\n",
    "plt.xticks([-160,-140,-120,-100,-80,-60])\n",
    "plt.yticks([20,40,60,80,100])\n",
    "plt.xlabel('Component-1')\n",
    "plt.ylabel('Component-2')\n",
    "plt.show()"
   ]
  },
  {
   "cell_type": "markdown",
   "metadata": {},
   "source": [
    "*****\n",
    "## scikit-learnによる解法\n",
    "\n",
    "さて，Pythonで主成分分析を行うためにscikit-learn機械学習パッケージ<font color=green>sklearn.decomposition</font>ライブラリーに<font color=green>PCA</font>モジュールを使用します．\n",
    "このモジュールを使うと，簡単に主成分分析ができます．\n",
    "PCAオブジェクトを定義して，データを渡すだけです．\n",
    "データの引き渡し方は，モジュールそれぞれに仕様があります．\n",
    "PCAでは元のデータの行と列を入替えた形式でデータを与えます．\n",
    "\n",
    "> from sklearn.decomposition import PCA  \n",
    "> pca = PCA()  \n",
    "> pca.fit(testResults.T)"
   ]
  },
  {
   "cell_type": "code",
   "execution_count": 18,
   "metadata": {},
   "outputs": [
    {
     "data": {
      "text/plain": [
       "PCA(copy=True, iterated_power='auto', n_components=None, random_state=None,\n",
       "  svd_solver='auto', tol=0.0, whiten=False)"
      ]
     },
     "execution_count": 18,
     "metadata": {},
     "output_type": "execute_result"
    }
   ],
   "source": [
    "from sklearn.decomposition import PCA\n",
    "pca = PCA()\n",
    "pca.fit(testResults.T)"
   ]
  },
  {
   "cell_type": "markdown",
   "metadata": {},
   "source": [
    "主成分分析に関連する情報は，次の属性データに保管されています．\n",
    "\n",
    "> 固有値（主成分）：pca.explained\\_variance\\_  \n",
    "> 主成分の寄与率：pca.explained\\_variance\\_ratio\\_  \n",
    "> 固有ベクトル：pca.components\\_  \n",
    "\n",
    "固有値（主成分）の並び順は降順に揃えられています．"
   ]
  },
  {
   "cell_type": "code",
   "execution_count": 19,
   "metadata": {},
   "outputs": [
    {
     "data": {
      "text/plain": [
       "array([ 380.79879371,  333.27441584,  159.08461596,   28.49112656,\n",
       "          7.81354792])"
      ]
     },
     "execution_count": 19,
     "metadata": {},
     "output_type": "execute_result"
    }
   ],
   "source": [
    "pca.explained_variance_"
   ]
  },
  {
   "cell_type": "code",
   "execution_count": 20,
   "metadata": {
    "scrolled": true
   },
   "outputs": [
    {
     "data": {
      "text/plain": [
       "array([ 0.41870753,  0.36645207,  0.17492158,  0.03132743,  0.00859139])"
      ]
     },
     "execution_count": 20,
     "metadata": {},
     "output_type": "execute_result"
    }
   ],
   "source": [
    "pca.explained_variance_ratio_"
   ]
  },
  {
   "cell_type": "markdown",
   "metadata": {},
   "source": [
    "固有ベクトルについてですが，並び順は固有値の降順に合わせてます．\n",
    "また，numpy.linalg.eig()関数で固有値ベクトルを求め得た場合とは異なり，行と列が転置しています．\n"
   ]
  },
  {
   "cell_type": "code",
   "execution_count": 21,
   "metadata": {
    "scrolled": true
   },
   "outputs": [
    {
     "data": {
      "text/plain": [
       "array([[ 0.53580023,  0.12363395,  0.11821135,  0.72425273,  0.3988945 ],\n",
       "       [ 0.06381759,  0.25129726,  0.90441355, -0.31135506,  0.1336831 ],\n",
       "       [-0.60069424, -0.02943167,  0.32089346,  0.61518511, -0.39607433],\n",
       "       [-0.43135763,  0.76816117, -0.2418918 ,  0.00351944,  0.40661406],\n",
       "       [-0.40242074, -0.57500134,  0.08110461, -0.00713542,  0.70767375]])"
      ]
     },
     "execution_count": 21,
     "metadata": {},
     "output_type": "execute_result"
    }
   ],
   "source": [
    "pca.components_"
   ]
  },
  {
   "cell_type": "markdown",
   "metadata": {},
   "source": [
    "第1主成分に対応する固有ベクトルはpca.components\\_[0]となります．\n",
    "numpy.linalg.eig()関数による方法と比較すると，符号が逆転しています．\n",
    "固有ベクトルを求めるときに大きさを1に揃えても，ベクトルの向きは2種類ありますので，符号が反対になることは十分あります．"
   ]
  },
  {
   "cell_type": "code",
   "execution_count": 22,
   "metadata": {},
   "outputs": [
    {
     "data": {
      "text/plain": [
       "array([ 0.53580023,  0.12363395,  0.11821135,  0.72425273,  0.3988945 ])"
      ]
     },
     "execution_count": 22,
     "metadata": {},
     "output_type": "execute_result"
    }
   ],
   "source": [
    "pca.components_[0]"
   ]
  },
  {
   "cell_type": "markdown",
   "metadata": {},
   "source": [
    "また，分散共分散行列はpca.get_covariance()関数によって得ることができます．\n",
    "この結果は，numpy.cov(testResults,bias=True)と同じ行列が得られますので，ご確認ください．"
   ]
  },
  {
   "cell_type": "code",
   "execution_count": 23,
   "metadata": {
    "scrolled": true
   },
   "outputs": [
    {
     "data": {
      "text/plain": [
       "array([[ 174.6475,   25.75  ,   15.4075,   82.34  ,  114.8575],\n",
       "       [  25.75  ,   46.4   ,   74.15  ,    5.25  ,   37.55  ],\n",
       "       [  15.4075,   74.15  ,  296.0275,  -29.87  ,   35.6775],\n",
       "       [  82.34  ,    5.25  ,  -29.87  ,  292.26  ,   57.38  ],\n",
       "       [ 114.8575,   37.55  ,   35.6775,   57.38  ,  100.1275]])"
      ]
     },
     "execution_count": 23,
     "metadata": {},
     "output_type": "execute_result"
    }
   ],
   "source": [
    "pca.get_covariance()"
   ]
  },
  {
   "cell_type": "markdown",
   "metadata": {},
   "source": [
    "numpy.linalg.eig()関数の場合と同様に，最初の学生s01のデータの第1主成分を求めてみます．  \n",
    "pca.components\\_[0]のドット積の引数としてtestResults[0:5,0]を渡します．"
   ]
  },
  {
   "cell_type": "code",
   "execution_count": 24,
   "metadata": {},
   "outputs": [
    {
     "data": {
      "text/plain": [
       "107.35887859672201"
      ]
     },
     "execution_count": 24,
     "metadata": {},
     "output_type": "execute_result"
    }
   ],
   "source": [
    "pca.components_[0].dot(testResults[0:5,0])"
   ]
  },
  {
   "cell_type": "markdown",
   "metadata": {},
   "source": [
    "さらに，最初の学生のテスト結果を第2主成分までの近似を求めてみます．"
   ]
  },
  {
   "cell_type": "code",
   "execution_count": 25,
   "metadata": {},
   "outputs": [
    {
     "data": {
      "text/plain": [
       "array([ 62.70260868,  33.66951665,  86.09694594,  52.48410894,  53.6751344 ])"
      ]
     },
     "execution_count": 25,
     "metadata": {},
     "output_type": "execute_result"
    }
   ],
   "source": [
    "pca.components_[0].dot(testResults[0:5,0])*pca.components_[0] + \\\n",
    "pca.components_[1].dot(testResults[0:5,0])*pca.components_[1]"
   ]
  },
  {
   "cell_type": "markdown",
   "metadata": {},
   "source": [
    "*****\n",
    "私達の目的は主成分分析の手法をマスターすることではなく，その基礎にある線形代数の理論を習得することです．\n",
    "主成分分析や回帰分析のツールの使い方を覚えるのは難しくはありません．\n",
    "しかし，理論を知らずにツールを使うということは，単なる作業者です．\n",
    "いずれ，そういう作業は自動化されるかAIに取って代わられます．\n",
    "\n",
    "理論をしっかり身に付ければ，創造的な仕事に身を置くことも可能になります．\n",
    "ここまで理解するには長い学習プロセスを実施してきました．\n",
    "決して簡単な事ではないので，是非とも復習することをお薦めいたします．\n",
    "*****"
   ]
  }
 ],
 "metadata": {
  "kernelspec": {
   "display_name": "Python 3",
   "language": "python",
   "name": "python3"
  },
  "language_info": {
   "codemirror_mode": {
    "name": "ipython",
    "version": 3
   },
   "file_extension": ".py",
   "mimetype": "text/x-python",
   "name": "python",
   "nbconvert_exporter": "python",
   "pygments_lexer": "ipython3",
   "version": "3.6.1"
  }
 },
 "nbformat": 4,
 "nbformat_minor": 2
}
