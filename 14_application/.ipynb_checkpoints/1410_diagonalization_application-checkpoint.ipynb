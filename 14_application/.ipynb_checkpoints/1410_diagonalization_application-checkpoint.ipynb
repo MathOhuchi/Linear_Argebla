{
 "cells": [
  {
   "cell_type": "markdown",
   "metadata": {},
   "source": [
    "# 対角化の応用例\n",
    "\n",
    "ここでは，行列の相似変換による対角化を活用した応用について説明します．\n",
    "\n",
    "具体的な応用例として，次の問題について説明します．\n",
    "\n",
    "- <font color=blue>フィボナッチ数列</font>の公式を求める\n",
    "- <font color=blue>マルコフ過程</font>の収束点を求める\n",
    "- <font color=blue>主成分分析 </font>\n",
    "\n",
    "これらは全て相似変換による対角化の応用になっています．"
   ]
  },
  {
   "cell_type": "markdown",
   "metadata": {},
   "source": [
    "この他にも様々な分野が線形代数によって構築されています．\n",
    "線形代数という地味な分野が，実はデータサイエンスにおける根幹になっていることを理解してください．\n",
    "\n",
    "*****"
   ]
  }
 ],
 "metadata": {
  "kernelspec": {
   "display_name": "Python 3",
   "language": "python",
   "name": "python3"
  },
  "language_info": {
   "codemirror_mode": {
    "name": "ipython",
    "version": 3
   },
   "file_extension": ".py",
   "mimetype": "text/x-python",
   "name": "python",
   "nbconvert_exporter": "python",
   "pygments_lexer": "ipython3",
   "version": "3.6.1"
  }
 },
 "nbformat": 4,
 "nbformat_minor": 2
}
