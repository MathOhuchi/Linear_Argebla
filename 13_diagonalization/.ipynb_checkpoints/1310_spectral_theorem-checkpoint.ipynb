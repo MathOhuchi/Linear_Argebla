{
 "cells": [
  {
   "cell_type": "markdown",
   "metadata": {},
   "source": [
    "# ロードマップ\n",
    "\n",
    "これまで固有値や内積に関連する幾つかの行列について学習してきましたが，\n",
    "これらの知識を総合的に活用したスペクトル定理について説明していきます．\n",
    "\n",
    "次の手順が学習を進めます．\n",
    "\n",
    "1. <font color=blue>相似変換と対角化</font>\n",
    "- <font color=blue>一般正方行列の上三角化</font>\n",
    "- <font color=blue>エルミート行列の対角化</font>\n",
    "- <font color=blue>ユニタリ行列の対角化</font>\n",
    "- <font color=blue>正規行列の対角化</font>\n",
    "\n",
    "これらにおいて，\n",
    "\n",
    "- <font color=green>相似変換によって行列の対角化し，</font>\n",
    "- <font color=green>元の行列を固有ベクトルへの射影の線形結合で表す</font>\n",
    "\n",
    "ことをスペクトル定理と言います．"
   ]
  },
  {
   "cell_type": "markdown",
   "metadata": {},
   "source": [
    "*****\n",
    "## エルミート行列のスペクトル定理\n",
    "\n",
    "エルミート行列$\\bf H$に対して，その固有ベクトルを正規化したベクトル${\\bf u}_i$を列として並べた行列\n",
    "${\\bf U}=\\left(\\begin{array}{c} {\\bf u}_1 & \\cdots & {\\bf u}_n \\end{array}\\right)$\n",
    "はユニタリ行列になります．すなわち，${\\bf U}^*={\\bf U}^{-1}$ が成立します．\n",
    "\n",
    "エルミート行列$\\bf H$は，このユニタリ行列$\\bf U$によって固有値$\\lambda_i$を対角成分とした対角行列$\\bf \\Lambda$に対角化されます．\n",
    "\n",
    "> ${\\bf U}^{-1}{\\bf HU}={\\bf \\Lambda}$\n",
    "\n",
    "また，ユニタリ行列の性質${\\bf U}^*{\\bf U}={\\bf U}^{-1}{\\bf U}={\\bf I}$により，\n",
    "\n",
    "> ${\\bf H}= {\\bf U}{\\bf \\Lambda}{\\bf U}^* =\n",
    "\\lambda_1{\\bf u}_1{{\\bf u}_1}^*+\\lambda_2{\\bf u}_2{{\\bf u}_2}^*+\\cdots\\lambda_n{\\bf u}_n{{\\bf u}_n}^*$\n",
    "\n",
    "と表せます．\n",
    "ここで，${\\bf u}_i{{\\bf u}_i}^*$は，固有ベクトル${\\bf u}_i$への射影作用素となっています．\n",
    "この固有ベクトルは直交しているので，$\\bf H$を正規直交基底に分解しています．\n",
    "この分解をスペクトル分解と言います．\n",
    "\n",
    "さらに固有値$\\lambda_i$は全て実数となります．\n"
   ]
  },
  {
   "cell_type": "markdown",
   "metadata": {},
   "source": [
    "### 解説\n",
    "\n",
    "この定理は正確には，<font color=blue>エルミート行列のスペクトル定理</font>です．\n",
    "スペクトル定理の範疇の中では分かりやすく一般的な内容になっています．\n",
    "\n",
    "エルミート行列の場合の証明が済んだ後に，\n",
    "スペクトル定理の条件を緩めていき，最終的には<font color=blue>正規行列のスペクトル定理</font>に辿りつきます．\n",
    "\n",
    "その前に，幾つかの新しい概念を導入して順を追って説明していきます．"
   ]
  },
  {
   "cell_type": "markdown",
   "metadata": {},
   "source": [
    "スペクトル定理を簡単に説明すると，\n",
    "- 与えられた線形変換がある条件を満たす場合に，\n",
    "- 固有値と固有ベクトルを使って\n",
    "- その線形変換を固有ベクトル空間上への射影作用素の線形結合として表すことが出来る\n",
    "という事です．\n",
    "\n",
    "このとき，<font color=blue>固有値を重みとする固有ベクトルの線形結合をスペクトル</font>と言います．\n",
    "\n",
    "また，スペクトル定理は，<font color=blue>相似変換による行列の対角化</font>とも言えます．"
   ]
  },
  {
   "cell_type": "markdown",
   "metadata": {},
   "source": [
    "*****"
   ]
  }
 ],
 "metadata": {
  "kernelspec": {
   "display_name": "Python 3",
   "language": "python",
   "name": "python3"
  },
  "language_info": {
   "codemirror_mode": {
    "name": "ipython",
    "version": 3
   },
   "file_extension": ".py",
   "mimetype": "text/x-python",
   "name": "python",
   "nbconvert_exporter": "python",
   "pygments_lexer": "ipython3",
   "version": "3.6.1"
  }
 },
 "nbformat": 4,
 "nbformat_minor": 2
}
