{
 "cells": [
  {
   "cell_type": "markdown",
   "metadata": {},
   "source": [
    "# 主成分分析\n",
    "\n",
    "エルミート行列の対角化の応用である主成分分析について解説します．\n",
    "主成分分析とは，多変量解析の1つで，情報を縮約する手法です．\n",
    "一般に多変量解析とは，扱う変量の個数が多いのでそのままでは見通しが効かないようなデータについて，そのデータの特徴を代表するような新しい指標を作り，少ない変量によってデータ全体を取り扱うための手法です．\n"
   ]
  },
  {
   "cell_type": "markdown",
   "metadata": {},
   "source": [
    "まず，対象となるデータがあります．\n",
    "\n",
    "| Key | Variate_1 | Variate_2 | $\\cdots$ | Variate_n |\n",
    "|:---:|:---:|:---:|:---:|:---:|\n",
    "| $Id_1$ | $x_{11}$ | $x_{12}$ | $\\cdots$ | $x_{1n}$ |\n",
    "| $Id_2$ | $x_{21}$ | $x_{22}$ | $\\cdots$ | $x_{2n}$ |\n",
    "| $Id_3$ | $x_{31}$ | $x_{32}$ | $\\cdots$ | $x_{3n}$ |\n",
    "| $\\vdots$ | $\\vdots$ | $\\vdots$ |  | $\\vdots$ |\n",
    "| $Id_m$ | $x_{m1}$ | $x_{m2}$ | $\\cdots$ | $x_{mn}$ |\n",
    "\n",
    "変量の説明：\n",
    "- Key：個々の対象を特定するためのID\n",
    "- Variate_1～Variate_n：実数値を取る一つの変量\n",
    "\n",
    "このデータにおいて，個々の対象は$n$個の変量によって特徴付けられています．\n",
    "この変量の個数が多いと，対象を分析したり比較することが人間の目では難しくなります．\n",
    "そこで，$n$個の変量を特徴を持った少ない変量で表せると，人間による判断がしやすくなります．\n",
    "例えば，この$n$個の変量を2つの変量で表します．"
   ]
  },
  {
   "cell_type": "markdown",
   "metadata": {},
   "source": [
    "まず，各変量間の相関係数を求めます．\n",
    "変量$x_i$と$x_j$の間の相関係数を$r_{ij}$とすると，\n",
    "\n",
    "相関係数： $\\displaystyle r_{ij} = \\frac{\\sigma_{ij}}{\\sigma_i\\sigma_j}$\n",
    "\n",
    "となります．\n",
    "ここで$\\sigma_i$は，変量Variate_iの標準偏差です．\n",
    "また$\\sigma_{ij}$は，変量Variate_iとVariate_jとの共分散です．  \n",
    "相関係数の取りうる範囲は，$-1 \\leq r_{ij} \\leq 1$となります．\n",
    "\n",
    "標準偏差： $\\displaystyle \\sigma_i = \\frac{1}{m}{\\sqrt{\\sum_{k=1}^{m}(x_{ki}-\\overline{x}_i)^2}}$\n",
    "\n",
    "共分散： $\\displaystyle \\sigma_{ij} = \\frac{1}{m}{\\sum_{k=1}^{m}{(x_{ki}-\\overline{x}_i)^2}{(x_{kj}-\\overline{x}_j)^2}}$\n",
    "\n",
    "平均値： $\\displaystyle \\overline{x}_i = \\frac{1}{m}{\\sqrt{\\sum_{k=1}^{m}x_{ki}}}$\n"
   ]
  },
  {
   "cell_type": "markdown",
   "metadata": {},
   "source": [
    "全ての変量の相関係数をまとめた行列を相関行列と言い，ここでは$\\bf R$で表します．\n",
    "\n",
    "${\\bf R}=\n",
    "\\left(\\begin{array}{c}\n",
    "1 & r_{12} & \\cdots & r_{1n} \\\\\n",
    "r_{21} & 1 & \\ddots & r_{2n} \\\\\n",
    "\\vdots & \\ddots & \\ddots & \\vdots \\\\\n",
    "r_{n1} & r_{n2} & \\cdots & 1 \\\\\n",
    "\\end{array}\\right)$\n",
    "\n",
    "この相関行列を求めるところまでは，基礎的な記述統計です．\n",
    "この次のステップは，この相関行列を$n$次元ユークリッド空間上の変換とみなして対角化を行います．\n",
    "この部分が主成分分析の中核部分であり，線形代数が担っているところです．\n",
    "\n",
    "相関行列の各成分は全て実数です．\n",
    "定義により対角成分は1となります．\n",
    "また，$r_{ij}=r_{ji}$となっているので，対称行列になっています．\n",
    "したがって，対称行列の対角化定理を適用することができます．"
   ]
  },
  {
   "cell_type": "markdown",
   "metadata": {},
   "source": [
    "相関行列$\\bf R$の固有値を $\\lambda_1,\\lambda_2,\\cdots,\\lambda_n$とし，対応する固有ベクトルを ${\\bf u}_1,{\\bf u}_2,\\cdots,{\\bf u}_n$とします．\n",
    "このインデックスの付け方は，固有値の降順とします．\n",
    "\n",
    "$\\lambda_1 \\geq \\lambda_2 \\geq \\cdots \\geq \\lambda_n \\geq 0$\n",
    "\n",
    "固有値ベクトルを列ベクトルにした直交行列を$\\bf U$としたとき，相関行列$\\bf R$のスペクトル分解\n",
    "\n",
    "${\\bf R}= {\\bf U}{\\bf \\Lambda}{\\bf U}^\\mathsf{T} =\n",
    "\\lambda_1{\\bf u}_1{{\\bf u}_1}^\\mathsf{T}+\\lambda_2{\\bf u}_2{{\\bf u}_2}^\\mathsf{T}+\\cdots+\\lambda_n{\\bf u}_n{{\\bf u}_n}^\\mathsf{T}$\n",
    "\n",
    "は，個々のデータを固有ベクトルを基底とする空間構造への射影となっています．\n",
    "このスペクトル分解作用素をデータ\n",
    "${\\bf x}_i = \n",
    "\\left(\\begin{array}{c}\n",
    "x_{i1} \\\\ x_{i2} \\\\ \\vdots \\\\ x_{in} \\\\\n",
    "\\end{array}\\right)$\n",
    "に作用させると，\n",
    "\n",
    "${\\bf R}{\\bf x}_i =\n",
    "\\lambda_1\\left<{\\bf u}_1,{\\bf x}_i\\right>{\\bf u}_1+\n",
    "\\lambda_2\\left<{\\bf u}_2,{\\bf x}_i\\right>{\\bf u}_2+\n",
    "\\cdots+\n",
    "\\lambda_n\\left<{\\bf u}_n,{\\bf x}_i\\right>{\\bf u}_n$\n",
    "\n",
    "となります．\n",
    "これはベクトル${\\bf Rx}_i$を固有ベクトルによって表現しています．\n",
    "そこで，ベクトル${\\bf x}_i$を次のように置きます．\n",
    "\n",
    "> <font color=green>${\\bf x}_i =\n",
    "\\left<{\\bf u}_1,{\\bf x}_i\\right>{\\bf u}_1+\n",
    "\\left<{\\bf u}_2,{\\bf x}_i\\right>{\\bf u}_2+\n",
    "\\cdots+\n",
    "\\left<{\\bf u}_n,{\\bf x}_i\\right>{\\bf u}_n$ </font>\n",
    "\n",
    "すると，これがベクトル${\\bf x}_i$の固有ベクトルを基底とする表現になっています．"
   ]
  },
  {
   "cell_type": "markdown",
   "metadata": {},
   "source": [
    "固有値の総和に対するある固有値の比率を寄与率と言います．\n",
    "\n",
    "> $\\displaystyle \\text{主成分}{\\bf u}_i\\text{の寄与率} = \\frac{\\lambda_i}{\\lambda_1+\\lambda_2+\\cdots+\\lambda_n}$\n",
    "\n",
    "固有値が大きいということは，その固有ベクトル方向へのデータのバラツキが大きいということです．\n",
    "逆に固有値が小さい場合は，その固有ベクトル方向へのデータのバラツキが小さいので，その固有ベクトル成分を無視し近似することができます．\n",
    "例えば，データ${\\bf x}_i$を第2主成分までの近似にすると，次式のようになります．\n",
    "\n",
    "> <font color=green>${\\bf x}_i\\text{の第2主成分までの近似} =\n",
    "\\left<{\\bf u}_1,{\\bf x}_i\\right>{\\bf u}_1 + \\left<{\\bf u}_2,{\\bf x}_i\\right>{\\bf u}_2$</font>\n",
    "\n",
    "以上が主成分分析についての線形代数からの説明です．"
   ]
  },
  {
   "cell_type": "markdown",
   "metadata": {},
   "source": [
    "*****\n",
    "主成分分析の具体的な問題について線形代数によって解くプロセスをPythonで実践します．"
   ]
  },
  {
   "cell_type": "markdown",
   "metadata": {},
   "source": [
    "### 問題設定\n",
    "\n",
    "学生20名について5科目のテスト結果があります．\n",
    "このテスト結果から2種類の主要指標を求めます．\n",
    "\n",
    "| Student | Algebra | Analysis | Calculus | Geometry | Logic |\n",
    ":---:|:---:|:---:|:---:|:---:|:---:|\n",
    "| s01 | 73 | 61 | 69 | 34 | 70 |\n",
    "| s02 | 68 | 67 | 54 | 73 | 73 |\n",
    "| s03 | 52 | 55 | 69 | 45 | 50 |\n",
    "| s04 | 53 | 55 | 50 | 80 | 52 |\n",
    "| s05 | 38 | 55 | 77 | 33 | 47 |\n",
    "| s06 | 58 | 44 | 33 | 49 | 48 |\n",
    "| s07 | 55 | 70 | 67 | 50 | 62 |\n",
    "| s08 | 46 | 48 | 31 | 42 | 44 |\n",
    "| s09 | 52 | 52 | 47 | 33 | 51 |\n",
    "| s10 | 70 | 49 | 44 | 44 | 56 |\n",
    "| s11 | 62 | 50 | 46 | 52 | 67 |\n",
    "| s12 | 50 | 52 | 42 | 48 | 53 |\n",
    "| s13 | 50 | 50 | 45 | 94 | 50 |\n",
    "| s14 | 91 | 50 | 49 | 89 | 75 |\n",
    "| s15 | 47 | 57 | 98 | 49 | 49 |\n",
    "| s16 | 48 | 50 | 28 | 39 | 48 |\n",
    "| s17 | 49 | 50 | 45 | 53 | 46 |\n",
    "| s18 | 49 | 50 | 50 | 48 | 47 |\n",
    "| s19 | 27 | 40 | 28 | 48 | 38 |\n",
    "| s20 | 51 | 55 | 61 | 53 | 47 |\n"
   ]
  },
  {
   "cell_type": "markdown",
   "metadata": {},
   "source": [
    "## Pythonによる解法\n",
    "\n",
    "Pythonを使って線形代数の手法によって，主成分分析を解いていきます．\n",
    "\n",
    "まずは，NumPyライブラリーをインポートします．"
   ]
  },
  {
   "cell_type": "code",
   "execution_count": 1,
   "metadata": {
    "collapsed": true
   },
   "outputs": [],
   "source": [
    "import numpy as np"
   ]
  },
  {
   "cell_type": "markdown",
   "metadata": {},
   "source": [
    "テスト結果のデータを変数として定義します．"
   ]
  },
  {
   "cell_type": "code",
   "execution_count": 2,
   "metadata": {},
   "outputs": [],
   "source": [
    "testResults = np.array([\n",
    "[73,68,52,53,38,58,55,46,52,70,62,50,50,91,47,48,49,49,27,51],\n",
    "[61,67,55,55,55,44,70,48,52,49,50,52,50,50,57,50,50,50,40,55],\n",
    "[69,54,69,50,77,33,67,31,47,44,46,42,45,49,98,28,45,50,28,61],\n",
    "[34,73,45,80,33,49,50,42,33,44,52,48,94,89,49,39,53,48,48,53],\n",
    "[70,73,50,52,47,48,62,44,51,56,67,53,50,75,49,48,46,47,38,47]])"
   ]
  },
  {
   "cell_type": "markdown",
   "metadata": {},
   "source": [
    "相関行列は，<font color=green>numpy.corrcoef()</font>関数によって求めます．\n",
    "\n",
    "> np.corrcoef(testResults)\n"
   ]
  },
  {
   "cell_type": "code",
   "execution_count": 3,
   "metadata": {},
   "outputs": [
    {
     "data": {
      "text/plain": [
       "array([[ 1.        ,  0.28604678,  0.0677618 ,  0.3644559 ,  0.86856332],\n",
       "       [ 0.28604678,  1.        ,  0.63268296,  0.04508329,  0.55090189],\n",
       "       [ 0.0677618 ,  0.63268296,  1.        , -0.10155107,  0.20722956],\n",
       "       [ 0.3644559 ,  0.04508329, -0.10155107,  1.        ,  0.33542789],\n",
       "       [ 0.86856332,  0.55090189,  0.20722956,  0.33542789,  1.        ]])"
      ]
     },
     "execution_count": 3,
     "metadata": {},
     "output_type": "execute_result"
    }
   ],
   "source": [
    "R = np.corrcoef(testResults)\n",
    "R"
   ]
  },
  {
   "cell_type": "markdown",
   "metadata": {},
   "source": [
    "相関行列の固有値と固有ベクトルを<font color=green>numpy.linalg.eig()</font>関数によって求めます．\n",
    "\n",
    "> eigen_values,eigen_vectors = np.linalg.eig(R)"
   ]
  },
  {
   "cell_type": "code",
   "execution_count": 4,
   "metadata": {
    "collapsed": true
   },
   "outputs": [],
   "source": [
    "eigen_values,eigen_vectors = np.linalg.eig(R)"
   ]
  },
  {
   "cell_type": "code",
   "execution_count": 5,
   "metadata": {},
   "outputs": [
    {
     "data": {
      "text/plain": [
       "array([ 2.45235105,  1.44095403,  0.69453153,  0.07808681,  0.33407657])"
      ]
     },
     "execution_count": 5,
     "metadata": {},
     "output_type": "execute_result"
    }
   ],
   "source": [
    "eigen_values"
   ]
  },
  {
   "cell_type": "markdown",
   "metadata": {},
   "source": [
    "固有値および寄与率，累積寄与率をまとめると次表になります．\n",
    "\n",
    "|  | 固有値 | 寄与率 | 累積寄与率 |\n",
    "|:---:|:---:|:---:|:---:|\n",
    "| $\\lambda_1$ | 2.45 | 49.0 % | 49.0 % |\n",
    "| $\\lambda_2$ | 1.44 | 28.8 % | 77.9 % |\n",
    "| $\\lambda_3$ | 0.69 | 13.9 % | 91.8 % |\n",
    "| $\\lambda_4$ | 0.33 |  6.7 % | 98.4 % |\n",
    "| $\\lambda_5$ | 0.08 |  1.6 % | 100 % |\n",
    "\n",
    "第2主成分までの累積寄与率が78%なので，テスト結果を第1主成分と第2主成分で近似します．\n",
    "\n",
    "固有ベクトルを確認します．"
   ]
  },
  {
   "cell_type": "code",
   "execution_count": 6,
   "metadata": {
    "scrolled": true
   },
   "outputs": [
    {
     "data": {
      "text/plain": [
       "array([[ 0.52609694,  0.33110543,  0.36851649,  0.59513384,  0.35157149],\n",
       "       [ 0.46462965, -0.45512087, -0.12283245,  0.31920162, -0.67823801],\n",
       "       [ 0.29323848, -0.64136442, -0.292898  , -0.09802547,  0.63817289],\n",
       "       [ 0.26299938,  0.49635398, -0.82731172,  0.00427179, -0.00106078],\n",
       "       [ 0.59345078,  0.15974541,  0.28084492, -0.73095745, -0.09552445]])"
      ]
     },
     "execution_count": 6,
     "metadata": {},
     "output_type": "execute_result"
    }
   ],
   "source": [
    "eigen_vectors"
   ]
  },
  {
   "cell_type": "markdown",
   "metadata": {},
   "source": [
    "第1固有ベクトルは，eigen_vectors[:,0]となります．"
   ]
  },
  {
   "cell_type": "code",
   "execution_count": 7,
   "metadata": {},
   "outputs": [
    {
     "data": {
      "text/plain": [
       "array([ 0.52609694,  0.46462965,  0.29323848,  0.26299938,  0.59345078])"
      ]
     },
     "execution_count": 7,
     "metadata": {},
     "output_type": "execute_result"
    }
   ],
   "source": [
    "eigen_vectors[:,0]"
   ]
  },
  {
   "cell_type": "markdown",
   "metadata": {},
   "source": [
    "第2固有ベクトルは，eigen_vectors[:,1]となります．"
   ]
  },
  {
   "cell_type": "code",
   "execution_count": 8,
   "metadata": {},
   "outputs": [
    {
     "data": {
      "text/plain": [
       "array([ 0.33110543, -0.45512087, -0.64136442,  0.49635398,  0.15974541])"
      ]
     },
     "execution_count": 8,
     "metadata": {},
     "output_type": "execute_result"
    }
   ],
   "source": [
    "eigen_vectors[:,1]"
   ]
  },
  {
   "cell_type": "markdown",
   "metadata": {},
   "source": [
    "さて，最初の学生s01の第1主成分と第2主成分を求めてみます．\n",
    "\n",
    "まず，学生s01のテストデータは，testResults[0:5,0]として取り出せます．"
   ]
  },
  {
   "cell_type": "code",
   "execution_count": 9,
   "metadata": {},
   "outputs": [
    {
     "data": {
      "text/plain": [
       "array([73, 61, 69, 34, 70])"
      ]
     },
     "execution_count": 9,
     "metadata": {},
     "output_type": "execute_result"
    }
   ],
   "source": [
    "testResults[0:5,0]"
   ]
  },
  {
   "cell_type": "markdown",
   "metadata": {},
   "source": [
    "第1主成分は第1固有ベクトルへの射影 $\\left<{\\bf u}_1,{\\bf x}_1\\right>$なので，次式で求めます．\n",
    "\n",
    "> eigen_vectors[:,0].dot(testResults[0:5,0])"
   ]
  },
  {
   "cell_type": "code",
   "execution_count": 10,
   "metadata": {},
   "outputs": [
    {
     "data": {
      "text/plain": [
       "137.4644731516413"
      ]
     },
     "execution_count": 10,
     "metadata": {},
     "output_type": "execute_result"
    }
   ],
   "source": [
    "eigen_vectors[:,0].dot(testResults[0:5,0])"
   ]
  },
  {
   "cell_type": "markdown",
   "metadata": {},
   "source": [
    "第2主成分は第2固有値への射影 $\\left<{\\bf u}_2,{\\bf x}_1\\right>$なので，次式で求めます．\n",
    "\n",
    "> eigen_vectors[:,1].dot(testResults[0:5,0])"
   ]
  },
  {
   "cell_type": "code",
   "execution_count": 11,
   "metadata": {},
   "outputs": [
    {
     "data": {
      "text/plain": [
       "-19.787608304534189"
      ]
     },
     "execution_count": 11,
     "metadata": {},
     "output_type": "execute_result"
    }
   ],
   "source": [
    "eigen_vectors[:,1].dot(testResults[0:5,0])"
   ]
  },
  {
   "cell_type": "markdown",
   "metadata": {},
   "source": [
    "学生s01のテストデータを第1主成分と第2主成分で近似するには，\n",
    "$\\left<{\\bf u}_1,{\\bf x}_1\\right>{\\bf u}_1 + \\left<{\\bf u}_2,{\\bf x}_1\\right>{\\bf u}_2$\n",
    "を計算します．"
   ]
  },
  {
   "cell_type": "code",
   "execution_count": 12,
   "metadata": {},
   "outputs": [
    {
     "data": {
      "text/plain": [
       "array([ 65.76785365,  72.87582309,  53.00094076,  26.3314132 ,  78.41741908])"
      ]
     },
     "execution_count": 12,
     "metadata": {},
     "output_type": "execute_result"
    }
   ],
   "source": [
    "eigen_vectors[:,0].dot(testResults[0:5,0])*eigen_vectors[:,0] + \\\n",
    "eigen_vectors[:,1].dot(testResults[0:5,0])*eigen_vectors[:,1]"
   ]
  },
  {
   "cell_type": "markdown",
   "metadata": {},
   "source": [
    "ちなみに，第5主成分まで全ての和をとると，元のデータに一致します．"
   ]
  },
  {
   "cell_type": "code",
   "execution_count": 13,
   "metadata": {},
   "outputs": [
    {
     "data": {
      "text/plain": [
       "array([ 73.,  61.,  69.,  34.,  70.])"
      ]
     },
     "execution_count": 13,
     "metadata": {},
     "output_type": "execute_result"
    }
   ],
   "source": [
    "eigen_vectors[:,0].dot(testResults[0:5,0])*eigen_vectors[:,0] + \\\n",
    "eigen_vectors[:,1].dot(testResults[0:5,0])*eigen_vectors[:,1] + \\\n",
    "eigen_vectors[:,2].dot(testResults[0:5,0])*eigen_vectors[:,2] + \\\n",
    "eigen_vectors[:,3].dot(testResults[0:5,0])*eigen_vectors[:,3] + \\\n",
    "eigen_vectors[:,4].dot(testResults[0:5,0])*eigen_vectors[:,4] "
   ]
  },
  {
   "cell_type": "markdown",
   "metadata": {},
   "source": [
    "全ての学生の第1主成分を求めるには，次の式を実行します．\n",
    "\n",
    "> eigen_vectors[:,0].dot(testResults[0:5,:])"
   ]
  },
  {
   "cell_type": "code",
   "execution_count": 14,
   "metadata": {},
   "outputs": [
    {
     "data": {
      "text/plain": [
       "array([ 137.46447315,  145.26051738,  114.65263724,  119.99908299,\n",
       "        104.69684305,  102.00680352,  131.05030204,   92.75088314,\n",
       "        104.24496   ,  117.30134756,  122.77563229,  106.85846601,\n",
       "        117.12654134,  153.39074218,  121.91387444,   95.43742584,\n",
       "        103.44366667,  104.18831293,   76.17558037,  112.10427519])"
      ]
     },
     "execution_count": 14,
     "metadata": {},
     "output_type": "execute_result"
    }
   ],
   "source": [
    "ev1 = eigen_vectors[:,0].dot(testResults[0:5,:])\n",
    "ev1"
   ]
  },
  {
   "cell_type": "markdown",
   "metadata": {},
   "source": [
    "全ての学生の第2主成分を求めるには，次の式を実行します．\n",
    "\n",
    "> eigen_vectors[:,1].dot(testResults[0:5,:])"
   ]
  },
  {
   "cell_type": "code",
   "execution_count": 15,
   "metadata": {},
   "outputs": [
    {
     "data": {
      "text/plain": [
       "array([-19.7876083 ,   5.28364712, -21.74511139,   8.46379817,\n",
       "       -37.9469867 ,  10.00289503, -21.89716453,   1.3784158 ,\n",
       "       -12.06623385,   3.44174051,   4.78307871,  -1.75682207,\n",
       "        19.58237326,  32.10410331, -41.08477798,   2.20439786,\n",
       "        -1.73822698,  -7.26707358,   2.67212438, -13.45370582])"
      ]
     },
     "execution_count": 15,
     "metadata": {},
     "output_type": "execute_result"
    }
   ],
   "source": [
    "ev2 = eigen_vectors[:,1].dot(testResults[0:5,:])\n",
    "ev2"
   ]
  },
  {
   "cell_type": "markdown",
   "metadata": {},
   "source": [
    "最後に，第1主成分と第2主成分の分布についてグラフ表示してみます．\n",
    "そのために，グラフ描画用ライブラリーである<font color=green>matplotlib.pyplot</font>をインポートします．\n",
    "\n",
    "> import matplotlib.pyplot as plt"
   ]
  },
  {
   "cell_type": "code",
   "execution_count": 16,
   "metadata": {
    "collapsed": true
   },
   "outputs": [],
   "source": [
    "import matplotlib.pyplot as plt"
   ]
  },
  {
   "cell_type": "code",
   "execution_count": 17,
   "metadata": {},
   "outputs": [
    {
     "data": {
      "image/png": "[encoded data removed]",
      "text/plain": [
       "<matplotlib.figure.Figure at 0x22309129390>"
      ]
     },
     "metadata": {},
     "output_type": "display_data"
    }
   ],
   "source": [
    "plt.axis('scaled')\n",
    "plt.scatter(ev1,ev2)\n",
    "plt.xlim([70,160])\n",
    "plt.ylim([-50,40])\n",
    "plt.xticks([70,80,90,100,110,120,130,140,150,160])\n",
    "plt.yticks([-50,-40,-30,-20,-10,0,10,20,30,40])\n",
    "plt.xlabel('Component-1')\n",
    "plt.ylabel('Component-2')\n",
    "plt.show()"
   ]
  },
  {
   "cell_type": "markdown",
   "metadata": {},
   "source": [
    "\n",
    "> from sklearn.decomposition import PCA"
   ]
  },
  {
   "cell_type": "code",
   "execution_count": 18,
   "metadata": {
    "collapsed": true
   },
   "outputs": [],
   "source": [
    "from sklearn.decomposition import PCA"
   ]
  },
  {
   "cell_type": "code",
   "execution_count": 26,
   "metadata": {
    "collapsed": true
   },
   "outputs": [],
   "source": [
    "pca = PCA(n_components=None)"
   ]
  },
  {
   "cell_type": "code",
   "execution_count": 27,
   "metadata": {},
   "outputs": [
    {
     "data": {
      "text/plain": [
       "PCA(copy=True, iterated_power='auto', n_components=None, random_state=None,\n",
       "  svd_solver='auto', tol=0.0, whiten=False)"
      ]
     },
     "execution_count": 27,
     "metadata": {},
     "output_type": "execute_result"
    }
   ],
   "source": [
    "pca.fit(testResults.T)"
   ]
  },
  {
   "cell_type": "code",
   "execution_count": 28,
   "metadata": {},
   "outputs": [
    {
     "data": {
      "text/plain": [
       "array([ 0.41870753,  0.36645207,  0.17492158,  0.03132743,  0.00859139])"
      ]
     },
     "execution_count": 28,
     "metadata": {},
     "output_type": "execute_result"
    }
   ],
   "source": [
    "pca.explained_variance_ratio_"
   ]
  },
  {
   "cell_type": "code",
   "execution_count": 29,
   "metadata": {},
   "outputs": [
    {
     "data": {
      "text/plain": [
       "array([[  5.88510661,  26.92496303, -23.85212535,   0.52875694,\n",
       "          1.04686132],\n",
       "       [ 31.61727878,   2.80565756,  -3.03464983,  12.27998937,\n",
       "          0.23712775],\n",
       "       [ -6.11961198,  17.97844258,   3.62756654,  -3.11526715,\n",
       "         -1.28425973],\n",
       "       [ 18.31680708,  -9.77165795,  17.66922668,   1.9857279 ,\n",
       "         -2.06206026],\n",
       "       [-22.56284065,  27.65551609,   8.41043532,  -0.27347019,\n",
       "          2.96107131],\n",
       "       [ -6.42117067, -18.47459581,  -7.95212601,  -6.24423127,\n",
       "         -1.73742477],\n",
       "       [  5.5138729 ,  20.17794899,  -0.93474454,  12.49382692,  -2.8223433 ],\n",
       "       [-19.25800744, -18.39929193,  -4.22530711,   0.83739624,\n",
       "         -2.15133754],\n",
       "       [-17.38330171,   1.19739655, -11.12209017,   0.26624976,\n",
       "         -0.55025848],\n",
       "       [  1.49681905,  -3.8775094 , -18.02230739,  -7.00521154,\n",
       "         -2.85226248],\n",
       "       [  7.75233522,  -3.34825212, -12.03973498,   1.23093718,\n",
       "          7.68163926],\n",
       "       [ -7.384379  ,  -7.855266  ,  -3.08954103,   3.20444372,\n",
       "          1.15737617],\n",
       "       [ 24.84192909, -20.3680017 ,  27.41874061,  -0.11550201,\n",
       "          0.09944222],\n",
       "       [ 53.63368286,  -9.23497369,  -8.90393332,  -8.62097776,\n",
       "          1.65213119],\n",
       "       [ -2.62509973,  43.01083869,  18.73489949,  -6.82955519,   1.1936597 ],\n",
       "       [-18.8709533 , -19.01350533,  -9.87809195,   3.85257662,\n",
       "         -1.49739428],\n",
       "       [ -6.98381097,  -8.20099442,   4.38114277,  -1.45489759,\n",
       "         -2.03627992],\n",
       "       [ -9.61512336,  -1.98846831,   2.5136102 ,  -2.27533973,\n",
       "         -0.88740601],\n",
       "       [-28.82976809, -27.00567372,  12.52821309,   1.19500955,\n",
       "          5.56249836],\n",
       "       [ -3.0037647 ,   7.78742689,   7.77081697,  -1.94046177,  -3.7107805 ]])"
      ]
     },
     "execution_count": 29,
     "metadata": {},
     "output_type": "execute_result"
    }
   ],
   "source": [
    "pca.fit_transform(testResults.T)"
   ]
  },
  {
   "cell_type": "code",
   "execution_count": 30,
   "metadata": {},
   "outputs": [
    {
     "data": {
      "text/plain": [
       "-18.207755377964805"
      ]
     },
     "execution_count": 30,
     "metadata": {},
     "output_type": "execute_result"
    }
   ],
   "source": [
    "pca.score(testResults.T)"
   ]
  },
  {
   "cell_type": "code",
   "execution_count": 31,
   "metadata": {},
   "outputs": [
    {
     "data": {
      "text/plain": [
       "array([[ 0.53580023,  0.12363395,  0.11821135,  0.72425273,  0.3988945 ],\n",
       "       [ 0.06381759,  0.25129726,  0.90441355, -0.31135506,  0.1336831 ],\n",
       "       [-0.60069424, -0.02943167,  0.32089346,  0.61518511, -0.39607433],\n",
       "       [-0.43135763,  0.76816117, -0.2418918 ,  0.00351944,  0.40661406],\n",
       "       [-0.40242074, -0.57500134,  0.08110461, -0.00713542,  0.70767375]])"
      ]
     },
     "execution_count": 31,
     "metadata": {},
     "output_type": "execute_result"
    }
   ],
   "source": [
    "pca.components_"
   ]
  },
  {
   "cell_type": "code",
   "execution_count": 32,
   "metadata": {},
   "outputs": [
    {
     "data": {
      "text/plain": [
       "array([[ 174.6475,   25.75  ,   15.4075,   82.34  ,  114.8575],\n",
       "       [  25.75  ,   46.4   ,   74.15  ,    5.25  ,   37.55  ],\n",
       "       [  15.4075,   74.15  ,  296.0275,  -29.87  ,   35.6775],\n",
       "       [  82.34  ,    5.25  ,  -29.87  ,  292.26  ,   57.38  ],\n",
       "       [ 114.8575,   37.55  ,   35.6775,   57.38  ,  100.1275]])"
      ]
     },
     "execution_count": 32,
     "metadata": {},
     "output_type": "execute_result"
    }
   ],
   "source": [
    "pca.get_covariance()"
   ]
  },
  {
   "cell_type": "code",
   "execution_count": null,
   "metadata": {
    "collapsed": true
   },
   "outputs": [],
   "source": []
  },
  {
   "cell_type": "code",
   "execution_count": null,
   "metadata": {
    "collapsed": true
   },
   "outputs": [],
   "source": []
  }
 ],
 "metadata": {
  "kernelspec": {
   "display_name": "Python 3",
   "language": "python",
   "name": "python3"
  },
  "language_info": {
   "codemirror_mode": {
    "name": "ipython",
    "version": 3
   },
   "file_extension": ".py",
   "mimetype": "text/x-python",
   "name": "python",
   "nbconvert_exporter": "python",
   "pygments_lexer": "ipython3",
   "version": "3.6.1"
  }
 },
 "nbformat": 4,
 "nbformat_minor": 2
}
