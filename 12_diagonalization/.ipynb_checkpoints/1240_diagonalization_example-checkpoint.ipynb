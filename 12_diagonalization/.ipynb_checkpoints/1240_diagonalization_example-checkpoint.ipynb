{
 "cells": [
  {
   "cell_type": "markdown",
   "metadata": {},
   "source": [
    "# 対角化の一例\n",
    "\n",
    "$n$次元ベクトル空間上の変換を表す$n$次正方行列$\\bf A$について，固有値と固有ベクトルを求めます．\n",
    "値の重複も許して，$n$個の固有値$\\lambda_1,\\lambda_2,\\cdots,\\lambda_n$ および，\n",
    "その固有値に対応する$n$個の線形独立な実数ベクトル${\\bf p}_1,{\\bf p}_2,\\cdots,{\\bf p}_n$ が存在したとき，\n",
    "すなわち，\n",
    "\n",
    "> ${\\bf A}{\\bf p}_i = {\\lambda}_i{\\bf p}_i$\n",
    "\n",
    "が成り立つと仮定します．\n",
    "このとき，$n$次元ベクトル空間の基底を$\\{ {\\bf p}_1,{\\bf p}_2,\\cdots,{\\bf p}_n \\}$ とすると，\n",
    "行列$\\bf A$は，\n",
    "\n",
    "> ${\\Lambda} =\n",
    "\\left(\\begin{array}{c}\n",
    "\\lambda_1 & 0 & \\cdots & 0 \\\\\n",
    "0 & \\lambda_2 & \\ddots & 0 \\\\\n",
    "\\vdots & \\ddots & \\ddots & \\vdots \\\\\n",
    "0 & 0 & \\cdots & \\lambda_n \\\\\n",
    "\\end{array}\\right)$\n",
    "\n",
    "と対角行列に変換することができます．"
   ]
  },
  {
   "cell_type": "markdown",
   "metadata": {},
   "source": [
    "なぜならば，\n",
    "固有ベクトル${\\bf p}_1,{\\bf p}_2,\\cdots,{\\bf p}_n$は線形独立なので，\n",
    "正方行列 \n",
    "${\\bf P} = \\left(\\begin{array}{c} {\\bf p}_1 & {\\bf p}_2 & \\cdots & {\\bf p}_n \\end{array}\\right) $\n",
    "は正則行列になります．  \n",
    "行列式${\\bf A}{\\bf p}_i={\\lambda}_i{\\bf p}_i$ を並べると次式になります．\n",
    "\n",
    "$ {\\bf AP} =\n",
    "\\left(\\begin{array}{c}\n",
    "{\\bf A}{\\bf p}_1 & {\\bf A}{\\bf p}_2 & \\cdots & {\\bf A}{\\bf p}_n \n",
    "\\end{array}\\right)\n",
    "=\n",
    "\\left(\\begin{array}{c}\n",
    "{\\lambda}_1{\\bf p}_1 & {\\lambda}_2{\\bf p}_2 & \\cdots & {\\lambda}_n{\\bf p}_n\n",
    "\\end{array}\\right)\n",
    "= {\\bf P\\Lambda}$\n",
    "\n",
    "行列$\\bf P$が正則であるということは逆行列${\\bf P}^{-1}$が存在して，\n",
    "\n",
    "> ${\\bf \\Lambda}={\\bf P}^{-1}{\\bf A}{\\bf P}$\n",
    "\n",
    "が成立します．\n",
    "逆に元の行列は\n",
    "\n",
    "> ${\\bf A}={\\bf P}{\\bf \\Lambda}{\\bf P}^{-1}$\n",
    "\n",
    "と表すことができます．"
   ]
  },
  {
   "cell_type": "markdown",
   "metadata": {},
   "source": [
    "### 行列の冪乗\n",
    "\n",
    "固有値による行列の対角化を利用することによって，行列の冪乗を簡単に計算することができます．\n",
    "\n",
    "$ \\begin{eqnarray}\n",
    "{\\bf A}^k &=& ({\\bf P}{\\bf\\Lambda}{\\bf P}^{-1})^k \\\\\n",
    "&=&\n",
    "({\\bf P}{\\bf\\Lambda}{\\bf P}^{-1})({\\bf P}{\\bf\\Lambda}{\\bf P}^{-1}){\\cdots}({\\bf P}{\\Lambda}{\\bf P}^{-1}) \\\\\n",
    "&=&\n",
    "{\\bf P}{\\bf\\Lambda}({\\bf P}^{-1}{\\bf P}){\\bf\\Lambda}({\\bf P}^{-1}{\\bf P}){\\cdots}{\\Lambda}{\\bf P}^{-1} \\\\\n",
    "&=&\n",
    "{\\bf P}{\\bf\\Lambda}{\\bf I}{\\bf\\Lambda}{\\bf I}{\\cdots}{\\bf I}{\\Lambda}{\\bf P}^{-1} \\\\\n",
    "&=&\n",
    "{\\bf P}{\\bf\\Lambda}^{k-1}{\\bf P}^{-1} \\\\\n",
    "\\end{eqnarray}$\n",
    "\n",
    "となるので，\n",
    "\n",
    "> ${\\bf A} = {\\bf P}\n",
    "\\left(\\begin{array}{c}\n",
    "{\\lambda_1}^{k-1} &  &  & 0 \\\\\n",
    " & {\\lambda_2}^{k-1} & &  \\\\\n",
    " &  & \\ddots &  \\\\\n",
    "0 & &  & {\\lambda_n}^{k-1} \\\\\n",
    "\\end{array}\\right)\n",
    "{\\bf P}^{-1}$\n",
    "\n",
    "で求めることができます．"
   ]
  },
  {
   "cell_type": "markdown",
   "metadata": {},
   "source": [
    "*****\n",
    "## 対角化の例\n",
    "\n",
    "次の行列$\\bf A$について，固有値と固有ベクトルを求めて対角化を試みます．\n",
    "\n",
    "> ${\\bf A} =\n",
    "\\left(\\begin{array}{c}\n",
    "-2 & 3 & -2 \\\\\n",
    "-4 & 5 & -2 \\\\\n",
    "0 & 0 & 2 \\\\\n",
    "\\end{array}\\right)$"
   ]
  },
  {
   "cell_type": "markdown",
   "metadata": {},
   "source": [
    "#### 固有方程式により固有値を求める\n",
    "\n",
    "$\\begin{eqnarray}\n",
    "\\text{det}({\\bf A}-\\lambda{\\bf I}) \n",
    "&=&\n",
    "\\left|\\begin{array}{c}\n",
    "-2-\\lambda & 3 & -2 \\\\\n",
    "-4 & 5-\\lambda & -2 \\\\\n",
    "0 & 0 & 2-\\lambda \\\\\n",
    "\\end{array}\\right|  \\\\\n",
    "&=&\n",
    "0-0+\n",
    "(2-\\lambda)\n",
    "\\left|\\begin{array}{c}\n",
    "-2-\\lambda & 3  \\\\\n",
    "-4 & 5-\\lambda  \\\\\n",
    "\\end{array}\\right|  \\\\\n",
    "&=&\n",
    "(2-\\lambda)\\{(-2-\\lambda)(5-\\lambda)-(3)(-4)\\}  \\\\\n",
    "&=&\n",
    "(2-\\lambda)^2(1-\\lambda)  \\\\\n",
    "\\end{eqnarray}$\n",
    "\n",
    "この計算において，行列式の展開公式を3行目に適用しました．\n",
    "これにより，固有値が求まりました．\n",
    "\n",
    "> ${\\lambda}_1=1$\n",
    "\n",
    "> ${\\lambda}_2=2$（重根）"
   ]
  },
  {
   "cell_type": "markdown",
   "metadata": {},
   "source": [
    "#### 固有値${\\lambda}_1=1$に対応する固有ベクトルを求める\n",
    "\n",
    "${\\bf p} = \n",
    "\\left(\\begin{array}{c}\n",
    "x \\\\ y \\\\ z \\\\\n",
    "\\end{array}\\right)$\n",
    "として，\n",
    "$({\\bf A}-{\\lambda}_1{\\bf I}){\\bf p}={\\bf 0}$を展開します．\n",
    "\n",
    "$ \\left\\{\\begin{eqnarray}\n",
    "-3x+3y-2z &=& 0 \\\\\n",
    "-4x+4y-2z &=& 0 \\\\\n",
    "        z &=& 0 \\\\\n",
    "\\end{eqnarray}\\right. $\n",
    "\n",
    "$z=0$を上の2式に代入すると$-x+y=0$が残ります．\n",
    "ここで，$x=c_1$と置くと，$y=c_1$となるので，固有値として\n",
    "\n",
    "> ${\\bf p}_1=\n",
    "\\left(\\begin{array}{c}\n",
    "1 \\\\ 1 \\\\ 0 \\\\\n",
    "\\end{array}\\right)$\n",
    "\n",
    "が得られます．"
   ]
  },
  {
   "cell_type": "markdown",
   "metadata": {},
   "source": [
    "#### 固有値${\\lambda}_2=2$に対応する固有ベクトルを求める\n",
    "\n",
    "$({\\bf A}-{\\lambda}_2{\\bf I}){\\bf p}={\\bf 0}$を展開します．\n",
    "\n",
    "$ \\left\\{\\begin{eqnarray}\n",
    "-4x+3y-2z &=& 0 \\\\\n",
    "-4x+3y-2z &=& 0 \\\\\n",
    "        0 &=& 0 \\\\\n",
    "\\end{eqnarray}\\right. $\n",
    "\n",
    "第1式と第2式は同じ式になっています．\n",
    "この式は2次平面をあらわしています．\n",
    "固有ベクトルは，この平面の線形独立な2つのベクトルを求めればよいので，自由度が高い答えになります．\n"
   ]
  },
  {
   "cell_type": "markdown",
   "metadata": {},
   "source": [
    "ここで，$y=c_2$および，$z=c_3$と置くと，$x=\\frac{3}{4}c_2-\\frac{1}{2}c_3$となるので，\n",
    "\n",
    "$\\displaystyle {\\bf p} =\n",
    "\\left(\\begin{array}{c}\n",
    "-\\frac{3}{4}c_2-\\frac{1}{2}c_3 \\\\\n",
    "c_2 \\\\\n",
    "c_3 \\\\\n",
    "\\end{array}\\right)\n",
    "=\n",
    "\\frac{c_2}{4}\n",
    "\\left(\\begin{array}{c}\n",
    "3 \\\\\n",
    "4 \\\\\n",
    "0 \\\\\n",
    "\\end{array}\\right)\n",
    "-\\frac{c_3}{2}\n",
    "\\left(\\begin{array}{c}\n",
    "1 \\\\\n",
    "0 \\\\\n",
    "2 \\\\\n",
    "\\end{array}\\right)\n",
    "$\n",
    "\n",
    "となります．"
   ]
  },
  {
   "cell_type": "markdown",
   "metadata": {},
   "source": [
    "そこで固有値$\\lambda_2=2$に対する固有ベクトルとして，\n",
    "\n",
    "> ${\\bf p}_2 =\n",
    "\\left(\\begin{array}{c}\n",
    "3 \\\\\n",
    "4 \\\\\n",
    "0 \\\\\n",
    "\\end{array}\\right) $\n",
    "\n",
    "> ${\\bf p}_3 =\n",
    "\\left(\\begin{array}{c}\n",
    "1 \\\\\n",
    "0 \\\\\n",
    "2 \\\\\n",
    "\\end{array}\\right) $\n",
    "\n",
    "を選択します．\n",
    "この2つのベクトルは線形独立なので，固有ベクトル空間の基底として選択することができます．"
   ]
  },
  {
   "cell_type": "markdown",
   "metadata": {},
   "source": [
    "### 対角化行列\n",
    "\n",
    "行列$\\bf A$の全ての固有値と固有ベクトルが求まりましたので，対角化行列について確認します．\n",
    "対角化行列$\\bf \\Lambda$は,\n",
    "\n",
    "> ${\\bf \\Lambda} =\n",
    "\\left(\\begin{array}{c}\n",
    "1 & 0 & 0 \\\\\n",
    "0 & 2 & 0 \\\\\n",
    "0 & 0 & 2 \\\\\n",
    "\\end{array}\\right)$\n",
    "\n",
    "です．\n",
    "また対角化に用いる行列$\\bf P$は，\n",
    "\n",
    "> ${\\bf P} =\n",
    "\\left(\\begin{array}{c}\n",
    "1 & 3 & 1 \\\\\n",
    "1 & 4 & 0 \\\\\n",
    "0 & 0 & 2 \\\\\n",
    "\\end{array}\\right)$\n",
    "\n",
    "となります．"
   ]
  },
  {
   "cell_type": "markdown",
   "metadata": {},
   "source": [
    "*****\n",
    "## Pythonによる確認\n",
    "\n",
    "以上のことをPythonによる計算で確認します．\n",
    "\n",
    "まずNumPyライブラリーをインポートします．"
   ]
  },
  {
   "cell_type": "code",
   "execution_count": 1,
   "metadata": {
    "collapsed": true
   },
   "outputs": [],
   "source": [
    "import numpy as np"
   ]
  },
  {
   "cell_type": "markdown",
   "metadata": {},
   "source": [
    "行列\n",
    "${\\bf A} =\n",
    "\\left(\\begin{array}{c}\n",
    "-2 & 3 & -2 \\\\\n",
    "-4 & 5 & -2 \\\\\n",
    "0 & 0 & 2 \\\\\n",
    "\\end{array}\\right)$\n",
    "を定義します．"
   ]
  },
  {
   "cell_type": "code",
   "execution_count": 2,
   "metadata": {},
   "outputs": [
    {
     "data": {
      "text/plain": [
       "array([[-2,  3, -2],\n",
       "       [-4,  5, -2],\n",
       "       [ 0,  0,  2]])"
      ]
     },
     "execution_count": 2,
     "metadata": {},
     "output_type": "execute_result"
    }
   ],
   "source": [
    "A = np.array([[-2,  3, -2],\n",
    "              [-4,  5, -2],\n",
    "              [ 0,  0,  2]])\n",
    "A"
   ]
  },
  {
   "cell_type": "markdown",
   "metadata": {},
   "source": [
    "行列$\\bf A$の固有値と固有ベクトルを<font color=green>numpy.linalg.eig()</font>関数によって求めます．\n",
    "\n",
    "> eigen_values,eigen_vectors = np.linalg.eig(A)"
   ]
  },
  {
   "cell_type": "code",
   "execution_count": 3,
   "metadata": {
    "collapsed": true
   },
   "outputs": [],
   "source": [
    "eigen_values,eigen_vectors = np.linalg.eig(A)"
   ]
  },
  {
   "cell_type": "markdown",
   "metadata": {},
   "source": [
    "固有値を確認します．"
   ]
  },
  {
   "cell_type": "code",
   "execution_count": 4,
   "metadata": {},
   "outputs": [
    {
     "data": {
      "text/plain": [
       "array([ 1.,  2.,  2.])"
      ]
     },
     "execution_count": 4,
     "metadata": {},
     "output_type": "execute_result"
    }
   ],
   "source": [
    "eigen_values"
   ]
  },
  {
   "cell_type": "markdown",
   "metadata": {},
   "source": [
    "確かに，固有値は1および重根の2です．\n",
    "\n",
    "そして，これらの固有ベクトルを確認します．"
   ]
  },
  {
   "cell_type": "code",
   "execution_count": 5,
   "metadata": {},
   "outputs": [
    {
     "data": {
      "text/plain": [
       "array([[-0.70710678, -0.6       , -0.66666667],\n",
       "       [-0.70710678, -0.8       , -0.66666667],\n",
       "       [ 0.        ,  0.        ,  0.33333333]])"
      ]
     },
     "execution_count": 5,
     "metadata": {},
     "output_type": "execute_result"
    }
   ],
   "source": [
    "eigen_vectors"
   ]
  },
  {
   "cell_type": "markdown",
   "metadata": {},
   "source": [
    "固有値${\\lambda}_1=1$に対する固有ベクトルの計算値は，\n",
    "$\\left(\\begin{array}{c}\n",
    "-0.70710678 \\\\ -0.70710678 \\\\ 0 \\\\\n",
    "\\end{array}\\right)$\n",
    "となっていますが，$-0.70710678$で割ると${\\bf p}_1$と一致します．"
   ]
  },
  {
   "cell_type": "markdown",
   "metadata": {},
   "source": [
    "固有値${\\lambda}_2=2$に対する固有ベクトルの計算値は，\n",
    "$\\left(\\begin{array}{c}\n",
    "-0.6 \\\\ -0.8 \\\\ 0 \\\\\n",
    "\\end{array}\\right)$\n",
    "と\n",
    "$\\left(\\begin{array}{c}\n",
    "-0.66666667 \\\\ -0.66666667 \\\\ 0.33333333 \\\\\n",
    "\\end{array}\\right)$\n",
    "となっています．\n",
    "\n",
    "1つ目のベクトルは5倍すれば${\\bf p}_2$に一致します．\n",
    "\n",
    "2つ目のベクトルについては，$0.33333333$で割ると，\n",
    "$\\left(\\begin{array}{c}\n",
    "-2 \\\\ -2 \\\\ 1 \\\\\n",
    "\\end{array}\\right)$\n",
    "となり，これは\n",
    "$-\\frac{1}{2}{\\bf p}_2+\\frac{1}{2}{\\bf p}_3$\n",
    "に一致します．"
   ]
  },
  {
   "cell_type": "markdown",
   "metadata": {},
   "source": [
    "固有ベクトルは，その固有空間内で線形独立ならば任意の選択することができるので，一見すると異なる結果になりますが，\n",
    "固有ベクトルの選択には自由度があることを理解しましょう．\n",
    "*****"
   ]
  }
 ],
 "metadata": {
  "kernelspec": {
   "display_name": "Python 3",
   "language": "python",
   "name": "python3"
  },
  "language_info": {
   "codemirror_mode": {
    "name": "ipython",
    "version": 3
   },
   "file_extension": ".py",
   "mimetype": "text/x-python",
   "name": "python",
   "nbconvert_exporter": "python",
   "pygments_lexer": "ipython3",
   "version": "3.6.1"
  }
 },
 "nbformat": 4,
 "nbformat_minor": 2
}
