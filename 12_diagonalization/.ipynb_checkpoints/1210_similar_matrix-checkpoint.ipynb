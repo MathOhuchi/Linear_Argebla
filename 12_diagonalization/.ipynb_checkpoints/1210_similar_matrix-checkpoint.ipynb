{
 "cells": [
  {
   "cell_type": "markdown",
   "metadata": {},
   "source": [
    "*****\n",
    "# 行列の相似と対角化\n",
    "\n",
    "数学において「相似」と言う概念は同値関係が成立します．\n",
    "しかし，完全に同じである等号ではなく，同じ種類のグループのような扱いです．\n",
    "等号との違いは，同じグループ内の要素の違いを無視しないで扱うということです．\n",
    "\n",
    "$n$次正方行列$\\bf A$と$\\bf B$に対して，$n$次正則行列$\\bf M$が存在して，\n",
    "\n",
    "> <font color=blue>${\\bf M}^{-1}{\\bf A}{\\bf M} = {\\bf B}$</font>\n",
    "\n",
    "は<font color=blue>相似</font>であると言います．"
   ]
  },
  {
   "cell_type": "markdown",
   "metadata": {},
   "source": [
    "ある正方行列$\\bf A$と相似な行列は無数に存在しますが，その中に対角行列$\\bf \\Lambda$があれば，それが行列$\\bf A$の対角化となります．\n",
    "\n",
    "$\\begin{eqnarray}\n",
    "{\\bf M}^{-1}{\\bf AM} &=& {\\bf \\Lambda} \\\\\n",
    "{\\bf AM} &=& {\\bf M\\Lambda} \\\\\n",
    "\\end{eqnarray}$\n",
    "\n",
    "この式において，対角行列$\\bf \\Lambda$の対角成分を$\\lambda_i$とし，また行列$\\bf M$の列ベクトルを${\\bf x}_i$とすれば，\n",
    "\n",
    "> ${\\bf Ax}_i=\\lambda_i{\\bf x}_i$ 　$(i=1,\\cdots n)$\n",
    "\n",
    "となり，まさに固有値と固有ベクトルになります．"
   ]
  },
  {
   "cell_type": "markdown",
   "metadata": {},
   "source": [
    "*****\n",
    "## 相似行列の特徴1\n",
    "\n",
    "行列$\\bf A$と$\\bf B$が相似なことを${\\bf A}{\\sim}{\\bf B}$で表すとすると，この二項関係は同値関係となります．\n",
    "すなわち，\n",
    "\n",
    "- 反射律：${\\bf A} \\sim {\\bf A}$\n",
    "- 対称律：${\\bf A} \\sim {\\bf B} \\Rightarrow {\\bf B} \\sim {\\bf A}$\n",
    "- 推移律：${\\bf A} \\sim {\\bf B},\\, {\\bf B} \\sim {\\bf C} \\Rightarrow {\\bf A} \\sim {\\bf C}$\n",
    "\n",
    "が成り立ちます．"
   ]
  },
  {
   "cell_type": "markdown",
   "metadata": {},
   "source": [
    "### 証明\n",
    "\n",
    "**反射律**  \n",
    "${\\bf A}={\\bf A}$なので，正則行列$\\bf M$として単位行列$\\bf I$をとれば，\n",
    "${\\bf I}^{-1}{\\bf A}{\\bf I} = {\\bf A}$\n",
    "となります．\n",
    "\n",
    "**対称律**  \n",
    "式${\\bf M}^{-1}{\\bf A}{\\bf M} = {\\bf B}$の左から$\\bf M$を掛け，右から${\\bf M}^{-1}$を掛けると，\n",
    "${\\bf A} = {\\bf M}{\\bf B}{\\bf M}^{-1}$\n",
    "となり，${\\bf M}^{-1}$を${\\bf M}$と書き直せば相似の式になります．\n",
    "\n",
    "**推移律**  \n",
    "${\\bf M}^{-1}{\\bf A}{\\bf M} = {\\bf B}$かつ${\\bf N}^{-1}{\\bf B}{\\bf N} = {\\bf C}$とします．\n",
    "すると，\n",
    "\n",
    "${\\bf C} = {\\bf N}^{-1}{\\bf B}{\\bf N} = {\\bf N}^{-1}{\\bf M}^{-1}{\\bf A}{\\bf M}{\\bf N} = ({\\bf MN})^{-1}{\\bf A}({\\bf MN}) $\n",
    "\n",
    "となるので，正則行列${\\bf MN}$を$\\bf M$と書き直せば相似の式になります．"
   ]
  },
  {
   "cell_type": "markdown",
   "metadata": {},
   "source": [
    "*****\n",
    "## 相似な行列の特徴2\n",
    "\n",
    "相似な行列は同じ固有値を持ちます．"
   ]
  },
  {
   "cell_type": "markdown",
   "metadata": {},
   "source": [
    "### 証明\n",
    "\n",
    "${\\bf B}={\\bf M}^{-1}{\\bf A}{\\bf M}$とします．\n",
    "行列$\\bf B$の固有値を求めるための固有方程式を計算すると，\n",
    "\n",
    "$\\begin{eqnarray}\n",
    "\\text{det}({\\bf B}-\\lambda{\\bf I})\n",
    "&=& \\text{det}({\\bf M}^{-1}{\\bf A}{\\bf M}-\\lambda{\\bf I}) \\\\\n",
    "&=& \\text{det}({\\bf M}^{-1}({\\bf A}-\\lambda{\\bf I}){\\bf M}) \\\\\n",
    "&=& \\text{det}({\\bf M}^{-1}){\\cdot}\\text{det}({\\bf A}-\\lambda{\\bf I}){\\cdot}\\text{det}({\\bf M}) \\\\\n",
    "&=& \\text{det}({\\bf M})^{-1}{\\cdot}\\text{det}({\\bf A}-\\lambda{\\bf I}){\\cdot}\\text{det}({\\bf M}) \\\\\n",
    "&=& \\text{det}({\\bf A}-\\lambda{\\bf I}) \\\\\n",
    "\\end{eqnarray}$\n",
    "\n",
    "行列$\\bf A$の固有方程式に一致します．"
   ]
  },
  {
   "cell_type": "markdown",
   "metadata": {},
   "source": [
    "*****\n",
    "## 一般正方行列の三角行列化定理\n",
    "\n",
    "任意の$n$次正方行列$\\bf A$に対して，ユニタリ行列$\\bf U$が存在して，行列$\\bf A$を相似な上三角行列$\\bf T$に相似変換でき，\n",
    "$\\bf A$の固有値は$\\bf T$の対角成分となる．\n",
    "\n",
    "> ${\\bf U}^{-1}{\\bf A}{\\bf U}={\\bf T}$\n",
    "\n",
    "> ${\\bf T} =\n",
    "\\left(\\begin{array}{c}\n",
    "\\lambda_1 & * & \\cdots & * \\\\\n",
    "0 & \\lambda_2 & \\ddots & \\vdots \\\\\n",
    "\\vdots & \\ddots & \\ddots & * \\\\\n",
    "0 & \\cdots & 0 & \\lambda_n \\\\\n",
    "\\end{array}\\right)$\n",
    "\n",
    "> ${\\bf U}^*={\\bf U}^{-1}$\n",
    "\n",
    "上三角行列内の成分 $*$ は，ゼロとは限らなり何らかの値を表しています．"
   ]
  },
  {
   "cell_type": "markdown",
   "metadata": {},
   "source": [
    "### 証明\n",
    "\n",
    "行列$\\bf A$の固有方程式は$n$次方程式です．この解は最大個数は$n$個ですが，最小個数は全て重根となる1個です．\n",
    "すなわち，何らかの固有値があります．その1つの固有値を$\\lambda_1$とします．\n",
    "$\\lambda_1$に対応する正規化された固有ベクトルを${\\bf u}_1$とします．\n",
    "\n",
    "この${\\bf u}_1$を第1列にした$n$次正方行列${\\bf U}_1$を構築します．\n",
    "この行列の構築方法は，次にように行います．\n",
    "\n",
    "- 第2列から第$n$列までの列ベクトルは${\\bf u}_1$を含めて線形独立となるベクトルを任意に定めます．\n",
    "- Gram Schmidtの直交加法により，全ての列ベクトルが正規直交ベクトルになるように補正します．\n",
    "\n",
    "すると$n$次正方行列${\\bf U}_1$はユニタリ行列になっています．\n",
    "\n",
    "行列$\\bf A$と${\\bf U}_1$を掛けると次のようになります．\n",
    "\n"
   ]
  },
  {
   "cell_type": "markdown",
   "metadata": {},
   "source": [
    "${\\bf A}{\\bf U}_1 =\n",
    "{\\bf U}_1\n",
    "\\left(\\begin{array}{c:ccc}\n",
    "\\lambda_1 & * & \\cdots & * \\\\\n",
    "0         & * & \\cdots & * \\\\\n",
    "\\vdots & \\vdots & \\ddots & \\vdots \\\\\n",
    "0         & * & \\cdots & * \\\\\n",
    "\\end{array}\\right)$\n",
    "\n",
    "この行列内の成分 $*$ は，何らかの数値を示しています．\n",
    "この式の左から${\\bf U}^{-1}$を掛ければ，次の相似変換を得ます．\n",
    "\n",
    "${{\\bf U}_1}^{-1}{\\bf A}{\\bf U}_1 =\n",
    "\\left(\\begin{array}{c:ccc}\n",
    "\\lambda_1 & * & \\cdots & * \\\\ \\hdashline\n",
    "0         & * & \\cdots & * \\\\\n",
    "\\vdots & \\vdots & \\ddots & \\vdots \\\\\n",
    "0         & * & \\cdots & * \\\\\n",
    "\\end{array}\\right)$"
   ]
  },
  {
   "cell_type": "markdown",
   "metadata": {},
   "source": [
    "右辺の行列の2行2列目から右下隅までの$n-1$次の部分行列を取り出して，${\\bf A}_{2}$と記載することにします．\n",
    "すると，$n$次元正方行列$\\bf A$について展開した議論をこの${\\bf A}_{2}$に適用すると，\n",
    "固有値$\\lambda_2$と固有ベクトル${\\bf u}_2$を得ることができます．\n",
    "\n",
    "この${\\bf u}_2$を第1列にした$n-1$次ユニタリ行列$\\hat{\\bf U}_2$を作り，行列${\\bf A}_{2}$を次のように相似変換できます．\n",
    "\n",
    "${\\hat{\\bf U}_2}^{-1}{\\bf A}_{2}\\hat{\\bf U}_2 =\n",
    "\\left(\\begin{array}{c:ccc}\n",
    "\\lambda_2 & * & \\cdots & * \\\\ \\hdashline\n",
    "0         & * & \\cdots & * \\\\\n",
    "\\vdots & \\vdots & \\ddots & \\vdots \\\\\n",
    "0         & * & \\cdots & * \\\\\n",
    "\\end{array}\\right)$\n",
    "\n",
    "この行列は${\\bf U}_{-1}{\\bf A}{\\bf U}$が$n$次正方行列であることに対して，$n-1$次正方行列と一回り小さくなっています．\n",
    "\n",
    "そこで，$n$次ユニタリ行列${\\bf U}_2$を次のように定義します．"
   ]
  },
  {
   "cell_type": "markdown",
   "metadata": {},
   "source": [
    "${\\bf U}_2 =\n",
    "\\left(\\begin{array}{c:ccc}\n",
    "1 & 0 & \\cdots & 0 \\\\ \\hdashline\n",
    "0 & & & \\\\\n",
    "\\vdots & & \\hat{\\bf U}_2 & \\\\\n",
    "0 & & &  \\\\\n",
    "\\end{array}\\right)$\n",
    "\n",
    "このユニタリ行列を使用して，${{\\bf U}_1}^{-1}{\\bf A}{\\bf U}_1$をさらに相似変換すると次のようになります．"
   ]
  },
  {
   "cell_type": "markdown",
   "metadata": {},
   "source": [
    "${{\\bf U}_2}^{-1}{{\\bf U}_1}^{-1}{\\bf A}{\\bf U}_1{\\bf U}_2 =\n",
    "\\left(\\begin{array}{cc:ccc}\n",
    "\\lambda_1 & * & * & \\cdots & * \\\\ \n",
    "0 & \\lambda_2 & * & \\cdots & * \\\\ \\hdashline\n",
    "0 & 0 & * & \\cdots & * \\\\\n",
    "\\vdots & \\vdots & \\vdots & \\ddots & \\vdots \\\\\n",
    "0 & 0 & * & \\cdots & * \\\\\n",
    "\\end{array}\\right)$"
   ]
  },
  {
   "cell_type": "markdown",
   "metadata": {},
   "source": [
    "この結果として得られた行列の右下の$n-2$次正方行列を${\\bf A}_3$と置いて，同様にユニタリ行列を求めます．\n",
    "\n",
    "このプロセスを右下の行列が$1$次正方行列になるまで繰り返すと，最終的に次の行列が求まります．\n",
    "\n",
    "${({\\bf U}_1{\\bf U}_2{\\cdots}{\\bf U}_n)}^{-1}{\\bf A}{\\bf U}_1{\\bf U}_2{\\cdots}{\\bf U}_n =\n",
    "\\left(\\begin{array}{c}\n",
    "\\lambda_1 & * & \\cdots & * \\\\ \n",
    "0 & \\lambda_2 & \\ddots & \\vdots \\\\ \n",
    "\\vdots & \\ddots & \\ddots & * \\\\\n",
    "0 & \\cdots & 0 & \\lambda_n \\\\\n",
    "\\end{array}\\right)$\n",
    "\n",
    "ユニタリ行列の積はユニタリ行列なので，\n",
    "${\\bf U} = {\\bf U}_1{\\bf U}_2{\\cdots}{\\bf U}_n$\n",
    "と置けば，行列$\\bf A$を上三角行列に相似変換するユニタリ行列となります．"
   ]
  },
  {
   "cell_type": "markdown",
   "metadata": {},
   "source": [
    "*****\n",
    "この正方行列に対する三角化定理があるということは，全ての正方行列は対角化できるとは限らないということが隠れています．\n",
    "スペクトル定理は，エルミート行列について固有値と固有ベクトルを用いて対角化できることを主張しています．\n"
   ]
  }
 ],
 "metadata": {
  "kernelspec": {
   "display_name": "Python 3",
   "language": "python",
   "name": "python3"
  },
  "language_info": {
   "codemirror_mode": {
    "name": "ipython",
    "version": 3
   },
   "file_extension": ".py",
   "mimetype": "text/x-python",
   "name": "python",
   "nbconvert_exporter": "python",
   "pygments_lexer": "ipython3",
   "version": "3.6.1"
  }
 },
 "nbformat": 4,
 "nbformat_minor": 2
}
