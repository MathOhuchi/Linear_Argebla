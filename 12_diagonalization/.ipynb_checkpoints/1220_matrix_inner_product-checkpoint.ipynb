{
 "cells": [
  {
   "cell_type": "markdown",
   "metadata": {},
   "source": [
    "# 内積と行列\n",
    "\n",
    "ここでは内積と深いつながりのある幾つかのn次正方行列について説明します．\n",
    "\n",
    "- 複素共役行列　：$\\bar{\\bf A}=(\\bar{a}_{ij})$\n",
    "- 転置行列　　　：${\\bf A}^\\mathsf{T}=(a_{ji})$\n",
    "- 随伴行列　　　：${\\bf A}^*=\\bar{\\bf A}^\\mathsf{T}=(\\bar{a}_{ji})$\n",
    "- エルミート行列：${\\bf H}^*={\\bf H}$\n",
    "- 対称行列　　　：${\\bf A}^\\mathsf{T}={\\bf A}$，各要素が実数値のエルミート行列\n",
    "- 交代行列　　　：${\\bf A}^\\mathsf{T}=-{\\bf A}$，複素行列\n",
    "- ユニタリ行列　：${\\bf H}^*={\\bf H}^{-1}$\n",
    "- 直交行列　　　：${\\bf A}^\\mathsf{T}={\\bf A}^{-1}$，各要素が実数値のユニタリ行列\n",
    "\n",
    "これらの行列の一部については既に扱っているものもありますが，ここではn次正方行列にした場合に内積との関係から行列の特徴を考察します．"
   ]
  },
  {
   "cell_type": "markdown",
   "metadata": {},
   "source": [
    "それぞれの定義については，m行n列の一般形で記述します．\n",
    "まずは，元の行列をこれまで通り\n",
    "\n",
    "${\\bf A}=\\left(\\begin{array}{cccc}\n",
    "a_{11} & a_{12} & \\cdots & a_{1n} \\\\ \n",
    "a_{21} & a_{22} & \\cdots & a_{2n} \\\\ \n",
    "\\vdots & \\vdots & \\ddots & \\vdots \\\\\n",
    "a_{m1} & a_{m2} & \\cdots & a_{mn} \\\\\n",
    "\\end{array} \\right)$\n",
    "\n",
    "とします．\n",
    "先ずは，天下り的にそれぞれの行列の定義を記述します．"
   ]
  },
  {
   "cell_type": "markdown",
   "metadata": {},
   "source": [
    "*****\n",
    "### 複素共役行列\n",
    "m行n列の複素行列${\\bf A}=(a_{ij})$に対して，各要素を複素共役$\\bar{a}_{ij}$とした行列を複素協約行列といい，$\\bar{\\bf A}=(\\bar{a}_{ij})$と表します．\n",
    "\n",
    "$\\bar{\\bf A}=\\left(\\begin{array}{cccc}\n",
    "\\bar{a}_{11} & \\bar{a}_{12} & \\cdots & \\bar{a}_{1n} \\\\ \n",
    "\\bar{a}_{21} & \\bar{a}_{22} & \\cdots & \\bar{a}_{2n} \\\\ \n",
    "\\vdots & \\vdots & \\ddots & \\vdots \\\\\n",
    "\\bar{a}_{m1} & \\bar{a}_{m2} & \\cdots & \\bar{a}_{mn} \\\\\n",
    "\\end{array} \\right)$\n",
    "\n",
    "複素共役行列について次の式が成り立ちます．\n",
    "\n",
    "- $\\bar{\\bar{\\bf A}}={\\bf A}$\n",
    "- $\\overline{{\\bf A}+{\\bf B}}=\\bar{\\bf A}+\\bar{\\bf B}$\n",
    "- $\\overline{c{\\bf A}}=\\bar{c}\\bar{\\bf A}$\n",
    "- $\\overline{\\bf AB}=\\bar{\\bf A}\\bar{\\bf B}$\n"
   ]
  },
  {
   "cell_type": "markdown",
   "metadata": {},
   "source": [
    "*****\n",
    "### 転置行列\n",
    "$m$行$n$列の行列${\\bf A}=(a_{ij})$に対して，縦横を入れ替えたn行m列の行列$(a_{ji})_{nm}$を${\\bf A}$の転置行列と言い，${\\bf A}^\\mathsf{T}=(a_{ji})$と表します．\n",
    "${\\bf A}^\\mathsf{T}$は$n$行$m$列の行列となります．\n",
    "\n",
    "${\\bf A}^\\mathsf{T}=\\left(\\begin{array}{cccc}\n",
    "a_{11} & a_{21} & \\cdots & a_{m1} \\\\ \n",
    "a_{12} & a_{22} & \\cdots & a_{m2} \\\\ \n",
    "\\vdots & \\vdots & \\ddots & \\vdots \\\\\n",
    "a_{1n} & a_{2n} & \\cdots & a_{mn} \\\\\n",
    "\\end{array} \\right)$\n",
    "\n",
    "転置行列について，次の式が成り立ちます．\n",
    "\n",
    "- $({\\bf A}^\\mathsf{T})^\\mathsf{T}={\\bf A}$\n",
    "- $({\\bf A}+{\\bf B})^\\mathsf{T}={\\bf A}^\\mathsf{T}+{\\bf B}^\\mathsf{T}$\n",
    "- $(c{\\bf A})^\\mathsf{T}=c({\\bf A}^\\mathsf{T})$\n",
    "- $(\\bar{\\bf A})^\\mathsf{T}=\\overline{{\\bf A}^\\mathsf{T}}$\n",
    "- $({\\bf AB})^\\mathsf{T}={\\bf B}^\\mathsf{T} {\\bf A}^\\mathsf{T}$"
   ]
  },
  {
   "cell_type": "markdown",
   "metadata": {},
   "source": [
    "*****\n",
    "### 随伴行列\n",
    "${\\bf A}$を$m$行$n$列の行列としたとき，${\\bf A}$の転置共役行列を${\\bf A}$の随伴行列と言い，${\\bf A}^*=\\bar{\\bf A}^\\mathsf{T}$と記載します．\n",
    "${\\bf A}^*$は$n$行$m$列の行列になります．\n",
    "\n",
    "${\\bf A}^*=\\bar{\\bf A}^\\mathsf{T}=\\left(\\begin{array}{cccc}\n",
    "\\bar{a}_{11} & \\bar{a}_{21} & \\cdots & \\bar{a}_{m1} \\\\ \n",
    "\\bar{a}_{12} & \\bar{a}_{22} & \\cdots & \\bar{a}_{m2} \\\\ \n",
    "\\vdots & \\vdots & \\ddots & \\vdots \\\\\n",
    "\\bar{a}_{1n} & \\bar{a}_{2n} & \\cdots & \\bar{a}_{mn} \\\\\n",
    "\\end{array} \\right)$\n",
    "\n",
    "$m$行$n$列の行列${\\bf A}$は，n次元ベクトル空間からm次元ベクトル空間への線形写像ですが，${\\bf A}^*$はm次元ベクトル空間からn次元ベクトル空間への線形写像となります．\n",
    "ここで，$V$をn次元ベクトル空間とし，任意の$x,y \\in V$について内積を$\\langle x,y \\rangle_n$と記載すると，\n",
    "\n",
    "<font color=blue>$\\langle {\\bf A}x,y \\rangle_m=\\langle x,{\\bf A}^*y \\rangle_n$</font>\n",
    "\n",
    "が成立します．\n",
    "また，随伴行列は複素共役と転置を合わせた行列なので，次の式が成立します．\n",
    "\n",
    "- $({\\bf A}^*)^*={\\bf A}$\n",
    "- $({\\bf A}+{\\bf B})^*={\\bf A}^*+{\\bf B}^*$\n",
    "- $(c{\\bf A})^*=\\bar{c}{\\bf A}^*$\n",
    "- $({\\bf AB})^*={\\bf B}^*{\\bf A}^*$"
   ]
  },
  {
   "cell_type": "markdown",
   "metadata": {},
   "source": [
    "*****\n",
    "### エルミート行列\n",
    "正方行列$\\bf H$が<font color=blue>${\\bf H}={\\bf H}^*$</font>を満たすとき，$\\bf H$をエルミート行列と言います．\n",
    "このとき$\\bf H$は$n$次元ベクトル空間上の線形変換で，任意の$x,y \\in {\\bf V}$について内積を$\\left<x,y\\right>$とすると，\n",
    "\n",
    "$\\left<{\\bf H}x,y\\right>=\\left<x,{\\bf H}y\\right>$\n",
    "\n",
    "が成り立ちます．\n",
    "$n$次正方行列${\\bf H}=(h_{ij})$がエルミート行列であることを行列の要素表示をすると，$(h_{ij})=(\\bar{h}_{ji})$となります．\n",
    "したがって，対角成分を見ると$h_{ii}=\\bar{h}_{ii}$なので実数でなければならないことが分かります．\n",
    "そして，対角線を挟んで折り返した位置の値が複素共役となります．\n",
    "\n",
    "次の行列は，簡単なエルミート行列の例です．\n",
    "\n",
    "${\\bf H}=\\left(\\begin{array}{cc}\n",
    "1 & 1+i \\\\ \n",
    "1-i & 1 \\\\\n",
    "\\end{array} \\right)$"
   ]
  },
  {
   "cell_type": "markdown",
   "metadata": {},
   "source": [
    "*****\n",
    "### 対称行列\n",
    "エルミート行列において，全ての要素が実数となる行列を実対称行列あるいは単に対称行列と言います．\n",
    "定義により，実数値よりなる正方行列$\\bf H$が${\\bf H}={\\bf H}^\\mathsf{T}$となるので，対角線を挟んで対称となります．\n",
    "\n",
    "実対称行列の例を記載します．\n",
    "\n",
    "${\\bf H}=\\left(\\begin{array}{cccc}\n",
    "1 & -2 & 3 \\\\ \n",
    "-2 & 1 & 0 \\\\ \n",
    "3 & 0 & 1 \\\\\n",
    "\\end{array} \\right)$"
   ]
  },
  {
   "cell_type": "markdown",
   "metadata": {},
   "source": [
    "*****\n",
    "### 交代行列\n",
    "複素正方行列において，転置行列が元の行列に$-1$を掛けたものになっているとき，すなわち，${\\bf A}^\\mathsf{T}={\\bf A}^{-1}$交代行列と言います．\n",
    "定義より，交代行列の対角成分はゼロになります．\n",
    "\n",
    "${\\bf }A=\\left(\\begin{array}{cccc}\n",
    "0 & -2 & 3 \\\\ \n",
    "2 & 0 & -1+i \\\\ \n",
    "-3 & 1-i & 0 \\\\\n",
    "\\end{array} \\right)$"
   ]
  },
  {
   "cell_type": "markdown",
   "metadata": {},
   "source": [
    "*****\n",
    "### ユニタリ行列\n",
    "正方行列$\\bf U$が<font color=blue>${\\bf U}^*{\\bf U}={\\bf U}{\\bf U}^*={\\bf I}$</font>を満たすとき，すなわち随伴行列が逆行列<font color=blue>${\\bf U}^*={\\bf U}^{-1}$</font>になるとき，$\\bf U$をユニタリ行列と言います．\n",
    "定義により，ユニタリ行列は正則行列となっています．\n",
    "\n",
    "ユニタリ行列は次の特性があります．\n",
    "\n",
    "- 等長変換，$\\|{\\bf Ux}\\|=\\|{\\bf x}\\|$．\n",
    "- 行列式の絶対値が1，$|\\text{det}({\\bf U})|=1$．\n",
    "- 固有値の絶対値が1，$|\\lambda|=1$．\n",
    "- エルミート行列$\\bf H$を用いて，${\\bf U}=e^{i{\\bf H}}$．\n",
    "\n",
    "ユニタリ行列の例を記載します．\n",
    "\n",
    "\n",
    "${\\bf U}=\\left(\\begin{array}{cc}\n",
    "\\frac{1}{\\sqrt2} & \\frac{i}{\\sqrt2} \\\\ \n",
    "\\frac{i}{\\sqrt2} & \\frac{1}{\\sqrt2} \\\\\n",
    "\\end{array} \\right)$\n"
   ]
  },
  {
   "cell_type": "markdown",
   "metadata": {},
   "source": [
    "*****\n",
    "### 直交行列\n",
    "ユニタリ行列の各要素が実数の場合，実直交行列あるいは単に直交行列と言います．\n",
    "すなわち，${\\bf A}^\\mathsf{T}{\\bf A}={\\bf A}{\\bf A}^\\mathsf{T}={\\bf I}$となります．\n",
    "\n",
    "実直交行列の例として回転変換があります．\n",
    "\n",
    "${\\bf A}=\\left(\\begin{array}{cc}\n",
    "\\cos\\theta & -\\sin\\theta \\\\ \n",
    "\\sin\\theta & \\cos\\theta \\\\\n",
    "\\end{array} \\right)$\n"
   ]
  },
  {
   "cell_type": "code",
   "execution_count": null,
   "metadata": {
    "collapsed": true
   },
   "outputs": [],
   "source": []
  }
 ],
 "metadata": {
  "kernelspec": {
   "display_name": "Python 3",
   "language": "python",
   "name": "python3"
  },
  "language_info": {
   "codemirror_mode": {
    "name": "ipython",
    "version": 3
   },
   "file_extension": ".py",
   "mimetype": "text/x-python",
   "name": "python",
   "nbconvert_exporter": "python",
   "pygments_lexer": "ipython3",
   "version": "3.6.1"
  }
 },
 "nbformat": 4,
 "nbformat_minor": 2
}
