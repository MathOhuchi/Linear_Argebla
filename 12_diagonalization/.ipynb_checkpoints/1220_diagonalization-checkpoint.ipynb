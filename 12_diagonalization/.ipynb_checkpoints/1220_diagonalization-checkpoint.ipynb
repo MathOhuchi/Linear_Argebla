{
 "cells": [
  {
   "cell_type": "markdown",
   "metadata": {},
   "source": [
    "# エルミート行列の対角化定理\n",
    "\n",
    "任意のエルミート行列$\\bf H$は，ユニタリ行列$\\bf U$による相似変換によって，固有値による対角行列$\\bf \\Lambda$に変換できます．\n",
    "\n",
    "> ${\\bf U}^{-1}{\\bf HU}={\\bf \\Lambda}$\n",
    "\n",
    "> ${\\bf U}^*={\\bf U}^{-1}$\n",
    "\n",
    "> ${\\bf \\Lambda} =\n",
    "\\left(\\begin{array}{c}\n",
    "\\lambda_1 & 0 & \\cdots & 0 \\\\\n",
    "0 & \\lambda_2 & \\ddots & \\vdots \\\\\n",
    "\\vdots & \\ddots & \\ddots & 0 \\\\\n",
    "0 & \\cdots & 0 & \\lambda_n \\\\\n",
    "\\end{array}\\right)$\n",
    "\n",
    "この定理がスペクトル定理の前半部分です．"
   ]
  },
  {
   "cell_type": "markdown",
   "metadata": {},
   "source": [
    "### 証明\n",
    "\n",
    "一般正方行列の上三角化定理により，上三角行列$\\bf T$があり，\n",
    "${\\bf U}^{-1}{\\bf HU}={\\bf T}$\n",
    "とできます．\n",
    "\n",
    "ところで，$\\bf H$がエルミート行列の場合，${\\bf U}^{-1}{\\bf H}{\\bf U}$もエルミート行列になります．\n",
    "なぜならば$\\bf U$がユニタリ行列なので，\n",
    "\n",
    "$\\begin{eqnarray}\n",
    "({\\bf U}^{-1}{\\bf H}{\\bf U})^* \n",
    "&=& {\\bf U}^*{\\bf H}^*({\\bf U}^{-1})^* \\\\ \n",
    "&=& {\\bf U}^*{\\bf H}^*{\\bf U}\n",
    "\\end{eqnarray}$\n",
    "\n",
    "となり，エルミート行列であることが確かめられます．\n",
    "したがって，上三角行列$\\bf T$もエルミート行列です．\n",
    "\n",
    "エルミート行列の特徴を成分で表すと，\n",
    "\n",
    "$h_{ij} = \\overline{h}_{ji}$\n",
    "\n",
    "です．\n",
    "上三角行列$\\bf T$は $i > j$のとき$h_{ij}=0$です．\n",
    "したがって，$\\overline{h}_{ji}=0$となり，行列$\\bf T$は対角行列となります．\n",
    "\n",
    "さらに，一般行列の上三角化定理において，$\\bf T$の対角成分は固有値であったので，\n",
    "結果として求まる対角行列は固有値が対角成分である行列$\\bf \\Lambda$となります．"
   ]
  },
  {
   "cell_type": "markdown",
   "metadata": {},
   "source": [
    "*****\n",
    "エルミート行列の対角化定理を実数に制限することによって，直ちに次の定理が求まります．\n",
    "\n",
    "## 対称行列の対角化定理\n",
    "\n",
    "任意の対称$\\bf A$は，直交行列$\\bf M$による相似変換によって，固有値による対角行列$\\bf \\Lambda$に変換できます．\n",
    "\n",
    "> ${\\bf M}^{-1}{\\bf AM}={\\bf \\Lambda}$\n",
    "\n",
    "> ${\\bf M}^\\mathsf{T}={\\bf M}^{-1}$\n",
    "\n",
    "> ${\\bf \\Lambda} =\n",
    "\\left(\\begin{array}{c}\n",
    "\\lambda_1 & 0 & \\cdots & 0 \\\\\n",
    "0 & \\lambda_2 & \\ddots & \\vdots \\\\\n",
    "\\vdots & \\ddots & \\ddots & 0 \\\\\n",
    "0 & \\cdots & 0 & \\lambda_n \\\\\n",
    "\\end{array}\\right)$\n"
   ]
  },
  {
   "cell_type": "markdown",
   "metadata": {},
   "source": [
    "*****\n",
    "## ユニタリ行列の対角化定理\n",
    "\n",
    "任意のユニタリ行列$\\bf A$は，ユニタリ行列$\\bf U$による相似変換によって，固有値による対角行列$\\bf \\Lambda$に変換できます．\n",
    "\n",
    "> ${\\bf U}^{-1}{\\bf AU}={\\bf \\Lambda}$\n",
    "\n",
    "> ${\\bf U}^*={\\bf U}^{-1}$\n",
    "\n",
    "> ${\\bf \\Lambda} =\n",
    "\\left(\\begin{array}{c}\n",
    "\\lambda_1 & 0 & \\cdots & 0 \\\\\n",
    "0 & \\lambda_2 & \\ddots & \\vdots \\\\\n",
    "\\vdots & \\ddots & \\ddots & 0 \\\\\n",
    "0 & \\cdots & 0 & \\lambda_n \\\\\n",
    "\\end{array}\\right)$\n",
    "\n",
    "また全ての固有値は，$|\\lambda_i|=1$ となります．"
   ]
  },
  {
   "cell_type": "markdown",
   "metadata": {},
   "source": [
    "### 証明\n",
    "\n",
    "一般正方行列の上三角化定理により，上三角行列$\\bf T$があり，\n",
    "${\\bf U}^{-1}{\\bf AU}={\\bf T}$\n",
    "とできます．\n",
    "\n",
    "$\\bf A$および$\\bf U$がユニタリ行列なので，${\\bf U}^{-1}{\\bf AU}={\\bf T}$もユニタリ行列になります．\n",
    "なぜならば，\n",
    "\n",
    "$\\begin{eqnarray}\n",
    "{\\bf T}^*{\\bf T} \n",
    "&=& ({\\bf U}^{-1}{\\bf AU})^*({\\bf U}^{-1}{\\bf AU}) \\\\ \n",
    "&=& {\\bf U}^*{\\bf A}^* ({\\bf U}^{-1})^*{\\bf U}^{-1}{\\bf AU} \\\\ \n",
    "&=& {\\bf U}^{-1}{\\bf A}^{-1} {\\bf U}{\\bf U}^{-1}{\\bf AU} \\\\\n",
    "&=& {\\bf I}\n",
    "\\end{eqnarray}$"
   ]
  },
  {
   "cell_type": "markdown",
   "metadata": {},
   "source": [
    "${\\bf T}^*{\\bf T}={\\bf I}$について詳しく調べます．\n",
    "\n",
    "${\\bf T}^*{\\bf T} =\n",
    "\\left(\\begin{array}{c}\n",
    "\\overline{\\lambda}_1 & 0 & \\cdots & 0 \\\\\n",
    "\\overline{t}_{12} & \\overline{\\lambda}_2 & \\ddots & \\vdots \\\\\n",
    "\\vdots & \\ddots & \\ddots & 0 \\\\\n",
    "\\overline{t}_{1n} & \\cdots & \\overline{t}_{n-1,n} & \\overline{\\lambda}_n \\\\\n",
    "\\end{array}\\right)\n",
    "\\left(\\begin{array}{c}\n",
    "\\lambda_1 & t_{12} & \\cdots & t_{1n} \\\\\n",
    "0 & \\lambda_2 & \\ddots & \\vdots \\\\\n",
    "\\vdots & \\ddots & \\ddots & t_{n-1,n} \\\\\n",
    "0 & \\cdots & 0 & \\lambda_n \\\\\n",
    "\\end{array}\\right)\n",
    "=\n",
    "\\left(\\begin{array}{c}\n",
    "1 & 0 & \\cdots & 0 \\\\\n",
    "0 & 1 & \\ddots & \\vdots \\\\\n",
    "\\vdots & \\ddots & \\ddots & 0 \\\\\n",
    "0 & \\cdots & 0 & 1 \\\\\n",
    "\\end{array}\\right)$"
   ]
  },
  {
   "cell_type": "markdown",
   "metadata": {},
   "source": [
    "ここで，対角成分に注目します．例えば2行2列目についての計算ですが，\n",
    "\n",
    "${|{t}_{12}|}^2+{|{\\lambda}_2|}^2 = 1$\n",
    "\n",
    "となります．\n",
    "ところで，ユニタリ行列の固有値の絶対値は1になります．\n",
    "なぜならば，${\\lambda}{\\bf x}={\\bf Tx}$のノルムをとると，\n",
    "\n",
    "$\\begin{eqnarray}\n",
    "{|\\lambda|}^2{\\cdot}{\\|{\\bf x}\\|}^2 \n",
    "&=& \\left<{\\lambda}{\\bf x},{\\lambda}{\\bf x}\\right> \\\\\n",
    "&=& \\left<{\\bf Tx},{\\bf Tx}\\right> \\\\\n",
    "&=& ({\\bf Tx})^*{\\bf Tx} \\\\\n",
    "&=& {\\bf x}^*{\\bf T}^*{\\bf Tx} \\\\\n",
    "&=& {\\bf x}^*{\\bf x} \\\\\n",
    "&=& {\\|{\\bf x}\\|}^2\n",
    "\\end{eqnarray}$\n",
    "\n",
    "となり，${\\bf x} \\neq {\\bf 0}$であるので，$|\\lambda|=1$が得られます．\n",
    "よって，${|{t}_{12}|}^2+{|{\\lambda}_2|}^2 = 1$に$|\\lambda|=1$を代入すれば，$t_{12}=0$がえられます．\n",
    "\n",
    "同様にして，全ての$t_{ij}=0$が得られます．\n",
    "すなわち，行列$\\bf T$が対角行列であることが分かります．\n",
    "したがって，${\\bf U}^{-1}{\\bf AU}={\\bf \\Lambda}$が求まりました．"
   ]
  },
  {
   "cell_type": "markdown",
   "metadata": {},
   "source": [
    "*****\n",
    "ここまで対角化可能な行列の例を幾つか提示しましたが，\n",
    "この後，対角化可能な行列はどのような行列かという問題の完全な解を与えます．"
   ]
  }
 ],
 "metadata": {
  "kernelspec": {
   "display_name": "Python 3",
   "language": "python",
   "name": "python3"
  },
  "language_info": {
   "codemirror_mode": {
    "name": "ipython",
    "version": 3
   },
   "file_extension": ".py",
   "mimetype": "text/x-python",
   "name": "python",
   "nbconvert_exporter": "python",
   "pygments_lexer": "ipython3",
   "version": "3.6.1"
  }
 },
 "nbformat": 4,
 "nbformat_minor": 2
}
