{
 "cells": [
  {
   "cell_type": "markdown",
   "metadata": {},
   "source": [
    "# 正規行列\n",
    "\n",
    "対角化の条件となる<font color=blue>正規行列</font>について定義します．\n",
    "正方行列$\\bf N$がその随伴行列${\\bf N}^*$と可換であるとき，\n",
    "\n",
    "> <font color=blue>${\\bf N}{\\bf N}^*={\\bf N}^*{\\bf N}$</font>\n",
    "\n",
    "この行列を正規行列といいます．"
   ]
  },
  {
   "cell_type": "markdown",
   "metadata": {},
   "source": [
    "ちなみに，対角化可能であることを確認したエルミート行列やユニタリ行列は正規行列です．"
   ]
  },
  {
   "cell_type": "markdown",
   "metadata": {},
   "source": [
    "*****\n",
    "## 正規行列の対角化定理\n",
    "\n",
    "任意の正規行列$\\bf N$に対して，その正規直交固有ベクトルを列ベクトルとするユニタリ行列$\\bf U$によって，固有値を対角成分に持つ対角行列$\\bf \\Lambda$に相似変換できます．\n",
    "\n",
    "> ${\\bf U}^{-1}{\\bf NU}={\\bf \\Lambda}$\n",
    "\n",
    "> ${\\bf U}^*={\\bf U}^{-1}$\n",
    "\n",
    "> ${\\bf \\Lambda} =\n",
    "\\left(\\begin{array}{c}\n",
    "\\lambda_1 & 0 & \\cdots & 0 \\\\\n",
    "0 & \\lambda_2 & \\ddots & \\vdots \\\\\n",
    "\\vdots & \\ddots & \\ddots & 0 \\\\\n",
    "0 & \\cdots & 0 & \\lambda_n \\\\\n",
    "\\end{array}\\right)$\n",
    "\n",
    "また，各固有ベクトルへの射影作用素によって行列$\\bf N$を分解することができます．\n",
    "この分解をスペクトル分解と言います．\n",
    "\n",
    "> ${\\bf N}= {\\bf U}{\\bf \\Lambda}{\\bf U}^* =\n",
    "\\lambda_1{\\bf u}_1{{\\bf u}_1}^*+\\lambda_2{\\bf u}_2{{\\bf u}_2}^*+\\cdots\\lambda_n{\\bf u}_n{{\\bf u}_n}^*$\n",
    "\n",
    "逆に正方行列$\\bf N$が対角化可能ならば，その行列は正規行列である．\n",
    "\n",
    "> ${\\bf U}^{-1}{\\bf NU}={\\bf \\Lambda} \\Longleftrightarrow {\\bf N}{\\bf N}^*={\\bf N}^*{\\bf N}$"
   ]
  },
  {
   "cell_type": "markdown",
   "metadata": {},
   "source": [
    "*****\n",
    "### 証明\n",
    "\n",
    "最初は，<font color=navy>**正規行列ならば対角化できることを証明します．**</font>\n",
    "\n",
    "一般正方行列の三角化定理により，ユニタリ行列$\\bf U$が存在して次の相似変換ができます．\n",
    "\n",
    "${\\bf T}={\\bf U}^{-1}{\\bf NU}$\n",
    "\n",
    "ここで，行列$\\bf T$は上三角行列になっています．\n"
   ]
  },
  {
   "cell_type": "markdown",
   "metadata": {},
   "source": [
    "行列$\\bf T$の対角成分は固有値$\\lambda_i$となっているので，この行列を次のように表します．\n",
    "\n",
    "${\\bf T} =\n",
    "\\left(\\begin{array}{c}\n",
    "\\lambda_1 & t_{12} & \\cdots & t_{1n} \\\\\n",
    "0 & \\lambda_2 & \\ddots & \\vdots \\\\\n",
    "\\vdots & \\ddots & \\ddots & t_{n-1,n} \\\\\n",
    "0 & \\cdots & 0 & \\lambda_n \\\\\n",
    "\\end{array}\\right)$"
   ]
  },
  {
   "cell_type": "markdown",
   "metadata": {},
   "source": [
    "このとき随伴行列は次のようになります．\n",
    "\n",
    "${\\bf T}^* =\n",
    "\\left(\\begin{array}{c}\n",
    "\\overline{\\lambda}_1 & 0 & \\cdots & 0 \\\\\n",
    "\\overline{t}_{12} & \\overline{\\lambda}_2 & \\ddots & \\vdots \\\\\n",
    "\\vdots & \\ddots & \\ddots & 0 \\\\\n",
    "\\overline{t}_{1n} & \\cdots & \\overline{t}_{n-1,n} & \\overline{\\lambda}_n \\\\\n",
    "\\end{array}\\right)$"
   ]
  },
  {
   "cell_type": "markdown",
   "metadata": {},
   "source": [
    "$\\bf N$が正規行列であれば，${\\bf T}={\\bf U}^{-1}{\\bf NU}$も正規行列です．\n",
    "なぜならば，\n",
    "\n",
    "$\\begin{eqnarray}\n",
    "{\\bf T}{\\bf T}^* \n",
    "&=& ({\\bf U}^{-1}{\\bf NU})({\\bf U}^{-1}{\\bf NU})^* \\\\\n",
    "&=& ({\\bf U}^{-1}{\\bf NU}){\\bf U}^*{\\bf N}^*({\\bf U}^{-1})^* \\\\\n",
    "&=& {\\bf U}^{-1}{\\bf N}({\\bf U}{\\bf U}^*){\\bf N}^*{\\bf U} \\\\\n",
    "&=& {\\bf U}^{-1}{\\bf N}{\\bf N}^*{\\bf U} \\\\\n",
    "&=& {\\bf U}^{-1}{\\bf N}^*{\\bf N}{\\bf U} \\\\\n",
    "&=& {\\bf U}^{-1}{\\bf N}^*({\\bf U}{\\bf U}^{-1}){\\bf N}{\\bf U} \\\\\n",
    "&=& ({\\bf U}^{-1}{\\bf N}^*{\\bf U})({\\bf U}^{-1}{\\bf N}{\\bf U}) \\\\\n",
    "&=& ({\\bf U}^*{\\bf N}^*({\\bf U}^{-1})^*)({\\bf U}^{-1}{\\bf N}{\\bf U}) \\\\\n",
    "&=& ({\\bf U}^{-1}{\\bf N}{\\bf U})^*({\\bf U}^{-1}{\\bf N}{\\bf U}) \\\\\n",
    "&=& {\\bf T}^*{\\bf T}\n",
    "\\end{eqnarray}$\n",
    "\n",
    "そこで，${\\bf T}{\\bf T}^*$と${\\bf T}^*{\\bf T}$の各成分を比較します．"
   ]
  },
  {
   "cell_type": "markdown",
   "metadata": {},
   "source": [
    "${\\bf T} {\\bf T}^* \n",
    "=\n",
    "\\left(\\begin{array}{c}\n",
    "\\lambda_1 & t_{12} & \\cdots & t_{1n} \\\\\n",
    "0 & \\lambda_2 & \\ddots & \\vdots \\\\\n",
    "\\vdots & \\ddots & \\ddots & t_{n-1,n} \\\\\n",
    "0 & \\cdots & 0 & \\lambda_n \\\\\n",
    "\\end{array}\\right)\n",
    "\\left(\\begin{array}{c}\n",
    "\\overline{\\lambda}_1 & 0 & \\cdots & 0 \\\\\n",
    "\\overline{t}_{12} & \\overline{\\lambda}_2 & \\ddots & \\vdots \\\\\n",
    "\\vdots & \\ddots & \\ddots & 0 \\\\\n",
    "\\overline{t}_{1n} & \\cdots & \\overline{t}_{n-1,n} & \\overline{\\lambda}_n \\\\\n",
    "\\end{array}\\right)\n",
    "=\n",
    "\\left(\\begin{array}{c}\n",
    "\\alpha_1 & * & \\cdots & * \\\\\n",
    "* & \\alpha_2 & \\ddots & \\vdots \\\\\n",
    "\\vdots & \\ddots & \\ddots & * \\\\\n",
    "* & \\cdots & * & \\alpha_n \\\\\n",
    "\\end{array}\\right) $"
   ]
  },
  {
   "cell_type": "markdown",
   "metadata": {},
   "source": [
    "${\\bf T}^* {\\bf T} \n",
    "=\n",
    "\\left(\\begin{array}{c}\n",
    "\\overline{\\lambda}_1 & 0 & \\cdots & 0 \\\\\n",
    "\\overline{t}_{12} & \\overline{\\lambda}_2 & \\ddots & \\vdots \\\\\n",
    "\\vdots & \\ddots & \\ddots & 0 \\\\\n",
    "\\overline{t}_{1n} & \\cdots & \\overline{t}_{n-1,n} & \\overline{\\lambda}_n \\\\\n",
    "\\end{array}\\right)\n",
    "\\left(\\begin{array}{c}\n",
    "\\lambda_1 & t_{12} & \\cdots & t_{1n} \\\\\n",
    "0 & \\lambda_2 & \\ddots & \\vdots \\\\\n",
    "\\vdots & \\ddots & \\ddots & t_{n-1,n} \\\\\n",
    "0 & \\cdots & 0 & \\lambda_n \\\\\n",
    "\\end{array}\\right)\n",
    "=\n",
    "\\left(\\begin{array}{c}\n",
    "\\beta_1 & * & \\cdots & * \\\\\n",
    "* & \\beta_2 & \\ddots & \\vdots \\\\\n",
    "\\vdots & \\ddots & \\ddots & * \\\\\n",
    "* & \\cdots & * & \\beta_n \\\\\n",
    "\\end{array}\\right) $"
   ]
  },
  {
   "cell_type": "markdown",
   "metadata": {},
   "source": [
    "まず，1行1列目の計算結果を比較します．\n",
    "\n",
    "$\\left\\{\\begin{eqnarray}\n",
    "\\alpha_1 &=& {|{\\lambda}_1|}^2 + {|t_{12}|}^2 + \\cdots + {|t_{1n}|}^2  \\\\\n",
    "\\beta_1  &=& {|{\\lambda}_1|}^2\n",
    "\\end{eqnarray}\\right.$\n",
    "\n",
    "${\\alpha_1}={\\beta_1}$なので，$t_{12}=t_{13}=\\cdots=t_{1n}=0$が得られます．"
   ]
  },
  {
   "cell_type": "markdown",
   "metadata": {},
   "source": [
    "まず，2行2列目の計算結果を比較します．\n",
    "\n",
    "$\\left\\{\\begin{eqnarray}\n",
    "\\alpha_2 &=& {|{\\lambda}_2|}^2 + {|t_{23}|}^2 + \\cdots + {|t_{2n}|}^2  \\\\\n",
    "\\beta_2  &=& {|{\\lambda}_2|}^2\n",
    "\\end{eqnarray}\\right.$\n",
    "\n",
    "${\\alpha_2}={\\beta_2}$なので，$t_{23}=t_{24}=\\cdots=t_{2n}=0$が得られます．"
   ]
  },
  {
   "cell_type": "markdown",
   "metadata": {},
   "source": [
    "この手順を，$(n-1)$行$(n-1)$列まで行えば，非対角成分が全てゼロであることが分かります．\n",
    "よって，\n",
    "\n",
    "${\\bf T}={\\bf \\Lambda} =\n",
    "\\left(\\begin{array}{c}\n",
    "\\lambda_1 & 0 & \\cdots & 0 \\\\\n",
    "0 & \\lambda_2 & \\ddots & \\vdots \\\\\n",
    "\\vdots & \\ddots & \\ddots & 0 \\\\\n",
    "0 & \\cdots & 0 & \\lambda_n \\\\\n",
    "\\end{array}\\right)$\n",
    "\n",
    "となります．\n",
    "したがって$\\bf N$が正規行列，すなわち，${\\bf N}{\\bf N}^*={\\bf N}^*{\\bf N}$の場合，\n",
    "${\\bf U}^{-1}{\\bf NU}={\\bf \\Lambda}$\n",
    "となることが証明されました．"
   ]
  },
  {
   "cell_type": "markdown",
   "metadata": {},
   "source": [
    "次に，<font color=navy>**スペクトル分解を求めます．**</font>\n",
    "\n",
    "${\\bf U}^{-1}{\\bf NU}={\\bf \\Lambda}$の左から$\\bf U$を掛け，右から${\\bf U}^*$を掛けます．\n",
    "${\\bf U}^*={\\bf U}^{-1}$なので，次の式を得ます．\n",
    "\n",
    "${\\bf N}={\\bf U}{\\bf \\Lambda}{\\bf U}^*$\n",
    "\n",
    "この式において，行列$\\bf U$の内部構造を列ベクトルによって表して計算を進めます．"
   ]
  },
  {
   "cell_type": "markdown",
   "metadata": {},
   "source": [
    "$\\begin{eqnarray}\n",
    "{\\bf N} \n",
    "&=& {\\bf U}{\\bf \\Lambda}{\\bf U}^*  \\\\\n",
    "&=& \n",
    "\\left(\\begin{array}{c} {\\bf u}_1 & {\\bf u}_2 & \\cdots & {\\bf u}_n \\\\ \\end{array}\\right)\n",
    "\\left(\\begin{array}{c}\n",
    "\\lambda_1 & 0 & \\cdots & 0 \\\\\n",
    "0 & \\lambda_2 & \\ddots & \\vdots \\\\\n",
    "\\vdots & \\ddots & \\ddots & 0 \\\\\n",
    "0 & \\cdots & 0 & \\lambda_n \\\\\n",
    "\\end{array}\\right)\n",
    "\\left(\\begin{array}{c} {{\\bf u}_1}^* \\\\ {{\\bf u}_2}^* \\\\ \\vdots \\\\ {{\\bf u}_n}^* \\\\ \\end{array}\\right) \\\\\n",
    "&=&\n",
    "\\left(\\begin{array}{c} \\lambda_1{\\bf u}_1 & \\lambda_2{\\bf u}_2 & \\cdots & \\lambda_n{\\bf u}_n \\\\ \\end{array}\\right)\n",
    "\\left(\\begin{array}{c} {{\\bf u}_1}^* \\\\ {{\\bf u}_2}^* \\\\ \\vdots \\\\ {{\\bf u}_n}^* \\\\ \\end{array}\\right) \\\\\n",
    "&=&\n",
    "\\lambda_1{\\bf u}_1{{\\bf u}_1}^*+\\lambda_2{\\bf u}_2{{\\bf u}_2}^*+\\cdots\\lambda_n{\\bf u}_n{{\\bf u}_n}^* \\\\\n",
    "\\end{eqnarray}$\n",
    "\n",
    "となりスペクトル分析が得られました．"
   ]
  },
  {
   "cell_type": "markdown",
   "metadata": {},
   "source": [
    "最後に，<font color=navy>**対角化可能な行列は全て正規行列であることを証明します．**</font>\n",
    "\n",
    "${\\bf N}={\\bf U}{\\bf \\Lambda}{\\bf U}^{-1}$を仮定して，${\\bf N}{\\bf N}^*$を計算します．\n",
    "\n",
    "$\\begin{eqnarray}\n",
    "{\\bf N}{\\bf N}^* &=&\n",
    "{\\bf U}{\\bf \\Lambda}{\\bf U}^{-1}({\\bf U}{\\bf \\Lambda}{\\bf U}^{-1})^* \\\\\n",
    "&=& {\\bf U}{\\bf \\Lambda}{\\bf U}^{-1}({\\bf U}^{-1})^*{\\bf {\\Lambda}}^*{\\bf U}^* \\\\\n",
    "&=& {\\bf U}{\\bf \\Lambda}({\\bf U}^{-1}{\\bf U}){\\bf {\\Lambda}}^*{\\bf U}^* \\\\\n",
    "&=& {\\bf U}{\\bf \\Lambda}{\\bf {\\Lambda}}^*{\\bf U}^* \\\\\n",
    "&=& {\\bf U}{\\bf {\\Lambda}}^*{\\bf \\Lambda}{\\bf U}^* \\\\\n",
    "&=& {\\bf U}{\\bf {\\Lambda}}^*{\\bf U}^*{\\bf U}{\\bf \\Lambda}{\\bf U}^* \\\\\n",
    "&=& ({\\bf U}{\\bf {\\Lambda}}{\\bf U}^*)^*({\\bf U}{\\bf \\Lambda}{\\bf U}^*) \\\\\n",
    "&=& ({\\bf U}{\\bf {\\Lambda}}{\\bf U}^{-1})^*({\\bf U}{\\bf \\Lambda}{\\bf U}^{-1}) \\\\\n",
    "&=& {\\bf N}^*{\\bf N}\n",
    "\\end{eqnarray}$\n",
    "\n",
    "が得られるので，対角化可能な行列は正規行列であることが証明されました．"
   ]
  },
  {
   "cell_type": "markdown",
   "metadata": {},
   "source": [
    "*****\n",
    "正方行列の固有ベクトルによる対角化は様々な用途で応用されています．\n",
    "この後，対角化の活用について見ていきます．"
   ]
  }
 ],
 "metadata": {
  "kernelspec": {
   "display_name": "Python 3",
   "language": "python",
   "name": "python3"
  },
  "language_info": {
   "codemirror_mode": {
    "name": "ipython",
    "version": 3
   },
   "file_extension": ".py",
   "mimetype": "text/x-python",
   "name": "python",
   "nbconvert_exporter": "python",
   "pygments_lexer": "ipython3",
   "version": "3.6.1"
  }
 },
 "nbformat": 4,
 "nbformat_minor": 2
}
