{
 "cells": [
  {
   "cell_type": "markdown",
   "metadata": {},
   "source": [
    "## 名前の付いている行列\n",
    "\n",
    "これから様々な行列を扱っていきますが，成分の配置に特徴のある行列が幾つかあり，名前が付いています．\n",
    "ここでは，これから使用するであろう行列を紹介します．それらの行列は頻繁に名前で参照されますので，その時はこちらを参照してください．\n",
    "\n",
    "- 実行列　　　　：各成分が実数値\n",
    "- 複素行列　　　：各成分が複素数値\n",
    "- 零行列　　　　：各成分が全てゼロ\n",
    "- 正方行列　　　：行数と列数が等しい\n",
    "- 三角行列　　　：上三角行列（$i>j$のとき$a_{ij}=0$），下三角行列（$i<j$のとき$a_{ij}=0$）\n",
    "- 対角行列　　　：対角成分以外がゼロ\n",
    "- 単位行列　　　：対角成分が1，かつ，それ以外の成分はゼロ．単位行列を${\\bf I}$と書く．\n",
    "- スカラー行列　：対角成分が一定の値で，それ以外の成分はゼロ\n",
    "\n",
    "- 正則行列　　　：逆行列${\\bf A}^{-1}$がある\n",
    "- 逆行列　　　　：${\\bf A}^{-1}{\\bf A}={\\bf A}{\\bf A}^{-1}={\\bf I}$\n",
    "- 複素共役行列　：$\\bar{\\bf A}=(\\bar{a}_{ij})$\n",
    "- 転置行列　　　：${\\bf A}^T=(a_{ji})$\n",
    "- 随伴行列　　　：${\\bf A}^*=\\bar{\\bf A}^T=(\\bar{a}_{ji})$\n",
    "\n",
    "以下に詳細を記載します．"
   ]
  },
  {
   "cell_type": "markdown",
   "metadata": {},
   "source": [
    "### 行列の表現\n",
    "\n",
    "まず，行列の表記方法について再度確認しておきましょう．\n",
    "行列の要素となるスカラー$\\mathbb{K}$は，実数$\\mathbb{R}$または複素数$\\mathbb{C}$とします．\n",
    "${\\bf A}$を一般の$m$行$n$列の行列とし，その$i$行$j$列目の要素を$a_{ij}$とすると，\n",
    "\n",
    "${\\bf A}=\\left(\\begin{array}{cccc}\n",
    "a_{11} & a_{12} & \\cdots & a_{1n} \\\\ \n",
    "a_{21} & a_{22} & \\cdots & a_{2n} \\\\ \n",
    "\\vdots & \\vdots & \\ddots & \\vdots \\\\\n",
    "a_{m1} & a_{m2} & \\cdots & a_{mn} \\\\\n",
    "\\end{array} \\right)$\n",
    "\n",
    "と記載します．\n",
    "また，m行n列の行列を$(m,n)$型行列と言うこともあります．"
   ]
  },
  {
   "cell_type": "markdown",
   "metadata": {},
   "source": [
    "*****\n",
    "### 実行列\n",
    "行列の各要素が全て実数から構成される行列を実行列と言います．\n",
    "$r_{ij} \\in \\mathbb{R}$としたとき，\n",
    "\n",
    "${\\bf A}=\\left(\\begin{array}{cccc}\n",
    "r_{11} & r_{12} & \\cdots & r_{1n} \\\\ \n",
    "r_{21} & r_{22} & \\cdots & r_{2n} \\\\ \n",
    "\\vdots & \\vdots & \\ddots & \\vdots \\\\\n",
    "r_{m1} & r_{m2} & \\cdots & r_{mn} \\\\\n",
    "\\end{array} \\right)$\n",
    "\n",
    "となります．"
   ]
  },
  {
   "cell_type": "markdown",
   "metadata": {},
   "source": [
    "*****\n",
    "### 複素行列\n",
    "行列の各要素が複素数から構成される行列を実行列と言います．\n",
    "$c_{ij} \\in \\mathbb{C}$としたとき，\n",
    "\n",
    "${\\bf A}=\\left(\\begin{array}{cccc}\n",
    "c_{11} & c_{12} & \\cdots & c_{1n} \\\\ \n",
    "c_{21} & c_{22} & \\cdots & c_{2n} \\\\ \n",
    "\\vdots & \\vdots & \\ddots & \\vdots \\\\\n",
    "c_{m1} & c_{m2} & \\cdots & c_{mn} \\\\\n",
    "\\end{array} \\right)$\n",
    "\n",
    "となります．もちろん，実数は複素数の部分集合なので各要素が実数であっても構いません．"
   ]
  },
  {
   "cell_type": "markdown",
   "metadata": {},
   "source": [
    "*****\n",
    "### 零行列\n",
    "行列の各要素が全てゼロから構成される行列を零行列と言います．\n",
    "すなわち，$a_{ij}=0$，\n",
    "\n",
    "${\\bf O}=\\left(\\begin{array}{cccc}\n",
    "0 & 0 & \\cdots & 0 \\\\ \n",
    "0 & 0 & \\cdots & 0 \\\\ \n",
    "\\vdots & \\vdots & \\ddots & \\vdots \\\\\n",
    "0 & 0 & \\cdots & 0 \\\\\n",
    "\\end{array} \\right)$\n",
    "\n",
    "となります．\n",
    "零行列は，m行n列の行列どうしの足し算における単位元となります．すなわち，${\\bf A}+{\\bf O}={\\bf O}+{\\bf A}={\\bf A}$が成り立っています．"
   ]
  },
  {
   "cell_type": "markdown",
   "metadata": {},
   "source": [
    "*****\n",
    "### 正方行列\n",
    "行と列の個数が等しい行列を正方行列と言います．すなわち，任意の$n \\in \\mathbb{N}$についてn行n列の行列です．\n",
    "$a_{ij} \\in \\mathbb{K}$としたとき，\n",
    "\n",
    "${\\bf A}=\\left(\\begin{array}{cccc}\n",
    "a_{11} & a_{12} & \\cdots & a_{1n} \\\\ \n",
    "a_{21} & a_{22} & \\cdots & a_{2n} \\\\ \n",
    "\\vdots & \\vdots & \\ddots & \\vdots \\\\\n",
    "a_{n1} & a_{n2} & \\cdots & a_{nn} \\\\\n",
    "\\end{array} \\right)$\n",
    "\n",
    "となります．行列の大きさを明記する場合，$n$次正方行列と言います．"
   ]
  },
  {
   "cell_type": "markdown",
   "metadata": {},
   "source": [
    "*****\n",
    "### 三角行列\n",
    "正方行列において，$i>j$の場合$a_{ij}=0$となっているものを**上三角行列**と言います．\n",
    "\n",
    "${\\bf A}=\\left(\\begin{array}{cccc}\n",
    "a_{11} & a_{12} & \\cdots & a_{1n} \\\\ \n",
    "0 & a_{22} & \\cdots & a_{2n} \\\\ \n",
    "\\vdots & \\vdots & \\ddots & \\vdots \\\\\n",
    "0 & 0 & \\cdots & a_{nn} \\\\\n",
    "\\end{array} \\right)$\n",
    "\n",
    "また，正方行列において，$i<j$の場合$a_{ij}=0$となっているものを**下三角行列**と言います．\n",
    "\n",
    "${\\bf A}=\\left(\\begin{array}{cccc}\n",
    "a_{11} & 0 & \\cdots & 0 \\\\ \n",
    "a_{21} & a_{22} & \\cdots & 0 \\\\ \n",
    "\\vdots & \\vdots & \\ddots & \\vdots \\\\\n",
    "a_{n1} & a_{n2} & \\cdots & a_{nn} \\\\\n",
    "\\end{array} \\right)$"
   ]
  },
  {
   "cell_type": "markdown",
   "metadata": {},
   "source": [
    "*****\n",
    "### 対角行列\n",
    "正方行列において，$i \\neq j$の場合$a_{ij}=0$となっているものを対角行列と言います．\n",
    "また，$a_{ii}$を行列の対角成分と言います．\n",
    "\n",
    "${\\bf A}=\\left(\\begin{array}{cccc}\n",
    "a_{11} & 0 & \\cdots & 0 \\\\ \n",
    "0 & a_{22} & \\cdots & 0 \\\\ \n",
    "\\vdots & \\vdots & \\ddots & \\vdots \\\\\n",
    "0 & 0 & \\cdots & a_{nn} \\\\\n",
    "\\end{array} \\right)$\n",
    "\n",
    "対角行列どうしの積は可換，すなわち，左右を入替えた積が等しくなります．"
   ]
  },
  {
   "cell_type": "markdown",
   "metadata": {},
   "source": [
    "*****\n",
    "### 単位行列\n",
    "正方行列において，対角成分が全て1となる，すなわち$a_{ii}=1$となっているものを単位行列と言います．\n",
    "\n",
    "${\\bf I}_n=\\left(\\begin{array}{cccc}\n",
    "1 & 0 & \\cdots & 0 \\\\ \n",
    "0 & 1 & \\cdots & 0 \\\\ \n",
    "\\vdots & \\vdots & \\ddots & \\vdots \\\\\n",
    "0 & 0 & \\cdots & 1 \\\\\n",
    "\\end{array} \\right)$\n",
    "\n",
    "行列の大きさが明らかな場合は添え字を省略して，${\\bf I}={\\bf I}_n$と記載します．\n",
    "単位行列は任意のn字正方行列{\\bf A}に対して，${\\bf I}{\\bf A}={\\bf A}{\\bf I}={\\bf A}$と，行列積の単位元となっています．"
   ]
  },
  {
   "cell_type": "markdown",
   "metadata": {},
   "source": [
    "*****\n",
    "### スカラー行列\n",
    "対角行列において，全ての対角成分が等しい値の場合，すなわち$a_{ii}=c$となっているものをスカラー行列と言います．\n",
    "\n",
    "${\\bf A}=c{\\bf I}_n=\\left(\\begin{array}{cccc}\n",
    "c & 0 & \\cdots & 0 \\\\ \n",
    "0 & c & \\cdots & 0 \\\\ \n",
    "\\vdots & \\vdots & \\ddots & \\vdots \\\\\n",
    "0 & 0 & \\cdots & c \\\\\n",
    "\\end{array} \\right)$\n",
    "\n",
    "$n$次スカラー行列は任意の$n$次正方行列と可換であり，逆に，任意の$n$次正方行列と可換となる行列は$n$次スカラー行列に限ります．"
   ]
  },
  {
   "cell_type": "markdown",
   "metadata": {},
   "source": [
    "*****\n",
    "### 正則行列，逆行列\n",
    "$n$次正方行列${\\bf A}$に対して，${\\bf A}{\\bf X}={\\bf X}{\\bf A}={\\bf I}_n$となる行列Xが存在するとき，${\\bf A}$を正則行列と言います．\n",
    "このとき，${\\bf X}$を${\\bf A}$の逆行列と言い${\\bf A}^{-1}$と表記します．<br>\n",
    "正則行列${\\bf A}$について，次のとこが言えます．\n",
    "\n",
    "- ${\\bf A}$の逆行列が存在する．\n",
    "- ${\\bf A}$の行列式がゼロでない．すなわち，$det({\\bf A}) \\neq 0$となる．\n",
    "- ${\\bf A}$の階数（rank）がnに等しい．\n",
    "- ${\\bf A}$を基本変換によって単位行列に変換することができる．\n",
    "\n",
    "（行列式やランクなどの説明は先々行われますが，ここでは振替って参照できるように記載しております．）"
   ]
  },
  {
   "cell_type": "markdown",
   "metadata": {},
   "source": [
    "*****\n",
    "### 複素共役行列\n",
    "m行n列の複素行列${\\bf A}=(a_{ij})$に対して，各要素を複素共役$\\bar{a}_{ij}$とした行列を複素協約行列といい，$\\bar{\\bf A}=(\\bar{a}_{ij})$と表します．\n",
    "\n",
    "$\\bar{\\bf A}=\\left(\\begin{array}{cccc}\n",
    "\\bar{a}_{11} & \\bar{a}_{12} & \\cdots & \\bar{a}_{1n} \\\\ \n",
    "\\bar{a}_{21} & \\bar{a}_{22} & \\cdots & \\bar{a}_{2n} \\\\ \n",
    "\\vdots & \\vdots & \\ddots & \\vdots \\\\\n",
    "\\bar{a}_{m1} & \\bar{a}_{m2} & \\cdots & \\bar{a}_{mn} \\\\\n",
    "\\end{array} \\right)$\n",
    "\n",
    "複素共役行列について次の式が成り立ちます．\n",
    "\n",
    "- $\\bar{\\bar{\\bf A}}={\\bf A}$\n",
    "- $\\overline{{\\bf A}+{\\bf B}}=\\bar{\\bf A}+\\bar{\\bf B}$\n",
    "- $\\overline{c{\\bf A}}=\\bar{c}\\bar{\\bf A}$\n",
    "- $\\overline{\\bf AB}=\\bar{\\bf A}\\bar{\\bf B}$\n"
   ]
  },
  {
   "cell_type": "markdown",
   "metadata": {},
   "source": [
    "*****\n",
    "### 転置行列\n",
    "$m$行$n$列の行列${\\bf A}=(a_{ij})$に対して，縦横を入れ替えたn行m列の行列$(a_{ji})_{nm}$を${\\bf A}$の転置行列と言い，${\\bf A}^T=(a_{ji})$と表します．\n",
    "${\\bf A}^T$は$n$行$m$列の行列となります．\n",
    "\n",
    "${\\bf A}^T=\\left(\\begin{array}{cccc}\n",
    "a_{11} & a_{21} & \\cdots & a_{m1} \\\\ \n",
    "a_{12} & a_{22} & \\cdots & a_{m2} \\\\ \n",
    "\\vdots & \\vdots & \\ddots & \\vdots \\\\\n",
    "a_{1n} & a_{2n} & \\cdots & a_{mn} \\\\\n",
    "\\end{array} \\right)$\n",
    "\n",
    "転置行列について，次の式が成り立ちます．\n",
    "\n",
    "- $({\\bf A}^T)^T={\\bf A}$\n",
    "- $({\\bf A}+{\\bf B})^T={\\bf A}^T+{\\bf B}^T$\n",
    "- $(c{\\bf A})^T=c({\\bf A}^T)$\n",
    "- $(\\bar{\\bf A})^T=\\overline{{\\bf A}^T}$\n",
    "- $({\\bf AB})^T={\\bf B}^T {\\bf A}^T$\n"
   ]
  },
  {
   "cell_type": "markdown",
   "metadata": {},
   "source": [
    "*****\n",
    "### 随伴行列\n",
    "${\\bf A}$を$m$行$n$列の行列としたとき，${\\bf A}$の転置共役行列を${\\bf A}$の随伴行列と言い，${\\bf A}^*=\\bar{\\bf A}^T$と記載します．\n",
    "${\\bf A}^*$は$n$行$m$列の行列になります．\n",
    "\n",
    "${\\bf A}^*=\\bar{\\bf A}^T=\\left(\\begin{array}{cccc}\n",
    "\\bar{a}_{11} & \\bar{a}_{21} & \\cdots & \\bar{a}_{m1} \\\\ \n",
    "\\bar{a}_{12} & \\bar{a}_{22} & \\cdots & \\bar{a}_{m2} \\\\ \n",
    "\\vdots & \\vdots & \\ddots & \\vdots \\\\\n",
    "\\bar{a}_{1n} & \\bar{a}_{2n} & \\cdots & \\bar{a}_{mn} \\\\\n",
    "\\end{array} \\right)$\n",
    "\n",
    "$m$行$n$列の行列${\\bf A}$は，n次元ベクトル空間からm次元ベクトル空間への線形写像ですが，${\\bf A}^*$はm次元ベクトル空間からn次元ベクトル空間への線形写像となります．\n",
    "ここで，$V$をn次元ベクトル空間とし，任意の$x,y \\in V$について内積を$\\langle x,y \\rangle_n$と記載すると，\n",
    "\n",
    "<font color=blue>$\\langle {\\bf A}x,y \\rangle_m=\\langle x,{\\bf A}^*y \\rangle_n$</font>\n",
    "\n",
    "が成立します．\n",
    "また，随伴行列は複素共役と転置を合わせた行列なので，次の式が成立します．\n",
    "\n",
    "- $({\\bf A}^*)^*={\\bf A}$\n",
    "- $({\\bf A}+{\\bf B})^*={\\bf A}^*+{\\bf B}^*$\n",
    "- $(c{\\bf A})^*=\\bar{c}{\\bf A}^*$\n",
    "- $({\\bf AB})^*={\\bf B}^*{\\bf A}^*$\n",
    "\n",
    "（内積についての説明は先のレクチャーとなります．）"
   ]
  },
  {
   "cell_type": "markdown",
   "metadata": {},
   "source": [
    "*****\n",
    "他にも名前の付いた行列はたくさんありますが，ここに挙げた行列が代表的な行列です．"
   ]
  }
 ],
 "metadata": {
  "kernelspec": {
   "display_name": "Python 3",
   "language": "python",
   "name": "python3"
  },
  "language_info": {
   "codemirror_mode": {
    "name": "ipython",
    "version": 3
   },
   "file_extension": ".py",
   "mimetype": "text/x-python",
   "name": "python",
   "nbconvert_exporter": "python",
   "pygments_lexer": "ipython3",
   "version": "3.6.1"
  }
 },
 "nbformat": 4,
 "nbformat_minor": 2
}
