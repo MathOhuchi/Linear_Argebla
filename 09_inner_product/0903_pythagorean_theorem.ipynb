{
 "cells": [
  {
   "cell_type": "markdown",
   "metadata": {},
   "source": [
    "# ピタゴラスの定理と直交性\n",
    "\n",
    "内積は線形代数に多くの理論をもたらしてくれます．\n",
    "そこには角度の概念も含まれます．\n",
    "\n",
    "角度と言えば，直角三角形におけるピタゴラスの定理という有名な定理がありますが，この定理と内積の関係から深堀していきます．"
   ]
  },
  {
   "cell_type": "markdown",
   "metadata": {},
   "source": [
    "*****\n",
    "## ピタゴラスの定理\n",
    "\n",
    "「直角三角形において直角を挟む2辺の2乗の和は斜辺の2乗に等しい」というのがピタゴラスの定理でした．\n",
    "\n",
    "![ピタゴラスの定理](./images/pythagorean.jpg)\n",
    "\n"
   ]
  },
  {
   "cell_type": "markdown",
   "metadata": {},
   "source": [
    "#### 簡単な証明\n",
    "\n",
    "ピタゴラスの定理には幾つもの証明方法がありますが，ここでは簡単な証明をご紹介します．\n",
    "\n",
    "この直角三角形を4つ，90度ずつ回転して，下図のように並べます．\n",
    "\n",
    "![ピタゴラス定理の証明](./images/pythagorean_proof.jpg)"
   ]
  },
  {
   "cell_type": "markdown",
   "metadata": {},
   "source": [
    "すると，辺の長さが$a+b$の正方形の中に辺の長さが$c$の正方形が内接する図形になります．\n",
    "外側の正方形の面積は$(a+b)^2$ですが，内側にある4つの三角形と小さな正方形の面積の和でも表されます．\n",
    "\n",
    "> 外側の四角形の面積：$(a+b)^2 = a^2 + 2ab + b^2$\n",
    "\n",
    "> 4つの三角形と小さな正方形の面積の和：$4{\\cdot}\\frac{1}{2}ab + c^2 = 2ab + c^2$\n",
    "\n",
    "両方の面積が一致するので，\n",
    "\n",
    "> $ a^2 + 2ab + b^2 = 2ab + c^2 $\n",
    "\n",
    "両辺から$2ab$を消去すれば，ピタゴラスの定理「$a^2+b^2=c^2$」が得られます．"
   ]
  },
  {
   "cell_type": "markdown",
   "metadata": {},
   "source": [
    "### 2次元の実数ベクトルの長さ\n",
    "\n",
    "2次元ベクトル空間$\\mathbb{R}^2$のベクトル\n",
    "${\\bf v} =\n",
    "\\left(\\begin{array}{c}\n",
    "v_1 \\\\ v_2 \\\\\n",
    "\\end{array}\\right)$\n",
    "の大きさは，ピタゴラスの定理から直接求まります．\n",
    "\n",
    "![2次元ベクトルの大きさ](./images/norm2dim.jpg)"
   ]
  },
  {
   "cell_type": "markdown",
   "metadata": {},
   "source": [
    "ベクトル$\\bf v$を斜辺として，第1成分と第2成分を直角を挟む2辺と見ることができるので，この直角三角形にピタゴラスの定理を適用します．\n",
    "すると，斜辺であるベクトルの大きさが求まります．\n",
    "\n",
    "> $\\|{\\bf v}\\| = \\sqrt{{v_1}^2+{v_2}^2}$"
   ]
  },
  {
   "cell_type": "markdown",
   "metadata": {},
   "source": [
    "### 3次元の実数ベクトルの長さ\n",
    "\n",
    "3次元ベクトル空間$\\mathbb{R}^3$のベクトル\n",
    "${\\bf v} =\n",
    "\\left(\\begin{array}{c}\n",
    "v_1 \\\\ v_2 \\\\ v_3 \\\\\n",
    "\\end{array}\\right)$\n",
    "の大きさは，ピタゴラスの定理を2度使って求めることができます．\n",
    "\n",
    "![3次元ベクトルの大きさ](./images/norm3dim.jpg)"
   ]
  },
  {
   "cell_type": "markdown",
   "metadata": {},
   "source": [
    "まず第1成分と第2成分およびベクトル\n",
    "${\\bf v}' =\n",
    "\\left(\\begin{array}{c}\n",
    "v_1 \\\\ v_2 \\\\ 0 \\\\\n",
    "\\end{array}\\right)$\n",
    "で構成される直角三角形を考えます．\n",
    "\n",
    "ピタゴラスの定理により，${\\bf v}'$の大きさが$\\sqrt{{v_1}^2+{v_2}^2}$であることが分かります．\n",
    "\n",
    "次に，この${\\bf v}'$と$\\bf v$で囲われた三角形も直角三角形です．\n",
    "この直角を挟む2辺の長さは，$\\sqrt{{v_1}^2+{v_2}^2}$と $|v_3|$ ですので，斜辺の長さをピタゴラスの定理によって計算すると次式が得られます．\n",
    "\n",
    "> $\\|{\\bf v}\\| = \\sqrt{{v_1}^2+{v_2}^2+{v_3}^2}$"
   ]
  },
  {
   "cell_type": "markdown",
   "metadata": {},
   "source": [
    "### n次元実数ベクトルの長さ\n",
    "\n",
    "2次元から3次元へ拡張した手順を繰り返すことによって，n次元実数ベクトル$\\bf v$の長さも求まります．\n",
    "これにはピタゴラスの定理をn-1回適用します．その結果が次式です．\n",
    "\n",
    "> $\\|{\\bf v}\\| = \\sqrt{{v_1}^2+{v_2}^2+\\cdots+{v_n}^2}$\n",
    "\n",
    "この結果は，まさにn次元ユークリッド空間の内積 $\\left<\\cdot,\\cdot\\right>$ によって導入されたノルムに一致します．"
   ]
  },
  {
   "cell_type": "markdown",
   "metadata": {},
   "source": [
    "*****\n",
    "## ベクトルの直交性\n",
    "\n",
    "n次元ユークリッド空間においてもピタゴラスの定理が成立することが分かりましたので，ベクトルで構成した直角三角形を考えます．\n",
    "今，${\\bf x},{\\bf y} \\in \\mathbb{R}^n$が直交しているとします．\n",
    "このことを記号では${\\bf x}{\\perp}{\\bf y}$と表します．\n",
    "すると，ピタゴラスの定理により，\n",
    "\n",
    "> ${\\|{\\bf x}\\|}^2 + {\\|{\\bf y}\\|}^2 = {\\| {\\bf x} + {\\bf y} \\|}^2$"
   ]
  },
  {
   "cell_type": "markdown",
   "metadata": {},
   "source": [
    "この右辺を内積の定義に沿って展開すると次のようになります．\n",
    "\n",
    "$\\begin{eqnarray}\n",
    "{\\|{\\bf x}\\|}^2 + {\\|{\\bf y}\\|}^2 \n",
    "&=& \n",
    "{\\| {\\bf x}+{\\bf y} \\|}^2 \\\\\n",
    "&=&\n",
    "\\left< {\\bf x}+{\\bf y},{\\bf x}+{\\bf y} \\right> \\\\\n",
    "&=&\n",
    "\\left<{\\bf x},{\\bf x}\\right> + \\left<{\\bf x},{\\bf y}\\right> + \\left<{\\bf y},{\\bf x}\\right> + \\left<{\\bf y},{\\bf y}\\right> \\\\\n",
    "&=&\n",
    "{\\|{\\bf x}\\|}^2 + 2\\left<{\\bf x},{\\bf y}\\right> + {\\|{\\bf y}\\|}^2 \\\\\n",
    "\\end{eqnarray}$\n",
    "\n",
    "となります．\n",
    "この両辺から共通項を削除すると次の結果が得られます．\n",
    "\n",
    "> $\\left<{\\bf x},{\\bf y}\\right> = 0$\n",
    "\n",
    "すなわち，ベクトルが直交している場合は，その内積がゼロになります．"
   ]
  },
  {
   "cell_type": "markdown",
   "metadata": {},
   "source": [
    "### 内積に関する法則\n",
    "\n",
    "これまで内積に関連して幾つかの法則が得られました．\n",
    "\n",
    "- シュワルツの不等式：$|\\left<{\\bf x},{\\bf y}\\right>| \\leq \\|{\\bf x}\\|{\\cdot}\\|{\\bf y}\\|$\n",
    "- $\\bf x$と$\\bf y$が線形従属の場合：$|\\left<{\\bf x},{\\bf y}\\right>| = \\|{\\bf x}\\|{\\cdot}\\|{\\bf y}\\|$\n",
    "- $\\bf x$と$\\bf y$が直交している場合：$|\\left<{\\bf x},{\\bf y}\\right>| = 0$\n",
    "\n"
   ]
  },
  {
   "cell_type": "markdown",
   "metadata": {},
   "source": [
    "*****"
   ]
  }
 ],
 "metadata": {
  "kernelspec": {
   "display_name": "Python 3",
   "language": "python",
   "name": "python3"
  },
  "language_info": {
   "codemirror_mode": {
    "name": "ipython",
    "version": 3
   },
   "file_extension": ".py",
   "mimetype": "text/x-python",
   "name": "python",
   "nbconvert_exporter": "python",
   "pygments_lexer": "ipython3",
   "version": "3.6.1"
  }
 },
 "nbformat": 4,
 "nbformat_minor": 2
}
