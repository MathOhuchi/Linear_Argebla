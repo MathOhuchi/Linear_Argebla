{
 "cells": [
  {
   "cell_type": "markdown",
   "metadata": {},
   "source": [
    "# 内積と転置行列\n",
    "\n",
    "$n$次元ユークリッド空間$\\mathbb{R}^n$から$m$次元ユークリッド空間$\\mathbb{R}^m$への線形写像の表現行列$\\bf A$は$m$行$n$列の行列になります．\n",
    "\n",
    "> ${\\bf A}:\\mathbb{R}^n \\rightarrow \\mathbb{R}^m$\n",
    "\n",
    "この行列の詳細を次のようにします．\n",
    "\n",
    "${\\bf A}=\\left(\\begin{array}{cccc}\n",
    "a_{11} & a_{12} & \\cdots & a_{1n} \\\\ \n",
    "a_{21} & a_{22} & \\cdots & a_{2n} \\\\ \n",
    "\\vdots & \\vdots & \\ddots & \\vdots \\\\\n",
    "a_{m1} & a_{m2} & \\cdots & a_{mn} \\\\\n",
    "\\end{array} \\right)$"
   ]
  },
  {
   "cell_type": "markdown",
   "metadata": {},
   "source": [
    "このとき，転置行列${\\bf A}^\\mathsf{T}$は，行と列を入替えた$n$行$m$列の行列です．\n",
    "\n",
    "${\\bf A}^\\mathsf{T}=\\left(\\begin{array}{cccc}\n",
    "a_{11} & a_{21} & \\cdots & a_{m1} \\\\ \n",
    "a_{12} & a_{22} & \\cdots & a_{m2} \\\\ \n",
    "\\vdots & \\vdots & \\ddots & \\vdots \\\\\n",
    "a_{1n} & a_{2n} & \\cdots & a_{mn} \\\\\n",
    "\\end{array} \\right)$\n",
    "\n",
    "転置行列は，$m$次元ユークリッド空間$\\mathbb{R}^m$から$n$次元ユークリッド空間$\\mathbb{R}^n$への線形写像になります．\n",
    "\n",
    "> ${\\bf A}^\\mathsf{T}:\\mathbb{R}^m \\rightarrow \\mathbb{R}^n$"
   ]
  },
  {
   "cell_type": "markdown",
   "metadata": {},
   "source": [
    "さて内積記号$\\left<{\\cdot},{\\cdot}\\right>$についてですが，ユークリッド空間の次元を明確にする場合，例えばn次元の場合は，\n",
    "${\\left<{\\cdot},{\\cdot}\\right>}_n$と次元を添え字として記載します．\n",
    "この後，$\\bf A$の転置行列${\\bf A}^\\mathsf{T}$と内積との間ある関係について明確にします．\n"
   ]
  },
  {
   "cell_type": "markdown",
   "metadata": {},
   "source": [
    "内積における行列と転置行列を使った次の式が成り立ちます．\n",
    "${\\bf x} \\in \\mathbb{R}^n$と${\\bf y} \\in \\mathbb{R}^m$を任意に定めたとき，\n",
    "\n",
    "> \n",
    "<font color=blue>\n",
    "${\\left<{\\bf Ax},{\\bf y}\\right>}_m = {\\left<{\\bf x},{\\bf A}^\\mathsf{T}{\\bf y}\\right>}_n$\n",
    "</font>\n",
    "\n",
    "特に誤解が生じない場合は，添え字を省略して，\n",
    "${\\left<{\\bf Ax},{\\bf y}\\right>} = {\\left<{\\bf x},{\\bf A}^\\mathsf{T}{\\bf y}\\right>}$\n",
    "と記載します．"
   ]
  },
  {
   "cell_type": "markdown",
   "metadata": {},
   "source": [
    "#### 証明\n",
    "\n",
    "ユークリッド空間の内積は，$\\left<{\\bf u},{\\bf v}\\right> = {\\bf u}^\\mathsf{T}{\\bf v}$と表されました．\n",
    "また転置行列と積の関係\n",
    "$({\\bf AB})^\\mathsf{T}={\\bf B}^\\mathsf{T} {\\bf A}^\\mathsf{T}$\n",
    "を考慮します．\n",
    "すると，\n",
    "\n",
    "$ \\begin{eqnarray}\n",
    "{\\left<{\\bf Ax},{\\bf y}\\right>}_m \n",
    "&=&\n",
    "({\\bf Ax})^\\mathsf{T}{\\bf y} \\\\\n",
    "&=&\n",
    "({\\bf x}^\\mathsf{T}{\\bf A}^\\mathsf{T}){\\bf y} \\\\\n",
    "&=&\n",
    "{\\bf x}^\\mathsf{T}({\\bf A}^\\mathsf{T}{\\bf y}) \\\\\n",
    "&=&\n",
    "{\\left<{\\bf x},{\\bf A}^\\mathsf{T}{\\bf y}\\right>}_n \\\\\n",
    "\\end{eqnarray} $\n",
    "\n",
    "となります．"
   ]
  },
  {
   "cell_type": "markdown",
   "metadata": {},
   "source": [
    "## 転置行列と対称行列\n",
    "\n",
    "$m$行$n$列の行列$\\bf A$の転置行列${\\bf A}^\\mathsf{T}$と$\\bf A$との積${\\bf A}^\\mathsf{T}{\\bf A}$は対称行列になり，\n",
    "そのランクは$\\bf A$のランクと等しくなります．  \n",
    "ここで，<font color=blue>対称行列とは転置行列が元の行列と等しい行列</font>を言います．\n",
    "\n",
    "この主張を式で表さすと，次のようになります．\n",
    "\n",
    "> $({\\bf A}^\\mathsf{T}{\\bf A})^\\mathsf{T} = {\\bf A}^\\mathsf{T}{\\bf A}$\n",
    "\n",
    "> $\\text{Rank}({\\bf A}^\\mathsf{T}{\\bf A}) = \\text{Rank}{\\bf A}$"
   ]
  },
  {
   "cell_type": "markdown",
   "metadata": {},
   "source": [
    "#### 証明\n",
    "\n",
    "対称性については，$({\\bf A}^\\mathsf{T})^\\mathsf{T}={\\bf A}$に注意して式変形すれば求まります．\n",
    "\n",
    "$\\begin{eqnarray}\n",
    "({\\bf A}^\\mathsf{T}{\\bf A})^\\mathsf{T} \n",
    "&=&\n",
    "{\\bf A}^\\mathsf{T}({\\bf A}^\\mathsf{T})^\\mathsf{T} \\\\\n",
    "&=&\n",
    "{\\bf A}^\\mathsf{T}{\\bf A} \\\\\n",
    "\\end{eqnarray}$"
   ]
  },
  {
   "cell_type": "markdown",
   "metadata": {},
   "source": [
    "ランクについて基本的な事実として，行列のランクと核の次元を足したものが列数となります．\n",
    "行列$\\bf A$の場合，\n",
    "\n",
    "> $\\text{Rank}{\\bf A} + \\text{dim}(\\text{Ker}{\\bf A}) = n$\n",
    "\n",
    "となります．\n",
    "また，行列${\\bf A}^\\mathsf{T}{\\bf A}$は$n$行$n$列の正方行列となるので，行列$\\bf A$と同じ列数です．\n",
    "したがって，ランクが一致することは核の次元が一致することに置き換えられます．\n",
    "さらに強い条件である核そのものが一致すれば，次元も一致します．\n",
    "\n",
    "> $\\text{Ker}{\\bf A}^\\mathsf{T}{\\bf A} = \\text{Ker}{\\bf A}$\n",
    "\n",
    "この式を包含関係と論理積で表すと次のようになります．\n",
    "\n",
    "> $(\\text{Ker}{\\bf A} \\subset \\text{Ker}{\\bf A}^\\mathsf{T}{\\bf A}) \\land (\\text{Ker}{\\bf A} \\supset \\text{Ker}{\\bf A}^\\mathsf{T}{\\bf A})$\n",
    "\n",
    "よって，この包含関係を照明します．"
   ]
  },
  {
   "cell_type": "markdown",
   "metadata": {},
   "source": [
    "まず，$\\text{Ker}{\\bf A} \\subset \\text{Ker}{\\bf A}^\\mathsf{T}{\\bf A}$を示します．\n",
    "${\\bf x} \\in \\text{Ker}{\\bf A}$とすると，${\\bf Ax}={\\bf 0}$になっています．この両辺に左から${\\bf A}^\\mathsf{T}$を掛ければ\n",
    "\n",
    "${\\bf A}^\\mathsf{T}{\\bf Ax} = {\\bf A}^\\mathsf{T}{\\bf 0} = {\\bf 0}$\n",
    "\n",
    "となり，${\\bf x} \\in \\text{Ker}{\\bf A}^\\mathsf{T}{\\bf A}$が言えます．\n",
    "\n",
    "今度は逆に$\\text{Ker}{\\bf A}^\\mathsf{T}{\\bf A} \\subset \\text{Ker}{\\bf A}$を示します．\n",
    "${\\bf x} \\in \\text{Ker}{\\bf A}^\\mathsf{T}{\\bf A}$とすると，${\\bf A}^\\mathsf{T}{\\bf A}{\\bf x}={\\bf 0}$になっています．\n",
    "これと$\\bf x$との内積をとります．\n",
    "\n",
    "$\\begin{eqnarray}\n",
    "\\left<{\\bf A}^\\mathsf{T}{\\bf A}{\\bf x},{\\bf x}\\right> &=& 0 \\\\\n",
    "\\left<{\\bf A}{\\bf x},{\\bf A}{\\bf x}\\right> &=& 0 \\\\\n",
    "{\\|{\\bf Ax}\\|}^2 &=& 0 \\\\\n",
    "{\\bf Ax} &=& {\\bf 0}\n",
    "\\end{eqnarray}$\n",
    "\n",
    "よって，${\\bf x} \\in \\text{Ker}{\\bf A}$が示されました．"
   ]
  },
  {
   "cell_type": "markdown",
   "metadata": {},
   "source": [
    "### ${\\bf A}^\\mathsf{T}{\\bf A}$の正則性\n",
    "\n",
    "上記の結果より，$m$行$n$列の行列$\\bf A$について直ちに次の事が言えます．\n",
    "\n",
    "> $\\bf A$の列が線形独立ならば，$\\text{Rank}{\\bf A} = n$となり，行列${\\bf A}^\\mathsf{T}{\\bf A}$は正則，つまり逆行列が存在します．"
   ]
  },
  {
   "cell_type": "markdown",
   "metadata": {},
   "source": [
    "*****"
   ]
  }
 ],
 "metadata": {
  "kernelspec": {
   "display_name": "Python 3",
   "language": "python",
   "name": "python3"
  },
  "language_info": {
   "codemirror_mode": {
    "name": "ipython",
    "version": 3
   },
   "file_extension": ".py",
   "mimetype": "text/x-python",
   "name": "python",
   "nbconvert_exporter": "python",
   "pygments_lexer": "ipython3",
   "version": "3.6.1"
  }
 },
 "nbformat": 4,
 "nbformat_minor": 2
}
