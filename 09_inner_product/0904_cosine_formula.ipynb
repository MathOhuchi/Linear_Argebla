{
 "cells": [
  {
   "cell_type": "markdown",
   "metadata": {},
   "source": [
    "# 余弦定理\n",
    "\n",
    "ユークリッド空間の内積と角度の関係を確立する上で重要な役割を果たす余弦定理について説明します．\n",
    "余弦定理はピタゴラスの定理の一般の三角形への拡張としても位置付けられます．\n",
    "\n",
    "下図のような一般の三角形を考えます．\n",
    "辺$c$の長さを辺$a,c$およびその挟角の角度$\\theta$によって表すのが余弦定理です．\n",
    "\n",
    "![余弦定理](./images/cosine1.jpg)\n",
    "\n",
    "> \n",
    "<font color=blue>\n",
    "$c^2 = a^2 + b^2 -2ab\\cos\\theta$ ・・・（余弦定理）\n",
    "</font>"
   ]
  },
  {
   "cell_type": "markdown",
   "metadata": {},
   "source": [
    "余弦定理において，辺$a$と辺$b$に囲まれる角度$\\theta$が直角の場合，$\\cos 90^\\circ = 0$となるので，ピタゴラスの定理に一致します．"
   ]
  },
  {
   "cell_type": "markdown",
   "metadata": {},
   "source": [
    "### 証明\n",
    "\n",
    "この証明には三角関数の定義とピタゴラスの定理を使います．<br>\n",
    "ここでは，辺$a$と辺$c$に挟まれる角の角度を鈍角として証明を行いますが，鋭角の場合でも同様に証明することができます．\n",
    "\n",
    "まず，辺$a,c$のに挟まれる角から辺$b$に垂線を引きます．\n",
    "すると2つの直角三角形が現れます．\n",
    "この左側の直角三角形に注目します．\n",
    "\n",
    "![余弦定理の証明図1](./images/cosine2.jpg)"
   ]
  },
  {
   "cell_type": "markdown",
   "metadata": {},
   "source": [
    "この直角三角形において，三角関数の定義により，直角を挟む2辺の長さが求まります．\n",
    "\n",
    "> 縦線の長さ：$a\\sin\\theta$\n",
    "\n",
    "> 横線の長さ：$a\\cos\\theta$"
   ]
  },
  {
   "cell_type": "markdown",
   "metadata": {},
   "source": [
    "次に右側の直角三角形に注目します．\n",
    "\n",
    "![余弦定理の証明図2](./images/cosine3.jpg)\n",
    "\n",
    "元の三角形の下辺の長さが$b$だったので，そこから$a\\cos\\theta$を引いた残りがこの直角三角形の横線の長さになっています．"
   ]
  },
  {
   "cell_type": "markdown",
   "metadata": {},
   "source": [
    "> 縦線の長さ：$a\\sin\\theta$\n",
    "\n",
    "> 横線の長さ：$b - a\\cos\\theta$"
   ]
  },
  {
   "cell_type": "markdown",
   "metadata": {},
   "source": [
    "この直角三角形にピタゴラスの定理を適用します．\n",
    "\n",
    "$\\begin{eqnarray}\n",
    "c^2 &=& (a\\sin\\theta)^2 + (b-a\\cos\\theta)^2 \\\\\n",
    "&=&\n",
    "a^2{\\sin}^2\\theta + b^2 - 2ab\\cos\\theta + a^2{\\cos}^2\\theta \\\\\n",
    "&=&\n",
    "a^2({\\sin}^2\\theta+{\\cos}^2\\theta) + b^2 - 2ab\\cos\\theta \\\\\n",
    "&=&\n",
    "a^2 + b^2 - 2ab\\cos\\theta\n",
    "\\end{eqnarray}$\n",
    "\n",
    "これにより，余弦定理の公式が求まりました．"
   ]
  },
  {
   "cell_type": "markdown",
   "metadata": {},
   "source": [
    "## ベクトル空間における余弦定理\n",
    "\n",
    "余弦定理をユークリッド空間上で解釈していきます．\n",
    "上記の余弦定理は，平面上の三角形について成立しています．\n",
    "$n$次元実数ベクトル空間の2つのベクトル${\\bf x},{\\bf y}$は線形独立とします．\n",
    "この2つのベクトルが含まれる線形部分空間は，2次元平面として考えることができます．\n",
    "したがって，その平面上でベクトル$\\bf x$と$\\bf y$によって構成される三角形に余弦定理を適用します．\n",
    "\n",
    "![ベクトル余弦定理](./images/cosine_vector.jpg)"
   ]
  },
  {
   "cell_type": "markdown",
   "metadata": {},
   "source": [
    "ベクトルの長さはノルム$\\|{\\cdot}\\|$で求まるので，余弦定理は次のように書き換えられます．\n",
    "\n",
    "> \n",
    "<font color=blue>\n",
    "${\\|{\\bf y}-{\\bf x}\\|}^2 = {\\|{\\bf x}\\|}^2 + {\\|{\\bf y}\\|}^2 - 2\\cos\\theta\\|{\\bf x}\\|{\\cdot}\\|{\\bf y}\\| $\n",
    "</font>"
   ]
  },
  {
   "cell_type": "markdown",
   "metadata": {},
   "source": [
    "この式の左辺を内積で展開します．\n",
    "\n",
    "$\\begin{eqnarray}\n",
    "{\\|{\\bf x}-{\\bf y}\\|}^2 &=&\n",
    "\\left<{\\bf x}-{\\bf y},{\\bf x}-{\\bf y}\\right> \\\\\n",
    "&=&\n",
    "{\\|{\\bf x}\\|}^2 + {\\|{\\bf y}\\|}^2 - 2\\left<{\\bf x},{\\bf y}\\right> \\\\\n",
    "\\end{eqnarray}$"
   ]
  },
  {
   "cell_type": "markdown",
   "metadata": {},
   "source": [
    "この式とベクトルの余弦定理の式を繋げて，共通項を消去すれば，次の式が得られます．\n",
    "\n",
    "> \n",
    "<font color=blue>\n",
    "$\\left<{\\bf x},{\\bf y}\\right> = \\cos\\theta{\\|{\\bf x}\\|}{\\cdot}{\\|{\\bf y}\\|}$\n",
    "</font>\n",
    "\n",
    "この式はシュワルツの不等式を精緻化した等式になっています．\n",
    "なぜならば，$-1 \\leq \\cos\\theta \\leq 1$なので，上式の絶対値をとると，\n",
    "\n",
    "$\\begin{eqnarray}\n",
    "|{\\left<{\\bf x},{\\bf y}\\right>}| \n",
    "&=& \n",
    "|\\cos\\theta|{\\cdot}{\\|{\\bf x}\\|}{\\cdot}{\\|{\\bf y}\\|} \\\\\n",
    "& \\leq &\n",
    "{\\|{\\bf x}\\|}{\\cdot}{\\|{\\bf y}\\|} \\\\\n",
    "\\end{eqnarray}$\n",
    "\n",
    "となり，シュワルツの不等式を得ることが出来るからです．"
   ]
  },
  {
   "cell_type": "markdown",
   "metadata": {},
   "source": [
    "## ユークリッド空間の角度\n",
    "\n",
    "上記の結果は，ユークリッド空間における角度を内積から定義する公式を導いています．\n",
    "\n",
    "> \n",
    "<font color=blue>\n",
    "$\\displaystyle \\cos\\theta = \\frac{\\left<{\\bf x},{\\bf y}\\right>}{\\|{\\bf x}\\|{\\cdot}\\|{\\bf y}\\|} $\n",
    "</font>"
   ]
  },
  {
   "cell_type": "markdown",
   "metadata": {},
   "source": [
    "*****\n",
    "これまで見てきたように内積はユークリッド空間における様々な概念を研究する手段となっています．\n",
    "\n",
    "- 内積は距離を決定します．\n",
    "- 内積は角度を決定します．\n",
    "- 内積で直交性が確認できます．\n",
    "- 内積で線形従属が確認できます．\n",
    "\n",
    "この後も，内積を使って線形代数の理論が展開されます．"
   ]
  },
  {
   "cell_type": "markdown",
   "metadata": {},
   "source": [
    "## 平行四辺形の面積\n",
    "\n",
    "2次元ユークリッド空間上の2つのベクトル\n",
    "${\\bf u} = \\left(\\begin{array}{c} u_1 \\\\ u_2 \\\\ \\end{array}\\right)$\n",
    "および\n",
    "${\\bf u} = \\left(\\begin{array}{c} u_1 \\\\ u_2 \\\\ \\end{array}\\right)$\n",
    "で囲まれた平行四辺形の面積$S$を求める公式を導きます．\n",
    "\n",
    "![平行四辺形の面積](./images/parallelogram.jpg)"
   ]
  },
  {
   "cell_type": "markdown",
   "metadata": {},
   "source": [
    "$\\begin{eqnarray}\n",
    "S &=& \\|{\\bf u}\\|{\\cdot}\\|{\\bf v}\\|{\\sin}{\\theta} \\\\\n",
    "&=&  \\|{\\bf u}\\|{\\cdot}\\|{\\bf v}\\| \\sqrt{1-{\\cos}^2{\\theta}} \\\\\n",
    "&=& \\sqrt{ (\\|{\\bf u}\\|{\\cdot}\\|{\\bf v}\\|)^2 - (\\|{\\bf u}\\|{\\cdot}\\|{\\bf v}\\|{\\cos}{\\theta})^2 } \\\\\n",
    "&=& \\sqrt{ \\|{\\bf u}\\|^2{\\cdot}\\|{\\bf v}\\|^2 - \\left< {\\bf u},{\\bf v} \\right> } \\\\\n",
    "&=& \\sqrt{ ({u_1}^2+{u_2}^2)({v_1}^2+{v_2}^2) - (u_1v_1 + u_2v_2)^2 } \\\\\n",
    "&=& \\sqrt{ {u_1}^2{v_1}^2+{u_1}^2{v_2}^2+{u_2}^2{v_1}^2+{u_2}^2{v_2}^2 -(u_1v_1)^2-2(u_1v_1)(u_2v_2)-(u_2v_2)^2 } \\\\\n",
    "&=& \\sqrt{ (u_1v_2)^2 -2(u_1v_2)(u_2v_1)+(u_2v_1)^2 } \\\\\n",
    "&=& \\sqrt{ (u_1v_2-u_2v_1)^2 } \\\\\n",
    "&=& \\left| u_1v_2-u_2v_1 \\right| \\\\\n",
    "\\end{eqnarray}$"
   ]
  },
  {
   "cell_type": "markdown",
   "metadata": {},
   "source": [
    "すなわち，\n",
    "\n",
    "> $S= \\left| u_1v_2-u_2v_1 \\right| $\n",
    "\n",
    "となります．\n",
    "*****"
   ]
  }
 ],
 "metadata": {
  "kernelspec": {
   "display_name": "Python 3",
   "language": "python",
   "name": "python3"
  },
  "language_info": {
   "codemirror_mode": {
    "name": "ipython",
    "version": 3
   },
   "file_extension": ".py",
   "mimetype": "text/x-python",
   "name": "python",
   "nbconvert_exporter": "python",
   "pygments_lexer": "ipython3",
   "version": "3.6.1"
  }
 },
 "nbformat": 4,
 "nbformat_minor": 2
}
