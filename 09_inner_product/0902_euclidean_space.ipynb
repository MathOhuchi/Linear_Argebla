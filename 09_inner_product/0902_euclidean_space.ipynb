{
 "cells": [
  {
   "cell_type": "markdown",
   "metadata": {},
   "source": [
    "# ユークリッド空間\n",
    "\n",
    "$n$次元の実数ベクトル空間$\\mathbb{R}^n$に内積を導入します．\n",
    "${\\bf x},{\\bf y} \\in \\mathbb{R}^n$に対して，内積$\\left<{\\bf x},{\\bf y}\\right>$を次にように定義します．\n",
    "\n",
    "> $ \\left<{\\bf x},{\\bf y}\\right> \\overset{\\mathrm{def}}{=} {\\bf x}^\\mathsf{T}{\\bf y} \n",
    "$\n",
    "$= \n",
    "\\left(\\begin{array}{c}\n",
    "x_1 & x_2 & \\cdots & x_n \\\\\n",
    "\\end{array}\\right)\n",
    "\\left(\\begin{array}{c}\n",
    "y_1 \\\\ y_2 \\\\ \\vdots \\\\ y_n \\\\\n",
    "\\end{array}\\right)\n",
    "$\n",
    "$=\n",
    "x_1y_1+x_2y_2+\\cdots+x_ny_n$\n",
    "\n",
    "この内積を導入した$n$次元実数ベクトル空間を<font color=blue>$n$次元ユークリッド空間</font>と言います．\n",
    "$n$次元ユークリッド空間を表す記号としては，$\\mathbb{R}^n$をそのまま使用します．"
   ]
  },
  {
   "cell_type": "markdown",
   "metadata": {},
   "source": [
    "## 内積であることの確認\n",
    "\n",
    "内積の定義は次の条件でした．\n",
    "\n",
    "> $ {\\bf x}^\\mathsf{T}{\\bf y} : \\mathbb{R}^n{\\times}\\mathbb{R}^n \\rightarrow \\mathbb{R}$\n",
    "\n",
    "- 対称性：$\\left<{\\bf x},{\\bf y}\\right> = \\left<{\\bf x},{\\bf y}\\right>$\n",
    "- 線形性：\n",
    "$\\left\\{\\begin{array}{c} \n",
    "\\left<a_1{\\bf x}_1+a_2{\\bf x}_2,{\\bf y}\\right> = a_1\\left<{\\bf x}_1,{\\bf y}\\right> + a_2\\left<{\\bf x}_2,{\\bf y}\\right>  \\\\\n",
    "\\left<{\\bf x},b_1{\\bf y}_1+b_2{\\bf y}_2\\right> = b_1\\left<{\\bf x},{\\bf y}_1\\right> + b_2\\left<{\\bf x},{\\bf y}_2\\right>  \\\\\n",
    "\\end{array}\\right.$\n",
    "- 正定値性：$\\left<{\\bf x},{\\bf x}\\right> \\geq 0$\n",
    "- 非退化性：$\\left<{\\bf x},{\\bf x}\\right> = 0 \\Rightarrow {\\bf x}={\\bf 0}$\n",
    "\n",
    "これらの条件を確認します．"
   ]
  },
  {
   "cell_type": "markdown",
   "metadata": {},
   "source": [
    "##### 対称性\n",
    "\n",
    "$ \\begin{eqnarray}\n",
    "\\left<{\\bf x},{\\bf y}\\right> \n",
    "&=&\n",
    "{\\bf x}^\\mathsf{T}{\\bf y} \\\\\n",
    "&=& \n",
    "\\left(\\begin{array}{c}\n",
    "x_1 & x_2 & \\cdots & x_n \\\\\n",
    "\\end{array}\\right)\n",
    "\\left(\\begin{array}{c}\n",
    "y_1 \\\\ y_2 \\\\ \\vdots \\\\ y_n \\\\\n",
    "\\end{array}\\right) \\\\\n",
    "&=&\n",
    "x_1y_1+x_2y_2+\\cdots+x_ny_n \\\\\n",
    "&=&\n",
    "y_1x_1+y_2x_2+\\cdots+y_nx_n \\\\\n",
    "&=&\n",
    "\\left(\\begin{array}{c}\n",
    "y_1 & y_2 & \\cdots & y_n \\\\\n",
    "\\end{array}\\right)\n",
    "\\left(\\begin{array}{c}\n",
    "x_1 \\\\ x_2 \\\\ \\vdots \\\\ x_n \\\\\n",
    "\\end{array}\\right) \\\\\n",
    "&=&\n",
    "{\\bf y}^\\mathsf{T}{\\bf x} \\\\\n",
    "&=&\n",
    "\\left<{\\bf y},{\\bf x}\\right> \n",
    "\\end{eqnarray}$"
   ]
  },
  {
   "cell_type": "markdown",
   "metadata": {},
   "source": [
    "##### 線形性\n",
    "\n",
    "$ \\begin{eqnarray}\n",
    "\\left<a_1{\\bf x}_1+a_2{\\bf x}_2,{\\bf y}\\right> \n",
    "&=&\n",
    "(a_1{\\bf x}_1+a_2{\\bf x}_2)^\\mathsf{T}{\\bf y} \\\\\n",
    "&=& \n",
    "\\left(\\begin{array}{c}\n",
    "a_1x_{11}+a_2x_{21} & a_1x_{12}+a_2x_{22} & \\cdots & a_1x_{1n}+a_2x_{2n} \\\\\n",
    "\\end{array}\\right) \n",
    "\\left(\\begin{array}{c}\n",
    "y_1 \\\\ y_2 \\\\ \\vdots \\\\ y_n \\\\\n",
    "\\end{array}\\right) \\\\\n",
    "&=&\n",
    "(a_1x_{11}+a_2x_{21})y_1 + (a_1x_{12}+a_2x_{22})y_2 + \\cdots + (a_1x_{1n}+a_2x_{2n})y_n \\\\\n",
    "&=&\n",
    "(a_1x_{11}y_1 + a_1x_{12}y_2 + \\cdots + a_1x_{1n}y_n) + \n",
    "(a_2x_{21}y_1 + a_2x_{22}y_2 + \\cdots + a_2x_{2n}y_n) \\\\\n",
    "&=&\n",
    "\\left(\\begin{array}{c}\n",
    "a_1x_{11} & a_1x_{12} & \\cdots & a_1x_{1n} \\\\\n",
    "\\end{array}\\right) \n",
    "\\left(\\begin{array}{c}\n",
    "y_1 \\\\ y_2 \\\\ \\vdots \\\\ y_n \\\\\n",
    "\\end{array}\\right) +\n",
    "\\left(\\begin{array}{c}\n",
    "a_2x_{21} & a_2x_{22} & \\cdots & a_2x_{2n} \\\\\n",
    "\\end{array}\\right) \n",
    "\\left(\\begin{array}{c}\n",
    "y_1 \\\\ y_2 \\\\ \\vdots \\\\ y_n \\\\\n",
    "\\end{array}\\right) \\\\\n",
    "&=&\n",
    "a_1{\\bf x}_1^\\mathsf{T}{\\bf y} + a_2{\\bf x}_2^\\mathsf{T}{\\bf y} \\\\\n",
    "&=&\n",
    "a_1\\left<{\\bf x}_1,{\\bf y}\\right> + a_2\\left<{\\bf x}_2,{\\bf y}\\right> \n",
    "\\end{eqnarray} \\\\ $"
   ]
  },
  {
   "cell_type": "markdown",
   "metadata": {},
   "source": [
    "$\\left<{\\bf x},b_1{\\bf y}_1+b_2{\\bf y}_2\\right> = b_1\\left<{\\bf x},{\\bf y}_1\\right> + b_2\\left<{\\bf x},{\\bf y}_2\\right> $\n",
    "についても同様に計算できます．"
   ]
  },
  {
   "cell_type": "markdown",
   "metadata": {},
   "source": [
    "##### 正定値性\n",
    "\n",
    "$\\begin{eqnarray}\n",
    "\\left<{\\bf x},{\\bf x}\\right> &=&\n",
    "{\\bf x}^\\mathsf{T}{\\bf x} \\\\\n",
    "&=& \n",
    "\\left(\\begin{array}{c}\n",
    "x_1 & x_2 & \\cdots & x_n \\\\\n",
    "\\end{array}\\right)\n",
    "\\left(\\begin{array}{c}\n",
    "x_1 \\\\ x_2 \\\\ \\vdots \\\\ x_n \\\\\n",
    "\\end{array}\\right) \\\\\n",
    "&=&\n",
    "x_1^2+x_2^2+\\cdots+x_n^2 \\\\\n",
    "& \\geq & 0\n",
    "\\end{eqnarray}$"
   ]
  },
  {
   "cell_type": "markdown",
   "metadata": {},
   "source": [
    "##### 非退化性\n",
    "\n",
    "$\\left<{\\bf x},{\\bf x}\\right>={\\bf x}^\\mathsf{T}{\\bf x} = 0$\n",
    "なので，\n",
    "\n",
    "$x_1^2+x_2^2+\\cdots+x_n^2 = 0$\n",
    "\n",
    "それぞれ$x_i^2 \\geq 0$であるため，$x_i^2 = 0$でなければなりません．\n",
    "したがって，\n",
    "\n",
    "${\\bf x}={\\bf 0}$"
   ]
  },
  {
   "cell_type": "markdown",
   "metadata": {},
   "source": [
    "## ユークリッド空間におけるノルム\n",
    "\n",
    "$n$次元ユークリッド空間の内積によって自然に導入されるノルムは，${\\bf x} \\in \\mathbb{R}^n$に対して次の式で表されます．\n",
    "\n",
    "> $\\|{\\bf x}\\| = \\sqrt{x_1^2+x_2^2+\\cdots+x_n^2}$\n",
    "\n",
    "このノルムは2乗ノルムと呼ばれていて，特に断りの無い限り$\\mathbb{R}^n$のノルムとしては2乗ノルムを採用します．\n",
    "その理由は内積が導入されていることで，内積によって様々な概念が利用できるメリットがあります．"
   ]
  },
  {
   "cell_type": "markdown",
   "metadata": {},
   "source": [
    "### その他のノルム\n",
    "\n",
    "$\\mathbb{R}_n$には2乗ノルムの他にも様々なノルムを導入することができます．\n",
    "その例を紹介します．\n",
    "\n",
    "#### 絶対値ノルム\n",
    "\n",
    "> $\\|{\\bf x}\\|_1 \\overset{\\mathrm{def}}{=} |x_1| + |x_2| + \\cdots + |x_n|$\n",
    "\n",
    "絶対値ノルムによって定義される距離をマンハッタン距離と言います．\n",
    "\n",
    "#### k乗ノルム\n",
    "$1 \\leq k < \\infty$として，\n",
    "\n",
    "> $\\|{\\bf x}\\|_k \\overset{\\mathrm{def}}{=} \\{|x_1|^k + |x_2|^k + \\cdots + |x_n|^k\\}^{\\frac{1}{k}}$\n",
    "\n",
    "$k=2$の場合は，2乗ノルムに一致します．\n",
    "\n",
    "#### 最大値ノルム\n",
    "\n",
    "> $\\|{\\bf x}\\|_\\infty \\overset{\\mathrm{def}}{=} \\max\\left\\{|x_1|,|x_2|,\\cdots,|x_n|\\right\\} $"
   ]
  },
  {
   "cell_type": "markdown",
   "metadata": {},
   "source": [
    "これらのノルムは数値的には異なる距離を示します．\n",
    "下図にそれぞれのノルムで原点から緑の線までのベクトルが同じ大きさとなります．\n",
    "\n",
    "![ノルムの比較](./images/norm.jpg)"
   ]
  },
  {
   "cell_type": "markdown",
   "metadata": {},
   "source": [
    "### 距離の同等性\n",
    "\n",
    "この例に挙げた3つのノルムに起因する距離は，それぞれ異なった値を示しますが，次の意味で同等と考えられます．\n",
    "\n",
    "ある距離空間$\\bf X$において2つの距離$d_1,d_2$が定義されているとき，正の実数$\\alpha,\\beta$が存在して，任意の${\\bf x},{\\bf y} \\in {\\bf X}$について\n",
    "\n",
    "> ${\\alpha}d_1({\\bf x},{\\bf y}) \\leq d_2({\\bf x},{\\bf y}) \\leq {\\beta}d_1({\\bf x},{\\bf y})$\n",
    "\n",
    "が${\\bf x},{\\bf y}$に依存せずに成り立つとき，2つの距離は同等であると言います．\n",
    "\n",
    "この性質について線形代数で利用する機会はあまりありませんが，解析学においては頻繁に利用されます．"
   ]
  },
  {
   "cell_type": "markdown",
   "metadata": {},
   "source": [
    "*****\n",
    "今後，特に断らない限り，$n$次元次数ベクトル空間には内積による2乗ノルムが導入されていることを前提とします．"
   ]
  }
 ],
 "metadata": {
  "kernelspec": {
   "display_name": "Python 3",
   "language": "python",
   "name": "python3"
  },
  "language_info": {
   "codemirror_mode": {
    "name": "ipython",
    "version": 3
   },
   "file_extension": ".py",
   "mimetype": "text/x-python",
   "name": "python",
   "nbconvert_exporter": "python",
   "pygments_lexer": "ipython3",
   "version": "3.6.1"
  }
 },
 "nbformat": 4,
 "nbformat_minor": 2
}
