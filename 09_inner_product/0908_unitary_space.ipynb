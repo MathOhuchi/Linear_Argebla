{
 "cells": [
  {
   "cell_type": "markdown",
   "metadata": {},
   "source": [
    "# ユニタリ空間\n",
    "\n",
    "$n$次元の複素数ベクトル空間$\\mathbb{C}^n$に内積を導入します．\n",
    "${\\bf x},{\\bf y} \\in \\mathbb{C}^n$に対して，内積$\\left<{\\bf x},{\\bf y}\\right>$を次にように定義します．\n",
    "\n",
    "> $ \\left<{\\bf x},{\\bf y}\\right> \\overset{\\mathrm{def}}{=} \\overline{\\bf x}^\\mathsf{T}{\\bf y} \n",
    "= \n",
    "\\left(\\begin{array}{c}\n",
    "\\overline{x}_1 & \\overline{x}_2 & \\cdots & \\overline{x}_n \\\\\n",
    "\\end{array}\\right)\n",
    "\\left(\\begin{array}{c}\n",
    "y_1 \\\\ y_2 \\\\ \\vdots \\\\ y_n \\\\\n",
    "\\end{array}\\right)\n",
    "=\n",
    "\\overline{x}_1y_1+\\overline{x}_2y_2+\\cdots+\\overline{x}_ny_n$\n",
    "\n",
    "この内積を導入した$n$次元複素数ベクトル空間を<font color=blue>$n$次元ユニタリ空間</font>と言います．\n",
    "$n$次元ユニタリ空間を表す記号としては，$\\mathbb{C}^n$をそのまま使用します．\n",
    "\n",
    "ユニタリ空間についての説明は，ユークリッド空間での説明に複素共役の補正を加えるだけです．"
   ]
  },
  {
   "cell_type": "markdown",
   "metadata": {},
   "source": [
    "## 複素共役\n",
    "\n",
    "実数から複素数へ拡張したときに重要な概念が，<font color=blue>複素共役</font>です．\n",
    "任意の複素数を$z=x+y{\\bf i}$とします．ここで$x,y \\in \\mathbb{R}$です．\n",
    "この複素共役を$\\overline{z}$と書き，$\\overline{z}=x-y{\\bf i}$で定義します．\n",
    "つまり，複素数の虚数部分の符号を反転させた数です．\n",
    "\n",
    "> $z=x+y{\\bf i} \\xrightarrow{\\text{複素共役}} \\bar{z}=x-y{\\bf i}$\n",
    "\n",
    "この定義により複素共役の複素共役は元の複素数となります．すなわち，\n",
    "\n",
    "> $\\bar{\\bar{z}}=z$\n",
    "\n",
    "です．\n",
    "実数ベクトル空間の概念を複素数に拡張するとき，必ずと言っていいほど複素共役が出てきます．\n",
    "\n",
    "さらに，複素数の絶対値は複素共役を使って，\n",
    "\n",
    "> $|z| = (x+y{\\bf i})(x-y{\\bf i}) = x^2+y^2$\n",
    "\n",
    "と表されます．"
   ]
  },
  {
   "cell_type": "markdown",
   "metadata": {},
   "source": [
    "## 内積であることの確認\n",
    "\n",
    "内積の定義は次の条件でした．\n",
    "\n",
    "> $ \\overline{\\bf x}^\\mathsf{T}{\\bf y} : \\mathbb{C}^n{\\times}\\mathbb{C}^n \\rightarrow \\mathbb{C}$\n",
    "\n",
    "- エルミート対称性：$\\left<{\\bf x},{\\bf y}\\right> = \\overline{\\left<{\\bf y},{\\bf x}\\right>}$\n",
    "- 線形性：\n",
    "$\\left\\{\\begin{array}{c} \n",
    "\\left<a_1{\\bf x}_1+a_2{\\bf x}_2,{\\bf y}\\right> = \\overline{a}_1\\left<{\\bf x}_1,{\\bf y}\\right> + \\overline{a}_2\\left<{\\bf x}_2,{\\bf y}\\right>  \\\\\n",
    "\\left<{\\bf x},b_1{\\bf y}_1+b_2{\\bf y}_2\\right> = b_1\\left<{\\bf x},{\\bf y}_1\\right> + b_2\\left<{\\bf x},{\\bf y}_2\\right>  \\\\\n",
    "\\end{array}\\right.$\n",
    "- 正定値性：$\\left<{\\bf x},{\\bf x}\\right> \\geq 0$\n",
    "- 非退化性：$\\left<{\\bf x},{\\bf x}\\right> = 0 \\Rightarrow {\\bf x}={\\bf 0}$\n",
    "\n",
    "これらの条件を確認します．"
   ]
  },
  {
   "cell_type": "markdown",
   "metadata": {},
   "source": [
    "##### エルミート対称性\n",
    "\n",
    "$ \\begin{eqnarray}\n",
    "\\left<{\\bf x},{\\bf y}\\right>\n",
    "&=&\n",
    "\\overline{\\bf x}^\\mathsf{T}{\\bf y} \\\\ \n",
    "&=& \n",
    "\\left(\\begin{array}{c}\n",
    "\\overline{x}_1 & \\overline{x}_2 & \\cdots & \\overline{x}_n \\\\\n",
    "\\end{array}\\right)\n",
    "\\left(\\begin{array}{c}\n",
    "y_1 \\\\ y_2 \\\\ \\vdots \\\\ y_n \\\\\n",
    "\\end{array}\\right) \\\\\n",
    "&=&\n",
    "\\overline{x}_1y_1+\\overline{x}_2y_2+\\cdots+\\overline{x}_ny_n \\\\\n",
    "&=&\n",
    "y_1\\overline{x}_1+y_2\\overline{x}_2+\\cdots+y_n\\overline{x}_n \\\\\n",
    "&=&\n",
    "\\left(\\begin{array}{c}\n",
    "y_1 & y_2 & \\cdots & y_n \\\\\n",
    "\\end{array}\\right)\n",
    "\\left(\\begin{array}{c}\n",
    "\\overline{x}_1 \\\\ \\overline{x}_2 \\\\ \\vdots \\\\ \\overline{x}_n \\\\\n",
    "\\end{array}\\right) \\\\\n",
    "&=&\n",
    "{\\bf y}^\\mathsf{T}\\overline{\\bf x} \\\\\n",
    "&=&\n",
    "\\overline{ \\overline{\\bf y}^\\mathsf{T}{\\bf x} } \\\\\n",
    "&=&\n",
    "\\overline{\\left<{\\bf y},{\\bf x}\\right>}\n",
    "\\end{eqnarray}$"
   ]
  },
  {
   "cell_type": "markdown",
   "metadata": {},
   "source": [
    "##### 線形性\n",
    "\n",
    "$ \\begin{eqnarray}\n",
    "\\left<a_1{\\bf x}_1+a_2{\\bf x}_2,{\\bf y}\\right> \n",
    "&=&\n",
    "\\overline{(a_1{\\bf x}_1+a_2{\\bf x}_2)}^\\mathsf{T}{\\bf y} \\\\\n",
    "&=& \n",
    "\\left(\\begin{array}{c}\n",
    "\\overline{a_1x_{11}+a_2x_{21}} & \\overline{a_1x_{12}+a_2x_{22}} & \\cdots & \\overline{a_1x_{1n}+a_2x_{2n}} \\\\\n",
    "\\end{array}\\right) \n",
    "\\left(\\begin{array}{c}\n",
    "y_1 \\\\ y_2 \\\\ \\vdots \\\\ y_n \\\\\n",
    "\\end{array}\\right) \\\\\n",
    "&=&\n",
    "(\\overline{a_1x_{11}}+\\overline{a_2x_{21}})y_1 + (\\overline{a_1x_{12}}+\\overline{a_2x_{22}})y_2 + \\cdots + (\\overline{a_1x_{1n}}+\\overline{a_2x_{2n}})y_n \\\\\n",
    "&=&\n",
    "(\\overline{a_1x_{11}}y_1 + \\overline{a_1x_{12}}y_2 + \\cdots + \\overline{a_1x_{1n}}y_n) + \n",
    "(\\overline{a_2x_{21}}y_1 + \\overline{a_2x_{22}}y_2 + \\cdots + \\overline{a_2x_{2n}}y_n) \\\\\n",
    "&=&\n",
    "\\left(\\begin{array}{c}\n",
    "\\overline{a_1x_{11}} & \\overline{a_1x_{12}} & \\cdots & \\overline{a_1x_{1n}} \\\\\n",
    "\\end{array}\\right) \n",
    "\\left(\\begin{array}{c}\n",
    "y_1 \\\\ y_2 \\\\ \\vdots \\\\ y_n \\\\\n",
    "\\end{array}\\right) +\n",
    "\\left(\\begin{array}{c}\n",
    "\\overline{a_2x_{21}} & \\overline{a_2x_{22}} & \\cdots & \\overline{a_2x_{2n}} \\\\\n",
    "\\end{array}\\right) \n",
    "\\left(\\begin{array}{c}\n",
    "y_1 \\\\ y_2 \\\\ \\vdots \\\\ y_n \\\\\n",
    "\\end{array}\\right) \\\\\n",
    "&=&\n",
    "\\overline{a}_1\\overline{\\bf x}_1^\\mathsf{T}{\\bf y} + \\overline{a}_2\\overline{\\bf x}_2^\\mathsf{T}{\\bf y} \\\\\n",
    "&=&\n",
    "\\overline{a}_1\\left<{\\bf x}_1,{\\bf y}\\right> + \\overline{a}_2\\left<{\\bf x}_2,{\\bf y}\\right>\n",
    "\\end{eqnarray} \\\\ $"
   ]
  },
  {
   "cell_type": "markdown",
   "metadata": {},
   "source": [
    "もう一方の線形性，\n",
    "\n",
    "$\\begin{eqnarray}\n",
    "\\left<{\\bf x},b_1{\\bf y}_1+b_2{\\bf y}_2\\right> \n",
    "&=&\n",
    "\\overline{\\bf x}^\\mathsf{T}(b_1{\\bf y}_1+b_2{\\bf y}_2) \\\\\n",
    "&=&\n",
    "b_1\\overline{\\bf x}^\\mathsf{T}{\\bf y}_1 + b_2\\overline{\\bf x}^\\mathsf{T}{\\bf y}_2 \\\\\n",
    "&=&\n",
    "b_1\\left<{\\bf x},{\\bf y}_1\\right> + b_2\\left<{\\bf x},{\\bf y}_2\\right>\n",
    "\\end{eqnarray}$\n",
    "\n",
    "についても同様に計算できます．"
   ]
  },
  {
   "cell_type": "markdown",
   "metadata": {},
   "source": [
    "##### 正定値性\n",
    "\n",
    "$\\left<{\\bf x},{\\bf x}\\right> =\n",
    "\\overline{\\bf x}^\\mathsf{T}{\\bf x} = \n",
    "\\left(\\begin{array}{c}\n",
    "\\overline{x}_1 & \\overline{x}_2 & \\cdots & \\overline{x}_n \\\\\n",
    "\\end{array}\\right)\n",
    "\\left(\\begin{array}{c}\n",
    "x_1 \\\\ x_2 \\\\ \\vdots \\\\ x_n \\\\\n",
    "\\end{array}\\right)\n",
    "=\n",
    "{|x_1|}^2+{|x_2|}^2+\\cdots+{|x_n|}^2 \\geq 0 $"
   ]
  },
  {
   "cell_type": "markdown",
   "metadata": {},
   "source": [
    "##### 非退化性\n",
    "\n",
    "$\\overline{\\bf x}^\\mathsf{T}{\\bf x} = 0$\n",
    "なので，\n",
    "\n",
    "${|x_1|}^2+{|x_2|}^2+\\cdots+{|x_n|}^2 = 0$\n",
    "\n",
    "それぞれ${|x_i|}^2 \\geq 0$であるため，$x_i^2 = 0$でなければなりません．\n",
    "したがって，\n",
    "\n",
    "${\\bf x}={\\bf 0}$"
   ]
  },
  {
   "cell_type": "markdown",
   "metadata": {},
   "source": [
    "## ユニタリ空間におけるノルム\n",
    "\n",
    "n次元ユニタリ空間の内積によって自然に導入されるノルムは，${\\bf x} \\in \\mathbb{C}^n$に対して次の式で表されます．\n",
    "\n",
    "> $\\|{\\bf x}\\| = \n",
    "\\sqrt{\\left<{\\bf x},{\\bf x}\\right>} =\n",
    "\\sqrt{{|x_1|}^2+{|x_2|}^2+\\cdots+{|x_n|}^2}$\n"
   ]
  },
  {
   "cell_type": "markdown",
   "metadata": {},
   "source": [
    "*****\n",
    "## ユニタリ行列の直交性\n",
    "\n",
    "2つのベクトル$\\bf x$と$\\bf y$の内積がゼロになる場合，$\\bf x$と$\\bf y$は直交していると言い，${\\bf x}{\\perp}{\\bf y}$で表します．\n",
    "\n",
    "> $\\left<{\\bf x},{\\bf y}\\right> = 0 \\Leftrightarrow {\\bf x}{\\perp}{\\bf y}$"
   ]
  },
  {
   "cell_type": "markdown",
   "metadata": {},
   "source": [
    "### ピタゴラスの定理\n",
    "\n",
    "${\\bf x},{\\bf y} \\in \\mathbb{C}^n$が直交しているとき，ピタゴラスの定理が成立します．\n",
    "\n",
    "> ${\\|{\\bf x}\\|}^2 + {\\|{\\bf y}\\|}^2 = {\\| {\\bf x} + {\\bf y} \\|}^2$"
   ]
  },
  {
   "cell_type": "markdown",
   "metadata": {},
   "source": [
    "#### 証明\n",
    "\n",
    "$\\begin{eqnarray}\n",
    "{\\|{\\bf x}+{\\bf y}\\|}^2\n",
    "&=&\n",
    "\\left<{\\bf x}+{\\bf y},{\\bf x}+{\\bf y}\\right> \\\\\n",
    "&=&\n",
    "\\left<{\\bf x},{\\bf x}\\right> + \\left<{\\bf x},{\\bf y}\\right> + \\left<{\\bf y},{\\bf x}\\right> + \\left<{\\bf y},{\\bf y}\\right> \\\\\n",
    "&=&\n",
    "\\left<{\\bf x},{\\bf x}\\right> + \\left<{\\bf x},{\\bf y}\\right> + \\overline{\\left<{\\bf x},{\\bf y}\\right>} + \\left<{\\bf y},{\\bf y}\\right> \\\\\n",
    "&=&\n",
    "{\\|{\\bf x}\\|}^2 + 2\\text{Re}(\\left<{\\bf x},{\\bf y}\\right>) + {\\|{\\bf y}\\|}^2 \\\\\n",
    "&=&\n",
    "{\\|{\\bf x}\\|}^2 + {\\|{\\bf y}\\|}^2 \n",
    "\\end{eqnarray}$"
   ]
  },
  {
   "cell_type": "markdown",
   "metadata": {},
   "source": [
    "*****\n",
    "これらの特性はユークリッド空間と同じ特性になっており，ユニタリ空間がユークリッド空間の複素数への拡張になっています．"
   ]
  },
  {
   "cell_type": "markdown",
   "metadata": {},
   "source": [
    "### 1次元ユニタリ空間と2次元ユークリッド空間の対比\n",
    "\n",
    "1次元ユニタリ空間$\\mathbb{C}$の要素は$z=x+y{\\bf i}$と表せるので，\n",
    "2次元ユークリッド空間のベクトル\n",
    "$\\left(\\begin{array}{c} x \\\\ y \\end{array}\\right)$\n",
    "と対応させることができます．\n",
    "この複素数に2次平面を対応させた平面を<font color=blue>複素平面</font>と言います．\n",
    "\n",
    "![複素平面](./images/complex_plane.jpg)\n",
    "\n",
    "このように1次元ユニタリ空間すなわち複素数と2次元ユークリッド空間は幾何が的には同一視できます．\n",
    "しかし，線形空間としてはスカラーの種類が異なり，さらに内積による構造が違うので，同一視はできません．\n",
    "*****"
   ]
  }
 ],
 "metadata": {
  "kernelspec": {
   "display_name": "Python 3",
   "language": "python",
   "name": "python3"
  },
  "language_info": {
   "codemirror_mode": {
    "name": "ipython",
    "version": 3
   },
   "file_extension": ".py",
   "mimetype": "text/x-python",
   "name": "python",
   "nbconvert_exporter": "python",
   "pygments_lexer": "ipython3",
   "version": "3.6.1"
  }
 },
 "nbformat": 4,
 "nbformat_minor": 2
}
