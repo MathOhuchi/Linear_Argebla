{
 "cells": [
  {
   "cell_type": "markdown",
   "metadata": {},
   "source": [
    "# ユークリッド空間の射影\n",
    "\n",
    "$n$次元ユークリッド空間の線形部分空間は，元のユークリッド空間の内積を引き継いで内積空間となります．\n",
    "ある線形部分空間を固定して，その線形部分空間に含まれないベクトルから線形部分空間へ垂線を引いたとき，その地点までのベクトルを射影ベクトルと言います．\n",
    "\n",
    "射影は，解けない連立方程式を解くために重要な役割を果たします．"
   ]
  },
  {
   "cell_type": "markdown",
   "metadata": {},
   "source": [
    "*****\n",
    "## ベクトルの1次元への射影\n",
    "\n",
    "${\\bf u},{\\bf v}$を$n$次元ユークリッド空間の任意のベクトルとします．\n",
    "ベクトル$\\bf v$のベクトル$\\bf u$によって生成される線形部分空間への射影について議論します．\n",
    "\n",
    "まず，ベクトル$\\bf u$によって構成される線形部分空間は1次元の直線になります．\n",
    "仮に，ベクトル$\\bf v$がその線形部分空間の外にある場合，すなわち，ベクトル$\\bf u$とベクトル$\\bf v$が線形独立であるとします．\n",
    "この射影は下図のようになります．\n",
    "\n",
    "![1次元の射影](./images/projection1dim.jpg)\n",
    "\n",
    "この図において，ベクトル$\\bf u$によって構成された線形部分空間が赤線になっています．\n",
    "ベクトル$\\bf v$はベクトル$\\bf u$と線形独立なので，赤い線上にはありません．\n",
    "ベクトル$\\bf v$の先端から赤い線へ垂線を引きます．\n",
    "その地点へ向かうベクトル$\\bf p$が<font color=blue>射影ベクトル</font>です．\n",
    "射影ベクトルは，ベクトル$\\bf u$に係数をかけたベクトルになります．\n",
    "また，ベクトル${\\bf q}={\\bf v}-{\\bf p}$<font color=blue>を誤差ベクトル</font>と言います．"
   ]
  },
  {
   "cell_type": "markdown",
   "metadata": {},
   "source": [
    "これから，ベクトル$\\bf p$を具体的に求めます．\n",
    "\n",
    "ベクトル$\\bf q$とベクトル$\\bf u$は直交しているので，その内積はゼロになります．\n",
    "\n",
    "$\\begin{eqnarray}\n",
    "\\left<{\\bf q},{\\bf u}\\right> &=& 0 \\\\\n",
    "\\left<{\\bf v}-{\\bf p},{\\bf u}\\right> &=& 0 \\\\\n",
    "\\left<{\\bf v}-k{\\bf u},{\\bf u}\\right> &=& 0 \\\\\n",
    "\\left<{\\bf v},{\\bf u}\\right>-k\\left<{\\bf u},{\\bf u}\\right> &=& 0 \\\\\n",
    "k{\\|{\\bf u}\\|}^2 &=& \\left<{\\bf v},{\\bf u}\\right> \\\\\n",
    "k &=& \\frac{\\left<{\\bf v},{\\bf u}\\right>}{{\\|{\\bf u}\\|}^2} \\\\\n",
    "\\end{eqnarray}$"
   ]
  },
  {
   "cell_type": "markdown",
   "metadata": {},
   "source": [
    "したがって，射影ベクトルは，\n",
    "\n",
    "> \n",
    "$\\displaystyle {\\bf p} = \\frac{\\left<{\\bf v},{\\bf u}\\right>}{{\\|{\\bf u}\\|}^2} {\\bf u}$\n",
    "\n",
    "となります．\n",
    "また，誤差ベクトルは，\n",
    "\n",
    "> \n",
    "$\\displaystyle {\\bf q} = {\\bf v} - \\frac{\\left<{\\bf v},{\\bf u}\\right>}{{\\|{\\bf u}\\|}^2} {\\bf u}$\n",
    "\n",
    "となります．"
   ]
  },
  {
   "cell_type": "markdown",
   "metadata": {},
   "source": [
    "ベクトル$\\bf v$は，ベクトル$\\bf u$によって構成される線形部分空間によって，\n",
    "その射影ベクトル$\\bf p$と誤差ベクトル$\\bf q$の和に一意的に分解されました．\n",
    "\n",
    "> ${\\bf v}={\\bf p}+{\\bf q}$"
   ]
  },
  {
   "cell_type": "markdown",
   "metadata": {},
   "source": [
    "さて，ベクトル$\\bf v$がベクトル$\\bf u$に線形従属の場合は，明らかに${\\bf p}={\\bf v}$となり，誤差ベクトルは${\\bf q} = {\\bf 0}$となります．"
   ]
  },
  {
   "cell_type": "markdown",
   "metadata": {},
   "source": [
    "*****\n",
    "## 行列の列空間\n",
    "\n",
    "${\\bf x} \\in \\mathbb{R}^n$に対して$m$行$n$列の行列$\\bf A$を掛けることを線形写像とは別の観点から特徴付けします．\n",
    "\n",
    "行列$\\bf A$の各列を\n",
    "${\\bf a}_i =\n",
    "\\left(\\begin{array}{c}\n",
    "a_{1i} \\\\ a_{2i} \\\\ \\vdots \\\\ a_{mi}\n",
    "\\end{array}\\right)$\n",
    "とします．\n",
    "これらを列ベクトルと言います．\n",
    "このとき，\n",
    "${\\bf x} =\n",
    "\\left(\\begin{array}{c}\n",
    "x_1 \\\\ x_2 \\\\ \\vdots \\\\ x_n\n",
    "\\end{array}\\right)$\n",
    "に対して，\n",
    "${\\bf Ax}$は次のようになります．"
   ]
  },
  {
   "cell_type": "markdown",
   "metadata": {},
   "source": [
    "> ${\\bf Ax} = x_1{\\bf a}_1+x_2{\\bf a}_2+\\cdots+x_n{\\bf a}_n $\n",
    "\n",
    "すなわち，${\\bf Ax}$は，列ベクトル$\\{ {\\bf a}_1,{\\bf a}_2,\\cdots,{\\bf a}_n \\}$の一次結合によって生成されるベクトル空間になっています．\n",
    "このベクトル空間を行列$\\bf A$の<font color=blue>列ベクトル空間</font>と言います．\n",
    "\n",
    "もし，${\\bf b} \\in \\mathbb{R}^m$が行列$\\bf A$の列ベクトル空間に入っていれば方程式${\\bf Ax}={\\bf b}$は可解となります．\n",
    "しかし，私たちは$\\bf b$が列ベクトル空間に入っていない場合について取り組もうとしています．"
   ]
  },
  {
   "cell_type": "markdown",
   "metadata": {},
   "source": [
    "*****\n",
    "## ベクトルの多次元線形部分空間への射影\n",
    "\n",
    "$m$次元実数ベクトル空間$\\mathbb{R}^m$の線形部分空間として，線形独立な$n$個のベクトル\n",
    "$\\{{\\bf a}_1,{\\bf a}_2,\\cdots,{\\bf a}_n\\}$によって張られる線形部分空間$\\bf W$を想定します．\n",
    "この設定において，$m > n$を前提とします．\n",
    "任意のベクトル$\\bf v$について，この線形部分空間上への射影について議論します．\n",
    "\n",
    "![2次元の射影](./images/projection2dim.jpg)"
   ]
  },
  {
   "cell_type": "markdown",
   "metadata": {},
   "source": [
    "${\\bf w} \\in {\\bf W}$を任意のベクトルとすると，\n",
    "$y_1,y_2,\\cdots,y_n \\in \\mathbb{R}$が存在して\n",
    "${\\bf w} = y_1{\\bf a}_1+y_2{\\bf a}_2+\\cdots+y_n{\\bf a}_n$\n",
    "と表すことができます．\n",
    "\n",
    "ここで，\n",
    "${\\bf a}_i = \n",
    "\\left(\\begin{array}{c} a_{1i} \\\\ a_{2i} \\\\ \\vdots \\\\ a_{mi} \\\\ \\end{array}\\right)$, \n",
    "および，\n",
    "${\\bf y} =\n",
    "\\left(\\begin{array}{c} y_1 \\\\ y_2 \\\\ \\vdots \\\\ y_n \\\\ \\end{array}\\right)$\n",
    "と置くと，\n",
    "\n",
    "$\\begin{eqnarray}\n",
    "{\\bf w} \n",
    "&=&\n",
    "y_1{\\bf a}_1+y_2{\\bf a}_2+\\cdots+y_n{\\bf a}_n \\\\\n",
    "&=&\n",
    "y_1\n",
    "\\left(\\begin{array}{c} a_{11} \\\\ a_{21} \\\\ \\vdots \\\\ a_{m1} \\\\ \\end{array}\\right)\n",
    "+y_2\n",
    "\\left(\\begin{array}{c} a_{12} \\\\ a_{22} \\\\ \\vdots \\\\ a_{m2} \\\\ \\end{array}\\right)\n",
    "+\\cdots\n",
    "+y_n\n",
    "\\left(\\begin{array}{c} a_{1n} \\\\ a_{2n} \\\\ \\vdots \\\\ a_{mn} \\\\ \\end{array}\\right) \\\\\n",
    "&=&\n",
    "\\left(\\begin{array}{c}\n",
    "a_{11} & a_{12} & \\cdots & a_{1n} \\\\\n",
    "a_{21} & a_{22} & \\cdots & a_{2n} \\\\\n",
    "\\vdots & \\vdots & \\ddots & \\vdots \\\\\n",
    "a_{m1} & a_{m2} & \\cdots & a_{mn} \\\\ \n",
    "\\end{array}\\right)\n",
    "\\left(\\begin{array}{c} y_1 \\\\ y_2 \\\\ \\vdots \\\\ y_n \\\\ \\end{array}\\right)\n",
    "\\end{eqnarray}$\n",
    "\n",
    "となります．"
   ]
  },
  {
   "cell_type": "markdown",
   "metadata": {},
   "source": [
    "ここで，\n",
    "${\\bf A} =\n",
    "\\left(\\begin{array}{c}\n",
    "a_{11} & a_{12} & \\cdots & a_{1n} \\\\\n",
    "a_{21} & a_{22} & \\cdots & a_{2n} \\\\\n",
    "\\vdots & \\vdots & \\ddots & \\vdots \\\\\n",
    "a_{m1} & a_{m2} & \\cdots & a_{mn} \\\\ \n",
    "\\end{array}\\right)$\n",
    "と置きます．\n",
    "\n",
    "線形部分空間$\\bf W$の任意のベクトル$\\bf w$は，$m$行$n$列の行列$\\bf A$\n",
    "と$n$次元実数ベクトル${\\bf y}$との積で表せることが分かりました．\n",
    "\n",
    "> ${\\bf w} = {\\bf Ay}$"
   ]
  },
  {
   "cell_type": "markdown",
   "metadata": {},
   "source": [
    "いま$\\bf p$をベクトル$\\bf v$の線形部分空間上への射影とします．\n",
    "$\\bf p$も行列$\\bf A$を使って，${\\bf p}={\\bf Ax}$と表すことができます．\n",
    "\n",
    "線形部分空間$\\bf W$の任意のベクトル$\\bf w$と誤差ベクトル${\\bf v}-{\\bf p}$は直交しているので，その内積はゼロになります．\n",
    "\n",
    "$\\begin{eqnarray}\n",
    "\\left<{\\bf w},{\\bf v}-{\\bf p}\\right> &=& 0 \\\\\n",
    "\\left<{\\bf Ay},{\\bf v}-{\\bf Ax}\\right> &=& 0 \\\\\n",
    "\\left<{\\bf y},{\\bf A}^\\mathsf{T}({\\bf v}-{\\bf Ax})\\right> &=& 0 \\\\\n",
    "\\left<{\\bf y},{\\bf A}^\\mathsf{T}{\\bf v}-{\\bf A}^\\mathsf{T}{\\bf Ax}\\right> &=& 0 \\\\\n",
    "\\end{eqnarray}$\n",
    "\n",
    "となりますが，ここで$\\bf y$は$\\mathbb{R}^n$内のどんな値にもなり得ます．\n",
    "よって，内積の右側のベクトルがゼロでなければなりません．\n",
    "\n",
    "$\n",
    "{\\bf A}^\\mathsf{T}{\\bf v}-{\\bf A}^\\mathsf{T}{\\bf Ax} = {\\bf 0}\n",
    "$"
   ]
  },
  {
   "cell_type": "markdown",
   "metadata": {},
   "source": [
    "ここで，$\\bf A$の列ベクトルは線形独立だったので，$\\bf A$のランクは列数と一致します．\n",
    "したがって，$n$次正方行列${\\bf A}^\\mathsf{T}{\\bf A}$のランクも$n$となり，逆行列が存在します．\n",
    "これにより\n",
    "\n",
    "> ${\\bf x} = ({\\bf A}^\\mathsf{T}{\\bf A})^{-1}{\\bf A}^\\mathsf{T}{\\bf v}$\n",
    "\n",
    "となります．\n",
    "そして射影ベクトルは，\n",
    "\n",
    "> ${\\bf p} = {\\bf A}({\\bf A}^\\mathsf{T}{\\bf A})^{-1}{\\bf A}^\\mathsf{T}{\\bf v}$\n",
    "\n",
    "となります．\n"
   ]
  },
  {
   "cell_type": "markdown",
   "metadata": {},
   "source": [
    "### 1次元の射影との整合性の確認\n",
    "\n",
    "さて，多次元の線形部分空間への射影ベクトルの式${\\bf p} = {\\bf A}({\\bf A}^\\mathsf{T}{\\bf A})^{-1}{\\bf A}^\\mathsf{T}{\\bf v}$\n",
    "において，線形部分空間が1次元だと仮定した場合に，1次元の結果と一致することを確認します．\n",
    "\n",
    "1次元なので，\n",
    "${\\bf A} =\n",
    "\\left(\\begin{array}{c}\n",
    "a_{1} \\\\ a_{2} \\\\ \\vdots \\\\ a_{m}  \\\\ \n",
    "\\end{array}\\right)$\n",
    "とします．\n",
    "すると，\n",
    "${\\bf A}^\\mathsf{T} =\n",
    "\\left(\\begin{array}{c}\n",
    "a_{1} & a_{2} & \\cdots & a_{m}  \\\\ \n",
    "\\end{array}\\right)$\n",
    "であり，\n",
    "${\\bf A}^\\mathsf{T}{\\bf A} =\n",
    "\\left<{\\bf A},{\\bf A}\\right> = \n",
    "{\\|{\\bf A}\\|}^2$\n",
    "，\n",
    "${\\bf A}^\\mathsf{T}{\\bf v} =\n",
    "\\left<{\\bf A},{\\bf v}\\right>$\n",
    "であるので，\n",
    "\n",
    "$\\displaystyle {\\bf p} = \n",
    "{\\bf A}({\\bf A}^\\mathsf{T}{\\bf A})^{-1}{\\bf A}^\\mathsf{T}{\\bf v} = \n",
    "{\\bf A}\\frac{\\left<{\\bf A},{\\bf v}\\right>}{{\\|{\\bf A}\\|}^2} $\n",
    "\n",
    "となります．\n",
    "ここで，${\\bf A}={\\bf u}$と書き直せば1次元の結果と一致します．"
   ]
  },
  {
   "cell_type": "markdown",
   "metadata": {},
   "source": [
    "*****\n",
    "## 射影行列\n",
    "\n",
    "ベクトル$\\bf v$を線形部分空間$\\bf W$に射影するための行列を$\\bf P$とすると，線形部分空間を構成する線形独立なベクトルを合わせた行列$\\bf A$によって，\n",
    "\n",
    "> ${\\bf P} = {\\bf A}({\\bf A}^\\mathsf{T}{\\bf A})^{-1}{\\bf A}^\\mathsf{T}$\n",
    "\n",
    "と表されます．この行列$\\bf P$を<font color=blue>射影行列</font>と言います．\n",
    "射影行列には次の2つの特徴があります．\n",
    "\n",
    "- ${\\bf P}^2 = {\\bf P}$\n",
    "- ${\\bf P}^\\mathsf{T} = {\\bf P}$\n",
    "\n",
    "逆に，この2つの性質を持つ行列は$\\bf P$の列ベクトル空間上への射影を行います．"
   ]
  },
  {
   "cell_type": "markdown",
   "metadata": {},
   "source": [
    "#### 証明\n",
    "\n",
    "${\\bf P} = {\\bf A}({\\bf A}^\\mathsf{T}{\\bf A})^{-1}{\\bf A}^\\mathsf{T}$について，\n",
    "\n",
    "$\\begin{eqnarray}\n",
    "{\\bf P}^2 \n",
    "&=&\n",
    "{\\bf A}({\\bf A}^\\mathsf{T}{\\bf A})^{-1}{\\bf A}^\\mathsf{T}\n",
    "{\\bf A}({\\bf A}^\\mathsf{T}{\\bf A})^{-1}{\\bf A}^\\mathsf{T} \\\\\n",
    "&=&\n",
    "{\\bf A}({\\bf A}^\\mathsf{T}{\\bf A})^{-1}{\\bf A}^\\mathsf{T} \\\\\n",
    "&=&\n",
    "{\\bf P}\n",
    "\\end{eqnarray}$\n",
    "\n",
    "となります．\n",
    "また，転置行列の特徴である$(\\bf XY)^\\mathsf{T}={\\bf Y}^\\mathsf{T}{\\bf X}^\\mathsf{T}$\n",
    "および，$({\\bf X}^\\mathsf{T})^\\mathsf{T}={\\bf X}$\n",
    "を利用することにより，\n",
    "\n",
    "$\\begin{eqnarray}\n",
    "{\\bf P}^\\mathsf{T}\n",
    "&=&\n",
    "({\\bf A}({\\bf A}^\\mathsf{T}{\\bf A})^{-1}{\\bf A}^\\mathsf{T})^\\mathsf{T} \\\\\n",
    "&=&\n",
    "({\\bf A}^\\mathsf{T})^\\mathsf{T} (({\\bf A}^\\mathsf{T}{\\bf A})^{-1})^\\mathsf{T} {\\bf A}^\\mathsf{T} \\\\\n",
    "&=&\n",
    "{\\bf A} (({\\bf A}^\\mathsf{T}{\\bf A})^\\mathsf{T})^{-1} {\\bf A}^\\mathsf{T} \\\\\n",
    "&=&\n",
    "{\\bf A} ({\\bf A}^\\mathsf{T}{\\bf A})^{-1} {\\bf A}^\\mathsf{T} \\\\\n",
    "&=&\n",
    "{\\bf P} \\\\\n",
    "\\end{eqnarray}$\n",
    "\n",
    "となります．"
   ]
  },
  {
   "cell_type": "markdown",
   "metadata": {},
   "source": [
    "逆に，${\\bf P}^2={\\bf P}$と${\\bf P}^\\mathsf{T}={\\bf P}$が成り立つと仮定します．  \n",
    "任意のベクトル$\\bf v$に対して$\\bf Pv$は，$\\bf P$の列ベクトル空間に含まれています．\n",
    "$\\bf Pv$が射影ベクトルとするならば，$\\bf P$の列ベクトル空間の任意のベクトル$\\bf Py$と誤差ベクトル${\\bf v}-{\\bf Pv}$が直交する必要があります．\n",
    "\n",
    "$\\begin{eqnarray}\n",
    "\\left<{\\bf Py},{\\bf v}-{\\bf Pv}\\right> \n",
    "&=& \\left<{\\bf y},{\\bf P}^\\mathsf{T}({\\bf v}-{\\bf Pv})\\right> \\\\\n",
    "&=& \\left<{\\bf y},{\\bf P}({\\bf v}-{\\bf Pv})\\right> \\\\\n",
    "&=& \\left<{\\bf y},{\\bf P}{\\bf v}-{\\bf P}^2{\\bf v})\\right> \\\\\n",
    "&=& \\left<{\\bf y},{\\bf P}{\\bf v}-{\\bf P}{\\bf v}\\right> \\\\\n",
    "&=& \\left<{\\bf y},{\\bf 0}\\right> \\\\\n",
    "&=& 0 \\\\\n",
    "\\end{eqnarray}$\n",
    "\n",
    "となり，$\\bf P$がその列ベクトル空間への射影であることが分かりました．"
   ]
  },
  {
   "cell_type": "markdown",
   "metadata": {},
   "source": [
    "### 1次元ベクトルへの射影行列\n",
    "\n",
    "一般の射影行列${\\bf P} = {\\bf A}({\\bf A}^\\mathsf{T}{\\bf A})^{-1}{\\bf A}^\\mathsf{T}$において，\n",
    "行列$\\bf A$をベクトル\n",
    "${\\bf u} = \\left(\\begin{array}{c} u_1 \\\\ u_2 \\\\ \\vdots \\\\ u_m \\\\ \\end{array}\\right)$\n",
    "に置き換えます．\n",
    "すると，\n",
    "${\\bf u}^\\mathsf{T}{\\bf u} = \\left<{\\bf u},{\\bf u}\\right> = {\\|{\\bf u}\\|}^2$\n",
    "なので，\n",
    "\n",
    "> $\\displaystyle {\\bf P} \n",
    "= \n",
    "\\frac{1}{{\\|{\\bf u}\\|}^2}{\\bf u}{\\bf u}^\\mathsf{T}\n",
    "=\n",
    "\\frac{1}{{\\|{\\bf u}\\|}^2}\n",
    "\\left(\\begin{array}{c}\n",
    "u_1u_1 & u_1u_2 & \\cdots & u_1u_m \\\\\n",
    "u_2u_1 & u_2u_2 & \\cdots & u_2u_m \\\\\n",
    "\\vdots & \\vdots & \\ddots & \\vdots \\\\\n",
    "u_mu_1 & u_mu_2 & \\cdots & u_mu_m \\\\\n",
    "\\end{array}\\right)\n",
    "$\n",
    "\n",
    "となります．"
   ]
  },
  {
   "cell_type": "markdown",
   "metadata": {},
   "source": [
    "*****\n",
    "\n",
    "ベクトルの射影は，解けない連立方程式の近似解を求めるための理論的裏付けになっています．"
   ]
  }
 ],
 "metadata": {
  "kernelspec": {
   "display_name": "Python 3",
   "language": "python",
   "name": "python3"
  },
  "language_info": {
   "codemirror_mode": {
    "name": "ipython",
    "version": 3
   },
   "file_extension": ".py",
   "mimetype": "text/x-python",
   "name": "python",
   "nbconvert_exporter": "python",
   "pygments_lexer": "ipython3",
   "version": "3.6.1"
  }
 },
 "nbformat": 4,
 "nbformat_minor": 2
}
