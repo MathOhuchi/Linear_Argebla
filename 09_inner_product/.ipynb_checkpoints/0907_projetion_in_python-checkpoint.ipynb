{
 "cells": [
  {
   "cell_type": "markdown",
   "metadata": {},
   "source": [
    "# Pythonに置けるベクトル上への射影\n",
    "\n",
    "ユークリッド空間におけるベクトル$\\bf u$上への射影行列$\\bf P$は，\n",
    "\n",
    "> $\\displaystyle {\\bf P} = \\frac{1}{{\\|{\\bf u}\\|}^2}{\\bf u}{\\bf u}^\\mathsf{T}$\n",
    "\n",
    "として求めることが出来ました．\n",
    "\n",
    "ここでは，4次元ユークリッド空間$\\mathbb{R}^4$において，ベクトル\n",
    "${\\bf u} = \\left(\\begin{array}{c} 1 \\\\ 2 \\\\ 3 \\\\ 4 \\\\ \\end{array}\\right)$\n",
    "への射影行列を求めます．\n",
    "\n",
    "まずは，NumPyライブラリーをインポートします．\n",
    "\n",
    "```Python\n",
    "import numpy as np\n",
    "```"
   ]
  },
  {
   "cell_type": "code",
   "execution_count": 1,
   "metadata": {
    "collapsed": true
   },
   "outputs": [],
   "source": [
    "import numpy as np"
   ]
  },
  {
   "cell_type": "markdown",
   "metadata": {},
   "source": [
    "ベクトル${\\bf u} = \\left(\\begin{array}{c} 1 \\\\ 2 \\\\ 3 \\\\ 4 \\\\ \\end{array}\\right)$ を定義します．\n",
    "\n",
    "```Python\n",
    "u = np.array([1,2,3,4])\n",
    "u\n",
    "```"
   ]
  },
  {
   "cell_type": "code",
   "execution_count": 2,
   "metadata": {},
   "outputs": [
    {
     "data": {
      "text/plain": [
       "array([1, 2, 3, 4])"
      ]
     },
     "execution_count": 2,
     "metadata": {},
     "output_type": "execute_result"
    }
   ],
   "source": [
    "u = np.array([1,2,3,4])\n",
    "u"
   ]
  },
  {
   "cell_type": "markdown",
   "metadata": {},
   "source": [
    "ベクトル$\\bf u$の転置ベクトルを求めます．\n",
    "これは，${\\bf u}^\\mathsf{T} = \\left(\\begin{array}{c} 1 & 2 & 3 & 4 \\\\ \\end{array}\\right)$ となります．\n",
    "\n",
    "NumPyにおいて転置を求めるには\n",
    "\n",
    "> <font font_family=monospace color=green>u.T</font>\n",
    "\n",
    "とします．"
   ]
  },
  {
   "cell_type": "code",
   "execution_count": 3,
   "metadata": {},
   "outputs": [
    {
     "data": {
      "text/plain": [
       "array([1, 2, 3, 4])"
      ]
     },
     "execution_count": 3,
     "metadata": {},
     "output_type": "execute_result"
    }
   ],
   "source": [
    "u.T"
   ]
  },
  {
   "cell_type": "markdown",
   "metadata": {},
   "source": [
    "このように転置が元のベクトルと同じになってしまいました．これは失敗です．  \n",
    "その理由は，本来は列ベクトルを使用するところを単純化したベクトル定義を使用したことによる副作用が出てしまいました．\n",
    "\n",
    "そこでベクトル$\\bf u$を本来の列ベクトルに変換してPythonでの本当の列ベクトルにしたものを変数Uに代入します．\n",
    "ベクトルの行列への変換は<font color=green>numpy.matrix()</font>関数を用います．\n",
    "\n",
    "> <font color=green>numpy.matrix(u).T</font>\n",
    "\n",
    "この構文は，ベクトル$\\bf u$を行列に変換した後に転置を行っています．\n",
    "\n",
    "```Python\n",
    "U = np.matrix(u).T\n",
    "U\n",
    "```"
   ]
  },
  {
   "cell_type": "code",
   "execution_count": 4,
   "metadata": {},
   "outputs": [
    {
     "data": {
      "text/plain": [
       "matrix([[1],\n",
       "        [2],\n",
       "        [3],\n",
       "        [4]])"
      ]
     },
     "execution_count": 4,
     "metadata": {},
     "output_type": "execute_result"
    }
   ],
   "source": [
    "U = np.matrix(u).T\n",
    "U"
   ]
  },
  {
   "cell_type": "markdown",
   "metadata": {},
   "source": [
    "正確に定義した列ベクトル$\\bf U$の転置行列を確認します．\n",
    "\n",
    "```Python\n",
    "U.T\n",
    "```"
   ]
  },
  {
   "cell_type": "code",
   "execution_count": 5,
   "metadata": {},
   "outputs": [
    {
     "data": {
      "text/plain": [
       "matrix([[1, 2, 3, 4]])"
      ]
     },
     "execution_count": 5,
     "metadata": {},
     "output_type": "execute_result"
    }
   ],
   "source": [
    "U.T"
   ]
  },
  {
   "cell_type": "markdown",
   "metadata": {},
   "source": [
    "今度は，列ベクトルの転置として行ベクトルが得られました．\n",
    "\n",
    "そこで，${\\bf P} = \\frac{1}{{\\|{\\bf u}\\|}^2}{\\bf u}{\\bf u}^\\mathsf{T}$ \n",
    "を求めますが，Pythonでは，次のように記載します．\n",
    "\n",
    "> <font font_family=monospace color=green>U.dot(U.T)/U.T.dot(U)</font>\n",
    "\n",
    "```Python\n",
    "P = U.dot(U.T)/U.T.dot(U)\n",
    "P\n",
    "```"
   ]
  },
  {
   "cell_type": "code",
   "execution_count": 6,
   "metadata": {},
   "outputs": [
    {
     "data": {
      "text/plain": [
       "matrix([[ 0.03333333,  0.06666667,  0.1       ,  0.13333333],\n",
       "        [ 0.06666667,  0.13333333,  0.2       ,  0.26666667],\n",
       "        [ 0.1       ,  0.2       ,  0.3       ,  0.4       ],\n",
       "        [ 0.13333333,  0.26666667,  0.4       ,  0.53333333]])"
      ]
     },
     "execution_count": 6,
     "metadata": {},
     "output_type": "execute_result"
    }
   ],
   "source": [
    "P = U.dot(U.T)/U.T.dot(U)\n",
    "P"
   ]
  },
  {
   "cell_type": "markdown",
   "metadata": {},
   "source": [
    "これが，ベクトル$\\bf u$への射影行列です．\n",
    "\n",
    "試しに，${\\bf v} = \\left(\\begin{array}{c} 5 \\\\ 5 \\\\ 6 \\\\ 7 \\end{array}\\right)$\n",
    "をベクトル$\\bf u$上に射影します．\n",
    "\n",
    "```Python\n",
    "v = np.array([5,5,6,7])\n",
    "v\n",
    "```"
   ]
  },
  {
   "cell_type": "code",
   "execution_count": 7,
   "metadata": {
    "collapsed": true
   },
   "outputs": [],
   "source": [
    "v = np.array([5,5,6,7])"
   ]
  },
  {
   "cell_type": "markdown",
   "metadata": {},
   "source": [
    "この射影は$\\bf Pv$で求まります．\n",
    "\n",
    "```Python\n",
    "P.dot(v)\n",
    "```"
   ]
  },
  {
   "cell_type": "code",
   "execution_count": 8,
   "metadata": {},
   "outputs": [
    {
     "data": {
      "text/plain": [
       "matrix([[ 2.03333333,  4.06666667,  6.1       ,  8.13333333]])"
      ]
     },
     "execution_count": 8,
     "metadata": {},
     "output_type": "execute_result"
    }
   ],
   "source": [
    "P.dot(v)"
   ]
  },
  {
   "cell_type": "markdown",
   "metadata": {},
   "source": [
    "*****\n",
    "このように，Pythonでベクトルを簡便な扱いをしていることに対する副作用に注意しましょう．"
   ]
  }
 ],
 "metadata": {
  "kernelspec": {
   "display_name": "Python 3",
   "language": "python",
   "name": "python3"
  },
  "language_info": {
   "codemirror_mode": {
    "name": "ipython",
    "version": 3
   },
   "file_extension": ".py",
   "mimetype": "text/x-python",
   "name": "python",
   "nbconvert_exporter": "python",
   "pygments_lexer": "ipython3",
   "version": "3.6.1"
  }
 },
 "nbformat": 4,
 "nbformat_minor": 2
}
