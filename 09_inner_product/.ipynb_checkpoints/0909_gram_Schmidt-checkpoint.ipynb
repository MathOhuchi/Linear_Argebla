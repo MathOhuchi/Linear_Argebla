{
 "cells": [
  {
   "cell_type": "markdown",
   "metadata": {},
   "source": [
    "# Gram Schmidtの正規直交化\n",
    "\n",
    "ベクトルの直交射影を利用して，ベクトル空間を構成する線形独立なベクトルの集合から正規直交する基底を生成するアルゴリズムをGram Schmidtの正規直交化法と言います．\n"
   ]
  },
  {
   "cell_type": "markdown",
   "metadata": {},
   "source": [
    "### 基底\n",
    "\n",
    "ベクトル空間$\\bf V$の任にの元が線形独立な$n$個のベクトル${\\bf v}_1,{\\bf v}_2,{\\cdots},{\\bf v}_n$の線形結合によって表現されるとき，\n",
    "ベクトル${\\bf v}_1,{\\bf v}_2,{\\cdots},{\\bf v}_n$をベクトル空間$\\bf V$の基底と言います．\n",
    "すなわち，任意の${\\bf x} \\in {\\bf V}$に対してスカラー$a_1,a_2,{\\cdots},a_n$が存在して，\n",
    "\n",
    "> ${\\bf x} = a_1{\\bf v}_1 + a_2{\\bf v}_2 + {\\cdots} + a_n{\\bf v}_n$\n",
    "\n",
    "と表せます．"
   ]
  },
  {
   "cell_type": "markdown",
   "metadata": {},
   "source": [
    "### 直交基底\n",
    "\n",
    "ベクトル空間$\\bf V$に内積が導入されている場合，基底${\\bf v}_1,{\\bf v}_2,{\\cdots},{\\bf v}_n$がお互いに直交しているとき，\n",
    "すなわち，${\\bf v}_i {\\perp} {\\bf v}_j$ $(1 \\le i,j \\le n)$，\n",
    "この基底を直交基底と言います．\n",
    "\n",
    "> $\\left< {\\bf v}_i,{\\bf v}_j \\right> =0$ $(1 \\le i,j \\le n)$"
   ]
  },
  {
   "cell_type": "markdown",
   "metadata": {},
   "source": [
    "### 正規直交基底\n",
    "\n",
    "正規直交基底${\\bf v}_1,{\\bf v}_2,{\\cdots},{\\bf v}_n$の各ノルムが1の場合，この基底を正規直交基底と言います．\n",
    "\n",
    "> $\\|{\\bf v}_i\\| = 1$ $(1 \\le i \\le n)$"
   ]
  },
  {
   "cell_type": "markdown",
   "metadata": {},
   "source": [
    "### 直交化\n",
    "\n",
    "ベクトル空間$\\bf V$の$n$個の基底を${\\bf v}_1,{\\bf v}_2,{\\cdots},{\\bf v}_n$とします．\n",
    "次に示す手順によって，直交基底\n",
    "$\\{{\\bf u}_1,{\\bf u}_2,\\cdots,{\\bf u}_n\\}$\n",
    "が得られます．\n",
    "\n",
    "> $\\displaystyle {\\bf u}_1 = {\\bf v}_1$\n",
    "\n",
    "> $\\displaystyle {\\bf u}_2 = {\\bf v}_2 -\\frac{\\left<{\\bf v}_1,{\\bf v}_2\\right>}{{\\|{\\bf v}_1\\|}^2}{\\bf v}_1$\n",
    "\n",
    "> $\\displaystyle {\\bf u}_3 = {\\bf v}_3 \n",
    "-\\frac{\\left<{\\bf v}_1,{\\bf v}_3\\right>}{{\\|{\\bf v}_1\\|}^2}{\\bf v}_1\n",
    "-\\frac{\\left<{\\bf v}_2,{\\bf v}_3\\right>}{{\\|{\\bf v}_2\\|}^2}{\\bf v}_2$\n",
    "\n",
    "> $\\vdots$\n",
    "\n",
    "> $\\displaystyle {\\bf u}_n = {\\bf v}_n - \\sum_{i=1}^{n-1} \\frac{\\left<{\\bf v}_i,{\\bf v}_n\\right>}{{\\|{\\bf v}_i\\|}^2}{\\bf v}_i$\n",
    "\n",
    "$\\{{\\bf v}_1,{\\bf v}_2,\\cdots,{\\bf v}_n\\}$\n",
    "が線形独立なので，${\\bf u}_i$が零ベクトルになることはありません．"
   ]
  },
  {
   "cell_type": "markdown",
   "metadata": {},
   "source": [
    "#### 正規化\n",
    "\n",
    "次に示す手順によって，線形部分空間$\\bf V$の正規直交基底\n",
    "$\\{{\\bf e}_1,{\\bf e}_2,\\cdots,{\\bf e}_n\\}$\n",
    "が得られます．\n",
    "\n",
    "> $\\displaystyle {\\bf e}_i = \\frac{{\\bf u}_i}{\\|{\\bf u}_i\\|}$"
   ]
  },
  {
   "cell_type": "markdown",
   "metadata": {},
   "source": [
    "*****\n",
    "## Gram Schmidtの直交化の例1\n",
    "\n",
    "3次元ユークリッド空間$\\mathbb{R}^3$における線形独立な3つのベクトルを\n",
    "\n",
    "${\\bf v}_1 = \\left(\\begin{array}{c} 1 \\\\  0 \\\\ 1 \\\\ \\end{array}\\right)$,\n",
    "${\\bf v}_2 = \\left(\\begin{array}{c} 1 \\\\ -2 \\\\ 0 \\\\ \\end{array}\\right)$, \n",
    "${\\bf v}_3 = \\left(\\begin{array}{c} 0 \\\\ -1 \\\\ 1 \\\\ \\end{array}\\right)$\n",
    "\n",
    "としたとき，Gram Schmidtの直交加法によって正規直交基底を求める．"
   ]
  },
  {
   "cell_type": "markdown",
   "metadata": {},
   "source": [
    "最初に必要なノルムおよび内積の値を計算します．\n",
    "\n",
    "${\\|{\\bf v}_1\\|}^2 = 1^2+0^2+1^2 = 2$\n",
    "\n",
    "${\\|{\\bf v}_2\\|}^2 = 1^2+(-2)^2+0^2 = 5$\n",
    "\n",
    "$\\left<{\\bf v}_1,{\\bf v}_2\\right> = {\\bf v}_1^\\mathsf{T}{\\bf v}_2 = 1{\\cdot}1 + 0{\\cdot}(-2) + 1{\\cdot}0 = 1$\n",
    "\n",
    "$\\left<{\\bf v}_1,{\\bf v}_3\\right> = {\\bf v}_1^\\mathsf{T}{\\bf v}_3 = 1{\\cdot}0 + 0{\\cdot}(-1) + 1{\\cdot}1 = 1$\n",
    "\n",
    "$\\left<{\\bf v}_2,{\\bf v}_3\\right> = {\\bf v}_2^\\mathsf{T}{\\bf v}_3 = 1{\\cdot}0 + (-2){\\cdot}(-1) + 0{\\cdot}1 = 2$"
   ]
  },
  {
   "cell_type": "markdown",
   "metadata": {},
   "source": [
    "#### 直交化\n",
    "\n",
    "$\\displaystyle {\\bf u}_1 = {\\bf v}_1 =  \\left(\\begin{array}{c} 1 \\\\  0 \\\\ 1 \\\\ \\end{array}\\right)$"
   ]
  },
  {
   "cell_type": "markdown",
   "metadata": {},
   "source": [
    "$\\displaystyle {\\bf u}_2 =\n",
    "{\\bf v}_2 -\\frac{\\left<{\\bf v}_1,{\\bf v}_2\\right>}{{\\|{\\bf v}_1\\|}^2}{\\bf v}_1 =\n",
    "\\left(\\begin{array}{c} 1 \\\\ -2 \\\\ 0 \\\\ \\end{array}\\right) - \\frac{1}{2} \\left(\\begin{array}{c} 1 \\\\  0 \\\\ 1 \\\\ \\end{array}\\right) =\n",
    "\\left(\\begin{array}{c} \\frac{1}{2} \\\\ -2 \\\\ -\\frac{1}{2} \\\\ \\end{array}\\right) $"
   ]
  },
  {
   "cell_type": "markdown",
   "metadata": {},
   "source": [
    "$\\displaystyle {\\bf u}_3 = {\\bf v}_3 \n",
    "-\\frac{\\left<{\\bf v}_1,{\\bf v}_3\\right>}{{\\|{\\bf v}_1\\|}^2}{\\bf v}_1\n",
    "-\\frac{\\left<{\\bf v}_2,{\\bf v}_3\\right>}{{\\|{\\bf v}_2\\|}^2}{\\bf v}_2\n",
    "=\n",
    "\\left(\\begin{array}{c} 0 \\\\ -1 \\\\ 1 \\\\ \\end{array}\\right)\n",
    "-\\frac{1}{2} \\left(\\begin{array}{c} 1 \\\\  0 \\\\ 1 \\\\ \\end{array}\\right)\n",
    "-\\frac{2}{5} \\left(\\begin{array}{c} 1 \\\\ -2 \\\\ 0 \\\\ \\end{array}\\right)\n",
    "=\n",
    "\\left(\\begin{array}{c} -\\frac{9}{10} \\\\ -\\frac{9}{5} \\\\ \\frac{1}{2} \\\\ \\end{array}\\right) $"
   ]
  },
  {
   "cell_type": "markdown",
   "metadata": {},
   "source": [
    "#### 正規化\n",
    "\n",
    "$\\displaystyle {\\bf e}_1 = \\frac{{\\bf u}_1}{\\|{\\bf u}_1\\|} =\n",
    "\\frac{1}{\\sqrt{2}} \\left(\\begin{array}{c} 1 \\\\  0 \\\\ 1 \\\\ \\end{array}\\right)\n",
    "=\n",
    "\\left(\\begin{array}{c} \\frac{1}{\\sqrt{2}} \\\\  0 \\\\ \\frac{1}{\\sqrt{2}} \\\\ \\end{array}\\right) $"
   ]
  },
  {
   "cell_type": "markdown",
   "metadata": {},
   "source": [
    "$\\displaystyle {\\bf e}_2 = \\frac{{\\bf u}_2}{\\|{\\bf u}_2\\|} =\n",
    "\\frac{\\sqrt{2}}{3} \\left(\\begin{array}{c} \\frac{1}{2} \\\\  -2 \\\\ -\\frac{1}{2} \\\\ \\end{array}\\right)\n",
    "=\n",
    "\\left(\\begin{array}{c} \\frac{\\sqrt{2}}{6} \\\\ -\\frac{2\\sqrt{2}}{3} \\\\ -\\frac{\\sqrt{2}}{6} \\\\ \\end{array}\\right) $"
   ]
  },
  {
   "cell_type": "markdown",
   "metadata": {},
   "source": [
    "$\\displaystyle {\\bf e}_3 = \\frac{{\\bf u}_3}{\\|{\\bf u}_3\\|} =\n",
    "\\frac{10}{\\sqrt{430}} \\left(\\begin{array}{c} -\\frac{9}{10} \\\\ -\\frac{9}{5} \\\\ \\frac{1}{2} \\\\ \\end{array}\\right)\n",
    "=\n",
    "\\left(\\begin{array}{c} -\\frac{9}{\\sqrt{430}} \\\\ -\\frac{18}{\\sqrt{430}} \\\\ \\frac{5}{\\sqrt{430}} \\\\ \\end{array}\\right) $"
   ]
  },
  {
   "cell_type": "markdown",
   "metadata": {},
   "source": [
    "*****\n",
    "## Gram Schmidtの直交化の例2\n",
    "\n",
    "複素ベクトル空間における線形独立な3つのベクトルを\n",
    "\n",
    "${\\bf v}_1 = \\left(\\begin{array}{c} 1 \\\\ i \\\\ 0 \\\\ \\end{array}\\right)$,\n",
    "${\\bf v}_2 = \\left(\\begin{array}{c} i \\\\ 0 \\\\ -1 \\\\ \\end{array}\\right)$, \n",
    "${\\bf v}_3 = \\left(\\begin{array}{c} 0 \\\\ 1 \\\\ 1-i \\\\ \\end{array}\\right)$\n",
    "\n",
    "としたとき，Gram Schmidtの直交加法によって正規直交基底を求める．"
   ]
  },
  {
   "cell_type": "markdown",
   "metadata": {},
   "source": [
    "最初に必要なノルムおよび内積の値を計算します．\n",
    "\n",
    "${\\|{\\bf v}_1\\|}^2 = 1^2+{|i|}^2+0^2 = 2$\n",
    "\n",
    "${\\|{\\bf v}_2\\|}^2 = {|i|}^2+0^2+(-1)^2 = 2$\n",
    "\n",
    "$\\left<{\\bf v}_1,{\\bf v}_2\\right> = {\\overline{\\bf v}_1}^\\mathsf{T}{\\bf v}_2 = 1{\\cdot}i + (-i){\\cdot}0 + 0{\\cdot}(-1) = i$\n",
    "\n",
    "$\\left<{\\bf v}_1,{\\bf v}_3\\right> = {\\overline{\\bf v}_1}^\\mathsf{T}{\\bf v}_3 = 1{\\cdot}0 + (-i){\\cdot}1 + 0{\\cdot}(1-i) = -i$\n",
    "\n",
    "$\\left<{\\bf v}_2,{\\bf v}_3\\right> = {\\overline{\\bf v}_2}^\\mathsf{T}{\\bf v}_3 = (-i){\\cdot}0 + 0{\\cdot}1 + (-1){\\cdot}(1-i) = -1+i$"
   ]
  },
  {
   "cell_type": "markdown",
   "metadata": {},
   "source": [
    "#### 直交化\n",
    "\n",
    "$\\displaystyle {\\bf u}_1 = {\\bf v}_1 =  \\left(\\begin{array}{c} 1 \\\\  i \\\\ 0 \\\\ \\end{array}\\right)$"
   ]
  },
  {
   "cell_type": "markdown",
   "metadata": {},
   "source": [
    "$\\displaystyle {\\bf u}_2 =\n",
    "{\\bf v}_2 -\\frac{\\left<{\\bf v}_1,{\\bf v}_2\\right>}{{\\|{\\bf v}_1\\|}^2}{\\bf v}_1 \n",
    "=\n",
    "\\left(\\begin{array}{c} i \\\\ 0 \\\\ -1 \\\\ \\end{array}\\right) \n",
    "- \\frac{i}{2} \\left(\\begin{array}{c} 1 \\\\  i \\\\ 0 \\\\ \\end{array}\\right) \n",
    "=\n",
    "\\left(\\begin{array}{c} \\frac{i}{2} \\\\ \\frac{1}{2} \\\\ -1 \\\\ \\end{array}\\right) $"
   ]
  },
  {
   "cell_type": "markdown",
   "metadata": {},
   "source": [
    "$\\displaystyle {\\bf u}_3 = {\\bf v}_3 \n",
    "-\\frac{\\left<{\\bf v}_1,{\\bf v}_3\\right>}{{\\|{\\bf v}_1\\|}^2}{\\bf v}_1\n",
    "-\\frac{\\left<{\\bf v}_2,{\\bf v}_3\\right>}{{\\|{\\bf v}_2\\|}^2}{\\bf v}_2\n",
    "=\n",
    "\\left(\\begin{array}{c} 0 \\\\ 1 \\\\ 1-i \\\\ \\end{array}\\right)\n",
    "-\\frac{-i}{2} \\left(\\begin{array}{c} 1 \\\\ i \\\\ 0 \\\\ \\end{array}\\right)\n",
    "-\\frac{-1+i}{2} \\left(\\begin{array}{c} i \\\\ 0 \\\\ -1 \\\\ \\end{array}\\right)\n",
    "=\n",
    "\\left(\\begin{array}{c} \\frac{1}{2} \\\\ \\frac{1}{2} \\\\ \\frac{1}{2}-\\frac{i}{2} \\\\ \\end{array}\\right) $"
   ]
  },
  {
   "cell_type": "markdown",
   "metadata": {},
   "source": [
    "#### 正規化\n",
    "\n",
    "$\\displaystyle {\\bf e}_1 = \\frac{{\\bf u}_1}{\\|{\\bf u}_1\\|} =\n",
    "\\frac{1}{\\sqrt{2}} \\left(\\begin{array}{c} 1 \\\\  i \\\\ 0 \\\\ \\end{array}\\right)\n",
    "=\n",
    "\\left(\\begin{array}{c} \\frac{1}{\\sqrt{2}} \\\\  \\frac{i}{\\sqrt{2}} \\\\ 0 \\\\ \\end{array}\\right) $"
   ]
  },
  {
   "cell_type": "markdown",
   "metadata": {},
   "source": [
    "$\\displaystyle {\\bf e}_2 = \\frac{{\\bf u}_2}{\\|{\\bf u}_2\\|} =\n",
    "\\frac{\\sqrt{2}}{\\sqrt{3}} \\left(\\begin{array}{c} \\frac{i}{2} \\\\ \\frac{1}{2} \\\\ -1 \\\\ \\end{array}\\right)\n",
    "=\n",
    "\\left(\\begin{array}{c} \\frac{i}{\\sqrt{6}} \\\\ \\frac{1}{\\sqrt{6}} \\\\ -\\frac{\\sqrt{2}}{\\sqrt{3}} \\\\ \\end{array}\\right) $"
   ]
  },
  {
   "cell_type": "markdown",
   "metadata": {},
   "source": [
    "$\\displaystyle {\\bf e}_3 = \\frac{{\\bf u}_3}{\\|{\\bf u}_3\\|} =\n",
    "\\frac{1}{1} \\left(\\begin{array}{c} \\frac{1}{2} \\\\ \\frac{1}{2} \\\\ \\frac{1}{2}-\\frac{i}{2} \\\\ \\end{array}\\right)\n",
    "=\n",
    "\\left(\\begin{array}{c} \\frac{1}{2} \\\\ \\frac{1}{2} \\\\ \\frac{1}{2}-\\frac{i}{2} \\\\ \\end{array}\\right) $"
   ]
  },
  {
   "cell_type": "markdown",
   "metadata": {},
   "source": [
    "以上がGram Schmidtの直交化の例ですが，複素数の場合は内積の第1引数ベクトルの複素共役をとることを忘れないようにしましょう．\n",
    "*****"
   ]
  }
 ],
 "metadata": {
  "kernelspec": {
   "display_name": "Python 3",
   "language": "python",
   "name": "python3"
  },
  "language_info": {
   "codemirror_mode": {
    "name": "ipython",
    "version": 3
   },
   "file_extension": ".py",
   "mimetype": "text/x-python",
   "name": "python",
   "nbconvert_exporter": "python",
   "pygments_lexer": "ipython3",
   "version": "3.6.1"
  }
 },
 "nbformat": 4,
 "nbformat_minor": 2
}
