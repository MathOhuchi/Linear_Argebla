{
 "cells": [
  {
   "cell_type": "markdown",
   "metadata": {},
   "source": [
    "# 内積空間\n",
    "\n",
    "私達は連立方程式の解ける場合についての理論を習得しましたので，次は解けない場合についての理論を展開します．\n",
    "そのための準備として内積空間の導入を行います．\n"
   ]
  },
  {
   "cell_type": "markdown",
   "metadata": {},
   "source": [
    "*****\n",
    "## 内積の定義\n",
    "\n",
    "一般のベクトル空間を$\\bf V$とし，${\\bf x},{\\bf y} \\in {\\bf V}$に対して，スカラーを対応させる写像で幾つかの条件を満たすものを<font color=blue>内積</font>と言い，$\\left<{\\bf x},{\\bf y}\\right>$で表します．\n",
    "\n",
    "> $\\left<\\cdot,\\cdot\\right> : {\\bf V}{\\times}{\\bf V} \\rightarrow K$\n",
    "\n",
    "内積の定義はスカラーが実数の場合と複素数の場合で若干異なります．\n",
    "理論としては，複素数の場合の定義が包括しているのですが，理解しやすいように両方の定義を掲載します．\n",
    "\n",
    "内積が定義されているベクトル空間を<font color=blue>内積空間</font>と言います．"
   ]
  },
  {
   "cell_type": "markdown",
   "metadata": {},
   "source": [
    "### 実数スカラーにおける内積\n",
    "\n",
    "スカラー$K$が実数$\\mathbb{R}$の場合，任意の実数ベクトル${\\bf x},{\\bf y} \\in {\\bf V}$に対して，実数$\\left<{\\bf x},{\\bf y}\\right>$を対応させる写像について，次の条件を満たすとき，この写像を$\\bf x$と$\\bf y$の内積と言います．\n",
    "\n",
    "> $\\left<\\cdot,\\cdot\\right> : {\\bf V}{\\times}{\\bf V} \\rightarrow \\mathbb{R}$\n",
    "\n",
    "- 対称性：$\\left<{\\bf x},{\\bf y}\\right> = \\left<{\\bf y},{\\bf x}\\right>$\n",
    "- 線形性：\n",
    "$\\left\\{\\begin{array}{c} \n",
    "\\left<a_1{\\bf x}_1+a_2{\\bf x}_2,{\\bf y}\\right> = a_1\\left<{\\bf x}_1,{\\bf y}\\right> + a_2\\left<{\\bf x}_2,{\\bf y}\\right>  \\\\\n",
    "\\left<{\\bf x},b_1{\\bf y}_1+b_2{\\bf y}_2\\right> = b_1\\left<{\\bf x},{\\bf y}_1\\right> + b_2\\left<{\\bf x},{\\bf y}_2\\right>  \\\\\n",
    "\\end{array}\\right.$\n",
    "- 正定値性：$\\left<{\\bf x},{\\bf x}\\right> \\geq 0$\n",
    "- 非退化性：$\\left<{\\bf x},{\\bf x}\\right> = 0 \\Rightarrow {\\bf x}={\\bf 0}$"
   ]
  },
  {
   "cell_type": "markdown",
   "metadata": {},
   "source": [
    "### 複素数スカラーにおける内積\n",
    "\n",
    "スカラー$K$が複素数$\\mathbb{C}$の場合，任意の複素数ベクトル${\\bf x},{\\bf y} \\in {\\bf V}$に対して，複素数$\\left<{\\bf x},{\\bf y}\\right>$を対応させる写像について，次の条件を満たすとき，この写像を$\\bf x$と$\\bf y$の内積と言います．\n",
    "\n",
    "> $\\left<\\cdot,\\cdot\\right> : {\\bf V}{\\times}{\\bf V} \\rightarrow \\mathbb{C}$\n",
    "\n",
    "- エルミート対称性：$\\left<{\\bf x},{\\bf y}\\right> = \\overline{\\left<{\\bf y},{\\bf x}\\right>}$\n",
    "- 線形性：\n",
    "$\\left\\{\\begin{array}{c} \n",
    "\\left<a_1{\\bf x}_1+a_2{\\bf x}_2,{\\bf y}\\right> = \\overline{a}_1\\left<{\\bf x}_1,{\\bf y}\\right> + \\overline{a}_2\\left<{\\bf x}_2,{\\bf y}\\right>  \\\\\n",
    "\\left<{\\bf x},b_1{\\bf y}_1+b_2{\\bf y}_2\\right> = b_1\\left<{\\bf x},{\\bf y}_1\\right> + b_2\\left<{\\bf x},{\\bf y}_2\\right>  \\\\\n",
    "\\end{array}\\right.$\n",
    "- 正定値性：$\\left<{\\bf x},{\\bf x}\\right> \\geq 0$\n",
    "- 非退化性：$\\left<{\\bf x},{\\bf x}\\right> = 0 \\Rightarrow {\\bf x}={\\bf 0}$\n",
    "\n",
    "ここで，$\\lambda \\in \\mathbb{C}$に対して$\\overline{\\lambda}$は，$\\lambda$の複素共役を表しています．"
   ]
  },
  {
   "cell_type": "markdown",
   "metadata": {},
   "source": [
    "#### 内積の線形性\n",
    "\n",
    "複素数スカラーの内積において，2通りの線形性が提示されています．\n",
    "\n",
    "$\\left\\{\\begin{array}{cl} \n",
    "\\left<a_1{\\bf x}_1+a_2{\\bf x}_2,{\\bf y}\\right> = \\overline{a}_1\\left<{\\bf x}_1,{\\bf y}\\right> + \\overline{a}_2\\left<{\\bf x}_2,{\\bf y}\\right> & \\cdots (1) \\\\\n",
    "\\left<{\\bf x},b_1{\\bf y}_1+b_2{\\bf y}_2\\right> = b_1\\left<{\\bf x},{\\bf y}_1\\right> + b_2\\left<{\\bf x},{\\bf y}_2\\right> & \\cdots (2) \\\\\n",
    "\\end{array}\\right.$\n",
    "\n",
    "式(2)は普通の線形性ですが，式(1)は係数の複素共役が出てきています．この関係を，共役線形と言います．\n",
    "\n",
    "この線形性についての定義では，第1変数について共役線形になっていますが，第2変数を共役変数にする定義もあります．\n",
    "\n",
    "$\\left\\{\\begin{array}{cl} \n",
    "\\left<a_1{\\bf x}_1+a_2{\\bf x}_2,{\\bf y}\\right> = a_1\\left<{\\bf x}_1,{\\bf y}\\right> + a_2\\left<{\\bf x}_2,{\\bf y}\\right> & \\cdots (1') \\\\\n",
    "\\left<{\\bf x},b_1{\\bf y}_1+b_2{\\bf y}_2\\right> = \\overline{b}_1\\left<{\\bf x},{\\bf y}_1\\right> + \\overline{b}_2\\left<{\\bf x},{\\bf y}_2\\right> & \\cdots (2') \\\\\n",
    "\\end{array}\\right.$\n",
    "\n",
    "どちらを共役にしても本質は変わりません．"
   ]
  },
  {
   "cell_type": "markdown",
   "metadata": {},
   "source": [
    "*****\n",
    "## ノルムの定義\n",
    "\n",
    "内積により様々な概念が導かれます．まずはノルムについて定義します．\n",
    "ベクトル空間においてノルムとはベクトルの大きさを表します．\n",
    "$\\bf V$を任意のベクトル空間として，${\\bf x} \\in {\\bf V}$に対して，次の条件を満たす実数の対応をノルムと言い，$\\|{\\bf x}\\|$で表します．\n",
    "\n",
    "> $\\|\\cdot\\| : {\\bf V} \\rightarrow \\mathbb{R}$\n",
    "\n",
    "- 正定値性：$\\|{\\bf x}\\| \\geq 0$\n",
    "- 独立性：$\\|{\\bf x}\\| = 0 \\Leftrightarrow {\\bf x}={\\bf 0}$\n",
    "- 斉次性：$\\|a{\\bf x}\\| = |a|\\|{\\bf x}\\|$\n",
    "- 劣加法性：$\\|{\\bf x}+{\\bf y}\\| \\leq \\|{\\bf x}\\|+\\|{\\bf y}\\|$\n",
    "\n",
    "ここで，$|a|$ は$a$の絶対値を表します．\n",
    "\n",
    "ノルムが定義されているベクトル空間を<font color=blue>ノルム空間</font>と言います．\n",
    "内積空間はノルム空間でもあります．"
   ]
  },
  {
   "cell_type": "markdown",
   "metadata": {},
   "source": [
    "### 内積から導かれるノルム\n",
    "\n",
    "ベクトル空間に内積$\\left<{\\bf x},{\\bf y}\\right>$が定義されているとき，$\\|{\\bf x}\\| = \\sqrt{\\left<{\\bf x},{\\bf x}\\right>}$とすることによってノルムが導入されます．\n",
    "この定義でノルムの条件が満たすことは簡単に確認できます．\n",
    "\n",
    "##### 正定値性\n",
    "\n",
    "$\\|{\\bf x}\\| = \\sqrt{\\left<{\\bf x},{\\bf x}\\right>} \\geq 0$\n",
    "\n",
    "##### 非退化性\n",
    "\n",
    "$\\|{\\bf x}\\| = 0$より，$\\left<{\\bf x},{\\bf x}\\right> = 0$なので，${\\bf x}={\\bf 0}$となります．\n",
    "\n",
    "また，$\\left<{\\bf 0}+{\\bf 0},{\\bf 0}\\right> = \\left<{\\bf 0},{\\bf 0}\\right> + \\left<{\\bf 0},{\\bf 0}\\right>$\n",
    "より$\\left<{\\bf 0},{\\bf 0}\\right> = 0$となります．\n",
    "\n",
    "##### 斉次性\n",
    "\n",
    "$\\|a{\\bf x}\\| = \\sqrt{\\left<a{\\bf x},a{\\bf x}\\right>}= \\sqrt{\\overline{a}a\\left<{\\bf x},{\\bf x}\\right>} = |a| \\|{\\bf x}\\|$\n",
    "\n",
    "##### 劣加法性\n",
    "\n",
    "$\\|{\\bf x}+{\\bf y}\\|^2 = \\left< {\\bf x}+{\\bf y},{\\bf x}+{\\bf y} \\right> =\n",
    "\\left<{\\bf x},{\\bf x}\\right> + \\left<{\\bf x},{\\bf y}\\right> + \\left<{\\bf y},{\\bf x}\\right> + \\left<{\\bf y},{\\bf y}\\right> \\leq\n",
    "\\|{\\bf x}\\|^2 + 2|\\left<{\\bf x},{\\bf y}\\right>| + \\|{\\bf y}\\| \\leq \n",
    "\\|{\\bf x}\\|^2 + 2\\|{\\bf x}\\|{\\cdot}\\|{\\bf y}\\| + \\|{\\bf y}\\| =\n",
    "(\\|{\\bf x}\\|^2 + \\|{\\bf y}\\|)^2 $\n",
    "\n",
    "この証明の中で，<font color=blue>シュワルツの不等式</font> $|\\left<{\\bf x},{\\bf y}\\right>| \\leq \\|{\\bf x}\\|{\\cdot}\\|{\\bf y}\\|$を用いています．"
   ]
  },
  {
   "cell_type": "markdown",
   "metadata": {},
   "source": [
    "### シュワルツの不等式\n",
    "\n",
    "三角不等式の証明に使用したシュワルツの不等式は，最も有名な不等式と言えます．\n",
    "任意の${\\bf x},{\\bf y} \\in {\\bf V}$に対して\n",
    "\n",
    "> $|\\left<{\\bf x},{\\bf y}\\right>| \\leq \\|{\\bf x}\\|{\\cdot}\\|{\\bf y}\\|$\n",
    "\n",
    "が成り立ちます．"
   ]
  },
  {
   "cell_type": "markdown",
   "metadata": {},
   "source": [
    "##### 証明\n",
    "\n",
    "まず，${\\bf y}={\\bf 0}$ならば両辺ともゼロになるので不等式は成立します．\n",
    "そこで，${\\bf y} \\neq {\\bf 0}$を仮定します．\n",
    "任意のスカラー$a,b \\in K$に対して，\n",
    "\n",
    "$ \\begin{eqnarray}\n",
    "0 \\leq \\|a{\\bf x}+b{\\bf y}\\|^2 &=& \n",
    "\\left<a{\\bf x}+b{\\bf y},a{\\bf x}+b{\\bf y}\\right> \\\\\n",
    "&=&\n",
    "|a|^2\\|{\\bf x}\\|^2 + \\overline{a}b\\left<{\\bf x},{\\bf y}\\right> + \\overline{b}a\\left<{\\bf y},{\\bf x}\\right> + |b|^2\\|{\\bf y}\\|^2 \\\\\n",
    "&=&\n",
    "|a|^2\\|{\\bf x}\\|^2 + \\overline{a}b\\left<{\\bf x},{\\bf y}\\right> + \\overline{\\overline{a}b\\left<{\\bf x},{\\bf y}\\right>} + |b|^2\\|{\\bf y}\\|^2 \\\\\n",
    "\\end{eqnarray} $\n",
    "\n",
    "となっています．\n",
    "ここで，$a=\\|{\\bf y}\\|^2$，および$b=-\\overline{\\left<{\\bf x},{\\bf y}\\right>}$と置いて代入すると，\n",
    "\n",
    "$ \\begin{eqnarray}\n",
    "0 \\leq \\|a{\\bf x}+b{\\bf y}\\|^2 &=& \n",
    "\\left<a{\\bf x}+b{\\bf y},a{\\bf x}+b{\\bf y}\\right> \\\\\n",
    "&=&\n",
    "|a|^2\\|{\\bf x}\\|^2 + \\overline{a}b\\left<{\\bf x},{\\bf y}\\right> + \\overline{b}a\\left<{\\bf y},{\\bf x}\\right> + |b|^2\\|{\\bf y}\\|^2 \\\\\n",
    "&=&\n",
    "|a|^2\\|{\\bf x}\\|^2 + \\overline{a}b\\left<{\\bf x},{\\bf y}\\right> + \\overline{\\overline{a}b\\left<{\\bf x},{\\bf y}\\right>} + |b|^2\\|{\\bf y}\\|^2 \\\\\n",
    "&=& \n",
    "\\|{\\bf y}\\|^4\\|{\\bf x}\\|^2 - \\|{\\bf y}\\|^2|\\left<{\\bf x},{\\bf y}\\right>|^2 - \\|{\\bf y}\\|^2|\\left<{\\bf x},{\\bf y}\\right>|^2 + \\|{\\bf y}\\|^2|\\left<{\\bf x},{\\bf y}\\right>|^2 \\\\\n",
    "&=&\n",
    "\\|{\\bf y}\\|^2(\\|{\\bf x}\\|^2{\\cdot}\\|{\\bf y}\\|^2 - |\\left<{\\bf x},{\\bf y}\\right>|^2) \\\\\n",
    "\\end{eqnarray} $\n",
    "\n",
    "となります．${\\bf y} \\neq {\\bf 0}$なので，$0 \\leq \\|{\\bf x}\\|^2{\\cdot}\\|{\\bf y}\\|^2 - |\\left<{\\bf x},{\\bf y}\\right>|^2$ となり，シュワルツの不等式が求まりました．"
   ]
  },
  {
   "cell_type": "markdown",
   "metadata": {},
   "source": [
    "*****\n",
    "## 距離の定義\n",
    "\n",
    "$\\bf V$を任意のベクトル空間として，2つのベクトル${\\bf x},{\\bf y} \\in {\\bf V}$に対して実数$d=d({\\bf x},{\\bf y})$を対応させる写像が次の条件を満たすとき，$d({\\bf x},{\\bf y})$を$\\bf x$と$\\bf y$との<font color=blue>距離</font>と言います．\n",
    "\n",
    "- 正定値性：$d({\\bf x},{\\bf y}) \\geq 0$\n",
    "- 非退化性：$d({\\bf x},{\\bf y}) = 0 \\Leftrightarrow {\\bf x}={\\bf y}$\n",
    "- 対称性：$d({\\bf x},{\\bf y})=d({\\bf y},{\\bf x})$\n",
    "- 三角不等式：$d({\\bf x},{\\bf z}) \\leq d({\\bf x},{\\bf y}) + d({\\bf y},{\\bf z})$\n",
    "\n",
    "三角不等式は，距離の本質的な性質です．つまり，2点間の直接の距離は他の点を経由するどんなルートよりも最短の距離になります．\n",
    "\n",
    "距離が定義されているベクトル空間を<font color=blue>距離空間</font>と言います．"
   ]
  },
  {
   "cell_type": "markdown",
   "metadata": {},
   "source": [
    "### ノルムから導かれる距離\n",
    "\n",
    "ノルム空間において$d({\\bf x},{\\bf y}) = \\|{\\bf x}-{\\bf y}\\|$によって距離を定義します．\n",
    "これが距離の条件を満たすことはノルムの定義より明らかです．\n",
    "\n",
    "##### 正定値性\n",
    "\n",
    "$d({\\bf x},{\\bf y}) = \\|{\\bf x}-{\\bf y}\\| \\geq 0$\n",
    "\n",
    "##### 非退化性\n",
    "\n",
    "$d({\\bf x},{\\bf y}) = 0$ $\\Leftrightarrow$\n",
    "$\\|{\\bf x}-{\\bf y}\\| = 0$ $\\Leftrightarrow$\n",
    "${\\bf x}-{\\bf y} = 0$ $\\Leftrightarrow$\n",
    "${\\bf x}={\\bf y}$\n",
    "\n",
    "##### 対称性\n",
    "\n",
    "$d({\\bf x},{\\bf y}) = \\|{\\bf x}-{\\bf y}\\| = \\|{\\bf y}-{\\bf x}\\| = d({\\bf y},{\\bf x})$\n",
    "\n",
    "##### 三角不等式\n",
    "\n",
    "$d({\\bf x},{\\bf z}) = \\|{\\bf x}-{\\bf z}\\| = \\|{\\bf x}-{\\bf y}+{\\bf y}-{\\bf z}\\| \\leq \n",
    "\\|{\\bf x}-{\\bf y}\\| + \\|{\\bf y}-{\\bf z}\\| = d({\\bf x},{\\bf y}) + d({\\bf y},{\\bf z})$"
   ]
  },
  {
   "cell_type": "markdown",
   "metadata": {},
   "source": [
    "内積空間，ノルム空間との関連は次のようになります．\n",
    "\n",
    "> $\\text{内積空間} \\subset \\text{ノルム空間} \\subset \\text{距離空間}$\n",
    "\n",
    "この意味として，距離空間であってもノルム空間でない空間を定義することも，ノルム空間であっても内積空間でない空間を定義することも可能です．"
   ]
  },
  {
   "cell_type": "markdown",
   "metadata": {},
   "source": [
    "私達が線形代数で利用するベクトル空間は内積空間になっています．\n",
    "*****"
   ]
  }
 ],
 "metadata": {
  "kernelspec": {
   "display_name": "Python 3",
   "language": "python",
   "name": "python3"
  },
  "language_info": {
   "codemirror_mode": {
    "name": "ipython",
    "version": 3
   },
   "file_extension": ".py",
   "mimetype": "text/x-python",
   "name": "python",
   "nbconvert_exporter": "python",
   "pygments_lexer": "ipython3",
   "version": "3.6.1"
  }
 },
 "nbformat": 4,
 "nbformat_minor": 2
}
