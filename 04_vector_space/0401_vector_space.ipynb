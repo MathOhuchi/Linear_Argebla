{
 "cells": [
  {
   "cell_type": "markdown",
   "metadata": {},
   "source": [
    "# ベクトル空間\n",
    "\n",
    "私たちは，連立方程式の問題を解くことから線形代数をスタートしましたが，その問題を完全に解決するにはベクトル空間の理論を理解する必要があります．\n",
    "ベクトル空間は線形代数で扱う数学的構造で，ベクトル空間は線形空間とも呼ばれ線形代数の中心的存在になっています．\n",
    "ここでは，ベクトル空間とは何かということを理解します．"
   ]
  },
  {
   "cell_type": "markdown",
   "metadata": {},
   "source": [
    "## ベクトル空間の定義\n",
    "\n",
    "ある集合${\\bf V}$が次の条件を満たすとき，ベクトル空間と言います．\n",
    "\n",
    "【1】 集合${\\bf V}$上の二項演算としての和「$+:({\\bf V}{\\times}{\\bf V}) \\rightarrow {\\bf V}$」が定義され，次の条件を満たす．\n",
    "\n",
    "任意の${\\bf x},{\\bf y},{\\bf z} \\in {\\bf V}$について，\n",
    "\n",
    "> \n",
    "- $({\\bf x}+{\\bf y})+{\\bf z} = {\\bf x}+({\\bf y}+{\\bf z})$　（結合法則）\n",
    "- ${\\bf x}+{\\bf y} = {\\bf y}+{\\bf x}$　（交換法則）\n",
    "- ${\\bf 0}+{\\bf x} = {\\bf x}+{\\bf 0} = {\\bf x}$　（零ベクトル）\n",
    "- $-{\\bf x}+{\\bf x} = {\\bf x}+(-{\\bf x}) = {\\bf 0}$　（逆ベクトル）\n",
    "\n",
    "ここで，${\\bf 0} \\in {\\bf V}$をベクトル空間の零ベクトルと言う．\n",
    "\n",
    "【2】 スカラー$K$と集合${\\bf V}$との二項演算としての積「$\\cdot:(K{\\times}{\\bf V}) \\rightarrow {\\bf V}$」が定義され，次の条件を満たす．\n",
    "\n",
    "スカラー$a \\in K$とベクトル${\\bf x} \\in {\\bf V}$との積は二項演算記号を省略して$a{\\bf x}$と書き，\n",
    "任意の$a,b \\in K$，${\\bf x},{\\bf y} \\in {\\bf V}$について，\n",
    "\n",
    "> \n",
    "- $(a+b){\\bf x} = a{\\bf x}+b{\\bf x}$　（スカラーの分配法則）\n",
    "- $a({\\bf x}+{\\bf y}) = a{\\bf x} + a{\\bf y}$　（ベクトルの分配法則）\n",
    "- $(ab){\\bf x} = a(b{\\bf x})$　（結合法則）\n",
    "- $1{\\bf x} = {\\bf x}$　（単位係数）\n",
    "\n",
    "ここでスカラー$K$は，実数$\\mathbb{R}$か複素数$\\mathbb{C}$のどちらかとする．\n",
    "スカラーが実数の場合は実ベクトル空間と言い，複素数の場合は複素ベクトル空間と言います．\n",
    "また，スカラーとして実数や複素数以外の数学的対象を採用することもできますが，ここでは実数と複素数に限定します．\n",
    "\n",
    "この条件をベクトル空間の公理系と言います．"
   ]
  },
  {
   "cell_type": "markdown",
   "metadata": {},
   "source": [
    "## 線形部分空間\n",
    "\n",
    "${\\bf V}$をベクトル空間として，${\\bf W}$を${\\bf V}$の部分集合，すなわち，${\\bf W} \\subset {\\bf V}$とする．\n",
    "この${\\bf W}$がベクトル空間の条件を満たすとき，${\\bf V}$の<font color=blue>線形部分空間</font>と言います．\n",
    "\n",
    "ベクトル空間${\\bf V}$自身，および，零ベクトルのみからなる集合$\\{ {\\bf 0} \\}$は，線形部分空間になります．\n",
    "これを<font color=blue>自明な部分空間</font>と言います．"
   ]
  },
  {
   "cell_type": "markdown",
   "metadata": {},
   "source": [
    "## ベクトル空間の例\n",
    "\n",
    "ベクトル空間の例を紹介します．"
   ]
  },
  {
   "cell_type": "markdown",
   "metadata": {},
   "source": [
    "*****\n",
    "### 2次元の実数ベクトル空間\n",
    "\n",
    "2つの実数$x_1,x_2 \\in \\mathbb{R}$の順序対によって構成される2次元の実数ベクトル${\\bf x} = \\left(\\begin{array}{c} x_1 \\\\ x_2 \\end{array} \\right)$全体の集合$\\mathbb{R}^2$を考えます．\n",
    "この集合がベクトル空間になっていることを示します．\n",
    "${\\bf x},{\\bf y} \\in \\mathbb{R}^2$を${\\bf x} = \\left(\\begin{array}{c} x_1 \\\\ x_2 \\end{array} \\right)$，${\\bf y} = \\left(\\begin{array}{c} y_1 \\\\ y_2 \\end{array} \\right)$とし，$a \\in \\mathbb{R}$としたとき，ベクトルの定義で示したように2つのベクトルの和，およびスカラー倍は次のように定義されます．\n",
    "\n",
    "> ${\\bf x}+{\\bf y} = \\left(\\begin{array}{c} x_1+y_1 \\\\ x_2+y_2 \\end{array} \\right)$\n",
    "\n",
    "> $a{\\bf x} = \\left(\\begin{array}{c} ax_1 \\\\ ax_2 \\end{array} \\right) $\n",
    "\n",
    "明らかに${\\bf x}+{\\bf y} \\in \\mathbb{R}^2$および$a{\\bf x} \\in \\mathbb{R}^2$となりますので，$\\mathbb{R}^2$は，加法とスカラー倍について閉じています．\n",
    "\n",
    "この定義はベクトル空間の公理系を満たしています．\n",
    "確認するには，ベクトル空間の定義にある7つの式が成り立つことを示します．"
   ]
  },
  {
   "cell_type": "markdown",
   "metadata": {},
   "source": [
    "#### 加法の結合法則\n",
    "\n",
    "${\\bf x} = \\left(\\begin{array}{c} x_1 \\\\ x_2 \\end{array} \\right)$，\n",
    "${\\bf y} = \\left(\\begin{array}{c} y_1 \\\\ y_2 \\end{array} \\right)$，\n",
    "${\\bf z} = \\left(\\begin{array}{c} z_1 \\\\ z_2 \\end{array} \\right)$\n",
    "としたとき，\n",
    "\n",
    "$({\\bf x}+{\\bf y})+{\\bf z} =\n",
    "\\left( \\left(\\begin{array}{c} x_1 \\\\ x_2 \\end{array} \\right) + \\left(\\begin{array}{c} y_1 \\\\ y_2 \\end{array} \\right) \\right) +\n",
    "\\left(\\begin{array}{c} z_1 \\\\ z_2 \\end{array} \\right) =\n",
    "\\left(\\begin{array}{c} x_1+y_1 \\\\ x_2+y_2 \\end{array} \\right) + \\left(\\begin{array}{c} z_1 \\\\ z_2 \\end{array} \\right) =\n",
    "\\left(\\begin{array}{c} x_1+y_1+z_1 \\\\ x_2+y_2+z_2 \\end{array} \\right) $\n",
    "\n",
    "${\\bf x}+({\\bf y}+{\\bf z}) =\n",
    "\\left(\\begin{array}{c} x_1 \\\\ x_2 \\end{array} \\right) +\n",
    "\\left( \\left(\\begin{array}{c} y_1 \\\\ y_2 \\end{array} \\right) + \\left(\\begin{array}{c} z_1 \\\\ z_2 \\end{array} \\right) \\right) =\n",
    "\\left(\\begin{array}{c} x_1 \\\\ x_2 \\end{array} \\right) + \\left(\\begin{array}{c} y_1+z_1 \\\\ y_2+z_2 \\end{array} \\right) =\n",
    "\\left(\\begin{array}{c} x_1+y_1+z_1 \\\\ x_2+y_2+z_2 \\end{array} \\right) $\n",
    "\n",
    "となるので，$({\\bf x}+{\\bf y})+{\\bf z} ={\\bf x}+({\\bf y}+{\\bf z})$が成立します．"
   ]
  },
  {
   "cell_type": "markdown",
   "metadata": {},
   "source": [
    "#### 加法の交換法則\n",
    "\n",
    "${\\bf x} = \\left(\\begin{array}{c} x_1 \\\\ x_2 \\end{array} \\right)$，\n",
    "${\\bf y} = \\left(\\begin{array}{c} y_1 \\\\ y_2 \\end{array} \\right)$\n",
    "としたとき，\n",
    "\n",
    "${\\bf x}+{\\bf y} = \n",
    "\\left(\\begin{array}{c} x_1+y_1 \\\\ x_2+y_2 \\end{array} \\right) =\n",
    "\\left(\\begin{array}{c} y_1+x_1 \\\\ y_2+x_2 \\end{array} \\right) =\n",
    "{\\bf y}+{\\bf x}$\n",
    "\n",
    "となり，加法の交換法則${\\bf x}+{\\bf y} = {\\bf y}+{\\bf x}$が成り立ちます．"
   ]
  },
  {
   "cell_type": "markdown",
   "metadata": {},
   "source": [
    "#### 加法の零ベクトル\n",
    "\n",
    "${\\bf 0} = \\left( \\begin{array}{c} 0 \\\\ 0 \\end{array} \\right)$，\n",
    "${\\bf x} = \\left(\\begin{array}{c} x_1 \\\\ x_2 \\end{array} \\right)$\n",
    "とすると，\n",
    "\n",
    "${\\bf 0} + {\\bf x} =\n",
    "\\left( \\begin{array}{c} 0 \\\\ 0 \\end{array} \\right) + \\left( \\begin{array}{c} x_1 \\\\ x_2 \\end{array} \\right) =\n",
    "\\left( \\begin{array}{c} 0+x_1 \\\\ 0+x_2 \\end{array} \\right) =\n",
    "\\left( \\begin{array}{c} x_1 \\\\ x_2 \\end{array} \\right) $\n",
    "\n",
    "${\\bf x} + {\\bf 0} =\n",
    "\\left( \\begin{array}{c} x_1 \\\\ x_2 \\end{array} \\right) + \\left( \\begin{array}{c} 0 \\\\ 0 \\end{array} \\right) =\n",
    "\\left( \\begin{array}{c} x_1+0 \\\\ x_2+0 \\end{array} \\right) =\n",
    "\\left( \\begin{array}{c} x_1 \\\\ x_2 \\end{array} \\right) $\n",
    "\n",
    "となるので，${\\bf 0}$が零ベクトルであることが分かります．"
   ]
  },
  {
   "cell_type": "markdown",
   "metadata": {},
   "source": [
    "#### 加法の逆ベクトル\n",
    "\n",
    "${\\bf x} = \\left(\\begin{array}{c} x_1 \\\\ x_2 \\end{array} \\right)$\n",
    "に対して，\n",
    "$-{\\bf x} = \\left(\\begin{array}{c} -x_1 \\\\ -x_2 \\end{array} \\right)$\n",
    "とすると，\n",
    "\n",
    "$-{\\bf x} + {\\bf x} =\n",
    "\\left( \\begin{array}{c} -x_1 \\\\ -x_2 \\end{array} \\right) + \\left( \\begin{array}{c} x_1 \\\\ x_2 \\end{array} \\right) =\n",
    "\\left( \\begin{array}{c} -x_1+x_1 \\\\ -x_2+x_2 \\end{array} \\right) =\n",
    "\\left( \\begin{array}{c} 0 \\\\ 0 \\end{array} \\right) =\n",
    "{\\bf 0}$\n",
    "\n",
    "${\\bf x} + (-{\\bf x}) =\n",
    "\\left( \\begin{array}{c} x_1 \\\\ x_2 \\end{array} \\right) + \\left( \\begin{array}{c} -x_1 \\\\ -x_2 \\end{array} \\right) =\n",
    "\\left( \\begin{array}{c} x_1-x_1 \\\\ x_2-x_2 \\end{array} \\right) =\n",
    "\\left( \\begin{array}{c} 0 \\\\ 0 \\end{array} \\right) =\n",
    "{\\bf 0}$\n",
    "\n",
    "となるので，$-{\\bf x}$が逆ベクトルであることが分かります．"
   ]
  },
  {
   "cell_type": "markdown",
   "metadata": {},
   "source": [
    "#### スカラー倍の係数の分配法則\n",
    "\n",
    "$a,b \\in \\mathbb{R}$，${\\bf x}= \\left( \\begin{array}{c} x_1 \\\\ x_2 \\end{array} \\right)$とすると，\n",
    "\n",
    "$(a+b){\\bf x} = \n",
    "(a+b) \\left( \\begin{array}{c} x_1 \\\\ x_2 \\end{array} \\right) =\n",
    "\\left( \\begin{array}{c} (a+b)x_1 \\\\ (a+b)x_2 \\end{array} \\right) =\n",
    "\\left( \\begin{array}{c} ax_1+bx_1 \\\\ ax_2+bx_2 \\end{array} \\right) =\n",
    "\\left( \\begin{array}{c} ax_1 \\\\ ax_2 \\end{array} \\right) + \\left( \\begin{array}{c} bx_1 \\\\ bx_2 \\end{array} \\right) =\n",
    "a{\\bf x}+b{\\bf x}$\n",
    "\n",
    "となり，スカラー倍の係数の分配法則が成り立ちます．"
   ]
  },
  {
   "cell_type": "markdown",
   "metadata": {},
   "source": [
    "#### スカラー倍のベクトルの分配法則\n",
    "\n",
    "$a \\in \\mathbb{R}$，\n",
    "${\\bf x}= \\left( \\begin{array}{c} x_1 \\\\ x_2 \\end{array} \\right)$，\n",
    "${\\bf y}= \\left( \\begin{array}{c} y_1 \\\\ y_2 \\end{array} \\right)$\n",
    "とすると，\n",
    "\n",
    "$a({\\bf x}+{\\bf y}) = \n",
    "a \\left( \\left( \\begin{array}{c} x_1 \\\\ x_2 \\end{array} \\right) + \\left( \\begin{array}{c} y_1 \\\\ y_2 \\end{array} \\right) \\right) =\n",
    "a \\left( \\begin{array}{c} x_1+y_1 \\\\ x_2+y_2 \\end{array} \\right) =\n",
    "\\left( \\begin{array}{c} a(x_1+y_1) \\\\ a(x_2+y_2) \\end{array} \\right) =\n",
    "\\left( \\begin{array}{c} ax_1+ay_1 \\\\ ax_2+ay_2 \\end{array} \\right) =\n",
    "\\left( \\begin{array}{c} ax_1 \\\\ ax_2 \\end{array} \\right) + \\left( \\begin{array}{c} ay_1 \\\\ ay_2 \\end{array} \\right) =\n",
    "a{\\bf x}+a{\\bf y}$\n",
    "\n",
    "となり，スカラー倍のベクトルの分配法則$a({\\bf x}+{\\bf y}) = a{\\bf x}+a{\\bf y}$が成り立ちます．"
   ]
  },
  {
   "cell_type": "markdown",
   "metadata": {},
   "source": [
    " #### スカラーの結合法則\n",
    " \n",
    " $a,b \\in \\mathbb{R}$，${\\bf x}= \\left( \\begin{array}{c} x_1 \\\\ x_2 \\end{array} \\right)$とすると，\n",
    "\n",
    "$(ab){\\bf x} = \n",
    "(ab) \\left( \\begin{array}{c} x_1 \\\\ x_2 \\end{array} \\right) =\n",
    "\\left( \\begin{array}{c} (ab)x_1 \\\\ (ab)x_2 \\end{array} \\right) =\n",
    "\\left( \\begin{array}{c} abx_1 \\\\ abx_2 \\end{array} \\right) =\n",
    "\\left( \\begin{array}{c} a(bx_1) \\\\ a(bx_2) \\end{array} \\right) =\n",
    "a\\left( \\begin{array}{c} bx_1 \\\\ bx_2 \\end{array} \\right) =\n",
    "a\\left( b \\left( \\begin{array}{c} x_1 \\\\ x_2 \\end{array} \\right) \\right) =\n",
    "a(b{\\bf x})$\n",
    "\n",
    "となり，スカラー倍の結合法則$(ab){\\bf x} = a(b{\\bf x})$が成り立ちます．"
   ]
  },
  {
   "cell_type": "markdown",
   "metadata": {},
   "source": [
    "#### スカラー倍の単位係数\n",
    "\n",
    "${\\bf x}= \\left( \\begin{array}{c} x_1 \\\\ x_2 \\end{array} \\right)$とすると，\n",
    "\n",
    "$1{\\bf x}= \n",
    "1\\left( \\begin{array}{c} x_1 \\\\ x_2 \\end{array} \\right) =\n",
    "\\left( \\begin{array}{c} 1x_1 \\\\ 1x_2 \\end{array} \\right) =\n",
    "\\left( \\begin{array}{c} x_1 \\\\ x_2 \\end{array} \\right) =\n",
    "{\\bf x}$\n",
    "\n",
    "となり，数字の$1$がスカラー倍の単位係数であることが分かります．"
   ]
  },
  {
   "cell_type": "markdown",
   "metadata": {},
   "source": [
    "以上で，2個の実数の順序対で構成される集合$\\mathbb{R}^2$が実数をスカラーとするベクトル空間であることが分かります．\n",
    "このベクトル空間を，2次元実数ベクトル空間と言います．"
   ]
  },
  {
   "cell_type": "markdown",
   "metadata": {},
   "source": [
    "*****\n",
    "### 3次元の実数ベクトル空間\n",
    "\n",
    "3つの実数$x_1,x_2,x_3 \\in \\mathbb{R}$の順序対によって構成される3次元の実数ベクトル${\\bf x} = \\left(\\begin{array}{c} x_1 \\\\ x_2 \\\\ x_3 \\end{array} \\right)$全体の集合$\\mathbb{R}^3$を考えます．\n",
    "この集合も2つの実数の場合と同様にベクトル空間になっています．\n",
    "${\\bf x},{\\bf y} \\in \\mathbb{R}^3$を${\\bf x} = \\left(\\begin{array}{c} x_1 \\\\ x_2 \\\\ x_3 \\end{array} \\right)$，${\\bf y} = \\left(\\begin{array}{c} y_1 \\\\ y_2 \\\\ y_3 \\end{array} \\right)$とし，$a \\in \\mathbb{R}$としたとき，ベクトルの定義で示したように2つのベクトルの和，およびスカラー倍は次のように定義されます．\n",
    "\n",
    "> ${\\bf x}+{\\bf y} = \\left(\\begin{array}{c} x_1+y_1 \\\\ x_2+y_2 \\\\ x_3+y_3 \\end{array} \\right)$\n",
    "\n",
    "> $a{\\bf x} = \\left(\\begin{array}{c} ax_1 \\\\ ax_2 \\\\ax_3 \\end{array} \\right) $\n",
    "\n",
    "明らかに${\\bf x}+{\\bf y} \\in \\mathbb{R}^3$および$a{\\bf x} \\in \\mathbb{R}^3$となりますので，$\\mathbb{R}^3$は，加法とスカラー倍について閉じています．\n",
    "\n",
    "この定義はベクトル空間の公理系を満たしていることは，2次元の場合と全く同様に求まります．\n",
    "このベクトル空間は，3次元実数ベクトル空間と言います．"
   ]
  },
  {
   "cell_type": "markdown",
   "metadata": {},
   "source": [
    "*****\n",
    "### $n$次元の実数ベクトル空間\n",
    "\n",
    "$n$個の実数$x_1,x_2,x_3,\\cdots,x_n \\in \\mathbb{R}$の順序対によって構成される$n$次元の実数ベクトル${\\bf x} = \\left(\\begin{array}{c} x_1 \\\\ x_2 \\\\ \\vdots \\\\ x_n \\end{array} \\right)$全体の集合$\\mathbb{R}^n$を考えます．\n",
    "この集合も2次元や3次元の場合と同様にベクトル空間になっています．\n",
    "${\\bf x},{\\bf y} \\in \\mathbb{R}^n$を${\\bf x} = \\left(\\begin{array}{c} x_1 \\\\ x_2 \\\\ \\vdots \\\\ x_n \\end{array} \\right)$，${\\bf y} = \\left(\\begin{array}{c} y_1 \\\\ y_2 \\\\ \\vdots \\\\ y_n \\end{array} \\right)$とし，$a \\in \\mathbb{R}$としたとき，ベクトルの定義で示したように2つのベクトルの和，およびスカラー倍は次のように定義されます．\n",
    "\n",
    "> ${\\bf x}+{\\bf y} = \\left(\\begin{array}{c} x_1+y_1 \\\\ x_2+y_2 \\\\ \\vdots \\\\ x_n+y_n \\end{array} \\right)$\n",
    "\n",
    "> $a{\\bf x} = \\left(\\begin{array}{c} ax_1 \\\\ ax_2 \\\\ \\vdots \\\\ ax_n \\end{array} \\right) $\n",
    "\n",
    "明らかに${\\bf x}+{\\bf y} \\in \\mathbb{R}^n$および$a{\\bf x} \\in \\mathbb{R}^n$となりますので，$\\mathbb{R}^n$は，加法とスカラー倍について閉じています．\n",
    "\n",
    "この定義はベクトル空間の公理系を満たしていることも，2次元の場合と全く同様に求まります．\n",
    "このベクトル空間は，<font color=blue>$n$次元実数ベクトル空間</font>と言います．"
   ]
  },
  {
   "cell_type": "markdown",
   "metadata": {},
   "source": [
    "*****\n",
    "### $n$次元の複素数ベクトル空間\n",
    "\n",
    "自然数$n$を固定して，$n$個の複素数$x_1,x_2,x_3,\\cdots,x_n \\in \\mathbb{C}$の順序対によって構成される$n$次元の複素数ベクトル${\\bf x} = \\left(\\begin{array}{c} x_1 \\\\ x_2 \\\\ \\vdots \\\\ x_n \\end{array} \\right)$全体の集合$\\mathbb{C}^n$を考えます．\n",
    "この集合も$n$次元の実数の場合と同様にベクトル空間になっています．\n",
    "${\\bf x},{\\bf y} \\in \\mathbb{C}^n$を${\\bf x} = \\left(\\begin{array}{c} x_1 \\\\ x_2 \\\\ \\vdots \\\\ x_n \\end{array} \\right)$，${\\bf y} = \\left(\\begin{array}{c} y_1 \\\\ y_2 \\\\ \\vdots \\\\ y_n \\end{array} \\right)$とし，$a \\in \\mathbb{C}$としたとき，ベクトルの定義で示したように2つのベクトルの和，およびスカラー倍は実数スカラーと全く同様に次のように定義されます．\n",
    "\n",
    "> ${\\bf x}+{\\bf y} = \\left(\\begin{array}{c} x_1+y_1 \\\\ x_2+y_2 \\\\ \\vdots \\\\ x_n+y_n \\end{array} \\right)$\n",
    "\n",
    "> $a{\\bf x} = \\left(\\begin{array}{c} ax_1 \\\\ ax_2 \\\\ \\vdots \\\\ ax_n \\end{array} \\right) $\n",
    "\n",
    "明らかに${\\bf x}+{\\bf y} \\in \\mathbb{C}^n$および$a{\\bf x} \\in \\mathbb{C}^n$となりますので，$\\mathbb{C}^n$は，加法とスカラー倍について閉じています．\n",
    "\n",
    "この定義はベクトル空間の公理系を満たしていることも，実数スカラーの場合と全く同様に求まります．\n",
    "このベクトル空間を，<font color=blue>$n$次元複素数ベクトル空間</font>と言います．"
   ]
  },
  {
   "cell_type": "markdown",
   "metadata": {},
   "source": [
    "*****\n",
    "上記でベクトル空間の例を示すときに2次元，3次元，$n$次元と順次提示しましたが，数学の専門書の書き方からすると冗長になっています．\n",
    "一般的に，数学の専門書においては，最も包括的な例を提示することがスマートな方法だと思われています．\n",
    "すなわち，このベクトル空間の例では$n$次元の場合を提示すれば，その内容は2次元や3次元も含んでいるので完結します．\n",
    "しかし，ここでは直感的に分かりやすいように2次元から提示しました．\n",
    "\n",
    "また，実数か複素数かが重要でない場合は，<font color=blue>$n$次元数ベクトル空間</font>と表現します．"
   ]
  },
  {
   "cell_type": "markdown",
   "metadata": {},
   "source": [
    "*****\n",
    "### $n$次多項式のベクトル空間\n",
    "\n",
    "自然数$n$を固定して，1変数のn次多項式を考えます．$n$次多項式の一般的な表現は次のようになります．\n",
    "\n",
    "> $\\displaystyle P_n(x) = \\sum_{i=0}^{n} p_ix^i = p_0 + p_1x + p_2x^2 + \\cdots + p_nx^n$\n",
    "\n",
    "ここで係数$p_i(i=1,\\cdots,n)$は実数か複素数のどちらかとして，スカラーと同じにします．\n",
    "\n",
    "今2つの$n$次多項式を ${\\bf p}=\\sum_{i=1}^{n} p_ix^i$，${\\bf q}=\\sum_{i=1}^{n} q_ix^i$とし，$a$をスカラーとします．\n",
    "このとき，ベクトルの積とスカラー倍は次のようになります．\n",
    "\n",
    "> $\\displaystyle {\\bf p}+{\\bf q} = \\sum_{i=1}^{n} p_ix^i + \\sum_{i=1}^{n} q_ix^i = \\sum_{i=1}^{n} (p_i+q_i)x^i$\n",
    "\n",
    "> $\\displaystyle a{\\bf p} = a\\sum_{i=1}^{n} p_ix^i = \\sum_{i=1}^{n} ap_ix^i$\n",
    "\n",
    "この演算によってn次多項式の集合は閉じており，また，ベクトル空間の条件を満たすことも分かります．\n",
    "確認方法は，2次元の実数ベクトル空間と同じように，定義に従って式変形計算を行うだけです．"
   ]
  },
  {
   "cell_type": "markdown",
   "metadata": {},
   "source": [
    "*****\n",
    "$n$次多項式の例でみたように，様々な数学的対象によってベクトル空間を構成することができます．\n",
    "そして，純粋に抽象的なベクトル空間に定義の下で成り立つことは，具体的などのベクトル空間でも成り立ちます．"
   ]
  }
 ],
 "metadata": {
  "kernelspec": {
   "display_name": "Python 3",
   "language": "python",
   "name": "python3"
  },
  "language_info": {
   "codemirror_mode": {
    "name": "ipython",
    "version": 3
   },
   "file_extension": ".py",
   "mimetype": "text/x-python",
   "name": "python",
   "nbconvert_exporter": "python",
   "pygments_lexer": "ipython3",
   "version": "3.6.1"
  }
 },
 "nbformat": 4,
 "nbformat_minor": 2
}
