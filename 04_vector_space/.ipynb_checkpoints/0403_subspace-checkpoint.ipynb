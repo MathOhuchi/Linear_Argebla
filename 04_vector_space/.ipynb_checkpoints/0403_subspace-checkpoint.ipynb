{
 "cells": [
  {
   "cell_type": "markdown",
   "metadata": {},
   "source": [
    "# 線形結合により生成する部分空間\n",
    "\n",
    "ベクトル空間${\\bf V}$から適当に数個の要素を採用します．これを$\\{ {\\bf v}_1,{\\bf v}_2,\\cdots,{\\bf v}_r \\}$とします．\n",
    "そして，これらの線形結合で求まる集合を${\\bf W}$とします．\n",
    "\n",
    "> $\\displaystyle {\\bf W} = \\left\\{ {\\bf w} \\mid {\\bf w}= \\sum_{i=1}^{r} a_i{\\bf v}_i, \\, a_i \\in K \\right\\}$\n",
    "\n",
    "すなわち，${\\bf w} \\in {\\bf W}$ならば，$a_1,a_2,\\cdots,a_r \\in K$が存在して\n",
    "\n",
    "> ${\\bf w} = a_1{\\bf v}_1 + a_2{\\bf v}_2 + \\cdots + a_r{\\bf v}_r$\n",
    "\n",
    "と表されます．\n",
    "この集合はベクトル空間${\\bf V}$上の演算を引き継いでベクトル空間の条件を満たしています．\n",
    "このベクトル空間${\\bf W}$をベクトル$\\{ {\\bf v}_1,{\\bf v}_2,\\cdots,{\\bf v}_r \\}$により生成される部分空間，あるいは張られる部分空間と言います．\n"
   ]
  },
  {
   "cell_type": "markdown",
   "metadata": {},
   "source": [
    "## 線形結合による部分空間の例\n",
    "\n",
    "3次元の実数ベクトル空間$\\mathbb{R}^3$に含まれる線形部分空間を幾つか作成します．"
   ]
  },
  {
   "cell_type": "markdown",
   "metadata": {},
   "source": [
    "### 2次元の部分空間\n",
    "\n",
    "3次元の実数ベクトル空間$\\mathbb{R}^3$から\n",
    "${\\bf v}_1 = \\left(\\begin{array}{c} 1 \\\\ 1 \\\\ 0 \\end{array}\\right)$, \n",
    "${\\bf v}_2 = \\left(\\begin{array}{c} 1 \\\\ 0 \\\\ 1 \\end{array}\\right)$\n",
    "を選び，この2つのベクトルによって張られる空間を${\\bf W}_2$とします．\n",
    "\n",
    "${\\bf W}$は$\\mathbb{R}^3$の線形部分空間です．すなわち，${\\bf W}_2 \\subset \\mathbb{R}^3$となっています．\n",
    "\n",
    "この部分空間の任意の要素${\\bf w} \\in {\\bf W}_2$は，2つの実数$s,t \\in \\mathbb{R}$によって次のように表されます．\n",
    "\n",
    "> ${\\bf w} = \\left(\\begin{array}{c} s+t \\\\ s \\\\ t \\end{array}\\right)$\n",
    "\n",
    "よって，${\\bf W}_2$は，2次元の線形部分空間となります．"
   ]
  },
  {
   "cell_type": "markdown",
   "metadata": {},
   "source": [
    "${\\bf W}_2$に属さない要素を確認します．\n",
    "${\\bf u} = \\left(\\begin{array}{c} 0 \\\\ 1 \\\\ 1 \\end{array}\\right)$とします．\n",
    "この要素が${\\bf W}_2$に含まれないことを示します．\n",
    "\n",
    "ここでは背理法を使います．\n",
    "仮に${\\bf u} \\in {\\bf W}_2$であると仮定します．すると\n",
    "\n",
    "$\\left(\\begin{array}{c} s+t \\\\ s \\\\ t \\end{array}\\right) = \\left(\\begin{array}{c} 0 \\\\ 1 \\\\ 1 \\end{array}\\right)$\n",
    "\n",
    "が成立する$s,t \\in \\mathbb{R}$が存在しなければなりません．\n",
    "ベクトルの2項目および3項目から，$s=1$および$t=1$が得られます．\n",
    "すると$s+t=2$となり，1項の$s+t=0$と矛盾します．\n",
    "よって，${\\bf u} \\notin {\\bf W}_2$であることが分かりました．"
   ]
  },
  {
   "cell_type": "markdown",
   "metadata": {},
   "source": [
    "### 1次元の部分空間\n",
    "\n",
    "3次元の実数ベクトル空間$\\mathbb{R}^3$から\n",
    "${\\bf v}_1 = \\left(\\begin{array}{c} 1 \\\\ 2 \\\\ -3 \\end{array}\\right)$, \n",
    "${\\bf v}_2 = \\left(\\begin{array}{c} -2 \\\\ -4 \\\\ 6 \\end{array}\\right)$\n",
    "を選び，この2つのベクトルによって張られる空間を${\\bf W}_1$とします．\n",
    "\n",
    "${\\bf W}_1$は$\\mathbb{R}^3$の線形部分空間になっていますが，その次元は1次元です．\n",
    "${\\bf v}_1$と${\\bf v}_2$の線形結合を作ると，その理由が分かります．\n",
    "2つの実数$s,t \\in \\mathbb{R}$を用いて，\n",
    "\n",
    "$s{\\bf v}_1 + t{\\bf v}_2 = \n",
    "s\\left(\\begin{array}{c} 1 \\\\ 2 \\\\ -3 \\end{array}\\right) + t\\left(\\begin{array}{c} -2 \\\\ -4 \\\\ 6 \\end{array}\\right) =\n",
    "\\left(\\begin{array}{c} s-2t \\\\ 2(s-2t) \\\\ -3(s-2t) \\end{array}\\right) $\n",
    "\n",
    "となります．\n",
    "ここで，$u=s-2t$と置くと，\n",
    "\n",
    "$s{\\bf v}_1 + t{\\bf v}_2 = u\\left(\\begin{array}{c} 1 \\\\ 2 \\\\ -3 \\end{array}\\right)$\n",
    "\n",
    "となり，最初に採用した2つのベクトルが線形従属であり，この部分集合${\\bf W}_1$は1次元であることが分かります．"
   ]
  },
  {
   "cell_type": "markdown",
   "metadata": {},
   "source": [
    "*****\n",
    "## 部分空間の共通部分\n",
    "\n",
    "${\\bf V}$をベクトル空間とし，${\\bf W}_1$および${\\bf W}_2$をその線形部分空間とする．\n",
    "このとき，${\\bf W}_1$と${\\bf W}_2$の<font color=blue>共通部分集合${\\bf W}_1 \\cap {\\bf W}_2$も${\\bf V}$の部分空間になる</font>．"
   ]
  },
  {
   "cell_type": "markdown",
   "metadata": {},
   "source": [
    "#### 証明\n",
    "\n",
    "${\\bf x},{\\bf y} \\in {\\bf W}_1 \\cap {\\bf W}_2$とすると，\n",
    "定義により${\\bf x},{\\bf y} \\in {\\bf W}_1$かつ${\\bf x},{\\bf y} \\in {\\bf W}_2$である．\n",
    "\n",
    "$s,t \\in K$に対して，${\\bf z}= s{\\bf x}+t{\\bf y}$と置く．\n",
    "${\\bf W}_1$が線形部分空間であるため，${\\bf z} \\in {\\bf W}_1$である．\n",
    "同様に，${\\bf W}_2$が線形部分空間であるため，${\\bf z} \\in {\\bf W}_2$である．\n",
    "\n",
    "したがって，${\\bf z} \\in {\\bf W}_1 \\cap {\\bf W}_2$が成り立ちます．"
   ]
  },
  {
   "cell_type": "markdown",
   "metadata": {},
   "source": [
    "*****\n",
    "## 部分空間の合併集合\n",
    "\n",
    "${\\bf V}$をベクトル空間とし，${\\bf W}_1$および${\\bf W}_2$をその線形部分空間とする．\n",
    "このとき，${\\bf W}_1$と${\\bf W}_2$の<font color=blue>合併集合${\\bf W}_1 \\cup {\\bf W}_2$が${\\bf V}$の部分空間になるとは限らない</font>．"
   ]
  },
  {
   "cell_type": "markdown",
   "metadata": {},
   "source": [
    "#### 事例\n",
    "\n",
    "2次元の実数ベクトル空間$\\mathbb{R}^2$において，次の2つの線形部分空間を考えます．\n",
    "\n",
    "${\\bf W}_1 = \\left\\{ {\\bf v} \\mid {\\bf v}= t\\left(\\begin{array}{c} 1 \\\\ 0 \\end{array}\\right), \\, t \\in \\mathbb{R} \\right\\}$, \n",
    "${\\bf W}_2 = \\left\\{ {\\bf v} \\mid {\\bf v}= t\\left(\\begin{array}{c} 0 \\\\ 1 \\end{array}\\right), \\, t \\in \\mathbb{R} \\right\\}$\n",
    "\n",
    "このとき，\n",
    "${\\bf x}= \\left(\\begin{array}{c} 1 \\\\ 0 \\end{array}\\right)$, \n",
    "${\\bf y}= \\left(\\begin{array}{c} 0 \\\\ 1 \\end{array}\\right)$\n",
    "は，ともに${\\bf W}_1 \\cup {\\bf W}_2$に含まれています．\n",
    "\n",
    "ところが，その和 ${\\bf x}+{\\bf y}= \\left(\\begin{array}{c} 1 \\\\ 1 \\end{array}\\right)$は${\\bf W}_1 \\cup {\\bf W}_2$に含まれていません．\n"
   ]
  },
  {
   "cell_type": "markdown",
   "metadata": {},
   "source": [
    "*****\n",
    "## 部分空間の和集合\n",
    "\n",
    "${\\bf V}$をベクトル空間とし，${\\bf W}_1$および${\\bf W}_2$をその線形部分空間とする．<br>\n",
    "このとき，${\\bf W}_1$と${\\bf W}_2$の和集合${\\bf W}_1 + {\\bf W}_2$を${\\bf W}_1$と${\\bf W}_2$の任意の要素から線形結合で生成される集合として定義する．\n",
    "\n",
    "> ${\\bf W}_1+{\\bf W}_2 = \\{ {\\bf v}_1+{\\bf v}_2 \\mid {\\bf v}_1 \\in {\\bf W}_1 ,\\, {\\bf v}_2 \\in {\\bf W}_2 \\}$\n",
    "\n",
    "このとき，${\\bf W}_1$と${\\bf W}_2$の<font color=blue>和集合${\\bf W}_1 + {\\bf W}_2$も${\\bf V}$の部分集合になる</font>．"
   ]
  },
  {
   "cell_type": "markdown",
   "metadata": {},
   "source": [
    "#### 証明\n",
    "\n",
    "${\\bf x},{\\bf y} \\in {\\bf W}_1 + {\\bf W}_2$とすると定義により，\n",
    "${\\bf x}_1, {\\bf y}_1 \\in {\\bf W}_1$および${\\bf x}_2, {\\bf y}_2 \\in {\\bf W}_2$があって，\n",
    "${\\bf x} = {\\bf x}_1 + {\\bf x}_2$ および ${\\bf y} ={\\bf y}_1 + {\\bf y}_2$となります．\n",
    "\n",
    "そこで，\n",
    "${\\bf x}+{\\bf y} = ({\\bf x}_1 + {\\bf x}_2) + ({\\bf y}_1 + {\\bf y}_2) = ({\\bf x}_1 + {\\bf y}_1) + ({\\bf x}_2 + {\\bf y}_2) $\n",
    "であり，\n",
    "${\\bf x}_1 + {\\bf y}_1 \\in {\\bf W}_1$\n",
    "かつ\n",
    "${\\bf x}_2 + {\\bf y}_2 \\in {\\bf W}_2$\n",
    "である．\n",
    "\n",
    "したがって，${\\bf x}+{\\bf y} \\in {\\bf W}_1+{\\bf W}_2$が成り立ちます．"
   ]
  },
  {
   "cell_type": "markdown",
   "metadata": {},
   "source": [
    "*****\n",
    "## 部分空間の包含関係\n",
    "\n",
    "ベクトル空間${\\bf V}$の線形部分空間を${\\bf W}_1$および${\\bf W}_2$としたとき，次の包含関係が成立します．\n",
    "\n",
    "> $\\{ {\\bf 0} \\} \\subset ({\\bf W}_1{\\cap}{\\bf W}_2) \\subset {\\bf W}_i \\subset ({\\bf W}_1+{\\bf W}_2) \\subset {\\bf V}$"
   ]
  },
  {
   "cell_type": "markdown",
   "metadata": {},
   "source": [
    "*****\n",
    "## 部分空間の次元\n",
    "\n",
    "ベクトル空間${\\bf V}$の線形部分空間${\\bf W}_1$と${\\bf W}_2$の次元について，次の式が成り立ちます．\n",
    "\n",
    "> $\\text{dim}{\\bf W}_1 + \\text{dim}{\\bf W}_2 = \\text{dim}({\\bf W}_1+{\\bf W}_2) + \\text{dim}({\\bf W}_1{\\cap}{\\bf W}_2)$"
   ]
  },
  {
   "cell_type": "markdown",
   "metadata": {},
   "source": [
    "#### 証明\n",
    "\n",
    "<font color=blue>$\\text{dim}({\\bf W}_1{\\cap}{\\bf W}_2) = r$</font>とすると，r個の基底$\\{ {\\bf c}_1,\\cdots,{\\bf c}_r \\}$が存在します．\n",
    "\n",
    "$({\\bf W}_1{\\cap}{\\bf W}_2) \\subset {\\bf W}_1$\n",
    "であるので，<font color=blue>$\\text{dim}{\\bf W}_1 = r+s$</font>となる非負の整数 s があり，${\\bf W}_1$の基底を\n",
    "$\\{ {\\bf c}_1,\\cdots,{\\bf c}_r,{\\bf a}_1,\\cdots,{\\bf a}_s \\}$\n",
    "とすることができます．\n",
    "\n",
    "同様に，\n",
    "$({\\bf W}_1{\\cap}{\\bf W}_2) \\subset {\\bf W}_2$\n",
    "であるので，<font color=blue>$\\text{dim}{\\bf W}_2 = r+t$</font>となる非負の整数 t があり，${\\bf W}_2$の基底を\n",
    "$\\{ {\\bf c}_1,\\cdots,{\\bf c}_r,{\\bf b}_1,\\cdots,{\\bf b}_t \\}$\n",
    "とすることができます．\n",
    "\n",
    "${\\bf W}_1$の基底と${\\bf W}_2$の基底を合わせれば，線形部分空間${\\bf W}_1+{\\bf W}_2$を構成することができます．\n",
    "しかし，基底$\\{ {\\bf c}_1,\\cdots,{\\bf c}_r \\}$は${\\bf W}_1$と${\\bf W}_2$で重複するので，\n",
    "${\\bf W}_1+{\\bf W}_2$の基底は，\n",
    "$\\{ {\\bf c}_1,\\cdots,{\\bf c}_r,{\\bf a}_1,\\cdots,{\\bf a}_s,{\\bf b}_1,\\cdots,{\\bf b}_t \\}$\n",
    "となります．\n",
    "よって，<font color=blue>$\\text{dim}({\\bf W}_1+{\\bf W}_2)=r+s+t$</font>となります．\n",
    "\n",
    "この説明の中の青字の次元により，\n",
    "\n",
    "$\\begin{eqnarray}\n",
    "\\text{dim}({\\bf W}_1+{\\bf W}_2) + \\text{dim}({\\bf W}_1{\\cap}{\\bf W}_2) \n",
    "&=&\n",
    "(r+s+t)+r \\\\\n",
    "&=&\n",
    "(r+s)+(r+t) \\\\\n",
    "&=&\n",
    "\\text{dim}{\\bf W}_1 + \\text{dim}{\\bf W}_2\n",
    "\\end{eqnarray}$\n",
    "\n",
    "となります．"
   ]
  },
  {
   "cell_type": "markdown",
   "metadata": {},
   "source": [
    "*****"
   ]
  }
 ],
 "metadata": {
  "kernelspec": {
   "display_name": "Python 3",
   "language": "python",
   "name": "python3"
  },
  "language_info": {
   "codemirror_mode": {
    "name": "ipython",
    "version": 3
   },
   "file_extension": ".py",
   "mimetype": "text/x-python",
   "name": "python",
   "nbconvert_exporter": "python",
   "pygments_lexer": "ipython3",
   "version": "3.6.1"
  }
 },
 "nbformat": 4,
 "nbformat_minor": 2
}
