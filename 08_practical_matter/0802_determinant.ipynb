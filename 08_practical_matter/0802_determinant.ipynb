{
 "cells": [
  {
   "cell_type": "markdown",
   "metadata": {},
   "source": [
    "# 行列の正則性\n",
    "\n",
    "一般のn次正方行列$\\bf A$が正則であれば，その行列を係数行列にした方程式${\\bf Ax}={\\bf b}$は解くことができます．\n",
    "そして，Gaussの消去法によるLU分解の過程で係数行列のランクが求まり，$\\text{Rank}{\\bf A} = n$であれば係数行列は正則でした．\n",
    "\n",
    "n次正方行列が正則であるということは，幾つかの別な条件で表すことができます．\n",
    "まずは，それらを列記します．\n",
    "\n",
    "- $\\text{Rank}{\\bf A} = n$\n",
    "- 行列式がゼロでない\n",
    "- 逆行列が存在する\n",
    "\n",
    "ランクについては既に学習済みなので，ここでは行列式と逆行列について学習します．"
   ]
  },
  {
   "cell_type": "markdown",
   "metadata": {},
   "source": [
    "*****\n",
    "## 行列式\n",
    " \n",
    "2つのベクトル${\\bf u},{\\bf v}$を2辺とする平行四辺形を考えたとき，その平行四辺形の面積を$S({\\bf u},{\\bf v})$とします．\n",
    "ただし，この面積は符号付きの面積とします．\n",
    "\n",
    "このベクトルを行列$\\bf A$による一次変換をしたとき，変換後のベクトル${\\bf Au},{\\bf Av}$を2辺とする平行四辺形の面積$S({\\bf Au},{\\bf Av})$と元の面積の比率を考えます．この比率と<font color=blue>行列式</font>と言い，<font color=blue>$\\text{det}{\\bf A}$</font>あるいは<font color=blue>$|{\\bf A}|$</font>と表します．\n",
    "\n",
    "> $\\displaystyle \\text{det}{\\bf A} = |{\\bf A}| = \\frac{S({\\bf Au},{\\bf Av})}{S({\\bf u},{\\bf v})}$\n",
    "\n",
    "ただし，$\\bf u$と$\\bf v$は線形独立とします．\n",
    "なぜならば，$\\bf u$と$\\bf v$が線形従属ならば$S({\\bf u},{\\bf v})=0$となってしまいます．\n",
    "\n",
    "符号付き面積は負になることもあるので，行列式も負になる可能性があります．\n",
    "例えば，一次変換が$\\bf u$と$\\bf v$を入替える変換だと面積の絶対値は変わりませんが面の向きが逆になるので行列式は$-1$になります．"
   ]
  },
  {
   "cell_type": "markdown",
   "metadata": {},
   "source": [
    "### 2次の行列式\n",
    "\n",
    "2次元ベクトル空間上の線形変換を表す2次正方行列を\n",
    "${\\bf A} =\n",
    "\\left(\\begin{array}{c}\n",
    "a_{11} & a_{12} \\\\\n",
    "a_{21} & a_{22} \\\\\n",
    "\\end{array}\\right)$\n",
    "としたとき，この行列式は，\n",
    "\n",
    "> $\\displaystyle \\text{det}{\\bf A} = |{\\bf A}| = a_{11}a_{22}-a_{12}a_{21}$\n",
    "\n",
    "となります．"
   ]
  },
  {
   "cell_type": "markdown",
   "metadata": {},
   "source": [
    "##### 説明\n",
    "\n",
    "2つのベクトルを\n",
    "${\\bf u} = \\left(\\begin{array}{c} u_1 \\\\ u_2 \\\\ \\end{array}\\right)$, \n",
    "${\\bf v} = \\left(\\begin{array}{c} v_1 \\\\ v_2 \\\\ \\end{array}\\right)$ \n",
    "とすると，\n",
    "\n",
    "> $S({\\bf u},{\\bf v}) = u_1v_2 - u_2v_1$\n",
    "\n",
    "です．\n",
    "\n",
    "${\\bf u},{\\bf v}$を行列$\\bf A$で変換すると\n",
    "${\\bf Au} = \\left(\\begin{array}{c} a_{11}u_1+a_{12}u_2 \\\\ a_{21}u_1+a_{22}u_2 \\\\ \\end{array}\\right)$, \n",
    "${\\bf Av} = \\left(\\begin{array}{c} a_{11}v_1+a_{12}v_2 \\\\ a_{21}v_1+a_{22}v_2 \\\\ \\end{array}\\right)$ \n",
    "となります．\n",
    "\n",
    "したがって，この符号付き面積を計算すると次のようになります．\n",
    "\n",
    "$\\begin{eqnarray}\n",
    "S({\\bf Au},{\\bf Av})\n",
    "&=&\n",
    "(a_{11}u_1+a_{12}u_2)(a_{21}v_1+a_{22}v_2) - (a_{21}u_1+a_{22}u_2)(a_{11}v_1+a_{12}v_2) \\\\\n",
    "&=&\n",
    "  a_{11}a_{12}u_1v_1 + a_{11}a_{22}u_1v_2 + a_{12}a_{21}u_2v_1 + a_{12}a_{22}u_2v_2\n",
    "- a_{21}a_{11}u_1v_1 - a_{21}a_{12}u_1v_2 - a_{22}a_{11}u_2v_1 - a_{22}a_{12}u_2v_2 \\\\\n",
    "&=&\n",
    "a_{11}a_{22}(u_1v_2-u_2v_1) + a_{12}a_{21}(u_2v_1-u_1v_2) \\\\\n",
    "&=&\n",
    "(a_{11}a_{22}-a_{12}a_{21})(u_1v_2-u_2v_1) \\\\\n",
    "&=&\n",
    "S({\\bf u},{\\bf v})(u_1v_2-u_2v_1) \\\\\n",
    "\\end{eqnarray}$\n",
    "\n",
    "が求まります．"
   ]
  },
  {
   "cell_type": "markdown",
   "metadata": {},
   "source": [
    "### 余因子\n",
    "\n",
    "n次行列$\\bf A$からi行とj列を取り除いた行列を${\\bf A}_{ij}$とします．\n",
    "この行列の行列式$|{\\bf A}_{ij}|$に$(-1)^{i+j}$を掛けたものを<font color=blue>$(i,j)$余因子</font>と言い，$\\tilde{\\bf A}_{ij}$と書きます．\n",
    "\n",
    "> $\\tilde{\\bf A}_{ij} = (-1)^{i+j}|{\\bf A}_{ij}|$"
   ]
  },
  {
   "cell_type": "markdown",
   "metadata": {},
   "source": [
    "### 行列式の余因子展開\n",
    "\n",
    "n次の行列式について，余因子を利用することによってn-1次の行列式に展開することができます．これを行列式の余因子展開と言います．\n",
    "\n",
    "> $\\displaystyle \\text{det}{\\bf A} = |{\\bf A}| = \\sum_{k=1}^{n}a_{lk}\\tilde{\\bf A}_{lk}$\n",
    "\n",
    "ここで，添え字の$l$は展開する行であり，$1 \\leq l \\leq n$の値です．\n",
    "\n",
    "上の展開式は行で展開しましたが，列による展開もできます．\n",
    "\n",
    "> $\\displaystyle \\text{det}{\\bf A} = |{\\bf A}| = \\sum_{k=1}^{n}a_{kl}\\tilde{\\bf A}_{kl}$"
   ]
  },
  {
   "cell_type": "markdown",
   "metadata": {},
   "source": [
    "### 3次の行列式\n",
    "\n",
    "余因子展開を使って3次の行列式を求めます．\n",
    "まず，3次の行列を\n",
    "${\\bf A} =\n",
    "\\left(\\begin{array}{c}\n",
    "a_{11} & a_{12} & a_{13} \\\\\n",
    "a_{21} & a_{22} & a_{23} \\\\\n",
    "a_{31} & a_{32} & a_{33} \\\\\n",
    "\\end{array}\\right)$\n",
    "とします．\n",
    "\n",
    "この行列についての行列式を1行目で余因子展開します．\n",
    "\n",
    "$\\begin{eqnarray}\n",
    "\\text{det}{\\bf A} = |{\\bf A}| &=& \n",
    "a_{11}\\tilde{\\bf A}_{11}+ a_{12}\\tilde{\\bf A}_{12} + a_{13}\\tilde{\\bf A}_{13} \\\\\n",
    "&=&\n",
    "a_{11}(-1)^{1+1}|{\\bf A}_{11}| + a_{12}(-1)^{1+2}|{\\bf A}_{12}| + a_{13}(-1)^{1+3}|{\\bf A}_{13}| \\\\\n",
    "&=&\n",
    "a_{11}\n",
    "\\left| \\begin{array}{c}\n",
    "a_{22} & a_{23} \\\\\n",
    "a_{32} & a_{33} \\\\\n",
    "\\end{array} \\right|\n",
    "-a_{12}\n",
    "\\left| \\begin{array}{c}\n",
    "a_{21} & a_{23} \\\\\n",
    "a_{31} & a_{33} \\\\\n",
    "\\end{array} \\right|\n",
    "+a_{13}\n",
    "\\left| \\begin{array}{c}\n",
    "a_{21} & a_{22} \\\\\n",
    "a_{31} & a_{32} \\\\\n",
    "\\end{array} \\right|\n",
    "\\end{eqnarray}$"
   ]
  },
  {
   "cell_type": "markdown",
   "metadata": {},
   "source": [
    "既に2次の行列式の公式がありますので，3次の行列式も求まります\n",
    "同様に余因子展開を帰納的に実施することによって高次の行列式も求めることができます．"
   ]
  },
  {
   "cell_type": "markdown",
   "metadata": {},
   "source": [
    "*****\n",
    "## 逆行列を求めるCramerの公式\n",
    "\n",
    "n次正則行列の逆行列を，行列式と余因子を用いて求めることができます．\n",
    "これをCramerの公式と言い，次の式になります．\n",
    "\n",
    "> $ \\displaystyle \n",
    "{\\bf A}^{-1} =\n",
    "\\frac{1}{\\text{det}{\\bf A}}\n",
    "\\left( \\begin{array}{c}\n",
    "\\tilde{\\bf A}_{11} & \\tilde{\\bf A}_{21} & \\cdots & \\tilde{\\bf A}_{n1} \\\\\n",
    "\\tilde{\\bf A}_{12} & \\tilde{\\bf A}_{22} & \\cdots & \\tilde{\\bf A}_{n2} \\\\\n",
    "\\vdots & \\vdots & \\ddots & \\vdots \\\\\n",
    "\\tilde{\\bf A}_{1n} & \\tilde{\\bf A}_{2n} & \\cdots & \\tilde{\\bf A}_{nn} \\\\\n",
    "\\end{array} \\right) $\n",
    "\n",
    "この式において余因子のインデックスが行と列が逆になっていることに注意してください．"
   ]
  },
  {
   "cell_type": "markdown",
   "metadata": {},
   "source": [
    "##### 考察\n",
    "\n",
    "- Cramerの公式において，行列式が分母にあるので，$\\text{det}{\\bf A}=0$の場合だと逆行列が求まらないことが分かります．\n",
    "\n",
    "- 逆行列を理論的に求めるにはCramerの公式で十分ですが，現実的な利用価値は低いです．なぜならば，この公式から分かるように，計算コストが極めて高いアルゴリズムになっています．したがって，小さな行列についてCramerの公式を適用することは問題無いのですが，現実の問題に出現する巨大行列に使用することはありません．"
   ]
  },
  {
   "cell_type": "markdown",
   "metadata": {},
   "source": [
    "*****"
   ]
  }
 ],
 "metadata": {
  "kernelspec": {
   "display_name": "Python 3",
   "language": "python",
   "name": "python3"
  },
  "language_info": {
   "codemirror_mode": {
    "name": "ipython",
    "version": 3
   },
   "file_extension": ".py",
   "mimetype": "text/x-python",
   "name": "python",
   "nbconvert_exporter": "python",
   "pygments_lexer": "ipython3",
   "version": "3.6.1"
  }
 },
 "nbformat": 4,
 "nbformat_minor": 2
}
