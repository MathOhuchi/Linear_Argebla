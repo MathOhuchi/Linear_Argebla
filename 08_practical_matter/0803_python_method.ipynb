{
 "cells": [
  {
   "cell_type": "markdown",
   "metadata": {},
   "source": [
    "# Pythonによる行列解法\n",
    "\n",
    "ここでは，Pythonを使用した行列方程式の解法について見ていきます．\n",
    "例題にあった連立1次方程式を再度取り上げます．\n",
    "\n",
    "$\\left\\{\\begin{array}{l}\n",
    " 2x - 2y - 4z = -6  \\\\ \n",
    " 3x -  y - 4z = -7  \\\\ \n",
    "-2x -  y + 2z = 6   \\\\\n",
    "\\end{array} \\right.$\n",
    "\n",
    "この方程式を行列方程式${\\bf Ax}={\\bf b}$に書き換えると，\n",
    "\n",
    "$ \\left(\\begin{array}{c}\n",
    "2 & -2 & -4 \\\\\n",
    "3 & -1 & -4 \\\\\n",
    "-2 & -1 & 2 \\\\\n",
    "\\end{array}\\right)\n",
    "\\left(\\begin{array}{c}\n",
    "x \\\\ y \\\\ z \\\\\n",
    "\\end{array}\\right)\n",
    "=\n",
    "\\left(\\begin{array}{c}\n",
    "-6 \\\\ -7 \\\\ 6 \\\\\n",
    "\\end{array}\\right) $\n",
    "\n",
    "となります．"
   ]
  },
  {
   "cell_type": "markdown",
   "metadata": {},
   "source": [
    "*****\n",
    "これよりPythonでの解法について説明します．\n",
    "まず，配列計算ライブラリーである<font color=green>NumPy</font>をインポートします．"
   ]
  },
  {
   "cell_type": "code",
   "execution_count": 1,
   "metadata": {
    "collapsed": true
   },
   "outputs": [],
   "source": [
    "import numpy as np"
   ]
  },
  {
   "cell_type": "markdown",
   "metadata": {},
   "source": [
    "係数行列\n",
    "${\\bf A} = \n",
    "\\left(\\begin{array}{c}\n",
    "2 & -2 & -4 \\\\\n",
    "3 & -1 & -4 \\\\\n",
    "-2 & -1 & 2 \\\\\n",
    "\\end{array}\\right)$\n",
    "と，定数ベクトル\n",
    "${\\bf b} =\n",
    "\\left(\\begin{array}{c}\n",
    "-6 \\\\ -7 \\\\ 6 \\\\\n",
    "\\end{array}\\right) $\n",
    "の変数を生成します．"
   ]
  },
  {
   "cell_type": "code",
   "execution_count": 2,
   "metadata": {},
   "outputs": [
    {
     "data": {
      "text/plain": [
       "array([[ 2, -2, -4],\n",
       "       [ 3, -1, -4],\n",
       "       [-2, -1,  2]])"
      ]
     },
     "execution_count": 2,
     "metadata": {},
     "output_type": "execute_result"
    }
   ],
   "source": [
    "A = np.array([[2,-2,-4],[3,-1,-4],[-2,-1,2]])\n",
    "A"
   ]
  },
  {
   "cell_type": "code",
   "execution_count": 3,
   "metadata": {},
   "outputs": [
    {
     "data": {
      "text/plain": [
       "array([-6, -7,  6])"
      ]
     },
     "execution_count": 3,
     "metadata": {},
     "output_type": "execute_result"
    }
   ],
   "source": [
    "b = np.array([-6,-7,6])\n",
    "b"
   ]
  },
  {
   "cell_type": "markdown",
   "metadata": {},
   "source": [
    "行列のランクを求めるには，<font color=green>numpy.linalg.matrix_rank()</font>関数を使用します．"
   ]
  },
  {
   "cell_type": "code",
   "execution_count": 4,
   "metadata": {},
   "outputs": [
    {
     "data": {
      "text/plain": [
       "3"
      ]
     },
     "execution_count": 4,
     "metadata": {},
     "output_type": "execute_result"
    }
   ],
   "source": [
    "np.linalg.matrix_rank(A)"
   ]
  },
  {
   "cell_type": "markdown",
   "metadata": {},
   "source": [
    "行列式を求めるには，<font color=green>numpy.linalg.det()</font>関数を使用します．"
   ]
  },
  {
   "cell_type": "code",
   "execution_count": 5,
   "metadata": {
    "scrolled": true
   },
   "outputs": [
    {
     "data": {
      "text/plain": [
       "4.0000000000000018"
      ]
     },
     "execution_count": 5,
     "metadata": {},
     "output_type": "execute_result"
    }
   ],
   "source": [
    "np.linalg.det(A)"
   ]
  },
  {
   "cell_type": "markdown",
   "metadata": {},
   "source": [
    "逆行列を求めるには，<font color=green>numpy.linalg.inv()</font>関数を使用します．"
   ]
  },
  {
   "cell_type": "code",
   "execution_count": 6,
   "metadata": {},
   "outputs": [
    {
     "data": {
      "text/plain": [
       "array([[-1.5 ,  2.  ,  1.  ],\n",
       "       [ 0.5 , -1.  , -1.  ],\n",
       "       [-1.25,  1.5 ,  1.  ]])"
      ]
     },
     "execution_count": 6,
     "metadata": {},
     "output_type": "execute_result"
    }
   ],
   "source": [
    "np.linalg.inv(A)"
   ]
  },
  {
   "cell_type": "markdown",
   "metadata": {},
   "source": [
    "NumPyの線形代数モジュールによって行列方程式を解くためには，<font color=green>numpy.linalg.solve()</font>関数を使用します．"
   ]
  },
  {
   "cell_type": "code",
   "execution_count": 7,
   "metadata": {},
   "outputs": [
    {
     "data": {
      "text/plain": [
       "array([ 1., -2.,  3.])"
      ]
     },
     "execution_count": 7,
     "metadata": {},
     "output_type": "execute_result"
    }
   ],
   "source": [
    "np.linalg.solve(A,b)"
   ]
  },
  {
   "cell_type": "markdown",
   "metadata": {},
   "source": [
    "#### SciPyライブラリー\n",
    "\n",
    "係数行列のLU分解を用いて行列方程式を解く場合は，scipy.linalgライブラリーが必要となります．\n",
    "scipyライブラリーは，線形代数だけでなく科学技術計算一般に使用されるライブラリーです．その中のlinalgが線形代数用となっています．\n",
    "\n",
    "> <font color=blue>**線形代数をPythonで扱うには，scipy.linalg**</font>\n",
    "\n",
    "このscipy.linalgライブラリーをインポートします．"
   ]
  },
  {
   "cell_type": "code",
   "execution_count": 8,
   "metadata": {
    "collapsed": true
   },
   "outputs": [],
   "source": [
    "import scipy.linalg as linalg"
   ]
  },
  {
   "cell_type": "markdown",
   "metadata": {},
   "source": [
    "係数行列$\\bf A$をLU分解するには，<font color=green>scipy.linalg.lu()</font>関数を用います．\n",
    "この関数の返り値は，行置換行列，下三角行列，上三角行列の順の配列となります．\n",
    "ここでは変数P,L,Uにそれぞれの行列を代入しています．"
   ]
  },
  {
   "cell_type": "code",
   "execution_count": 9,
   "metadata": {
    "collapsed": true
   },
   "outputs": [],
   "source": [
    "P,L,U = linalg.lu(A)"
   ]
  },
  {
   "cell_type": "code",
   "execution_count": 10,
   "metadata": {},
   "outputs": [
    {
     "data": {
      "text/plain": [
       "array([[ 0.,  0.,  1.],\n",
       "       [ 1.,  0.,  0.],\n",
       "       [ 0.,  1.,  0.]])"
      ]
     },
     "execution_count": 10,
     "metadata": {},
     "output_type": "execute_result"
    }
   ],
   "source": [
    "P"
   ]
  },
  {
   "cell_type": "code",
   "execution_count": 11,
   "metadata": {},
   "outputs": [
    {
     "data": {
      "text/plain": [
       "array([[ 1.        ,  0.        ,  0.        ],\n",
       "       [-0.66666667,  1.        ,  0.        ],\n",
       "       [ 0.66666667,  0.8       ,  1.        ]])"
      ]
     },
     "execution_count": 11,
     "metadata": {},
     "output_type": "execute_result"
    }
   ],
   "source": [
    "L"
   ]
  },
  {
   "cell_type": "code",
   "execution_count": 12,
   "metadata": {
    "scrolled": true
   },
   "outputs": [
    {
     "data": {
      "text/plain": [
       "array([[ 3.        , -1.        , -4.        ],\n",
       "       [ 0.        , -1.66666667, -0.66666667],\n",
       "       [ 0.        ,  0.        , -0.8       ]])"
      ]
     },
     "execution_count": 12,
     "metadata": {},
     "output_type": "execute_result"
    }
   ],
   "source": [
    "U"
   ]
  },
  {
   "cell_type": "markdown",
   "metadata": {},
   "source": [
    "LU分解の結果を利用して異なる定数ベクトルの解を得るためには，<font color=green>scipy.linalg.lu_factor()</font>関数と<font color=green>scipy.linalg.lu_solve()</font>関数を組み合わせて使用します．"
   ]
  },
  {
   "cell_type": "code",
   "execution_count": 13,
   "metadata": {},
   "outputs": [
    {
     "data": {
      "text/plain": [
       "(array([[ 3.        , -1.        , -4.        ],\n",
       "        [-0.66666667, -1.66666667, -0.66666667],\n",
       "        [ 0.66666667,  0.8       , -0.8       ]]),\n",
       " array([1, 2, 2], dtype=int32))"
      ]
     },
     "execution_count": 13,
     "metadata": {},
     "output_type": "execute_result"
    }
   ],
   "source": [
    "LU = linalg.lu_factor(A)\n",
    "LU"
   ]
  },
  {
   "cell_type": "markdown",
   "metadata": {},
   "source": [
    "scipy.linalg.lu_factor()関数の出力はLU分解によって求めた行列${\\bf P},{\\bf L},{\\bf U}$の値をコンパクトに保有したものです．"
   ]
  },
  {
   "cell_type": "code",
   "execution_count": 14,
   "metadata": {},
   "outputs": [
    {
     "data": {
      "text/plain": [
       "array([ 1., -2.,  3.])"
      ]
     },
     "execution_count": 14,
     "metadata": {},
     "output_type": "execute_result"
    }
   ],
   "source": [
    "linalg.lu_solve(LU,b)"
   ]
  },
  {
   "cell_type": "markdown",
   "metadata": {},
   "source": [
    "*****\n",
    "## ツールに使われない\n",
    "\n",
    "もし，連立方程式をPythonで解きたいだけならば，ここに掲載したライブラリーの関数を覚えるだけで済みます．\n",
    "そして，理論を知る必要が無いと思うのなら，たったこれだけです．\n",
    "しかし，それは「ツールを使える」ということではなく「ツールに使われる」ということになります．\n",
    "そのアプローチは創造性の放棄でしかありません．\n",
    "使われるだけの作業はいずれAIに取って代わられます．\n",
    "\n",
    "ツールに使われないためにも，理論をしっかり身に付けましょう．"
   ]
  }
 ],
 "metadata": {
  "kernelspec": {
   "display_name": "Python 3",
   "language": "python",
   "name": "python3"
  },
  "language_info": {
   "codemirror_mode": {
    "name": "ipython",
    "version": 3
   },
   "file_extension": ".py",
   "mimetype": "text/x-python",
   "name": "python",
   "nbconvert_exporter": "python",
   "pygments_lexer": "ipython3",
   "version": "3.6.1"
  }
 },
 "nbformat": 4,
 "nbformat_minor": 2
}
