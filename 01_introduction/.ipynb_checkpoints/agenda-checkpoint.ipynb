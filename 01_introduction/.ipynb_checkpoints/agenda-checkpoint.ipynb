{
 "cells": [
  {
   "cell_type": "markdown",
   "metadata": {},
   "source": [
    "線形代数\n",
    "\n",
    "1. 連立1次方程式\n",
    " - 問題の定式化\n",
    " - Gauss-Jordanの消去法\n",
    " - 幾何学的解釈\n",
    "- ベクトルと行列\n",
    " - ベクトルとそのPythonによる取扱い\n",
    " - 行列とそのPythonによる取扱い\n",
    " - 行列の積\n",
    "- 数学の基礎\n",
    " - 集合論\n",
    " - 論理\n",
    " - 写像\n",
    " - 二項演算\n",
    " - 群論\n",
    "- ベクトル空間\n",
    " - 基底\n",
    " - 部分空間\n",
    " - 線形写像とその行列表現\n",
    "- 解が一意的に存在する連立方程式の現代的解法\n",
    " - Gaussの消去法\n",
    " - LU分解\n",
    " - PA_LU分解\n",
    "- 解が無限に存在する連立方程式の現代的解法\n",
    " - 階段行列とLU分解\n",
    " - 線形写像の核\n",
    " - 一般行列のPA_LDU分解\n",
    " - Pythonによる解法\n",
    "- 内積\n",
    " - ユークリッド空間\n",
    " - ピタゴラスの定理と直交性\n",
    " - 内積と転置行列\n",
    " - 射影\n",
    " - ユニタリ空間\n",
    " - グラム・シュミットの正規直交化法\n",
    "- 解が存在しない連立方程式の近似解法\n",
    " - 最小2乗法と射影\n",
    " - 回帰分析\n",
    "- 固有値と固有ベクトル\n",
    " - 線形変換とベクトル場\n",
    " - 固有値問題の解法\n",
    " - 複素共役と随伴行列\n",
    " - エルミート行列のスペクトル分解\n",
    "- 行列の対角化\n",
    " - 相似と対角化\n",
    " - 正規行列\n",
    " - フィボナッチ数列\n",
    " - マルコフ過程\n",
    " - 主成分分析"
   ]
  },
  {
   "cell_type": "markdown",
   "metadata": {},
   "source": []
  }
 ],
 "metadata": {
  "kernelspec": {
   "display_name": "Python 3",
   "language": "python",
   "name": "python3"
  },
  "language_info": {
   "codemirror_mode": {
    "name": "ipython",
    "version": 3
   },
   "file_extension": ".py",
   "mimetype": "text/x-python",
   "name": "python",
   "nbconvert_exporter": "python",
   "pygments_lexer": "ipython3",
   "version": "3.6.1"
  }
 },
 "nbformat": 4,
 "nbformat_minor": 2
}
