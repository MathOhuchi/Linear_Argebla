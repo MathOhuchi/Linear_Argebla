{
 "cells": [
  {
   "cell_type": "markdown",
   "metadata": {},
   "source": [
    "# ベクトル空間の構造\n",
    "\n",
    "ベクトル空間は，全ての要素について加法とスカラー倍が行えるので，その演算の助けを借りて，ベクトル空間の任意の要素を一部の要素によって表現することができます．\n",
    "ここでは，その仕組みについて説明します．"
   ]
  },
  {
   "cell_type": "markdown",
   "metadata": {},
   "source": [
    "## 線形結合\n",
    "\n",
    "ベクトル空間${\\bf V}$の要素${\\bf a}_1, {\\bf a}_2, \\cdots, {\\bf a}_r$に対して，スカラー$c_1,c_2,\\cdots,c_r$を用いて，\n",
    "\n",
    "> $c_1{\\bf a}_1 + c_2{\\bf a}_2 + \\cdots + c_r{\\bf a}_r$\n",
    "\n",
    "を${\\bf a}_1, {\\bf a}_2, \\cdots, {\\bf a}_r$の<font color=blue>線形結合</font>と言います．"
   ]
  },
  {
   "cell_type": "markdown",
   "metadata": {},
   "source": [
    "## 線形関係\n",
    "\n",
    "${\\bf a}_1,{\\bf a}_2,\\cdots,{\\bf a}_r \\in {\\bf V}$がスカラー$c_1,c_2,\\cdots,c_r$によって，\n",
    "\n",
    "> $c_1{\\bf a}_1 + c_2{\\bf a}_2 + \\cdots + c_r{\\bf a}_r = {\\bf 0}$\n",
    "\n",
    "が成り立つとき，これを<font color=blue>線形関係</font>と言います．\n",
    "ここで${\\bf 0}$は，零ベクトルです．\n",
    "\n",
    "この線形関係は，$c_1=c_2=\\cdots=c_r=0$ のときには必ず成立します．これを自明な線形関係と言います．\n",
    "\n",
    "${\\bf a}_1,{\\bf a}_2,\\cdots,{\\bf a}_r$のあいだに，自明でない線形関係が存在するとき，${\\bf a}_1,{\\bf a}_2,\\cdots,{\\bf a}_r$は<font color=blue>線形従属</font>と言います．\n",
    "すなわち，$c_1,c_2,\\cdots,c_r$の2つ以上のどれかの値がゼロでない場合に線形従属となります．\n",
    "\n",
    "> 線形従属：$\\displaystyle \\sum_{i=1}^{r} c_i{\\bf a}_i = {\\bf 0} \\Rightarrow {\\exists}k, c_k \\ne 0 $\n",
    "\n",
    "${\\bf a}_1,{\\bf a}_2,\\cdots,{\\bf a}_r$のあいだに，自明でない線形関係が存在しないとき，${\\bf a}_1,{\\bf a}_2,\\cdots,{\\bf a}_r$は<font color=blue>線形独立</font>と言います．\n",
    "\n",
    "> 線形独立：$\\displaystyle \\sum_{i=1}^{r} c_i{\\bf a}_i = {\\bf 0} \\Rightarrow c_i=0 \\,(i=1,\\cdots,r)$\n"
   ]
  },
  {
   "cell_type": "markdown",
   "metadata": {},
   "source": [
    "## 基底の定義\n",
    "\n",
    "ベクトル空間${\\bf V}$上の要素の組$\\{{\\bf b}_1,{\\bf b}_2,\\cdots,{\\bf b}_r\\}$が次の条件を満たすとき，ベクトル空間${\\bf V}$の<font color=blue>基底</font>と言います．\n",
    "\n",
    "- ${\\bf b}_1,{\\bf b}_2,\\cdots,{\\bf b}_r$が線形独立である\n",
    "- ベクトル空間の任意の要素が${\\bf b}_1,{\\bf b}_2,\\cdots,{\\bf b}_r$の線形結合で表させる\n",
    "\n",
    "すなわち任意の要素${\\bf x} \\in {\\bf V}$は，$r$個のスカラーの組$(x_1,x_2,\\cdots,x_r)$があって，\n",
    "${\\bf x} = x_1{\\bf b}_1 + x_2{\\bf b}_2 + \\cdots + x_r{\\bf b}_r$と一意的に表すことができます．\n",
    "\n",
    "ここで，基底の個数$r$をベクトル空間${\\bf V}$の<font color=blue>次元</font>と言い，<font color=blue>$\\text{dim}{\\bf V}$</font>と書きます．\n",
    "ベクトル空間の次元は，基底の取り方に依存しない不変量になります．<br>\n",
    "ちなみに，次元は有限の場合だけでなく，無限の場合もあります．\n",
    "ただし，線形代数では有限次元に限定します．"
   ]
  },
  {
   "cell_type": "markdown",
   "metadata": {},
   "source": [
    "*****\n",
    "## 3次元実数ベクトル空間の基底\n",
    "\n",
    "ここでは具体的に示すために，3次元実数ベクトル空間$\\mathbb{R}^3$について説明します．  \n",
    "まず，3個の特別なベクトル${\\bf e}_1,{\\bf e}_2,{\\bf e}_3$を定義します．\n",
    "\n",
    "> \n",
    "${\\bf e}_1 = \\left(\\begin{array}{c} 1 \\\\ 0 \\\\ 0 \\end{array} \\right)$, \n",
    "${\\bf e}_2 = \\left(\\begin{array}{c} 0 \\\\ 1 \\\\ 0 \\end{array} \\right)$, \n",
    "${\\bf e}_3 = \\left(\\begin{array}{c} 0 \\\\ 0 \\\\ 1 \\end{array} \\right)$\n",
    "\n",
    "3次元実数ベクトル空間の要素は，これらのベクトルを使って表すことができます．  \n",
    "任意の要素${\\bf x} = \\left(\\begin{array}{c} x_1 \\\\ x_2 \\\\ x_3\\end{array} \\right) \\in \\mathbb{R}^3$は，\n",
    "\n",
    ">  \n",
    "${\\bf x} = \n",
    "x_1 \\left(\\begin{array}{c} 1 \\\\ 0 \\\\ 0 \\end{array} \\right) +\n",
    "x_2 \\left(\\begin{array}{c} 0 \\\\ 1 \\\\ 0 \\end{array} \\right) +\n",
    "x_3 \\left(\\begin{array}{c} 0 \\\\ 0 \\\\ 1 \\end{array} \\right) $\n",
    "\n",
    "となります．\n",
    "しかも，この表しかたは一意的です．\n",
    "\n",
    "また，${\\bf e}_1,{\\bf e}_2,{\\bf e}_3$の間に線形関係を仮定して，\n",
    "$\n",
    "c_1 \\left(\\begin{array}{c} 1 \\\\ 0 \\\\ 0  \\end{array} \\right) +\n",
    "c_2 \\left(\\begin{array}{c} 0 \\\\ 1 \\\\ 0  \\end{array} \\right) +\n",
    "c_3 \\left(\\begin{array}{c} 0 \\\\ 0 \\\\ 1  \\end{array} \\right) =\n",
    "{\\bf 0}$\n",
    "とすると，\n",
    "$ \\left(\\begin{array}{c} c_1 \\\\ c_2 \\\\ c_3 \\end{array} \\right) = \\left(\\begin{array}{c} 0 \\\\ 0 \\\\ 0 \\end{array} \\right) $\n",
    "となるので，${\\bf e}_1,{\\bf e}_2,{\\bf e}_3$は線形独立となります．\n",
    "\n",
    "したがって，$\\{ {\\bf e}_1,{\\bf e}_2,{\\bf e}_3 \\}$は3次元実数ベクトル空間の基底となり，かつ最も自然な基底でもあります．"
   ]
  },
  {
   "cell_type": "markdown",
   "metadata": {},
   "source": [
    "#### 3次元実数ベクトル空間の別な基底\n",
    "\n",
    "3次元実数ベクトル空間において，次の要素の組も基底であることを示します．\n",
    "\n",
    "> \n",
    "${\\bf b}_1 = \\left(\\begin{array}{c} 1 \\\\ 1 \\\\ 0 \\end{array} \\right)$, \n",
    "${\\bf b}_2 = \\left(\\begin{array}{c} 1 \\\\ 0 \\\\ 1 \\end{array} \\right)$, \n",
    "${\\bf b}_3 = \\left(\\begin{array}{c} 0 \\\\ 1 \\\\ 1 \\end{array} \\right)$\n",
    "\n",
    "まず，${\\bf b}_1,{\\bf b}_2,{\\bf b}_3$が線形独立であることを確認します．\n",
    "$c_1{\\bf b}_1+c_2{\\bf b}_2+c_3{\\bf f}_3 = {\\bf 0}$とすると，\n",
    "$ \\left(\\begin{array}{c} c_1+c_2 \\\\ c_1+c_3 \\\\ c_2+c_3 \\end{array} \\right) = \\left(\\begin{array}{c} 0 \\\\ 0 \\\\ 0 \\end{array} \\right) $\n",
    "となります．\n",
    "\n",
    "この1行目から2行目を引くと，$c_2-c_3=0$となるので，この式と3行目の式を足せば$c_2=0$となり，また，$c_2=c_3$なので$c_3=0$も得られます．\n",
    "また1行目から$c_1=-c_2$なので，$c_1=0$も得られます．\n",
    "\n",
    "つぎに，任意の要素${\\bf x} = \\left(\\begin{array}{c} x_1 \\\\ x_2 \\\\ x_3\\end{array} \\right) \\in \\mathbb{R}^3$に対して，\n",
    "\n",
    "$\\frac{1}{2}(x_1+x_2-x_3){\\bf b}_1 + \\frac{1}{2}(x_1-x_2+x_3){\\bf b}_2 + \\frac{1}{2}(-x_1+x_2+x_3){\\bf b}_3 $\n",
    "$= \\left(\\begin{array}{c} \\frac{1}{2}(x_1+x_2-x_3) \\\\ \\frac{1}{2}(x_1+x_2-x_3) \\\\ 0 \\end{array}\\right) +\n",
    "\\left(\\begin{array}{c} \\frac{1}{2}(x_1-x_2+x_3) \\\\ 0 \\\\ \\frac{1}{2}(x_1-x_2+x_3) \\end{array}\\right) +\n",
    "\\left(\\begin{array}{c} 0 \\\\ \\frac{1}{2}(-x_1+x_2+x_3) \\\\ \\frac{1}{2}(-x_1+x_2+x_3) \\end{array}\\right)\n",
    "= \\left(\\begin{array}{c} x_1 \\\\ x_2 \\\\ x_3\\end{array} \\right) $\n",
    "\n",
    "と${\\bf b}_1,{\\bf b}_2,{\\bf b}_3$の線形結合で表すことができます．\n",
    "したがって$\\{ {\\bf b}_1,{\\bf b}_2,{\\bf b}_3 \\}$も3次元実数ベクトル空間の基底となります．"
   ]
  },
  {
   "cell_type": "markdown",
   "metadata": {},
   "source": [
    "この例のように，零ベクトルだけのベクトル空間でなければ，ベクトル空間の基底を幾らでも構成することができます．\n"
   ]
  },
  {
   "cell_type": "markdown",
   "metadata": {},
   "source": [
    "*****\n",
    "## 基底と座標\n",
    "\n",
    "ベクトル空間${\\bf V}$の要素${\\bf x} \\in {\\bf V}$は，基底が定まれば，その基底のの線形結合で表されます．\n",
    "ベクトル空間${\\bf V}$の次元をrとし，その基底を$\\{ {\\bf b}_1,{\\bf b}_2,\\cdots,{\\bf b}_r \\}$とすると，\n",
    "\n",
    "> $\\displaystyle {\\bf x} = \\sum_{i=1}^{r} x_i{\\bf b}_i \n",
    "= \\left(\\begin{array}{c} {\\bf b}_1 & {\\bf b}_2 & \\cdots & {\\bf b}_r \\end{array}\\right) \n",
    "\\left(\\begin{array}{c} x_1 \\\\ x_2 \\\\ \\vdots \\\\ x_r \\end{array}\\right)$\n",
    "\n",
    "となります．\n",
    "ここに現れる列ベクトル $\\left(\\begin{array}{c} x_1 \\\\ x_2 \\\\ \\vdots \\\\ x_r \\end{array}\\right)$を\n",
    "ベクトル${\\bf x}$の基底$\\{ {\\bf b}_1,{\\bf b}_2,\\cdots,{\\bf b}_r \\}$における<font color=blue>座標</font>と言います．\n",
    "座標の値は，採用する基底に依存します．"
   ]
  },
  {
   "cell_type": "markdown",
   "metadata": {},
   "source": [
    "### 座標の例\n",
    "\n",
    "3次元実数ベクトル空間の座標の例として，2種類の基底を導入しましたが，それぞれの基底における座標を確認します．\n",
    "\n",
    "<font color=blue>基底\n",
    "${\\bf b}_1 = \\left(\\begin{array}{c} 1 \\\\ 1 \\\\ 0 \\end{array} \\right)$, \n",
    "${\\bf b}_2 = \\left(\\begin{array}{c} 1 \\\\ 0 \\\\ 1 \\end{array} \\right)$, \n",
    "${\\bf b}_3 = \\left(\\begin{array}{c} 0 \\\\ 1 \\\\ 1 \\end{array} \\right)$ \n",
    "における座標 $\\left(\\begin{array}{c} 2 \\\\ -3 \\\\ 5 \\end{array}\\right)$ </font><br>\n",
    "について，これをベクトルの線形結合で表すと次のように変形することができます．\n",
    "\n",
    "$\\left(\\begin{array}{c} {\\bf b}_1 & {\\bf b}_2 & {\\bf b}_3 \\end{array}\\right)\n",
    "\\left(\\begin{array}{c} 2 \\\\ -3 \\\\ 5 \\end{array}\\right) =\n",
    "2 \\left(\\begin{array}{c} 1 \\\\ 1 \\\\ 0 \\end{array} \\right)\n",
    "-3 \\left(\\begin{array}{c} 1 \\\\ 0 \\\\ 1 \\end{array} \\right) \n",
    "+5 \\left(\\begin{array}{c} 0 \\\\ 1 \\\\ 1 \\end{array} \\right) =\n",
    "\\left(\\begin{array}{c} -1 \\\\ 7 \\\\ 2 \\end{array}\\right) =\n",
    "-1 \\left(\\begin{array}{c} 1 \\\\ 0 \\\\ 0 \\end{array} \\right)\n",
    "+7 \\left(\\begin{array}{c} 0 \\\\ 1 \\\\ 0 \\end{array} \\right) \n",
    "+2 \\left(\\begin{array}{c} 0 \\\\ 0 \\\\ 1 \\end{array} \\right) =\n",
    "\\left(\\begin{array}{c} {\\bf e}_1 & {\\bf e}_2 & {\\bf e}_3 \\end{array}\\right)\n",
    "\\left(\\begin{array}{c} -1 \\\\ 7 \\\\ 2 \\end{array}\\right) $\n",
    "\n",
    "となるので，<br>\n",
    "<font color=blue>基底\n",
    "${\\bf e}_1 = \\left(\\begin{array}{c} 1 \\\\ 0 \\\\ 0 \\end{array} \\right)$, \n",
    "${\\bf e}_2 = \\left(\\begin{array}{c} 0 \\\\ 1 \\\\ 0 \\end{array} \\right)$, \n",
    "${\\bf e}_3 = \\left(\\begin{array}{c} 0 \\\\ 0 \\\\ 1 \\end{array} \\right)$ \n",
    "における座標は $\\left(\\begin{array}{c} -1 \\\\ 7 \\\\ 2 \\end{array}\\right)$ </font><br>\n",
    "となります．"
   ]
  },
  {
   "cell_type": "markdown",
   "metadata": {},
   "source": [
    "*****\n",
    "## 多項式ベクトル空間の例\n",
    "\n",
    "これまで見てきたn次元実数ベクトル空間は，直感的に分かりやすく，2次元や3次元の場合は実際の平面や立体空間と一致します．\n",
    "しかし，ベクトル空間の概念はもっと汎用的であることに馴染むために，ベクトル空間の例にあげた多項式ベクトル空間の基底と座標を提示します．\n"
   ]
  },
  {
   "cell_type": "markdown",
   "metadata": {},
   "source": [
    "例として，1変数の2次多項式を取り上げます．\n",
    "\n",
    "$a_0,a_1,a_2 \\in K$ として変数$x$の多項式は，$a_0+a_1x+a_2x^2$となります．\n",
    "この空間の基底を，\n",
    "${\\bf e}_1 = 1$, \n",
    "${\\bf e}_2 = x$, \n",
    "${\\bf e}_3 = x^2$ \n",
    "とします．\n",
    "すると，基底と座標の関係は次のようになります．\n",
    "\n",
    "> $a_0+a_1x+a_2x^2 = a_1{\\bf e}_1+a_2{\\bf e}_2+a_3{\\bf e}_3 =$\n",
    "$\\left(\\begin{array}{c} {\\bf e}_1 & {\\bf e}_2 & {\\bf e}_3 \\end{array}\\right)\n",
    "\\left(\\begin{array}{c} a_0 \\\\ a_1 \\\\ a_2 \\end{array}\\right) $\n",
    "\n",
    "すなわち，基底 $\\{1,x,x_2\\}$ の座標が $\\left(\\begin{array}{c} a_0 \\\\ a_1 \\\\ a_2 \\end{array}\\right)$ となります．"
   ]
  },
  {
   "cell_type": "markdown",
   "metadata": {},
   "source": [
    "この例における示唆は，ベクトル空間の基底が何であるかは，応用上重要であるが，線形代数の理論上は無視できる対象です．\n",
    "*****"
   ]
  }
 ],
 "metadata": {
  "kernelspec": {
   "display_name": "Python 3",
   "language": "python",
   "name": "python3"
  },
  "language_info": {
   "codemirror_mode": {
    "name": "ipython",
    "version": 3
   },
   "file_extension": ".py",
   "mimetype": "text/x-python",
   "name": "python",
   "nbconvert_exporter": "python",
   "pygments_lexer": "ipython3",
   "version": "3.6.1"
  }
 },
 "nbformat": 4,
 "nbformat_minor": 2
}
