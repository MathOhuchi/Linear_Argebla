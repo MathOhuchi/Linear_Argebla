{
 "cells": [
  {
   "cell_type": "markdown",
   "metadata": {},
   "source": [
    "# 総合演習問題 - 3\n",
    "\n",
    "スポーツチームの選手の能力を測定したデータがあります．\n",
    "\n",
    "| 選手 | 判断力 | 協調力 | 俊敏力 | 技術力 | 持久力 |\n",
    "|:---:|:---:|:---:|:---:|:---:|:---:|:---:|\n",
    "| p01 | 7.08 | 7.82 | 7.21 | 7.23 | 7.00 |\n",
    "| p02 | 8.00 | 8.33 | 6.41 | 6.90 | 6.36 |\n",
    "| p03 | 7.17 | 7.18 | 7.08 | 6.70 | 6.89 |\n",
    "| p04 | 7.56 | 7.34 | 6.38 | 6.45 | 6.11 |\n",
    "| p05 | 6.75 | 6.35 | 6.71 | 7.05 | 6.53 |\n",
    "| p06 | 7.02 | 7.79 | 6.32 | 6.02 | 6.04 |\n",
    "| p07 | 7.96 | 8.02 | 5.87 | 5.75 | 5.36 |\n",
    "| p08 | 7.49 | 7.22 | 5.92 | 6.21 | 5.80 |\n",
    "| p09 | 7.48 | 7.58 | 5.81 | 5.77 | 5.75 |\n",
    "| p10 | 6.45 | 6.21 | 6.82 | 6.37 | 6.20 |\n",
    "| p11 | 6.24 | 7.03 | 5.78 | 6.20 | 5.95 |\n",
    "| p12 | 6.86 | 5.87 | 6.03 | 6.28 | 6.03 |\n",
    "| p13 | 6.16 | 6.96 | 6.18 | 5.84 | 5.77 |\n",
    "| p14 | 6.06 | 6.35 | 5.85 | 6.14 | 5.59 |\n",
    "| p15 | 6.59 | 6.25 | 5.68 | 5.74 | 5.72 |\n",
    "| p16 | 5.49 | 5.62 | 6.39 | 6.10 | 5.96 |\n",
    "| p17 | 6.16 | 6.43 | 5.48 | 5.59 | 5.74 |\n",
    "| p18 | 6.11 | 5.79 | 5.71 | 5.97 | 5.37 |\n",
    "| p19 | 5.92 | 5.97 | 4.69 | 4.83 | 4.65 |\n",
    "| p20 | 4.73 | 5.60 | 4.90 | 5.08 | 4.72 |\n",
    "\n",
    "このデータを主成分の2軸に縮約したデータを，線形代数の対角化理論を用いて求めよ．\n",
    "計算についてはPythonで行ってください．"
   ]
  },
  {
   "cell_type": "markdown",
   "metadata": {},
   "source": [
    "#### ヒント\n",
    "\n",
    "分散共分散行列を求めます．\n",
    "分散共分散行列は，対称行列になっているので，その固有値は正の実数になります．\n",
    "よって，分散共分散行列を対角化することにより，固有値と固有ベクトルを求めます．"
   ]
  },
  {
   "cell_type": "markdown",
   "metadata": {},
   "source": [
    "選手の能力のデータは次の記述をコピーしてご使用ください．\n",
    "\n",
    "```Python\n",
    "competency = np.array([\n",
    "    [7.08,8.00,7.17,7.56,6.75,7.02,7.96,7.49,7.48,6.45,6.24,6.86,6.16,6.06,6.59,5.49,6.16,6.11,5.92,4.73],\n",
    "    [7.82,8.33,7.18,7.34,6.35,7.79,8.02,7.22,7.58,6.21,7.03,5.87,6.96,6.35,6.25,5.62,6.43,5.79,5.97,5.60],\n",
    "    [7.21,6.41,7.08,6.38,6.71,6.32,5.87,5.92,5.81,6.82,5.78,6.03,6.18,5.85,5.68,6.39,5.48,5.71,4.69,4.90],\n",
    "    [7.23,6.90,6.70,6.45,7.05,6.02,5.75,6.21,5.77,6.37,6.20,6.28,5.84,6.14,5.74,6.10,5.59,5.97,4.83,5.08],\n",
    "    [7.00,6.36,6.89,6.11,6.53,6.04,5.36,5.80,5.75,6.20,5.95,6.03,5.77,5.59,5.72,5.96,5.74,5.37,4.65,4.72]])\n",
    "```"
   ]
  },
  {
   "cell_type": "markdown",
   "metadata": {},
   "source": [
    "*****\n",
    "## 解答\n",
    "\n",
    "まず最初にNumPyライブラリーをインポートします．\n",
    "\n",
    "```Python\n",
    "import numpy as np\n",
    "```"
   ]
  },
  {
   "cell_type": "code",
   "execution_count": null,
   "metadata": {
    "collapsed": true
   },
   "outputs": [],
   "source": []
  },
  {
   "cell_type": "markdown",
   "metadata": {},
   "source": [
    "選手の能力のデータをnumpyの配列として定義します．\n",
    "\n",
    "```Python\n",
    "competency = np.array([\n",
    "    [7.08,8.00,7.17,7.56,6.75,7.02,7.96,7.49,7.48,6.45,6.24,6.86,6.16,6.06,6.59,5.49,6.16,6.11,5.92,4.73],\n",
    "    [7.82,8.33,7.18,7.34,6.35,7.79,8.02,7.22,7.58,6.21,7.03,5.87,6.96,6.35,6.25,5.62,6.43,5.79,5.97,5.60],\n",
    "    [7.21,6.41,7.08,6.38,6.71,6.32,5.87,5.92,5.81,6.82,5.78,6.03,6.18,5.85,5.68,6.39,5.48,5.71,4.69,4.90],\n",
    "    [7.23,6.90,6.70,6.45,7.05,6.02,5.75,6.21,5.77,6.37,6.20,6.28,5.84,6.14,5.74,6.10,5.59,5.97,4.83,5.08],\n",
    "    [7.00,6.36,6.89,6.11,6.53,6.04,5.36,5.80,5.75,6.20,5.95,6.03,5.77,5.59,5.72,5.96,5.74,5.37,4.65,4.72]])\n",
    "```"
   ]
  },
  {
   "cell_type": "code",
   "execution_count": null,
   "metadata": {
    "collapsed": true
   },
   "outputs": [],
   "source": []
  },
  {
   "cell_type": "markdown",
   "metadata": {},
   "source": [
    "分散共分散行列をnumpy.cov(competency,bias=True)によって求めます．\n",
    "\n",
    "```Python\n",
    "Cov = np.cov(competency,bias=True)\n",
    "Cov\n",
    "```"
   ]
  },
  {
   "cell_type": "code",
   "execution_count": null,
   "metadata": {},
   "outputs": [],
   "source": []
  },
  {
   "cell_type": "markdown",
   "metadata": {},
   "source": [
    "分散共分散行列の固有値と固有ベクトルをnumpy.linalg.eig()関数によって求めます．\n",
    "\n",
    "```Python\n",
    "eigen_values,eigen_vectors = np.linalg.eig(Cov)\n",
    "```"
   ]
  },
  {
   "cell_type": "code",
   "execution_count": null,
   "metadata": {
    "collapsed": true
   },
   "outputs": [],
   "source": []
  },
  {
   "cell_type": "markdown",
   "metadata": {},
   "source": [
    "固有値を確認します．\n",
    "\n",
    "```Python\n",
    "eigen_values\n",
    "```"
   ]
  },
  {
   "cell_type": "code",
   "execution_count": null,
   "metadata": {},
   "outputs": [],
   "source": []
  },
  {
   "cell_type": "markdown",
   "metadata": {},
   "source": [
    "固有値および寄与率，累積寄与率をまとめると次表になります．\n",
    "固有値の並び順は，偶然ですが降順になっています．\n",
    "\n",
    "|  | 固有値 | 寄与率 | 累積寄与率 | 配列のインデックス |\n",
    "|:---:|:---:|:---:|:---:|:---:|\n",
    "| $\\lambda_1$ | 1.684 | 69.6 % | 69.6 % | 0 |\n",
    "| $\\lambda_2$ | 0.564 | 23.3 % | 92.9 % | 1 |\n",
    "| $\\lambda_3$ | 0.117 |  4.8 % | 97.8 % | 2 |\n",
    "| $\\lambda_4$ | 0.035 |  1.4 % | 99.2 % | 3 |\n",
    "| $\\lambda_5$ | 0.019 |  0.9 % |  100 % | 4 |\n",
    "\n",
    "固有ベクトルを確認します．\n",
    "\n",
    "```Python\n",
    "eigen_vectors\n",
    "```"
   ]
  },
  {
   "cell_type": "code",
   "execution_count": null,
   "metadata": {},
   "outputs": [],
   "source": []
  },
  {
   "cell_type": "markdown",
   "metadata": {},
   "source": [
    "第1主成分である固有ベクトルは，eigen_vectors[:,0]となります．\n",
    "\n",
    "```Python\n",
    "eigen_vectors[:,0]\n",
    "```"
   ]
  },
  {
   "cell_type": "code",
   "execution_count": null,
   "metadata": {},
   "outputs": [],
   "source": []
  },
  {
   "cell_type": "markdown",
   "metadata": {},
   "source": [
    "各選手の第1主成分の値は，eigen_vectors[:,0]とcompetencyの積となります．\n",
    "\n",
    "```Python\n",
    "eigen_vectors[:,0].dot(competency)\n",
    "```"
   ]
  },
  {
   "cell_type": "code",
   "execution_count": null,
   "metadata": {},
   "outputs": [],
   "source": []
  },
  {
   "cell_type": "markdown",
   "metadata": {},
   "source": [
    "第2主成分である固有ベクトルは，eigen_vectors[:,1]となります．\n",
    "\n",
    "```Python\n",
    "eigen_vectors[:,1]\n",
    "```"
   ]
  },
  {
   "cell_type": "code",
   "execution_count": null,
   "metadata": {},
   "outputs": [],
   "source": []
  },
  {
   "cell_type": "markdown",
   "metadata": {},
   "source": [
    "各選手の第2主成分の値は，eigen_vectors[:,1]とcompetencyとの積となります．\n",
    "\n",
    "```Python\n",
    "eigen_vectors[:,1].dot(competency)\n",
    "```"
   ]
  },
  {
   "cell_type": "code",
   "execution_count": null,
   "metadata": {},
   "outputs": [],
   "source": []
  },
  {
   "cell_type": "markdown",
   "metadata": {},
   "source": [
    "各選手の能力データについて，第1主成分と第2主成分によって近似したデータは次式で求められます．\n",
    "\n",
    "細かいことですが，eigen_vectors[:,0]とeigen_vectors[:,0:1]では配列の構造が異なります．\n",
    "このインデックスの使い方を間違えると，プログラムは動かなくなりますので，注意が必要です．\n",
    "\n",
    "```Python\n",
    "eigen_vectors[:,0].dot(competency)*eigen_vectors[:,0:1] + \\\n",
    "eigen_vectors[:,1].dot(competency)*eigen_vectors[:,1:2]\n",
    "```"
   ]
  },
  {
   "cell_type": "code",
   "execution_count": null,
   "metadata": {},
   "outputs": [],
   "source": []
  },
  {
   "cell_type": "markdown",
   "metadata": {},
   "source": [
    "以上で固有値および固有ベクトルを求める方法による主成分分析が完了しました．\n",
    "\n",
    "おまけで，scikit-learnによる解法も追記します．"
   ]
  },
  {
   "cell_type": "markdown",
   "metadata": {},
   "source": [
    "*****\n",
    "## scikit-learnによる解法\n",
    "\n",
    "scikit-learn機械学習パッケージsklearn.decompositionライブラリーにあるPCAモジュールを使用した解法について説明します．\n",
    "\n",
    "まずPCAモジュールをインポートして，PCAオブジェクトを定義します．\n",
    "そして，このオブジェクトに選手の能力データを渡します．このとき，引数の縦横の仕様に注意して，competency.Tを渡します．\n",
    "\n",
    "```Python\n",
    "from sklearn.decomposition import PCA\n",
    "pca = PCA()\n",
    "pca.fit(competency.T)\n",
    "```"
   ]
  },
  {
   "cell_type": "code",
   "execution_count": null,
   "metadata": {},
   "outputs": [],
   "source": []
  },
  {
   "cell_type": "markdown",
   "metadata": {},
   "source": [
    "主成分となる固有値は，pca.explained_variance\\_ に格納されています．\n",
    "\n",
    "```Python\n",
    "pca.explained_variance_\n",
    "```"
   ]
  },
  {
   "cell_type": "code",
   "execution_count": null,
   "metadata": {},
   "outputs": [],
   "source": []
  },
  {
   "cell_type": "markdown",
   "metadata": {},
   "source": [
    "主成分の寄与率については，pca.explained_variance_ratio\\_ に格納されています．\n",
    "\n",
    "```python\n",
    "pca.explained_variance_ratio_\n",
    "```"
   ]
  },
  {
   "cell_type": "code",
   "execution_count": null,
   "metadata": {},
   "outputs": [],
   "source": []
  },
  {
   "cell_type": "markdown",
   "metadata": {},
   "source": [
    "固有ベクトルは，pca.components\\_ に格納されています．\n",
    "固有ベクトルの並び順は，固有値の並び順と同じです．\n",
    "\n",
    "```Pthon\n",
    "pca.components_\n",
    "```"
   ]
  },
  {
   "cell_type": "code",
   "execution_count": null,
   "metadata": {},
   "outputs": [],
   "source": []
  },
  {
   "cell_type": "markdown",
   "metadata": {},
   "source": [
    "各選手の能力データについて，第1主成分と第2主成分によって近似したデータは次式で求められます．\n",
    "\n",
    "この命令文のなかでreshape(5,1)メソッドはnumpyの配列の再配置を行うものです．\n",
    "プログラムによる実践では，このような小技が必要になってきます．\n",
    "\n",
    "```Pyython\n",
    "pca.components_[0].dot(competency)*pca.components_[0].reshape(5,1) + \\\n",
    "pca.components_[1].dot(competency)*pca.components_[1].reshape(5,1)\n",
    "```"
   ]
  },
  {
   "cell_type": "code",
   "execution_count": null,
   "metadata": {},
   "outputs": [],
   "source": []
  },
  {
   "cell_type": "markdown",
   "metadata": {},
   "source": [
    "以上で，scikit-learnのPCAモジュールによる解法を終了します．\n",
    "\n",
    "*****"
   ]
  }
 ],
 "metadata": {
  "kernelspec": {
   "display_name": "Python 3",
   "language": "python",
   "name": "python3"
  },
  "language_info": {
   "codemirror_mode": {
    "name": "ipython",
    "version": 3
   },
   "file_extension": ".py",
   "mimetype": "text/x-python",
   "name": "python",
   "nbconvert_exporter": "python",
   "pygments_lexer": "ipython3",
   "version": "3.6.1"
  }
 },
 "nbformat": 4,
 "nbformat_minor": 2
}
