{
 "cells": [
  {
   "cell_type": "markdown",
   "metadata": {},
   "source": [
    "# 総合演習問題 - 1\n",
    "\n",
    "次の連立方程式の解を求めよ．\n",
    "\n",
    "$$\\left\\{\\begin{eqnarray}\n",
    " 2x_1 +  x_2 + 2x_3 -  x_4  &=& 1 \\\\\n",
    " 4x_1 + 2x_2 + 3x_3 -  x_4  &=& 1 \\\\\n",
    " 6x_1 + 5x_2 + 3x_3 -  x_4  &=& 2 \\\\\n",
    "-2x_1 - 3x_2 + 2x_3 - 2x_4  &=& 1 \\\\\n",
    "\\end{eqnarray} \\right.$$\n",
    "\n",
    "ヒント：Gaussの消去法によりPA=LU分解を行います．"
   ]
  },
  {
   "cell_type": "markdown",
   "metadata": {},
   "source": [
    "*****\n",
    "## 解答\n",
    "\n",
    "連立方程式を行列の形式で表現します．\n",
    "\n",
    "$${\\bf A} =\n",
    "\\left(\\begin{array}{c}\n",
    " 2 &  1 & 2 & -1 \\\\\n",
    " 4 &  2 & 3 & -1 \\\\\n",
    " 6 &  5 & 3 & -1 \\\\\n",
    "-2 & -3 & 2 & -2 \\\\\n",
    "\\end{array}\\right)\n",
    ", \n",
    "{\\bf x} =\n",
    "\\left(\\begin{array}{c}\n",
    "x_1 \\\\ x_2 \\\\ x_3 \\\\ x_4 \\\\\n",
    "\\end{array}\\right)\n",
    ", \n",
    "{\\bf b} =\n",
    "\\left(\\begin{array}{c}\n",
    "1 \\\\ 1 \\\\ 2 \\\\ 1 \\\\\n",
    "\\end{array}\\right)$$\n",
    "\n",
    "と置くと，問題は${\\bf Ax}={\\bf b}$と書けます．"
   ]
  },
  {
   "cell_type": "markdown",
   "metadata": {},
   "source": [
    "解の求め方は，手計算で行いますが，同次にPythonによる計算も実施します．\n",
    "そのためにNumPyライブラリーをインポートします．\n",
    "\n",
    "```Python\n",
    "import numpy as np\n",
    "```"
   ]
  },
  {
   "cell_type": "code",
   "execution_count": 1,
   "metadata": {
    "collapsed": true
   },
   "outputs": [],
   "source": [
    "import numpy as np"
   ]
  },
  {
   "cell_type": "markdown",
   "metadata": {},
   "source": [
    "拡大係数行列$\\tilde{\\bf A}$に対して，Gaussの消去法を適用していきます．\n",
    "\n",
    "$$\\tilde{\\bf A} =\n",
    "\\left(\\begin{array}{cccc:c}\n",
    " 2 &  1 & 2 & -1 & 1 \\\\\n",
    " 4 &  2 & 3 & -1 & 1 \\\\\n",
    " 6 &  5 & 3 & -1 & 2 \\\\\n",
    "-2 & -3 & 2 & -2 & 1 \\\\\n",
    "\\end{array}\\right)$$\n",
    "\n",
    "拡大拡張係数行列をPythonでは，AAという変数名に代入します．\n",
    "\n",
    "```Python\n",
    "AA = np.array([[ 2, 1, 2,-1, 1],\n",
    "               [ 4, 2, 3,-1, 1],\n",
    "               [ 6, 5, 3,-1, 2],\n",
    "               [-2,-3, 2,-2, 1]])\n",
    "AA\n",
    "```"
   ]
  },
  {
   "cell_type": "code",
   "execution_count": 2,
   "metadata": {},
   "outputs": [
    {
     "data": {
      "text/plain": [
       "array([[ 2,  1,  2, -1,  1],\n",
       "       [ 4,  2,  3, -1,  1],\n",
       "       [ 6,  5,  3, -1,  2],\n",
       "       [-2, -3,  2, -2,  1]])"
      ]
     },
     "execution_count": 2,
     "metadata": {},
     "output_type": "execute_result"
    }
   ],
   "source": [
    "AA = np.array([[ 2, 1, 2,-1, 1],\n",
    "               [ 4, 2, 3,-1, 1],\n",
    "               [ 6, 5, 3,-1, 2],\n",
    "               [-2,-3, 2,-2, 1]])\n",
    "AA"
   ]
  },
  {
   "cell_type": "markdown",
   "metadata": {},
   "source": [
    "最初の前進消去です．\n",
    "1列目の2行目以下の値をゼロにするための変換行列として${\\bf R}_1$を次のように定義します．\n",
    "\n",
    "$${\\bf R}_1 =\n",
    "\\left(\\begin{array}{c}\n",
    " 1 & 0 & 0 & 0 \\\\\n",
    "-2 & 1 & 0 & 0 \\\\\n",
    "-3 & 0 & 1 & 0 \\\\\n",
    " 1 & 0 & 0 & 1 \\\\\n",
    "\\end{array}\\right)$$\n",
    "\n",
    "```Python\n",
    "R1 = np.array([[ 1,0,0,0],\n",
    "               [-2,1,0,0],\n",
    "               [-3,0,1,0],\n",
    "               [ 1,0,0,1]])\n",
    "R1\n",
    "```"
   ]
  },
  {
   "cell_type": "code",
   "execution_count": 3,
   "metadata": {},
   "outputs": [
    {
     "data": {
      "text/plain": [
       "array([[ 1,  0,  0,  0],\n",
       "       [-2,  1,  0,  0],\n",
       "       [-3,  0,  1,  0],\n",
       "       [ 1,  0,  0,  1]])"
      ]
     },
     "execution_count": 3,
     "metadata": {},
     "output_type": "execute_result"
    }
   ],
   "source": [
    "R1 = np.array([[ 1,0,0,0],\n",
    "               [-2,1,0,0],\n",
    "               [-3,0,1,0],\n",
    "               [ 1,0,0,1]])\n",
    "R1"
   ]
  },
  {
   "cell_type": "markdown",
   "metadata": {},
   "source": [
    "拡大係数行列の左から${\\bf R}_1$を作用させます．\n",
    "\n",
    "$${\\bf R}_1\\tilde{\\bf A} =\n",
    "\\left(\\begin{array}{c}\n",
    " 1 & 0 & 0 & 0 \\\\\n",
    "-2 & 1 & 0 & 0 \\\\\n",
    "-3 & 0 & 1 & 0 \\\\\n",
    " 1 & 0 & 0 & 1 \\\\\n",
    "\\end{array}\\right)\n",
    "\\left(\\begin{array}{cccc:c}\n",
    " 2 &  1 & 2 & -1 & 1 \\\\\n",
    " 4 &  2 & 3 & -1 & 1 \\\\\n",
    " 6 &  5 & 3 & -1 & 2 \\\\\n",
    "-2 & -3 & 2 & -2 & 1 \\\\\n",
    "\\end{array}\\right)\n",
    "=\n",
    "\\left(\\begin{array}{cccc:c}\n",
    "2 &  1 &  2 & -1 &  1 \\\\\n",
    "0 &  0 & -1 &  1 & -1 \\\\\n",
    "0 &  2 & -3 &  2 & -1 \\\\\n",
    "0 & -2 &  4 & -3 &  2 \\\\\n",
    "\\end{array}\\right) $$\n",
    "\n",
    "行列の掛け算をPythonでは dot()メソッドで実現します．\n",
    "\n",
    "```Python\n",
    "R1.dot(AA)\n",
    "```"
   ]
  },
  {
   "cell_type": "code",
   "execution_count": 4,
   "metadata": {},
   "outputs": [
    {
     "data": {
      "text/plain": [
       "array([[ 2,  1,  2, -1,  1],\n",
       "       [ 0,  0, -1,  1, -1],\n",
       "       [ 0,  2, -3,  2, -1],\n",
       "       [ 0, -2,  4, -3,  2]])"
      ]
     },
     "execution_count": 4,
     "metadata": {},
     "output_type": "execute_result"
    }
   ],
   "source": [
    "R1.dot(AA)"
   ]
  },
  {
   "cell_type": "markdown",
   "metadata": {},
   "source": [
    "この結果として，2行2列目の値がゼロになってしまいました．\n",
    "そこで，2行目と3行目を入替えることにします．\n",
    "この入替えは\n",
    "\n",
    "$${\\bf P} =\n",
    "\\left(\\begin{array}{c}\n",
    "1 & 0 & 0 & 0 \\\\\n",
    "0 & 0 & 1 & 0 \\\\\n",
    "0 & 1 & 0 & 0 \\\\\n",
    "0 & 0 & 0 & 1 \\\\\n",
    "\\end{array}\\right) $$\n",
    "\n",
    "を左から掛けることによって実現します．\n",
    "\n",
    "行列Pを定義します．\n",
    "\n",
    "```Python\n",
    "P = np.array([[1,0,0,0],\n",
    "              [0,0,1,0],\n",
    "              [0,1,0,0],\n",
    "              [0,0,0,1]])\n",
    "P\n",
    "```"
   ]
  },
  {
   "cell_type": "code",
   "execution_count": 5,
   "metadata": {},
   "outputs": [
    {
     "data": {
      "text/plain": [
       "array([[1, 0, 0, 0],\n",
       "       [0, 0, 1, 0],\n",
       "       [0, 1, 0, 0],\n",
       "       [0, 0, 0, 1]])"
      ]
     },
     "execution_count": 5,
     "metadata": {},
     "output_type": "execute_result"
    }
   ],
   "source": [
    "P = np.array([[1,0,0,0],\n",
    "              [0,0,1,0],\n",
    "              [0,1,0,0],\n",
    "              [0,0,0,1]])\n",
    "P"
   ]
  },
  {
   "cell_type": "markdown",
   "metadata": {},
   "source": [
    "行列の積${\\bf P}{\\bf R}_1\\tilde{\\bf A}$を計算します．\n",
    "\n",
    "```Python\n",
    "P.dot(R1.dot(AA))\n",
    "```"
   ]
  },
  {
   "cell_type": "code",
   "execution_count": 6,
   "metadata": {},
   "outputs": [
    {
     "data": {
      "text/plain": [
       "array([[ 2,  1,  2, -1,  1],\n",
       "       [ 0,  2, -3,  2, -1],\n",
       "       [ 0,  0, -1,  1, -1],\n",
       "       [ 0, -2,  4, -3,  2]])"
      ]
     },
     "execution_count": 6,
     "metadata": {},
     "output_type": "execute_result"
    }
   ],
   "source": [
    "P.dot(R1.dot(AA))"
   ]
  },
  {
   "cell_type": "markdown",
   "metadata": {},
   "source": [
    "例によって，連立方程式の並び順を最初から都合の良い順番にするため，行の入替え行列を拡大係数行列に最初に作用するように変更します．\n",
    "\n",
    "$${\\bf P}{\\bf R}_1\\tilde{\\bf A} = ({\\bf P}{\\bf R}_1{\\bf P}){\\bf P}\\tilde{\\bf A}$$\n",
    "\n",
    "この式における$({\\bf P}{\\bf R}_1{\\bf P})$は，計算せずとも2行1列と3行1列の成分を入替えれば求まります．\n",
    "\n",
    "$${\\bf P}{\\bf R}_1{\\bf P} \n",
    "=\n",
    "\\left(\\begin{array}{c}\n",
    "1 & 0 & 0 & 0 \\\\\n",
    "0 & 0 & 1 & 0 \\\\\n",
    "0 & 1 & 0 & 0 \\\\\n",
    "0 & 0 & 0 & 1 \\\\\n",
    "\\end{array}\\right)\n",
    "\\left(\\begin{array}{c}\n",
    " 1 & 0 & 0 & 0 \\\\\n",
    "-2 & 1 & 0 & 0 \\\\\n",
    "-3 & 0 & 1 & 0 \\\\\n",
    " 1 & 0 & 0 & 1 \\\\\n",
    "\\end{array}\\right)\n",
    "\\left(\\begin{array}{c}\n",
    "1 & 0 & 0 & 0 \\\\\n",
    "0 & 0 & 1 & 0 \\\\\n",
    "0 & 1 & 0 & 0 \\\\\n",
    "0 & 0 & 0 & 1 \\\\\n",
    "\\end{array}\\right)\n",
    "=\n",
    "\\left(\\begin{array}{c}\n",
    " 1 & 0 & 0 & 0 \\\\\n",
    "-3 & 1 & 0 & 0 \\\\\n",
    "-2 & 0 & 1 & 0 \\\\\n",
    " 1 & 0 & 0 & 1 \\\\\n",
    "\\end{array}\\right) $$\n",
    "\n",
    "この行列を$\\tilde{\\bf R}_1$と書くことにします．\n",
    "プログラム上での変数名はRR1とします．\n",
    "\n",
    "```Python\n",
    "RR1 = P.dot(R1.dot(P))\n",
    "RR1\n",
    "```"
   ]
  },
  {
   "cell_type": "code",
   "execution_count": 7,
   "metadata": {},
   "outputs": [
    {
     "data": {
      "text/plain": [
       "array([[ 1,  0,  0,  0],\n",
       "       [-3,  1,  0,  0],\n",
       "       [-2,  0,  1,  0],\n",
       "       [ 1,  0,  0,  1]])"
      ]
     },
     "execution_count": 7,
     "metadata": {},
     "output_type": "execute_result"
    }
   ],
   "source": [
    "RR1 = P.dot(R1.dot(P))\n",
    "RR1"
   ]
  },
  {
   "cell_type": "markdown",
   "metadata": {},
   "source": [
    "行列の積$\\tilde{\\bf R}_1{\\bf P}\\tilde{\\bf A}$を計算します．\n",
    "\n",
    "```Python\n",
    "RR1.dot(P.dot(AA))\n",
    "```"
   ]
  },
  {
   "cell_type": "code",
   "execution_count": 8,
   "metadata": {},
   "outputs": [
    {
     "data": {
      "text/plain": [
       "array([[ 2,  1,  2, -1,  1],\n",
       "       [ 0,  2, -3,  2, -1],\n",
       "       [ 0,  0, -1,  1, -1],\n",
       "       [ 0, -2,  4, -3,  2]])"
      ]
     },
     "execution_count": 8,
     "metadata": {},
     "output_type": "execute_result"
    }
   ],
   "source": [
    "RR1.dot(P.dot(AA))"
   ]
  },
  {
   "cell_type": "markdown",
   "metadata": {},
   "source": [
    "前進消去を進めます．\n",
    "\n",
    "$$\\tilde{\\bf R}_1{\\bf P}\\tilde{\\bf A} =\n",
    "\\left(\\begin{array}{cccc:c}\n",
    "2 &  1 &  2 & -1 &  1 \\\\\n",
    "0 &  2 & -3 &  2 & -1 \\\\\n",
    "0 &  0 & -1 &  1 & -1 \\\\\n",
    "0 & -2 &  4 & -3 &  2 \\\\\n",
    "\\end{array}\\right) $$\n",
    "\n",
    "ここから，4行2列目の値をゼロにする行列${\\bf R}_2$を定義します．\n",
    "\n",
    "$${\\bf R}_2 =\n",
    "\\left(\\begin{array}{c}\n",
    "1 & 0 & 0 & 0 \\\\\n",
    "0 & 1 & 0 & 0 \\\\\n",
    "0 & 0 & 1 & 0 \\\\\n",
    "0 & 1 & 0 & 1 \\\\\n",
    "\\end{array}\\right)$$\n",
    "\n",
    "```Python\n",
    "R2 = np.array([[1,0,0,0],\n",
    "               [0,1,0,0],\n",
    "               [0,0,1,0],\n",
    "               [0,1,0,1]])\n",
    "R2\n",
    "```"
   ]
  },
  {
   "cell_type": "code",
   "execution_count": 9,
   "metadata": {},
   "outputs": [
    {
     "data": {
      "text/plain": [
       "array([[1, 0, 0, 0],\n",
       "       [0, 1, 0, 0],\n",
       "       [0, 0, 1, 0],\n",
       "       [0, 1, 0, 1]])"
      ]
     },
     "execution_count": 9,
     "metadata": {},
     "output_type": "execute_result"
    }
   ],
   "source": [
    "R2 = np.array([[1,0,0,0],\n",
    "               [0,1,0,0],\n",
    "               [0,0,1,0],\n",
    "               [0,1,0,1]])\n",
    "R2"
   ]
  },
  {
   "cell_type": "markdown",
   "metadata": {},
   "source": [
    "$${\\bf R}_2 \\tilde{\\bf R}_1{\\bf P}\\tilde{\\bf A} \n",
    "=\n",
    "\\left(\\begin{array}{c}\n",
    "1 & 0 & 0 & 0 \\\\\n",
    "0 & 1 & 0 & 0 \\\\\n",
    "0 & 0 & 1 & 0 \\\\\n",
    "0 & 1 & 0 & 1 \\\\\n",
    "\\end{array}\\right)\n",
    "\\left(\\begin{array}{cccc:c}\n",
    "2 &  1 &  2 & -1 &  1 \\\\\n",
    "0 &  2 & -3 &  2 & -1 \\\\\n",
    "0 &  0 & -1 &  1 & -1 \\\\\n",
    "0 & -2 &  4 & -3 &  2 \\\\\n",
    "\\end{array}\\right) \n",
    "=\n",
    "\\left(\\begin{array}{cccc:c}\n",
    "2 & 1 &  2 & -1 &  1 \\\\\n",
    "0 & 2 & -3 &  2 & -1 \\\\\n",
    "0 & 0 & -1 &  1 & -1 \\\\\n",
    "0 & 0 &  1 & -1 &  1 \\\\\n",
    "\\end{array}\\right) $$\n",
    "\n",
    "${\\bf R}_2$を$\\tilde{\\bf R}_1{\\bf P}\\tilde{\\bf A}$に掛けます．\n",
    "\n",
    "```Python\n",
    "R2.dot(RR1.dot(P.dot(AA)))\n",
    "```"
   ]
  },
  {
   "cell_type": "code",
   "execution_count": 10,
   "metadata": {},
   "outputs": [
    {
     "data": {
      "text/plain": [
       "array([[ 2,  1,  2, -1,  1],\n",
       "       [ 0,  2, -3,  2, -1],\n",
       "       [ 0,  0, -1,  1, -1],\n",
       "       [ 0,  0,  1, -1,  1]])"
      ]
     },
     "execution_count": 10,
     "metadata": {},
     "output_type": "execute_result"
    }
   ],
   "source": [
    "R2.dot(RR1.dot(P.dot(AA)))"
   ]
  },
  {
   "cell_type": "markdown",
   "metadata": {},
   "source": [
    "次に，4行3列目の値をゼロにする行列${\\bf R}_3$を定義します．\n",
    "\n",
    "$${\\bf R}_3 =\n",
    "\\left(\\begin{array}{c}\n",
    "1 & 0 & 0 & 0 \\\\\n",
    "0 & 1 & 0 & 0 \\\\\n",
    "0 & 0 & 1 & 0 \\\\\n",
    "0 & 0 & 1 & 1 \\\\\n",
    "\\end{array}\\right)$$\n",
    "\n",
    "```Python\n",
    "R3 = np.array([[1,0,0,0],\n",
    "               [0,1,0,0],\n",
    "               [0,0,1,0],\n",
    "               [0,0,1,1]])\n",
    "R3\n",
    "```"
   ]
  },
  {
   "cell_type": "code",
   "execution_count": 11,
   "metadata": {},
   "outputs": [
    {
     "data": {
      "text/plain": [
       "array([[1, 0, 0, 0],\n",
       "       [0, 1, 0, 0],\n",
       "       [0, 0, 1, 0],\n",
       "       [0, 0, 1, 1]])"
      ]
     },
     "execution_count": 11,
     "metadata": {},
     "output_type": "execute_result"
    }
   ],
   "source": [
    "R3 = np.array([[1,0,0,0],\n",
    "               [0,1,0,0],\n",
    "               [0,0,1,0],\n",
    "               [0,0,1,1]])\n",
    "R3"
   ]
  },
  {
   "cell_type": "markdown",
   "metadata": {},
   "source": [
    "$${\\bf R}_3 {\\bf R}_2 \\tilde{\\bf R}_1{\\bf P}\\tilde{\\bf A} \n",
    "=\n",
    "\\left(\\begin{array}{c}\n",
    "1 & 0 & 0 & 0 \\\\\n",
    "0 & 1 & 0 & 0 \\\\\n",
    "0 & 0 & 1 & 0 \\\\\n",
    "0 & 0 & 1 & 1 \\\\\n",
    "\\end{array}\\right)\n",
    "\\left(\\begin{array}{cccc:c}\n",
    "2 &  1 &  2 & -1 &  1 \\\\\n",
    "0 &  2 & -3 &  2 & -1 \\\\\n",
    "0 &  0 & -1 &  1 & -1 \\\\\n",
    "0 & 0 &  1 & -1 &  1 \\\\\n",
    "\\end{array}\\right) \n",
    "=\n",
    "\\left(\\begin{array}{cccc:c}\n",
    "2 & 1 &  2 & -1 &  1 \\\\\n",
    "0 & 2 & -3 &  2 & -1 \\\\\n",
    "0 & 0 & -1 &  1 & -1 \\\\\n",
    "0 & 0 &  0 &  0 &  0 \\\\\n",
    "\\end{array}\\right) $$\n",
    "\n",
    "この結果，4行4列目もゼロになってしまったので，前進消去はここで終了です．\n",
    "\n",
    "```Python\n",
    "R3.dot(R2.dot(RR1.dot(P.dot(AA))))\n",
    "```"
   ]
  },
  {
   "cell_type": "code",
   "execution_count": 12,
   "metadata": {},
   "outputs": [
    {
     "data": {
      "text/plain": [
       "array([[ 2,  1,  2, -1,  1],\n",
       "       [ 0,  2, -3,  2, -1],\n",
       "       [ 0,  0, -1,  1, -1],\n",
       "       [ 0,  0,  0,  0,  0]])"
      ]
     },
     "execution_count": 12,
     "metadata": {},
     "output_type": "execute_result"
    }
   ],
   "source": [
    "R3.dot(R2.dot(RR1.dot(P.dot(AA))))"
   ]
  },
  {
   "cell_type": "markdown",
   "metadata": {},
   "source": [
    "なお，この計算では括弧が多くなりプログラムが見にくくなります．\n",
    "そこで，行列の積の結合法則を用いて次のように書き換えることができます．\n",
    "\n",
    "```Python\n",
    "R3.dot(R2).dot(RR1).dot(P).dot(AA)\n",
    "```"
   ]
  },
  {
   "cell_type": "code",
   "execution_count": 13,
   "metadata": {},
   "outputs": [
    {
     "data": {
      "text/plain": [
       "array([[ 2,  1,  2, -1,  1],\n",
       "       [ 0,  2, -3,  2, -1],\n",
       "       [ 0,  0, -1,  1, -1],\n",
       "       [ 0,  0,  0,  0,  0]])"
      ]
     },
     "execution_count": 13,
     "metadata": {},
     "output_type": "execute_result"
    }
   ],
   "source": [
    "R3.dot(R2).dot(RR1).dot(P).dot(AA)"
   ]
  },
  {
   "cell_type": "markdown",
   "metadata": {},
   "source": [
    "この結果から5列目を除いた行列が係数行列に対応する階段行列$\\bf U$です．\n",
    "\n",
    "```Python\n",
    "U = R3.dot(R2.dot(RR1.dot(P.dot(AA))))[:,:4]\n",
    "U\n",
    "```"
   ]
  },
  {
   "cell_type": "code",
   "execution_count": 14,
   "metadata": {},
   "outputs": [
    {
     "data": {
      "text/plain": [
       "array([[ 2,  1,  2, -1],\n",
       "       [ 0,  2, -3,  2],\n",
       "       [ 0,  0, -1,  1],\n",
       "       [ 0,  0,  0,  0]])"
      ]
     },
     "execution_count": 14,
     "metadata": {},
     "output_type": "execute_result"
    }
   ],
   "source": [
    "U = R3.dot(R2.dot(RR1.dot(P.dot(AA))))[:,:4]\n",
    "U"
   ]
  },
  {
   "cell_type": "markdown",
   "metadata": {},
   "source": [
    "LU分解における行列$\\bf L$は，\n",
    "\n",
    "$${\\bf L} = {\\tilde{\\bf R}_1}^{-1} {{\\bf R}_2}^{-1} {\\tilde{\\bf R}_3}^{-1}\n",
    "=\n",
    "\\left(\\begin{array}{c}\n",
    " 1 &  0 &  0 & 0 \\\\\n",
    " 3 &  1 &  0 & 0 \\\\\n",
    " 2 &  0 &  1 & 0 \\\\\n",
    "-1 & -1 & -1 & 1 \\\\\n",
    "\\end{array}\\right)$$\n",
    "\n",
    "となります．\n",
    "\n",
    "```Python\n",
    "L = np.linalg.inv(RR1).dot(np.linalg.inv(R2)).dot(np.linalg.inv(R3))\n",
    "L\n",
    "```"
   ]
  },
  {
   "cell_type": "code",
   "execution_count": 15,
   "metadata": {},
   "outputs": [
    {
     "data": {
      "text/plain": [
       "array([[ 1.,  0.,  0.,  0.],\n",
       "       [ 3.,  1.,  0.,  0.],\n",
       "       [ 2.,  0.,  1.,  0.],\n",
       "       [-1., -1., -1.,  1.]])"
      ]
     },
     "execution_count": 15,
     "metadata": {},
     "output_type": "execute_result"
    }
   ],
   "source": [
    "L = np.linalg.inv(RR1).dot(np.linalg.inv(R2)).dot(np.linalg.inv(R3))\n",
    "L"
   ]
  },
  {
   "cell_type": "markdown",
   "metadata": {},
   "source": [
    "確かに${\\bf LU}={\\bf PA}$となっていることがPythonによる計算で確認できます．\n",
    "\n",
    "```Python\n",
    "L.dot(U)\n",
    "```"
   ]
  },
  {
   "cell_type": "code",
   "execution_count": 16,
   "metadata": {},
   "outputs": [
    {
     "data": {
      "text/plain": [
       "array([[ 2.,  1.,  2., -1.],\n",
       "       [ 6.,  5.,  3., -1.],\n",
       "       [ 4.,  2.,  3., -1.],\n",
       "       [-2., -3.,  2., -2.]])"
      ]
     },
     "execution_count": 16,
     "metadata": {},
     "output_type": "execute_result"
    }
   ],
   "source": [
    "L.dot(U)"
   ]
  },
  {
   "cell_type": "markdown",
   "metadata": {},
   "source": [
    "最終的な階段行列と変数との関係を確認します．\n",
    "\n",
    "$$\\left(\\begin{array}{cccc:c}\n",
    "x_1 & x_2 & x_3 & x_4 \\\\ \\hline\n",
    "2 & 1 &  2 & -1 &  1 \\\\\n",
    "0 & 2 & -3 &  2 & -1 \\\\\n",
    "0 & 0 & -1 &  1 & -1 \\\\\n",
    "0 & 0 &  0 &  0 &  0 \\\\\n",
    "\\end{array}\\right) $$\n",
    "\n",
    "この結果，変数$x_4$にはピボットが無いので自由変数となります．"
   ]
  },
  {
   "cell_type": "markdown",
   "metadata": {},
   "source": [
    "この後は，後退代入によって，変数の値を求めていきます．\n",
    "最後に求まった行列を方程式の形に戻します．\n",
    "\n",
    "$$\\left\\{\\begin{eqnarray}\n",
    "2x_1 +  x_2 + 2x_3 -  x_4 &=&  1 & \\cdots (1) \\\\\n",
    "       2x_2 - 3x_3 + 2x_4 &=& -1 & \\cdots (2) \\\\\n",
    "            -  x_3 +  x_4 &=& -1 & \\cdots (3) \\\\\n",
    "\\end{eqnarray} \\right.$$"
   ]
  },
  {
   "cell_type": "markdown",
   "metadata": {},
   "source": [
    "$x_4$は自由変数なので，\n",
    "\n",
    "$$x_4=t$$\n",
    "\n",
    "と置きます．\n",
    "式(3)より，\n",
    "\n",
    "$$x_3 = x_4 + 1 = t+1$$\n",
    "\n",
    "が求まります．\n",
    "次に式(2)より，\n",
    "\n",
    "$$x_2 = \\frac{1}{2}(3x_3-2x_4-1) = \\frac{1}{2} \\{3{\\cdot}(t+1) - 2t -1 \\} = \\frac{1}{2}t+1$$\n",
    "\n",
    "が求まります．\n",
    "最後に式(1)より，\n",
    "\n",
    "$$x_1 = \\frac{1}{2} \\{ -x_2-2x_3+x_4+1 \\} = \\frac{1}{2} \\{ -(\\frac{1}{2}t+1)-2(t+1)+t+1 \\} = -\\frac{3}{4}t-1$$\n",
    "\n",
    "となります．\n",
    "これをまとめると，ベクトル$\\bf x$が求まります．"
   ]
  },
  {
   "cell_type": "markdown",
   "metadata": {},
   "source": [
    "> ${\\bf x} =\n",
    "\\left(\\begin{array}{c}\n",
    "-\\frac{3}{4}t-1 \\\\\n",
    "\\frac{1}{2}t+1 \\\\\n",
    "t+1 \\\\\n",
    "t \\\\\n",
    "\\end{array}\\right)$\n",
    "$=\n",
    "\\left(\\begin{array}{c}\n",
    "-3 \\\\\n",
    "2 \\\\\n",
    "4 \\\\\n",
    "4 \\\\\n",
    "\\end{array}\\right) \\frac{t}{4}\n",
    "+\n",
    "\\left(\\begin{array}{c}\n",
    "-1 \\\\\n",
    "1 \\\\\n",
    "1 \\\\\n",
    "0 \\\\\n",
    "\\end{array}\\right) $\n",
    "\n",
    "これが，問題の連立方程式の一般解です．\n",
    "\n",
    "これで課題の解答は完了しました．\n",
    "参考として別の解法も紹介します．"
   ]
  },
  {
   "cell_type": "markdown",
   "metadata": {},
   "source": [
    "*****\n",
    "## SciPyライブラリーによる解\n",
    "\n",
    "参考までに，SciPyライブラリーのlinalg.lu_factor()関数による解を見て見ましょう．\n",
    "\n",
    "まずはSciPyライブラリーをインポートします．\n",
    "\n",
    "```Python\n",
    "import scipy.linalg as linalg\n",
    "```"
   ]
  },
  {
   "cell_type": "code",
   "execution_count": 17,
   "metadata": {
    "collapsed": true
   },
   "outputs": [],
   "source": [
    "import scipy.linalg as linalg"
   ]
  },
  {
   "cell_type": "markdown",
   "metadata": {},
   "source": [
    "linalg.lu_factor()関数によってLU分解を実施します．\n",
    "\n",
    "```Python\n",
    "LU = linalg.lu_factor(AA[:,:4])\n",
    "LU\n",
    "```"
   ]
  },
  {
   "cell_type": "code",
   "execution_count": 18,
   "metadata": {},
   "outputs": [
    {
     "data": {
      "text/plain": [
       "(array([[  6.00000000e+00,   5.00000000e+00,   3.00000000e+00,\n",
       "          -1.00000000e+00],\n",
       "        [ -3.33333333e-01,  -1.33333333e+00,   3.00000000e+00,\n",
       "          -2.33333333e+00],\n",
       "        [  6.66666667e-01,   1.00000000e+00,  -2.00000000e+00,\n",
       "           2.00000000e+00],\n",
       "        [  3.33333333e-01,   5.00000000e-01,   2.50000000e-01,\n",
       "           5.55111512e-17]]), array([2, 3, 3, 3], dtype=int32))"
      ]
     },
     "execution_count": 18,
     "metadata": {},
     "output_type": "execute_result"
    }
   ],
   "source": [
    "LU = linalg.lu_factor(AA[:,:4])\n",
    "LU"
   ]
  },
  {
   "cell_type": "markdown",
   "metadata": {},
   "source": [
    "定数項を与えて，連立方程式の解を求めます．\n",
    "\n",
    "```Python\n",
    "linalg.lu_solve(LU,np.array([1,1,2,1]))\n",
    "```"
   ]
  },
  {
   "cell_type": "code",
   "execution_count": 19,
   "metadata": {},
   "outputs": [
    {
     "data": {
      "text/plain": [
       "array([-0.25,  0.5 ,  0.  , -1.  ])"
      ]
     },
     "execution_count": 19,
     "metadata": {},
     "output_type": "execute_result"
    }
   ],
   "source": [
    "linalg.lu_solve(LU,np.array([1,1,2,1]))"
   ]
  },
  {
   "cell_type": "markdown",
   "metadata": {},
   "source": [
    "このベクトル\n",
    "$\\left(\\begin{array}{c}\n",
    "-0.25 \\\\ 0.5 \\\\ 0 \\\\ -1 \\\\  \n",
    "\\end{array}\\right)$\n",
    "は，上で求めた一般解において$t=-1$と置いた値になっています．\n",
    "\n",
    "このlinalg.lu_factor()関数を使えば簡単に答えが出ますが，\n",
    "解が無限にある場合の解空間の構造を明確にしてくれるわけではありません．\n",
    "ツールを使うだけの人にならないようにしましょう．"
   ]
  },
  {
   "cell_type": "markdown",
   "metadata": {},
   "source": [
    "*****"
   ]
  }
 ],
 "metadata": {
  "kernelspec": {
   "display_name": "Python 3",
   "language": "python",
   "name": "python3"
  },
  "language_info": {
   "codemirror_mode": {
    "name": "ipython",
    "version": 3
   },
   "file_extension": ".py",
   "mimetype": "text/x-python",
   "name": "python",
   "nbconvert_exporter": "python",
   "pygments_lexer": "ipython3",
   "version": "3.6.1"
  }
 },
 "nbformat": 4,
 "nbformat_minor": 2
}
