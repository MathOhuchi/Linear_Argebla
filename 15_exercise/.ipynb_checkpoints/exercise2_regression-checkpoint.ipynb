{
 "cells": [
  {
   "cell_type": "markdown",
   "metadata": {},
   "source": [
    "# 総合演習問題 - 2\n",
    "\n",
    "次のデータは，ある果物の糖度に対する試薬の効果を測定したものです．\n",
    "各行はそれぞれの条件で育成した各グループごとの平均値です．\n",
    "\n",
    "このデータを元にして，日照時間，平均気温，試薬量を説明変数として糖度を目的変数とする回帰直線の式を求めよ．\n",
    "\n",
    "| 糖度 | 日照時間 | 平均気温 | 試薬量 |\n",
    "| :---:|:---:| :---:| :---:|\n",
    "| 19.0 | 199 | 28.1 | 1.44 |\n",
    "| 17.9 | 206 | 18.0 | 1.32 |\n",
    "| 19.6 | 196 | 24.8 | 1.24 |\n",
    "| 16.1 | 163 | 19.7 | 1.47 |\n",
    "| 12.7 | 146 | 24.9 | 1.39 |\n",
    "| 14.4 | 158 | 18.4 | 1.43 |\n",
    "| 16.0 | 140 | 21.2 | 1.49 |\n",
    "| 21.9 | 210 | 26.0 | 1.47 |\n",
    "| 13.8 | 165 | 25.8 | 1.22 |\n",
    "| 19.0 | 217 | 17.5 | 1.35 |\n",
    "\n",
    "ただし，糖度を（日照時間，平均温度，試薬量）より構成されるベクトル空間へ射影作用素を求めることを使って，Pythonで求めよ．  \n",
    "回帰直線の式は，\n",
    "\n",
    "> $[糖度] = 係数_1[日照時間] + 係数_2[平均温度] + 係数_3[試薬量] + 定数項$\n",
    "\n",
    "です．"
   ]
  },
  {
   "cell_type": "markdown",
   "metadata": {},
   "source": [
    "#### ヒント\n",
    "\n",
    "定数項も考慮して，回帰式の係数となる変数を $x_1$：日照時間，$x_2$：平均温度，$x_3$：試薬量，$x_4$：定数項，として，\n",
    "${\\bf x} =\n",
    "\\left(\\begin{array}{c}\n",
    "x_1 \\\\ x_2 \\\\ x_3 \\\\ x_4 \\\\\n",
    "\\end{array}\\right)$\n",
    "とします．  \n",
    "すると，これに対応する説明変数からなる係数行列$\\bf A$および，目的変数を$\\bf b$として，行列方程式${\\bf Ax}={\\bf b}$を定義します．  \n",
    "このとき，ベクトル$\\bf b$を係数行列$\\bf A$の列ベクトル空間へ射影したときの係数は，\n",
    "\n",
    "> ${\\bf x} = ({\\bf A}^\\mathsf{T}{\\bf A})^{-1}{\\bf A}^\\mathsf{T}{\\bf b}$\n",
    "\n",
    "となります．"
   ]
  },
  {
   "cell_type": "markdown",
   "metadata": {},
   "source": [
    "Pythonでデータ入力が必要になりますので，下記の記述をコピーしてご使用ください．\n",
    "\n",
    "```Python\n",
    "A = np.array([\n",
    "    [ 199, 28.1, 1.44, 1 ],\n",
    "    [ 206, 18.0, 1.32, 1 ],\n",
    "    [ 196, 24.8, 1.24, 1 ],\n",
    "    [ 163, 19.7, 1.47, 1 ],\n",
    "    [ 146, 24.9, 1.39, 1 ],\n",
    "    [ 158, 18.4, 1.43, 1 ],\n",
    "    [ 140, 21.2, 1.49, 1 ],\n",
    "    [ 210, 26.0, 1.47, 1 ],\n",
    "    [ 165, 25.8, 1.22, 1 ],\n",
    "    [ 217, 17.5, 1.35, 1 ]])\n",
    "\n",
    "b = np.array([19.0,17.9,19.6,16.1,12.7,14.4,16.0,21.9,13.8,19.0])\n",
    "```"
   ]
  },
  {
   "cell_type": "markdown",
   "metadata": {},
   "source": [
    "*****\n",
    "## 解答\n",
    "\n",
    "まず最初にNumPyライブラリーをインポートします．\n",
    "\n",
    "```Python\n",
    "import numpy as np\n",
    "```"
   ]
  },
  {
   "cell_type": "code",
   "execution_count": null,
   "metadata": {
    "collapsed": true
   },
   "outputs": [],
   "source": []
  },
  {
   "cell_type": "markdown",
   "metadata": {},
   "source": [
    "方程式${\\bf Ax}={\\bf b}$の係数行列$\\bf A$と定数ベクトル$\\bf b$を定義します．\n",
    "\n",
    "```Python\n",
    "A = np.array([\n",
    "    [ 199, 28.1, 1.44, 1 ],\n",
    "    [ 206, 18.0, 1.32, 1 ],\n",
    "    [ 196, 24.8, 1.24, 1 ],\n",
    "    [ 163, 19.7, 1.47, 1 ],\n",
    "    [ 146, 24.9, 1.39, 1 ],\n",
    "    [ 158, 18.4, 1.43, 1 ],\n",
    "    [ 140, 21.2, 1.49, 1 ],\n",
    "    [ 210, 26.0, 1.47, 1 ],\n",
    "    [ 165, 25.8, 1.22, 1 ],\n",
    "    [ 217, 17.5, 1.35, 1 ]])\n",
    "A\n",
    "```"
   ]
  },
  {
   "cell_type": "code",
   "execution_count": null,
   "metadata": {},
   "outputs": [],
   "source": []
  },
  {
   "cell_type": "markdown",
   "metadata": {},
   "source": [
    "定数ベクトル${\\bf b}$を定義します．\n",
    "\n",
    "```Python\n",
    "b = np.array([19.0,17.9,19.6,16.1,12.7,14.4,16.0,21.9,13.8,19.0])\n",
    "b\n",
    "```"
   ]
  },
  {
   "cell_type": "code",
   "execution_count": null,
   "metadata": {},
   "outputs": [],
   "source": []
  },
  {
   "cell_type": "markdown",
   "metadata": {},
   "source": [
    "係数行列のランクを調べます．\n",
    "各列ベクトルが線形独立であれば，$\\text{Rank}({\\bf A})=4$ となります．\n",
    "\n",
    "```Python\n",
    "np.linalg.matrix_rank(A)\n",
    "```"
   ]
  },
  {
   "cell_type": "code",
   "execution_count": null,
   "metadata": {},
   "outputs": [],
   "source": []
  },
  {
   "cell_type": "markdown",
   "metadata": {},
   "source": [
    "これにより，${\\bf A}^\\mathsf{T}{\\bf A}$のランクも4となるので，この逆行列が存在します．\n",
    "したがって，行列$\\bf A$の列ベクトル空間への射影ベクトルの係数を求める作用素は，\n",
    "\n",
    "> $({\\bf A}^\\mathsf{T}{\\bf A})^{-1}{\\bf A}^\\mathsf{T}$\n",
    "\n",
    "となります．Pythonでは，次の命令になります．\n",
    "\n",
    "> numpy.linalg.inv(A.T.dot(A)).dot(A.T)\n",
    "\n",
    "```Python\n",
    "Solve = np.linalg.inv(A.T.dot(A)).dot(A.T)\n",
    "Solve\n",
    "```"
   ]
  },
  {
   "cell_type": "code",
   "execution_count": null,
   "metadata": {},
   "outputs": [],
   "source": []
  },
  {
   "cell_type": "markdown",
   "metadata": {},
   "source": [
    "この作用素を目的変数であるベクトル$\\bf b$に作用させれば，回帰式の係数$\\bf x$が求まります．\n",
    "\n",
    "```Python\n",
    "x = Solve.dot(b)\n",
    "x\n",
    "```"
   ]
  },
  {
   "cell_type": "code",
   "execution_count": null,
   "metadata": {},
   "outputs": [],
   "source": []
  },
  {
   "cell_type": "markdown",
   "metadata": {},
   "source": [
    "さらに，目的変数$\\bf b$を行列$\\bf A$の列ベクトル空間に射影した値は次のようになります．\n",
    "\n",
    "```Python\n",
    "A.dot(x)\n",
    "```"
   ]
  },
  {
   "cell_type": "code",
   "execution_count": null,
   "metadata": {},
   "outputs": [],
   "source": []
  },
  {
   "cell_type": "markdown",
   "metadata": {},
   "source": [
    "以上で，線形代数の射影による回帰式が求まりました．\n",
    "\n",
    "模範解答はここまでとしますが，おまけでscikit-learnによる解法も掲載します．"
   ]
  },
  {
   "cell_type": "markdown",
   "metadata": {},
   "source": [
    "*****\n",
    "## scikit-learnによる解法\n",
    "\n",
    "機械学習ライブラリーであるscikit-learnの線形回帰分析用モジュールである<font color=blue>linear_model</font>による解法について説明します．\n",
    "\n",
    "まず，モジュールをインポートして，線形回帰モデルのオブジェクトを作成します．\n",
    "そして，そのオブジェクトにデータを引き渡すことにより回帰分析を実施します．\n",
    "\n",
    "```Python\n",
    "from sklearn import linear_model\n",
    "reg = linear_model.LinearRegression()\n",
    "reg.fit (A[:,:3],b)\n",
    "```"
   ]
  },
  {
   "cell_type": "code",
   "execution_count": null,
   "metadata": {},
   "outputs": [],
   "source": []
  },
  {
   "cell_type": "markdown",
   "metadata": {},
   "source": [
    "線形回帰モデルが構築されました． この線形回帰モデルの係数は reg.coef\\_ という変数に保管されています．\n",
    "\n",
    "```Python\n",
    "reg.coef_\n",
    "```"
   ]
  },
  {
   "cell_type": "code",
   "execution_count": null,
   "metadata": {},
   "outputs": [],
   "source": []
  },
  {
   "cell_type": "markdown",
   "metadata": {},
   "source": [
    "回帰直線の y切片は reg.intercept\\_ という変数に保管されています．\n",
    "\n",
    "```Python\n",
    "reg.intercept_\n",
    "```"
   ]
  },
  {
   "cell_type": "code",
   "execution_count": null,
   "metadata": {},
   "outputs": [],
   "source": []
  },
  {
   "cell_type": "markdown",
   "metadata": {},
   "source": [
    "生成された線形回帰モデルを用いて予測を行う場合は，reg.predict()メソッドを利用します．  \n",
    "ここでは，元のデータの説明変数を引数として予測を行ってみます．\n",
    "\n",
    "```Python\n",
    "reg.predict(A[:,:3])\n",
    "```"
   ]
  },
  {
   "cell_type": "code",
   "execution_count": null,
   "metadata": {},
   "outputs": [],
   "source": []
  },
  {
   "cell_type": "markdown",
   "metadata": {},
   "source": [
    "以上でscikit-learnによる解法の説明を終わります．\n",
    "*****"
   ]
  }
 ],
 "metadata": {
  "kernelspec": {
   "display_name": "Python 3",
   "language": "python",
   "name": "python3"
  },
  "language_info": {
   "codemirror_mode": {
    "name": "ipython",
    "version": 3
   },
   "file_extension": ".py",
   "mimetype": "text/x-python",
   "name": "python",
   "nbconvert_exporter": "python",
   "pygments_lexer": "ipython3",
   "version": "3.6.1"
  }
 },
 "nbformat": 4,
 "nbformat_minor": 2
}
